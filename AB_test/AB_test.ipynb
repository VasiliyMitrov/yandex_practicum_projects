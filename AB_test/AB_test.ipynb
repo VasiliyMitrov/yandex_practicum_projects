{
 "cells": [
  {
   "cell_type": "markdown",
   "metadata": {},
   "source": [
    "# Проект: A/B-тест сравнения двух групп по кнверсии и среднему чеку в интернет - магазине."
   ]
  },
  {
   "cell_type": "markdown",
   "metadata": {},
   "source": [
    "# Описание проекта"
   ]
  },
  {
   "cell_type": "markdown",
   "metadata": {},
   "source": [
    "**Я— аналитик крупного интернет-магазина. Вместе с отделом маркетинга мц подготовили список гипотез для увеличения выручки.**"
   ]
  },
  {
   "cell_type": "markdown",
   "metadata": {},
   "source": [
    "**Цель исследования**\n",
    "\n",
    "* Приоритизировать гипотезы,\n",
    "* Запуститить A/B-тест\n",
    "* Проанализировать результаты"
   ]
  },
  {
   "cell_type": "markdown",
   "metadata": {},
   "source": [
    "## Изучение данных "
   ]
  },
  {
   "cell_type": "markdown",
   "metadata": {},
   "source": [
    "### Импортируем библиотеки, выводим таблицы и знакомимся с данными"
   ]
  },
  {
   "cell_type": "code",
   "execution_count": 1,
   "metadata": {},
   "outputs": [],
   "source": [
    "import pandas as pd\n",
    "import scipy.stats as stats\n",
    "import datetime as dt\n",
    "import numpy as np\n",
    "import matplotlib.pyplot as plt \n",
    "from pandas.plotting import register_matplotlib_converters\n",
    "import seaborn as sns \n",
    "import math\n",
    "import warnings\n",
    "warnings.filterwarnings('ignore')\n",
    "\n",
    "pd.set_option('display.max_colwidth', 1000) #вывод всех символов в записях\n",
    "register_matplotlib_converters()"
   ]
  },
  {
   "cell_type": "code",
   "execution_count": 2,
   "metadata": {},
   "outputs": [],
   "source": [
    "orders = pd.read_csv('/data/orders.csv')\n",
    "visitors = pd.read_csv('/data/visitors.csv')\n",
    "hypothesis = pd.read_csv('/data/hypothesis.csv')"
   ]
  },
  {
   "cell_type": "markdown",
   "metadata": {},
   "source": [
    "**Выводим первые 5 строк таблицы c данными (и так по каждой из трёх)**"
   ]
  },
  {
   "cell_type": "markdown",
   "metadata": {},
   "source": [
    "**Получаем общую информацию о таблице( и так по каждой из трёх)**"
   ]
  },
  {
   "cell_type": "code",
   "execution_count": 3,
   "metadata": {},
   "outputs": [
    {
     "name": "stdout",
     "output_type": "stream",
     "text": [
      "<class 'pandas.core.frame.DataFrame'>\n",
      "RangeIndex: 1197 entries, 0 to 1196\n",
      "Data columns (total 5 columns):\n",
      " #   Column         Non-Null Count  Dtype \n",
      "---  ------         --------------  ----- \n",
      " 0   transactionId  1197 non-null   int64 \n",
      " 1   visitorId      1197 non-null   int64 \n",
      " 2   date           1197 non-null   object\n",
      " 3   revenue        1197 non-null   int64 \n",
      " 4   group          1197 non-null   object\n",
      "dtypes: int64(3), object(2)\n",
      "memory usage: 46.9+ KB\n"
     ]
    },
    {
     "data": {
      "text/html": [
       "<div>\n",
       "<style scoped>\n",
       "    .dataframe tbody tr th:only-of-type {\n",
       "        vertical-align: middle;\n",
       "    }\n",
       "\n",
       "    .dataframe tbody tr th {\n",
       "        vertical-align: top;\n",
       "    }\n",
       "\n",
       "    .dataframe thead th {\n",
       "        text-align: right;\n",
       "    }\n",
       "</style>\n",
       "<table border=\"1\" class=\"dataframe\">\n",
       "  <thead>\n",
       "    <tr style=\"text-align: right;\">\n",
       "      <th></th>\n",
       "      <th>transactionId</th>\n",
       "      <th>visitorId</th>\n",
       "      <th>date</th>\n",
       "      <th>revenue</th>\n",
       "      <th>group</th>\n",
       "    </tr>\n",
       "  </thead>\n",
       "  <tbody>\n",
       "    <tr>\n",
       "      <th>0</th>\n",
       "      <td>3667963787</td>\n",
       "      <td>3312258926</td>\n",
       "      <td>2019-08-15</td>\n",
       "      <td>1650</td>\n",
       "      <td>B</td>\n",
       "    </tr>\n",
       "    <tr>\n",
       "      <th>1</th>\n",
       "      <td>2804400009</td>\n",
       "      <td>3642806036</td>\n",
       "      <td>2019-08-15</td>\n",
       "      <td>730</td>\n",
       "      <td>B</td>\n",
       "    </tr>\n",
       "    <tr>\n",
       "      <th>2</th>\n",
       "      <td>2961555356</td>\n",
       "      <td>4069496402</td>\n",
       "      <td>2019-08-15</td>\n",
       "      <td>400</td>\n",
       "      <td>A</td>\n",
       "    </tr>\n",
       "    <tr>\n",
       "      <th>3</th>\n",
       "      <td>3797467345</td>\n",
       "      <td>1196621759</td>\n",
       "      <td>2019-08-15</td>\n",
       "      <td>9759</td>\n",
       "      <td>B</td>\n",
       "    </tr>\n",
       "    <tr>\n",
       "      <th>4</th>\n",
       "      <td>2282983706</td>\n",
       "      <td>2322279887</td>\n",
       "      <td>2019-08-15</td>\n",
       "      <td>2308</td>\n",
       "      <td>B</td>\n",
       "    </tr>\n",
       "  </tbody>\n",
       "</table>\n",
       "</div>"
      ],
      "text/plain": [
       "   transactionId   visitorId        date  revenue group\n",
       "0     3667963787  3312258926  2019-08-15     1650     B\n",
       "1     2804400009  3642806036  2019-08-15      730     B\n",
       "2     2961555356  4069496402  2019-08-15      400     A\n",
       "3     3797467345  1196621759  2019-08-15     9759     B\n",
       "4     2282983706  2322279887  2019-08-15     2308     B"
      ]
     },
     "execution_count": 3,
     "metadata": {},
     "output_type": "execute_result"
    }
   ],
   "source": [
    "orders.info()\n",
    "orders.head()"
   ]
  },
  {
   "cell_type": "code",
   "execution_count": 4,
   "metadata": {},
   "outputs": [
    {
     "name": "stdout",
     "output_type": "stream",
     "text": [
      "<class 'pandas.core.frame.DataFrame'>\n",
      "RangeIndex: 62 entries, 0 to 61\n",
      "Data columns (total 3 columns):\n",
      " #   Column    Non-Null Count  Dtype \n",
      "---  ------    --------------  ----- \n",
      " 0   date      62 non-null     object\n",
      " 1   group     62 non-null     object\n",
      " 2   visitors  62 non-null     int64 \n",
      "dtypes: int64(1), object(2)\n",
      "memory usage: 1.6+ KB\n"
     ]
    },
    {
     "data": {
      "text/html": [
       "<div>\n",
       "<style scoped>\n",
       "    .dataframe tbody tr th:only-of-type {\n",
       "        vertical-align: middle;\n",
       "    }\n",
       "\n",
       "    .dataframe tbody tr th {\n",
       "        vertical-align: top;\n",
       "    }\n",
       "\n",
       "    .dataframe thead th {\n",
       "        text-align: right;\n",
       "    }\n",
       "</style>\n",
       "<table border=\"1\" class=\"dataframe\">\n",
       "  <thead>\n",
       "    <tr style=\"text-align: right;\">\n",
       "      <th></th>\n",
       "      <th>date</th>\n",
       "      <th>group</th>\n",
       "      <th>visitors</th>\n",
       "    </tr>\n",
       "  </thead>\n",
       "  <tbody>\n",
       "    <tr>\n",
       "      <th>0</th>\n",
       "      <td>2019-08-01</td>\n",
       "      <td>A</td>\n",
       "      <td>719</td>\n",
       "    </tr>\n",
       "    <tr>\n",
       "      <th>1</th>\n",
       "      <td>2019-08-02</td>\n",
       "      <td>A</td>\n",
       "      <td>619</td>\n",
       "    </tr>\n",
       "    <tr>\n",
       "      <th>2</th>\n",
       "      <td>2019-08-03</td>\n",
       "      <td>A</td>\n",
       "      <td>507</td>\n",
       "    </tr>\n",
       "    <tr>\n",
       "      <th>3</th>\n",
       "      <td>2019-08-04</td>\n",
       "      <td>A</td>\n",
       "      <td>717</td>\n",
       "    </tr>\n",
       "    <tr>\n",
       "      <th>4</th>\n",
       "      <td>2019-08-05</td>\n",
       "      <td>A</td>\n",
       "      <td>756</td>\n",
       "    </tr>\n",
       "  </tbody>\n",
       "</table>\n",
       "</div>"
      ],
      "text/plain": [
       "         date group  visitors\n",
       "0  2019-08-01     A       719\n",
       "1  2019-08-02     A       619\n",
       "2  2019-08-03     A       507\n",
       "3  2019-08-04     A       717\n",
       "4  2019-08-05     A       756"
      ]
     },
     "execution_count": 4,
     "metadata": {},
     "output_type": "execute_result"
    }
   ],
   "source": [
    "visitors.info()\n",
    "visitors.head()"
   ]
  },
  {
   "cell_type": "code",
   "execution_count": 5,
   "metadata": {},
   "outputs": [
    {
     "name": "stdout",
     "output_type": "stream",
     "text": [
      "<class 'pandas.core.frame.DataFrame'>\n",
      "RangeIndex: 9 entries, 0 to 8\n",
      "Data columns (total 5 columns):\n",
      " #   Column      Non-Null Count  Dtype \n",
      "---  ------      --------------  ----- \n",
      " 0   Hypothesis  9 non-null      object\n",
      " 1   Reach       9 non-null      int64 \n",
      " 2   Impact      9 non-null      int64 \n",
      " 3   Confidence  9 non-null      int64 \n",
      " 4   Efforts     9 non-null      int64 \n",
      "dtypes: int64(4), object(1)\n",
      "memory usage: 488.0+ bytes\n"
     ]
    },
    {
     "data": {
      "text/html": [
       "<div>\n",
       "<style scoped>\n",
       "    .dataframe tbody tr th:only-of-type {\n",
       "        vertical-align: middle;\n",
       "    }\n",
       "\n",
       "    .dataframe tbody tr th {\n",
       "        vertical-align: top;\n",
       "    }\n",
       "\n",
       "    .dataframe thead th {\n",
       "        text-align: right;\n",
       "    }\n",
       "</style>\n",
       "<table border=\"1\" class=\"dataframe\">\n",
       "  <thead>\n",
       "    <tr style=\"text-align: right;\">\n",
       "      <th></th>\n",
       "      <th>Hypothesis</th>\n",
       "      <th>Reach</th>\n",
       "      <th>Impact</th>\n",
       "      <th>Confidence</th>\n",
       "      <th>Efforts</th>\n",
       "    </tr>\n",
       "  </thead>\n",
       "  <tbody>\n",
       "    <tr>\n",
       "      <th>0</th>\n",
       "      <td>Добавить два новых канала привлечения трафика, что позволит привлекать на 30% больше пользователей</td>\n",
       "      <td>3</td>\n",
       "      <td>10</td>\n",
       "      <td>8</td>\n",
       "      <td>6</td>\n",
       "    </tr>\n",
       "    <tr>\n",
       "      <th>1</th>\n",
       "      <td>Запустить собственную службу доставки, что сократит срок доставки заказов</td>\n",
       "      <td>2</td>\n",
       "      <td>5</td>\n",
       "      <td>4</td>\n",
       "      <td>10</td>\n",
       "    </tr>\n",
       "    <tr>\n",
       "      <th>2</th>\n",
       "      <td>Добавить блоки рекомендаций товаров на сайт интернет магазина, чтобы повысить конверсию и средний чек заказа</td>\n",
       "      <td>8</td>\n",
       "      <td>3</td>\n",
       "      <td>7</td>\n",
       "      <td>3</td>\n",
       "    </tr>\n",
       "    <tr>\n",
       "      <th>3</th>\n",
       "      <td>Изменить структура категорий, что увеличит конверсию, т.к. пользователи быстрее найдут нужный товар</td>\n",
       "      <td>8</td>\n",
       "      <td>3</td>\n",
       "      <td>3</td>\n",
       "      <td>8</td>\n",
       "    </tr>\n",
       "    <tr>\n",
       "      <th>4</th>\n",
       "      <td>Изменить цвет фона главной страницы, чтобы увеличить вовлеченность пользователей</td>\n",
       "      <td>3</td>\n",
       "      <td>1</td>\n",
       "      <td>1</td>\n",
       "      <td>1</td>\n",
       "    </tr>\n",
       "  </tbody>\n",
       "</table>\n",
       "</div>"
      ],
      "text/plain": [
       "                                                                                                     Hypothesis  \\\n",
       "0            Добавить два новых канала привлечения трафика, что позволит привлекать на 30% больше пользователей   \n",
       "1                                     Запустить собственную службу доставки, что сократит срок доставки заказов   \n",
       "2  Добавить блоки рекомендаций товаров на сайт интернет магазина, чтобы повысить конверсию и средний чек заказа   \n",
       "3           Изменить структура категорий, что увеличит конверсию, т.к. пользователи быстрее найдут нужный товар   \n",
       "4                              Изменить цвет фона главной страницы, чтобы увеличить вовлеченность пользователей   \n",
       "\n",
       "   Reach  Impact  Confidence  Efforts  \n",
       "0      3      10           8        6  \n",
       "1      2       5           4       10  \n",
       "2      8       3           7        3  \n",
       "3      8       3           3        8  \n",
       "4      3       1           1        1  "
      ]
     },
     "execution_count": 5,
     "metadata": {},
     "output_type": "execute_result"
    }
   ],
   "source": [
    "hypothesis.info()\n",
    "hypothesis.head()"
   ]
  },
  {
   "cell_type": "markdown",
   "metadata": {},
   "source": [
    "### Вывод:"
   ]
  },
  {
   "cell_type": "markdown",
   "metadata": {},
   "source": [
    "**В нашем распоряжении 3 таблицы:**\n",
    "\n",
    "**1. `hypothesis`(Данные для первой части) - 5 столбцов, 9  строк записей, 2 типа данных: `int64` и  `object`.**\n",
    "\n",
    "**Структура**\n",
    "* `Hypothesis` - краткое описание гипотезы;\n",
    "* `Reach` - охват пользователей по 10-балльной шкале;\n",
    "* `Impact` - влияние на пользователей по 10-балльной шкале;\n",
    "* `Confidence` - уверенность в гипотезе по 10-балльной шкале;\n",
    "* `Efforts` - затраты ресурсов на проверку гипотезы по 10-балльной шкале. Чем больше значение `Efforts`, тем дороже проверка гипотезы.\n",
    "\n",
    "**2. `orders`(Данные для второй части) - 5 столбцов, 1197 строк записей, 2 типа данных: `int64` и `object`.**\n",
    "\n",
    "**Структура**\n",
    "* `transactionId` - идентификатор заказа;\n",
    "* `visitorId` - идентификатор пользователя, совершившего заказ;\n",
    "* `date` - дата, когда был совершён заказ;\n",
    "* `revenue` - выручка заказа;\n",
    "* `group` - группа A/B-теста, в которую попал заказ.\n",
    "\n",
    "**3. `visitors`(Данные для второй части) - 3 столбца, 62 строки записей, 2 типа данных: `int64` и `object`.**\n",
    "\n",
    "**Структура**\n",
    "* `date` - дата;\n",
    "* `group` - группа A/B-теста;\n",
    "* `visitors` - количество пользователей в указанную дату в указанной группе A/B-теста.\n",
    "\n",
    "**В названиях колонок видны нарушения стиля:**\n",
    "* Необходимо привести к нижнему регистру столбцы таблицы `hypothesis`.\n",
    "\n",
    "**Так же необходимо изменить тип данных в некоторых столбцах в таблицах `orders` и `visitors`.**"
   ]
  },
  {
   "cell_type": "markdown",
   "metadata": {},
   "source": [
    "### Предобработка данных"
   ]
  },
  {
   "cell_type": "markdown",
   "metadata": {},
   "source": [
    "#### Стиль заголовков"
   ]
  },
  {
   "cell_type": "markdown",
   "metadata": {},
   "source": [
    "**Начнём с прееимнования столбцов всех таблиц и приведём их к нижнему регистру**"
   ]
  },
  {
   "cell_type": "markdown",
   "metadata": {},
   "source": [
    "**Выведем на экран названия столбцов:**"
   ]
  },
  {
   "cell_type": "code",
   "execution_count": 6,
   "metadata": {},
   "outputs": [
    {
     "name": "stdout",
     "output_type": "stream",
     "text": [
      "Index(['Hypothesis', 'Reach', 'Impact', 'Confidence', 'Efforts'], dtype='object')\n",
      "Index(['transactionId', 'visitorId', 'date', 'revenue', 'group'], dtype='object')\n",
      "Index(['date', 'group', 'visitors'], dtype='object')\n"
     ]
    }
   ],
   "source": [
    "print(hypothesis.columns)\n",
    "print(orders.columns)\n",
    "print(visitors.columns)"
   ]
  },
  {
   "cell_type": "markdown",
   "metadata": {},
   "source": [
    "**Приведем столбцы к нижнему регистру**"
   ]
  },
  {
   "cell_type": "code",
   "execution_count": 7,
   "metadata": {},
   "outputs": [],
   "source": [
    "hypothesis.columns = hypothesis.columns.str.lower()"
   ]
  },
  {
   "cell_type": "markdown",
   "metadata": {},
   "source": [
    "**Проверим**"
   ]
  },
  {
   "cell_type": "code",
   "execution_count": 8,
   "metadata": {},
   "outputs": [
    {
     "name": "stdout",
     "output_type": "stream",
     "text": [
      "Index(['hypothesis', 'reach', 'impact', 'confidence', 'efforts'], dtype='object')\n",
      "Index(['transactionId', 'visitorId', 'date', 'revenue', 'group'], dtype='object')\n",
      "Index(['date', 'group', 'visitors'], dtype='object')\n"
     ]
    }
   ],
   "source": [
    "#Таблицы приведены к единому стилю \n",
    "print(hypothesis.columns)\n",
    "print(orders.columns)\n",
    "print(visitors.columns)"
   ]
  },
  {
   "cell_type": "markdown",
   "metadata": {},
   "source": [
    "#### Тип данных"
   ]
  },
  {
   "cell_type": "markdown",
   "metadata": {},
   "source": [
    "**В двух таблицах есть столбцы с датами, которые имею тип `object`, а именно:**\n",
    "* `orders` - `date`\n",
    "* `visitors` - `date`\n",
    "\n",
    "**Для дальнейшей работы необходимо изменить их тип на datetime**"
   ]
  },
  {
   "cell_type": "code",
   "execution_count": 9,
   "metadata": {},
   "outputs": [],
   "source": [
    "#для таблицы orders\n",
    "orders['date'] = pd.to_datetime(orders['date'])"
   ]
  },
  {
   "cell_type": "code",
   "execution_count": 10,
   "metadata": {},
   "outputs": [
    {
     "name": "stdout",
     "output_type": "stream",
     "text": [
      "<class 'pandas.core.frame.DataFrame'>\n",
      "RangeIndex: 1197 entries, 0 to 1196\n",
      "Data columns (total 5 columns):\n",
      " #   Column         Non-Null Count  Dtype         \n",
      "---  ------         --------------  -----         \n",
      " 0   transactionId  1197 non-null   int64         \n",
      " 1   visitorId      1197 non-null   int64         \n",
      " 2   date           1197 non-null   datetime64[ns]\n",
      " 3   revenue        1197 non-null   int64         \n",
      " 4   group          1197 non-null   object        \n",
      "dtypes: datetime64[ns](1), int64(3), object(1)\n",
      "memory usage: 46.9+ KB\n"
     ]
    }
   ],
   "source": [
    "orders.info() #проверяем"
   ]
  },
  {
   "cell_type": "code",
   "execution_count": 11,
   "metadata": {},
   "outputs": [],
   "source": [
    "#для таблицы visitors\n",
    "visitors['date'] = pd.to_datetime(visitors['date'])"
   ]
  },
  {
   "cell_type": "code",
   "execution_count": 12,
   "metadata": {},
   "outputs": [
    {
     "name": "stdout",
     "output_type": "stream",
     "text": [
      "<class 'pandas.core.frame.DataFrame'>\n",
      "RangeIndex: 62 entries, 0 to 61\n",
      "Data columns (total 3 columns):\n",
      " #   Column    Non-Null Count  Dtype         \n",
      "---  ------    --------------  -----         \n",
      " 0   date      62 non-null     datetime64[ns]\n",
      " 1   group     62 non-null     object        \n",
      " 2   visitors  62 non-null     int64         \n",
      "dtypes: datetime64[ns](1), int64(1), object(1)\n",
      "memory usage: 1.6+ KB\n"
     ]
    }
   ],
   "source": [
    "visitors.info() #проверяем"
   ]
  },
  {
   "cell_type": "markdown",
   "metadata": {},
   "source": [
    "**Тип данных в таблицах изменён**"
   ]
  },
  {
   "cell_type": "markdown",
   "metadata": {},
   "source": [
    "#### Дубликаты"
   ]
  },
  {
   "cell_type": "markdown",
   "metadata": {},
   "source": [
    "**Проверим таблицы на отстутствие дубликатов**"
   ]
  },
  {
   "cell_type": "code",
   "execution_count": 13,
   "metadata": {},
   "outputs": [
    {
     "data": {
      "text/plain": [
       "0"
      ]
     },
     "execution_count": 13,
     "metadata": {},
     "output_type": "execute_result"
    }
   ],
   "source": [
    "hypothesis.duplicated().sum()"
   ]
  },
  {
   "cell_type": "code",
   "execution_count": 14,
   "metadata": {},
   "outputs": [
    {
     "data": {
      "text/plain": [
       "0"
      ]
     },
     "execution_count": 14,
     "metadata": {},
     "output_type": "execute_result"
    }
   ],
   "source": [
    "orders.duplicated().sum()"
   ]
  },
  {
   "cell_type": "code",
   "execution_count": 15,
   "metadata": {},
   "outputs": [
    {
     "data": {
      "text/plain": [
       "0"
      ]
     },
     "execution_count": 15,
     "metadata": {},
     "output_type": "execute_result"
    }
   ],
   "source": [
    "visitors.duplicated().sum()"
   ]
  },
  {
   "cell_type": "markdown",
   "metadata": {},
   "source": [
    "**Дубликаты отсутствуют**"
   ]
  },
  {
   "cell_type": "markdown",
   "metadata": {},
   "source": [
    "#### Пропуски"
   ]
  },
  {
   "cell_type": "markdown",
   "metadata": {},
   "source": [
    "**Посмотрим пропуски**"
   ]
  },
  {
   "cell_type": "code",
   "execution_count": 16,
   "metadata": {},
   "outputs": [
    {
     "data": {
      "text/plain": [
       "hypothesis    0\n",
       "reach         0\n",
       "impact        0\n",
       "confidence    0\n",
       "efforts       0\n",
       "dtype: int64"
      ]
     },
     "execution_count": 16,
     "metadata": {},
     "output_type": "execute_result"
    }
   ],
   "source": [
    "hypothesis.isna().sum()"
   ]
  },
  {
   "cell_type": "code",
   "execution_count": 17,
   "metadata": {},
   "outputs": [
    {
     "data": {
      "text/plain": [
       "transactionId    0\n",
       "visitorId        0\n",
       "date             0\n",
       "revenue          0\n",
       "group            0\n",
       "dtype: int64"
      ]
     },
     "execution_count": 17,
     "metadata": {},
     "output_type": "execute_result"
    }
   ],
   "source": [
    "orders.isna().sum()"
   ]
  },
  {
   "cell_type": "code",
   "execution_count": 18,
   "metadata": {},
   "outputs": [
    {
     "data": {
      "text/plain": [
       "date        0\n",
       "group       0\n",
       "visitors    0\n",
       "dtype: int64"
      ]
     },
     "execution_count": 18,
     "metadata": {},
     "output_type": "execute_result"
    }
   ],
   "source": [
    "visitors.isna().sum()"
   ]
  },
  {
   "cell_type": "markdown",
   "metadata": {},
   "source": [
    "**Пропуски отсутствуют**"
   ]
  },
  {
   "cell_type": "markdown",
   "metadata": {},
   "source": [
    "**Посмотрим, наличие пользователей, которые попали в 2 теста одновременно**"
   ]
  },
  {
   "cell_type": "code",
   "execution_count": 19,
   "metadata": {},
   "outputs": [
    {
     "data": {
      "text/plain": [
       "58"
      ]
     },
     "execution_count": 19,
     "metadata": {},
     "output_type": "execute_result"
    }
   ],
   "source": [
    "two_groups_users = orders.groupby('visitorId').agg({'group':'nunique'})\n",
    "two_groups_users = two_groups_users.query('group > 1')\n",
    "two_groups_users['group'].count()"
   ]
  },
  {
   "cell_type": "markdown",
   "metadata": {},
   "source": [
    "**Таким образом мы наблюдаем 58 пользователей, которые находятся в группах А и В нашего теста одновременно.**"
   ]
  },
  {
   "cell_type": "markdown",
   "metadata": {},
   "source": [
    "### Вывод:"
   ]
  },
  {
   "cell_type": "markdown",
   "metadata": {},
   "source": [
    "**Провели предобработку и подготовили наши данные к дальнейшему исследованию.**\n",
    "\n",
    "**А именно:**\n",
    "* Исправили заголовки столбцов и привели их к \"хорошему\" стилю\n",
    "* Изменили тип данных в таблицах с датами\n",
    "* Проверили таблицы на наличие дубликатов (дубликатов нет)\n",
    "* Проверили таблицы на наличие пропусков (пропусков нет"
   ]
  },
  {
   "cell_type": "markdown",
   "metadata": {},
   "source": [
    "## Часть 1. Приоритизация гипотез."
   ]
  },
  {
   "cell_type": "markdown",
   "metadata": {},
   "source": [
    "**Задачи:**\n",
    "* Применить фреймворк ICE для приоритизации гипотез. Отсортировать их по убыванию приоритета.\n",
    "* Применить фреймворк RICE для приоритизации гипотез. Отсортировать их по убыванию приоритета.\n",
    "* Указать, как изменилась приоритизация гипотез при применении RICE вместо ICE. Объяснить, почему так произошло."
   ]
  },
  {
   "cell_type": "markdown",
   "metadata": {},
   "source": [
    "### Применим фреймворк ICE для приоритизации гипотез. Отсортируем их по убыванию приоритета."
   ]
  },
  {
   "cell_type": "code",
   "execution_count": 20,
   "metadata": {},
   "outputs": [
    {
     "data": {
      "text/html": [
       "<div>\n",
       "<style scoped>\n",
       "    .dataframe tbody tr th:only-of-type {\n",
       "        vertical-align: middle;\n",
       "    }\n",
       "\n",
       "    .dataframe tbody tr th {\n",
       "        vertical-align: top;\n",
       "    }\n",
       "\n",
       "    .dataframe thead th {\n",
       "        text-align: right;\n",
       "    }\n",
       "</style>\n",
       "<table border=\"1\" class=\"dataframe\">\n",
       "  <thead>\n",
       "    <tr style=\"text-align: right;\">\n",
       "      <th></th>\n",
       "      <th>hypothesis</th>\n",
       "      <th>reach</th>\n",
       "      <th>impact</th>\n",
       "      <th>confidence</th>\n",
       "      <th>efforts</th>\n",
       "    </tr>\n",
       "  </thead>\n",
       "  <tbody>\n",
       "    <tr>\n",
       "      <th>0</th>\n",
       "      <td>Добавить два новых канала привлечения трафика, что позволит привлекать на 30% больше пользователей</td>\n",
       "      <td>3</td>\n",
       "      <td>10</td>\n",
       "      <td>8</td>\n",
       "      <td>6</td>\n",
       "    </tr>\n",
       "    <tr>\n",
       "      <th>1</th>\n",
       "      <td>Запустить собственную службу доставки, что сократит срок доставки заказов</td>\n",
       "      <td>2</td>\n",
       "      <td>5</td>\n",
       "      <td>4</td>\n",
       "      <td>10</td>\n",
       "    </tr>\n",
       "    <tr>\n",
       "      <th>2</th>\n",
       "      <td>Добавить блоки рекомендаций товаров на сайт интернет магазина, чтобы повысить конверсию и средний чек заказа</td>\n",
       "      <td>8</td>\n",
       "      <td>3</td>\n",
       "      <td>7</td>\n",
       "      <td>3</td>\n",
       "    </tr>\n",
       "    <tr>\n",
       "      <th>3</th>\n",
       "      <td>Изменить структура категорий, что увеличит конверсию, т.к. пользователи быстрее найдут нужный товар</td>\n",
       "      <td>8</td>\n",
       "      <td>3</td>\n",
       "      <td>3</td>\n",
       "      <td>8</td>\n",
       "    </tr>\n",
       "    <tr>\n",
       "      <th>4</th>\n",
       "      <td>Изменить цвет фона главной страницы, чтобы увеличить вовлеченность пользователей</td>\n",
       "      <td>3</td>\n",
       "      <td>1</td>\n",
       "      <td>1</td>\n",
       "      <td>1</td>\n",
       "    </tr>\n",
       "    <tr>\n",
       "      <th>5</th>\n",
       "      <td>Добавить страницу отзывов клиентов о магазине, что позволит увеличить количество заказов</td>\n",
       "      <td>3</td>\n",
       "      <td>2</td>\n",
       "      <td>2</td>\n",
       "      <td>3</td>\n",
       "    </tr>\n",
       "    <tr>\n",
       "      <th>6</th>\n",
       "      <td>Показать на главной странице баннеры с актуальными акциями и распродажами, чтобы увеличить конверсию</td>\n",
       "      <td>5</td>\n",
       "      <td>3</td>\n",
       "      <td>8</td>\n",
       "      <td>3</td>\n",
       "    </tr>\n",
       "    <tr>\n",
       "      <th>7</th>\n",
       "      <td>Добавить форму подписки на все основные страницы, чтобы собрать базу клиентов для email-рассылок</td>\n",
       "      <td>10</td>\n",
       "      <td>7</td>\n",
       "      <td>8</td>\n",
       "      <td>5</td>\n",
       "    </tr>\n",
       "    <tr>\n",
       "      <th>8</th>\n",
       "      <td>Запустить акцию, дающую скидку на товар в день рождения</td>\n",
       "      <td>1</td>\n",
       "      <td>9</td>\n",
       "      <td>9</td>\n",
       "      <td>5</td>\n",
       "    </tr>\n",
       "  </tbody>\n",
       "</table>\n",
       "</div>"
      ],
      "text/plain": [
       "                                                                                                     hypothesis  \\\n",
       "0            Добавить два новых канала привлечения трафика, что позволит привлекать на 30% больше пользователей   \n",
       "1                                     Запустить собственную службу доставки, что сократит срок доставки заказов   \n",
       "2  Добавить блоки рекомендаций товаров на сайт интернет магазина, чтобы повысить конверсию и средний чек заказа   \n",
       "3           Изменить структура категорий, что увеличит конверсию, т.к. пользователи быстрее найдут нужный товар   \n",
       "4                              Изменить цвет фона главной страницы, чтобы увеличить вовлеченность пользователей   \n",
       "5                      Добавить страницу отзывов клиентов о магазине, что позволит увеличить количество заказов   \n",
       "6          Показать на главной странице баннеры с актуальными акциями и распродажами, чтобы увеличить конверсию   \n",
       "7              Добавить форму подписки на все основные страницы, чтобы собрать базу клиентов для email-рассылок   \n",
       "8                                                       Запустить акцию, дающую скидку на товар в день рождения   \n",
       "\n",
       "   reach  impact  confidence  efforts  \n",
       "0      3      10           8        6  \n",
       "1      2       5           4       10  \n",
       "2      8       3           7        3  \n",
       "3      8       3           3        8  \n",
       "4      3       1           1        1  \n",
       "5      3       2           2        3  \n",
       "6      5       3           8        3  \n",
       "7     10       7           8        5  \n",
       "8      1       9           9        5  "
      ]
     },
     "execution_count": 20,
     "metadata": {},
     "output_type": "execute_result"
    }
   ],
   "source": [
    "hypothesis"
   ]
  },
  {
   "cell_type": "markdown",
   "metadata": {},
   "source": [
    "**Посчитаем `ICE` для гипотез. Добавим полученные значения `ICE` к существующей таблице. Новый столбец назовём `ICE`**"
   ]
  },
  {
   "cell_type": "code",
   "execution_count": 21,
   "metadata": {},
   "outputs": [],
   "source": [
    "hypothesis['ICE'] = (hypothesis['impact'] * hypothesis['confidence']) / hypothesis['efforts']"
   ]
  },
  {
   "cell_type": "code",
   "execution_count": 22,
   "metadata": {},
   "outputs": [],
   "source": [
    "ice = hypothesis[['hypothesis','ICE']].sort_values(by='ICE', ascending=False).round(2)"
   ]
  },
  {
   "cell_type": "code",
   "execution_count": 23,
   "metadata": {},
   "outputs": [
    {
     "data": {
      "text/html": [
       "<div>\n",
       "<style scoped>\n",
       "    .dataframe tbody tr th:only-of-type {\n",
       "        vertical-align: middle;\n",
       "    }\n",
       "\n",
       "    .dataframe tbody tr th {\n",
       "        vertical-align: top;\n",
       "    }\n",
       "\n",
       "    .dataframe thead th {\n",
       "        text-align: right;\n",
       "    }\n",
       "</style>\n",
       "<table border=\"1\" class=\"dataframe\">\n",
       "  <thead>\n",
       "    <tr style=\"text-align: right;\">\n",
       "      <th></th>\n",
       "      <th>hypothesis</th>\n",
       "      <th>ICE</th>\n",
       "    </tr>\n",
       "  </thead>\n",
       "  <tbody>\n",
       "    <tr>\n",
       "      <th>8</th>\n",
       "      <td>Запустить акцию, дающую скидку на товар в день рождения</td>\n",
       "      <td>16.20</td>\n",
       "    </tr>\n",
       "    <tr>\n",
       "      <th>0</th>\n",
       "      <td>Добавить два новых канала привлечения трафика, что позволит привлекать на 30% больше пользователей</td>\n",
       "      <td>13.33</td>\n",
       "    </tr>\n",
       "    <tr>\n",
       "      <th>7</th>\n",
       "      <td>Добавить форму подписки на все основные страницы, чтобы собрать базу клиентов для email-рассылок</td>\n",
       "      <td>11.20</td>\n",
       "    </tr>\n",
       "    <tr>\n",
       "      <th>6</th>\n",
       "      <td>Показать на главной странице баннеры с актуальными акциями и распродажами, чтобы увеличить конверсию</td>\n",
       "      <td>8.00</td>\n",
       "    </tr>\n",
       "    <tr>\n",
       "      <th>2</th>\n",
       "      <td>Добавить блоки рекомендаций товаров на сайт интернет магазина, чтобы повысить конверсию и средний чек заказа</td>\n",
       "      <td>7.00</td>\n",
       "    </tr>\n",
       "    <tr>\n",
       "      <th>1</th>\n",
       "      <td>Запустить собственную службу доставки, что сократит срок доставки заказов</td>\n",
       "      <td>2.00</td>\n",
       "    </tr>\n",
       "    <tr>\n",
       "      <th>5</th>\n",
       "      <td>Добавить страницу отзывов клиентов о магазине, что позволит увеличить количество заказов</td>\n",
       "      <td>1.33</td>\n",
       "    </tr>\n",
       "    <tr>\n",
       "      <th>3</th>\n",
       "      <td>Изменить структура категорий, что увеличит конверсию, т.к. пользователи быстрее найдут нужный товар</td>\n",
       "      <td>1.12</td>\n",
       "    </tr>\n",
       "    <tr>\n",
       "      <th>4</th>\n",
       "      <td>Изменить цвет фона главной страницы, чтобы увеличить вовлеченность пользователей</td>\n",
       "      <td>1.00</td>\n",
       "    </tr>\n",
       "  </tbody>\n",
       "</table>\n",
       "</div>"
      ],
      "text/plain": [
       "                                                                                                     hypothesis  \\\n",
       "8                                                       Запустить акцию, дающую скидку на товар в день рождения   \n",
       "0            Добавить два новых канала привлечения трафика, что позволит привлекать на 30% больше пользователей   \n",
       "7              Добавить форму подписки на все основные страницы, чтобы собрать базу клиентов для email-рассылок   \n",
       "6          Показать на главной странице баннеры с актуальными акциями и распродажами, чтобы увеличить конверсию   \n",
       "2  Добавить блоки рекомендаций товаров на сайт интернет магазина, чтобы повысить конверсию и средний чек заказа   \n",
       "1                                     Запустить собственную службу доставки, что сократит срок доставки заказов   \n",
       "5                      Добавить страницу отзывов клиентов о магазине, что позволит увеличить количество заказов   \n",
       "3           Изменить структура категорий, что увеличит конверсию, т.к. пользователи быстрее найдут нужный товар   \n",
       "4                              Изменить цвет фона главной страницы, чтобы увеличить вовлеченность пользователей   \n",
       "\n",
       "     ICE  \n",
       "8  16.20  \n",
       "0  13.33  \n",
       "7  11.20  \n",
       "6   8.00  \n",
       "2   7.00  \n",
       "1   2.00  \n",
       "5   1.33  \n",
       "3   1.12  \n",
       "4   1.00  "
      ]
     },
     "execution_count": 23,
     "metadata": {},
     "output_type": "execute_result"
    }
   ],
   "source": [
    "ice"
   ]
  },
  {
   "cell_type": "markdown",
   "metadata": {},
   "source": [
    "### Применим фреймворк RICE для приоритизации гипотез. Отсортируем их по убыванию приоритета."
   ]
  },
  {
   "cell_type": "code",
   "execution_count": 24,
   "metadata": {},
   "outputs": [
    {
     "data": {
      "text/html": [
       "<div>\n",
       "<style scoped>\n",
       "    .dataframe tbody tr th:only-of-type {\n",
       "        vertical-align: middle;\n",
       "    }\n",
       "\n",
       "    .dataframe tbody tr th {\n",
       "        vertical-align: top;\n",
       "    }\n",
       "\n",
       "    .dataframe thead th {\n",
       "        text-align: right;\n",
       "    }\n",
       "</style>\n",
       "<table border=\"1\" class=\"dataframe\">\n",
       "  <thead>\n",
       "    <tr style=\"text-align: right;\">\n",
       "      <th></th>\n",
       "      <th>hypothesis</th>\n",
       "      <th>reach</th>\n",
       "      <th>impact</th>\n",
       "      <th>confidence</th>\n",
       "      <th>efforts</th>\n",
       "      <th>ICE</th>\n",
       "    </tr>\n",
       "  </thead>\n",
       "  <tbody>\n",
       "    <tr>\n",
       "      <th>0</th>\n",
       "      <td>Добавить два новых канала привлечения трафика, что позволит привлекать на 30% больше пользователей</td>\n",
       "      <td>3</td>\n",
       "      <td>10</td>\n",
       "      <td>8</td>\n",
       "      <td>6</td>\n",
       "      <td>13.0</td>\n",
       "    </tr>\n",
       "    <tr>\n",
       "      <th>1</th>\n",
       "      <td>Запустить собственную службу доставки, что сократит срок доставки заказов</td>\n",
       "      <td>2</td>\n",
       "      <td>5</td>\n",
       "      <td>4</td>\n",
       "      <td>10</td>\n",
       "      <td>2.0</td>\n",
       "    </tr>\n",
       "    <tr>\n",
       "      <th>2</th>\n",
       "      <td>Добавить блоки рекомендаций товаров на сайт интернет магазина, чтобы повысить конверсию и средний чек заказа</td>\n",
       "      <td>8</td>\n",
       "      <td>3</td>\n",
       "      <td>7</td>\n",
       "      <td>3</td>\n",
       "      <td>7.0</td>\n",
       "    </tr>\n",
       "    <tr>\n",
       "      <th>3</th>\n",
       "      <td>Изменить структура категорий, что увеличит конверсию, т.к. пользователи быстрее найдут нужный товар</td>\n",
       "      <td>8</td>\n",
       "      <td>3</td>\n",
       "      <td>3</td>\n",
       "      <td>8</td>\n",
       "      <td>1.0</td>\n",
       "    </tr>\n",
       "    <tr>\n",
       "      <th>4</th>\n",
       "      <td>Изменить цвет фона главной страницы, чтобы увеличить вовлеченность пользователей</td>\n",
       "      <td>3</td>\n",
       "      <td>1</td>\n",
       "      <td>1</td>\n",
       "      <td>1</td>\n",
       "      <td>1.0</td>\n",
       "    </tr>\n",
       "    <tr>\n",
       "      <th>5</th>\n",
       "      <td>Добавить страницу отзывов клиентов о магазине, что позволит увеличить количество заказов</td>\n",
       "      <td>3</td>\n",
       "      <td>2</td>\n",
       "      <td>2</td>\n",
       "      <td>3</td>\n",
       "      <td>1.0</td>\n",
       "    </tr>\n",
       "    <tr>\n",
       "      <th>6</th>\n",
       "      <td>Показать на главной странице баннеры с актуальными акциями и распродажами, чтобы увеличить конверсию</td>\n",
       "      <td>5</td>\n",
       "      <td>3</td>\n",
       "      <td>8</td>\n",
       "      <td>3</td>\n",
       "      <td>8.0</td>\n",
       "    </tr>\n",
       "    <tr>\n",
       "      <th>7</th>\n",
       "      <td>Добавить форму подписки на все основные страницы, чтобы собрать базу клиентов для email-рассылок</td>\n",
       "      <td>10</td>\n",
       "      <td>7</td>\n",
       "      <td>8</td>\n",
       "      <td>5</td>\n",
       "      <td>11.0</td>\n",
       "    </tr>\n",
       "    <tr>\n",
       "      <th>8</th>\n",
       "      <td>Запустить акцию, дающую скидку на товар в день рождения</td>\n",
       "      <td>1</td>\n",
       "      <td>9</td>\n",
       "      <td>9</td>\n",
       "      <td>5</td>\n",
       "      <td>16.0</td>\n",
       "    </tr>\n",
       "  </tbody>\n",
       "</table>\n",
       "</div>"
      ],
      "text/plain": [
       "                                                                                                     hypothesis  \\\n",
       "0            Добавить два новых канала привлечения трафика, что позволит привлекать на 30% больше пользователей   \n",
       "1                                     Запустить собственную службу доставки, что сократит срок доставки заказов   \n",
       "2  Добавить блоки рекомендаций товаров на сайт интернет магазина, чтобы повысить конверсию и средний чек заказа   \n",
       "3           Изменить структура категорий, что увеличит конверсию, т.к. пользователи быстрее найдут нужный товар   \n",
       "4                              Изменить цвет фона главной страницы, чтобы увеличить вовлеченность пользователей   \n",
       "5                      Добавить страницу отзывов клиентов о магазине, что позволит увеличить количество заказов   \n",
       "6          Показать на главной странице баннеры с актуальными акциями и распродажами, чтобы увеличить конверсию   \n",
       "7              Добавить форму подписки на все основные страницы, чтобы собрать базу клиентов для email-рассылок   \n",
       "8                                                       Запустить акцию, дающую скидку на товар в день рождения   \n",
       "\n",
       "   reach  impact  confidence  efforts   ICE  \n",
       "0      3      10           8        6  13.0  \n",
       "1      2       5           4       10   2.0  \n",
       "2      8       3           7        3   7.0  \n",
       "3      8       3           3        8   1.0  \n",
       "4      3       1           1        1   1.0  \n",
       "5      3       2           2        3   1.0  \n",
       "6      5       3           8        3   8.0  \n",
       "7     10       7           8        5  11.0  \n",
       "8      1       9           9        5  16.0  "
      ]
     },
     "execution_count": 24,
     "metadata": {},
     "output_type": "execute_result"
    }
   ],
   "source": [
    "hypothesis.round(0)"
   ]
  },
  {
   "cell_type": "markdown",
   "metadata": {},
   "source": [
    "**Посчитаем `RICE` для гипотез. Добавим полученные значения `RICE` к существующей таблице. Новый столбец назовём `RICE`**"
   ]
  },
  {
   "cell_type": "code",
   "execution_count": 25,
   "metadata": {},
   "outputs": [],
   "source": [
    "hypothesis['RICE'] = (hypothesis['reach'] * hypothesis['impact'] * hypothesis['confidence']) / hypothesis['efforts']"
   ]
  },
  {
   "cell_type": "code",
   "execution_count": 26,
   "metadata": {},
   "outputs": [
    {
     "data": {
      "text/html": [
       "<div>\n",
       "<style scoped>\n",
       "    .dataframe tbody tr th:only-of-type {\n",
       "        vertical-align: middle;\n",
       "    }\n",
       "\n",
       "    .dataframe tbody tr th {\n",
       "        vertical-align: top;\n",
       "    }\n",
       "\n",
       "    .dataframe thead th {\n",
       "        text-align: right;\n",
       "    }\n",
       "</style>\n",
       "<table border=\"1\" class=\"dataframe\">\n",
       "  <thead>\n",
       "    <tr style=\"text-align: right;\">\n",
       "      <th></th>\n",
       "      <th>hypothesis</th>\n",
       "      <th>RICE</th>\n",
       "    </tr>\n",
       "  </thead>\n",
       "  <tbody>\n",
       "    <tr>\n",
       "      <th>7</th>\n",
       "      <td>Добавить форму подписки на все основные страницы, чтобы собрать базу клиентов для email-рассылок</td>\n",
       "      <td>112.0</td>\n",
       "    </tr>\n",
       "    <tr>\n",
       "      <th>2</th>\n",
       "      <td>Добавить блоки рекомендаций товаров на сайт интернет магазина, чтобы повысить конверсию и средний чек заказа</td>\n",
       "      <td>56.0</td>\n",
       "    </tr>\n",
       "    <tr>\n",
       "      <th>0</th>\n",
       "      <td>Добавить два новых канала привлечения трафика, что позволит привлекать на 30% больше пользователей</td>\n",
       "      <td>40.0</td>\n",
       "    </tr>\n",
       "    <tr>\n",
       "      <th>6</th>\n",
       "      <td>Показать на главной странице баннеры с актуальными акциями и распродажами, чтобы увеличить конверсию</td>\n",
       "      <td>40.0</td>\n",
       "    </tr>\n",
       "    <tr>\n",
       "      <th>8</th>\n",
       "      <td>Запустить акцию, дающую скидку на товар в день рождения</td>\n",
       "      <td>16.2</td>\n",
       "    </tr>\n",
       "    <tr>\n",
       "      <th>3</th>\n",
       "      <td>Изменить структура категорий, что увеличит конверсию, т.к. пользователи быстрее найдут нужный товар</td>\n",
       "      <td>9.0</td>\n",
       "    </tr>\n",
       "    <tr>\n",
       "      <th>1</th>\n",
       "      <td>Запустить собственную службу доставки, что сократит срок доставки заказов</td>\n",
       "      <td>4.0</td>\n",
       "    </tr>\n",
       "    <tr>\n",
       "      <th>5</th>\n",
       "      <td>Добавить страницу отзывов клиентов о магазине, что позволит увеличить количество заказов</td>\n",
       "      <td>4.0</td>\n",
       "    </tr>\n",
       "    <tr>\n",
       "      <th>4</th>\n",
       "      <td>Изменить цвет фона главной страницы, чтобы увеличить вовлеченность пользователей</td>\n",
       "      <td>3.0</td>\n",
       "    </tr>\n",
       "  </tbody>\n",
       "</table>\n",
       "</div>"
      ],
      "text/plain": [
       "                                                                                                     hypothesis  \\\n",
       "7              Добавить форму подписки на все основные страницы, чтобы собрать базу клиентов для email-рассылок   \n",
       "2  Добавить блоки рекомендаций товаров на сайт интернет магазина, чтобы повысить конверсию и средний чек заказа   \n",
       "0            Добавить два новых канала привлечения трафика, что позволит привлекать на 30% больше пользователей   \n",
       "6          Показать на главной странице баннеры с актуальными акциями и распродажами, чтобы увеличить конверсию   \n",
       "8                                                       Запустить акцию, дающую скидку на товар в день рождения   \n",
       "3           Изменить структура категорий, что увеличит конверсию, т.к. пользователи быстрее найдут нужный товар   \n",
       "1                                     Запустить собственную службу доставки, что сократит срок доставки заказов   \n",
       "5                      Добавить страницу отзывов клиентов о магазине, что позволит увеличить количество заказов   \n",
       "4                              Изменить цвет фона главной страницы, чтобы увеличить вовлеченность пользователей   \n",
       "\n",
       "    RICE  \n",
       "7  112.0  \n",
       "2   56.0  \n",
       "0   40.0  \n",
       "6   40.0  \n",
       "8   16.2  \n",
       "3    9.0  \n",
       "1    4.0  \n",
       "5    4.0  \n",
       "4    3.0  "
      ]
     },
     "execution_count": 26,
     "metadata": {},
     "output_type": "execute_result"
    }
   ],
   "source": [
    "hrice = hypothesis[['hypothesis','RICE']].sort_values(by='RICE', ascending=False)\n",
    "hrice"
   ]
  },
  {
   "cell_type": "markdown",
   "metadata": {},
   "source": [
    "**Объединим результаты в единой таблице для наглядности**"
   ]
  },
  {
   "cell_type": "code",
   "execution_count": 27,
   "metadata": {},
   "outputs": [
    {
     "data": {
      "text/html": [
       "<style  type=\"text/css\" >\n",
       "#T_a9dc1_row0_col1,#T_a9dc1_row2_col2{\n",
       "            background-color:  #008000;\n",
       "            color:  #f1f1f1;\n",
       "        }#T_a9dc1_row0_col2{\n",
       "            background-color:  #cee5ce;\n",
       "            color:  #000000;\n",
       "        }#T_a9dc1_row1_col1{\n",
       "            background-color:  #2c962c;\n",
       "            color:  #000000;\n",
       "        }#T_a9dc1_row1_col2,#T_a9dc1_row3_col2{\n",
       "            background-color:  #9bcc9b;\n",
       "            color:  #000000;\n",
       "        }#T_a9dc1_row2_col1{\n",
       "            background-color:  #4da64d;\n",
       "            color:  #000000;\n",
       "        }#T_a9dc1_row3_col1{\n",
       "            background-color:  #7fbe7f;\n",
       "            color:  #000000;\n",
       "        }#T_a9dc1_row4_col1{\n",
       "            background-color:  #8ec58e;\n",
       "            color:  #000000;\n",
       "        }#T_a9dc1_row4_col2{\n",
       "            background-color:  #78bb78;\n",
       "            color:  #000000;\n",
       "        }#T_a9dc1_row5_col1{\n",
       "            background-color:  #dcecdc;\n",
       "            color:  #000000;\n",
       "        }#T_a9dc1_row5_col2,#T_a9dc1_row6_col2,#T_a9dc1_row7_col1{\n",
       "            background-color:  #e9f2e9;\n",
       "            color:  #000000;\n",
       "        }#T_a9dc1_row6_col1{\n",
       "            background-color:  #e6f1e6;\n",
       "            color:  #000000;\n",
       "        }#T_a9dc1_row7_col2{\n",
       "            background-color:  #deedde;\n",
       "            color:  #000000;\n",
       "        }#T_a9dc1_row8_col1,#T_a9dc1_row8_col2{\n",
       "            background-color:  #ebf3eb;\n",
       "            color:  #000000;\n",
       "        }</style><table id=\"T_a9dc1_\" ><thead>    <tr>        <th class=\"blank level0\" ></th>        <th class=\"col_heading level0 col0\" >hypothesis</th>        <th class=\"col_heading level0 col1\" >ICE</th>        <th class=\"col_heading level0 col2\" >RICE</th>    </tr></thead><tbody>\n",
       "                <tr>\n",
       "                        <th id=\"T_a9dc1_level0_row0\" class=\"row_heading level0 row0\" >0</th>\n",
       "                        <td id=\"T_a9dc1_row0_col0\" class=\"data row0 col0\" >Запустить акцию, дающую скидку на товар в день рождения</td>\n",
       "                        <td id=\"T_a9dc1_row0_col1\" class=\"data row0 col1\" >16.200000</td>\n",
       "                        <td id=\"T_a9dc1_row0_col2\" class=\"data row0 col2\" >16.200000</td>\n",
       "            </tr>\n",
       "            <tr>\n",
       "                        <th id=\"T_a9dc1_level0_row1\" class=\"row_heading level0 row1\" >1</th>\n",
       "                        <td id=\"T_a9dc1_row1_col0\" class=\"data row1 col0\" >Добавить два новых канала привлечения трафика, что позволит привлекать на 30% больше пользователей</td>\n",
       "                        <td id=\"T_a9dc1_row1_col1\" class=\"data row1 col1\" >13.330000</td>\n",
       "                        <td id=\"T_a9dc1_row1_col2\" class=\"data row1 col2\" >40.000000</td>\n",
       "            </tr>\n",
       "            <tr>\n",
       "                        <th id=\"T_a9dc1_level0_row2\" class=\"row_heading level0 row2\" >2</th>\n",
       "                        <td id=\"T_a9dc1_row2_col0\" class=\"data row2 col0\" >Добавить форму подписки на все основные страницы, чтобы собрать базу клиентов для email-рассылок</td>\n",
       "                        <td id=\"T_a9dc1_row2_col1\" class=\"data row2 col1\" >11.200000</td>\n",
       "                        <td id=\"T_a9dc1_row2_col2\" class=\"data row2 col2\" >112.000000</td>\n",
       "            </tr>\n",
       "            <tr>\n",
       "                        <th id=\"T_a9dc1_level0_row3\" class=\"row_heading level0 row3\" >3</th>\n",
       "                        <td id=\"T_a9dc1_row3_col0\" class=\"data row3 col0\" >Показать на главной странице баннеры с актуальными акциями и распродажами, чтобы увеличить конверсию</td>\n",
       "                        <td id=\"T_a9dc1_row3_col1\" class=\"data row3 col1\" >8.000000</td>\n",
       "                        <td id=\"T_a9dc1_row3_col2\" class=\"data row3 col2\" >40.000000</td>\n",
       "            </tr>\n",
       "            <tr>\n",
       "                        <th id=\"T_a9dc1_level0_row4\" class=\"row_heading level0 row4\" >4</th>\n",
       "                        <td id=\"T_a9dc1_row4_col0\" class=\"data row4 col0\" >Добавить блоки рекомендаций товаров на сайт интернет магазина, чтобы повысить конверсию и средний чек заказа</td>\n",
       "                        <td id=\"T_a9dc1_row4_col1\" class=\"data row4 col1\" >7.000000</td>\n",
       "                        <td id=\"T_a9dc1_row4_col2\" class=\"data row4 col2\" >56.000000</td>\n",
       "            </tr>\n",
       "            <tr>\n",
       "                        <th id=\"T_a9dc1_level0_row5\" class=\"row_heading level0 row5\" >5</th>\n",
       "                        <td id=\"T_a9dc1_row5_col0\" class=\"data row5 col0\" >Запустить собственную службу доставки, что сократит срок доставки заказов</td>\n",
       "                        <td id=\"T_a9dc1_row5_col1\" class=\"data row5 col1\" >2.000000</td>\n",
       "                        <td id=\"T_a9dc1_row5_col2\" class=\"data row5 col2\" >4.000000</td>\n",
       "            </tr>\n",
       "            <tr>\n",
       "                        <th id=\"T_a9dc1_level0_row6\" class=\"row_heading level0 row6\" >6</th>\n",
       "                        <td id=\"T_a9dc1_row6_col0\" class=\"data row6 col0\" >Добавить страницу отзывов клиентов о магазине, что позволит увеличить количество заказов</td>\n",
       "                        <td id=\"T_a9dc1_row6_col1\" class=\"data row6 col1\" >1.330000</td>\n",
       "                        <td id=\"T_a9dc1_row6_col2\" class=\"data row6 col2\" >4.000000</td>\n",
       "            </tr>\n",
       "            <tr>\n",
       "                        <th id=\"T_a9dc1_level0_row7\" class=\"row_heading level0 row7\" >7</th>\n",
       "                        <td id=\"T_a9dc1_row7_col0\" class=\"data row7 col0\" >Изменить структура категорий, что увеличит конверсию, т.к. пользователи быстрее найдут нужный товар</td>\n",
       "                        <td id=\"T_a9dc1_row7_col1\" class=\"data row7 col1\" >1.120000</td>\n",
       "                        <td id=\"T_a9dc1_row7_col2\" class=\"data row7 col2\" >9.000000</td>\n",
       "            </tr>\n",
       "            <tr>\n",
       "                        <th id=\"T_a9dc1_level0_row8\" class=\"row_heading level0 row8\" >8</th>\n",
       "                        <td id=\"T_a9dc1_row8_col0\" class=\"data row8 col0\" >Изменить цвет фона главной страницы, чтобы увеличить вовлеченность пользователей</td>\n",
       "                        <td id=\"T_a9dc1_row8_col1\" class=\"data row8 col1\" >1.000000</td>\n",
       "                        <td id=\"T_a9dc1_row8_col2\" class=\"data row8 col2\" >3.000000</td>\n",
       "            </tr>\n",
       "    </tbody></table>"
      ],
      "text/plain": [
       "<pandas.io.formats.style.Styler at 0x26cbc7089a0>"
      ]
     },
     "execution_count": 27,
     "metadata": {},
     "output_type": "execute_result"
    }
   ],
   "source": [
    "unification = ice.merge(hrice, on = 'hypothesis') # объединяем\n",
    "\n",
    "cm = sns.light_palette(\"green\", as_cmap=True) #выделяем цветом\n",
    "unification.style.background_gradient(cmap=cm)"
   ]
  },
  {
   "cell_type": "markdown",
   "metadata": {},
   "source": [
    "### Как изменилась приоритизация гипотез при применении RICE вместо ICE. Объяснить, почему так произошло."
   ]
  },
  {
   "cell_type": "markdown",
   "metadata": {},
   "source": [
    "**Мы применили один из самых популярных способов приоритизации задач `ICE`(«влияние, уверенность, усилия / простота») и его модификатор `RICE`(«охват»).**\n",
    "\n",
    "**Какую приоритезацию гипотез показал `ICE`:**\n",
    "* 8\tЗапустить акцию, дающую скидку на товар в день рождения\t16.20\n",
    "* 0\tДобавить два новых канала привлечения трафика, что позволит привлекать на 30% больше пользователей\t13.33\n",
    "* 7\tДобавить форму подписки на все основные страницы, чтобы собрать базу клиентов для email-рассылок\t11.20\n",
    "* 6\tПоказать на главной странице баннеры с актуальными акциями и распродажами, чтобы увеличить конверсию\t8.00\n",
    "* 2\tДобавить блоки рекомендаций товаров на сайт интернет магазина, чтобы повысить конверсию и средний чек заказа\t7.00\n",
    "\n",
    "**Какую приоритезацию гипотез показал `RICE`:**\n",
    "\n",
    "* 7\tДобавить форму подписки на все основные страницы, чтобы собрать базу клиентов для email-рассылок\t112.0\n",
    "* 2\tДобавить блоки рекомендаций товаров на сайт интернет магазина, чтобы повысить конверсию и средний чек заказа\t56.0\n",
    "* 0\tДобавить два новых канала привлечения трафика, что позволит привлекать на 30% больше пользователей\t40.0\n",
    "* 6\tПоказать на главной странице баннеры с актуальными акциями и распродажами, чтобы увеличить конверсию\t40.0\n",
    "* 8\tЗапустить акцию, дающую скидку на товар в день рождения\t16.2\n",
    "\n",
    "**Исходя из вышеизложенного, рекомендуется в первую очередь протестировать гипотезы:**\n",
    "\n",
    "* Добавить форму подписки на все основные страницы, чтобы собрать базу клиентов для email-рассылок\n",
    "* Добавить блоки рекомендаций товаров на сайт интернет магазина, чтобы повысить конверсию и средний чек заказа  "
   ]
  },
  {
   "cell_type": "markdown",
   "metadata": {},
   "source": [
    "## Часть 2. Анализ A/B-теста"
   ]
  },
  {
   "cell_type": "markdown",
   "metadata": {},
   "source": [
    "**Задача**\n",
    "\n",
    "* Проанализировать A/B-тест:"
   ]
  },
  {
   "cell_type": "markdown",
   "metadata": {},
   "source": [
    "### Построим график кумулятивной выручки по группам. Сделаем выводы и предположения."
   ]
  },
  {
   "cell_type": "markdown",
   "metadata": {},
   "source": [
    "**1) Создадим датафрейм `datesGroups` с уникальными парами значений `date` и `group`, таблицы `orders`. Избавимся от дубликатов методом `drop_duplicates()`.**"
   ]
  },
  {
   "cell_type": "markdown",
   "metadata": {},
   "source": [
    "**Выведем таблицы `orders` и `visitors`**"
   ]
  },
  {
   "cell_type": "code",
   "execution_count": 28,
   "metadata": {},
   "outputs": [
    {
     "data": {
      "text/html": [
       "<div>\n",
       "<style scoped>\n",
       "    .dataframe tbody tr th:only-of-type {\n",
       "        vertical-align: middle;\n",
       "    }\n",
       "\n",
       "    .dataframe tbody tr th {\n",
       "        vertical-align: top;\n",
       "    }\n",
       "\n",
       "    .dataframe thead th {\n",
       "        text-align: right;\n",
       "    }\n",
       "</style>\n",
       "<table border=\"1\" class=\"dataframe\">\n",
       "  <thead>\n",
       "    <tr style=\"text-align: right;\">\n",
       "      <th></th>\n",
       "      <th>transactionId</th>\n",
       "      <th>visitorId</th>\n",
       "      <th>date</th>\n",
       "      <th>revenue</th>\n",
       "      <th>group</th>\n",
       "    </tr>\n",
       "  </thead>\n",
       "  <tbody>\n",
       "    <tr>\n",
       "      <th>0</th>\n",
       "      <td>3667963787</td>\n",
       "      <td>3312258926</td>\n",
       "      <td>2019-08-15</td>\n",
       "      <td>1650</td>\n",
       "      <td>B</td>\n",
       "    </tr>\n",
       "    <tr>\n",
       "      <th>1</th>\n",
       "      <td>2804400009</td>\n",
       "      <td>3642806036</td>\n",
       "      <td>2019-08-15</td>\n",
       "      <td>730</td>\n",
       "      <td>B</td>\n",
       "    </tr>\n",
       "    <tr>\n",
       "      <th>2</th>\n",
       "      <td>2961555356</td>\n",
       "      <td>4069496402</td>\n",
       "      <td>2019-08-15</td>\n",
       "      <td>400</td>\n",
       "      <td>A</td>\n",
       "    </tr>\n",
       "    <tr>\n",
       "      <th>3</th>\n",
       "      <td>3797467345</td>\n",
       "      <td>1196621759</td>\n",
       "      <td>2019-08-15</td>\n",
       "      <td>9759</td>\n",
       "      <td>B</td>\n",
       "    </tr>\n",
       "    <tr>\n",
       "      <th>4</th>\n",
       "      <td>2282983706</td>\n",
       "      <td>2322279887</td>\n",
       "      <td>2019-08-15</td>\n",
       "      <td>2308</td>\n",
       "      <td>B</td>\n",
       "    </tr>\n",
       "  </tbody>\n",
       "</table>\n",
       "</div>"
      ],
      "text/plain": [
       "   transactionId   visitorId       date  revenue group\n",
       "0     3667963787  3312258926 2019-08-15     1650     B\n",
       "1     2804400009  3642806036 2019-08-15      730     B\n",
       "2     2961555356  4069496402 2019-08-15      400     A\n",
       "3     3797467345  1196621759 2019-08-15     9759     B\n",
       "4     2282983706  2322279887 2019-08-15     2308     B"
      ]
     },
     "execution_count": 28,
     "metadata": {},
     "output_type": "execute_result"
    }
   ],
   "source": [
    "orders.head()"
   ]
  },
  {
   "cell_type": "code",
   "execution_count": 29,
   "metadata": {},
   "outputs": [
    {
     "data": {
      "text/html": [
       "<div>\n",
       "<style scoped>\n",
       "    .dataframe tbody tr th:only-of-type {\n",
       "        vertical-align: middle;\n",
       "    }\n",
       "\n",
       "    .dataframe tbody tr th {\n",
       "        vertical-align: top;\n",
       "    }\n",
       "\n",
       "    .dataframe thead th {\n",
       "        text-align: right;\n",
       "    }\n",
       "</style>\n",
       "<table border=\"1\" class=\"dataframe\">\n",
       "  <thead>\n",
       "    <tr style=\"text-align: right;\">\n",
       "      <th></th>\n",
       "      <th>date</th>\n",
       "      <th>group</th>\n",
       "      <th>visitors</th>\n",
       "    </tr>\n",
       "  </thead>\n",
       "  <tbody>\n",
       "    <tr>\n",
       "      <th>0</th>\n",
       "      <td>2019-08-01</td>\n",
       "      <td>A</td>\n",
       "      <td>719</td>\n",
       "    </tr>\n",
       "    <tr>\n",
       "      <th>1</th>\n",
       "      <td>2019-08-02</td>\n",
       "      <td>A</td>\n",
       "      <td>619</td>\n",
       "    </tr>\n",
       "    <tr>\n",
       "      <th>2</th>\n",
       "      <td>2019-08-03</td>\n",
       "      <td>A</td>\n",
       "      <td>507</td>\n",
       "    </tr>\n",
       "    <tr>\n",
       "      <th>3</th>\n",
       "      <td>2019-08-04</td>\n",
       "      <td>A</td>\n",
       "      <td>717</td>\n",
       "    </tr>\n",
       "    <tr>\n",
       "      <th>4</th>\n",
       "      <td>2019-08-05</td>\n",
       "      <td>A</td>\n",
       "      <td>756</td>\n",
       "    </tr>\n",
       "  </tbody>\n",
       "</table>\n",
       "</div>"
      ],
      "text/plain": [
       "        date group  visitors\n",
       "0 2019-08-01     A       719\n",
       "1 2019-08-02     A       619\n",
       "2 2019-08-03     A       507\n",
       "3 2019-08-04     A       717\n",
       "4 2019-08-05     A       756"
      ]
     },
     "execution_count": 29,
     "metadata": {},
     "output_type": "execute_result"
    }
   ],
   "source": [
    "visitors.head()"
   ]
  },
  {
   "cell_type": "markdown",
   "metadata": {},
   "source": [
    "**Cоздаем массив уникальных пар значений дат и групп теста**"
   ]
  },
  {
   "cell_type": "code",
   "execution_count": 30,
   "metadata": {},
   "outputs": [],
   "source": [
    "datesGroups = orders[['date','group']].drop_duplicates() "
   ]
  },
  {
   "cell_type": "markdown",
   "metadata": {},
   "source": [
    "**2) Объявим переменную `ordersAggregated`, содержащую:**\n",
    "* дату;\n",
    "* группу A/B-теста;\n",
    "* число уникальных заказов в группе теста по указанную дату включительно;\n",
    "* число уникальных пользователей, совершивших хотя бы 1 заказ в группе теста по указанную дату включительно;\n",
    "* суммарную выручку заказов в группе теста по указанную дату включительно."
   ]
  },
  {
   "cell_type": "code",
   "execution_count": 31,
   "metadata": {
    "scrolled": false
   },
   "outputs": [],
   "source": [
    "ordersAggregated = datesGroups.apply(\n",
    "    lambda x: orders[np.logical_and(orders['date'] <= x['date'], orders['group'] == x['group'])].agg({\n",
    "        'date' : 'max',\n",
    "        'group' : 'max',\n",
    "        'transactionId' : pd.Series.nunique,\n",
    "        'visitorId' : pd.Series.nunique,\n",
    "        'revenue' : 'sum'}), axis=1).sort_values(by=['date','group']) "
   ]
  },
  {
   "cell_type": "markdown",
   "metadata": {},
   "source": [
    "**3) Объявим переменную `visitorsAggregated`, содержащую:**\n",
    "* дату;\n",
    "* группу A/B-теста;\n",
    "* количество уникальных посетителей в группе теста по указанную дату включительно."
   ]
  },
  {
   "cell_type": "code",
   "execution_count": 32,
   "metadata": {},
   "outputs": [],
   "source": [
    "visitorsAggregated = datesGroups.apply(\n",
    "    lambda x: visitors[np.logical_and(visitors['date'] <= x['date'], visitors['group'] == x['group'])].agg({\n",
    "        'date' : 'max', \n",
    "        'group' : 'max', \n",
    "        'visitors' : 'sum'}), axis=1).sort_values(by=['date','group']) "
   ]
  },
  {
   "cell_type": "markdown",
   "metadata": {},
   "source": [
    "**`ordersAggregated` и `visitorsAggregated` отсортировали по столбцам `date`, `group`**"
   ]
  },
  {
   "cell_type": "markdown",
   "metadata": {},
   "source": [
    "**4) Определим переменную `cumulativeData`, объединив `ordersAggregated` и `visitorsAggregated` по колонкам `date`, `group` методом merge()**"
   ]
  },
  {
   "cell_type": "code",
   "execution_count": 33,
   "metadata": {},
   "outputs": [],
   "source": [
    "cumulativeData = ordersAggregated.merge(visitorsAggregated, left_on=['date', 'group'], right_on=['date', 'group'])"
   ]
  },
  {
   "cell_type": "markdown",
   "metadata": {},
   "source": [
    "**5) Присвоим столбцам `cumulativeData` названия [`date`, `group`, `orders`, `buyers`, `revenue`, `visitors`]**"
   ]
  },
  {
   "cell_type": "code",
   "execution_count": 34,
   "metadata": {},
   "outputs": [],
   "source": [
    "cumulativeData.columns = ['date', 'group', 'orders', 'buyers', 'revenue', 'visitors']"
   ]
  },
  {
   "cell_type": "markdown",
   "metadata": {},
   "source": [
    "**Взглянем на новую таблицу**"
   ]
  },
  {
   "cell_type": "code",
   "execution_count": 35,
   "metadata": {
    "scrolled": false
   },
   "outputs": [
    {
     "data": {
      "text/html": [
       "<div>\n",
       "<style scoped>\n",
       "    .dataframe tbody tr th:only-of-type {\n",
       "        vertical-align: middle;\n",
       "    }\n",
       "\n",
       "    .dataframe tbody tr th {\n",
       "        vertical-align: top;\n",
       "    }\n",
       "\n",
       "    .dataframe thead th {\n",
       "        text-align: right;\n",
       "    }\n",
       "</style>\n",
       "<table border=\"1\" class=\"dataframe\">\n",
       "  <thead>\n",
       "    <tr style=\"text-align: right;\">\n",
       "      <th></th>\n",
       "      <th>date</th>\n",
       "      <th>group</th>\n",
       "      <th>orders</th>\n",
       "      <th>buyers</th>\n",
       "      <th>revenue</th>\n",
       "      <th>visitors</th>\n",
       "    </tr>\n",
       "  </thead>\n",
       "  <tbody>\n",
       "    <tr>\n",
       "      <th>0</th>\n",
       "      <td>2019-08-01</td>\n",
       "      <td>A</td>\n",
       "      <td>24</td>\n",
       "      <td>20</td>\n",
       "      <td>148579</td>\n",
       "      <td>719</td>\n",
       "    </tr>\n",
       "    <tr>\n",
       "      <th>1</th>\n",
       "      <td>2019-08-01</td>\n",
       "      <td>B</td>\n",
       "      <td>21</td>\n",
       "      <td>20</td>\n",
       "      <td>101217</td>\n",
       "      <td>713</td>\n",
       "    </tr>\n",
       "    <tr>\n",
       "      <th>2</th>\n",
       "      <td>2019-08-02</td>\n",
       "      <td>A</td>\n",
       "      <td>44</td>\n",
       "      <td>38</td>\n",
       "      <td>242401</td>\n",
       "      <td>1338</td>\n",
       "    </tr>\n",
       "    <tr>\n",
       "      <th>3</th>\n",
       "      <td>2019-08-02</td>\n",
       "      <td>B</td>\n",
       "      <td>45</td>\n",
       "      <td>43</td>\n",
       "      <td>266748</td>\n",
       "      <td>1294</td>\n",
       "    </tr>\n",
       "    <tr>\n",
       "      <th>4</th>\n",
       "      <td>2019-08-03</td>\n",
       "      <td>A</td>\n",
       "      <td>68</td>\n",
       "      <td>62</td>\n",
       "      <td>354874</td>\n",
       "      <td>1845</td>\n",
       "    </tr>\n",
       "    <tr>\n",
       "      <th>5</th>\n",
       "      <td>2019-08-03</td>\n",
       "      <td>B</td>\n",
       "      <td>61</td>\n",
       "      <td>59</td>\n",
       "      <td>380996</td>\n",
       "      <td>1803</td>\n",
       "    </tr>\n",
       "    <tr>\n",
       "      <th>6</th>\n",
       "      <td>2019-08-04</td>\n",
       "      <td>A</td>\n",
       "      <td>84</td>\n",
       "      <td>77</td>\n",
       "      <td>425699</td>\n",
       "      <td>2562</td>\n",
       "    </tr>\n",
       "    <tr>\n",
       "      <th>7</th>\n",
       "      <td>2019-08-04</td>\n",
       "      <td>B</td>\n",
       "      <td>78</td>\n",
       "      <td>75</td>\n",
       "      <td>489567</td>\n",
       "      <td>2573</td>\n",
       "    </tr>\n",
       "    <tr>\n",
       "      <th>8</th>\n",
       "      <td>2019-08-05</td>\n",
       "      <td>A</td>\n",
       "      <td>109</td>\n",
       "      <td>100</td>\n",
       "      <td>549917</td>\n",
       "      <td>3318</td>\n",
       "    </tr>\n",
       "    <tr>\n",
       "      <th>9</th>\n",
       "      <td>2019-08-05</td>\n",
       "      <td>B</td>\n",
       "      <td>101</td>\n",
       "      <td>98</td>\n",
       "      <td>581995</td>\n",
       "      <td>3280</td>\n",
       "    </tr>\n",
       "  </tbody>\n",
       "</table>\n",
       "</div>"
      ],
      "text/plain": [
       "        date group  orders  buyers  revenue  visitors\n",
       "0 2019-08-01     A      24      20   148579       719\n",
       "1 2019-08-01     B      21      20   101217       713\n",
       "2 2019-08-02     A      44      38   242401      1338\n",
       "3 2019-08-02     B      45      43   266748      1294\n",
       "4 2019-08-03     A      68      62   354874      1845\n",
       "5 2019-08-03     B      61      59   380996      1803\n",
       "6 2019-08-04     A      84      77   425699      2562\n",
       "7 2019-08-04     B      78      75   489567      2573\n",
       "8 2019-08-05     A     109     100   549917      3318\n",
       "9 2019-08-05     B     101      98   581995      3280"
      ]
     },
     "execution_count": 35,
     "metadata": {},
     "output_type": "execute_result"
    }
   ],
   "source": [
    "cumulativeData.head(10)"
   ]
  },
  {
   "cell_type": "markdown",
   "metadata": {},
   "source": [
    "**Найдём минималную и максимальную дату**"
   ]
  },
  {
   "cell_type": "code",
   "execution_count": 36,
   "metadata": {},
   "outputs": [
    {
     "data": {
      "text/plain": [
       "Timestamp('2019-08-01 00:00:00')"
      ]
     },
     "execution_count": 36,
     "metadata": {},
     "output_type": "execute_result"
    }
   ],
   "source": [
    "cumulativeData['date'].min()"
   ]
  },
  {
   "cell_type": "code",
   "execution_count": 37,
   "metadata": {},
   "outputs": [
    {
     "data": {
      "text/plain": [
       "Timestamp('2019-08-31 00:00:00')"
      ]
     },
     "execution_count": 37,
     "metadata": {},
     "output_type": "execute_result"
    }
   ],
   "source": [
    "cumulativeData['date'].max()"
   ]
  },
  {
   "cell_type": "markdown",
   "metadata": {},
   "source": [
    "**Все нужные кумулятивные данные собраны. Приступаем к построению графиков.**"
   ]
  },
  {
   "cell_type": "markdown",
   "metadata": {},
   "source": [
    "**Объявим переменные `cumulativeRevenueA` и `cumulativeRevenueB`, в которых сохраним данные о датах, выручке и числе заказов в группах A и B.**"
   ]
  },
  {
   "cell_type": "code",
   "execution_count": 38,
   "metadata": {},
   "outputs": [],
   "source": [
    "# датафрейм с кумулятивным количеством заказов и кумулятивной выручкой по дням в группе А\n",
    "\n",
    "cumulativeRevenueA = cumulativeData[cumulativeData['group']=='A'][['date','revenue', 'orders']]"
   ]
  },
  {
   "cell_type": "code",
   "execution_count": 39,
   "metadata": {},
   "outputs": [],
   "source": [
    "# датафрейм с кумулятивным количеством заказов и кумулятивной выручкой по дням в группе B\n",
    "\n",
    "cumulativeRevenueB = cumulativeData[cumulativeData['group']=='B'][['date','revenue', 'orders']]"
   ]
  },
  {
   "cell_type": "markdown",
   "metadata": {},
   "source": [
    "**Строим график выручки группы А и В**"
   ]
  },
  {
   "cell_type": "code",
   "execution_count": 40,
   "metadata": {},
   "outputs": [
    {
     "data": {
      "image/png": "[encoded data removed]",
      "text/plain": [
       "<Figure size 1440x792 with 1 Axes>"
      ]
     },
     "metadata": {
      "needs_background": "light"
     },
     "output_type": "display_data"
    }
   ],
   "source": [
    "plt.figure(figsize = (20,11))\n",
    "plt.plot(cumulativeRevenueA['date'], cumulativeRevenueA['revenue'], label='A')\n",
    "plt.plot(cumulativeRevenueB['date'], cumulativeRevenueB['revenue'], label='B')\n",
    "plt.title('Кумулятивная выручка по группам', size = 23)\n",
    "plt.xlabel('Дата', size = 15)\n",
    "plt.ylabel('Выручка', size = 15)\n",
    "plt.grid()\n",
    "plt.annotate('скачок', xy=('2019-08-17', 2900000), xytext=('2019-08-10', 3500000),\n",
    "            arrowprops=dict(facecolor='g'))\n",
    "plt.annotate('отрыв', xy=('2019-08-05', 800000), xytext=('2019-08-05', 2000000),\n",
    "            arrowprops=dict(facecolor='g')) \n",
    "plt.legend()\n",
    "plt.show()"
   ]
  },
  {
   "cell_type": "markdown",
   "metadata": {},
   "source": [
    "**Примерно в середине теста сегмент В вырвался вперед и продолжил лидировать весь остаток теста. Есть предположение, что есть аномально большие заказы, которые влияют на результаты, а так же их количество**"
   ]
  },
  {
   "cell_type": "markdown",
   "metadata": {},
   "source": [
    "### Построим график кумулятивного среднего чека по группам. Сделаем выводы и предположения."
   ]
  },
  {
   "cell_type": "markdown",
   "metadata": {},
   "source": [
    "**Строим график среднего чека группы А и В**"
   ]
  },
  {
   "cell_type": "code",
   "execution_count": 41,
   "metadata": {},
   "outputs": [
    {
     "data": {
      "image/png": "[encoded data removed]",
      "text/plain": [
       "<Figure size 1440x792 with 1 Axes>"
      ]
     },
     "metadata": {
      "needs_background": "light"
     },
     "output_type": "display_data"
    }
   ],
   "source": [
    "plt.figure(figsize = (20,11))\n",
    "plt.plot(cumulativeRevenueA['date'], cumulativeRevenueA['revenue']/cumulativeRevenueA['orders'], label='A')\n",
    "plt.plot(cumulativeRevenueB['date'], cumulativeRevenueB['revenue']/cumulativeRevenueB['orders'], label='B')\n",
    "plt.title('Кумулятивный средний чек по группам', size = 20)\n",
    "plt.xlabel('Дата', size = 15)\n",
    "plt.ylabel('Выручка', size = 15)\n",
    "plt.annotate('скачок', xy=('2019-08-17', 7300), xytext=('2019-08-10', 8500),\n",
    "            arrowprops=dict(facecolor='b'))\n",
    "plt.grid()\n",
    "plt.legend()\n",
    "plt.show()"
   ]
  },
  {
   "cell_type": "markdown",
   "metadata": {},
   "source": [
    "**Наблюдаем колебания обоих сегментов, но сегмент А не так сильно относительно сегмента В. Выделяется сильный скачёк в середине теста у сегмента В. Нужно провести анализ выбросов, которые возможно сильно искажают результат.**"
   ]
  },
  {
   "cell_type": "markdown",
   "metadata": {},
   "source": [
    "### Построим график относительного изменения кумулятивного среднего чека группы B к группе A. Сделаем выводы и предположения."
   ]
  },
  {
   "cell_type": "markdown",
   "metadata": {},
   "source": [
    "**Объединим таблицы `cumulativeRevenueA` и `cumulativeRevenueB` методом merge() так, чтобы она содержала столбцы: [`date`, `revenueA`, `revenueB`, `ordersA`, `ordersB`]. Сохраним в переменной `mergedCumulativeRevenue`.**"
   ]
  },
  {
   "cell_type": "code",
   "execution_count": 42,
   "metadata": {},
   "outputs": [],
   "source": [
    "# собираем данные в одном датафрейме\n",
    "mergedCumulativeRevenue = cumulativeRevenueA.merge(\n",
    "    cumulativeRevenueB, left_on='date', right_on='date', how='left', suffixes=['A', 'B'])"
   ]
  },
  {
   "cell_type": "markdown",
   "metadata": {},
   "source": [
    "**Cтроим отношение средних чеков**"
   ]
  },
  {
   "cell_type": "code",
   "execution_count": 43,
   "metadata": {},
   "outputs": [
    {
     "data": {
      "image/png": "[encoded data removed]",
      "text/plain": [
       "<Figure size 1440x792 with 1 Axes>"
      ]
     },
     "metadata": {
      "needs_background": "light"
     },
     "output_type": "display_data"
    }
   ],
   "source": [
    "plt.figure(figsize = (20,11))\n",
    "plt.plot(mergedCumulativeRevenue['date'], \n",
    "         (mergedCumulativeRevenue['revenueB']/mergedCumulativeRevenue['ordersB'])/(mergedCumulativeRevenue['revenueA']/mergedCumulativeRevenue['ordersA'])-1)\n",
    "\n",
    "plt.title('Относительное изменение кумулятивного среднего чека группы B к группе A', size = 20)\n",
    "plt.xlabel('Дата', size = 15)\n",
    "plt.ylabel('Чек в %', size = 15)\n",
    "# добавляем ось X\n",
    "plt.axhline(y=0, color='blue', linestyle='--') \n",
    "plt.grid()\n",
    "plt.show()"
   ]
  },
  {
   "cell_type": "markdown",
   "metadata": {},
   "source": [
    "**Результаты теста резко менялись в несколько дат. Есть предположение, что именно в эти даты были сделаны аномально большие заказы.**"
   ]
  },
  {
   "cell_type": "markdown",
   "metadata": {},
   "source": [
    "### Построим график кумулятивной конверсии по группам. Сделаем выводы и предположения."
   ]
  },
  {
   "cell_type": "markdown",
   "metadata": {},
   "source": [
    "**Добавьте в переменную `cumulativeData` столбец `conversion` c отношением числа заказов к количеству пользователей в указанной группе в указанный день и посчитаем кумулятивную конверсию**"
   ]
  },
  {
   "cell_type": "code",
   "execution_count": 44,
   "metadata": {},
   "outputs": [],
   "source": [
    "cumulativeData['conversion'] = cumulativeData['orders']/cumulativeData['visitors']"
   ]
  },
  {
   "cell_type": "markdown",
   "metadata": {},
   "source": [
    "**Отделяем данные по группе A**"
   ]
  },
  {
   "cell_type": "code",
   "execution_count": 45,
   "metadata": {},
   "outputs": [],
   "source": [
    "cumulativeDataA = cumulativeData[cumulativeData['group']=='A']"
   ]
  },
  {
   "cell_type": "markdown",
   "metadata": {},
   "source": [
    "**Отделяем данные по группе В**"
   ]
  },
  {
   "cell_type": "code",
   "execution_count": 46,
   "metadata": {},
   "outputs": [],
   "source": [
    "cumulativeDataB = cumulativeData[cumulativeData['group']=='B']"
   ]
  },
  {
   "cell_type": "markdown",
   "metadata": {},
   "source": [
    "**Строим график**"
   ]
  },
  {
   "cell_type": "code",
   "execution_count": 47,
   "metadata": {},
   "outputs": [
    {
     "data": {
      "image/png": "[encoded data removed]",
      "text/plain": [
       "<Figure size 1440x792 with 1 Axes>"
      ]
     },
     "metadata": {
      "needs_background": "light"
     },
     "output_type": "display_data"
    }
   ],
   "source": [
    "plt.figure(figsize = (20,11))\n",
    "plt.plot(cumulativeDataA['date'], cumulativeDataA['conversion'], label='A')\n",
    "plt.plot(cumulativeDataB['date'], cumulativeDataB['conversion'], label='B')\n",
    "plt.title('Кумулятивная конверсия по группам', size = 20)\n",
    "plt.xlabel('Дата', size = 15)\n",
    "plt.ylabel('Процентное значение', size = 15)\n",
    "plt.legend()\n",
    "plt.grid()\n",
    "# задаем масштаб осей\n",
    "plt.axis([dt.datetime(2019, 8, 1), dt.datetime(2019, 8, 31), 0, 0.05])\n",
    "plt.show()"
   ]
  },
  {
   "cell_type": "markdown",
   "metadata": {},
   "source": [
    "**В начале теста групп А имела большую конверсию, но постепенно группа В выровнялась и зафиксировалась около одного значения выше Групы А. Абсолютное значение колебания в начале и в конце теста примерно от 3% до 3,5%**"
   ]
  },
  {
   "cell_type": "markdown",
   "metadata": {},
   "source": [
    "### Построим график относительного изменения кумулятивной конверсии группы B к группе A. Сделаем выводы и предположения."
   ]
  },
  {
   "cell_type": "markdown",
   "metadata": {},
   "source": [
    "**Объединим таблицы `cumulativeDataA` и `cumulativeDataB` так, чтобы она содержала столбцы: [`date`, `conversionA`, `conversionB`]. Сохраним в переменной `mergedCumulativeConversions`.**"
   ]
  },
  {
   "cell_type": "code",
   "execution_count": 48,
   "metadata": {},
   "outputs": [],
   "source": [
    "mergedCumulativeConversions = cumulativeDataA[['date','conversion']].merge(cumulativeDataB[['date','conversion']], \n",
    "       left_on='date', right_on='date', how='left', suffixes=['A', 'B']) "
   ]
  },
  {
   "cell_type": "markdown",
   "metadata": {},
   "source": [
    "**Строим график**"
   ]
  },
  {
   "cell_type": "code",
   "execution_count": 49,
   "metadata": {},
   "outputs": [
    {
     "data": {
      "image/png": "[encoded data removed]",
      "text/plain": [
       "<Figure size 1440x792 with 1 Axes>"
      ]
     },
     "metadata": {
      "needs_background": "light"
     },
     "output_type": "display_data"
    }
   ],
   "source": [
    "plt.figure(figsize = (20,11))\n",
    "plt.plot(mergedCumulativeConversions['date'], \n",
    "         mergedCumulativeConversions['conversionB']/mergedCumulativeConversions['conversionA']-1, \n",
    "         label=\"Относительный прирост конверсии группы B относительно группы A\")\n",
    "#plt.legend()\n",
    "plt.title('Относительное изменение кумулятивной конверсии группы B к группе A.', size = 20)\n",
    "plt.axhline(y=0, color='black', linestyle='--')\n",
    "plt.axhline(y=0.2, color='red', linestyle='--')\n",
    "plt.axis(['2019-08-01', '2019-08-31', -0.15, 0.25])\n",
    "plt.xlabel('Дата', size = 15)\n",
    "plt.ylabel('Конверсия %', size = 15)\n",
    "plt.grid()\n",
    "plt.show()"
   ]
  },
  {
   "cell_type": "markdown",
   "metadata": {},
   "source": [
    "**С самого начала группа В лидирует в конверсии, но достигнув отметки 20% стала немного регрессировать и зафиксировалась в отметке примерно 18% относительно группы А.**"
   ]
  },
  {
   "cell_type": "markdown",
   "metadata": {},
   "source": [
    "**Так, как наблюдались аномально большие заказы, то их необходимо проанализировать. Они могут сильно искажать результаты A/B-теста**"
   ]
  },
  {
   "cell_type": "markdown",
   "metadata": {},
   "source": [
    "### Построим точечный график количества заказов по пользователям. Сделаем выводы и предположения."
   ]
  },
  {
   "cell_type": "markdown",
   "metadata": {},
   "source": [
    "**Изучим данные о заказах. Найдём число заказов по пользователям - создадим  датафрейм `ordersByUsers` c двумя столбцами: `userId` и `orders`.**"
   ]
  },
  {
   "cell_type": "code",
   "execution_count": 50,
   "metadata": {},
   "outputs": [],
   "source": [
    "ordersByUsers  = orders.drop(['group', 'revenue', 'date'], \n",
    "                             axis=1).groupby('visitorId', as_index=False).agg({'transactionId': pd.Series.nunique})\n",
    "ordersByUsers.columns = ['userId', 'orders']"
   ]
  },
  {
   "cell_type": "markdown",
   "metadata": {},
   "source": [
    "**Выводим новый датафрейм с числом заказов по пользователям**"
   ]
  },
  {
   "cell_type": "code",
   "execution_count": 51,
   "metadata": {},
   "outputs": [
    {
     "data": {
      "text/html": [
       "<div>\n",
       "<style scoped>\n",
       "    .dataframe tbody tr th:only-of-type {\n",
       "        vertical-align: middle;\n",
       "    }\n",
       "\n",
       "    .dataframe tbody tr th {\n",
       "        vertical-align: top;\n",
       "    }\n",
       "\n",
       "    .dataframe thead th {\n",
       "        text-align: right;\n",
       "    }\n",
       "</style>\n",
       "<table border=\"1\" class=\"dataframe\">\n",
       "  <thead>\n",
       "    <tr style=\"text-align: right;\">\n",
       "      <th></th>\n",
       "      <th>userId</th>\n",
       "      <th>orders</th>\n",
       "    </tr>\n",
       "  </thead>\n",
       "  <tbody>\n",
       "    <tr>\n",
       "      <th>1023</th>\n",
       "      <td>4256040402</td>\n",
       "      <td>11</td>\n",
       "    </tr>\n",
       "    <tr>\n",
       "      <th>591</th>\n",
       "      <td>2458001652</td>\n",
       "      <td>11</td>\n",
       "    </tr>\n",
       "    <tr>\n",
       "      <th>569</th>\n",
       "      <td>2378935119</td>\n",
       "      <td>9</td>\n",
       "    </tr>\n",
       "    <tr>\n",
       "      <th>487</th>\n",
       "      <td>2038680547</td>\n",
       "      <td>8</td>\n",
       "    </tr>\n",
       "    <tr>\n",
       "      <th>44</th>\n",
       "      <td>199603092</td>\n",
       "      <td>5</td>\n",
       "    </tr>\n",
       "    <tr>\n",
       "      <th>744</th>\n",
       "      <td>3062433592</td>\n",
       "      <td>5</td>\n",
       "    </tr>\n",
       "    <tr>\n",
       "      <th>55</th>\n",
       "      <td>237748145</td>\n",
       "      <td>5</td>\n",
       "    </tr>\n",
       "    <tr>\n",
       "      <th>917</th>\n",
       "      <td>3803269165</td>\n",
       "      <td>5</td>\n",
       "    </tr>\n",
       "    <tr>\n",
       "      <th>299</th>\n",
       "      <td>1230306981</td>\n",
       "      <td>5</td>\n",
       "    </tr>\n",
       "    <tr>\n",
       "      <th>897</th>\n",
       "      <td>3717692402</td>\n",
       "      <td>5</td>\n",
       "    </tr>\n",
       "  </tbody>\n",
       "</table>\n",
       "</div>"
      ],
      "text/plain": [
       "          userId  orders\n",
       "1023  4256040402      11\n",
       "591   2458001652      11\n",
       "569   2378935119       9\n",
       "487   2038680547       8\n",
       "44     199603092       5\n",
       "744   3062433592       5\n",
       "55     237748145       5\n",
       "917   3803269165       5\n",
       "299   1230306981       5\n",
       "897   3717692402       5"
      ]
     },
     "execution_count": 51,
     "metadata": {},
     "output_type": "execute_result"
    }
   ],
   "source": [
    "ordersByUsers.sort_values(by='orders', ascending=False).head(10)"
   ]
  },
  {
   "cell_type": "markdown",
   "metadata": {},
   "source": [
    "**Взглянем на гистограмму распределения числа заказов**"
   ]
  },
  {
   "cell_type": "code",
   "execution_count": 52,
   "metadata": {},
   "outputs": [
    {
     "data": {
      "image/png": "[encoded data removed]",
      "text/plain": [
       "<Figure size 432x288 with 1 Axes>"
      ]
     },
     "metadata": {
      "needs_background": "light"
     },
     "output_type": "display_data"
    }
   ],
   "source": [
    "plt.hist(ordersByUsers['orders'])\n",
    "plt.grid()\n",
    "plt.title('Распределение числа заказов')\n",
    "plt.xlabel('Заказы (шт)')\n",
    "plt.ylabel('Пользователи')\n",
    "plt.show()"
   ]
  },
  {
   "cell_type": "markdown",
   "metadata": {},
   "source": [
    "**На гистограмме видно, что большинство пользователей совершили всего один заказ. Неболшая доля пользователей совершили три и более заказов. Посмотим на диаграмме рассеивания**"
   ]
  },
  {
   "cell_type": "code",
   "execution_count": 53,
   "metadata": {},
   "outputs": [
    {
     "data": {
      "image/png": "[encoded data removed]",
      "text/plain": [
       "<Figure size 432x288 with 1 Axes>"
      ]
     },
     "metadata": {
      "needs_background": "light"
     },
     "output_type": "display_data"
    }
   ],
   "source": [
    "x_values = pd.Series(range(0, len(ordersByUsers))) # числа от 0 до количества наблюдений в ordersByUsers\n",
    "plt.scatter(x_values, ordersByUsers['orders'])\n",
    "plt.grid()\n",
    "plt.title('Диаграмма числа заказов')\n",
    "plt.xlabel('Пользователи')\n",
    "plt.ylabel('Заказы (шт)')\n",
    "plt.show()"
   ]
  },
  {
   "cell_type": "markdown",
   "metadata": {},
   "source": [
    "**Наблюдаем, что пользователей, которые заказали более двух раз немного. Предположительно они могут быть аномальными**"
   ]
  },
  {
   "cell_type": "markdown",
   "metadata": {},
   "source": [
    "### Посчитаем 95-й и 99-й перцентили количества заказов на пользователя. Выберем границу для определения аномальных пользователей."
   ]
  },
  {
   "cell_type": "code",
   "execution_count": 54,
   "metadata": {},
   "outputs": [
    {
     "data": {
      "text/plain": [
       "array([2., 4.])"
      ]
     },
     "execution_count": 54,
     "metadata": {},
     "output_type": "execute_result"
    }
   ],
   "source": [
    "np.percentile(ordersByUsers['orders'], [95, 99])"
   ]
  },
  {
   "cell_type": "markdown",
   "metadata": {},
   "source": [
    "**Не более 5% совершили не больше 2-х заказов и не более 1% больше 4-х**"
   ]
  },
  {
   "cell_type": "markdown",
   "metadata": {},
   "source": [
    "### Построим точечный график стоимостей заказов. Сделаем выводы и предположения."
   ]
  },
  {
   "cell_type": "code",
   "execution_count": 55,
   "metadata": {},
   "outputs": [
    {
     "data": {
      "image/png": "[encoded data removed]",
      "text/plain": [
       "<Figure size 432x288 with 1 Axes>"
      ]
     },
     "metadata": {
      "needs_background": "light"
     },
     "output_type": "display_data"
    }
   ],
   "source": [
    "x_values = pd.Series(range(0, len(orders['revenue'])))\n",
    "plt.scatter(x_values, orders['revenue'])\n",
    "plt.title('Диаграмма стоимости заказов')\n",
    "plt.grid()\n",
    "plt.xlabel('Пользователи')\n",
    "plt.ylabel('Сумма заказов (руб)')\n",
    "plt.show()"
   ]
  },
  {
   "cell_type": "markdown",
   "metadata": {},
   "source": [
    "**Наблюдаем 2 аномальных выброса в отметках 200000 и более 12000000. Заказ более миллиона выглядит вполне аномально.**"
   ]
  },
  {
   "cell_type": "markdown",
   "metadata": {},
   "source": [
    "### Посчитаем 95-й и 99-й перцентили стоимости заказов. Выберем границу для определения аномальных заказов."
   ]
  },
  {
   "cell_type": "code",
   "execution_count": 56,
   "metadata": {},
   "outputs": [
    {
     "data": {
      "text/plain": [
       "array([28000. , 58233.2])"
      ]
     },
     "execution_count": 56,
     "metadata": {},
     "output_type": "execute_result"
    }
   ],
   "source": [
    "np.percentile(orders['revenue'], [95, 99])"
   ]
  },
  {
   "cell_type": "markdown",
   "metadata": {},
   "source": [
    "**5% заказов на сумму 28000 и у 1% на сумму более 58233 рублей**"
   ]
  },
  {
   "cell_type": "markdown",
   "metadata": {},
   "source": [
    "### Посчитаем статистическую значимость различий в конверсии между группами по «сырым» данным. Сделаем выводы и предположения."
   ]
  },
  {
   "cell_type": "markdown",
   "metadata": {},
   "source": [
    "**Составим нулевую и альтернативную гипотезы.**\n",
    "\n",
    "**H₀(нулевая гипотеза) всегда формулируется так, что иcпользовать знак равенства(=).**"
   ]
  },
  {
   "cell_type": "markdown",
   "metadata": {},
   "source": [
    " - H₀ - Конверсия в группе A равна конверсии в группе B\n",
    " - H₁ - Конверсия в группе A не равна конверсии в группе B"
   ]
  },
  {
   "cell_type": "markdown",
   "metadata": {},
   "source": [
    "* H₀: данные в выборках взяты из одной и той же генеральной совокупности\n",
    "* H₁: данные в выборках взяты из разных генеральных совокупностей."
   ]
  },
  {
   "cell_type": "markdown",
   "metadata": {},
   "source": [
    "**Пошагово проанализируем A/B-тест**"
   ]
  },
  {
   "cell_type": "code",
   "execution_count": 57,
   "metadata": {},
   "outputs": [],
   "source": [
    "visitorsADaily = visitors[visitors['group'] == 'A'][['date', 'visitors']]\n",
    "visitorsADaily.columns = ['date', 'visitorsPerDateA']"
   ]
  },
  {
   "cell_type": "code",
   "execution_count": 58,
   "metadata": {},
   "outputs": [],
   "source": [
    "visitorsACummulative = visitorsADaily.apply(\n",
    "    lambda x: visitorsADaily[visitorsADaily['date'] <= x['date']].agg(\n",
    "        {'date': 'max', 'visitorsPerDateA': 'sum'}\n",
    "    ),\n",
    "    axis=1,\n",
    ")"
   ]
  },
  {
   "cell_type": "code",
   "execution_count": 59,
   "metadata": {},
   "outputs": [],
   "source": [
    "visitorsACummulative.columns = ['date', 'visitorsCummulativeA']"
   ]
  },
  {
   "cell_type": "code",
   "execution_count": 60,
   "metadata": {},
   "outputs": [],
   "source": [
    "visitorsBDaily = visitors[visitors['group'] == 'B'][['date', 'visitors']]\n",
    "visitorsBDaily.columns = ['date', 'visitorsPerDateB']"
   ]
  },
  {
   "cell_type": "code",
   "execution_count": 61,
   "metadata": {},
   "outputs": [],
   "source": [
    "visitorsBCummulative = visitorsBDaily.apply(\n",
    "    lambda x: visitorsBDaily[visitorsBDaily['date'] <= x['date']].agg(\n",
    "        {'date': 'max', 'visitorsPerDateB': 'sum'}\n",
    "    ),\n",
    "    axis=1,\n",
    ")"
   ]
  },
  {
   "cell_type": "code",
   "execution_count": 62,
   "metadata": {},
   "outputs": [],
   "source": [
    "visitorsBCummulative.columns = ['date', 'visitorsCummulativeB']"
   ]
  },
  {
   "cell_type": "code",
   "execution_count": 63,
   "metadata": {},
   "outputs": [],
   "source": [
    "ordersADaily = (\n",
    "    orders[orders['group'] == 'A'][['date', 'transactionId', 'visitorId', 'revenue']]\n",
    "    .groupby('date', as_index=False)\n",
    "    .agg({'transactionId': pd.Series.nunique, 'revenue': 'sum'})\n",
    ")"
   ]
  },
  {
   "cell_type": "code",
   "execution_count": 64,
   "metadata": {},
   "outputs": [],
   "source": [
    "ordersADaily.columns = ['date', 'ordersPerDateA', 'revenuePerDateA']"
   ]
  },
  {
   "cell_type": "code",
   "execution_count": 65,
   "metadata": {},
   "outputs": [],
   "source": [
    "ordersACummulative = ordersADaily.apply(\n",
    "    lambda x: ordersADaily[ordersADaily['date'] <= x['date']].agg(\n",
    "        {'date': 'max', 'ordersPerDateA': 'sum', 'revenuePerDateA': 'sum'}\n",
    "    ),\n",
    "    axis=1,\n",
    ").sort_values(by=['date'])\n",
    "ordersACummulative.columns = [\n",
    "    'date',\n",
    "    'ordersCummulativeA',\n",
    "    'revenueCummulativeA',\n",
    "]"
   ]
  },
  {
   "cell_type": "code",
   "execution_count": 66,
   "metadata": {},
   "outputs": [],
   "source": [
    "ordersBDaily = (\n",
    "    orders[orders['group'] == 'B'][['date', 'transactionId', 'visitorId', 'revenue']]\n",
    "    .groupby('date', as_index=False)\n",
    "    .agg({'transactionId': pd.Series.nunique, 'revenue': 'sum'})\n",
    ")"
   ]
  },
  {
   "cell_type": "code",
   "execution_count": 67,
   "metadata": {},
   "outputs": [],
   "source": [
    "ordersBDaily.columns = ['date', 'ordersPerDateB', 'revenuePerDateB']"
   ]
  },
  {
   "cell_type": "code",
   "execution_count": 68,
   "metadata": {},
   "outputs": [],
   "source": [
    "ordersBCummulative = ordersBDaily.apply(\n",
    "    lambda x: ordersBDaily[ordersBDaily['date'] <= x['date']].agg(\n",
    "        {'date': 'max', 'ordersPerDateB': 'sum', 'revenuePerDateB': 'sum'}\n",
    "    ),\n",
    "    axis=1,\n",
    ").sort_values(by=['date'])\n",
    "ordersBCummulative.columns = [\n",
    "    'date',\n",
    "    'ordersCummulativeB',\n",
    "    'revenueCummulativeB',\n",
    "]"
   ]
  },
  {
   "cell_type": "code",
   "execution_count": 69,
   "metadata": {},
   "outputs": [],
   "source": [
    "data = (\n",
    "    ordersADaily.merge(\n",
    "        ordersBDaily, left_on='date', right_on='date', how='left'\n",
    "    )\n",
    "    .merge(ordersACummulative, left_on='date', right_on='date', how='left')\n",
    "    .merge(ordersBCummulative, left_on='date', right_on='date', how='left')\n",
    "    .merge(visitorsADaily, left_on='date', right_on='date', how='left')\n",
    "    .merge(visitorsBDaily, left_on='date', right_on='date', how='left')\n",
    "    .merge(visitorsACummulative, left_on='date', right_on='date', how='left')\n",
    "    .merge(visitorsBCummulative, left_on='date', right_on='date', how='left')\n",
    ")"
   ]
  },
  {
   "cell_type": "code",
   "execution_count": 70,
   "metadata": {
    "scrolled": true
   },
   "outputs": [
    {
     "data": {
      "text/html": [
       "<div>\n",
       "<style scoped>\n",
       "    .dataframe tbody tr th:only-of-type {\n",
       "        vertical-align: middle;\n",
       "    }\n",
       "\n",
       "    .dataframe tbody tr th {\n",
       "        vertical-align: top;\n",
       "    }\n",
       "\n",
       "    .dataframe thead th {\n",
       "        text-align: right;\n",
       "    }\n",
       "</style>\n",
       "<table border=\"1\" class=\"dataframe\">\n",
       "  <thead>\n",
       "    <tr style=\"text-align: right;\">\n",
       "      <th></th>\n",
       "      <th>date</th>\n",
       "      <th>ordersPerDateA</th>\n",
       "      <th>revenuePerDateA</th>\n",
       "      <th>ordersPerDateB</th>\n",
       "      <th>revenuePerDateB</th>\n",
       "      <th>ordersCummulativeA</th>\n",
       "      <th>revenueCummulativeA</th>\n",
       "      <th>ordersCummulativeB</th>\n",
       "      <th>revenueCummulativeB</th>\n",
       "      <th>visitorsPerDateA</th>\n",
       "      <th>visitorsPerDateB</th>\n",
       "      <th>visitorsCummulativeA</th>\n",
       "      <th>visitorsCummulativeB</th>\n",
       "    </tr>\n",
       "  </thead>\n",
       "  <tbody>\n",
       "    <tr>\n",
       "      <th>0</th>\n",
       "      <td>2019-08-01</td>\n",
       "      <td>24</td>\n",
       "      <td>148579</td>\n",
       "      <td>21</td>\n",
       "      <td>101217</td>\n",
       "      <td>24</td>\n",
       "      <td>148579</td>\n",
       "      <td>21</td>\n",
       "      <td>101217</td>\n",
       "      <td>719</td>\n",
       "      <td>713</td>\n",
       "      <td>719</td>\n",
       "      <td>713</td>\n",
       "    </tr>\n",
       "    <tr>\n",
       "      <th>1</th>\n",
       "      <td>2019-08-02</td>\n",
       "      <td>20</td>\n",
       "      <td>93822</td>\n",
       "      <td>24</td>\n",
       "      <td>165531</td>\n",
       "      <td>44</td>\n",
       "      <td>242401</td>\n",
       "      <td>45</td>\n",
       "      <td>266748</td>\n",
       "      <td>619</td>\n",
       "      <td>581</td>\n",
       "      <td>1338</td>\n",
       "      <td>1294</td>\n",
       "    </tr>\n",
       "    <tr>\n",
       "      <th>2</th>\n",
       "      <td>2019-08-03</td>\n",
       "      <td>24</td>\n",
       "      <td>112473</td>\n",
       "      <td>16</td>\n",
       "      <td>114248</td>\n",
       "      <td>68</td>\n",
       "      <td>354874</td>\n",
       "      <td>61</td>\n",
       "      <td>380996</td>\n",
       "      <td>507</td>\n",
       "      <td>509</td>\n",
       "      <td>1845</td>\n",
       "      <td>1803</td>\n",
       "    </tr>\n",
       "    <tr>\n",
       "      <th>3</th>\n",
       "      <td>2019-08-04</td>\n",
       "      <td>16</td>\n",
       "      <td>70825</td>\n",
       "      <td>17</td>\n",
       "      <td>108571</td>\n",
       "      <td>84</td>\n",
       "      <td>425699</td>\n",
       "      <td>78</td>\n",
       "      <td>489567</td>\n",
       "      <td>717</td>\n",
       "      <td>770</td>\n",
       "      <td>2562</td>\n",
       "      <td>2573</td>\n",
       "    </tr>\n",
       "    <tr>\n",
       "      <th>4</th>\n",
       "      <td>2019-08-05</td>\n",
       "      <td>25</td>\n",
       "      <td>124218</td>\n",
       "      <td>23</td>\n",
       "      <td>92428</td>\n",
       "      <td>109</td>\n",
       "      <td>549917</td>\n",
       "      <td>101</td>\n",
       "      <td>581995</td>\n",
       "      <td>756</td>\n",
       "      <td>707</td>\n",
       "      <td>3318</td>\n",
       "      <td>3280</td>\n",
       "    </tr>\n",
       "  </tbody>\n",
       "</table>\n",
       "</div>"
      ],
      "text/plain": [
       "        date  ordersPerDateA  revenuePerDateA  ordersPerDateB  \\\n",
       "0 2019-08-01              24           148579              21   \n",
       "1 2019-08-02              20            93822              24   \n",
       "2 2019-08-03              24           112473              16   \n",
       "3 2019-08-04              16            70825              17   \n",
       "4 2019-08-05              25           124218              23   \n",
       "\n",
       "   revenuePerDateB  ordersCummulativeA  revenueCummulativeA  \\\n",
       "0           101217                  24               148579   \n",
       "1           165531                  44               242401   \n",
       "2           114248                  68               354874   \n",
       "3           108571                  84               425699   \n",
       "4            92428                 109               549917   \n",
       "\n",
       "   ordersCummulativeB  revenueCummulativeB  visitorsPerDateA  \\\n",
       "0                  21               101217               719   \n",
       "1                  45               266748               619   \n",
       "2                  61               380996               507   \n",
       "3                  78               489567               717   \n",
       "4                 101               581995               756   \n",
       "\n",
       "   visitorsPerDateB  visitorsCummulativeA  visitorsCummulativeB  \n",
       "0               713                   719                   713  \n",
       "1               581                  1338                  1294  \n",
       "2               509                  1845                  1803  \n",
       "3               770                  2562                  2573  \n",
       "4               707                  3318                  3280  "
      ]
     },
     "execution_count": 70,
     "metadata": {},
     "output_type": "execute_result"
    }
   ],
   "source": [
    "data.head(5)"
   ]
  },
  {
   "cell_type": "markdown",
   "metadata": {},
   "source": [
    "**Подготовили данные для дальнейшего анализа. Создали новый датафрейм `data` со структурой:**\n",
    "* `date` — дата;\n",
    "* `ordersPerDateA` — количество заказов в выбранную дату в группе A;\n",
    "* `revenuePerDateA` — суммарная выручка в выбранную дату в группе A;\n",
    "* `ordersPerDateB` — количество заказов в выбранную дату в группе B;\n",
    "* `revenuePerDateB` — суммарная выручка в выбранную дату в группе B;\n",
    "* `ordersCummulativeA` — суммарное число заказов до выбранной даты включительно в группе A;\n",
    "* `revenueCummulativeA` — суммарная выручка до выбранной даты включительно в группе A;\n",
    "* `ordersCummulativeB` — суммарное количество заказов до выбранной даты включительно в группе B;\n",
    "* `revenueCummulativeB` — суммарная выручка до выбранной даты включительно в группе B;\n",
    "* `visitorsPerDateA` — количество пользователей в выбранную дату в группе A;\n",
    "* `visitorsPerDateB` — количество пользователей в выбранную дату в группе B;\n",
    "* `visitorsCummulativeA` — количество пользователей до выбранной даты включительно в группе A;\n",
    "* `visitorsCummulativeB` — количество пользователей до выбранной даты включительно в группе B."
   ]
  },
  {
   "cell_type": "markdown",
   "metadata": {},
   "source": [
    "**Посчитаем статистическую значимость различия в конверсии между группами.**"
   ]
  },
  {
   "cell_type": "markdown",
   "metadata": {},
   "source": [
    "**Создадим переменные `ordersByUsersA` и `ordersByUsersB` со столбцами [`userId`, `orders`] для пользователей, которые заказывали хотя бы 1 раз и  укажем число совершённых заказов.**"
   ]
  },
  {
   "cell_type": "code",
   "execution_count": 71,
   "metadata": {},
   "outputs": [],
   "source": [
    "#Сгруппируем данные заказов группы А по идентификатору пользователя и найдём уникальные заказы\n",
    "ordersByUsersA = (\n",
    "    orders[orders['group'] == 'A']\n",
    "    .groupby('visitorId', as_index=False)\n",
    "    .agg({'transactionId': pd.Series.nunique})\n",
    ")"
   ]
  },
  {
   "cell_type": "code",
   "execution_count": 72,
   "metadata": {},
   "outputs": [],
   "source": [
    "#Переименуем столбцы\n",
    "ordersByUsersA.columns = ['userId', 'orders']"
   ]
  },
  {
   "cell_type": "markdown",
   "metadata": {},
   "source": [
    "**То же самое делаем для группы В**"
   ]
  },
  {
   "cell_type": "code",
   "execution_count": 73,
   "metadata": {},
   "outputs": [],
   "source": [
    "ordersByUsersB = (\n",
    "    orders[orders['group'] == 'B']\n",
    "    .groupby('visitorId', as_index=False)\n",
    "    .agg({'transactionId': pd.Series.nunique})\n",
    ")"
   ]
  },
  {
   "cell_type": "code",
   "execution_count": 74,
   "metadata": {},
   "outputs": [],
   "source": [
    "ordersByUsersB.columns = ['userId', 'orders'] "
   ]
  },
  {
   "cell_type": "markdown",
   "metadata": {},
   "source": [
    "**Объявим переменные `sampleA` и `sampleB`, в которых пользователям с заказами будет соответствовать число заказов пользователя. А пользователям без заказов будут соответствовать нули.**"
   ]
  },
  {
   "cell_type": "code",
   "execution_count": 75,
   "metadata": {},
   "outputs": [],
   "source": [
    "sampleA = pd.concat([ordersByUsersA['orders'],\n",
    "                     pd.Series(0, index=np.arange(data['visitorsPerDateA']\n",
    "                                                  .sum() - len(ordersByUsersA['orders'])), name='orders')],axis=0)"
   ]
  },
  {
   "cell_type": "code",
   "execution_count": 76,
   "metadata": {},
   "outputs": [],
   "source": [
    "sampleB = pd.concat([ordersByUsersB['orders'],\n",
    "                     pd.Series(0, index=np.arange(data['visitorsPerDateB']\n",
    "                                                  .sum() - len(ordersByUsersB['orders'])), name='orders')],axis=0)"
   ]
  },
  {
   "cell_type": "markdown",
   "metadata": {},
   "source": [
    "**Посчитаем статистическую значимость различия конверсии.**\n",
    "\n",
    "* Применим тест Манна-Уитни.\n",
    "* Выведем p-value для сравнения конверсии между группами. \n",
    "* Округлим p-value до 5 знаков после запятой.\n",
    "* Вычислим и выведите относительное различие в конверсии между группами. \n",
    "* Округлим до 3 знаков после запятой."
   ]
  },
  {
   "cell_type": "code",
   "execution_count": 77,
   "metadata": {},
   "outputs": [
    {
     "name": "stdout",
     "output_type": "stream",
     "text": [
      "0.00840\n"
     ]
    }
   ],
   "source": [
    "print(\"{0:.5f}\".format(stats.mannwhitneyu(sampleA, sampleB)[1]))"
   ]
  },
  {
   "cell_type": "code",
   "execution_count": 78,
   "metadata": {},
   "outputs": [
    {
     "name": "stdout",
     "output_type": "stream",
     "text": [
      "0.138\n"
     ]
    }
   ],
   "source": [
    "print(\"{0:.3f}\".format((data['ordersPerDateB']\n",
    "                        .sum()/data['visitorsPerDateB'].sum())/(data['ordersPerDateA']\n",
    "                                                                .sum()/data['visitorsPerDateA'].sum())-1)) "
   ]
  },
  {
   "cell_type": "markdown",
   "metadata": {},
   "source": [
    "**P-value меньше 0.05, поэтому нулевую гипотезу отвергаем. Анализ \"сырых\" данных сообщает, что в конверсии между группами есть статистически значимые различия. Отдельный прирост конверсии группы В к конверсии группы А равен 13.8% (нулевая гипотеза всегда приравнивает, значит Н1 - статистически значимые различий в группах имеются).**"
   ]
  },
  {
   "cell_type": "markdown",
   "metadata": {},
   "source": [
    "### Посчитаем статистическую значимость различий в среднем чеке заказа между группами по «сырым» данным. Сделаем выводы и предположения."
   ]
  },
  {
   "cell_type": "markdown",
   "metadata": {},
   "source": [
    "* H₀ - Средний чек A равен среднему чеку группы B\n",
    "* H₁ - Средний чек A  НЕ равен среднему чеку группы B"
   ]
  },
  {
   "cell_type": "markdown",
   "metadata": {},
   "source": [
    "**Сравним средние чеки по \"сырым\" данным**"
   ]
  },
  {
   "cell_type": "code",
   "execution_count": 79,
   "metadata": {},
   "outputs": [
    {
     "name": "stdout",
     "output_type": "stream",
     "text": [
      "0.365\n"
     ]
    }
   ],
   "source": [
    "print('{0:.3f}'.format(stats.mannwhitneyu(orders[orders['group']=='A']['revenue'], \n",
    "                                          orders[orders['group']=='B']['revenue'])[1]))"
   ]
  },
  {
   "cell_type": "code",
   "execution_count": 80,
   "metadata": {},
   "outputs": [
    {
     "name": "stdout",
     "output_type": "stream",
     "text": [
      "0.259\n"
     ]
    }
   ],
   "source": [
    "print('{0:.3f}'.format(orders[orders['group']=='B']['revenue']\n",
    "                       .mean()/orders[orders['group']=='A']['revenue'].mean()-1)) "
   ]
  },
  {
   "cell_type": "markdown",
   "metadata": {},
   "source": [
    "**P-value больше 0.05, значит статистических различий в среднем чеке между группами нет. Относительное различие средего чека между группами больше 25%**"
   ]
  },
  {
   "cell_type": "markdown",
   "metadata": {},
   "source": [
    "### Очистка данных от аномалий"
   ]
  },
  {
   "cell_type": "markdown",
   "metadata": {},
   "source": [
    "**95 и 99 перцентили средних чеков равны 28000 и 58233 рублям. 95 и 99 перцентили числа заказов на одного пользователя равны 2 и 4 заказам на пользователя.**\n",
    "\n",
    "**Примем за аномальных пользователей тех, кто совершил 4 заказа и более или или совершил заказ на сумму свыше 28 000 рублей.**\n",
    "\n",
    "**Сначала определить аномальные заказы, затем пользователей, совершивших их и добавим их в список аномальных.**"
   ]
  },
  {
   "cell_type": "code",
   "execution_count": 81,
   "metadata": {},
   "outputs": [],
   "source": [
    "usersWithManyOrders = pd.concat(\n",
    "    [\n",
    "        ordersByUsersA[ordersByUsersA['orders'] > 2]['userId'],\n",
    "        ordersByUsersB[ordersByUsersB['orders'] > 2]['userId'],\n",
    "    ],\n",
    "    axis=0,\n",
    ")"
   ]
  },
  {
   "cell_type": "code",
   "execution_count": 82,
   "metadata": {},
   "outputs": [],
   "source": [
    "usersWithExpensiveOrders = orders[orders['revenue'] > 28000]['visitorId']"
   ]
  },
  {
   "cell_type": "code",
   "execution_count": 83,
   "metadata": {},
   "outputs": [],
   "source": [
    "abnormalUsers = (\n",
    "    pd.concat([usersWithManyOrders, usersWithExpensiveOrders], axis=0)\n",
    "    .drop_duplicates()\n",
    "    .sort_values()\n",
    ")"
   ]
  },
  {
   "cell_type": "code",
   "execution_count": 84,
   "metadata": {},
   "outputs": [
    {
     "data": {
      "text/plain": [
       "1099    148427295\n",
       "18      199603092\n",
       "928     204675465\n",
       "23      237748145\n",
       "37      249864742\n",
       "dtype: int64"
      ]
     },
     "execution_count": 84,
     "metadata": {},
     "output_type": "execute_result"
    }
   ],
   "source": [
    "abnormalUsers.head(5)"
   ]
  },
  {
   "cell_type": "markdown",
   "metadata": {},
   "source": [
    "**Выведем количество аномальных пользователей**"
   ]
  },
  {
   "cell_type": "code",
   "execution_count": 85,
   "metadata": {},
   "outputs": [
    {
     "data": {
      "text/plain": [
       "(74,)"
      ]
     },
     "execution_count": 85,
     "metadata": {},
     "output_type": "execute_result"
    }
   ],
   "source": [
    "abnormalUsers.shape"
   ]
  },
  {
   "cell_type": "markdown",
   "metadata": {},
   "source": [
    "**Итого получили 74 аномальных пользователей. Для дальнейшего анализа их нужно исключить из теста**"
   ]
  },
  {
   "cell_type": "markdown",
   "metadata": {},
   "source": [
    "### Посчитаем статистическую значимость различий в конверсии между группами по «очищенным» данным. Сделаем выводы и предположения."
   ]
  },
  {
   "cell_type": "markdown",
   "metadata": {},
   "source": [
    "* H₀ - Конверсия в группе A равна конверсии в группе B\n",
    "* H₁ - Конверсия в группе A не равна конверсии в группе B"
   ]
  },
  {
   "cell_type": "markdown",
   "metadata": {},
   "source": [
    "**Объявим переменные `sampleAFiltered` и `sampleBFiltered`, в которых сохраним очищенные данные о заказах — не включая аномальных пользователей.**"
   ]
  },
  {
   "cell_type": "code",
   "execution_count": 86,
   "metadata": {},
   "outputs": [],
   "source": [
    "sampleAFiltered = pd.concat(\n",
    "    [\n",
    "        ordersByUsersA[\n",
    "            np.logical_not(ordersByUsersA['userId'].isin(abnormalUsers))\n",
    "        ]['orders'],\n",
    "        pd.Series(\n",
    "            0,\n",
    "            index=np.arange(\n",
    "                data['visitorsPerDateA'].sum() - len(ordersByUsersA['orders'])\n",
    "            ),\n",
    "            name='orders',\n",
    "        ),\n",
    "    ],\n",
    "    axis=0,\n",
    ")"
   ]
  },
  {
   "cell_type": "code",
   "execution_count": 87,
   "metadata": {},
   "outputs": [],
   "source": [
    "sampleBFiltered = pd.concat(\n",
    "    [\n",
    "        ordersByUsersB[\n",
    "            np.logical_not(ordersByUsersB['userId'].isin(abnormalUsers))\n",
    "        ]['orders'],\n",
    "        pd.Series(\n",
    "            0,\n",
    "            index=np.arange(\n",
    "                data['visitorsPerDateB'].sum() - len(ordersByUsersB['orders'])\n",
    "            ),\n",
    "            name='orders',\n",
    "        ),\n",
    "    ],\n",
    "    axis=0,\n",
    ")"
   ]
  },
  {
   "cell_type": "markdown",
   "metadata": {},
   "source": [
    "**Выводим p-value**"
   ]
  },
  {
   "cell_type": "code",
   "execution_count": 88,
   "metadata": {},
   "outputs": [
    {
     "name": "stdout",
     "output_type": "stream",
     "text": [
      "0.00652\n"
     ]
    }
   ],
   "source": [
    "print('{0:.5f}'.format(stats.mannwhitneyu(sampleAFiltered, sampleBFiltered)[1]))"
   ]
  },
  {
   "cell_type": "code",
   "execution_count": 89,
   "metadata": {},
   "outputs": [
    {
     "name": "stdout",
     "output_type": "stream",
     "text": [
      "0.173\n"
     ]
    }
   ],
   "source": [
    "print('{0:.3f}'.format(sampleBFiltered.mean()/sampleAFiltered.mean()-1))"
   ]
  },
  {
   "cell_type": "markdown",
   "metadata": {},
   "source": [
    "**Статистическая значимость достигнута. Группа В лучше группы А. Отвергаем H₀**"
   ]
  },
  {
   "cell_type": "markdown",
   "metadata": {},
   "source": [
    "### Посчитаем статистическую значимость различий в среднем чеке заказа между группами по «очищенным» данным. Сделаем выводы и предположения."
   ]
  },
  {
   "cell_type": "markdown",
   "metadata": {},
   "source": [
    "* H₀ - Средний чек A равен среднему чеку группы B\n",
    "* H₁ - Средний чек A не равен среднему чеку группы B"
   ]
  },
  {
   "cell_type": "code",
   "execution_count": 90,
   "metadata": {},
   "outputs": [
    {
     "name": "stdout",
     "output_type": "stream",
     "text": [
      "0.738\n"
     ]
    }
   ],
   "source": [
    "print(\n",
    "    '{0:.3f}'.format(\n",
    "        stats.mannwhitneyu(\n",
    "            orders[\n",
    "                np.logical_and(\n",
    "                    orders['group'] == 'A',\n",
    "                    np.logical_not(orders['visitorId'].isin(abnormalUsers)),\n",
    "                )\n",
    "            ]['revenue'],\n",
    "            orders[\n",
    "                np.logical_and(\n",
    "                    orders['group'] == 'B',\n",
    "                    np.logical_not(orders['visitorId'].isin(abnormalUsers)),\n",
    "                )\n",
    "            ]['revenue'], \n",
    "            True, # что бы задать 4ый параметр \n",
    "            'two-sided' # для двух-стороннего теста\n",
    "        )[1]\n",
    "    )\n",
    ")"
   ]
  },
  {
   "cell_type": "code",
   "execution_count": 91,
   "metadata": {},
   "outputs": [
    {
     "name": "stdout",
     "output_type": "stream",
     "text": [
      "-0.020\n"
     ]
    }
   ],
   "source": [
    "print(\n",
    "    \"{0:.3f}\".format(\n",
    "        orders[\n",
    "            np.logical_and(\n",
    "                orders['group'] == 'B',\n",
    "                np.logical_not(orders['visitorId'].isin(abnormalUsers)),\n",
    "            )\n",
    "        ]['revenue'].mean()\n",
    "        / orders[\n",
    "            np.logical_and(\n",
    "                orders['group'] == 'A',\n",
    "                np.logical_not(orders['visitorId'].isin(abnormalUsers)),\n",
    "            )\n",
    "        ]['revenue'].mean()\n",
    "        - 1\n",
    "    )\n",
    ")"
   ]
  },
  {
   "cell_type": "markdown",
   "metadata": {},
   "source": [
    "**После очистки данных от аномалий p-value по среднему чеку не изменился т.е. статистически значимых отличий между группами нет. Относительное различие группы В относительно группы А, после очистки данных упало на  27.9%. Отвергаем нулевую гипотезу**"
   ]
  },
  {
   "cell_type": "markdown",
   "metadata": {},
   "source": [
    "### Принимаем решение по результатам теста "
   ]
  },
  {
   "cell_type": "markdown",
   "metadata": {},
   "source": [
    "* Есть статистически значимое различие по конверсии между группами как по сырым данным, так и после фильтрации аномалий.\n",
    "* Как по сырым, так и по отфильтрованным данным - нет статистически значимого различия по среднему чеку между группами"
   ]
  },
  {
   "cell_type": "markdown",
   "metadata": {},
   "source": [
    "**График различия конверсии между группами сообщает, что результаты группы B лучше группы A: имеют тенденцию к росту, либо зафиксировались около среднего значения (в 14%)**"
   ]
  },
  {
   "cell_type": "code",
   "execution_count": 92,
   "metadata": {
    "scrolled": false
   },
   "outputs": [
    {
     "data": {
      "image/png": "[encoded data removed]",
      "text/plain": [
       "<Figure size 1440x792 with 1 Axes>"
      ]
     },
     "metadata": {
      "needs_background": "light"
     },
     "output_type": "display_data"
    }
   ],
   "source": [
    "plt.figure(figsize = (20,11))\n",
    "plt.plot(mergedCumulativeConversions['date'], \n",
    "         mergedCumulativeConversions['conversionB']/mergedCumulativeConversions['conversionA']-1, \n",
    "         label=\"Относительный прирост конверсии группы B относительно группы A\")\n",
    "plt.legend()\n",
    "plt.title('Относительное изменение кумулятивной конверсии группы B к группе A.', size = 20)\n",
    "plt.axhline(y=0, color='black', linestyle='--')\n",
    "plt.axhline(y=0.2, color='red', linestyle='--')\n",
    "plt.axis(['2019-08-01', '2019-08-31', -0.15, 0.25])\n",
    "plt.xlabel('Дата', size = 15)\n",
    "plt.ylabel('Конверсия %', size = 15)\n",
    "plt.grid()\n",
    "plt.show()"
   ]
  },
  {
   "cell_type": "markdown",
   "metadata": {},
   "source": [
    "**График различия среднего чека колеблется: он-то и позволил нам найти аномалии. Сделать из этого графика определённые выводы нельзя.**"
   ]
  },
  {
   "cell_type": "code",
   "execution_count": 93,
   "metadata": {},
   "outputs": [
    {
     "data": {
      "image/png": "[encoded data removed]",
      "text/plain": [
       "<Figure size 1440x792 with 1 Axes>"
      ]
     },
     "metadata": {
      "needs_background": "light"
     },
     "output_type": "display_data"
    }
   ],
   "source": [
    "plt.figure(figsize = (20,11))\n",
    "plt.plot(mergedCumulativeRevenue['date'], \n",
    "         (mergedCumulativeRevenue['revenueB']/mergedCumulativeRevenue['ordersB'])/(mergedCumulativeRevenue['revenueA']/mergedCumulativeRevenue['ordersA'])-1)\n",
    "\n",
    "plt.title('Относительное изменение кумулятивного среднего чека группы B к группе A', size = 20)\n",
    "plt.xlabel('Дата', size = 15)\n",
    "plt.ylabel('Чек в %', size = 15)\n",
    "# добавляем ось X\n",
    "plt.axhline(y=0, color='blue', linestyle='--') \n",
    "plt.grid()\n",
    "plt.show()"
   ]
  },
  {
   "cell_type": "markdown",
   "metadata": {},
   "source": [
    "### Вывод:"
   ]
  },
  {
   "cell_type": "markdown",
   "metadata": {},
   "source": [
    "**На этапе предобработки подготовили наши данные к дальнейшему исследованию.**\n",
    "\n",
    "**А именно:**\n",
    "* Исправили заголовки столбцов и привели их к \"хорошему\" стилю\n",
    "* Изменили тип данных в таблицах с датами для удобства работы\n",
    "* Проверили таблицы на наличие дубликатов (дубликатов нет)\n",
    "* Проверили таблицы на наличие пропусков (пропусков нет)\n",
    "\n",
    "**Данные в общем и целом хорошие, но с недочётами, которые быстро исправили для корректной работы**\n",
    "\n",
    "**На этапе приоритезации гипотез сделали следующее:**\n",
    "* Применили фреймворк ICE для приоритизации гипотез. \n",
    "* Применили фреймворк RICE для приоритизации гипотез.\n",
    "\n",
    "**В результате выяснили что в приоритете имеют место быть следующие гипотезы, так как охват у них больше:**\n",
    "\n",
    "* Добавить форму подписки на все основные страницы, чтобы собрать базу клиентов для email-рассылок\n",
    "* Добавить блоки рекомендаций товаров на сайт интернет магазина, чтобы повысить конверсию и средний чек заказа\n",
    "\n",
    "**Общий итог:**\n",
    "\n",
    "* Есть статистически значимое различие по конверсии между группами как по сырым данным, так и после фильтрации аномалий.\n",
    "\n",
    "\n",
    "* Как по сырым, так и по отфильтрованным данным - нет статистически значимого различия по среднему чеку между группами (раз p-value больше уровня значимости, то никаких отличий между группами нет. Выигрыш группы А в данном случае просто шум, случайность).\n",
    "\n",
    "\n",
    "* График различия конверсии между группами сообщает, что результаты группы B лучше группы A: имеют тенденцию к росту, либо зафиксировались около среднего значения (в 13%), после удаления аномалий - 17.3%\n",
    "\n",
    "\n",
    "**По результатам теста видно, что пользователи стали покупать чаще на ту же сумму.**\n",
    "\n",
    "**Исходя из проведенного теста, его следует остановить и признать успешным, так как значения значения комулятивных метрик стабилизировались. Конверсия выросла, а срений чек не поменялся.**\n",
    "\n",
    "**По итогу группа В относительно группы А - лучше, так как группа В приносит бизнесу больше денег.**"
   ]
  }
 ],
 "metadata": {
  "ExecuteTimeLog": [
   {
    "duration": 87,
    "start_time": "2022-02-03T07:27:55.010Z"
   },
   {
    "duration": 1319,
    "start_time": "2022-02-03T07:28:15.081Z"
   },
   {
    "duration": 17,
    "start_time": "2022-02-03T07:31:22.435Z"
   },
   {
    "duration": 11,
    "start_time": "2022-02-03T07:31:53.286Z"
   },
   {
    "duration": 16,
    "start_time": "2022-02-03T07:31:55.805Z"
   },
   {
    "duration": 5,
    "start_time": "2022-02-03T08:11:54.001Z"
   },
   {
    "duration": 341,
    "start_time": "2022-02-03T08:13:07.841Z"
   },
   {
    "duration": 4,
    "start_time": "2022-02-03T08:13:22.900Z"
   },
   {
    "duration": 5,
    "start_time": "2022-02-03T08:13:34.639Z"
   },
   {
    "duration": 4,
    "start_time": "2022-02-03T08:14:44.240Z"
   },
   {
    "duration": 6,
    "start_time": "2022-02-03T08:17:47.952Z"
   },
   {
    "duration": 8,
    "start_time": "2022-02-03T08:17:59.954Z"
   },
   {
    "duration": 7,
    "start_time": "2022-02-03T08:18:36.436Z"
   },
   {
    "duration": 5,
    "start_time": "2022-02-03T08:19:05.066Z"
   },
   {
    "duration": 7,
    "start_time": "2022-02-03T08:19:17.568Z"
   },
   {
    "duration": 6,
    "start_time": "2022-02-03T08:19:34.590Z"
   },
   {
    "duration": 7,
    "start_time": "2022-02-03T08:21:20.402Z"
   },
   {
    "duration": 7,
    "start_time": "2022-02-03T08:21:22.295Z"
   },
   {
    "duration": 6,
    "start_time": "2022-02-03T08:21:24.360Z"
   },
   {
    "duration": 7,
    "start_time": "2022-02-03T08:22:15.500Z"
   },
   {
    "duration": 7,
    "start_time": "2022-02-03T08:22:17.669Z"
   },
   {
    "duration": 6,
    "start_time": "2022-02-03T08:22:20.192Z"
   },
   {
    "duration": 14,
    "start_time": "2022-02-03T08:33:23.714Z"
   },
   {
    "duration": 12,
    "start_time": "2022-02-03T08:33:35.572Z"
   },
   {
    "duration": 4,
    "start_time": "2022-02-03T08:34:03.325Z"
   },
   {
    "duration": 9,
    "start_time": "2022-02-03T08:34:06.792Z"
   },
   {
    "duration": 65,
    "start_time": "2022-02-03T08:37:12.836Z"
   },
   {
    "duration": 1512,
    "start_time": "2022-02-03T08:37:24.121Z"
   },
   {
    "duration": 19,
    "start_time": "2022-02-03T08:37:25.636Z"
   },
   {
    "duration": 14,
    "start_time": "2022-02-03T08:37:25.658Z"
   },
   {
    "duration": 12,
    "start_time": "2022-02-03T08:37:25.675Z"
   },
   {
    "duration": 21,
    "start_time": "2022-02-03T08:37:25.689Z"
   },
   {
    "duration": 8,
    "start_time": "2022-02-03T08:37:25.712Z"
   },
   {
    "duration": 10,
    "start_time": "2022-02-03T08:37:25.722Z"
   },
   {
    "duration": 8,
    "start_time": "2022-02-03T08:37:25.734Z"
   },
   {
    "duration": 14,
    "start_time": "2022-02-03T08:37:25.744Z"
   },
   {
    "duration": 17,
    "start_time": "2022-02-03T08:37:25.761Z"
   },
   {
    "duration": 34,
    "start_time": "2022-02-03T08:37:25.780Z"
   },
   {
    "duration": 12,
    "start_time": "2022-02-03T08:37:25.816Z"
   },
   {
    "duration": 8,
    "start_time": "2022-02-03T08:37:25.830Z"
   },
   {
    "duration": 14,
    "start_time": "2022-02-03T08:37:25.840Z"
   },
   {
    "duration": 11,
    "start_time": "2022-02-03T08:37:25.856Z"
   },
   {
    "duration": 40,
    "start_time": "2022-02-03T08:37:25.869Z"
   },
   {
    "duration": 7,
    "start_time": "2022-02-03T08:37:25.911Z"
   },
   {
    "duration": 19,
    "start_time": "2022-02-03T08:37:25.920Z"
   },
   {
    "duration": 66,
    "start_time": "2022-02-03T08:37:56.112Z"
   },
   {
    "duration": 1203,
    "start_time": "2022-02-03T08:38:02.755Z"
   },
   {
    "duration": 17,
    "start_time": "2022-02-03T08:38:03.960Z"
   },
   {
    "duration": 13,
    "start_time": "2022-02-03T08:38:03.979Z"
   },
   {
    "duration": 17,
    "start_time": "2022-02-03T08:38:03.994Z"
   },
   {
    "duration": 11,
    "start_time": "2022-02-03T08:38:04.013Z"
   },
   {
    "duration": 8,
    "start_time": "2022-02-03T08:38:04.026Z"
   },
   {
    "duration": 8,
    "start_time": "2022-02-03T08:38:04.035Z"
   },
   {
    "duration": 7,
    "start_time": "2022-02-03T08:38:04.046Z"
   },
   {
    "duration": 13,
    "start_time": "2022-02-03T08:38:04.055Z"
   },
   {
    "duration": 9,
    "start_time": "2022-02-03T08:38:04.070Z"
   },
   {
    "duration": 7,
    "start_time": "2022-02-03T08:38:04.107Z"
   },
   {
    "duration": 9,
    "start_time": "2022-02-03T08:38:04.116Z"
   },
   {
    "duration": 13,
    "start_time": "2022-02-03T08:38:04.126Z"
   },
   {
    "duration": 9,
    "start_time": "2022-02-03T08:38:04.141Z"
   },
   {
    "duration": 15,
    "start_time": "2022-02-03T08:38:04.152Z"
   },
   {
    "duration": 40,
    "start_time": "2022-02-03T08:38:04.169Z"
   },
   {
    "duration": 7,
    "start_time": "2022-02-03T08:38:04.212Z"
   },
   {
    "duration": 18,
    "start_time": "2022-02-03T08:38:04.221Z"
   },
   {
    "duration": 436,
    "start_time": "2022-02-03T08:38:26.381Z"
   },
   {
    "duration": 66,
    "start_time": "2022-02-03T08:38:37.809Z"
   },
   {
    "duration": 66,
    "start_time": "2022-02-03T08:45:02.197Z"
   },
   {
    "duration": 1359,
    "start_time": "2022-02-03T08:45:08.499Z"
   },
   {
    "duration": 18,
    "start_time": "2022-02-03T08:45:09.860Z"
   },
   {
    "duration": 12,
    "start_time": "2022-02-03T08:45:09.880Z"
   },
   {
    "duration": 14,
    "start_time": "2022-02-03T08:45:09.895Z"
   },
   {
    "duration": 6,
    "start_time": "2022-02-03T08:45:09.911Z"
   },
   {
    "duration": 7,
    "start_time": "2022-02-03T08:45:09.919Z"
   },
   {
    "duration": 10,
    "start_time": "2022-02-03T08:45:09.927Z"
   },
   {
    "duration": 10,
    "start_time": "2022-02-03T08:45:09.939Z"
   },
   {
    "duration": 14,
    "start_time": "2022-02-03T08:45:09.951Z"
   },
   {
    "duration": 40,
    "start_time": "2022-02-03T08:45:09.967Z"
   },
   {
    "duration": 7,
    "start_time": "2022-02-03T08:45:10.010Z"
   },
   {
    "duration": 14,
    "start_time": "2022-02-03T08:45:10.019Z"
   },
   {
    "duration": 17,
    "start_time": "2022-02-03T08:45:10.035Z"
   },
   {
    "duration": 24,
    "start_time": "2022-02-03T08:45:10.054Z"
   },
   {
    "duration": 11,
    "start_time": "2022-02-03T08:45:10.081Z"
   },
   {
    "duration": 19,
    "start_time": "2022-02-03T08:45:10.094Z"
   },
   {
    "duration": 8,
    "start_time": "2022-02-03T08:45:10.116Z"
   },
   {
    "duration": 15,
    "start_time": "2022-02-03T08:45:10.125Z"
   },
   {
    "duration": 5,
    "start_time": "2022-02-03T08:48:27.855Z"
   },
   {
    "duration": 11,
    "start_time": "2022-02-03T08:48:29.944Z"
   },
   {
    "duration": 10,
    "start_time": "2022-02-03T08:49:22.289Z"
   },
   {
    "duration": 10,
    "start_time": "2022-02-03T08:49:34.027Z"
   },
   {
    "duration": 10,
    "start_time": "2022-02-03T08:49:38.596Z"
   },
   {
    "duration": 11,
    "start_time": "2022-02-03T08:50:00.831Z"
   },
   {
    "duration": 1292,
    "start_time": "2022-02-03T08:50:07.560Z"
   },
   {
    "duration": 17,
    "start_time": "2022-02-03T08:50:08.855Z"
   },
   {
    "duration": 13,
    "start_time": "2022-02-03T08:50:08.874Z"
   },
   {
    "duration": 19,
    "start_time": "2022-02-03T08:50:08.889Z"
   },
   {
    "duration": 7,
    "start_time": "2022-02-03T08:50:08.911Z"
   },
   {
    "duration": 10,
    "start_time": "2022-02-03T08:50:08.920Z"
   },
   {
    "duration": 14,
    "start_time": "2022-02-03T08:50:08.932Z"
   },
   {
    "duration": 12,
    "start_time": "2022-02-03T08:50:08.948Z"
   },
   {
    "duration": 11,
    "start_time": "2022-02-03T08:50:08.962Z"
   },
   {
    "duration": 35,
    "start_time": "2022-02-03T08:50:08.975Z"
   },
   {
    "duration": 13,
    "start_time": "2022-02-03T08:50:09.012Z"
   },
   {
    "duration": 13,
    "start_time": "2022-02-03T08:50:09.027Z"
   },
   {
    "duration": 13,
    "start_time": "2022-02-03T08:50:09.042Z"
   },
   {
    "duration": 14,
    "start_time": "2022-02-03T08:50:09.057Z"
   },
   {
    "duration": 12,
    "start_time": "2022-02-03T08:50:09.073Z"
   },
   {
    "duration": 8,
    "start_time": "2022-02-03T08:50:09.108Z"
   },
   {
    "duration": 13,
    "start_time": "2022-02-03T08:50:09.118Z"
   },
   {
    "duration": 18,
    "start_time": "2022-02-03T08:50:09.133Z"
   },
   {
    "duration": 15,
    "start_time": "2022-02-03T08:50:09.153Z"
   },
   {
    "duration": 9,
    "start_time": "2022-02-03T08:50:09.170Z"
   },
   {
    "duration": 37,
    "start_time": "2022-02-03T08:50:09.181Z"
   },
   {
    "duration": 23,
    "start_time": "2022-02-03T08:50:09.220Z"
   },
   {
    "duration": 1241,
    "start_time": "2022-02-03T08:51:17.417Z"
   },
   {
    "duration": 15,
    "start_time": "2022-02-03T08:51:18.661Z"
   },
   {
    "duration": 15,
    "start_time": "2022-02-03T08:51:18.678Z"
   },
   {
    "duration": 16,
    "start_time": "2022-02-03T08:51:18.696Z"
   },
   {
    "duration": 6,
    "start_time": "2022-02-03T08:51:18.714Z"
   },
   {
    "duration": 15,
    "start_time": "2022-02-03T08:51:18.722Z"
   },
   {
    "duration": 9,
    "start_time": "2022-02-03T08:51:18.739Z"
   },
   {
    "duration": 9,
    "start_time": "2022-02-03T08:51:18.751Z"
   },
   {
    "duration": 13,
    "start_time": "2022-02-03T08:51:18.763Z"
   },
   {
    "duration": 8,
    "start_time": "2022-02-03T08:51:18.778Z"
   },
   {
    "duration": 22,
    "start_time": "2022-02-03T08:51:18.788Z"
   },
   {
    "duration": 11,
    "start_time": "2022-02-03T08:51:18.812Z"
   },
   {
    "duration": 11,
    "start_time": "2022-02-03T08:51:18.825Z"
   },
   {
    "duration": 11,
    "start_time": "2022-02-03T08:51:18.837Z"
   },
   {
    "duration": 12,
    "start_time": "2022-02-03T08:51:18.850Z"
   },
   {
    "duration": 9,
    "start_time": "2022-02-03T08:51:18.865Z"
   },
   {
    "duration": 9,
    "start_time": "2022-02-03T08:51:18.908Z"
   },
   {
    "duration": 9,
    "start_time": "2022-02-03T08:51:18.919Z"
   },
   {
    "duration": 13,
    "start_time": "2022-02-03T08:51:18.930Z"
   },
   {
    "duration": 14,
    "start_time": "2022-02-03T08:51:18.945Z"
   },
   {
    "duration": 17,
    "start_time": "2022-02-03T08:51:18.961Z"
   },
   {
    "duration": 36,
    "start_time": "2022-02-03T08:51:18.980Z"
   },
   {
    "duration": 14,
    "start_time": "2022-02-03T09:08:33.828Z"
   },
   {
    "duration": 13,
    "start_time": "2022-02-03T09:08:39.788Z"
   },
   {
    "duration": 12,
    "start_time": "2022-02-03T09:08:48.189Z"
   },
   {
    "duration": 13,
    "start_time": "2022-02-03T09:08:54.340Z"
   },
   {
    "duration": 11,
    "start_time": "2022-02-03T09:09:01.520Z"
   },
   {
    "duration": 12,
    "start_time": "2022-02-03T09:09:15.256Z"
   },
   {
    "duration": 7,
    "start_time": "2022-02-03T10:45:53.028Z"
   },
   {
    "duration": 1255,
    "start_time": "2022-02-03T10:45:59.288Z"
   },
   {
    "duration": 15,
    "start_time": "2022-02-03T10:46:00.545Z"
   },
   {
    "duration": 13,
    "start_time": "2022-02-03T10:46:00.562Z"
   },
   {
    "duration": 15,
    "start_time": "2022-02-03T10:46:00.577Z"
   },
   {
    "duration": 13,
    "start_time": "2022-02-03T10:46:00.594Z"
   },
   {
    "duration": 7,
    "start_time": "2022-02-03T10:46:00.609Z"
   },
   {
    "duration": 25,
    "start_time": "2022-02-03T10:46:00.617Z"
   },
   {
    "duration": 13,
    "start_time": "2022-02-03T10:46:00.645Z"
   },
   {
    "duration": 19,
    "start_time": "2022-02-03T10:46:00.660Z"
   },
   {
    "duration": 12,
    "start_time": "2022-02-03T10:46:00.682Z"
   },
   {
    "duration": 22,
    "start_time": "2022-02-03T10:46:00.696Z"
   },
   {
    "duration": 14,
    "start_time": "2022-02-03T10:46:00.720Z"
   },
   {
    "duration": 19,
    "start_time": "2022-02-03T10:46:00.736Z"
   },
   {
    "duration": 26,
    "start_time": "2022-02-03T10:46:00.756Z"
   },
   {
    "duration": 28,
    "start_time": "2022-02-03T10:46:00.784Z"
   },
   {
    "duration": 16,
    "start_time": "2022-02-03T10:46:00.814Z"
   },
   {
    "duration": 22,
    "start_time": "2022-02-03T10:46:00.832Z"
   },
   {
    "duration": 19,
    "start_time": "2022-02-03T10:46:00.856Z"
   },
   {
    "duration": 20,
    "start_time": "2022-02-03T10:46:00.877Z"
   },
   {
    "duration": 15,
    "start_time": "2022-02-03T10:46:00.899Z"
   },
   {
    "duration": 17,
    "start_time": "2022-02-03T10:46:00.916Z"
   },
   {
    "duration": 31,
    "start_time": "2022-02-03T10:46:00.936Z"
   },
   {
    "duration": 39,
    "start_time": "2022-02-03T10:46:00.971Z"
   },
   {
    "duration": 70,
    "start_time": "2022-02-03T11:00:32.823Z"
   },
   {
    "duration": 1486,
    "start_time": "2022-02-03T11:00:39.713Z"
   },
   {
    "duration": 21,
    "start_time": "2022-02-03T11:00:41.202Z"
   },
   {
    "duration": 22,
    "start_time": "2022-02-03T11:00:41.229Z"
   },
   {
    "duration": 28,
    "start_time": "2022-02-03T11:00:41.253Z"
   },
   {
    "duration": 27,
    "start_time": "2022-02-03T11:00:41.283Z"
   },
   {
    "duration": 10,
    "start_time": "2022-02-03T11:00:41.312Z"
   },
   {
    "duration": 9,
    "start_time": "2022-02-03T11:00:41.324Z"
   },
   {
    "duration": 10,
    "start_time": "2022-02-03T11:00:41.337Z"
   },
   {
    "duration": 13,
    "start_time": "2022-02-03T11:00:41.349Z"
   },
   {
    "duration": 12,
    "start_time": "2022-02-03T11:00:41.364Z"
   },
   {
    "duration": 35,
    "start_time": "2022-02-03T11:00:41.378Z"
   },
   {
    "duration": 9,
    "start_time": "2022-02-03T11:00:41.416Z"
   },
   {
    "duration": 10,
    "start_time": "2022-02-03T11:00:41.428Z"
   },
   {
    "duration": 7,
    "start_time": "2022-02-03T11:00:41.440Z"
   },
   {
    "duration": 17,
    "start_time": "2022-02-03T11:00:41.450Z"
   },
   {
    "duration": 8,
    "start_time": "2022-02-03T11:00:41.507Z"
   },
   {
    "duration": 8,
    "start_time": "2022-02-03T11:00:41.517Z"
   },
   {
    "duration": 11,
    "start_time": "2022-02-03T11:00:41.527Z"
   },
   {
    "duration": 10,
    "start_time": "2022-02-03T11:00:41.540Z"
   },
   {
    "duration": 61,
    "start_time": "2022-02-03T11:00:41.552Z"
   },
   {
    "duration": 13,
    "start_time": "2022-02-03T11:00:41.615Z"
   },
   {
    "duration": 8,
    "start_time": "2022-02-03T11:00:41.630Z"
   },
   {
    "duration": 14,
    "start_time": "2022-02-03T11:00:41.640Z"
   },
   {
    "duration": 1522,
    "start_time": "2022-02-03T11:24:56.261Z"
   },
   {
    "duration": 1420,
    "start_time": "2022-02-03T11:25:11.716Z"
   },
   {
    "duration": 1335,
    "start_time": "2022-02-03T11:25:19.663Z"
   },
   {
    "duration": 25,
    "start_time": "2022-02-03T11:25:21.000Z"
   },
   {
    "duration": 25,
    "start_time": "2022-02-03T11:25:21.029Z"
   },
   {
    "duration": 18,
    "start_time": "2022-02-03T11:25:21.056Z"
   },
   {
    "duration": 9,
    "start_time": "2022-02-03T11:25:21.076Z"
   },
   {
    "duration": 4,
    "start_time": "2022-02-03T11:25:21.108Z"
   },
   {
    "duration": 35,
    "start_time": "2022-02-03T11:25:21.114Z"
   },
   {
    "duration": 22,
    "start_time": "2022-02-03T11:25:21.152Z"
   },
   {
    "duration": 18,
    "start_time": "2022-02-03T11:25:21.176Z"
   },
   {
    "duration": 43,
    "start_time": "2022-02-03T11:25:21.197Z"
   },
   {
    "duration": 31,
    "start_time": "2022-02-03T11:25:21.242Z"
   },
   {
    "duration": 17,
    "start_time": "2022-02-03T11:25:21.276Z"
   },
   {
    "duration": 16,
    "start_time": "2022-02-03T11:25:21.296Z"
   },
   {
    "duration": 24,
    "start_time": "2022-02-03T11:25:21.315Z"
   },
   {
    "duration": 25,
    "start_time": "2022-02-03T11:25:21.341Z"
   },
   {
    "duration": 15,
    "start_time": "2022-02-03T11:25:21.369Z"
   },
   {
    "duration": 6,
    "start_time": "2022-02-03T11:25:21.387Z"
   },
   {
    "duration": 13,
    "start_time": "2022-02-03T11:25:21.396Z"
   },
   {
    "duration": 22,
    "start_time": "2022-02-03T11:25:21.411Z"
   },
   {
    "duration": 18,
    "start_time": "2022-02-03T11:25:21.436Z"
   },
   {
    "duration": 20,
    "start_time": "2022-02-03T11:25:21.457Z"
   },
   {
    "duration": 11,
    "start_time": "2022-02-03T11:25:21.479Z"
   },
   {
    "duration": 17,
    "start_time": "2022-02-03T11:25:21.511Z"
   },
   {
    "duration": 1566,
    "start_time": "2022-02-03T11:25:21.531Z"
   },
   {
    "duration": -409,
    "start_time": "2022-02-03T11:25:23.508Z"
   },
   {
    "duration": 2,
    "start_time": "2022-02-03T11:26:11.125Z"
   },
   {
    "duration": 3,
    "start_time": "2022-02-03T11:26:16.522Z"
   },
   {
    "duration": 1183,
    "start_time": "2022-02-03T11:27:04.966Z"
   },
   {
    "duration": 6,
    "start_time": "2022-02-03T11:27:14.472Z"
   },
   {
    "duration": 7,
    "start_time": "2022-02-03T11:27:49.325Z"
   },
   {
    "duration": 7821,
    "start_time": "2022-02-03T11:28:10.335Z"
   },
   {
    "duration": 12,
    "start_time": "2022-02-03T11:31:32.785Z"
   },
   {
    "duration": 14,
    "start_time": "2022-02-03T11:31:39.452Z"
   },
   {
    "duration": 11,
    "start_time": "2022-02-03T11:31:44.658Z"
   },
   {
    "duration": 9,
    "start_time": "2022-02-03T11:31:53.429Z"
   },
   {
    "duration": 9,
    "start_time": "2022-02-03T11:31:57.911Z"
   },
   {
    "duration": 236,
    "start_time": "2022-02-03T11:32:26.909Z"
   },
   {
    "duration": 1280,
    "start_time": "2022-02-03T11:33:42.059Z"
   },
   {
    "duration": 16,
    "start_time": "2022-02-03T11:33:43.341Z"
   },
   {
    "duration": 12,
    "start_time": "2022-02-03T11:33:43.361Z"
   },
   {
    "duration": 15,
    "start_time": "2022-02-03T11:33:43.375Z"
   },
   {
    "duration": 18,
    "start_time": "2022-02-03T11:33:43.392Z"
   },
   {
    "duration": 5,
    "start_time": "2022-02-03T11:33:43.413Z"
   },
   {
    "duration": 9,
    "start_time": "2022-02-03T11:33:43.421Z"
   },
   {
    "duration": 11,
    "start_time": "2022-02-03T11:33:43.433Z"
   },
   {
    "duration": 16,
    "start_time": "2022-02-03T11:33:43.446Z"
   },
   {
    "duration": 7,
    "start_time": "2022-02-03T11:33:43.464Z"
   },
   {
    "duration": 36,
    "start_time": "2022-02-03T11:33:43.473Z"
   },
   {
    "duration": 18,
    "start_time": "2022-02-03T11:33:43.511Z"
   },
   {
    "duration": 12,
    "start_time": "2022-02-03T11:33:43.530Z"
   },
   {
    "duration": 12,
    "start_time": "2022-02-03T11:33:43.544Z"
   },
   {
    "duration": 11,
    "start_time": "2022-02-03T11:33:43.558Z"
   },
   {
    "duration": 12,
    "start_time": "2022-02-03T11:33:43.570Z"
   },
   {
    "duration": 31,
    "start_time": "2022-02-03T11:33:43.583Z"
   },
   {
    "duration": 13,
    "start_time": "2022-02-03T11:33:43.616Z"
   },
   {
    "duration": 12,
    "start_time": "2022-02-03T11:33:43.631Z"
   },
   {
    "duration": 14,
    "start_time": "2022-02-03T11:33:43.645Z"
   },
   {
    "duration": 13,
    "start_time": "2022-02-03T11:33:43.662Z"
   },
   {
    "duration": 5,
    "start_time": "2022-02-03T11:33:43.708Z"
   },
   {
    "duration": 23,
    "start_time": "2022-02-03T11:33:43.715Z"
   },
   {
    "duration": 5,
    "start_time": "2022-02-03T11:33:43.740Z"
   },
   {
    "duration": 11,
    "start_time": "2022-02-03T11:33:43.746Z"
   },
   {
    "duration": 14,
    "start_time": "2022-02-03T11:33:43.759Z"
   },
   {
    "duration": 8,
    "start_time": "2022-02-03T11:33:43.774Z"
   },
   {
    "duration": 7,
    "start_time": "2022-02-03T11:33:43.808Z"
   },
   {
    "duration": 243,
    "start_time": "2022-02-03T11:33:43.816Z"
   },
   {
    "duration": 4,
    "start_time": "2022-02-03T11:34:18.964Z"
   },
   {
    "duration": 1341,
    "start_time": "2022-02-03T11:34:24.896Z"
   },
   {
    "duration": 16,
    "start_time": "2022-02-03T11:34:26.239Z"
   },
   {
    "duration": 11,
    "start_time": "2022-02-03T11:34:26.257Z"
   },
   {
    "duration": 14,
    "start_time": "2022-02-03T11:34:26.271Z"
   },
   {
    "duration": 6,
    "start_time": "2022-02-03T11:34:26.287Z"
   },
   {
    "duration": 13,
    "start_time": "2022-02-03T11:34:26.295Z"
   },
   {
    "duration": 8,
    "start_time": "2022-02-03T11:34:26.310Z"
   },
   {
    "duration": 10,
    "start_time": "2022-02-03T11:34:26.320Z"
   },
   {
    "duration": 12,
    "start_time": "2022-02-03T11:34:26.332Z"
   },
   {
    "duration": 10,
    "start_time": "2022-02-03T11:34:26.346Z"
   },
   {
    "duration": 15,
    "start_time": "2022-02-03T11:34:26.358Z"
   },
   {
    "duration": 34,
    "start_time": "2022-02-03T11:34:26.375Z"
   },
   {
    "duration": 8,
    "start_time": "2022-02-03T11:34:26.411Z"
   },
   {
    "duration": 8,
    "start_time": "2022-02-03T11:34:26.421Z"
   },
   {
    "duration": 15,
    "start_time": "2022-02-03T11:34:26.432Z"
   },
   {
    "duration": 14,
    "start_time": "2022-02-03T11:34:26.449Z"
   },
   {
    "duration": 11,
    "start_time": "2022-02-03T11:34:26.465Z"
   },
   {
    "duration": 42,
    "start_time": "2022-02-03T11:34:26.478Z"
   },
   {
    "duration": 12,
    "start_time": "2022-02-03T11:34:26.521Z"
   },
   {
    "duration": 13,
    "start_time": "2022-02-03T11:34:26.535Z"
   },
   {
    "duration": 18,
    "start_time": "2022-02-03T11:34:26.550Z"
   },
   {
    "duration": 8,
    "start_time": "2022-02-03T11:34:26.570Z"
   },
   {
    "duration": 36,
    "start_time": "2022-02-03T11:34:26.581Z"
   },
   {
    "duration": 3,
    "start_time": "2022-02-03T11:34:26.619Z"
   },
   {
    "duration": 9,
    "start_time": "2022-02-03T11:34:26.623Z"
   },
   {
    "duration": 15,
    "start_time": "2022-02-03T11:34:26.633Z"
   },
   {
    "duration": 12,
    "start_time": "2022-02-03T11:34:26.649Z"
   },
   {
    "duration": 10,
    "start_time": "2022-02-03T11:34:26.663Z"
   },
   {
    "duration": 7682,
    "start_time": "2022-02-03T11:34:26.675Z"
   },
   {
    "duration": 233,
    "start_time": "2022-02-03T11:35:18.424Z"
   },
   {
    "duration": 176,
    "start_time": "2022-02-03T11:39:50.576Z"
   },
   {
    "duration": 167,
    "start_time": "2022-02-03T11:40:44.793Z"
   },
   {
    "duration": 7,
    "start_time": "2022-02-03T11:42:05.529Z"
   },
   {
    "duration": 4,
    "start_time": "2022-02-03T11:43:10.922Z"
   },
   {
    "duration": 11,
    "start_time": "2022-02-03T11:43:21.848Z"
   },
   {
    "duration": 13,
    "start_time": "2022-02-03T11:43:30.644Z"
   },
   {
    "duration": 11,
    "start_time": "2022-02-03T11:44:12.083Z"
   },
   {
    "duration": 7,
    "start_time": "2022-02-03T11:46:37.806Z"
   },
   {
    "duration": 6,
    "start_time": "2022-02-03T11:46:51.851Z"
   },
   {
    "duration": 5,
    "start_time": "2022-02-03T11:47:16.524Z"
   },
   {
    "duration": 280,
    "start_time": "2022-02-03T11:48:02.715Z"
   },
   {
    "duration": 198,
    "start_time": "2022-02-03T11:48:18.514Z"
   },
   {
    "duration": 192,
    "start_time": "2022-02-03T11:48:56.922Z"
   },
   {
    "duration": 190,
    "start_time": "2022-02-03T11:49:02.545Z"
   },
   {
    "duration": 205,
    "start_time": "2022-02-03T11:49:58.548Z"
   },
   {
    "duration": 216,
    "start_time": "2022-02-03T11:54:20.943Z"
   },
   {
    "duration": 289,
    "start_time": "2022-02-03T11:54:26.720Z"
   },
   {
    "duration": 228,
    "start_time": "2022-02-03T11:54:31.335Z"
   },
   {
    "duration": 216,
    "start_time": "2022-02-03T11:54:36.899Z"
   },
   {
    "duration": 211,
    "start_time": "2022-02-03T11:54:42.223Z"
   },
   {
    "duration": 212,
    "start_time": "2022-02-03T11:54:46.760Z"
   },
   {
    "duration": 218,
    "start_time": "2022-02-03T11:54:50.786Z"
   },
   {
    "duration": 225,
    "start_time": "2022-02-03T11:54:58.285Z"
   },
   {
    "duration": 1285,
    "start_time": "2022-02-03T11:55:07.049Z"
   },
   {
    "duration": 17,
    "start_time": "2022-02-03T11:55:08.336Z"
   },
   {
    "duration": 16,
    "start_time": "2022-02-03T11:55:08.356Z"
   },
   {
    "duration": 30,
    "start_time": "2022-02-03T11:55:08.375Z"
   },
   {
    "duration": 24,
    "start_time": "2022-02-03T11:55:08.406Z"
   },
   {
    "duration": 15,
    "start_time": "2022-02-03T11:55:08.432Z"
   },
   {
    "duration": 22,
    "start_time": "2022-02-03T11:55:08.449Z"
   },
   {
    "duration": 17,
    "start_time": "2022-02-03T11:55:08.474Z"
   },
   {
    "duration": 16,
    "start_time": "2022-02-03T11:55:08.494Z"
   },
   {
    "duration": 10,
    "start_time": "2022-02-03T11:55:08.512Z"
   },
   {
    "duration": 36,
    "start_time": "2022-02-03T11:55:08.524Z"
   },
   {
    "duration": 16,
    "start_time": "2022-02-03T11:55:08.562Z"
   },
   {
    "duration": 29,
    "start_time": "2022-02-03T11:55:08.580Z"
   },
   {
    "duration": 22,
    "start_time": "2022-02-03T11:55:08.610Z"
   },
   {
    "duration": 21,
    "start_time": "2022-02-03T11:55:08.634Z"
   },
   {
    "duration": 31,
    "start_time": "2022-02-03T11:55:08.657Z"
   },
   {
    "duration": 15,
    "start_time": "2022-02-03T11:55:08.689Z"
   },
   {
    "duration": 24,
    "start_time": "2022-02-03T11:55:08.706Z"
   },
   {
    "duration": 31,
    "start_time": "2022-02-03T11:55:08.732Z"
   },
   {
    "duration": 23,
    "start_time": "2022-02-03T11:55:08.765Z"
   },
   {
    "duration": 30,
    "start_time": "2022-02-03T11:55:08.791Z"
   },
   {
    "duration": 13,
    "start_time": "2022-02-03T11:55:08.824Z"
   },
   {
    "duration": 19,
    "start_time": "2022-02-03T11:55:08.841Z"
   },
   {
    "duration": 16,
    "start_time": "2022-02-03T11:55:08.863Z"
   },
   {
    "duration": 17,
    "start_time": "2022-02-03T11:55:08.881Z"
   },
   {
    "duration": 24,
    "start_time": "2022-02-03T11:55:08.900Z"
   },
   {
    "duration": 24,
    "start_time": "2022-02-03T11:55:08.927Z"
   },
   {
    "duration": 21,
    "start_time": "2022-02-03T11:55:08.953Z"
   },
   {
    "duration": 283,
    "start_time": "2022-02-03T11:55:08.976Z"
   },
   {
    "duration": 196,
    "start_time": "2022-02-03T11:55:09.261Z"
   },
   {
    "duration": 11,
    "start_time": "2022-02-03T11:55:09.460Z"
   },
   {
    "duration": 11,
    "start_time": "2022-02-03T11:55:09.473Z"
   },
   {
    "duration": 30,
    "start_time": "2022-02-03T11:55:09.486Z"
   },
   {
    "duration": 8,
    "start_time": "2022-02-03T11:55:09.519Z"
   },
   {
    "duration": 14,
    "start_time": "2022-02-03T11:55:09.529Z"
   },
   {
    "duration": 250,
    "start_time": "2022-02-03T11:55:09.545Z"
   },
   {
    "duration": 84,
    "start_time": "2022-02-03T11:57:59.300Z"
   },
   {
    "duration": 206,
    "start_time": "2022-02-03T11:58:11.128Z"
   },
   {
    "duration": 203,
    "start_time": "2022-02-03T12:01:20.427Z"
   },
   {
    "duration": 204,
    "start_time": "2022-02-03T12:01:32.896Z"
   },
   {
    "duration": 281,
    "start_time": "2022-02-03T12:09:52.656Z"
   },
   {
    "duration": 181,
    "start_time": "2022-02-03T12:10:47.538Z"
   },
   {
    "duration": 1228,
    "start_time": "2022-02-03T12:10:53.230Z"
   },
   {
    "duration": 18,
    "start_time": "2022-02-03T12:10:54.460Z"
   },
   {
    "duration": 16,
    "start_time": "2022-02-03T12:10:54.480Z"
   },
   {
    "duration": 19,
    "start_time": "2022-02-03T12:10:54.498Z"
   },
   {
    "duration": 7,
    "start_time": "2022-02-03T12:10:54.519Z"
   },
   {
    "duration": 13,
    "start_time": "2022-02-03T12:10:54.527Z"
   },
   {
    "duration": 10,
    "start_time": "2022-02-03T12:10:54.542Z"
   },
   {
    "duration": 9,
    "start_time": "2022-02-03T12:10:54.555Z"
   },
   {
    "duration": 14,
    "start_time": "2022-02-03T12:10:54.566Z"
   },
   {
    "duration": 6,
    "start_time": "2022-02-03T12:10:54.608Z"
   },
   {
    "duration": 13,
    "start_time": "2022-02-03T12:10:54.616Z"
   },
   {
    "duration": 9,
    "start_time": "2022-02-03T12:10:54.632Z"
   },
   {
    "duration": 13,
    "start_time": "2022-02-03T12:10:54.643Z"
   },
   {
    "duration": 11,
    "start_time": "2022-02-03T12:10:54.657Z"
   },
   {
    "duration": 40,
    "start_time": "2022-02-03T12:10:54.670Z"
   },
   {
    "duration": 7,
    "start_time": "2022-02-03T12:10:54.712Z"
   },
   {
    "duration": 10,
    "start_time": "2022-02-03T12:10:54.721Z"
   },
   {
    "duration": 14,
    "start_time": "2022-02-03T12:10:54.733Z"
   },
   {
    "duration": 11,
    "start_time": "2022-02-03T12:10:54.749Z"
   },
   {
    "duration": 47,
    "start_time": "2022-02-03T12:10:54.762Z"
   },
   {
    "duration": 11,
    "start_time": "2022-02-03T12:10:54.811Z"
   },
   {
    "duration": 6,
    "start_time": "2022-02-03T12:10:54.824Z"
   },
   {
    "duration": 16,
    "start_time": "2022-02-03T12:10:54.834Z"
   },
   {
    "duration": 7,
    "start_time": "2022-02-03T12:10:54.852Z"
   },
   {
    "duration": 10,
    "start_time": "2022-02-03T12:10:54.860Z"
   },
   {
    "duration": 43,
    "start_time": "2022-02-03T12:10:54.872Z"
   },
   {
    "duration": 11,
    "start_time": "2022-02-03T12:10:54.917Z"
   },
   {
    "duration": 8,
    "start_time": "2022-02-03T12:10:54.930Z"
   },
   {
    "duration": 268,
    "start_time": "2022-02-03T12:10:54.939Z"
   },
   {
    "duration": 175,
    "start_time": "2022-02-03T12:10:55.209Z"
   },
   {
    "duration": 7,
    "start_time": "2022-02-03T12:10:55.386Z"
   },
   {
    "duration": 14,
    "start_time": "2022-02-03T12:10:55.395Z"
   },
   {
    "duration": 16,
    "start_time": "2022-02-03T12:10:55.411Z"
   },
   {
    "duration": 8,
    "start_time": "2022-02-03T12:10:55.429Z"
   },
   {
    "duration": 9,
    "start_time": "2022-02-03T12:10:55.439Z"
   },
   {
    "duration": 239,
    "start_time": "2022-02-03T12:10:55.450Z"
   },
   {
    "duration": 219,
    "start_time": "2022-02-03T12:10:55.691Z"
   },
   {
    "duration": 6,
    "start_time": "2022-02-03T12:19:48.722Z"
   },
   {
    "duration": 7,
    "start_time": "2022-02-03T12:20:03.036Z"
   },
   {
    "duration": 6,
    "start_time": "2022-02-03T12:20:21.538Z"
   },
   {
    "duration": 334,
    "start_time": "2022-02-03T12:21:09.296Z"
   },
   {
    "duration": 312,
    "start_time": "2022-02-03T12:21:18.457Z"
   },
   {
    "duration": 4,
    "start_time": "2022-02-03T13:38:20.954Z"
   },
   {
    "duration": 5,
    "start_time": "2022-02-03T13:38:51.927Z"
   },
   {
    "duration": 5,
    "start_time": "2022-02-03T13:39:18.719Z"
   },
   {
    "duration": 569,
    "start_time": "2022-02-03T13:47:52.879Z"
   },
   {
    "duration": 1305,
    "start_time": "2022-02-03T13:49:09.178Z"
   },
   {
    "duration": 18,
    "start_time": "2022-02-03T13:49:10.485Z"
   },
   {
    "duration": 17,
    "start_time": "2022-02-03T13:49:10.506Z"
   },
   {
    "duration": 19,
    "start_time": "2022-02-03T13:49:10.526Z"
   },
   {
    "duration": 5,
    "start_time": "2022-02-03T13:49:10.547Z"
   },
   {
    "duration": 5,
    "start_time": "2022-02-03T13:49:10.554Z"
   },
   {
    "duration": 10,
    "start_time": "2022-02-03T13:49:10.561Z"
   },
   {
    "duration": 33,
    "start_time": "2022-02-03T13:49:10.574Z"
   },
   {
    "duration": 7,
    "start_time": "2022-02-03T13:49:10.610Z"
   },
   {
    "duration": 9,
    "start_time": "2022-02-03T13:49:10.619Z"
   },
   {
    "duration": 9,
    "start_time": "2022-02-03T13:49:10.630Z"
   },
   {
    "duration": 9,
    "start_time": "2022-02-03T13:49:10.643Z"
   },
   {
    "duration": 10,
    "start_time": "2022-02-03T13:49:10.655Z"
   },
   {
    "duration": 8,
    "start_time": "2022-02-03T13:49:10.708Z"
   },
   {
    "duration": 8,
    "start_time": "2022-02-03T13:49:10.717Z"
   },
   {
    "duration": 10,
    "start_time": "2022-02-03T13:49:10.727Z"
   },
   {
    "duration": 9,
    "start_time": "2022-02-03T13:49:10.740Z"
   },
   {
    "duration": 13,
    "start_time": "2022-02-03T13:49:10.751Z"
   },
   {
    "duration": 49,
    "start_time": "2022-02-03T13:49:10.766Z"
   },
   {
    "duration": 12,
    "start_time": "2022-02-03T13:49:10.817Z"
   },
   {
    "duration": 14,
    "start_time": "2022-02-03T13:49:10.831Z"
   },
   {
    "duration": 6,
    "start_time": "2022-02-03T13:49:10.848Z"
   },
   {
    "duration": 12,
    "start_time": "2022-02-03T13:49:10.858Z"
   },
   {
    "duration": 4,
    "start_time": "2022-02-03T13:49:10.906Z"
   },
   {
    "duration": 5,
    "start_time": "2022-02-03T13:49:10.912Z"
   },
   {
    "duration": 15,
    "start_time": "2022-02-03T13:49:10.919Z"
   },
   {
    "duration": 13,
    "start_time": "2022-02-03T13:49:10.936Z"
   },
   {
    "duration": 11,
    "start_time": "2022-02-03T13:49:10.951Z"
   },
   {
    "duration": 265,
    "start_time": "2022-02-03T13:49:10.964Z"
   },
   {
    "duration": 169,
    "start_time": "2022-02-03T13:49:11.231Z"
   },
   {
    "duration": 9,
    "start_time": "2022-02-03T13:49:11.402Z"
   },
   {
    "duration": 10,
    "start_time": "2022-02-03T13:49:11.413Z"
   },
   {
    "duration": 14,
    "start_time": "2022-02-03T13:49:11.425Z"
   },
   {
    "duration": 7,
    "start_time": "2022-02-03T13:49:11.441Z"
   },
   {
    "duration": 9,
    "start_time": "2022-02-03T13:49:11.450Z"
   },
   {
    "duration": 587,
    "start_time": "2022-02-03T13:49:11.461Z"
   },
   {
    "duration": -578,
    "start_time": "2022-02-03T13:49:12.629Z"
   },
   {
    "duration": -581,
    "start_time": "2022-02-03T13:49:12.634Z"
   },
   {
    "duration": -583,
    "start_time": "2022-02-03T13:49:12.637Z"
   },
   {
    "duration": -586,
    "start_time": "2022-02-03T13:49:12.642Z"
   },
   {
    "duration": -588,
    "start_time": "2022-02-03T13:49:12.646Z"
   },
   {
    "duration": -592,
    "start_time": "2022-02-03T13:49:12.651Z"
   },
   {
    "duration": 234,
    "start_time": "2022-02-03T13:49:45.723Z"
   },
   {
    "duration": 1442,
    "start_time": "2022-02-03T13:50:24.787Z"
   },
   {
    "duration": 16,
    "start_time": "2022-02-03T13:50:26.232Z"
   },
   {
    "duration": 22,
    "start_time": "2022-02-03T13:50:26.251Z"
   },
   {
    "duration": 17,
    "start_time": "2022-02-03T13:50:26.275Z"
   },
   {
    "duration": 16,
    "start_time": "2022-02-03T13:50:26.295Z"
   },
   {
    "duration": 7,
    "start_time": "2022-02-03T13:50:26.313Z"
   },
   {
    "duration": 9,
    "start_time": "2022-02-03T13:50:26.322Z"
   },
   {
    "duration": 8,
    "start_time": "2022-02-03T13:50:26.334Z"
   },
   {
    "duration": 11,
    "start_time": "2022-02-03T13:50:26.344Z"
   },
   {
    "duration": 11,
    "start_time": "2022-02-03T13:50:26.357Z"
   },
   {
    "duration": 39,
    "start_time": "2022-02-03T13:50:26.370Z"
   },
   {
    "duration": 11,
    "start_time": "2022-02-03T13:50:26.411Z"
   },
   {
    "duration": 13,
    "start_time": "2022-02-03T13:50:26.424Z"
   },
   {
    "duration": 11,
    "start_time": "2022-02-03T13:50:26.439Z"
   },
   {
    "duration": 12,
    "start_time": "2022-02-03T13:50:26.452Z"
   },
   {
    "duration": 14,
    "start_time": "2022-02-03T13:50:26.466Z"
   },
   {
    "duration": 7,
    "start_time": "2022-02-03T13:50:26.508Z"
   },
   {
    "duration": 11,
    "start_time": "2022-02-03T13:50:26.517Z"
   },
   {
    "duration": 11,
    "start_time": "2022-02-03T13:50:26.530Z"
   },
   {
    "duration": 17,
    "start_time": "2022-02-03T13:50:26.543Z"
   },
   {
    "duration": 18,
    "start_time": "2022-02-03T13:50:26.561Z"
   },
   {
    "duration": 7,
    "start_time": "2022-02-03T13:50:26.609Z"
   },
   {
    "duration": 12,
    "start_time": "2022-02-03T13:50:26.621Z"
   },
   {
    "duration": 2,
    "start_time": "2022-02-03T13:50:26.636Z"
   },
   {
    "duration": 8,
    "start_time": "2022-02-03T13:50:26.640Z"
   },
   {
    "duration": 15,
    "start_time": "2022-02-03T13:50:26.650Z"
   },
   {
    "duration": 50,
    "start_time": "2022-02-03T13:50:26.667Z"
   },
   {
    "duration": 9,
    "start_time": "2022-02-03T13:50:26.719Z"
   },
   {
    "duration": 260,
    "start_time": "2022-02-03T13:50:26.730Z"
   },
   {
    "duration": 178,
    "start_time": "2022-02-03T13:50:26.992Z"
   },
   {
    "duration": 6,
    "start_time": "2022-02-03T13:50:27.172Z"
   },
   {
    "duration": 28,
    "start_time": "2022-02-03T13:50:27.180Z"
   },
   {
    "duration": 18,
    "start_time": "2022-02-03T13:50:27.210Z"
   },
   {
    "duration": 19,
    "start_time": "2022-02-03T13:50:27.230Z"
   },
   {
    "duration": 17,
    "start_time": "2022-02-03T13:50:27.251Z"
   },
   {
    "duration": 241,
    "start_time": "2022-02-03T13:50:27.271Z"
   },
   {
    "duration": 227,
    "start_time": "2022-02-03T13:50:27.514Z"
   },
   {
    "duration": 7,
    "start_time": "2022-02-03T13:50:27.743Z"
   },
   {
    "duration": 299,
    "start_time": "2022-02-03T13:50:27.752Z"
   },
   {
    "duration": 4,
    "start_time": "2022-02-03T13:50:28.053Z"
   },
   {
    "duration": 26,
    "start_time": "2022-02-03T13:50:28.059Z"
   },
   {
    "duration": 23,
    "start_time": "2022-02-03T13:50:28.087Z"
   },
   {
    "duration": 393,
    "start_time": "2022-02-03T13:51:42.272Z"
   },
   {
    "duration": 227,
    "start_time": "2022-02-03T13:51:50.489Z"
   },
   {
    "duration": 647,
    "start_time": "2022-02-03T13:52:46.139Z"
   },
   {
    "duration": 104,
    "start_time": "2022-02-03T13:53:02.537Z"
   },
   {
    "duration": 85,
    "start_time": "2022-02-03T13:53:46.227Z"
   },
   {
    "duration": 421,
    "start_time": "2022-02-03T13:54:39.998Z"
   },
   {
    "duration": 480,
    "start_time": "2022-02-03T13:54:51.405Z"
   },
   {
    "duration": 335,
    "start_time": "2022-02-03T13:55:04.329Z"
   },
   {
    "duration": 444,
    "start_time": "2022-02-03T13:55:37.848Z"
   },
   {
    "duration": 412,
    "start_time": "2022-02-03T13:57:14.591Z"
   },
   {
    "duration": 608,
    "start_time": "2022-02-03T13:57:30.143Z"
   },
   {
    "duration": 454,
    "start_time": "2022-02-03T13:57:42.956Z"
   },
   {
    "duration": 547,
    "start_time": "2022-02-03T13:57:52.782Z"
   },
   {
    "duration": 581,
    "start_time": "2022-02-03T13:58:54.059Z"
   },
   {
    "duration": 597,
    "start_time": "2022-02-03T13:59:37.258Z"
   },
   {
    "duration": 7,
    "start_time": "2022-02-03T14:05:19.638Z"
   },
   {
    "duration": 7,
    "start_time": "2022-02-03T14:05:41.124Z"
   },
   {
    "duration": 6,
    "start_time": "2022-02-03T14:05:50.535Z"
   },
   {
    "duration": 6,
    "start_time": "2022-02-03T14:06:50.458Z"
   },
   {
    "duration": 8,
    "start_time": "2022-02-03T14:07:03.874Z"
   },
   {
    "duration": 9,
    "start_time": "2022-02-03T14:07:25.826Z"
   },
   {
    "duration": 5,
    "start_time": "2022-02-03T14:08:25.204Z"
   },
   {
    "duration": 5,
    "start_time": "2022-02-03T14:08:38.731Z"
   },
   {
    "duration": 5,
    "start_time": "2022-02-03T14:08:43.270Z"
   },
   {
    "duration": 105,
    "start_time": "2022-02-03T14:09:11.337Z"
   },
   {
    "duration": 446,
    "start_time": "2022-02-03T14:09:30.604Z"
   },
   {
    "duration": 413,
    "start_time": "2022-02-03T14:10:48.700Z"
   },
   {
    "duration": 83,
    "start_time": "2022-02-03T14:34:36.376Z"
   },
   {
    "duration": 9,
    "start_time": "2022-02-03T14:34:43.473Z"
   },
   {
    "duration": 322,
    "start_time": "2022-02-03T14:36:38.270Z"
   },
   {
    "duration": 590,
    "start_time": "2022-02-03T14:36:58.617Z"
   },
   {
    "duration": 517,
    "start_time": "2022-02-03T14:37:27.126Z"
   },
   {
    "duration": 534,
    "start_time": "2022-02-03T14:37:59.722Z"
   },
   {
    "duration": 612,
    "start_time": "2022-02-03T14:38:22.788Z"
   },
   {
    "duration": 540,
    "start_time": "2022-02-03T14:38:53.460Z"
   },
   {
    "duration": 540,
    "start_time": "2022-02-03T14:40:09.053Z"
   },
   {
    "duration": 475,
    "start_time": "2022-02-03T14:54:40.701Z"
   },
   {
    "duration": 619,
    "start_time": "2022-02-03T14:54:53.591Z"
   },
   {
    "duration": 439,
    "start_time": "2022-02-03T14:55:00.887Z"
   },
   {
    "duration": 541,
    "start_time": "2022-02-03T14:55:07.708Z"
   },
   {
    "duration": 564,
    "start_time": "2022-02-03T14:59:59.886Z"
   },
   {
    "duration": 557,
    "start_time": "2022-02-03T15:05:32.570Z"
   },
   {
    "duration": 419,
    "start_time": "2022-02-03T15:09:48.378Z"
   },
   {
    "duration": 448,
    "start_time": "2022-02-03T15:10:08.928Z"
   },
   {
    "duration": 448,
    "start_time": "2022-02-03T15:10:15.386Z"
   },
   {
    "duration": 555,
    "start_time": "2022-02-03T15:10:22.395Z"
   },
   {
    "duration": 503,
    "start_time": "2022-02-03T15:10:57.931Z"
   },
   {
    "duration": 6,
    "start_time": "2022-02-03T15:13:44.161Z"
   },
   {
    "duration": 1394,
    "start_time": "2022-02-03T15:19:36.345Z"
   },
   {
    "duration": 18,
    "start_time": "2022-02-03T15:19:37.741Z"
   },
   {
    "duration": 13,
    "start_time": "2022-02-03T15:19:37.761Z"
   },
   {
    "duration": 13,
    "start_time": "2022-02-03T15:19:37.776Z"
   },
   {
    "duration": 19,
    "start_time": "2022-02-03T15:19:37.791Z"
   },
   {
    "duration": 5,
    "start_time": "2022-02-03T15:19:37.812Z"
   },
   {
    "duration": 10,
    "start_time": "2022-02-03T15:19:37.819Z"
   },
   {
    "duration": 8,
    "start_time": "2022-02-03T15:19:37.833Z"
   },
   {
    "duration": 12,
    "start_time": "2022-02-03T15:19:37.843Z"
   },
   {
    "duration": 9,
    "start_time": "2022-02-03T15:19:37.857Z"
   },
   {
    "duration": 46,
    "start_time": "2022-02-03T15:19:37.868Z"
   },
   {
    "duration": 11,
    "start_time": "2022-02-03T15:19:37.916Z"
   },
   {
    "duration": 9,
    "start_time": "2022-02-03T15:19:37.929Z"
   },
   {
    "duration": 8,
    "start_time": "2022-02-03T15:19:37.941Z"
   },
   {
    "duration": 10,
    "start_time": "2022-02-03T15:19:37.951Z"
   },
   {
    "duration": 7,
    "start_time": "2022-02-03T15:19:38.007Z"
   },
   {
    "duration": 11,
    "start_time": "2022-02-03T15:19:38.016Z"
   },
   {
    "duration": 23,
    "start_time": "2022-02-03T15:19:38.029Z"
   },
   {
    "duration": 13,
    "start_time": "2022-02-03T15:19:38.054Z"
   },
   {
    "duration": 17,
    "start_time": "2022-02-03T15:19:38.069Z"
   },
   {
    "duration": 33,
    "start_time": "2022-02-03T15:19:38.087Z"
   },
   {
    "duration": 9,
    "start_time": "2022-02-03T15:19:38.123Z"
   },
   {
    "duration": 14,
    "start_time": "2022-02-03T15:19:38.136Z"
   },
   {
    "duration": 7,
    "start_time": "2022-02-03T15:19:38.152Z"
   },
   {
    "duration": 9,
    "start_time": "2022-02-03T15:19:38.161Z"
   },
   {
    "duration": 39,
    "start_time": "2022-02-03T15:19:38.172Z"
   },
   {
    "duration": 10,
    "start_time": "2022-02-03T15:19:38.213Z"
   },
   {
    "duration": 8,
    "start_time": "2022-02-03T15:19:38.225Z"
   },
   {
    "duration": 258,
    "start_time": "2022-02-03T15:19:38.235Z"
   },
   {
    "duration": 186,
    "start_time": "2022-02-03T15:19:38.496Z"
   },
   {
    "duration": 7,
    "start_time": "2022-02-03T15:19:38.684Z"
   },
   {
    "duration": 14,
    "start_time": "2022-02-03T15:19:38.693Z"
   },
   {
    "duration": 13,
    "start_time": "2022-02-03T15:19:38.709Z"
   },
   {
    "duration": 7,
    "start_time": "2022-02-03T15:19:38.724Z"
   },
   {
    "duration": 8,
    "start_time": "2022-02-03T15:19:38.734Z"
   },
   {
    "duration": 10,
    "start_time": "2022-02-03T15:19:38.744Z"
   },
   {
    "duration": 8,
    "start_time": "2022-02-03T15:19:38.756Z"
   },
   {
    "duration": 483,
    "start_time": "2022-02-03T15:19:38.807Z"
   },
   {
    "duration": 485,
    "start_time": "2022-02-03T15:19:39.292Z"
   },
   {
    "duration": 7,
    "start_time": "2022-02-03T15:19:39.779Z"
   },
   {
    "duration": 590,
    "start_time": "2022-02-03T15:19:39.807Z"
   },
   {
    "duration": 5,
    "start_time": "2022-02-03T15:19:40.406Z"
   },
   {
    "duration": 11,
    "start_time": "2022-02-03T15:19:40.413Z"
   },
   {
    "duration": 11,
    "start_time": "2022-02-03T15:19:40.426Z"
   },
   {
    "duration": 502,
    "start_time": "2022-02-03T15:19:40.439Z"
   },
   {
    "duration": 12,
    "start_time": "2022-02-03T15:19:40.943Z"
   },
   {
    "duration": 619,
    "start_time": "2022-02-03T15:19:40.957Z"
   },
   {
    "duration": 777,
    "start_time": "2022-02-03T15:20:36.320Z"
   },
   {
    "duration": 499,
    "start_time": "2022-02-03T15:20:54.611Z"
   },
   {
    "duration": 528,
    "start_time": "2022-02-03T15:23:59.104Z"
   },
   {
    "duration": 430,
    "start_time": "2022-02-03T15:24:09.432Z"
   },
   {
    "duration": 425,
    "start_time": "2022-02-03T15:25:48.794Z"
   },
   {
    "duration": 416,
    "start_time": "2022-02-03T15:26:07.875Z"
   },
   {
    "duration": 447,
    "start_time": "2022-02-03T15:27:58.975Z"
   },
   {
    "duration": 556,
    "start_time": "2022-02-03T15:28:54.121Z"
   },
   {
    "duration": 606,
    "start_time": "2022-02-03T15:29:02.281Z"
   },
   {
    "duration": 591,
    "start_time": "2022-02-03T15:29:12.185Z"
   },
   {
    "duration": 524,
    "start_time": "2022-02-03T15:29:20.151Z"
   },
   {
    "duration": 584,
    "start_time": "2022-02-03T15:29:28.392Z"
   },
   {
    "duration": 655,
    "start_time": "2022-02-03T15:29:41.318Z"
   },
   {
    "duration": 563,
    "start_time": "2022-02-03T15:29:49.995Z"
   },
   {
    "duration": 572,
    "start_time": "2022-02-03T15:30:02.278Z"
   },
   {
    "duration": 436,
    "start_time": "2022-02-03T15:32:34.966Z"
   },
   {
    "duration": 431,
    "start_time": "2022-02-03T15:32:43.050Z"
   },
   {
    "duration": 546,
    "start_time": "2022-02-03T15:39:05.158Z"
   },
   {
    "duration": 557,
    "start_time": "2022-02-03T15:44:54.103Z"
   },
   {
    "duration": 392,
    "start_time": "2022-02-03T15:47:05.924Z"
   },
   {
    "duration": 270,
    "start_time": "2022-02-03T15:47:20.345Z"
   },
   {
    "duration": 417,
    "start_time": "2022-02-03T15:47:37.307Z"
   },
   {
    "duration": 278,
    "start_time": "2022-02-03T15:48:25.567Z"
   },
   {
    "duration": 392,
    "start_time": "2022-02-03T15:48:40.899Z"
   },
   {
    "duration": 445,
    "start_time": "2022-02-03T15:48:51.865Z"
   },
   {
    "duration": 88,
    "start_time": "2022-02-03T15:49:27.579Z"
   },
   {
    "duration": 1309,
    "start_time": "2022-02-03T15:49:38.348Z"
   },
   {
    "duration": 19,
    "start_time": "2022-02-03T15:49:39.660Z"
   },
   {
    "duration": 12,
    "start_time": "2022-02-03T15:49:39.682Z"
   },
   {
    "duration": 18,
    "start_time": "2022-02-03T15:49:39.697Z"
   },
   {
    "duration": 8,
    "start_time": "2022-02-03T15:49:39.717Z"
   },
   {
    "duration": 7,
    "start_time": "2022-02-03T15:49:39.727Z"
   },
   {
    "duration": 7,
    "start_time": "2022-02-03T15:49:39.736Z"
   },
   {
    "duration": 7,
    "start_time": "2022-02-03T15:49:39.746Z"
   },
   {
    "duration": 52,
    "start_time": "2022-02-03T15:49:39.756Z"
   },
   {
    "duration": 4,
    "start_time": "2022-02-03T15:49:39.810Z"
   },
   {
    "duration": 11,
    "start_time": "2022-02-03T15:49:39.816Z"
   },
   {
    "duration": 11,
    "start_time": "2022-02-03T15:49:39.829Z"
   },
   {
    "duration": 12,
    "start_time": "2022-02-03T15:49:39.842Z"
   },
   {
    "duration": 9,
    "start_time": "2022-02-03T15:49:39.856Z"
   },
   {
    "duration": 43,
    "start_time": "2022-02-03T15:49:39.867Z"
   },
   {
    "duration": 8,
    "start_time": "2022-02-03T15:49:39.912Z"
   },
   {
    "duration": 8,
    "start_time": "2022-02-03T15:49:39.922Z"
   },
   {
    "duration": 13,
    "start_time": "2022-02-03T15:49:39.932Z"
   },
   {
    "duration": 10,
    "start_time": "2022-02-03T15:49:39.947Z"
   },
   {
    "duration": 51,
    "start_time": "2022-02-03T15:49:39.958Z"
   },
   {
    "duration": 10,
    "start_time": "2022-02-03T15:49:40.011Z"
   },
   {
    "duration": 7,
    "start_time": "2022-02-03T15:49:40.023Z"
   },
   {
    "duration": 13,
    "start_time": "2022-02-03T15:49:40.034Z"
   },
   {
    "duration": 15,
    "start_time": "2022-02-03T15:49:40.049Z"
   },
   {
    "duration": 12,
    "start_time": "2022-02-03T15:49:40.067Z"
   },
   {
    "duration": 35,
    "start_time": "2022-02-03T15:49:40.081Z"
   },
   {
    "duration": 12,
    "start_time": "2022-02-03T15:49:40.118Z"
   },
   {
    "duration": 12,
    "start_time": "2022-02-03T15:49:40.132Z"
   },
   {
    "duration": 261,
    "start_time": "2022-02-03T15:49:40.146Z"
   },
   {
    "duration": 174,
    "start_time": "2022-02-03T15:49:40.409Z"
   },
   {
    "duration": 7,
    "start_time": "2022-02-03T15:49:40.585Z"
   },
   {
    "duration": 13,
    "start_time": "2022-02-03T15:49:40.594Z"
   },
   {
    "duration": 18,
    "start_time": "2022-02-03T15:49:40.609Z"
   },
   {
    "duration": 9,
    "start_time": "2022-02-03T15:49:40.628Z"
   },
   {
    "duration": 7,
    "start_time": "2022-02-03T15:49:40.639Z"
   },
   {
    "duration": 7,
    "start_time": "2022-02-03T15:49:40.648Z"
   },
   {
    "duration": 8,
    "start_time": "2022-02-03T15:49:40.657Z"
   },
   {
    "duration": 508,
    "start_time": "2022-02-03T15:49:40.668Z"
   },
   {
    "duration": 89,
    "start_time": "2022-02-03T15:49:41.178Z"
   },
   {
    "duration": -640,
    "start_time": "2022-02-03T15:49:41.909Z"
   },
   {
    "duration": -645,
    "start_time": "2022-02-03T15:49:41.915Z"
   },
   {
    "duration": -648,
    "start_time": "2022-02-03T15:49:41.919Z"
   },
   {
    "duration": -653,
    "start_time": "2022-02-03T15:49:41.925Z"
   },
   {
    "duration": -656,
    "start_time": "2022-02-03T15:49:41.929Z"
   },
   {
    "duration": -662,
    "start_time": "2022-02-03T15:49:41.935Z"
   },
   {
    "duration": -665,
    "start_time": "2022-02-03T15:49:41.939Z"
   },
   {
    "duration": -669,
    "start_time": "2022-02-03T15:49:41.944Z"
   },
   {
    "duration": 457,
    "start_time": "2022-02-03T15:50:09.435Z"
   },
   {
    "duration": 1321,
    "start_time": "2022-02-03T15:50:21.524Z"
   },
   {
    "duration": 17,
    "start_time": "2022-02-03T15:50:22.847Z"
   },
   {
    "duration": 12,
    "start_time": "2022-02-03T15:50:22.867Z"
   },
   {
    "duration": 15,
    "start_time": "2022-02-03T15:50:22.881Z"
   },
   {
    "duration": 12,
    "start_time": "2022-02-03T15:50:22.898Z"
   },
   {
    "duration": 9,
    "start_time": "2022-02-03T15:50:22.912Z"
   },
   {
    "duration": 10,
    "start_time": "2022-02-03T15:50:22.923Z"
   },
   {
    "duration": 11,
    "start_time": "2022-02-03T15:50:22.936Z"
   },
   {
    "duration": 13,
    "start_time": "2022-02-03T15:50:22.949Z"
   },
   {
    "duration": 16,
    "start_time": "2022-02-03T15:50:22.964Z"
   },
   {
    "duration": 27,
    "start_time": "2022-02-03T15:50:22.982Z"
   },
   {
    "duration": 8,
    "start_time": "2022-02-03T15:50:23.012Z"
   },
   {
    "duration": 11,
    "start_time": "2022-02-03T15:50:23.021Z"
   },
   {
    "duration": 11,
    "start_time": "2022-02-03T15:50:23.034Z"
   },
   {
    "duration": 10,
    "start_time": "2022-02-03T15:50:23.047Z"
   },
   {
    "duration": 16,
    "start_time": "2022-02-03T15:50:23.059Z"
   },
   {
    "duration": 35,
    "start_time": "2022-02-03T15:50:23.077Z"
   },
   {
    "duration": 16,
    "start_time": "2022-02-03T15:50:23.113Z"
   },
   {
    "duration": 16,
    "start_time": "2022-02-03T15:50:23.131Z"
   },
   {
    "duration": 21,
    "start_time": "2022-02-03T15:50:23.149Z"
   },
   {
    "duration": 18,
    "start_time": "2022-02-03T15:50:23.173Z"
   },
   {
    "duration": 6,
    "start_time": "2022-02-03T15:50:23.207Z"
   },
   {
    "duration": 16,
    "start_time": "2022-02-03T15:50:23.218Z"
   },
   {
    "duration": 10,
    "start_time": "2022-02-03T15:50:23.237Z"
   },
   {
    "duration": 7,
    "start_time": "2022-02-03T15:50:23.249Z"
   },
   {
    "duration": 15,
    "start_time": "2022-02-03T15:50:23.258Z"
   },
   {
    "duration": 39,
    "start_time": "2022-02-03T15:50:23.276Z"
   },
   {
    "duration": 22,
    "start_time": "2022-02-03T15:50:23.318Z"
   },
   {
    "duration": 243,
    "start_time": "2022-02-03T15:50:23.342Z"
   },
   {
    "duration": 174,
    "start_time": "2022-02-03T15:50:23.587Z"
   },
   {
    "duration": 6,
    "start_time": "2022-02-03T15:50:23.763Z"
   },
   {
    "duration": 10,
    "start_time": "2022-02-03T15:50:23.771Z"
   },
   {
    "duration": 27,
    "start_time": "2022-02-03T15:50:23.783Z"
   },
   {
    "duration": 9,
    "start_time": "2022-02-03T15:50:23.812Z"
   },
   {
    "duration": 8,
    "start_time": "2022-02-03T15:50:23.823Z"
   },
   {
    "duration": 9,
    "start_time": "2022-02-03T15:50:23.833Z"
   },
   {
    "duration": 11,
    "start_time": "2022-02-03T15:50:23.844Z"
   },
   {
    "duration": 491,
    "start_time": "2022-02-03T15:50:23.857Z"
   },
   {
    "duration": 462,
    "start_time": "2022-02-03T15:50:24.350Z"
   },
   {
    "duration": 7,
    "start_time": "2022-02-03T15:50:24.814Z"
   },
   {
    "duration": 103,
    "start_time": "2022-02-03T15:50:24.823Z"
   },
   {
    "duration": -643,
    "start_time": "2022-02-03T15:50:25.571Z"
   },
   {
    "duration": -647,
    "start_time": "2022-02-03T15:50:25.576Z"
   },
   {
    "duration": -651,
    "start_time": "2022-02-03T15:50:25.582Z"
   },
   {
    "duration": -655,
    "start_time": "2022-02-03T15:50:25.587Z"
   },
   {
    "duration": -659,
    "start_time": "2022-02-03T15:50:25.592Z"
   },
   {
    "duration": -666,
    "start_time": "2022-02-03T15:50:25.600Z"
   },
   {
    "duration": 625,
    "start_time": "2022-02-03T15:50:31.729Z"
   },
   {
    "duration": 1418,
    "start_time": "2022-02-03T15:50:39.862Z"
   },
   {
    "duration": 17,
    "start_time": "2022-02-03T15:50:41.283Z"
   },
   {
    "duration": 10,
    "start_time": "2022-02-03T15:50:41.303Z"
   },
   {
    "duration": 17,
    "start_time": "2022-02-03T15:50:41.316Z"
   },
   {
    "duration": 29,
    "start_time": "2022-02-03T15:50:41.334Z"
   },
   {
    "duration": 19,
    "start_time": "2022-02-03T15:50:41.366Z"
   },
   {
    "duration": 9,
    "start_time": "2022-02-03T15:50:41.387Z"
   },
   {
    "duration": 9,
    "start_time": "2022-02-03T15:50:41.400Z"
   },
   {
    "duration": 14,
    "start_time": "2022-02-03T15:50:41.412Z"
   },
   {
    "duration": 13,
    "start_time": "2022-02-03T15:50:41.429Z"
   },
   {
    "duration": 15,
    "start_time": "2022-02-03T15:50:41.444Z"
   },
   {
    "duration": 13,
    "start_time": "2022-02-03T15:50:41.461Z"
   },
   {
    "duration": 10,
    "start_time": "2022-02-03T15:50:41.477Z"
   },
   {
    "duration": 20,
    "start_time": "2022-02-03T15:50:41.489Z"
   },
   {
    "duration": 12,
    "start_time": "2022-02-03T15:50:41.511Z"
   },
   {
    "duration": 12,
    "start_time": "2022-02-03T15:50:41.525Z"
   },
   {
    "duration": 14,
    "start_time": "2022-02-03T15:50:41.540Z"
   },
   {
    "duration": 14,
    "start_time": "2022-02-03T15:50:41.556Z"
   },
   {
    "duration": 38,
    "start_time": "2022-02-03T15:50:41.572Z"
   },
   {
    "duration": 18,
    "start_time": "2022-02-03T15:50:41.612Z"
   },
   {
    "duration": 12,
    "start_time": "2022-02-03T15:50:41.632Z"
   },
   {
    "duration": 13,
    "start_time": "2022-02-03T15:50:41.646Z"
   },
   {
    "duration": 16,
    "start_time": "2022-02-03T15:50:41.664Z"
   },
   {
    "duration": 25,
    "start_time": "2022-02-03T15:50:41.682Z"
   },
   {
    "duration": 7,
    "start_time": "2022-02-03T15:50:41.710Z"
   },
   {
    "duration": 14,
    "start_time": "2022-02-03T15:50:41.719Z"
   },
   {
    "duration": 14,
    "start_time": "2022-02-03T15:50:41.735Z"
   },
   {
    "duration": 10,
    "start_time": "2022-02-03T15:50:41.751Z"
   },
   {
    "duration": 256,
    "start_time": "2022-02-03T15:50:41.763Z"
   },
   {
    "duration": 205,
    "start_time": "2022-02-03T15:50:42.021Z"
   },
   {
    "duration": 7,
    "start_time": "2022-02-03T15:50:42.228Z"
   },
   {
    "duration": 11,
    "start_time": "2022-02-03T15:50:42.237Z"
   },
   {
    "duration": 16,
    "start_time": "2022-02-03T15:50:42.250Z"
   },
   {
    "duration": 10,
    "start_time": "2022-02-03T15:50:42.267Z"
   },
   {
    "duration": 31,
    "start_time": "2022-02-03T15:50:42.278Z"
   },
   {
    "duration": 7,
    "start_time": "2022-02-03T15:50:42.311Z"
   },
   {
    "duration": 11,
    "start_time": "2022-02-03T15:50:42.320Z"
   },
   {
    "duration": 566,
    "start_time": "2022-02-03T15:50:42.333Z"
   },
   {
    "duration": 461,
    "start_time": "2022-02-03T15:50:42.901Z"
   },
   {
    "duration": 7,
    "start_time": "2022-02-03T15:50:43.363Z"
   },
   {
    "duration": 575,
    "start_time": "2022-02-03T15:50:43.372Z"
   },
   {
    "duration": 4,
    "start_time": "2022-02-03T15:50:43.949Z"
   },
   {
    "duration": 7,
    "start_time": "2022-02-03T15:50:43.955Z"
   },
   {
    "duration": 7,
    "start_time": "2022-02-03T15:50:43.964Z"
   },
   {
    "duration": 90,
    "start_time": "2022-02-03T15:50:43.973Z"
   },
   {
    "duration": -610,
    "start_time": "2022-02-03T15:50:44.676Z"
   },
   {
    "duration": -630,
    "start_time": "2022-02-03T15:50:44.697Z"
   },
   {
    "duration": 419,
    "start_time": "2022-02-03T15:50:50.229Z"
   },
   {
    "duration": 1301,
    "start_time": "2022-02-03T15:50:56.731Z"
   },
   {
    "duration": 19,
    "start_time": "2022-02-03T15:50:58.035Z"
   },
   {
    "duration": 13,
    "start_time": "2022-02-03T15:50:58.057Z"
   },
   {
    "duration": 15,
    "start_time": "2022-02-03T15:50:58.073Z"
   },
   {
    "duration": 6,
    "start_time": "2022-02-03T15:50:58.108Z"
   },
   {
    "duration": 8,
    "start_time": "2022-02-03T15:50:58.116Z"
   },
   {
    "duration": 8,
    "start_time": "2022-02-03T15:50:58.126Z"
   },
   {
    "duration": 7,
    "start_time": "2022-02-03T15:50:58.138Z"
   },
   {
    "duration": 9,
    "start_time": "2022-02-03T15:50:58.148Z"
   },
   {
    "duration": 6,
    "start_time": "2022-02-03T15:50:58.208Z"
   },
   {
    "duration": 12,
    "start_time": "2022-02-03T15:50:58.216Z"
   },
   {
    "duration": 11,
    "start_time": "2022-02-03T15:50:58.230Z"
   },
   {
    "duration": 17,
    "start_time": "2022-02-03T15:50:58.243Z"
   },
   {
    "duration": 8,
    "start_time": "2022-02-03T15:50:58.262Z"
   },
   {
    "duration": 41,
    "start_time": "2022-02-03T15:50:58.273Z"
   },
   {
    "duration": 16,
    "start_time": "2022-02-03T15:50:58.316Z"
   },
   {
    "duration": 14,
    "start_time": "2022-02-03T15:50:58.335Z"
   },
   {
    "duration": 16,
    "start_time": "2022-02-03T15:50:58.351Z"
   },
   {
    "duration": 10,
    "start_time": "2022-02-03T15:50:58.370Z"
   },
   {
    "duration": 13,
    "start_time": "2022-02-03T15:50:58.407Z"
   },
   {
    "duration": 18,
    "start_time": "2022-02-03T15:50:58.422Z"
   },
   {
    "duration": 9,
    "start_time": "2022-02-03T15:50:58.442Z"
   },
   {
    "duration": 16,
    "start_time": "2022-02-03T15:50:58.455Z"
   },
   {
    "duration": 35,
    "start_time": "2022-02-03T15:50:58.473Z"
   },
   {
    "duration": 3,
    "start_time": "2022-02-03T15:50:58.511Z"
   },
   {
    "duration": 18,
    "start_time": "2022-02-03T15:50:58.517Z"
   },
   {
    "duration": 14,
    "start_time": "2022-02-03T15:50:58.537Z"
   },
   {
    "duration": 14,
    "start_time": "2022-02-03T15:50:58.553Z"
   },
   {
    "duration": 288,
    "start_time": "2022-02-03T15:50:58.569Z"
   },
   {
    "duration": 183,
    "start_time": "2022-02-03T15:50:58.859Z"
   },
   {
    "duration": 7,
    "start_time": "2022-02-03T15:50:59.044Z"
   },
   {
    "duration": 7,
    "start_time": "2022-02-03T15:50:59.052Z"
   },
   {
    "duration": 13,
    "start_time": "2022-02-03T15:50:59.061Z"
   },
   {
    "duration": 32,
    "start_time": "2022-02-03T15:50:59.076Z"
   },
   {
    "duration": 18,
    "start_time": "2022-02-03T15:50:59.110Z"
   },
   {
    "duration": 10,
    "start_time": "2022-02-03T15:50:59.130Z"
   },
   {
    "duration": 11,
    "start_time": "2022-02-03T15:50:59.142Z"
   },
   {
    "duration": 480,
    "start_time": "2022-02-03T15:50:59.155Z"
   },
   {
    "duration": 461,
    "start_time": "2022-02-03T15:50:59.637Z"
   },
   {
    "duration": 9,
    "start_time": "2022-02-03T15:51:00.108Z"
   },
   {
    "duration": 550,
    "start_time": "2022-02-03T15:51:00.119Z"
   },
   {
    "duration": 6,
    "start_time": "2022-02-03T15:51:00.672Z"
   },
   {
    "duration": 28,
    "start_time": "2022-02-03T15:51:00.680Z"
   },
   {
    "duration": 5,
    "start_time": "2022-02-03T15:51:00.710Z"
   },
   {
    "duration": 459,
    "start_time": "2022-02-03T15:51:00.717Z"
   },
   {
    "duration": 9,
    "start_time": "2022-02-03T15:51:01.179Z"
   },
   {
    "duration": 125,
    "start_time": "2022-02-03T15:51:01.190Z"
   },
   {
    "duration": 565,
    "start_time": "2022-02-03T15:51:08.873Z"
   },
   {
    "duration": 345,
    "start_time": "2022-02-03T15:51:16.703Z"
   },
   {
    "duration": 596,
    "start_time": "2022-02-03T15:51:21.178Z"
   },
   {
    "duration": 580,
    "start_time": "2022-02-03T15:51:27.995Z"
   },
   {
    "duration": 1385,
    "start_time": "2022-02-03T15:51:35.362Z"
   },
   {
    "duration": 16,
    "start_time": "2022-02-03T15:51:36.749Z"
   },
   {
    "duration": 16,
    "start_time": "2022-02-03T15:51:36.767Z"
   },
   {
    "duration": 15,
    "start_time": "2022-02-03T15:51:36.785Z"
   },
   {
    "duration": 11,
    "start_time": "2022-02-03T15:51:36.802Z"
   },
   {
    "duration": 10,
    "start_time": "2022-02-03T15:51:36.815Z"
   },
   {
    "duration": 8,
    "start_time": "2022-02-03T15:51:36.827Z"
   },
   {
    "duration": 13,
    "start_time": "2022-02-03T15:51:36.838Z"
   },
   {
    "duration": 9,
    "start_time": "2022-02-03T15:51:36.854Z"
   },
   {
    "duration": 8,
    "start_time": "2022-02-03T15:51:36.865Z"
   },
   {
    "duration": 33,
    "start_time": "2022-02-03T15:51:36.875Z"
   },
   {
    "duration": 6,
    "start_time": "2022-02-03T15:51:36.910Z"
   },
   {
    "duration": 11,
    "start_time": "2022-02-03T15:51:36.918Z"
   },
   {
    "duration": 10,
    "start_time": "2022-02-03T15:51:36.930Z"
   },
   {
    "duration": 11,
    "start_time": "2022-02-03T15:51:36.942Z"
   },
   {
    "duration": 14,
    "start_time": "2022-02-03T15:51:36.955Z"
   },
   {
    "duration": 10,
    "start_time": "2022-02-03T15:51:36.971Z"
   },
   {
    "duration": 9,
    "start_time": "2022-02-03T15:51:37.007Z"
   },
   {
    "duration": 11,
    "start_time": "2022-02-03T15:51:37.018Z"
   },
   {
    "duration": 21,
    "start_time": "2022-02-03T15:51:37.031Z"
   },
   {
    "duration": 15,
    "start_time": "2022-02-03T15:51:37.054Z"
   },
   {
    "duration": 9,
    "start_time": "2022-02-03T15:51:37.071Z"
   },
   {
    "duration": 32,
    "start_time": "2022-02-03T15:51:37.084Z"
   },
   {
    "duration": 4,
    "start_time": "2022-02-03T15:51:37.119Z"
   },
   {
    "duration": 10,
    "start_time": "2022-02-03T15:51:37.125Z"
   },
   {
    "duration": 13,
    "start_time": "2022-02-03T15:51:37.137Z"
   },
   {
    "duration": 14,
    "start_time": "2022-02-03T15:51:37.152Z"
   },
   {
    "duration": 10,
    "start_time": "2022-02-03T15:51:37.167Z"
   },
   {
    "duration": 253,
    "start_time": "2022-02-03T15:51:37.179Z"
   },
   {
    "duration": 187,
    "start_time": "2022-02-03T15:51:37.435Z"
   },
   {
    "duration": 6,
    "start_time": "2022-02-03T15:51:37.625Z"
   },
   {
    "duration": 7,
    "start_time": "2022-02-03T15:51:37.633Z"
   },
   {
    "duration": 18,
    "start_time": "2022-02-03T15:51:37.642Z"
   },
   {
    "duration": 16,
    "start_time": "2022-02-03T15:51:37.662Z"
   },
   {
    "duration": 7,
    "start_time": "2022-02-03T15:51:37.680Z"
   },
   {
    "duration": 6,
    "start_time": "2022-02-03T15:51:37.708Z"
   },
   {
    "duration": 8,
    "start_time": "2022-02-03T15:51:37.715Z"
   },
   {
    "duration": 482,
    "start_time": "2022-02-03T15:51:37.725Z"
   },
   {
    "duration": 455,
    "start_time": "2022-02-03T15:51:38.209Z"
   },
   {
    "duration": 7,
    "start_time": "2022-02-03T15:51:38.665Z"
   },
   {
    "duration": 597,
    "start_time": "2022-02-03T15:51:38.674Z"
   },
   {
    "duration": 4,
    "start_time": "2022-02-03T15:51:39.273Z"
   },
   {
    "duration": 14,
    "start_time": "2022-02-03T15:51:39.279Z"
   },
   {
    "duration": 5,
    "start_time": "2022-02-03T15:51:39.308Z"
   },
   {
    "duration": 465,
    "start_time": "2022-02-03T15:51:39.315Z"
   },
   {
    "duration": 12,
    "start_time": "2022-02-03T15:51:39.782Z"
   },
   {
    "duration": 547,
    "start_time": "2022-02-03T15:51:39.808Z"
   },
   {
    "duration": 520,
    "start_time": "2022-02-03T15:55:54.757Z"
   },
   {
    "duration": 636,
    "start_time": "2022-02-03T15:56:00.140Z"
   },
   {
    "duration": 356,
    "start_time": "2022-02-03T18:56:48.302Z"
   },
   {
    "duration": 557,
    "start_time": "2022-02-03T18:58:01.704Z"
   },
   {
    "duration": 1307,
    "start_time": "2022-02-03T18:58:57.956Z"
   },
   {
    "duration": 17,
    "start_time": "2022-02-03T18:58:59.265Z"
   },
   {
    "duration": 18,
    "start_time": "2022-02-03T18:58:59.284Z"
   },
   {
    "duration": 18,
    "start_time": "2022-02-03T18:58:59.304Z"
   },
   {
    "duration": 7,
    "start_time": "2022-02-03T18:58:59.324Z"
   },
   {
    "duration": 6,
    "start_time": "2022-02-03T18:58:59.333Z"
   },
   {
    "duration": 8,
    "start_time": "2022-02-03T18:58:59.341Z"
   },
   {
    "duration": 7,
    "start_time": "2022-02-03T18:58:59.352Z"
   },
   {
    "duration": 10,
    "start_time": "2022-02-03T18:58:59.361Z"
   },
   {
    "duration": 35,
    "start_time": "2022-02-03T18:58:59.373Z"
   },
   {
    "duration": 12,
    "start_time": "2022-02-03T18:58:59.410Z"
   },
   {
    "duration": 11,
    "start_time": "2022-02-03T18:58:59.424Z"
   },
   {
    "duration": 11,
    "start_time": "2022-02-03T18:58:59.437Z"
   },
   {
    "duration": 9,
    "start_time": "2022-02-03T18:58:59.450Z"
   },
   {
    "duration": 15,
    "start_time": "2022-02-03T18:58:59.461Z"
   },
   {
    "duration": 6,
    "start_time": "2022-02-03T18:58:59.507Z"
   },
   {
    "duration": 10,
    "start_time": "2022-02-03T18:58:59.515Z"
   },
   {
    "duration": 20,
    "start_time": "2022-02-03T18:58:59.526Z"
   },
   {
    "duration": 15,
    "start_time": "2022-02-03T18:58:59.548Z"
   },
   {
    "duration": 15,
    "start_time": "2022-02-03T18:58:59.565Z"
   },
   {
    "duration": 34,
    "start_time": "2022-02-03T18:58:59.581Z"
   },
   {
    "duration": 4,
    "start_time": "2022-02-03T18:58:59.617Z"
   },
   {
    "duration": 13,
    "start_time": "2022-02-03T18:58:59.625Z"
   },
   {
    "duration": 11,
    "start_time": "2022-02-03T18:58:59.640Z"
   },
   {
    "duration": 12,
    "start_time": "2022-02-03T18:58:59.653Z"
   },
   {
    "duration": 43,
    "start_time": "2022-02-03T18:58:59.667Z"
   },
   {
    "duration": 231,
    "start_time": "2022-02-03T18:58:59.711Z"
   },
   {
    "duration": 187,
    "start_time": "2022-02-03T18:58:59.944Z"
   },
   {
    "duration": 7,
    "start_time": "2022-02-03T18:59:00.134Z"
   },
   {
    "duration": 10,
    "start_time": "2022-02-03T18:59:00.143Z"
   },
   {
    "duration": 16,
    "start_time": "2022-02-03T18:59:00.155Z"
   },
   {
    "duration": 12,
    "start_time": "2022-02-03T18:59:00.172Z"
   },
   {
    "duration": 27,
    "start_time": "2022-02-03T18:59:00.185Z"
   },
   {
    "duration": 7,
    "start_time": "2022-02-03T18:59:00.214Z"
   },
   {
    "duration": 12,
    "start_time": "2022-02-03T18:59:00.223Z"
   },
   {
    "duration": 476,
    "start_time": "2022-02-03T18:59:00.236Z"
   },
   {
    "duration": 459,
    "start_time": "2022-02-03T18:59:00.714Z"
   },
   {
    "duration": 7,
    "start_time": "2022-02-03T18:59:01.175Z"
   },
   {
    "duration": 592,
    "start_time": "2022-02-03T18:59:01.184Z"
   },
   {
    "duration": 4,
    "start_time": "2022-02-03T18:59:01.778Z"
   },
   {
    "duration": 67,
    "start_time": "2022-02-03T18:59:01.783Z"
   },
   {
    "duration": 142,
    "start_time": "2022-02-03T18:59:01.852Z"
   },
   {
    "duration": 484,
    "start_time": "2022-02-03T18:59:01.996Z"
   },
   {
    "duration": 8,
    "start_time": "2022-02-03T18:59:02.482Z"
   },
   {
    "duration": 582,
    "start_time": "2022-02-03T18:59:02.492Z"
   },
   {
    "duration": 539,
    "start_time": "2022-02-03T18:59:03.076Z"
   },
   {
    "duration": 409,
    "start_time": "2022-02-03T18:59:27.310Z"
   },
   {
    "duration": 430,
    "start_time": "2022-02-03T19:00:26.635Z"
   },
   {
    "duration": 141,
    "start_time": "2022-02-03T19:01:31.389Z"
   },
   {
    "duration": 87,
    "start_time": "2022-02-03T19:01:43.177Z"
   },
   {
    "duration": 9,
    "start_time": "2022-02-03T19:01:47.479Z"
   },
   {
    "duration": 212,
    "start_time": "2022-02-03T19:07:31.191Z"
   },
   {
    "duration": 242,
    "start_time": "2022-02-03T19:07:43.513Z"
   },
   {
    "duration": 323,
    "start_time": "2022-02-03T19:20:53.008Z"
   },
   {
    "duration": 295,
    "start_time": "2022-02-03T19:22:31.170Z"
   },
   {
    "duration": 312,
    "start_time": "2022-02-03T19:23:40.316Z"
   },
   {
    "duration": 6,
    "start_time": "2022-02-03T19:28:50.789Z"
   },
   {
    "duration": 256,
    "start_time": "2022-02-03T19:41:44.365Z"
   },
   {
    "duration": 196,
    "start_time": "2022-02-03T19:42:30.833Z"
   },
   {
    "duration": 266,
    "start_time": "2022-02-03T19:44:02.857Z"
   },
   {
    "duration": 287,
    "start_time": "2022-02-03T19:44:19.531Z"
   },
   {
    "duration": 315,
    "start_time": "2022-02-03T19:44:25.292Z"
   },
   {
    "duration": 303,
    "start_time": "2022-02-03T19:45:20.527Z"
   },
   {
    "duration": 306,
    "start_time": "2022-02-03T19:45:31.980Z"
   },
   {
    "duration": 117,
    "start_time": "2022-02-03T19:50:11.244Z"
   },
   {
    "duration": 6,
    "start_time": "2022-02-03T19:50:13.968Z"
   },
   {
    "duration": 1207,
    "start_time": "2022-02-03T20:04:39.850Z"
   },
   {
    "duration": 166,
    "start_time": "2022-02-03T20:12:52.753Z"
   },
   {
    "duration": 534,
    "start_time": "2022-02-03T20:19:30.944Z"
   },
   {
    "duration": 1311,
    "start_time": "2022-02-03T20:21:55.504Z"
   },
   {
    "duration": 16,
    "start_time": "2022-02-03T20:21:56.817Z"
   },
   {
    "duration": 26,
    "start_time": "2022-02-03T20:21:56.836Z"
   },
   {
    "duration": 12,
    "start_time": "2022-02-03T20:21:56.864Z"
   },
   {
    "duration": 5,
    "start_time": "2022-02-03T20:21:56.878Z"
   },
   {
    "duration": 22,
    "start_time": "2022-02-03T20:21:56.885Z"
   },
   {
    "duration": 8,
    "start_time": "2022-02-03T20:21:56.910Z"
   },
   {
    "duration": 10,
    "start_time": "2022-02-03T20:21:56.921Z"
   },
   {
    "duration": 16,
    "start_time": "2022-02-03T20:21:56.933Z"
   },
   {
    "duration": 17,
    "start_time": "2022-02-03T20:21:56.951Z"
   },
   {
    "duration": 18,
    "start_time": "2022-02-03T20:21:56.970Z"
   },
   {
    "duration": 22,
    "start_time": "2022-02-03T20:21:56.990Z"
   },
   {
    "duration": 23,
    "start_time": "2022-02-03T20:21:57.014Z"
   },
   {
    "duration": 20,
    "start_time": "2022-02-03T20:21:57.039Z"
   },
   {
    "duration": 16,
    "start_time": "2022-02-03T20:21:57.061Z"
   },
   {
    "duration": 20,
    "start_time": "2022-02-03T20:21:57.079Z"
   },
   {
    "duration": 16,
    "start_time": "2022-02-03T20:21:57.101Z"
   },
   {
    "duration": 23,
    "start_time": "2022-02-03T20:21:57.119Z"
   },
   {
    "duration": 21,
    "start_time": "2022-02-03T20:21:57.144Z"
   },
   {
    "duration": 32,
    "start_time": "2022-02-03T20:21:57.167Z"
   },
   {
    "duration": 12,
    "start_time": "2022-02-03T20:21:57.202Z"
   },
   {
    "duration": 14,
    "start_time": "2022-02-03T20:21:57.217Z"
   },
   {
    "duration": 15,
    "start_time": "2022-02-03T20:21:57.237Z"
   },
   {
    "duration": 20,
    "start_time": "2022-02-03T20:21:57.255Z"
   },
   {
    "duration": 16,
    "start_time": "2022-02-03T20:21:57.277Z"
   },
   {
    "duration": 7,
    "start_time": "2022-02-03T20:21:57.308Z"
   },
   {
    "duration": 239,
    "start_time": "2022-02-03T20:21:57.318Z"
   },
   {
    "duration": 189,
    "start_time": "2022-02-03T20:21:57.560Z"
   },
   {
    "duration": 7,
    "start_time": "2022-02-03T20:21:57.751Z"
   },
   {
    "duration": 8,
    "start_time": "2022-02-03T20:21:57.761Z"
   },
   {
    "duration": 14,
    "start_time": "2022-02-03T20:21:57.771Z"
   },
   {
    "duration": 5,
    "start_time": "2022-02-03T20:21:57.807Z"
   },
   {
    "duration": 7,
    "start_time": "2022-02-03T20:21:57.814Z"
   },
   {
    "duration": 7,
    "start_time": "2022-02-03T20:21:57.823Z"
   },
   {
    "duration": 9,
    "start_time": "2022-02-03T20:21:57.832Z"
   },
   {
    "duration": 472,
    "start_time": "2022-02-03T20:21:57.843Z"
   },
   {
    "duration": 451,
    "start_time": "2022-02-03T20:21:58.317Z"
   },
   {
    "duration": 7,
    "start_time": "2022-02-03T20:21:58.769Z"
   },
   {
    "duration": 571,
    "start_time": "2022-02-03T20:21:58.777Z"
   },
   {
    "duration": 4,
    "start_time": "2022-02-03T20:21:59.349Z"
   },
   {
    "duration": 12,
    "start_time": "2022-02-03T20:21:59.355Z"
   },
   {
    "duration": 13,
    "start_time": "2022-02-03T20:21:59.369Z"
   },
   {
    "duration": 438,
    "start_time": "2022-02-03T20:21:59.384Z"
   },
   {
    "duration": 9,
    "start_time": "2022-02-03T20:21:59.824Z"
   },
   {
    "duration": 530,
    "start_time": "2022-02-03T20:21:59.835Z"
   },
   {
    "duration": 160,
    "start_time": "2022-02-03T20:22:00.367Z"
   },
   {
    "duration": 9,
    "start_time": "2022-02-03T20:22:00.530Z"
   },
   {
    "duration": 192,
    "start_time": "2022-02-03T20:22:00.541Z"
   },
   {
    "duration": 378,
    "start_time": "2022-02-03T20:22:00.736Z"
   },
   {
    "duration": 6,
    "start_time": "2022-02-03T20:22:01.116Z"
   },
   {
    "duration": 323,
    "start_time": "2022-02-03T20:22:01.125Z"
   },
   {
    "duration": 7,
    "start_time": "2022-02-03T20:22:01.451Z"
   },
   {
    "duration": 1181,
    "start_time": "2022-02-04T06:08:38.762Z"
   },
   {
    "duration": 13,
    "start_time": "2022-02-04T06:08:39.944Z"
   },
   {
    "duration": 9,
    "start_time": "2022-02-04T06:08:39.959Z"
   },
   {
    "duration": 10,
    "start_time": "2022-02-04T06:08:39.970Z"
   },
   {
    "duration": 5,
    "start_time": "2022-02-04T06:08:39.981Z"
   },
   {
    "duration": 11,
    "start_time": "2022-02-04T06:08:39.987Z"
   },
   {
    "duration": 11,
    "start_time": "2022-02-04T06:08:39.999Z"
   },
   {
    "duration": 5,
    "start_time": "2022-02-04T06:08:40.013Z"
   },
   {
    "duration": 11,
    "start_time": "2022-02-04T06:08:40.019Z"
   },
   {
    "duration": 5,
    "start_time": "2022-02-04T06:08:40.031Z"
   },
   {
    "duration": 9,
    "start_time": "2022-02-04T06:08:40.038Z"
   },
   {
    "duration": 10,
    "start_time": "2022-02-04T06:08:40.049Z"
   },
   {
    "duration": 16,
    "start_time": "2022-02-04T06:08:40.061Z"
   },
   {
    "duration": 10,
    "start_time": "2022-02-04T06:08:40.078Z"
   },
   {
    "duration": 11,
    "start_time": "2022-02-04T06:08:40.089Z"
   },
   {
    "duration": 11,
    "start_time": "2022-02-04T06:08:40.101Z"
   },
   {
    "duration": 7,
    "start_time": "2022-02-04T06:08:40.113Z"
   },
   {
    "duration": 11,
    "start_time": "2022-02-04T06:08:40.122Z"
   },
   {
    "duration": 7,
    "start_time": "2022-02-04T06:08:40.134Z"
   },
   {
    "duration": 11,
    "start_time": "2022-02-04T06:08:40.142Z"
   },
   {
    "duration": 21,
    "start_time": "2022-02-04T06:08:40.155Z"
   },
   {
    "duration": 5,
    "start_time": "2022-02-04T06:08:40.177Z"
   },
   {
    "duration": 16,
    "start_time": "2022-02-04T06:08:40.186Z"
   },
   {
    "duration": 13,
    "start_time": "2022-02-04T06:08:40.204Z"
   },
   {
    "duration": 9,
    "start_time": "2022-02-04T06:08:40.219Z"
   },
   {
    "duration": 7,
    "start_time": "2022-02-04T06:08:40.229Z"
   },
   {
    "duration": 197,
    "start_time": "2022-02-04T06:08:40.238Z"
   },
   {
    "duration": 155,
    "start_time": "2022-02-04T06:08:40.437Z"
   },
   {
    "duration": 5,
    "start_time": "2022-02-04T06:08:40.594Z"
   },
   {
    "duration": 4,
    "start_time": "2022-02-04T06:08:40.601Z"
   },
   {
    "duration": 9,
    "start_time": "2022-02-04T06:08:40.607Z"
   },
   {
    "duration": 3,
    "start_time": "2022-02-04T06:08:40.618Z"
   },
   {
    "duration": 4,
    "start_time": "2022-02-04T06:08:40.623Z"
   },
   {
    "duration": 5,
    "start_time": "2022-02-04T06:08:40.628Z"
   },
   {
    "duration": 38,
    "start_time": "2022-02-04T06:08:40.635Z"
   },
   {
    "duration": 400,
    "start_time": "2022-02-04T06:08:40.674Z"
   },
   {
    "duration": 387,
    "start_time": "2022-02-04T06:08:41.076Z"
   },
   {
    "duration": 10,
    "start_time": "2022-02-04T06:08:41.464Z"
   },
   {
    "duration": 500,
    "start_time": "2022-02-04T06:08:41.476Z"
   },
   {
    "duration": 4,
    "start_time": "2022-02-04T06:08:41.977Z"
   },
   {
    "duration": 23,
    "start_time": "2022-02-04T06:08:41.983Z"
   },
   {
    "duration": 10,
    "start_time": "2022-02-04T06:08:42.007Z"
   },
   {
    "duration": 369,
    "start_time": "2022-02-04T06:08:42.019Z"
   },
   {
    "duration": 7,
    "start_time": "2022-02-04T06:08:42.390Z"
   },
   {
    "duration": 478,
    "start_time": "2022-02-04T06:08:42.399Z"
   },
   {
    "duration": 112,
    "start_time": "2022-02-04T06:08:42.878Z"
   },
   {
    "duration": 7,
    "start_time": "2022-02-04T06:08:42.991Z"
   },
   {
    "duration": 154,
    "start_time": "2022-02-04T06:08:42.999Z"
   },
   {
    "duration": 309,
    "start_time": "2022-02-04T06:08:43.154Z"
   },
   {
    "duration": 8,
    "start_time": "2022-02-04T06:08:43.465Z"
   },
   {
    "duration": 297,
    "start_time": "2022-02-04T06:08:43.475Z"
   },
   {
    "duration": 5,
    "start_time": "2022-02-04T06:08:43.774Z"
   },
   {
    "duration": 153,
    "start_time": "2022-02-04T06:17:01.003Z"
   },
   {
    "duration": 301,
    "start_time": "2022-02-04T06:17:47.852Z"
   },
   {
    "duration": 281,
    "start_time": "2022-02-04T06:19:23.329Z"
   },
   {
    "duration": 256,
    "start_time": "2022-02-04T06:19:26.518Z"
   },
   {
    "duration": 7,
    "start_time": "2022-02-04T07:43:27.375Z"
   },
   {
    "duration": 53,
    "start_time": "2022-02-04T07:43:41.600Z"
   },
   {
    "duration": 3,
    "start_time": "2022-02-04T07:43:53.357Z"
   },
   {
    "duration": 7,
    "start_time": "2022-02-04T07:44:03.168Z"
   },
   {
    "duration": 51,
    "start_time": "2022-02-04T07:44:14.285Z"
   },
   {
    "duration": 3,
    "start_time": "2022-02-04T07:44:25.840Z"
   },
   {
    "duration": 399,
    "start_time": "2022-02-04T07:44:35.026Z"
   },
   {
    "duration": 8493,
    "start_time": "2022-02-04T07:45:11.013Z"
   },
   {
    "duration": 14,
    "start_time": "2022-02-04T07:45:34.810Z"
   },
   {
    "duration": 3,
    "start_time": "2022-02-04T07:45:44.462Z"
   },
   {
    "duration": 63,
    "start_time": "2022-02-04T07:46:07.436Z"
   },
   {
    "duration": 323,
    "start_time": "2022-02-04T07:46:23.872Z"
   },
   {
    "duration": 13,
    "start_time": "2022-02-04T07:46:39.011Z"
   },
   {
    "duration": 6,
    "start_time": "2022-02-04T07:46:53.475Z"
   },
   {
    "duration": 65,
    "start_time": "2022-02-04T07:47:04.756Z"
   },
   {
    "duration": 21,
    "start_time": "2022-02-04T07:47:21.117Z"
   },
   {
    "duration": 10,
    "start_time": "2022-02-04T07:47:29.791Z"
   },
   {
    "duration": 322,
    "start_time": "2022-02-04T07:58:33.053Z"
   },
   {
    "duration": 54,
    "start_time": "2022-02-04T07:58:54.983Z"
   },
   {
    "duration": 56,
    "start_time": "2022-02-04T08:00:29.381Z"
   },
   {
    "duration": 3,
    "start_time": "2022-02-04T08:00:42.112Z"
   },
   {
    "duration": 2,
    "start_time": "2022-02-04T08:02:35.346Z"
   },
   {
    "duration": 61,
    "start_time": "2022-02-04T08:03:10.451Z"
   },
   {
    "duration": 3,
    "start_time": "2022-02-04T08:03:18.023Z"
   },
   {
    "duration": 5,
    "start_time": "2022-02-04T08:06:24.115Z"
   },
   {
    "duration": 4,
    "start_time": "2022-02-04T08:06:48.000Z"
   },
   {
    "duration": 8,
    "start_time": "2022-02-04T08:07:51.611Z"
   },
   {
    "duration": 4,
    "start_time": "2022-02-04T08:08:14.396Z"
   },
   {
    "duration": 8,
    "start_time": "2022-02-04T08:08:31.104Z"
   },
   {
    "duration": 108,
    "start_time": "2022-02-04T08:08:40.150Z"
   },
   {
    "duration": 6,
    "start_time": "2022-02-04T08:08:45.233Z"
   },
   {
    "duration": 6,
    "start_time": "2022-02-04T08:09:07.223Z"
   },
   {
    "duration": 6,
    "start_time": "2022-02-04T08:09:13.422Z"
   },
   {
    "duration": 7,
    "start_time": "2022-02-04T08:24:19.693Z"
   },
   {
    "duration": 6,
    "start_time": "2022-02-04T08:24:37.231Z"
   },
   {
    "duration": 5,
    "start_time": "2022-02-04T08:45:33.404Z"
   },
   {
    "duration": 7742,
    "start_time": "2022-02-04T08:45:49.262Z"
   },
   {
    "duration": 4,
    "start_time": "2022-02-04T08:46:33.383Z"
   },
   {
    "duration": 4,
    "start_time": "2022-02-04T08:46:43.838Z"
   },
   {
    "duration": 5,
    "start_time": "2022-02-04T08:46:52.862Z"
   },
   {
    "duration": 4,
    "start_time": "2022-02-04T08:47:50.641Z"
   },
   {
    "duration": 4,
    "start_time": "2022-02-04T08:47:52.456Z"
   },
   {
    "duration": 4,
    "start_time": "2022-02-04T08:47:54.428Z"
   },
   {
    "duration": 4,
    "start_time": "2022-02-04T08:48:02.871Z"
   },
   {
    "duration": 5,
    "start_time": "2022-02-04T08:48:04.528Z"
   },
   {
    "duration": 5,
    "start_time": "2022-02-04T08:48:06.873Z"
   },
   {
    "duration": 4,
    "start_time": "2022-02-04T08:49:51.685Z"
   },
   {
    "duration": 5,
    "start_time": "2022-02-04T08:49:53.893Z"
   },
   {
    "duration": 4,
    "start_time": "2022-02-04T08:49:55.541Z"
   },
   {
    "duration": 5,
    "start_time": "2022-02-04T08:49:58.025Z"
   },
   {
    "duration": 1245,
    "start_time": "2022-02-04T08:50:04.039Z"
   },
   {
    "duration": 13,
    "start_time": "2022-02-04T08:50:05.286Z"
   },
   {
    "duration": 11,
    "start_time": "2022-02-04T08:50:05.301Z"
   },
   {
    "duration": 13,
    "start_time": "2022-02-04T08:50:05.313Z"
   },
   {
    "duration": 7,
    "start_time": "2022-02-04T08:50:05.328Z"
   },
   {
    "duration": 6,
    "start_time": "2022-02-04T08:50:05.336Z"
   },
   {
    "duration": 9,
    "start_time": "2022-02-04T08:50:05.343Z"
   },
   {
    "duration": 6,
    "start_time": "2022-02-04T08:50:05.354Z"
   },
   {
    "duration": 14,
    "start_time": "2022-02-04T08:50:05.362Z"
   },
   {
    "duration": 8,
    "start_time": "2022-02-04T08:50:05.377Z"
   },
   {
    "duration": 10,
    "start_time": "2022-02-04T08:50:05.387Z"
   },
   {
    "duration": 21,
    "start_time": "2022-02-04T08:50:05.398Z"
   },
   {
    "duration": 9,
    "start_time": "2022-02-04T08:50:05.420Z"
   },
   {
    "duration": 9,
    "start_time": "2022-02-04T08:50:05.430Z"
   },
   {
    "duration": 7,
    "start_time": "2022-02-04T08:50:05.441Z"
   },
   {
    "duration": 11,
    "start_time": "2022-02-04T08:50:05.449Z"
   },
   {
    "duration": 14,
    "start_time": "2022-02-04T08:50:05.461Z"
   },
   {
    "duration": 11,
    "start_time": "2022-02-04T08:50:05.476Z"
   },
   {
    "duration": 18,
    "start_time": "2022-02-04T08:50:05.489Z"
   },
   {
    "duration": 20,
    "start_time": "2022-02-04T08:50:05.509Z"
   },
   {
    "duration": 12,
    "start_time": "2022-02-04T08:50:05.530Z"
   },
   {
    "duration": 14,
    "start_time": "2022-02-04T08:50:05.543Z"
   },
   {
    "duration": 11,
    "start_time": "2022-02-04T08:50:05.561Z"
   },
   {
    "duration": 18,
    "start_time": "2022-02-04T08:50:05.574Z"
   },
   {
    "duration": 14,
    "start_time": "2022-02-04T08:50:05.593Z"
   },
   {
    "duration": 13,
    "start_time": "2022-02-04T08:50:05.608Z"
   },
   {
    "duration": 196,
    "start_time": "2022-02-04T08:50:05.623Z"
   },
   {
    "duration": 156,
    "start_time": "2022-02-04T08:50:05.820Z"
   },
   {
    "duration": 5,
    "start_time": "2022-02-04T08:50:05.978Z"
   },
   {
    "duration": 14,
    "start_time": "2022-02-04T08:50:05.985Z"
   },
   {
    "duration": 44,
    "start_time": "2022-02-04T08:50:06.001Z"
   },
   {
    "duration": 14,
    "start_time": "2022-02-04T08:50:06.046Z"
   },
   {
    "duration": 31,
    "start_time": "2022-02-04T08:50:06.062Z"
   },
   {
    "duration": 15,
    "start_time": "2022-02-04T08:50:06.094Z"
   },
   {
    "duration": 19,
    "start_time": "2022-02-04T08:50:06.111Z"
   },
   {
    "duration": 407,
    "start_time": "2022-02-04T08:50:06.131Z"
   },
   {
    "duration": 387,
    "start_time": "2022-02-04T08:50:06.540Z"
   },
   {
    "duration": 6,
    "start_time": "2022-02-04T08:50:06.928Z"
   },
   {
    "duration": 537,
    "start_time": "2022-02-04T08:50:06.935Z"
   },
   {
    "duration": 4,
    "start_time": "2022-02-04T08:50:07.473Z"
   },
   {
    "duration": 21,
    "start_time": "2022-02-04T08:50:07.478Z"
   },
   {
    "duration": 37,
    "start_time": "2022-02-04T08:50:07.501Z"
   },
   {
    "duration": 371,
    "start_time": "2022-02-04T08:50:07.539Z"
   },
   {
    "duration": 8,
    "start_time": "2022-02-04T08:50:07.911Z"
   },
   {
    "duration": 448,
    "start_time": "2022-02-04T08:50:07.920Z"
   },
   {
    "duration": 108,
    "start_time": "2022-02-04T08:50:08.370Z"
   },
   {
    "duration": 6,
    "start_time": "2022-02-04T08:50:08.480Z"
   },
   {
    "duration": 156,
    "start_time": "2022-02-04T08:50:08.488Z"
   },
   {
    "duration": 309,
    "start_time": "2022-02-04T08:50:08.646Z"
   },
   {
    "duration": 15,
    "start_time": "2022-02-04T08:50:08.957Z"
   },
   {
    "duration": 285,
    "start_time": "2022-02-04T08:50:08.973Z"
   },
   {
    "duration": 13,
    "start_time": "2022-02-04T08:50:09.259Z"
   },
   {
    "duration": 4,
    "start_time": "2022-02-04T08:50:09.273Z"
   },
   {
    "duration": 50,
    "start_time": "2022-02-04T08:50:09.279Z"
   },
   {
    "duration": 6,
    "start_time": "2022-02-04T08:50:09.331Z"
   },
   {
    "duration": 5,
    "start_time": "2022-02-04T08:50:09.338Z"
   },
   {
    "duration": 61,
    "start_time": "2022-02-04T08:50:09.344Z"
   },
   {
    "duration": 2,
    "start_time": "2022-02-04T08:50:09.407Z"
   },
   {
    "duration": 12,
    "start_time": "2022-02-04T08:50:09.410Z"
   },
   {
    "duration": 2,
    "start_time": "2022-02-04T08:50:09.424Z"
   },
   {
    "duration": 68,
    "start_time": "2022-02-04T08:50:09.427Z"
   },
   {
    "duration": 18,
    "start_time": "2022-02-04T08:50:09.497Z"
   },
   {
    "duration": 3,
    "start_time": "2022-02-04T08:50:09.517Z"
   },
   {
    "duration": 64,
    "start_time": "2022-02-04T08:50:09.521Z"
   },
   {
    "duration": 23,
    "start_time": "2022-02-04T08:50:09.586Z"
   },
   {
    "duration": 9,
    "start_time": "2022-02-04T08:50:09.611Z"
   },
   {
    "duration": 66,
    "start_time": "2022-02-04T08:50:09.622Z"
   },
   {
    "duration": 2,
    "start_time": "2022-02-04T08:50:09.693Z"
   },
   {
    "duration": 59,
    "start_time": "2022-02-04T08:50:09.697Z"
   },
   {
    "duration": 15,
    "start_time": "2022-02-04T08:50:09.757Z"
   },
   {
    "duration": 5,
    "start_time": "2022-02-04T08:50:09.774Z"
   },
   {
    "duration": 4,
    "start_time": "2022-02-04T08:50:09.781Z"
   },
   {
    "duration": 7,
    "start_time": "2022-02-04T08:50:09.787Z"
   },
   {
    "duration": 4,
    "start_time": "2022-02-04T08:50:09.795Z"
   },
   {
    "duration": 7,
    "start_time": "2022-02-04T08:50:09.801Z"
   },
   {
    "duration": 12,
    "start_time": "2022-02-04T08:50:09.809Z"
   },
   {
    "duration": 7,
    "start_time": "2022-02-04T08:50:09.823Z"
   },
   {
    "duration": 11,
    "start_time": "2022-02-04T08:50:09.832Z"
   },
   {
    "duration": 28,
    "start_time": "2022-02-04T08:50:09.844Z"
   },
   {
    "duration": 7,
    "start_time": "2022-02-04T08:50:09.873Z"
   },
   {
    "duration": 10,
    "start_time": "2022-02-04T08:57:11.577Z"
   },
   {
    "duration": 5,
    "start_time": "2022-02-04T08:57:17.647Z"
   },
   {
    "duration": 3,
    "start_time": "2022-02-04T08:57:19.935Z"
   },
   {
    "duration": 4,
    "start_time": "2022-02-04T08:57:22.122Z"
   },
   {
    "duration": 4,
    "start_time": "2022-02-04T08:57:24.096Z"
   },
   {
    "duration": 403,
    "start_time": "2022-02-04T08:57:37.977Z"
   },
   {
    "duration": 5,
    "start_time": "2022-02-04T08:58:46.803Z"
   },
   {
    "duration": 4,
    "start_time": "2022-02-04T08:58:50.393Z"
   },
   {
    "duration": 5,
    "start_time": "2022-02-04T09:01:16.056Z"
   },
   {
    "duration": 4,
    "start_time": "2022-02-04T09:06:18.357Z"
   },
   {
    "duration": 4,
    "start_time": "2022-02-04T09:20:25.688Z"
   },
   {
    "duration": 4,
    "start_time": "2022-02-04T09:22:37.097Z"
   },
   {
    "duration": 4,
    "start_time": "2022-02-04T09:22:48.259Z"
   },
   {
    "duration": 4,
    "start_time": "2022-02-04T09:22:54.112Z"
   },
   {
    "duration": 1210,
    "start_time": "2022-02-04T09:23:04.742Z"
   },
   {
    "duration": 14,
    "start_time": "2022-02-04T09:23:05.953Z"
   },
   {
    "duration": 8,
    "start_time": "2022-02-04T09:23:05.969Z"
   },
   {
    "duration": 11,
    "start_time": "2022-02-04T09:23:05.979Z"
   },
   {
    "duration": 4,
    "start_time": "2022-02-04T09:23:05.992Z"
   },
   {
    "duration": 4,
    "start_time": "2022-02-04T09:23:05.997Z"
   },
   {
    "duration": 6,
    "start_time": "2022-02-04T09:23:06.003Z"
   },
   {
    "duration": 8,
    "start_time": "2022-02-04T09:23:06.012Z"
   },
   {
    "duration": 12,
    "start_time": "2022-02-04T09:23:06.022Z"
   },
   {
    "duration": 9,
    "start_time": "2022-02-04T09:23:06.035Z"
   },
   {
    "duration": 26,
    "start_time": "2022-02-04T09:23:06.045Z"
   },
   {
    "duration": 5,
    "start_time": "2022-02-04T09:23:06.073Z"
   },
   {
    "duration": 8,
    "start_time": "2022-02-04T09:23:06.079Z"
   },
   {
    "duration": 8,
    "start_time": "2022-02-04T09:23:06.089Z"
   },
   {
    "duration": 10,
    "start_time": "2022-02-04T09:23:06.098Z"
   },
   {
    "duration": 9,
    "start_time": "2022-02-04T09:23:06.109Z"
   },
   {
    "duration": 8,
    "start_time": "2022-02-04T09:23:06.120Z"
   },
   {
    "duration": 13,
    "start_time": "2022-02-04T09:23:06.130Z"
   },
   {
    "duration": 8,
    "start_time": "2022-02-04T09:23:06.144Z"
   },
   {
    "duration": 26,
    "start_time": "2022-02-04T09:23:06.153Z"
   },
   {
    "duration": 9,
    "start_time": "2022-02-04T09:23:06.181Z"
   },
   {
    "duration": 7,
    "start_time": "2022-02-04T09:23:06.191Z"
   },
   {
    "duration": 11,
    "start_time": "2022-02-04T09:23:06.202Z"
   },
   {
    "duration": 10,
    "start_time": "2022-02-04T09:23:06.215Z"
   },
   {
    "duration": 10,
    "start_time": "2022-02-04T09:23:06.226Z"
   },
   {
    "duration": 10,
    "start_time": "2022-02-04T09:23:06.237Z"
   },
   {
    "duration": 199,
    "start_time": "2022-02-04T09:23:06.248Z"
   },
   {
    "duration": 134,
    "start_time": "2022-02-04T09:23:06.449Z"
   },
   {
    "duration": 6,
    "start_time": "2022-02-04T09:23:06.584Z"
   },
   {
    "duration": 5,
    "start_time": "2022-02-04T09:23:06.591Z"
   },
   {
    "duration": 10,
    "start_time": "2022-02-04T09:23:06.597Z"
   },
   {
    "duration": 3,
    "start_time": "2022-02-04T09:23:06.609Z"
   },
   {
    "duration": 5,
    "start_time": "2022-02-04T09:23:06.614Z"
   },
   {
    "duration": 5,
    "start_time": "2022-02-04T09:23:06.620Z"
   },
   {
    "duration": 8,
    "start_time": "2022-02-04T09:23:06.627Z"
   },
   {
    "duration": 508,
    "start_time": "2022-02-04T09:23:06.637Z"
   },
   {
    "duration": 373,
    "start_time": "2022-02-04T09:23:07.147Z"
   },
   {
    "duration": 6,
    "start_time": "2022-02-04T09:23:07.522Z"
   },
   {
    "duration": 495,
    "start_time": "2022-02-04T09:23:07.529Z"
   },
   {
    "duration": 4,
    "start_time": "2022-02-04T09:23:08.025Z"
   },
   {
    "duration": 5,
    "start_time": "2022-02-04T09:23:08.031Z"
   },
   {
    "duration": 5,
    "start_time": "2022-02-04T09:23:08.038Z"
   },
   {
    "duration": 387,
    "start_time": "2022-02-04T09:23:08.045Z"
   },
   {
    "duration": 7,
    "start_time": "2022-02-04T09:23:08.433Z"
   },
   {
    "duration": 523,
    "start_time": "2022-02-04T09:23:08.441Z"
   },
   {
    "duration": 135,
    "start_time": "2022-02-04T09:23:08.966Z"
   },
   {
    "duration": 8,
    "start_time": "2022-02-04T09:23:09.104Z"
   },
   {
    "duration": 265,
    "start_time": "2022-02-04T09:23:09.114Z"
   },
   {
    "duration": 343,
    "start_time": "2022-02-04T09:23:09.381Z"
   },
   {
    "duration": 4,
    "start_time": "2022-02-04T09:23:09.726Z"
   },
   {
    "duration": 305,
    "start_time": "2022-02-04T09:23:09.731Z"
   },
   {
    "duration": 4,
    "start_time": "2022-02-04T09:23:10.037Z"
   },
   {
    "duration": 7,
    "start_time": "2022-02-04T09:23:10.043Z"
   },
   {
    "duration": 64,
    "start_time": "2022-02-04T09:23:10.052Z"
   },
   {
    "duration": 7,
    "start_time": "2022-02-04T09:23:10.118Z"
   },
   {
    "duration": 8,
    "start_time": "2022-02-04T09:23:10.126Z"
   },
   {
    "duration": 59,
    "start_time": "2022-02-04T09:23:10.135Z"
   },
   {
    "duration": 4,
    "start_time": "2022-02-04T09:23:10.195Z"
   },
   {
    "duration": 12,
    "start_time": "2022-02-04T09:23:10.201Z"
   },
   {
    "duration": 2,
    "start_time": "2022-02-04T09:23:10.215Z"
   },
   {
    "duration": 75,
    "start_time": "2022-02-04T09:23:10.219Z"
   },
   {
    "duration": 12,
    "start_time": "2022-02-04T09:23:10.295Z"
   },
   {
    "duration": 3,
    "start_time": "2022-02-04T09:23:10.309Z"
   },
   {
    "duration": 68,
    "start_time": "2022-02-04T09:23:10.313Z"
   },
   {
    "duration": 20,
    "start_time": "2022-02-04T09:23:10.382Z"
   },
   {
    "duration": 10,
    "start_time": "2022-02-04T09:23:10.403Z"
   },
   {
    "duration": 111,
    "start_time": "2022-02-04T09:23:10.414Z"
   },
   {
    "duration": 4,
    "start_time": "2022-02-04T09:23:10.530Z"
   },
   {
    "duration": 63,
    "start_time": "2022-02-04T09:23:10.536Z"
   },
   {
    "duration": 3,
    "start_time": "2022-02-04T09:23:10.600Z"
   },
   {
    "duration": 7,
    "start_time": "2022-02-04T09:23:10.604Z"
   },
   {
    "duration": 5,
    "start_time": "2022-02-04T09:23:10.612Z"
   },
   {
    "duration": 7,
    "start_time": "2022-02-04T09:23:10.618Z"
   },
   {
    "duration": 3,
    "start_time": "2022-02-04T09:23:10.627Z"
   },
   {
    "duration": 6,
    "start_time": "2022-02-04T09:23:10.632Z"
   },
   {
    "duration": 34,
    "start_time": "2022-02-04T09:23:10.639Z"
   },
   {
    "duration": 4,
    "start_time": "2022-02-04T09:23:10.675Z"
   },
   {
    "duration": 8,
    "start_time": "2022-02-04T09:23:10.680Z"
   },
   {
    "duration": 12,
    "start_time": "2022-02-04T09:23:10.689Z"
   },
   {
    "duration": 9,
    "start_time": "2022-02-04T09:23:10.702Z"
   },
   {
    "duration": 9,
    "start_time": "2022-02-04T09:23:10.712Z"
   },
   {
    "duration": 5,
    "start_time": "2022-02-04T09:50:41.874Z"
   },
   {
    "duration": 7,
    "start_time": "2022-02-04T09:51:01.081Z"
   },
   {
    "duration": 6,
    "start_time": "2022-02-04T09:51:35.507Z"
   },
   {
    "duration": 6,
    "start_time": "2022-02-04T09:51:55.054Z"
   },
   {
    "duration": 3,
    "start_time": "2022-02-04T09:51:57.124Z"
   },
   {
    "duration": 8675,
    "start_time": "2022-02-04T10:02:58.664Z"
   },
   {
    "duration": 10,
    "start_time": "2022-02-04T10:03:41.369Z"
   },
   {
    "duration": 9,
    "start_time": "2022-02-04T10:04:06.755Z"
   },
   {
    "duration": 1836,
    "start_time": "2022-02-04T11:51:33.562Z"
   },
   {
    "duration": 1262,
    "start_time": "2022-02-04T11:51:43.404Z"
   },
   {
    "duration": 13,
    "start_time": "2022-02-04T11:51:44.668Z"
   },
   {
    "duration": 10,
    "start_time": "2022-02-04T11:51:44.683Z"
   },
   {
    "duration": 14,
    "start_time": "2022-02-04T11:51:44.695Z"
   },
   {
    "duration": 4,
    "start_time": "2022-02-04T11:51:44.710Z"
   },
   {
    "duration": 5,
    "start_time": "2022-02-04T11:51:44.715Z"
   },
   {
    "duration": 6,
    "start_time": "2022-02-04T11:51:44.721Z"
   },
   {
    "duration": 5,
    "start_time": "2022-02-04T11:51:44.729Z"
   },
   {
    "duration": 40,
    "start_time": "2022-02-04T11:51:44.736Z"
   },
   {
    "duration": 6,
    "start_time": "2022-02-04T11:51:44.778Z"
   },
   {
    "duration": 9,
    "start_time": "2022-02-04T11:51:44.785Z"
   },
   {
    "duration": 13,
    "start_time": "2022-02-04T11:51:44.795Z"
   },
   {
    "duration": 10,
    "start_time": "2022-02-04T11:51:44.810Z"
   },
   {
    "duration": 6,
    "start_time": "2022-02-04T11:51:44.822Z"
   },
   {
    "duration": 8,
    "start_time": "2022-02-04T11:51:44.830Z"
   },
   {
    "duration": 10,
    "start_time": "2022-02-04T11:51:44.840Z"
   },
   {
    "duration": 7,
    "start_time": "2022-02-04T11:51:44.872Z"
   },
   {
    "duration": 9,
    "start_time": "2022-02-04T11:51:44.881Z"
   },
   {
    "duration": 7,
    "start_time": "2022-02-04T11:51:44.892Z"
   },
   {
    "duration": 14,
    "start_time": "2022-02-04T11:51:44.901Z"
   },
   {
    "duration": 14,
    "start_time": "2022-02-04T11:51:44.916Z"
   },
   {
    "duration": 7,
    "start_time": "2022-02-04T11:51:44.931Z"
   },
   {
    "duration": 35,
    "start_time": "2022-02-04T11:51:44.942Z"
   },
   {
    "duration": 7,
    "start_time": "2022-02-04T11:51:44.980Z"
   },
   {
    "duration": 11,
    "start_time": "2022-02-04T11:51:44.988Z"
   },
   {
    "duration": 22,
    "start_time": "2022-02-04T11:51:45.000Z"
   },
   {
    "duration": 193,
    "start_time": "2022-02-04T11:51:45.024Z"
   },
   {
    "duration": 153,
    "start_time": "2022-02-04T11:51:45.219Z"
   },
   {
    "duration": 21,
    "start_time": "2022-02-04T11:51:45.373Z"
   },
   {
    "duration": 19,
    "start_time": "2022-02-04T11:51:45.395Z"
   },
   {
    "duration": 10,
    "start_time": "2022-02-04T11:51:45.416Z"
   },
   {
    "duration": 20,
    "start_time": "2022-02-04T11:51:45.428Z"
   },
   {
    "duration": 8,
    "start_time": "2022-02-04T11:51:45.450Z"
   },
   {
    "duration": 17,
    "start_time": "2022-02-04T11:51:45.460Z"
   },
   {
    "duration": 30,
    "start_time": "2022-02-04T11:51:45.479Z"
   },
   {
    "duration": 397,
    "start_time": "2022-02-04T11:51:45.511Z"
   },
   {
    "duration": 390,
    "start_time": "2022-02-04T11:51:45.910Z"
   },
   {
    "duration": 6,
    "start_time": "2022-02-04T11:51:46.302Z"
   },
   {
    "duration": 494,
    "start_time": "2022-02-04T11:51:46.309Z"
   },
   {
    "duration": 3,
    "start_time": "2022-02-04T11:51:46.805Z"
   },
   {
    "duration": 13,
    "start_time": "2022-02-04T11:51:46.810Z"
   },
   {
    "duration": 14,
    "start_time": "2022-02-04T11:51:46.825Z"
   },
   {
    "duration": 375,
    "start_time": "2022-02-04T11:51:46.841Z"
   },
   {
    "duration": 7,
    "start_time": "2022-02-04T11:51:47.218Z"
   },
   {
    "duration": 511,
    "start_time": "2022-02-04T11:51:47.227Z"
   },
   {
    "duration": 105,
    "start_time": "2022-02-04T11:51:47.740Z"
   },
   {
    "duration": 28,
    "start_time": "2022-02-04T11:51:47.846Z"
   },
   {
    "duration": 160,
    "start_time": "2022-02-04T11:51:47.876Z"
   },
   {
    "duration": 344,
    "start_time": "2022-02-04T11:51:48.038Z"
   },
   {
    "duration": 5,
    "start_time": "2022-02-04T11:51:48.384Z"
   },
   {
    "duration": 280,
    "start_time": "2022-02-04T11:51:48.391Z"
   },
   {
    "duration": 6,
    "start_time": "2022-02-04T11:51:48.673Z"
   },
   {
    "duration": 1701,
    "start_time": "2022-02-04T11:51:48.681Z"
   },
   {
    "duration": -155,
    "start_time": "2022-02-04T11:51:50.539Z"
   },
   {
    "duration": -165,
    "start_time": "2022-02-04T11:51:50.550Z"
   },
   {
    "duration": -171,
    "start_time": "2022-02-04T11:51:50.557Z"
   },
   {
    "duration": -178,
    "start_time": "2022-02-04T11:51:50.565Z"
   },
   {
    "duration": -185,
    "start_time": "2022-02-04T11:51:50.573Z"
   },
   {
    "duration": -191,
    "start_time": "2022-02-04T11:51:50.581Z"
   },
   {
    "duration": -197,
    "start_time": "2022-02-04T11:51:50.588Z"
   },
   {
    "duration": -204,
    "start_time": "2022-02-04T11:51:50.596Z"
   },
   {
    "duration": -211,
    "start_time": "2022-02-04T11:51:50.603Z"
   },
   {
    "duration": -217,
    "start_time": "2022-02-04T11:51:50.610Z"
   },
   {
    "duration": -223,
    "start_time": "2022-02-04T11:51:50.617Z"
   },
   {
    "duration": -229,
    "start_time": "2022-02-04T11:51:50.624Z"
   },
   {
    "duration": -235,
    "start_time": "2022-02-04T11:51:50.631Z"
   },
   {
    "duration": -252,
    "start_time": "2022-02-04T11:51:50.649Z"
   },
   {
    "duration": -258,
    "start_time": "2022-02-04T11:51:50.655Z"
   },
   {
    "duration": -265,
    "start_time": "2022-02-04T11:51:50.663Z"
   },
   {
    "duration": -270,
    "start_time": "2022-02-04T11:51:50.669Z"
   },
   {
    "duration": -276,
    "start_time": "2022-02-04T11:51:50.676Z"
   },
   {
    "duration": -282,
    "start_time": "2022-02-04T11:51:50.683Z"
   },
   {
    "duration": -290,
    "start_time": "2022-02-04T11:51:50.691Z"
   },
   {
    "duration": -296,
    "start_time": "2022-02-04T11:51:50.698Z"
   },
   {
    "duration": -302,
    "start_time": "2022-02-04T11:51:50.705Z"
   },
   {
    "duration": -308,
    "start_time": "2022-02-04T11:51:50.712Z"
   },
   {
    "duration": -315,
    "start_time": "2022-02-04T11:51:50.719Z"
   },
   {
    "duration": -321,
    "start_time": "2022-02-04T11:51:50.726Z"
   },
   {
    "duration": -327,
    "start_time": "2022-02-04T11:51:50.733Z"
   },
   {
    "duration": -332,
    "start_time": "2022-02-04T11:51:50.739Z"
   },
   {
    "duration": -348,
    "start_time": "2022-02-04T11:51:50.755Z"
   },
   {
    "duration": -354,
    "start_time": "2022-02-04T11:51:50.762Z"
   },
   {
    "duration": -360,
    "start_time": "2022-02-04T11:51:50.769Z"
   },
   {
    "duration": -366,
    "start_time": "2022-02-04T11:51:50.776Z"
   },
   {
    "duration": -373,
    "start_time": "2022-02-04T11:51:50.784Z"
   },
   {
    "duration": -378,
    "start_time": "2022-02-04T11:51:50.790Z"
   },
   {
    "duration": -385,
    "start_time": "2022-02-04T11:51:50.798Z"
   },
   {
    "duration": -391,
    "start_time": "2022-02-04T11:51:50.804Z"
   },
   {
    "duration": 244,
    "start_time": "2022-02-04T11:54:05.267Z"
   },
   {
    "duration": 1226,
    "start_time": "2022-02-04T11:55:59.537Z"
   },
   {
    "duration": 14,
    "start_time": "2022-02-04T11:56:00.765Z"
   },
   {
    "duration": 9,
    "start_time": "2022-02-04T11:56:00.781Z"
   },
   {
    "duration": 12,
    "start_time": "2022-02-04T11:56:00.792Z"
   },
   {
    "duration": 6,
    "start_time": "2022-02-04T11:56:00.806Z"
   },
   {
    "duration": 17,
    "start_time": "2022-02-04T11:56:00.813Z"
   },
   {
    "duration": 20,
    "start_time": "2022-02-04T11:56:00.832Z"
   },
   {
    "duration": 18,
    "start_time": "2022-02-04T11:56:00.854Z"
   },
   {
    "duration": 25,
    "start_time": "2022-02-04T11:56:00.874Z"
   },
   {
    "duration": 18,
    "start_time": "2022-02-04T11:56:00.901Z"
   },
   {
    "duration": 24,
    "start_time": "2022-02-04T11:56:00.921Z"
   },
   {
    "duration": 17,
    "start_time": "2022-02-04T11:56:00.947Z"
   },
   {
    "duration": 25,
    "start_time": "2022-02-04T11:56:00.965Z"
   },
   {
    "duration": 20,
    "start_time": "2022-02-04T11:56:00.991Z"
   },
   {
    "duration": 16,
    "start_time": "2022-02-04T11:56:01.012Z"
   },
   {
    "duration": 23,
    "start_time": "2022-02-04T11:56:01.029Z"
   },
   {
    "duration": 11,
    "start_time": "2022-02-04T11:56:01.054Z"
   },
   {
    "duration": 30,
    "start_time": "2022-02-04T11:56:01.067Z"
   },
   {
    "duration": 6,
    "start_time": "2022-02-04T11:56:01.099Z"
   },
   {
    "duration": 24,
    "start_time": "2022-02-04T11:56:01.107Z"
   },
   {
    "duration": 22,
    "start_time": "2022-02-04T11:56:01.132Z"
   },
   {
    "duration": 15,
    "start_time": "2022-02-04T11:56:01.155Z"
   },
   {
    "duration": 25,
    "start_time": "2022-02-04T11:56:01.174Z"
   },
   {
    "duration": 23,
    "start_time": "2022-02-04T11:56:01.202Z"
   },
   {
    "duration": 21,
    "start_time": "2022-02-04T11:56:01.227Z"
   },
   {
    "duration": 15,
    "start_time": "2022-02-04T11:56:01.250Z"
   },
   {
    "duration": 207,
    "start_time": "2022-02-04T11:56:01.266Z"
   },
   {
    "duration": 150,
    "start_time": "2022-02-04T11:56:01.474Z"
   },
   {
    "duration": 6,
    "start_time": "2022-02-04T11:56:01.626Z"
   },
   {
    "duration": 11,
    "start_time": "2022-02-04T11:56:01.634Z"
   },
   {
    "duration": 30,
    "start_time": "2022-02-04T11:56:01.647Z"
   },
   {
    "duration": 18,
    "start_time": "2022-02-04T11:56:01.678Z"
   },
   {
    "duration": 20,
    "start_time": "2022-02-04T11:56:01.698Z"
   },
   {
    "duration": 13,
    "start_time": "2022-02-04T11:56:01.720Z"
   },
   {
    "duration": 12,
    "start_time": "2022-02-04T11:56:01.735Z"
   },
   {
    "duration": 414,
    "start_time": "2022-02-04T11:56:01.749Z"
   },
   {
    "duration": 375,
    "start_time": "2022-02-04T11:56:02.165Z"
   },
   {
    "duration": 6,
    "start_time": "2022-02-04T11:56:02.542Z"
   },
   {
    "duration": 496,
    "start_time": "2022-02-04T11:56:02.550Z"
   },
   {
    "duration": 4,
    "start_time": "2022-02-04T11:56:03.048Z"
   },
   {
    "duration": 18,
    "start_time": "2022-02-04T11:56:03.054Z"
   },
   {
    "duration": 4,
    "start_time": "2022-02-04T11:56:03.073Z"
   },
   {
    "duration": 374,
    "start_time": "2022-02-04T11:56:03.079Z"
   },
   {
    "duration": 7,
    "start_time": "2022-02-04T11:56:03.455Z"
   },
   {
    "duration": 471,
    "start_time": "2022-02-04T11:56:03.472Z"
   },
   {
    "duration": 104,
    "start_time": "2022-02-04T11:56:03.945Z"
   },
   {
    "duration": 25,
    "start_time": "2022-02-04T11:56:04.050Z"
   },
   {
    "duration": 155,
    "start_time": "2022-02-04T11:56:04.076Z"
   },
   {
    "duration": 322,
    "start_time": "2022-02-04T11:56:04.233Z"
   },
   {
    "duration": 5,
    "start_time": "2022-02-04T11:56:04.557Z"
   },
   {
    "duration": 308,
    "start_time": "2022-02-04T11:56:04.563Z"
   },
   {
    "duration": 5,
    "start_time": "2022-02-04T11:56:04.873Z"
   },
   {
    "duration": 5,
    "start_time": "2022-02-04T11:56:04.880Z"
   },
   {
    "duration": 53,
    "start_time": "2022-02-04T11:56:04.887Z"
   },
   {
    "duration": 5,
    "start_time": "2022-02-04T11:56:04.941Z"
   },
   {
    "duration": 25,
    "start_time": "2022-02-04T11:56:04.947Z"
   },
   {
    "duration": 55,
    "start_time": "2022-02-04T11:56:04.973Z"
   },
   {
    "duration": 10,
    "start_time": "2022-02-04T11:56:05.029Z"
   },
   {
    "duration": 15,
    "start_time": "2022-02-04T11:56:05.040Z"
   },
   {
    "duration": 2,
    "start_time": "2022-02-04T11:56:05.056Z"
   },
   {
    "duration": 65,
    "start_time": "2022-02-04T11:56:05.060Z"
   },
   {
    "duration": 13,
    "start_time": "2022-02-04T11:56:05.126Z"
   },
   {
    "duration": 2,
    "start_time": "2022-02-04T11:56:05.141Z"
   },
   {
    "duration": 78,
    "start_time": "2022-02-04T11:56:05.145Z"
   },
   {
    "duration": 23,
    "start_time": "2022-02-04T11:56:05.224Z"
   },
   {
    "duration": 23,
    "start_time": "2022-02-04T11:56:05.249Z"
   },
   {
    "duration": 77,
    "start_time": "2022-02-04T11:56:05.274Z"
   },
   {
    "duration": 16,
    "start_time": "2022-02-04T11:56:05.356Z"
   },
   {
    "duration": 62,
    "start_time": "2022-02-04T11:56:05.374Z"
   },
   {
    "duration": 2,
    "start_time": "2022-02-04T11:56:05.438Z"
   },
   {
    "duration": 29,
    "start_time": "2022-02-04T11:56:05.442Z"
   },
   {
    "duration": 4,
    "start_time": "2022-02-04T11:56:05.473Z"
   },
   {
    "duration": 8,
    "start_time": "2022-02-04T11:56:05.478Z"
   },
   {
    "duration": 4,
    "start_time": "2022-02-04T11:56:05.487Z"
   },
   {
    "duration": 9,
    "start_time": "2022-02-04T11:56:05.492Z"
   },
   {
    "duration": 5,
    "start_time": "2022-02-04T11:56:05.503Z"
   },
   {
    "duration": 5,
    "start_time": "2022-02-04T11:56:05.509Z"
   },
   {
    "duration": 12,
    "start_time": "2022-02-04T11:56:05.516Z"
   },
   {
    "duration": 9,
    "start_time": "2022-02-04T11:56:05.530Z"
   },
   {
    "duration": 14,
    "start_time": "2022-02-04T11:56:05.540Z"
   },
   {
    "duration": 7,
    "start_time": "2022-02-04T11:56:05.556Z"
   },
   {
    "duration": 10,
    "start_time": "2022-02-04T11:56:05.564Z"
   },
   {
    "duration": 9,
    "start_time": "2022-02-04T11:56:05.575Z"
   },
   {
    "duration": 15,
    "start_time": "2022-02-04T11:56:05.585Z"
   },
   {
    "duration": 5,
    "start_time": "2022-02-04T11:56:05.602Z"
   },
   {
    "duration": 11,
    "start_time": "2022-02-04T11:56:05.608Z"
   },
   {
    "duration": 9,
    "start_time": "2022-02-04T11:56:05.621Z"
   },
   {
    "duration": 4,
    "start_time": "2022-02-04T12:46:34.082Z"
   },
   {
    "duration": 4,
    "start_time": "2022-02-04T12:46:36.532Z"
   },
   {
    "duration": 4,
    "start_time": "2022-02-04T12:46:38.388Z"
   },
   {
    "duration": 5,
    "start_time": "2022-02-04T12:46:41.108Z"
   },
   {
    "duration": 4,
    "start_time": "2022-02-04T12:46:43.554Z"
   },
   {
    "duration": 1213,
    "start_time": "2022-02-04T12:47:00.963Z"
   },
   {
    "duration": 15,
    "start_time": "2022-02-04T12:47:02.178Z"
   },
   {
    "duration": 8,
    "start_time": "2022-02-04T12:47:02.195Z"
   },
   {
    "duration": 11,
    "start_time": "2022-02-04T12:47:02.205Z"
   },
   {
    "duration": 5,
    "start_time": "2022-02-04T12:47:02.217Z"
   },
   {
    "duration": 5,
    "start_time": "2022-02-04T12:47:02.223Z"
   },
   {
    "duration": 6,
    "start_time": "2022-02-04T12:47:02.229Z"
   },
   {
    "duration": 35,
    "start_time": "2022-02-04T12:47:02.237Z"
   },
   {
    "duration": 5,
    "start_time": "2022-02-04T12:47:02.274Z"
   },
   {
    "duration": 7,
    "start_time": "2022-02-04T12:47:02.281Z"
   },
   {
    "duration": 11,
    "start_time": "2022-02-04T12:47:02.289Z"
   },
   {
    "duration": 10,
    "start_time": "2022-02-04T12:47:02.302Z"
   },
   {
    "duration": 10,
    "start_time": "2022-02-04T12:47:02.313Z"
   },
   {
    "duration": 8,
    "start_time": "2022-02-04T12:47:02.324Z"
   },
   {
    "duration": 9,
    "start_time": "2022-02-04T12:47:02.334Z"
   },
   {
    "duration": 10,
    "start_time": "2022-02-04T12:47:02.345Z"
   },
   {
    "duration": 15,
    "start_time": "2022-02-04T12:47:02.357Z"
   },
   {
    "duration": 17,
    "start_time": "2022-02-04T12:47:02.374Z"
   },
   {
    "duration": 11,
    "start_time": "2022-02-04T12:47:02.392Z"
   },
   {
    "duration": 17,
    "start_time": "2022-02-04T12:47:02.404Z"
   },
   {
    "duration": 14,
    "start_time": "2022-02-04T12:47:02.422Z"
   },
   {
    "duration": 8,
    "start_time": "2022-02-04T12:47:02.438Z"
   },
   {
    "duration": 13,
    "start_time": "2022-02-04T12:47:02.449Z"
   },
   {
    "duration": 8,
    "start_time": "2022-02-04T12:47:02.464Z"
   },
   {
    "duration": 9,
    "start_time": "2022-02-04T12:47:02.474Z"
   },
   {
    "duration": 9,
    "start_time": "2022-02-04T12:47:02.484Z"
   },
   {
    "duration": 209,
    "start_time": "2022-02-04T12:47:02.495Z"
   },
   {
    "duration": 156,
    "start_time": "2022-02-04T12:47:02.705Z"
   },
   {
    "duration": 9,
    "start_time": "2022-02-04T12:47:02.863Z"
   },
   {
    "duration": 6,
    "start_time": "2022-02-04T12:47:02.874Z"
   },
   {
    "duration": 12,
    "start_time": "2022-02-04T12:47:02.881Z"
   },
   {
    "duration": 4,
    "start_time": "2022-02-04T12:47:02.895Z"
   },
   {
    "duration": 5,
    "start_time": "2022-02-04T12:47:02.901Z"
   },
   {
    "duration": 5,
    "start_time": "2022-02-04T12:47:02.907Z"
   },
   {
    "duration": 8,
    "start_time": "2022-02-04T12:47:02.913Z"
   },
   {
    "duration": 423,
    "start_time": "2022-02-04T12:47:02.923Z"
   },
   {
    "duration": 385,
    "start_time": "2022-02-04T12:47:03.348Z"
   },
   {
    "duration": 5,
    "start_time": "2022-02-04T12:47:03.734Z"
   },
   {
    "duration": 533,
    "start_time": "2022-02-04T12:47:03.741Z"
   },
   {
    "duration": 4,
    "start_time": "2022-02-04T12:47:04.275Z"
   },
   {
    "duration": 6,
    "start_time": "2022-02-04T12:47:04.280Z"
   },
   {
    "duration": 5,
    "start_time": "2022-02-04T12:47:04.287Z"
   },
   {
    "duration": 368,
    "start_time": "2022-02-04T12:47:04.293Z"
   },
   {
    "duration": 12,
    "start_time": "2022-02-04T12:47:04.663Z"
   },
   {
    "duration": 510,
    "start_time": "2022-02-04T12:47:04.677Z"
   },
   {
    "duration": 107,
    "start_time": "2022-02-04T12:47:05.189Z"
   },
   {
    "duration": 7,
    "start_time": "2022-02-04T12:47:05.298Z"
   },
   {
    "duration": 173,
    "start_time": "2022-02-04T12:47:05.306Z"
   },
   {
    "duration": 332,
    "start_time": "2022-02-04T12:47:05.481Z"
   },
   {
    "duration": 5,
    "start_time": "2022-02-04T12:47:05.815Z"
   },
   {
    "duration": 260,
    "start_time": "2022-02-04T12:47:05.822Z"
   },
   {
    "duration": 4,
    "start_time": "2022-02-04T12:47:06.083Z"
   },
   {
    "duration": 6,
    "start_time": "2022-02-04T12:47:06.089Z"
   },
   {
    "duration": 51,
    "start_time": "2022-02-04T12:47:06.096Z"
   },
   {
    "duration": 6,
    "start_time": "2022-02-04T12:47:06.148Z"
   },
   {
    "duration": 6,
    "start_time": "2022-02-04T12:47:06.172Z"
   },
   {
    "duration": 51,
    "start_time": "2022-02-04T12:47:06.179Z"
   },
   {
    "duration": 4,
    "start_time": "2022-02-04T12:47:06.232Z"
   },
   {
    "duration": 14,
    "start_time": "2022-02-04T12:47:06.238Z"
   },
   {
    "duration": 19,
    "start_time": "2022-02-04T12:47:06.253Z"
   },
   {
    "duration": 55,
    "start_time": "2022-02-04T12:47:06.274Z"
   },
   {
    "duration": 13,
    "start_time": "2022-02-04T12:47:06.330Z"
   },
   {
    "duration": 3,
    "start_time": "2022-02-04T12:47:06.344Z"
   },
   {
    "duration": 71,
    "start_time": "2022-02-04T12:47:06.348Z"
   },
   {
    "duration": 22,
    "start_time": "2022-02-04T12:47:06.421Z"
   },
   {
    "duration": 10,
    "start_time": "2022-02-04T12:47:06.444Z"
   },
   {
    "duration": 66,
    "start_time": "2022-02-04T12:47:06.456Z"
   },
   {
    "duration": 2,
    "start_time": "2022-02-04T12:47:06.527Z"
   },
   {
    "duration": 77,
    "start_time": "2022-02-04T12:47:06.531Z"
   },
   {
    "duration": 3,
    "start_time": "2022-02-04T12:47:06.610Z"
   },
   {
    "duration": 7,
    "start_time": "2022-02-04T12:47:06.614Z"
   },
   {
    "duration": 4,
    "start_time": "2022-02-04T12:47:06.623Z"
   },
   {
    "duration": 7,
    "start_time": "2022-02-04T12:47:06.628Z"
   },
   {
    "duration": 4,
    "start_time": "2022-02-04T12:47:06.636Z"
   },
   {
    "duration": 33,
    "start_time": "2022-02-04T12:47:06.641Z"
   },
   {
    "duration": 6,
    "start_time": "2022-02-04T12:47:06.676Z"
   },
   {
    "duration": 8,
    "start_time": "2022-02-04T12:47:06.683Z"
   },
   {
    "duration": 10,
    "start_time": "2022-02-04T12:47:06.692Z"
   },
   {
    "duration": 10,
    "start_time": "2022-02-04T12:47:06.703Z"
   },
   {
    "duration": 9,
    "start_time": "2022-02-04T12:47:06.715Z"
   },
   {
    "duration": 8,
    "start_time": "2022-02-04T12:47:06.726Z"
   },
   {
    "duration": 12,
    "start_time": "2022-02-04T12:47:06.735Z"
   },
   {
    "duration": 7,
    "start_time": "2022-02-04T12:47:06.749Z"
   },
   {
    "duration": 10,
    "start_time": "2022-02-04T12:47:06.758Z"
   },
   {
    "duration": 6,
    "start_time": "2022-02-04T12:47:06.769Z"
   },
   {
    "duration": 11,
    "start_time": "2022-02-04T12:47:06.777Z"
   },
   {
    "duration": 12,
    "start_time": "2022-02-04T12:47:06.789Z"
   },
   {
    "duration": 5,
    "start_time": "2022-02-04T12:47:25.172Z"
   },
   {
    "duration": 4,
    "start_time": "2022-02-04T12:47:26.828Z"
   },
   {
    "duration": 4,
    "start_time": "2022-02-04T12:47:28.328Z"
   },
   {
    "duration": 5,
    "start_time": "2022-02-04T12:47:30.377Z"
   },
   {
    "duration": 4,
    "start_time": "2022-02-04T12:47:32.547Z"
   },
   {
    "duration": 1163,
    "start_time": "2022-02-04T12:47:37.887Z"
   },
   {
    "duration": 14,
    "start_time": "2022-02-04T12:47:39.052Z"
   },
   {
    "duration": 9,
    "start_time": "2022-02-04T12:47:39.068Z"
   },
   {
    "duration": 12,
    "start_time": "2022-02-04T12:47:39.079Z"
   },
   {
    "duration": 3,
    "start_time": "2022-02-04T12:47:39.093Z"
   },
   {
    "duration": 4,
    "start_time": "2022-02-04T12:47:39.097Z"
   },
   {
    "duration": 5,
    "start_time": "2022-02-04T12:47:39.102Z"
   },
   {
    "duration": 8,
    "start_time": "2022-02-04T12:47:39.109Z"
   },
   {
    "duration": 9,
    "start_time": "2022-02-04T12:47:39.119Z"
   },
   {
    "duration": 8,
    "start_time": "2022-02-04T12:47:39.129Z"
   },
   {
    "duration": 10,
    "start_time": "2022-02-04T12:47:39.138Z"
   },
   {
    "duration": 25,
    "start_time": "2022-02-04T12:47:39.150Z"
   },
   {
    "duration": 7,
    "start_time": "2022-02-04T12:47:39.176Z"
   },
   {
    "duration": 7,
    "start_time": "2022-02-04T12:47:39.185Z"
   },
   {
    "duration": 9,
    "start_time": "2022-02-04T12:47:39.194Z"
   },
   {
    "duration": 10,
    "start_time": "2022-02-04T12:47:39.205Z"
   },
   {
    "duration": 8,
    "start_time": "2022-02-04T12:47:39.216Z"
   },
   {
    "duration": 13,
    "start_time": "2022-02-04T12:47:39.226Z"
   },
   {
    "duration": 7,
    "start_time": "2022-02-04T12:47:39.241Z"
   },
   {
    "duration": 29,
    "start_time": "2022-02-04T12:47:39.250Z"
   },
   {
    "duration": 7,
    "start_time": "2022-02-04T12:47:39.281Z"
   },
   {
    "duration": 7,
    "start_time": "2022-02-04T12:47:39.290Z"
   },
   {
    "duration": 11,
    "start_time": "2022-02-04T12:47:39.301Z"
   },
   {
    "duration": 9,
    "start_time": "2022-02-04T12:47:39.315Z"
   },
   {
    "duration": 7,
    "start_time": "2022-02-04T12:47:39.326Z"
   },
   {
    "duration": 7,
    "start_time": "2022-02-04T12:47:39.335Z"
   },
   {
    "duration": 217,
    "start_time": "2022-02-04T12:47:39.344Z"
   },
   {
    "duration": 147,
    "start_time": "2022-02-04T12:47:39.562Z"
   },
   {
    "duration": 6,
    "start_time": "2022-02-04T12:47:39.711Z"
   },
   {
    "duration": 6,
    "start_time": "2022-02-04T12:47:39.719Z"
   },
   {
    "duration": 10,
    "start_time": "2022-02-04T12:47:39.727Z"
   },
   {
    "duration": 5,
    "start_time": "2022-02-04T12:47:39.738Z"
   },
   {
    "duration": 28,
    "start_time": "2022-02-04T12:47:39.745Z"
   },
   {
    "duration": 7,
    "start_time": "2022-02-04T12:47:39.774Z"
   },
   {
    "duration": 7,
    "start_time": "2022-02-04T12:47:39.783Z"
   },
   {
    "duration": 407,
    "start_time": "2022-02-04T12:47:39.791Z"
   },
   {
    "duration": 380,
    "start_time": "2022-02-04T12:47:40.200Z"
   },
   {
    "duration": 6,
    "start_time": "2022-02-04T12:47:40.582Z"
   },
   {
    "duration": 507,
    "start_time": "2022-02-04T12:47:40.589Z"
   },
   {
    "duration": 4,
    "start_time": "2022-02-04T12:47:41.097Z"
   },
   {
    "duration": 6,
    "start_time": "2022-02-04T12:47:41.102Z"
   },
   {
    "duration": 5,
    "start_time": "2022-02-04T12:47:41.110Z"
   },
   {
    "duration": 375,
    "start_time": "2022-02-04T12:47:41.116Z"
   },
   {
    "duration": 7,
    "start_time": "2022-02-04T12:47:41.493Z"
   },
   {
    "duration": 492,
    "start_time": "2022-02-04T12:47:41.502Z"
   },
   {
    "duration": 109,
    "start_time": "2022-02-04T12:47:41.996Z"
   },
   {
    "duration": 7,
    "start_time": "2022-02-04T12:47:42.107Z"
   },
   {
    "duration": 246,
    "start_time": "2022-02-04T12:47:42.115Z"
   },
   {
    "duration": 320,
    "start_time": "2022-02-04T12:47:42.363Z"
   },
   {
    "duration": 5,
    "start_time": "2022-02-04T12:47:42.684Z"
   },
   {
    "duration": 308,
    "start_time": "2022-02-04T12:47:42.690Z"
   },
   {
    "duration": 4,
    "start_time": "2022-02-04T12:47:42.999Z"
   },
   {
    "duration": 17,
    "start_time": "2022-02-04T12:47:43.005Z"
   },
   {
    "duration": 56,
    "start_time": "2022-02-04T12:47:43.023Z"
   },
   {
    "duration": 18,
    "start_time": "2022-02-04T12:47:43.081Z"
   },
   {
    "duration": 21,
    "start_time": "2022-02-04T12:47:43.100Z"
   },
   {
    "duration": 80,
    "start_time": "2022-02-04T12:47:43.123Z"
   },
   {
    "duration": 39,
    "start_time": "2022-02-04T12:47:43.204Z"
   },
   {
    "duration": 28,
    "start_time": "2022-02-04T12:47:43.245Z"
   },
   {
    "duration": 10,
    "start_time": "2022-02-04T12:47:43.274Z"
   },
   {
    "duration": 69,
    "start_time": "2022-02-04T12:47:43.285Z"
   },
   {
    "duration": 23,
    "start_time": "2022-02-04T12:47:43.356Z"
   },
   {
    "duration": 32,
    "start_time": "2022-02-04T12:47:43.380Z"
   },
   {
    "duration": 71,
    "start_time": "2022-02-04T12:47:43.413Z"
   },
   {
    "duration": 45,
    "start_time": "2022-02-04T12:47:43.485Z"
   },
   {
    "duration": 30,
    "start_time": "2022-02-04T12:47:43.532Z"
   },
   {
    "duration": 89,
    "start_time": "2022-02-04T12:47:43.563Z"
   },
   {
    "duration": 3,
    "start_time": "2022-02-04T12:47:43.656Z"
   },
   {
    "duration": 90,
    "start_time": "2022-02-04T12:47:43.660Z"
   },
   {
    "duration": 2,
    "start_time": "2022-02-04T12:47:43.752Z"
   },
   {
    "duration": 39,
    "start_time": "2022-02-04T12:47:43.756Z"
   },
   {
    "duration": 21,
    "start_time": "2022-02-04T12:47:43.796Z"
   },
   {
    "duration": 26,
    "start_time": "2022-02-04T12:47:43.818Z"
   },
   {
    "duration": 29,
    "start_time": "2022-02-04T12:47:43.845Z"
   },
   {
    "duration": 45,
    "start_time": "2022-02-04T12:47:43.876Z"
   },
   {
    "duration": 56,
    "start_time": "2022-02-04T12:47:43.922Z"
   },
   {
    "duration": 26,
    "start_time": "2022-02-04T12:47:43.980Z"
   },
   {
    "duration": 39,
    "start_time": "2022-02-04T12:47:44.007Z"
   },
   {
    "duration": 47,
    "start_time": "2022-02-04T12:47:44.048Z"
   },
   {
    "duration": 36,
    "start_time": "2022-02-04T12:47:44.096Z"
   },
   {
    "duration": 45,
    "start_time": "2022-02-04T12:47:44.133Z"
   },
   {
    "duration": 22,
    "start_time": "2022-02-04T12:47:44.180Z"
   },
   {
    "duration": 44,
    "start_time": "2022-02-04T12:47:44.204Z"
   },
   {
    "duration": 25,
    "start_time": "2022-02-04T12:47:44.249Z"
   },
   {
    "duration": 28,
    "start_time": "2022-02-04T12:47:44.276Z"
   },
   {
    "duration": 42,
    "start_time": "2022-02-04T12:47:44.306Z"
   },
   {
    "duration": 33,
    "start_time": "2022-02-04T12:47:44.349Z"
   },
   {
    "duration": 4,
    "start_time": "2022-02-04T13:00:26.031Z"
   },
   {
    "duration": 4,
    "start_time": "2022-02-04T13:00:28.079Z"
   },
   {
    "duration": 4,
    "start_time": "2022-02-04T13:00:30.011Z"
   },
   {
    "duration": 5,
    "start_time": "2022-02-04T13:00:32.920Z"
   },
   {
    "duration": 3,
    "start_time": "2022-02-04T13:00:35.333Z"
   },
   {
    "duration": 1185,
    "start_time": "2022-02-04T13:00:46.529Z"
   },
   {
    "duration": 14,
    "start_time": "2022-02-04T13:00:47.715Z"
   },
   {
    "duration": 27,
    "start_time": "2022-02-04T13:00:47.731Z"
   },
   {
    "duration": 31,
    "start_time": "2022-02-04T13:00:47.760Z"
   },
   {
    "duration": 5,
    "start_time": "2022-02-04T13:00:47.792Z"
   },
   {
    "duration": 11,
    "start_time": "2022-02-04T13:00:47.799Z"
   },
   {
    "duration": 8,
    "start_time": "2022-02-04T13:00:47.812Z"
   },
   {
    "duration": 10,
    "start_time": "2022-02-04T13:00:47.822Z"
   },
   {
    "duration": 12,
    "start_time": "2022-02-04T13:00:47.834Z"
   },
   {
    "duration": 19,
    "start_time": "2022-02-04T13:00:47.848Z"
   },
   {
    "duration": 15,
    "start_time": "2022-02-04T13:00:47.868Z"
   },
   {
    "duration": 16,
    "start_time": "2022-02-04T13:00:47.884Z"
   },
   {
    "duration": 17,
    "start_time": "2022-02-04T13:00:47.901Z"
   },
   {
    "duration": 17,
    "start_time": "2022-02-04T13:00:47.919Z"
   },
   {
    "duration": 25,
    "start_time": "2022-02-04T13:00:47.938Z"
   },
   {
    "duration": 20,
    "start_time": "2022-02-04T13:00:47.965Z"
   },
   {
    "duration": 16,
    "start_time": "2022-02-04T13:00:47.986Z"
   },
   {
    "duration": 20,
    "start_time": "2022-02-04T13:00:48.003Z"
   },
   {
    "duration": 17,
    "start_time": "2022-02-04T13:00:48.025Z"
   },
   {
    "duration": 15,
    "start_time": "2022-02-04T13:00:48.043Z"
   },
   {
    "duration": 23,
    "start_time": "2022-02-04T13:00:48.059Z"
   },
   {
    "duration": 24,
    "start_time": "2022-02-04T13:00:48.083Z"
   },
   {
    "duration": 22,
    "start_time": "2022-02-04T13:00:48.111Z"
   },
   {
    "duration": 9,
    "start_time": "2022-02-04T13:00:48.135Z"
   },
   {
    "duration": 24,
    "start_time": "2022-02-04T13:00:48.146Z"
   },
   {
    "duration": 27,
    "start_time": "2022-02-04T13:00:48.171Z"
   },
   {
    "duration": 201,
    "start_time": "2022-02-04T13:00:48.200Z"
   },
   {
    "duration": 143,
    "start_time": "2022-02-04T13:00:48.403Z"
   },
   {
    "duration": 5,
    "start_time": "2022-02-04T13:00:48.548Z"
   },
   {
    "duration": 27,
    "start_time": "2022-02-04T13:00:48.555Z"
   },
   {
    "duration": 29,
    "start_time": "2022-02-04T13:00:48.583Z"
   },
   {
    "duration": 12,
    "start_time": "2022-02-04T13:00:48.614Z"
   },
   {
    "duration": 12,
    "start_time": "2022-02-04T13:00:48.628Z"
   },
   {
    "duration": 28,
    "start_time": "2022-02-04T13:00:48.641Z"
   },
   {
    "duration": 5,
    "start_time": "2022-02-04T13:00:48.671Z"
   },
   {
    "duration": 407,
    "start_time": "2022-02-04T13:00:48.677Z"
   },
   {
    "duration": 380,
    "start_time": "2022-02-04T13:00:49.086Z"
   },
   {
    "duration": 6,
    "start_time": "2022-02-04T13:00:49.471Z"
   },
   {
    "duration": 486,
    "start_time": "2022-02-04T13:00:49.479Z"
   },
   {
    "duration": 5,
    "start_time": "2022-02-04T13:00:49.967Z"
   },
   {
    "duration": 6,
    "start_time": "2022-02-04T13:00:49.974Z"
   },
   {
    "duration": 9,
    "start_time": "2022-02-04T13:00:49.982Z"
   },
   {
    "duration": 378,
    "start_time": "2022-02-04T13:00:49.993Z"
   },
   {
    "duration": 7,
    "start_time": "2022-02-04T13:00:50.373Z"
   },
   {
    "duration": 489,
    "start_time": "2022-02-04T13:00:50.382Z"
   },
   {
    "duration": 113,
    "start_time": "2022-02-04T13:00:50.873Z"
   },
   {
    "duration": 9,
    "start_time": "2022-02-04T13:00:50.988Z"
   },
   {
    "duration": 166,
    "start_time": "2022-02-04T13:00:50.999Z"
   },
   {
    "duration": 319,
    "start_time": "2022-02-04T13:00:51.166Z"
   },
   {
    "duration": 5,
    "start_time": "2022-02-04T13:00:51.486Z"
   },
   {
    "duration": 273,
    "start_time": "2022-02-04T13:00:51.492Z"
   },
   {
    "duration": 4,
    "start_time": "2022-02-04T13:00:51.771Z"
   },
   {
    "duration": 6,
    "start_time": "2022-02-04T13:00:51.776Z"
   },
   {
    "duration": 56,
    "start_time": "2022-02-04T13:00:51.783Z"
   },
   {
    "duration": 5,
    "start_time": "2022-02-04T13:00:51.841Z"
   },
   {
    "duration": 6,
    "start_time": "2022-02-04T13:00:51.847Z"
   },
   {
    "duration": 64,
    "start_time": "2022-02-04T13:00:51.855Z"
   },
   {
    "duration": 4,
    "start_time": "2022-02-04T13:00:51.921Z"
   },
   {
    "duration": 13,
    "start_time": "2022-02-04T13:00:51.926Z"
   },
   {
    "duration": 2,
    "start_time": "2022-02-04T13:00:51.941Z"
   },
   {
    "duration": 76,
    "start_time": "2022-02-04T13:00:51.944Z"
   },
   {
    "duration": 14,
    "start_time": "2022-02-04T13:00:52.022Z"
   },
   {
    "duration": 3,
    "start_time": "2022-02-04T13:00:52.038Z"
   },
   {
    "duration": 73,
    "start_time": "2022-02-04T13:00:52.042Z"
   },
   {
    "duration": 25,
    "start_time": "2022-02-04T13:00:52.117Z"
   },
   {
    "duration": 9,
    "start_time": "2022-02-04T13:00:52.144Z"
   },
   {
    "duration": 65,
    "start_time": "2022-02-04T13:00:52.155Z"
   },
   {
    "duration": 3,
    "start_time": "2022-02-04T13:00:52.225Z"
   },
   {
    "duration": 80,
    "start_time": "2022-02-04T13:00:52.230Z"
   },
   {
    "duration": 3,
    "start_time": "2022-02-04T13:00:52.311Z"
   },
   {
    "duration": 6,
    "start_time": "2022-02-04T13:00:52.315Z"
   },
   {
    "duration": 6,
    "start_time": "2022-02-04T13:00:52.323Z"
   },
   {
    "duration": 10,
    "start_time": "2022-02-04T13:00:52.330Z"
   },
   {
    "duration": 4,
    "start_time": "2022-02-04T13:00:52.341Z"
   },
   {
    "duration": 29,
    "start_time": "2022-02-04T13:00:52.346Z"
   },
   {
    "duration": 8,
    "start_time": "2022-02-04T13:00:52.377Z"
   },
   {
    "duration": 9,
    "start_time": "2022-02-04T13:00:52.386Z"
   },
   {
    "duration": 10,
    "start_time": "2022-02-04T13:00:52.396Z"
   },
   {
    "duration": 12,
    "start_time": "2022-02-04T13:00:52.408Z"
   },
   {
    "duration": 10,
    "start_time": "2022-02-04T13:00:52.421Z"
   },
   {
    "duration": 9,
    "start_time": "2022-02-04T13:00:52.432Z"
   },
   {
    "duration": 10,
    "start_time": "2022-02-04T13:00:52.442Z"
   },
   {
    "duration": 9,
    "start_time": "2022-02-04T13:00:52.453Z"
   },
   {
    "duration": 11,
    "start_time": "2022-02-04T13:00:52.463Z"
   },
   {
    "duration": 6,
    "start_time": "2022-02-04T13:00:52.475Z"
   },
   {
    "duration": 12,
    "start_time": "2022-02-04T13:00:52.483Z"
   },
   {
    "duration": 13,
    "start_time": "2022-02-04T13:00:52.496Z"
   },
   {
    "duration": 500,
    "start_time": "2022-02-04T13:53:39.750Z"
   },
   {
    "duration": 356,
    "start_time": "2022-02-04T13:54:04.149Z"
   },
   {
    "duration": 449,
    "start_time": "2022-02-04T14:00:39.616Z"
   },
   {
    "duration": 347,
    "start_time": "2022-02-04T14:01:13.785Z"
   },
   {
    "duration": 360,
    "start_time": "2022-02-04T14:01:54.261Z"
   },
   {
    "duration": 387,
    "start_time": "2022-02-06T10:42:40.673Z"
   },
   {
    "duration": 254,
    "start_time": "2022-02-06T10:44:31.694Z"
   },
   {
    "duration": 264,
    "start_time": "2022-02-06T10:44:41.155Z"
   },
   {
    "duration": 1602,
    "start_time": "2022-02-06T10:44:47.707Z"
   },
   {
    "duration": 24,
    "start_time": "2022-02-06T10:44:49.312Z"
   },
   {
    "duration": 16,
    "start_time": "2022-02-06T10:44:49.340Z"
   },
   {
    "duration": 16,
    "start_time": "2022-02-06T10:44:49.359Z"
   },
   {
    "duration": 5,
    "start_time": "2022-02-06T10:44:49.378Z"
   },
   {
    "duration": 6,
    "start_time": "2022-02-06T10:44:49.385Z"
   },
   {
    "duration": 8,
    "start_time": "2022-02-06T10:44:49.393Z"
   },
   {
    "duration": 9,
    "start_time": "2022-02-06T10:44:49.404Z"
   },
   {
    "duration": 54,
    "start_time": "2022-02-06T10:44:49.416Z"
   },
   {
    "duration": 6,
    "start_time": "2022-02-06T10:44:49.472Z"
   },
   {
    "duration": 10,
    "start_time": "2022-02-06T10:44:49.480Z"
   },
   {
    "duration": 8,
    "start_time": "2022-02-06T10:44:49.493Z"
   },
   {
    "duration": 9,
    "start_time": "2022-02-06T10:44:49.503Z"
   },
   {
    "duration": 7,
    "start_time": "2022-02-06T10:44:49.514Z"
   },
   {
    "duration": 52,
    "start_time": "2022-02-06T10:44:49.524Z"
   },
   {
    "duration": 9,
    "start_time": "2022-02-06T10:44:49.579Z"
   },
   {
    "duration": 9,
    "start_time": "2022-02-06T10:44:49.591Z"
   },
   {
    "duration": 13,
    "start_time": "2022-02-06T10:44:49.602Z"
   },
   {
    "duration": 9,
    "start_time": "2022-02-06T10:44:49.617Z"
   },
   {
    "duration": 53,
    "start_time": "2022-02-06T10:44:49.628Z"
   },
   {
    "duration": 13,
    "start_time": "2022-02-06T10:44:49.684Z"
   },
   {
    "duration": 8,
    "start_time": "2022-02-06T10:44:49.700Z"
   },
   {
    "duration": 53,
    "start_time": "2022-02-06T10:44:49.716Z"
   },
   {
    "duration": 397,
    "start_time": "2022-02-06T10:44:49.773Z"
   },
   {
    "duration": -2316,
    "start_time": "2022-02-06T10:44:52.491Z"
   },
   {
    "duration": -2321,
    "start_time": "2022-02-06T10:44:52.498Z"
   },
   {
    "duration": -2327,
    "start_time": "2022-02-06T10:44:52.505Z"
   },
   {
    "duration": -2364,
    "start_time": "2022-02-06T10:44:52.544Z"
   },
   {
    "duration": -2370,
    "start_time": "2022-02-06T10:44:52.551Z"
   },
   {
    "duration": -2376,
    "start_time": "2022-02-06T10:44:52.559Z"
   },
   {
    "duration": -2381,
    "start_time": "2022-02-06T10:44:52.565Z"
   },
   {
    "duration": -2387,
    "start_time": "2022-02-06T10:44:52.572Z"
   },
   {
    "duration": -2392,
    "start_time": "2022-02-06T10:44:52.579Z"
   },
   {
    "duration": -2399,
    "start_time": "2022-02-06T10:44:52.587Z"
   },
   {
    "duration": -2403,
    "start_time": "2022-02-06T10:44:52.593Z"
   },
   {
    "duration": -2410,
    "start_time": "2022-02-06T10:44:52.601Z"
   },
   {
    "duration": -2415,
    "start_time": "2022-02-06T10:44:52.607Z"
   },
   {
    "duration": -2421,
    "start_time": "2022-02-06T10:44:52.615Z"
   },
   {
    "duration": -2426,
    "start_time": "2022-02-06T10:44:52.621Z"
   },
   {
    "duration": -2432,
    "start_time": "2022-02-06T10:44:52.629Z"
   },
   {
    "duration": -2437,
    "start_time": "2022-02-06T10:44:52.635Z"
   },
   {
    "duration": -2453,
    "start_time": "2022-02-06T10:44:52.653Z"
   },
   {
    "duration": -2459,
    "start_time": "2022-02-06T10:44:52.660Z"
   },
   {
    "duration": -2466,
    "start_time": "2022-02-06T10:44:52.668Z"
   },
   {
    "duration": -2472,
    "start_time": "2022-02-06T10:44:52.675Z"
   },
   {
    "duration": -2477,
    "start_time": "2022-02-06T10:44:52.682Z"
   },
   {
    "duration": -2483,
    "start_time": "2022-02-06T10:44:52.689Z"
   },
   {
    "duration": -2488,
    "start_time": "2022-02-06T10:44:52.696Z"
   },
   {
    "duration": -2493,
    "start_time": "2022-02-06T10:44:52.702Z"
   },
   {
    "duration": -2498,
    "start_time": "2022-02-06T10:44:52.709Z"
   },
   {
    "duration": -2448,
    "start_time": "2022-02-06T10:44:52.716Z"
   },
   {
    "duration": -2453,
    "start_time": "2022-02-06T10:44:52.723Z"
   },
   {
    "duration": -2457,
    "start_time": "2022-02-06T10:44:52.729Z"
   },
   {
    "duration": -2462,
    "start_time": "2022-02-06T10:44:52.736Z"
   },
   {
    "duration": -2467,
    "start_time": "2022-02-06T10:44:52.743Z"
   },
   {
    "duration": -2484,
    "start_time": "2022-02-06T10:44:52.761Z"
   },
   {
    "duration": -2489,
    "start_time": "2022-02-06T10:44:52.768Z"
   },
   {
    "duration": -2497,
    "start_time": "2022-02-06T10:44:52.778Z"
   },
   {
    "duration": -2505,
    "start_time": "2022-02-06T10:44:52.787Z"
   },
   {
    "duration": -2510,
    "start_time": "2022-02-06T10:44:52.794Z"
   },
   {
    "duration": -2516,
    "start_time": "2022-02-06T10:44:52.801Z"
   },
   {
    "duration": -2524,
    "start_time": "2022-02-06T10:44:52.811Z"
   },
   {
    "duration": -2530,
    "start_time": "2022-02-06T10:44:52.818Z"
   },
   {
    "duration": -2535,
    "start_time": "2022-02-06T10:44:52.825Z"
   },
   {
    "duration": -2541,
    "start_time": "2022-02-06T10:44:52.832Z"
   },
   {
    "duration": -2549,
    "start_time": "2022-02-06T10:44:52.842Z"
   },
   {
    "duration": -2554,
    "start_time": "2022-02-06T10:44:52.848Z"
   },
   {
    "duration": -2560,
    "start_time": "2022-02-06T10:44:52.855Z"
   },
   {
    "duration": -2575,
    "start_time": "2022-02-06T10:44:52.872Z"
   },
   {
    "duration": -2580,
    "start_time": "2022-02-06T10:44:52.879Z"
   },
   {
    "duration": -2587,
    "start_time": "2022-02-06T10:44:52.887Z"
   },
   {
    "duration": -2592,
    "start_time": "2022-02-06T10:44:52.894Z"
   },
   {
    "duration": -2598,
    "start_time": "2022-02-06T10:44:52.901Z"
   },
   {
    "duration": -2602,
    "start_time": "2022-02-06T10:44:52.907Z"
   },
   {
    "duration": -2608,
    "start_time": "2022-02-06T10:44:52.914Z"
   },
   {
    "duration": -2550,
    "start_time": "2022-02-06T10:44:52.921Z"
   },
   {
    "duration": -2555,
    "start_time": "2022-02-06T10:44:52.927Z"
   },
   {
    "duration": -2561,
    "start_time": "2022-02-06T10:44:52.935Z"
   },
   {
    "duration": -2566,
    "start_time": "2022-02-06T10:44:52.941Z"
   },
   {
    "duration": -2571,
    "start_time": "2022-02-06T10:44:52.948Z"
   },
   {
    "duration": -2577,
    "start_time": "2022-02-06T10:44:52.955Z"
   },
   {
    "duration": -2582,
    "start_time": "2022-02-06T10:44:52.962Z"
   },
   {
    "duration": -2673,
    "start_time": "2022-02-06T10:44:53.055Z"
   },
   {
    "duration": -2679,
    "start_time": "2022-02-06T10:44:53.062Z"
   },
   {
    "duration": -2684,
    "start_time": "2022-02-06T10:44:53.069Z"
   },
   {
    "duration": -2690,
    "start_time": "2022-02-06T10:44:53.076Z"
   },
   {
    "duration": -2704,
    "start_time": "2022-02-06T10:44:53.092Z"
   },
   {
    "duration": -2710,
    "start_time": "2022-02-06T10:44:53.099Z"
   },
   {
    "duration": -2716,
    "start_time": "2022-02-06T10:44:53.106Z"
   },
   {
    "duration": -2722,
    "start_time": "2022-02-06T10:44:53.114Z"
   },
   {
    "duration": 565,
    "start_time": "2022-02-06T10:45:04.764Z"
   },
   {
    "duration": 1546,
    "start_time": "2022-02-06T10:45:22.167Z"
   },
   {
    "duration": 20,
    "start_time": "2022-02-06T10:45:23.716Z"
   },
   {
    "duration": 14,
    "start_time": "2022-02-06T10:45:23.739Z"
   },
   {
    "duration": 18,
    "start_time": "2022-02-06T10:45:23.756Z"
   },
   {
    "duration": 16,
    "start_time": "2022-02-06T10:45:23.776Z"
   },
   {
    "duration": 12,
    "start_time": "2022-02-06T10:45:23.794Z"
   },
   {
    "duration": 19,
    "start_time": "2022-02-06T10:45:23.808Z"
   },
   {
    "duration": 9,
    "start_time": "2022-02-06T10:45:23.831Z"
   },
   {
    "duration": 20,
    "start_time": "2022-02-06T10:45:23.843Z"
   },
   {
    "duration": 9,
    "start_time": "2022-02-06T10:45:23.865Z"
   },
   {
    "duration": 16,
    "start_time": "2022-02-06T10:45:23.877Z"
   },
   {
    "duration": 23,
    "start_time": "2022-02-06T10:45:23.896Z"
   },
   {
    "duration": 19,
    "start_time": "2022-02-06T10:45:23.921Z"
   },
   {
    "duration": 12,
    "start_time": "2022-02-06T10:45:23.943Z"
   },
   {
    "duration": 18,
    "start_time": "2022-02-06T10:45:23.958Z"
   },
   {
    "duration": 13,
    "start_time": "2022-02-06T10:45:23.979Z"
   },
   {
    "duration": 17,
    "start_time": "2022-02-06T10:45:23.994Z"
   },
   {
    "duration": 16,
    "start_time": "2022-02-06T10:45:24.014Z"
   },
   {
    "duration": 8,
    "start_time": "2022-02-06T10:45:24.032Z"
   },
   {
    "duration": 15,
    "start_time": "2022-02-06T10:45:24.069Z"
   },
   {
    "duration": 16,
    "start_time": "2022-02-06T10:45:24.086Z"
   },
   {
    "duration": 13,
    "start_time": "2022-02-06T10:45:24.104Z"
   },
   {
    "duration": 14,
    "start_time": "2022-02-06T10:45:24.123Z"
   },
   {
    "duration": 593,
    "start_time": "2022-02-06T10:45:24.141Z"
   },
   {
    "duration": 33,
    "start_time": "2022-02-06T10:45:24.737Z"
   },
   {
    "duration": 11,
    "start_time": "2022-02-06T10:45:24.772Z"
   },
   {
    "duration": 8,
    "start_time": "2022-02-06T10:45:24.785Z"
   },
   {
    "duration": 382,
    "start_time": "2022-02-06T10:45:24.796Z"
   },
   {
    "duration": 280,
    "start_time": "2022-02-06T10:45:25.180Z"
   },
   {
    "duration": 10,
    "start_time": "2022-02-06T10:45:25.469Z"
   },
   {
    "duration": 9,
    "start_time": "2022-02-06T10:45:25.481Z"
   },
   {
    "duration": 21,
    "start_time": "2022-02-06T10:45:25.492Z"
   },
   {
    "duration": 6,
    "start_time": "2022-02-06T10:45:25.515Z"
   },
   {
    "duration": 6,
    "start_time": "2022-02-06T10:45:25.524Z"
   },
   {
    "duration": 7,
    "start_time": "2022-02-06T10:45:25.569Z"
   },
   {
    "duration": 7,
    "start_time": "2022-02-06T10:45:25.579Z"
   },
   {
    "duration": 768,
    "start_time": "2022-02-06T10:45:25.588Z"
   },
   {
    "duration": 692,
    "start_time": "2022-02-06T10:45:26.358Z"
   },
   {
    "duration": 18,
    "start_time": "2022-02-06T10:45:27.052Z"
   },
   {
    "duration": 915,
    "start_time": "2022-02-06T10:45:27.072Z"
   },
   {
    "duration": 5,
    "start_time": "2022-02-06T10:45:27.989Z"
   },
   {
    "duration": 11,
    "start_time": "2022-02-06T10:45:27.997Z"
   },
   {
    "duration": 10,
    "start_time": "2022-02-06T10:45:28.010Z"
   },
   {
    "duration": 853,
    "start_time": "2022-02-06T10:45:28.022Z"
   },
   {
    "duration": 14,
    "start_time": "2022-02-06T10:45:28.878Z"
   },
   {
    "duration": 778,
    "start_time": "2022-02-06T10:45:28.895Z"
   },
   {
    "duration": 200,
    "start_time": "2022-02-06T10:45:29.676Z"
   },
   {
    "duration": 11,
    "start_time": "2022-02-06T10:45:29.878Z"
   },
   {
    "duration": 302,
    "start_time": "2022-02-06T10:45:29.892Z"
   },
   {
    "duration": 373,
    "start_time": "2022-02-06T10:45:30.197Z"
   },
   {
    "duration": 7,
    "start_time": "2022-02-06T10:45:30.572Z"
   },
   {
    "duration": 430,
    "start_time": "2022-02-06T10:45:30.581Z"
   },
   {
    "duration": 7,
    "start_time": "2022-02-06T10:45:31.014Z"
   },
   {
    "duration": 16,
    "start_time": "2022-02-06T10:45:31.023Z"
   },
   {
    "duration": 109,
    "start_time": "2022-02-06T10:45:31.041Z"
   },
   {
    "duration": 17,
    "start_time": "2022-02-06T10:45:31.153Z"
   },
   {
    "duration": 10,
    "start_time": "2022-02-06T10:45:31.172Z"
   },
   {
    "duration": 106,
    "start_time": "2022-02-06T10:45:31.184Z"
   },
   {
    "duration": 10,
    "start_time": "2022-02-06T10:45:31.293Z"
   },
   {
    "duration": 25,
    "start_time": "2022-02-06T10:45:31.306Z"
   },
   {
    "duration": 5,
    "start_time": "2022-02-06T10:45:31.334Z"
   },
   {
    "duration": 135,
    "start_time": "2022-02-06T10:45:31.342Z"
   },
   {
    "duration": 32,
    "start_time": "2022-02-06T10:45:31.480Z"
   },
   {
    "duration": 10,
    "start_time": "2022-02-06T10:45:31.514Z"
   },
   {
    "duration": 115,
    "start_time": "2022-02-06T10:45:31.527Z"
   },
   {
    "duration": 50,
    "start_time": "2022-02-06T10:45:31.645Z"
   },
   {
    "duration": 21,
    "start_time": "2022-02-06T10:45:31.698Z"
   },
   {
    "duration": 131,
    "start_time": "2022-02-06T10:45:31.727Z"
   },
   {
    "duration": 4,
    "start_time": "2022-02-06T10:45:31.870Z"
   },
   {
    "duration": 141,
    "start_time": "2022-02-06T10:45:31.877Z"
   },
   {
    "duration": 4,
    "start_time": "2022-02-06T10:45:32.021Z"
   },
   {
    "duration": 6,
    "start_time": "2022-02-06T10:45:32.027Z"
   },
   {
    "duration": 10,
    "start_time": "2022-02-06T10:45:32.036Z"
   },
   {
    "duration": 26,
    "start_time": "2022-02-06T10:45:32.048Z"
   },
   {
    "duration": 6,
    "start_time": "2022-02-06T10:45:32.076Z"
   },
   {
    "duration": 13,
    "start_time": "2022-02-06T10:45:32.085Z"
   },
   {
    "duration": 12,
    "start_time": "2022-02-06T10:45:32.101Z"
   },
   {
    "duration": 10,
    "start_time": "2022-02-06T10:45:32.115Z"
   },
   {
    "duration": 42,
    "start_time": "2022-02-06T10:45:32.127Z"
   },
   {
    "duration": 6,
    "start_time": "2022-02-06T10:45:32.172Z"
   },
   {
    "duration": 21,
    "start_time": "2022-02-06T10:45:32.181Z"
   },
   {
    "duration": 6,
    "start_time": "2022-02-06T10:45:32.205Z"
   },
   {
    "duration": 23,
    "start_time": "2022-02-06T10:45:32.213Z"
   },
   {
    "duration": 23,
    "start_time": "2022-02-06T10:45:32.238Z"
   },
   {
    "duration": 17,
    "start_time": "2022-02-06T10:45:32.263Z"
   },
   {
    "duration": 9,
    "start_time": "2022-02-06T10:45:32.282Z"
   },
   {
    "duration": 28,
    "start_time": "2022-02-06T10:45:32.294Z"
   },
   {
    "duration": 17,
    "start_time": "2022-02-06T10:45:32.325Z"
   },
   {
    "duration": 581,
    "start_time": "2022-02-06T10:45:32.345Z"
   },
   {
    "duration": 594,
    "start_time": "2022-02-06T10:45:32.929Z"
   },
   {
    "duration": 34,
    "start_time": "2022-02-06T10:46:54.458Z"
   },
   {
    "duration": 1503,
    "start_time": "2022-02-06T11:10:14.113Z"
   },
   {
    "duration": 20,
    "start_time": "2022-02-06T11:10:15.619Z"
   },
   {
    "duration": 17,
    "start_time": "2022-02-06T11:10:15.642Z"
   },
   {
    "duration": 19,
    "start_time": "2022-02-06T11:10:15.663Z"
   },
   {
    "duration": 6,
    "start_time": "2022-02-06T11:10:15.685Z"
   },
   {
    "duration": 5,
    "start_time": "2022-02-06T11:10:15.694Z"
   },
   {
    "duration": 8,
    "start_time": "2022-02-06T11:10:15.702Z"
   },
   {
    "duration": 7,
    "start_time": "2022-02-06T11:10:15.715Z"
   },
   {
    "duration": 49,
    "start_time": "2022-02-06T11:10:15.725Z"
   },
   {
    "duration": 9,
    "start_time": "2022-02-06T11:10:15.777Z"
   },
   {
    "duration": 11,
    "start_time": "2022-02-06T11:10:15.788Z"
   },
   {
    "duration": 15,
    "start_time": "2022-02-06T11:10:15.802Z"
   },
   {
    "duration": 56,
    "start_time": "2022-02-06T11:10:15.819Z"
   },
   {
    "duration": 19,
    "start_time": "2022-02-06T11:10:15.878Z"
   },
   {
    "duration": 30,
    "start_time": "2022-02-06T11:10:15.900Z"
   },
   {
    "duration": 29,
    "start_time": "2022-02-06T11:10:15.933Z"
   },
   {
    "duration": 16,
    "start_time": "2022-02-06T11:10:15.965Z"
   },
   {
    "duration": 21,
    "start_time": "2022-02-06T11:10:15.984Z"
   },
   {
    "duration": 20,
    "start_time": "2022-02-06T11:10:16.007Z"
   },
   {
    "duration": 31,
    "start_time": "2022-02-06T11:10:16.029Z"
   },
   {
    "duration": 43,
    "start_time": "2022-02-06T11:10:16.063Z"
   },
   {
    "duration": 19,
    "start_time": "2022-02-06T11:10:16.109Z"
   },
   {
    "duration": 18,
    "start_time": "2022-02-06T11:10:16.136Z"
   },
   {
    "duration": 622,
    "start_time": "2022-02-06T11:10:16.159Z"
   },
   {
    "duration": 14,
    "start_time": "2022-02-06T11:10:16.785Z"
   },
   {
    "duration": 12,
    "start_time": "2022-02-06T11:10:16.801Z"
   },
   {
    "duration": 9,
    "start_time": "2022-02-06T11:10:16.815Z"
   },
   {
    "duration": 412,
    "start_time": "2022-02-06T11:10:16.826Z"
   },
   {
    "duration": 284,
    "start_time": "2022-02-06T11:10:17.240Z"
   },
   {
    "duration": 9,
    "start_time": "2022-02-06T11:10:17.527Z"
   },
   {
    "duration": 6,
    "start_time": "2022-02-06T11:10:17.539Z"
   },
   {
    "duration": 17,
    "start_time": "2022-02-06T11:10:17.570Z"
   },
   {
    "duration": 8,
    "start_time": "2022-02-06T11:10:17.590Z"
   },
   {
    "duration": 8,
    "start_time": "2022-02-06T11:10:17.600Z"
   },
   {
    "duration": 7,
    "start_time": "2022-02-06T11:10:17.611Z"
   },
   {
    "duration": 50,
    "start_time": "2022-02-06T11:10:17.621Z"
   },
   {
    "duration": 743,
    "start_time": "2022-02-06T11:10:17.673Z"
   },
   {
    "duration": 696,
    "start_time": "2022-02-06T11:10:18.419Z"
   },
   {
    "duration": 8,
    "start_time": "2022-02-06T11:10:19.118Z"
   },
   {
    "duration": 861,
    "start_time": "2022-02-06T11:10:19.128Z"
   },
   {
    "duration": 5,
    "start_time": "2022-02-06T11:10:19.991Z"
   },
   {
    "duration": 8,
    "start_time": "2022-02-06T11:10:19.998Z"
   },
   {
    "duration": 9,
    "start_time": "2022-02-06T11:10:20.009Z"
   },
   {
    "duration": 778,
    "start_time": "2022-02-06T11:10:20.020Z"
   },
   {
    "duration": 11,
    "start_time": "2022-02-06T11:10:20.801Z"
   },
   {
    "duration": 1082,
    "start_time": "2022-02-06T11:10:20.815Z"
   },
   {
    "duration": 198,
    "start_time": "2022-02-06T11:10:21.900Z"
   },
   {
    "duration": 11,
    "start_time": "2022-02-06T11:10:22.100Z"
   },
   {
    "duration": 310,
    "start_time": "2022-02-06T11:10:22.114Z"
   },
   {
    "duration": 560,
    "start_time": "2022-02-06T11:10:22.427Z"
   },
   {
    "duration": 6,
    "start_time": "2022-02-06T11:10:22.990Z"
   },
   {
    "duration": 486,
    "start_time": "2022-02-06T11:10:22.999Z"
   },
   {
    "duration": 6,
    "start_time": "2022-02-06T11:10:23.487Z"
   },
   {
    "duration": 18,
    "start_time": "2022-02-06T11:10:23.496Z"
   },
   {
    "duration": 131,
    "start_time": "2022-02-06T11:10:23.517Z"
   },
   {
    "duration": 7,
    "start_time": "2022-02-06T11:10:23.650Z"
   },
   {
    "duration": 19,
    "start_time": "2022-02-06T11:10:23.660Z"
   },
   {
    "duration": 102,
    "start_time": "2022-02-06T11:10:23.683Z"
   },
   {
    "duration": 8,
    "start_time": "2022-02-06T11:10:23.788Z"
   },
   {
    "duration": 23,
    "start_time": "2022-02-06T11:10:23.798Z"
   },
   {
    "duration": 3,
    "start_time": "2022-02-06T11:10:23.824Z"
   },
   {
    "duration": 102,
    "start_time": "2022-02-06T11:10:23.829Z"
   },
   {
    "duration": 25,
    "start_time": "2022-02-06T11:10:23.933Z"
   },
   {
    "duration": 14,
    "start_time": "2022-02-06T11:10:23.961Z"
   },
   {
    "duration": 183,
    "start_time": "2022-02-06T11:10:23.978Z"
   },
   {
    "duration": 38,
    "start_time": "2022-02-06T11:10:24.164Z"
   },
   {
    "duration": 16,
    "start_time": "2022-02-06T11:10:24.204Z"
   },
   {
    "duration": 243,
    "start_time": "2022-02-06T11:10:24.229Z"
   },
   {
    "duration": 3,
    "start_time": "2022-02-06T11:10:24.475Z"
   },
   {
    "duration": 204,
    "start_time": "2022-02-06T11:10:24.481Z"
   },
   {
    "duration": 3,
    "start_time": "2022-02-06T11:10:24.688Z"
   },
   {
    "duration": 7,
    "start_time": "2022-02-06T11:10:24.693Z"
   },
   {
    "duration": 5,
    "start_time": "2022-02-06T11:10:24.703Z"
   },
   {
    "duration": 9,
    "start_time": "2022-02-06T11:10:24.711Z"
   },
   {
    "duration": 6,
    "start_time": "2022-02-06T11:10:24.722Z"
   },
   {
    "duration": 10,
    "start_time": "2022-02-06T11:10:24.731Z"
   },
   {
    "duration": 10,
    "start_time": "2022-02-06T11:10:24.743Z"
   },
   {
    "duration": 19,
    "start_time": "2022-02-06T11:10:24.755Z"
   },
   {
    "duration": 9,
    "start_time": "2022-02-06T11:10:24.776Z"
   },
   {
    "duration": 9,
    "start_time": "2022-02-06T11:10:24.787Z"
   },
   {
    "duration": 10,
    "start_time": "2022-02-06T11:10:24.799Z"
   },
   {
    "duration": 10,
    "start_time": "2022-02-06T11:10:24.811Z"
   },
   {
    "duration": 53,
    "start_time": "2022-02-06T11:10:24.824Z"
   },
   {
    "duration": 7,
    "start_time": "2022-02-06T11:10:24.879Z"
   },
   {
    "duration": 9,
    "start_time": "2022-02-06T11:10:24.888Z"
   },
   {
    "duration": 4,
    "start_time": "2022-02-06T11:10:24.900Z"
   },
   {
    "duration": 14,
    "start_time": "2022-02-06T11:10:24.906Z"
   },
   {
    "duration": 57,
    "start_time": "2022-02-06T11:10:24.922Z"
   },
   {
    "duration": 714,
    "start_time": "2022-02-06T11:10:24.981Z"
   },
   {
    "duration": 635,
    "start_time": "2022-02-06T12:29:40.117Z"
   },
   {
    "duration": 824,
    "start_time": "2022-02-06T12:29:47.336Z"
   },
   {
    "duration": 822,
    "start_time": "2022-02-06T12:30:38.999Z"
   },
   {
    "duration": 812,
    "start_time": "2022-02-06T12:31:04.216Z"
   },
   {
    "duration": 798,
    "start_time": "2022-02-06T12:31:15.609Z"
   },
   {
    "duration": 840,
    "start_time": "2022-02-06T12:32:38.521Z"
   },
   {
    "duration": 825,
    "start_time": "2022-02-06T12:33:30.848Z"
   },
   {
    "duration": 800,
    "start_time": "2022-02-06T12:33:45.724Z"
   },
   {
    "duration": 1570,
    "start_time": "2022-02-06T12:33:52.292Z"
   },
   {
    "duration": 33,
    "start_time": "2022-02-06T12:33:53.866Z"
   },
   {
    "duration": 15,
    "start_time": "2022-02-06T12:33:53.902Z"
   },
   {
    "duration": 18,
    "start_time": "2022-02-06T12:33:53.920Z"
   },
   {
    "duration": 36,
    "start_time": "2022-02-06T12:33:53.940Z"
   },
   {
    "duration": 5,
    "start_time": "2022-02-06T12:33:53.979Z"
   },
   {
    "duration": 7,
    "start_time": "2022-02-06T12:33:53.988Z"
   },
   {
    "duration": 6,
    "start_time": "2022-02-06T12:33:54.001Z"
   },
   {
    "duration": 59,
    "start_time": "2022-02-06T12:33:54.012Z"
   },
   {
    "duration": 8,
    "start_time": "2022-02-06T12:33:54.075Z"
   },
   {
    "duration": 13,
    "start_time": "2022-02-06T12:33:54.085Z"
   },
   {
    "duration": 11,
    "start_time": "2022-02-06T12:33:54.102Z"
   },
   {
    "duration": 58,
    "start_time": "2022-02-06T12:33:54.117Z"
   },
   {
    "duration": 7,
    "start_time": "2022-02-06T12:33:54.178Z"
   },
   {
    "duration": 12,
    "start_time": "2022-02-06T12:33:54.188Z"
   },
   {
    "duration": 9,
    "start_time": "2022-02-06T12:33:54.203Z"
   },
   {
    "duration": 7,
    "start_time": "2022-02-06T12:33:54.215Z"
   },
   {
    "duration": 59,
    "start_time": "2022-02-06T12:33:54.224Z"
   },
   {
    "duration": 11,
    "start_time": "2022-02-06T12:33:54.286Z"
   },
   {
    "duration": 15,
    "start_time": "2022-02-06T12:33:54.299Z"
   },
   {
    "duration": 13,
    "start_time": "2022-02-06T12:33:54.317Z"
   },
   {
    "duration": 37,
    "start_time": "2022-02-06T12:33:54.332Z"
   },
   {
    "duration": 14,
    "start_time": "2022-02-06T12:33:54.375Z"
   },
   {
    "duration": 693,
    "start_time": "2022-02-06T12:33:54.395Z"
   },
   {
    "duration": 14,
    "start_time": "2022-02-06T12:33:55.090Z"
   },
   {
    "duration": 16,
    "start_time": "2022-02-06T12:33:55.107Z"
   },
   {
    "duration": 16,
    "start_time": "2022-02-06T12:33:55.126Z"
   },
   {
    "duration": 368,
    "start_time": "2022-02-06T12:33:55.169Z"
   },
   {
    "duration": 276,
    "start_time": "2022-02-06T12:33:55.539Z"
   },
   {
    "duration": 9,
    "start_time": "2022-02-06T12:33:55.817Z"
   },
   {
    "duration": 10,
    "start_time": "2022-02-06T12:33:55.828Z"
   },
   {
    "duration": 35,
    "start_time": "2022-02-06T12:33:55.840Z"
   },
   {
    "duration": 8,
    "start_time": "2022-02-06T12:33:55.877Z"
   },
   {
    "duration": 6,
    "start_time": "2022-02-06T12:33:55.887Z"
   },
   {
    "duration": 9,
    "start_time": "2022-02-06T12:33:55.895Z"
   },
   {
    "duration": 9,
    "start_time": "2022-02-06T12:33:55.906Z"
   },
   {
    "duration": 784,
    "start_time": "2022-02-06T12:33:55.917Z"
   },
   {
    "duration": 1032,
    "start_time": "2022-02-06T12:33:56.705Z"
   },
   {
    "duration": 12,
    "start_time": "2022-02-06T12:33:57.740Z"
   },
   {
    "duration": 818,
    "start_time": "2022-02-06T12:33:57.754Z"
   },
   {
    "duration": 6,
    "start_time": "2022-02-06T12:33:58.574Z"
   },
   {
    "duration": 8,
    "start_time": "2022-02-06T12:33:58.582Z"
   },
   {
    "duration": 10,
    "start_time": "2022-02-06T12:33:58.592Z"
   },
   {
    "duration": 759,
    "start_time": "2022-02-06T12:33:58.604Z"
   },
   {
    "duration": 15,
    "start_time": "2022-02-06T12:33:59.370Z"
   },
   {
    "duration": 784,
    "start_time": "2022-02-06T12:33:59.388Z"
   },
   {
    "duration": 207,
    "start_time": "2022-02-06T12:34:00.174Z"
   },
   {
    "duration": 11,
    "start_time": "2022-02-06T12:34:00.383Z"
   },
   {
    "duration": 391,
    "start_time": "2022-02-06T12:34:00.397Z"
   },
   {
    "duration": 387,
    "start_time": "2022-02-06T12:34:00.791Z"
   },
   {
    "duration": 8,
    "start_time": "2022-02-06T12:34:01.181Z"
   },
   {
    "duration": 405,
    "start_time": "2022-02-06T12:34:01.191Z"
   },
   {
    "duration": 7,
    "start_time": "2022-02-06T12:34:01.598Z"
   },
   {
    "duration": 12,
    "start_time": "2022-02-06T12:34:01.607Z"
   },
   {
    "duration": 120,
    "start_time": "2022-02-06T12:34:01.621Z"
   },
   {
    "duration": 15,
    "start_time": "2022-02-06T12:34:01.744Z"
   },
   {
    "duration": 14,
    "start_time": "2022-02-06T12:34:01.761Z"
   },
   {
    "duration": 111,
    "start_time": "2022-02-06T12:34:01.778Z"
   },
   {
    "duration": 12,
    "start_time": "2022-02-06T12:34:01.892Z"
   },
   {
    "duration": 25,
    "start_time": "2022-02-06T12:34:01.907Z"
   },
   {
    "duration": 16,
    "start_time": "2022-02-06T12:34:01.935Z"
   },
   {
    "duration": 120,
    "start_time": "2022-02-06T12:34:01.953Z"
   },
   {
    "duration": 27,
    "start_time": "2022-02-06T12:34:02.076Z"
   },
   {
    "duration": 3,
    "start_time": "2022-02-06T12:34:02.106Z"
   },
   {
    "duration": 115,
    "start_time": "2022-02-06T12:34:02.111Z"
   },
   {
    "duration": 52,
    "start_time": "2022-02-06T12:34:02.228Z"
   },
   {
    "duration": 17,
    "start_time": "2022-02-06T12:34:02.282Z"
   },
   {
    "duration": 126,
    "start_time": "2022-02-06T12:34:02.307Z"
   },
   {
    "duration": 3,
    "start_time": "2022-02-06T12:34:02.436Z"
   },
   {
    "duration": 145,
    "start_time": "2022-02-06T12:34:02.442Z"
   },
   {
    "duration": 4,
    "start_time": "2022-02-06T12:34:02.589Z"
   },
   {
    "duration": 8,
    "start_time": "2022-02-06T12:34:02.596Z"
   },
   {
    "duration": 8,
    "start_time": "2022-02-06T12:34:02.606Z"
   },
   {
    "duration": 23,
    "start_time": "2022-02-06T12:34:02.616Z"
   },
   {
    "duration": 28,
    "start_time": "2022-02-06T12:34:02.642Z"
   },
   {
    "duration": 12,
    "start_time": "2022-02-06T12:34:02.673Z"
   },
   {
    "duration": 12,
    "start_time": "2022-02-06T12:34:02.688Z"
   },
   {
    "duration": 9,
    "start_time": "2022-02-06T12:34:02.702Z"
   },
   {
    "duration": 8,
    "start_time": "2022-02-06T12:34:02.714Z"
   },
   {
    "duration": 50,
    "start_time": "2022-02-06T12:34:02.725Z"
   },
   {
    "duration": 9,
    "start_time": "2022-02-06T12:34:02.778Z"
   },
   {
    "duration": 6,
    "start_time": "2022-02-06T12:34:02.790Z"
   },
   {
    "duration": 11,
    "start_time": "2022-02-06T12:34:02.799Z"
   },
   {
    "duration": 59,
    "start_time": "2022-02-06T12:34:02.812Z"
   },
   {
    "duration": 13,
    "start_time": "2022-02-06T12:34:02.874Z"
   },
   {
    "duration": 7,
    "start_time": "2022-02-06T12:34:02.891Z"
   },
   {
    "duration": 14,
    "start_time": "2022-02-06T12:34:02.901Z"
   },
   {
    "duration": 54,
    "start_time": "2022-02-06T12:34:02.917Z"
   },
   {
    "duration": 796,
    "start_time": "2022-02-06T12:34:02.973Z"
   },
   {
    "duration": 783,
    "start_time": "2022-02-06T12:34:03.772Z"
   },
   {
    "duration": 1638,
    "start_time": "2022-02-06T12:45:56.088Z"
   },
   {
    "duration": 22,
    "start_time": "2022-02-06T12:45:57.729Z"
   },
   {
    "duration": 15,
    "start_time": "2022-02-06T12:45:57.754Z"
   },
   {
    "duration": 16,
    "start_time": "2022-02-06T12:45:57.772Z"
   },
   {
    "duration": 6,
    "start_time": "2022-02-06T12:45:57.790Z"
   },
   {
    "duration": 4,
    "start_time": "2022-02-06T12:45:57.799Z"
   },
   {
    "duration": 10,
    "start_time": "2022-02-06T12:45:57.806Z"
   },
   {
    "duration": 49,
    "start_time": "2022-02-06T12:45:57.820Z"
   },
   {
    "duration": 9,
    "start_time": "2022-02-06T12:45:57.873Z"
   },
   {
    "duration": 5,
    "start_time": "2022-02-06T12:45:57.885Z"
   },
   {
    "duration": 9,
    "start_time": "2022-02-06T12:45:57.893Z"
   },
   {
    "duration": 7,
    "start_time": "2022-02-06T12:45:57.905Z"
   },
   {
    "duration": 9,
    "start_time": "2022-02-06T12:45:57.915Z"
   },
   {
    "duration": 6,
    "start_time": "2022-02-06T12:45:57.971Z"
   },
   {
    "duration": 11,
    "start_time": "2022-02-06T12:45:57.979Z"
   },
   {
    "duration": 9,
    "start_time": "2022-02-06T12:45:57.992Z"
   },
   {
    "duration": 8,
    "start_time": "2022-02-06T12:45:58.003Z"
   },
   {
    "duration": 13,
    "start_time": "2022-02-06T12:45:58.013Z"
   },
   {
    "duration": 10,
    "start_time": "2022-02-06T12:45:58.069Z"
   },
   {
    "duration": 14,
    "start_time": "2022-02-06T12:45:58.081Z"
   },
   {
    "duration": 13,
    "start_time": "2022-02-06T12:45:58.098Z"
   },
   {
    "duration": 8,
    "start_time": "2022-02-06T12:45:58.114Z"
   },
   {
    "duration": 50,
    "start_time": "2022-02-06T12:45:58.130Z"
   },
   {
    "duration": 629,
    "start_time": "2022-02-06T12:45:58.186Z"
   },
   {
    "duration": 13,
    "start_time": "2022-02-06T12:45:58.819Z"
   },
   {
    "duration": 17,
    "start_time": "2022-02-06T12:45:58.835Z"
   },
   {
    "duration": 10,
    "start_time": "2022-02-06T12:45:58.870Z"
   },
   {
    "duration": 376,
    "start_time": "2022-02-06T12:45:58.883Z"
   },
   {
    "duration": 298,
    "start_time": "2022-02-06T12:45:59.262Z"
   },
   {
    "duration": 13,
    "start_time": "2022-02-06T12:45:59.562Z"
   },
   {
    "duration": 9,
    "start_time": "2022-02-06T12:45:59.578Z"
   },
   {
    "duration": 16,
    "start_time": "2022-02-06T12:45:59.590Z"
   },
   {
    "duration": 6,
    "start_time": "2022-02-06T12:45:59.608Z"
   },
   {
    "duration": 7,
    "start_time": "2022-02-06T12:45:59.617Z"
   },
   {
    "duration": 48,
    "start_time": "2022-02-06T12:45:59.626Z"
   },
   {
    "duration": 8,
    "start_time": "2022-02-06T12:45:59.676Z"
   },
   {
    "duration": 736,
    "start_time": "2022-02-06T12:45:59.687Z"
   },
   {
    "duration": 693,
    "start_time": "2022-02-06T12:46:00.425Z"
   },
   {
    "duration": 10,
    "start_time": "2022-02-06T12:46:01.121Z"
   },
   {
    "duration": 844,
    "start_time": "2022-02-06T12:46:01.133Z"
   },
   {
    "duration": 7,
    "start_time": "2022-02-06T12:46:01.980Z"
   },
   {
    "duration": 17,
    "start_time": "2022-02-06T12:46:01.990Z"
   },
   {
    "duration": 12,
    "start_time": "2022-02-06T12:46:02.009Z"
   },
   {
    "duration": 762,
    "start_time": "2022-02-06T12:46:02.023Z"
   },
   {
    "duration": 12,
    "start_time": "2022-02-06T12:46:02.787Z"
   },
   {
    "duration": 790,
    "start_time": "2022-02-06T12:46:02.801Z"
   },
   {
    "duration": 204,
    "start_time": "2022-02-06T12:46:03.595Z"
   },
   {
    "duration": 13,
    "start_time": "2022-02-06T12:46:03.801Z"
   },
   {
    "duration": 287,
    "start_time": "2022-02-06T12:46:03.816Z"
   },
   {
    "duration": 367,
    "start_time": "2022-02-06T12:46:04.105Z"
   },
   {
    "duration": 6,
    "start_time": "2022-02-06T12:46:04.475Z"
   },
   {
    "duration": 409,
    "start_time": "2022-02-06T12:46:04.483Z"
   },
   {
    "duration": 7,
    "start_time": "2022-02-06T12:46:04.895Z"
   },
   {
    "duration": 8,
    "start_time": "2022-02-06T12:46:04.904Z"
   },
   {
    "duration": 110,
    "start_time": "2022-02-06T12:46:04.914Z"
   },
   {
    "duration": 10,
    "start_time": "2022-02-06T12:46:05.026Z"
   },
   {
    "duration": 9,
    "start_time": "2022-02-06T12:46:05.038Z"
   },
   {
    "duration": 104,
    "start_time": "2022-02-06T12:46:05.049Z"
   },
   {
    "duration": 14,
    "start_time": "2022-02-06T12:46:05.155Z"
   },
   {
    "duration": 22,
    "start_time": "2022-02-06T12:46:05.172Z"
   },
   {
    "duration": 4,
    "start_time": "2022-02-06T12:46:05.196Z"
   },
   {
    "duration": 121,
    "start_time": "2022-02-06T12:46:05.202Z"
   },
   {
    "duration": 22,
    "start_time": "2022-02-06T12:46:05.326Z"
   },
   {
    "duration": 3,
    "start_time": "2022-02-06T12:46:05.350Z"
   },
   {
    "duration": 115,
    "start_time": "2022-02-06T12:46:05.370Z"
   },
   {
    "duration": 47,
    "start_time": "2022-02-06T12:46:05.487Z"
   },
   {
    "duration": 33,
    "start_time": "2022-02-06T12:46:05.537Z"
   },
   {
    "duration": 110,
    "start_time": "2022-02-06T12:46:05.578Z"
   },
   {
    "duration": 3,
    "start_time": "2022-02-06T12:46:05.691Z"
   },
   {
    "duration": 152,
    "start_time": "2022-02-06T12:46:05.696Z"
   },
   {
    "duration": 4,
    "start_time": "2022-02-06T12:46:05.850Z"
   },
   {
    "duration": 6,
    "start_time": "2022-02-06T12:46:05.870Z"
   },
   {
    "duration": 7,
    "start_time": "2022-02-06T12:46:05.878Z"
   },
   {
    "duration": 8,
    "start_time": "2022-02-06T12:46:05.888Z"
   },
   {
    "duration": 7,
    "start_time": "2022-02-06T12:46:05.898Z"
   },
   {
    "duration": 10,
    "start_time": "2022-02-06T12:46:05.907Z"
   },
   {
    "duration": 10,
    "start_time": "2022-02-06T12:46:05.968Z"
   },
   {
    "duration": 7,
    "start_time": "2022-02-06T12:46:05.981Z"
   },
   {
    "duration": 7,
    "start_time": "2022-02-06T12:46:05.991Z"
   },
   {
    "duration": 10,
    "start_time": "2022-02-06T12:46:06.000Z"
   },
   {
    "duration": 8,
    "start_time": "2022-02-06T12:46:06.013Z"
   },
   {
    "duration": 47,
    "start_time": "2022-02-06T12:46:06.024Z"
   },
   {
    "duration": 8,
    "start_time": "2022-02-06T12:46:06.073Z"
   },
   {
    "duration": 7,
    "start_time": "2022-02-06T12:46:06.083Z"
   },
   {
    "duration": 7,
    "start_time": "2022-02-06T12:46:06.093Z"
   },
   {
    "duration": 5,
    "start_time": "2022-02-06T12:46:06.102Z"
   },
   {
    "duration": 61,
    "start_time": "2022-02-06T12:46:06.110Z"
   },
   {
    "duration": 12,
    "start_time": "2022-02-06T12:46:06.173Z"
   },
   {
    "duration": 782,
    "start_time": "2022-02-06T12:46:06.187Z"
   },
   {
    "duration": 758,
    "start_time": "2022-02-06T12:46:06.971Z"
   },
   {
    "duration": 1326,
    "start_time": "2022-02-06T15:07:47.754Z"
   },
   {
    "duration": 13,
    "start_time": "2022-02-06T15:07:49.082Z"
   },
   {
    "duration": 8,
    "start_time": "2022-02-06T15:07:49.097Z"
   },
   {
    "duration": 12,
    "start_time": "2022-02-06T15:07:49.107Z"
   },
   {
    "duration": 4,
    "start_time": "2022-02-06T15:07:49.120Z"
   },
   {
    "duration": 4,
    "start_time": "2022-02-06T15:07:49.125Z"
   },
   {
    "duration": 6,
    "start_time": "2022-02-06T15:07:49.130Z"
   },
   {
    "duration": 9,
    "start_time": "2022-02-06T15:07:49.138Z"
   },
   {
    "duration": 15,
    "start_time": "2022-02-06T15:07:49.149Z"
   },
   {
    "duration": 6,
    "start_time": "2022-02-06T15:07:49.165Z"
   },
   {
    "duration": 8,
    "start_time": "2022-02-06T15:07:49.173Z"
   },
   {
    "duration": 8,
    "start_time": "2022-02-06T15:07:49.183Z"
   },
   {
    "duration": 8,
    "start_time": "2022-02-06T15:07:49.192Z"
   },
   {
    "duration": 4,
    "start_time": "2022-02-06T15:07:49.202Z"
   },
   {
    "duration": 6,
    "start_time": "2022-02-06T15:07:49.207Z"
   },
   {
    "duration": 5,
    "start_time": "2022-02-06T15:07:49.215Z"
   },
   {
    "duration": 6,
    "start_time": "2022-02-06T15:07:49.222Z"
   },
   {
    "duration": 8,
    "start_time": "2022-02-06T15:07:49.260Z"
   },
   {
    "duration": 7,
    "start_time": "2022-02-06T15:07:49.270Z"
   },
   {
    "duration": 13,
    "start_time": "2022-02-06T15:07:49.278Z"
   },
   {
    "duration": 10,
    "start_time": "2022-02-06T15:07:49.293Z"
   },
   {
    "duration": 9,
    "start_time": "2022-02-06T15:07:49.304Z"
   },
   {
    "duration": 9,
    "start_time": "2022-02-06T15:07:49.317Z"
   },
   {
    "duration": 1155,
    "start_time": "2022-02-06T15:07:49.328Z"
   },
   {
    "duration": 9,
    "start_time": "2022-02-06T15:07:50.484Z"
   },
   {
    "duration": 9,
    "start_time": "2022-02-06T15:07:50.495Z"
   },
   {
    "duration": 11,
    "start_time": "2022-02-06T15:07:50.506Z"
   },
   {
    "duration": 213,
    "start_time": "2022-02-06T15:07:50.519Z"
   },
   {
    "duration": 157,
    "start_time": "2022-02-06T15:07:50.734Z"
   },
   {
    "duration": 6,
    "start_time": "2022-02-06T15:07:50.892Z"
   },
   {
    "duration": 7,
    "start_time": "2022-02-06T15:07:50.900Z"
   },
   {
    "duration": 12,
    "start_time": "2022-02-06T15:07:50.909Z"
   },
   {
    "duration": 6,
    "start_time": "2022-02-06T15:07:50.923Z"
   },
   {
    "duration": 6,
    "start_time": "2022-02-06T15:07:50.931Z"
   },
   {
    "duration": 23,
    "start_time": "2022-02-06T15:07:50.938Z"
   },
   {
    "duration": 5,
    "start_time": "2022-02-06T15:07:50.962Z"
   },
   {
    "duration": 424,
    "start_time": "2022-02-06T15:07:50.968Z"
   },
   {
    "duration": 397,
    "start_time": "2022-02-06T15:07:51.394Z"
   },
   {
    "duration": 6,
    "start_time": "2022-02-06T15:07:51.793Z"
   },
   {
    "duration": 532,
    "start_time": "2022-02-06T15:07:51.801Z"
   },
   {
    "duration": 5,
    "start_time": "2022-02-06T15:07:52.335Z"
   },
   {
    "duration": 11,
    "start_time": "2022-02-06T15:07:52.341Z"
   },
   {
    "duration": 3,
    "start_time": "2022-02-06T15:07:52.359Z"
   },
   {
    "duration": 452,
    "start_time": "2022-02-06T15:07:52.364Z"
   },
   {
    "duration": 7,
    "start_time": "2022-02-06T15:07:52.818Z"
   },
   {
    "duration": 536,
    "start_time": "2022-02-06T15:07:52.827Z"
   },
   {
    "duration": 122,
    "start_time": "2022-02-06T15:07:53.365Z"
   },
   {
    "duration": 8,
    "start_time": "2022-02-06T15:07:53.489Z"
   },
   {
    "duration": 179,
    "start_time": "2022-02-06T15:07:53.498Z"
   },
   {
    "duration": 272,
    "start_time": "2022-02-06T15:07:53.678Z"
   },
   {
    "duration": 9,
    "start_time": "2022-02-06T15:07:53.952Z"
   },
   {
    "duration": 308,
    "start_time": "2022-02-06T15:07:53.963Z"
   },
   {
    "duration": 5,
    "start_time": "2022-02-06T15:07:54.273Z"
   },
   {
    "duration": 17,
    "start_time": "2022-02-06T15:07:54.279Z"
   },
   {
    "duration": 74,
    "start_time": "2022-02-06T15:07:54.297Z"
   },
   {
    "duration": 20,
    "start_time": "2022-02-06T15:07:54.373Z"
   },
   {
    "duration": 11,
    "start_time": "2022-02-06T15:07:54.395Z"
   },
   {
    "duration": 62,
    "start_time": "2022-02-06T15:07:54.407Z"
   },
   {
    "duration": 6,
    "start_time": "2022-02-06T15:07:54.470Z"
   },
   {
    "duration": 22,
    "start_time": "2022-02-06T15:07:54.477Z"
   },
   {
    "duration": 12,
    "start_time": "2022-02-06T15:07:54.500Z"
   },
   {
    "duration": 70,
    "start_time": "2022-02-06T15:07:54.514Z"
   },
   {
    "duration": 33,
    "start_time": "2022-02-06T15:07:54.586Z"
   },
   {
    "duration": 11,
    "start_time": "2022-02-06T15:07:54.621Z"
   },
   {
    "duration": 76,
    "start_time": "2022-02-06T15:07:54.634Z"
   },
   {
    "duration": 33,
    "start_time": "2022-02-06T15:07:54.712Z"
   },
   {
    "duration": 37,
    "start_time": "2022-02-06T15:07:54.747Z"
   },
   {
    "duration": 69,
    "start_time": "2022-02-06T15:07:54.790Z"
   },
   {
    "duration": 3,
    "start_time": "2022-02-06T15:07:54.861Z"
   },
   {
    "duration": 81,
    "start_time": "2022-02-06T15:07:54.865Z"
   },
   {
    "duration": 3,
    "start_time": "2022-02-06T15:07:54.948Z"
   },
   {
    "duration": 25,
    "start_time": "2022-02-06T15:07:54.952Z"
   },
   {
    "duration": 26,
    "start_time": "2022-02-06T15:07:54.979Z"
   },
   {
    "duration": 19,
    "start_time": "2022-02-06T15:07:55.006Z"
   },
   {
    "duration": 19,
    "start_time": "2022-02-06T15:07:55.026Z"
   },
   {
    "duration": 13,
    "start_time": "2022-02-06T15:07:55.046Z"
   },
   {
    "duration": 19,
    "start_time": "2022-02-06T15:07:55.060Z"
   },
   {
    "duration": 12,
    "start_time": "2022-02-06T15:07:55.081Z"
   },
   {
    "duration": 18,
    "start_time": "2022-02-06T15:07:55.095Z"
   },
   {
    "duration": 24,
    "start_time": "2022-02-06T15:07:55.115Z"
   },
   {
    "duration": 12,
    "start_time": "2022-02-06T15:07:55.141Z"
   },
   {
    "duration": 15,
    "start_time": "2022-02-06T15:07:55.154Z"
   },
   {
    "duration": 18,
    "start_time": "2022-02-06T15:07:55.170Z"
   },
   {
    "duration": 20,
    "start_time": "2022-02-06T15:07:55.189Z"
   },
   {
    "duration": 21,
    "start_time": "2022-02-06T15:07:55.210Z"
   },
   {
    "duration": 8,
    "start_time": "2022-02-06T15:07:55.232Z"
   },
   {
    "duration": 24,
    "start_time": "2022-02-06T15:07:55.241Z"
   },
   {
    "duration": 17,
    "start_time": "2022-02-06T15:07:55.266Z"
   },
   {
    "duration": 513,
    "start_time": "2022-02-06T15:07:55.284Z"
   },
   {
    "duration": 493,
    "start_time": "2022-02-06T15:07:55.799Z"
   },
   {
    "duration": 64,
    "start_time": "2022-02-06T15:19:08.803Z"
   },
   {
    "duration": 303,
    "start_time": "2022-02-06T16:06:13.174Z"
   },
   {
    "duration": 1287,
    "start_time": "2022-02-06T16:06:22.650Z"
   },
   {
    "duration": 15,
    "start_time": "2022-02-06T16:06:23.939Z"
   },
   {
    "duration": 16,
    "start_time": "2022-02-06T16:06:23.956Z"
   },
   {
    "duration": 34,
    "start_time": "2022-02-06T16:06:23.974Z"
   },
   {
    "duration": 13,
    "start_time": "2022-02-06T16:06:24.010Z"
   },
   {
    "duration": 23,
    "start_time": "2022-02-06T16:06:24.025Z"
   },
   {
    "duration": 22,
    "start_time": "2022-02-06T16:06:24.050Z"
   },
   {
    "duration": 26,
    "start_time": "2022-02-06T16:06:24.075Z"
   },
   {
    "duration": 27,
    "start_time": "2022-02-06T16:06:24.103Z"
   },
   {
    "duration": 23,
    "start_time": "2022-02-06T16:06:24.132Z"
   },
   {
    "duration": 20,
    "start_time": "2022-02-06T16:06:24.158Z"
   },
   {
    "duration": 20,
    "start_time": "2022-02-06T16:06:24.181Z"
   },
   {
    "duration": 26,
    "start_time": "2022-02-06T16:06:24.203Z"
   },
   {
    "duration": 13,
    "start_time": "2022-02-06T16:06:24.231Z"
   },
   {
    "duration": 22,
    "start_time": "2022-02-06T16:06:24.246Z"
   },
   {
    "duration": 17,
    "start_time": "2022-02-06T16:06:24.270Z"
   },
   {
    "duration": 22,
    "start_time": "2022-02-06T16:06:24.289Z"
   },
   {
    "duration": 32,
    "start_time": "2022-02-06T16:06:24.313Z"
   },
   {
    "duration": 14,
    "start_time": "2022-02-06T16:06:24.347Z"
   },
   {
    "duration": 28,
    "start_time": "2022-02-06T16:06:24.362Z"
   },
   {
    "duration": 25,
    "start_time": "2022-02-06T16:06:24.391Z"
   },
   {
    "duration": 18,
    "start_time": "2022-02-06T16:06:24.418Z"
   },
   {
    "duration": 21,
    "start_time": "2022-02-06T16:06:24.441Z"
   },
   {
    "duration": 368,
    "start_time": "2022-02-06T16:06:24.465Z"
   },
   {
    "duration": 10,
    "start_time": "2022-02-06T16:06:24.835Z"
   },
   {
    "duration": 19,
    "start_time": "2022-02-06T16:06:24.847Z"
   },
   {
    "duration": 28,
    "start_time": "2022-02-06T16:06:24.868Z"
   },
   {
    "duration": 248,
    "start_time": "2022-02-06T16:06:24.898Z"
   },
   {
    "duration": 176,
    "start_time": "2022-02-06T16:06:25.148Z"
   },
   {
    "duration": 6,
    "start_time": "2022-02-06T16:06:25.326Z"
   },
   {
    "duration": 30,
    "start_time": "2022-02-06T16:06:25.334Z"
   },
   {
    "duration": 25,
    "start_time": "2022-02-06T16:06:25.366Z"
   },
   {
    "duration": 30,
    "start_time": "2022-02-06T16:06:25.393Z"
   },
   {
    "duration": 31,
    "start_time": "2022-02-06T16:06:25.425Z"
   },
   {
    "duration": 22,
    "start_time": "2022-02-06T16:06:25.458Z"
   },
   {
    "duration": 36,
    "start_time": "2022-02-06T16:06:25.482Z"
   },
   {
    "duration": 520,
    "start_time": "2022-02-06T16:06:25.520Z"
   },
   {
    "duration": 484,
    "start_time": "2022-02-06T16:06:26.042Z"
   },
   {
    "duration": 7,
    "start_time": "2022-02-06T16:06:26.528Z"
   },
   {
    "duration": 582,
    "start_time": "2022-02-06T16:06:26.537Z"
   },
   {
    "duration": 5,
    "start_time": "2022-02-06T16:06:27.121Z"
   },
   {
    "duration": 13,
    "start_time": "2022-02-06T16:06:27.129Z"
   },
   {
    "duration": 12,
    "start_time": "2022-02-06T16:06:27.144Z"
   },
   {
    "duration": 528,
    "start_time": "2022-02-06T16:06:27.158Z"
   },
   {
    "duration": 16,
    "start_time": "2022-02-06T16:06:27.689Z"
   },
   {
    "duration": 575,
    "start_time": "2022-02-06T16:06:27.707Z"
   },
   {
    "duration": 140,
    "start_time": "2022-02-06T16:06:28.285Z"
   },
   {
    "duration": 10,
    "start_time": "2022-02-06T16:06:28.426Z"
   },
   {
    "duration": 221,
    "start_time": "2022-02-06T16:06:28.438Z"
   },
   {
    "duration": 334,
    "start_time": "2022-02-06T16:06:28.661Z"
   },
   {
    "duration": 6,
    "start_time": "2022-02-06T16:06:28.999Z"
   },
   {
    "duration": 335,
    "start_time": "2022-02-06T16:06:29.007Z"
   },
   {
    "duration": 6,
    "start_time": "2022-02-06T16:06:29.345Z"
   },
   {
    "duration": 7,
    "start_time": "2022-02-06T16:06:29.353Z"
   },
   {
    "duration": 81,
    "start_time": "2022-02-06T16:06:29.362Z"
   },
   {
    "duration": 9,
    "start_time": "2022-02-06T16:06:29.445Z"
   },
   {
    "duration": 8,
    "start_time": "2022-02-06T16:06:29.456Z"
   },
   {
    "duration": 71,
    "start_time": "2022-02-06T16:06:29.465Z"
   },
   {
    "duration": 6,
    "start_time": "2022-02-06T16:06:29.538Z"
   },
   {
    "duration": 17,
    "start_time": "2022-02-06T16:06:29.545Z"
   },
   {
    "duration": 4,
    "start_time": "2022-02-06T16:06:29.564Z"
   },
   {
    "duration": 85,
    "start_time": "2022-02-06T16:06:29.570Z"
   },
   {
    "duration": 19,
    "start_time": "2022-02-06T16:06:29.657Z"
   },
   {
    "duration": 3,
    "start_time": "2022-02-06T16:06:29.678Z"
   },
   {
    "duration": 68,
    "start_time": "2022-02-06T16:06:29.698Z"
   },
   {
    "duration": 42,
    "start_time": "2022-02-06T16:06:29.769Z"
   },
   {
    "duration": 14,
    "start_time": "2022-02-06T16:06:29.813Z"
   },
   {
    "duration": 73,
    "start_time": "2022-02-06T16:06:29.832Z"
   },
   {
    "duration": 3,
    "start_time": "2022-02-06T16:06:29.907Z"
   },
   {
    "duration": 87,
    "start_time": "2022-02-06T16:06:29.912Z"
   },
   {
    "duration": 4,
    "start_time": "2022-02-06T16:06:30.000Z"
   },
   {
    "duration": 19,
    "start_time": "2022-02-06T16:06:30.006Z"
   },
   {
    "duration": 16,
    "start_time": "2022-02-06T16:06:30.026Z"
   },
   {
    "duration": 11,
    "start_time": "2022-02-06T16:06:30.044Z"
   },
   {
    "duration": 4,
    "start_time": "2022-02-06T16:06:30.057Z"
   },
   {
    "duration": 15,
    "start_time": "2022-02-06T16:06:30.063Z"
   },
   {
    "duration": 13,
    "start_time": "2022-02-06T16:06:30.080Z"
   },
   {
    "duration": 9,
    "start_time": "2022-02-06T16:06:30.099Z"
   },
   {
    "duration": 15,
    "start_time": "2022-02-06T16:06:30.110Z"
   },
   {
    "duration": 15,
    "start_time": "2022-02-06T16:06:30.126Z"
   },
   {
    "duration": 9,
    "start_time": "2022-02-06T16:06:30.143Z"
   },
   {
    "duration": 8,
    "start_time": "2022-02-06T16:06:30.154Z"
   },
   {
    "duration": 11,
    "start_time": "2022-02-06T16:06:30.163Z"
   },
   {
    "duration": 26,
    "start_time": "2022-02-06T16:06:30.175Z"
   },
   {
    "duration": 21,
    "start_time": "2022-02-06T16:06:30.203Z"
   },
   {
    "duration": 5,
    "start_time": "2022-02-06T16:06:30.226Z"
   },
   {
    "duration": 14,
    "start_time": "2022-02-06T16:06:30.232Z"
   },
   {
    "duration": 11,
    "start_time": "2022-02-06T16:06:30.249Z"
   },
   {
    "duration": 614,
    "start_time": "2022-02-06T16:06:30.262Z"
   },
   {
    "duration": 589,
    "start_time": "2022-02-06T16:06:30.878Z"
   },
   {
    "duration": 12,
    "start_time": "2022-02-06T16:06:50.012Z"
   },
   {
    "duration": 23,
    "start_time": "2022-02-06T16:07:08.809Z"
   },
   {
    "duration": 11,
    "start_time": "2022-02-06T16:08:55.211Z"
   },
   {
    "duration": 11,
    "start_time": "2022-02-06T16:09:24.680Z"
   },
   {
    "duration": 4,
    "start_time": "2022-02-06T16:11:05.559Z"
   },
   {
    "duration": 7,
    "start_time": "2022-02-06T16:11:16.752Z"
   },
   {
    "duration": 3,
    "start_time": "2022-02-06T16:11:25.148Z"
   },
   {
    "duration": 6,
    "start_time": "2022-02-06T16:11:30.017Z"
   },
   {
    "duration": 5,
    "start_time": "2022-02-06T16:11:49.894Z"
   },
   {
    "duration": 1389,
    "start_time": "2022-02-06T16:11:55.719Z"
   },
   {
    "duration": 16,
    "start_time": "2022-02-06T16:11:57.110Z"
   },
   {
    "duration": 12,
    "start_time": "2022-02-06T16:11:57.128Z"
   },
   {
    "duration": 14,
    "start_time": "2022-02-06T16:11:57.142Z"
   },
   {
    "duration": 5,
    "start_time": "2022-02-06T16:11:57.158Z"
   },
   {
    "duration": 8,
    "start_time": "2022-02-06T16:11:57.165Z"
   },
   {
    "duration": 5,
    "start_time": "2022-02-06T16:11:57.198Z"
   },
   {
    "duration": 11,
    "start_time": "2022-02-06T16:11:57.206Z"
   },
   {
    "duration": 8,
    "start_time": "2022-02-06T16:11:57.219Z"
   },
   {
    "duration": 7,
    "start_time": "2022-02-06T16:11:57.229Z"
   },
   {
    "duration": 8,
    "start_time": "2022-02-06T16:11:57.238Z"
   },
   {
    "duration": 10,
    "start_time": "2022-02-06T16:11:57.248Z"
   },
   {
    "duration": 8,
    "start_time": "2022-02-06T16:11:57.260Z"
   },
   {
    "duration": 33,
    "start_time": "2022-02-06T16:11:57.269Z"
   },
   {
    "duration": 9,
    "start_time": "2022-02-06T16:11:57.304Z"
   },
   {
    "duration": 11,
    "start_time": "2022-02-06T16:11:57.314Z"
   },
   {
    "duration": 7,
    "start_time": "2022-02-06T16:11:57.327Z"
   },
   {
    "duration": 10,
    "start_time": "2022-02-06T16:11:57.336Z"
   },
   {
    "duration": 6,
    "start_time": "2022-02-06T16:11:57.348Z"
   },
   {
    "duration": 8,
    "start_time": "2022-02-06T16:11:57.355Z"
   },
   {
    "duration": 37,
    "start_time": "2022-02-06T16:11:57.365Z"
   },
   {
    "duration": 7,
    "start_time": "2022-02-06T16:11:57.404Z"
   },
   {
    "duration": 11,
    "start_time": "2022-02-06T16:11:57.415Z"
   },
   {
    "duration": 382,
    "start_time": "2022-02-06T16:11:57.428Z"
   },
   {
    "duration": 10,
    "start_time": "2022-02-06T16:11:57.812Z"
   },
   {
    "duration": 10,
    "start_time": "2022-02-06T16:11:57.824Z"
   },
   {
    "duration": 12,
    "start_time": "2022-02-06T16:11:57.836Z"
   },
   {
    "duration": 245,
    "start_time": "2022-02-06T16:11:57.850Z"
   },
   {
    "duration": 161,
    "start_time": "2022-02-06T16:11:58.098Z"
   },
   {
    "duration": 7,
    "start_time": "2022-02-06T16:11:58.261Z"
   },
   {
    "duration": 7,
    "start_time": "2022-02-06T16:11:58.270Z"
   },
   {
    "duration": 21,
    "start_time": "2022-02-06T16:11:58.279Z"
   },
   {
    "duration": 6,
    "start_time": "2022-02-06T16:11:58.302Z"
   },
   {
    "duration": 6,
    "start_time": "2022-02-06T16:11:58.309Z"
   },
   {
    "duration": 12,
    "start_time": "2022-02-06T16:11:58.317Z"
   },
   {
    "duration": 13,
    "start_time": "2022-02-06T16:11:58.330Z"
   },
   {
    "duration": 495,
    "start_time": "2022-02-06T16:11:58.345Z"
   },
   {
    "duration": 477,
    "start_time": "2022-02-06T16:11:58.842Z"
   },
   {
    "duration": 6,
    "start_time": "2022-02-06T16:11:59.321Z"
   },
   {
    "duration": 663,
    "start_time": "2022-02-06T16:11:59.329Z"
   },
   {
    "duration": 5,
    "start_time": "2022-02-06T16:11:59.994Z"
   },
   {
    "duration": 34,
    "start_time": "2022-02-06T16:12:00.001Z"
   },
   {
    "duration": 16,
    "start_time": "2022-02-06T16:12:00.036Z"
   },
   {
    "duration": 526,
    "start_time": "2022-02-06T16:12:00.054Z"
   },
   {
    "duration": 8,
    "start_time": "2022-02-06T16:12:00.582Z"
   },
   {
    "duration": 596,
    "start_time": "2022-02-06T16:12:00.592Z"
   },
   {
    "duration": 135,
    "start_time": "2022-02-06T16:12:01.190Z"
   },
   {
    "duration": 8,
    "start_time": "2022-02-06T16:12:01.327Z"
   },
   {
    "duration": 215,
    "start_time": "2022-02-06T16:12:01.337Z"
   },
   {
    "duration": 303,
    "start_time": "2022-02-06T16:12:01.554Z"
   },
   {
    "duration": 5,
    "start_time": "2022-02-06T16:12:01.860Z"
   },
   {
    "duration": 373,
    "start_time": "2022-02-06T16:12:01.866Z"
   },
   {
    "duration": 5,
    "start_time": "2022-02-06T16:12:02.241Z"
   },
   {
    "duration": 10,
    "start_time": "2022-02-06T16:12:02.248Z"
   },
   {
    "duration": 78,
    "start_time": "2022-02-06T16:12:02.260Z"
   },
   {
    "duration": 14,
    "start_time": "2022-02-06T16:12:02.340Z"
   },
   {
    "duration": 13,
    "start_time": "2022-02-06T16:12:02.356Z"
   },
   {
    "duration": 69,
    "start_time": "2022-02-06T16:12:02.371Z"
   },
   {
    "duration": 8,
    "start_time": "2022-02-06T16:12:02.442Z"
   },
   {
    "duration": 18,
    "start_time": "2022-02-06T16:12:02.452Z"
   },
   {
    "duration": 3,
    "start_time": "2022-02-06T16:12:02.472Z"
   },
   {
    "duration": 82,
    "start_time": "2022-02-06T16:12:02.477Z"
   },
   {
    "duration": 21,
    "start_time": "2022-02-06T16:12:02.561Z"
   },
   {
    "duration": 15,
    "start_time": "2022-02-06T16:12:02.584Z"
   },
   {
    "duration": 69,
    "start_time": "2022-02-06T16:12:02.601Z"
   },
   {
    "duration": 36,
    "start_time": "2022-02-06T16:12:02.672Z"
   },
   {
    "duration": 14,
    "start_time": "2022-02-06T16:12:02.710Z"
   },
   {
    "duration": 80,
    "start_time": "2022-02-06T16:12:02.730Z"
   },
   {
    "duration": 2,
    "start_time": "2022-02-06T16:12:02.813Z"
   },
   {
    "duration": 91,
    "start_time": "2022-02-06T16:12:02.817Z"
   },
   {
    "duration": 3,
    "start_time": "2022-02-06T16:12:02.910Z"
   },
   {
    "duration": 10,
    "start_time": "2022-02-06T16:12:02.915Z"
   },
   {
    "duration": 8,
    "start_time": "2022-02-06T16:12:02.927Z"
   },
   {
    "duration": 13,
    "start_time": "2022-02-06T16:12:02.936Z"
   },
   {
    "duration": 9,
    "start_time": "2022-02-06T16:12:02.951Z"
   },
   {
    "duration": 20,
    "start_time": "2022-02-06T16:12:02.962Z"
   },
   {
    "duration": 8,
    "start_time": "2022-02-06T16:12:02.999Z"
   },
   {
    "duration": 7,
    "start_time": "2022-02-06T16:12:03.009Z"
   },
   {
    "duration": 14,
    "start_time": "2022-02-06T16:12:03.018Z"
   },
   {
    "duration": 26,
    "start_time": "2022-02-06T16:12:03.034Z"
   },
   {
    "duration": 53,
    "start_time": "2022-02-06T16:12:03.062Z"
   },
   {
    "duration": 17,
    "start_time": "2022-02-06T16:12:03.118Z"
   },
   {
    "duration": 10,
    "start_time": "2022-02-06T16:12:03.137Z"
   },
   {
    "duration": 24,
    "start_time": "2022-02-06T16:12:03.149Z"
   },
   {
    "duration": 16,
    "start_time": "2022-02-06T16:12:03.175Z"
   },
   {
    "duration": 5,
    "start_time": "2022-02-06T16:12:03.194Z"
   },
   {
    "duration": 20,
    "start_time": "2022-02-06T16:12:03.202Z"
   },
   {
    "duration": 18,
    "start_time": "2022-02-06T16:12:03.225Z"
   },
   {
    "duration": 614,
    "start_time": "2022-02-06T16:12:03.245Z"
   },
   {
    "duration": 656,
    "start_time": "2022-02-06T16:12:03.861Z"
   },
   {
    "duration": 11,
    "start_time": "2022-02-06T16:13:37.024Z"
   },
   {
    "duration": 8,
    "start_time": "2022-02-06T16:14:16.903Z"
   },
   {
    "duration": 13,
    "start_time": "2022-02-06T16:15:07.541Z"
   },
   {
    "duration": 13,
    "start_time": "2022-02-06T16:15:14.047Z"
   },
   {
    "duration": 1482,
    "start_time": "2022-02-06T16:15:24.042Z"
   },
   {
    "duration": 16,
    "start_time": "2022-02-06T16:15:25.526Z"
   },
   {
    "duration": 16,
    "start_time": "2022-02-06T16:15:25.544Z"
   },
   {
    "duration": 17,
    "start_time": "2022-02-06T16:15:25.562Z"
   },
   {
    "duration": 18,
    "start_time": "2022-02-06T16:15:25.581Z"
   },
   {
    "duration": 17,
    "start_time": "2022-02-06T16:15:25.601Z"
   },
   {
    "duration": 21,
    "start_time": "2022-02-06T16:15:25.620Z"
   },
   {
    "duration": 15,
    "start_time": "2022-02-06T16:15:25.643Z"
   },
   {
    "duration": 21,
    "start_time": "2022-02-06T16:15:25.660Z"
   },
   {
    "duration": 13,
    "start_time": "2022-02-06T16:15:25.683Z"
   },
   {
    "duration": 16,
    "start_time": "2022-02-06T16:15:25.698Z"
   },
   {
    "duration": 20,
    "start_time": "2022-02-06T16:15:25.716Z"
   },
   {
    "duration": 17,
    "start_time": "2022-02-06T16:15:25.738Z"
   },
   {
    "duration": 11,
    "start_time": "2022-02-06T16:15:25.757Z"
   },
   {
    "duration": 20,
    "start_time": "2022-02-06T16:15:25.770Z"
   },
   {
    "duration": 11,
    "start_time": "2022-02-06T16:15:25.792Z"
   },
   {
    "duration": 15,
    "start_time": "2022-02-06T16:15:25.805Z"
   },
   {
    "duration": 38,
    "start_time": "2022-02-06T16:15:25.822Z"
   },
   {
    "duration": 13,
    "start_time": "2022-02-06T16:15:25.862Z"
   },
   {
    "duration": 35,
    "start_time": "2022-02-06T16:15:25.877Z"
   },
   {
    "duration": 18,
    "start_time": "2022-02-06T16:15:25.914Z"
   },
   {
    "duration": 23,
    "start_time": "2022-02-06T16:15:25.934Z"
   },
   {
    "duration": 12,
    "start_time": "2022-02-06T16:15:25.961Z"
   },
   {
    "duration": 13,
    "start_time": "2022-02-06T16:15:25.977Z"
   },
   {
    "duration": 368,
    "start_time": "2022-02-06T16:15:25.993Z"
   },
   {
    "duration": 10,
    "start_time": "2022-02-06T16:15:26.364Z"
   },
   {
    "duration": 30,
    "start_time": "2022-02-06T16:15:26.376Z"
   },
   {
    "duration": 10,
    "start_time": "2022-02-06T16:15:26.408Z"
   },
   {
    "duration": 250,
    "start_time": "2022-02-06T16:15:26.419Z"
   },
   {
    "duration": 181,
    "start_time": "2022-02-06T16:15:26.671Z"
   },
   {
    "duration": 6,
    "start_time": "2022-02-06T16:15:26.854Z"
   },
   {
    "duration": 8,
    "start_time": "2022-02-06T16:15:26.862Z"
   },
   {
    "duration": 14,
    "start_time": "2022-02-06T16:15:26.872Z"
   },
   {
    "duration": 5,
    "start_time": "2022-02-06T16:15:26.899Z"
   },
   {
    "duration": 8,
    "start_time": "2022-02-06T16:15:26.905Z"
   },
   {
    "duration": 9,
    "start_time": "2022-02-06T16:15:26.915Z"
   },
   {
    "duration": 7,
    "start_time": "2022-02-06T16:15:26.926Z"
   },
   {
    "duration": 526,
    "start_time": "2022-02-06T16:15:26.935Z"
   },
   {
    "duration": 477,
    "start_time": "2022-02-06T16:15:27.464Z"
   },
   {
    "duration": 7,
    "start_time": "2022-02-06T16:15:27.943Z"
   },
   {
    "duration": 623,
    "start_time": "2022-02-06T16:15:27.952Z"
   },
   {
    "duration": 3,
    "start_time": "2022-02-06T16:15:28.577Z"
   },
   {
    "duration": 16,
    "start_time": "2022-02-06T16:15:28.582Z"
   },
   {
    "duration": 33,
    "start_time": "2022-02-06T16:15:28.600Z"
   },
   {
    "duration": 560,
    "start_time": "2022-02-06T16:15:28.635Z"
   },
   {
    "duration": 9,
    "start_time": "2022-02-06T16:15:29.197Z"
   },
   {
    "duration": 605,
    "start_time": "2022-02-06T16:15:29.208Z"
   },
   {
    "duration": 123,
    "start_time": "2022-02-06T16:15:29.815Z"
   },
   {
    "duration": 8,
    "start_time": "2022-02-06T16:15:29.939Z"
   },
   {
    "duration": 233,
    "start_time": "2022-02-06T16:15:29.949Z"
   },
   {
    "duration": 341,
    "start_time": "2022-02-06T16:15:30.184Z"
   },
   {
    "duration": 5,
    "start_time": "2022-02-06T16:15:30.527Z"
   },
   {
    "duration": 329,
    "start_time": "2022-02-06T16:15:30.534Z"
   },
   {
    "duration": 6,
    "start_time": "2022-02-06T16:15:30.865Z"
   },
   {
    "duration": 18,
    "start_time": "2022-02-06T16:15:30.872Z"
   },
   {
    "duration": 79,
    "start_time": "2022-02-06T16:15:30.892Z"
   },
   {
    "duration": 15,
    "start_time": "2022-02-06T16:15:30.973Z"
   },
   {
    "duration": 14,
    "start_time": "2022-02-06T16:15:30.990Z"
   },
   {
    "duration": 83,
    "start_time": "2022-02-06T16:15:31.007Z"
   },
   {
    "duration": 13,
    "start_time": "2022-02-06T16:15:31.092Z"
   },
   {
    "duration": 23,
    "start_time": "2022-02-06T16:15:31.107Z"
   },
   {
    "duration": 7,
    "start_time": "2022-02-06T16:15:31.132Z"
   },
   {
    "duration": 83,
    "start_time": "2022-02-06T16:15:31.141Z"
   },
   {
    "duration": 21,
    "start_time": "2022-02-06T16:15:31.226Z"
   },
   {
    "duration": 25,
    "start_time": "2022-02-06T16:15:31.249Z"
   },
   {
    "duration": 75,
    "start_time": "2022-02-06T16:15:31.276Z"
   },
   {
    "duration": 28,
    "start_time": "2022-02-06T16:15:31.352Z"
   },
   {
    "duration": 19,
    "start_time": "2022-02-06T16:15:31.386Z"
   },
   {
    "duration": 89,
    "start_time": "2022-02-06T16:15:31.407Z"
   },
   {
    "duration": 3,
    "start_time": "2022-02-06T16:15:31.498Z"
   },
   {
    "duration": 95,
    "start_time": "2022-02-06T16:15:31.502Z"
   },
   {
    "duration": 3,
    "start_time": "2022-02-06T16:15:31.599Z"
   },
   {
    "duration": 9,
    "start_time": "2022-02-06T16:15:31.603Z"
   },
   {
    "duration": 14,
    "start_time": "2022-02-06T16:15:31.614Z"
   },
   {
    "duration": 16,
    "start_time": "2022-02-06T16:15:31.630Z"
   },
   {
    "duration": 31,
    "start_time": "2022-02-06T16:15:31.648Z"
   },
   {
    "duration": 14,
    "start_time": "2022-02-06T16:15:31.681Z"
   },
   {
    "duration": 13,
    "start_time": "2022-02-06T16:15:31.697Z"
   },
   {
    "duration": 12,
    "start_time": "2022-02-06T16:15:31.712Z"
   },
   {
    "duration": 11,
    "start_time": "2022-02-06T16:15:31.726Z"
   },
   {
    "duration": 11,
    "start_time": "2022-02-06T16:15:31.739Z"
   },
   {
    "duration": 9,
    "start_time": "2022-02-06T16:15:31.752Z"
   },
   {
    "duration": 9,
    "start_time": "2022-02-06T16:15:31.763Z"
   },
   {
    "duration": 6,
    "start_time": "2022-02-06T16:15:31.774Z"
   },
   {
    "duration": 20,
    "start_time": "2022-02-06T16:15:31.782Z"
   },
   {
    "duration": 13,
    "start_time": "2022-02-06T16:15:31.804Z"
   },
   {
    "duration": 5,
    "start_time": "2022-02-06T16:15:31.819Z"
   },
   {
    "duration": 12,
    "start_time": "2022-02-06T16:15:31.826Z"
   },
   {
    "duration": 11,
    "start_time": "2022-02-06T16:15:31.840Z"
   },
   {
    "duration": 674,
    "start_time": "2022-02-06T16:15:31.853Z"
   },
   {
    "duration": 566,
    "start_time": "2022-02-06T16:15:32.530Z"
   },
   {
    "duration": 592,
    "start_time": "2022-02-06T16:16:55.892Z"
   },
   {
    "duration": 209,
    "start_time": "2022-02-06T16:20:24.812Z"
   },
   {
    "duration": 222,
    "start_time": "2022-02-06T16:20:47.333Z"
   },
   {
    "duration": 214,
    "start_time": "2022-02-06T16:20:56.044Z"
   },
   {
    "duration": 456,
    "start_time": "2022-02-06T16:21:19.189Z"
   },
   {
    "duration": 332,
    "start_time": "2022-02-06T16:21:33.689Z"
   },
   {
    "duration": 312,
    "start_time": "2022-02-06T16:23:18.242Z"
   },
   {
    "duration": 315,
    "start_time": "2022-02-06T16:23:33.263Z"
   },
   {
    "duration": 323,
    "start_time": "2022-02-06T16:23:37.464Z"
   },
   {
    "duration": 370,
    "start_time": "2022-02-06T16:31:13.434Z"
   },
   {
    "duration": 10,
    "start_time": "2022-02-06T16:31:28.471Z"
   },
   {
    "duration": 1313,
    "start_time": "2022-02-06T16:31:35.405Z"
   },
   {
    "duration": 16,
    "start_time": "2022-02-06T16:31:36.720Z"
   },
   {
    "duration": 12,
    "start_time": "2022-02-06T16:31:36.739Z"
   },
   {
    "duration": 14,
    "start_time": "2022-02-06T16:31:36.753Z"
   },
   {
    "duration": 11,
    "start_time": "2022-02-06T16:31:36.769Z"
   },
   {
    "duration": 18,
    "start_time": "2022-02-06T16:31:36.782Z"
   },
   {
    "duration": 17,
    "start_time": "2022-02-06T16:31:36.802Z"
   },
   {
    "duration": 9,
    "start_time": "2022-02-06T16:31:36.822Z"
   },
   {
    "duration": 10,
    "start_time": "2022-02-06T16:31:36.833Z"
   },
   {
    "duration": 8,
    "start_time": "2022-02-06T16:31:36.844Z"
   },
   {
    "duration": 10,
    "start_time": "2022-02-06T16:31:36.853Z"
   },
   {
    "duration": 14,
    "start_time": "2022-02-06T16:31:36.865Z"
   },
   {
    "duration": 21,
    "start_time": "2022-02-06T16:31:36.881Z"
   },
   {
    "duration": 6,
    "start_time": "2022-02-06T16:31:36.905Z"
   },
   {
    "duration": 12,
    "start_time": "2022-02-06T16:31:36.913Z"
   },
   {
    "duration": 8,
    "start_time": "2022-02-06T16:31:36.927Z"
   },
   {
    "duration": 13,
    "start_time": "2022-02-06T16:31:36.936Z"
   },
   {
    "duration": 16,
    "start_time": "2022-02-06T16:31:36.951Z"
   },
   {
    "duration": 31,
    "start_time": "2022-02-06T16:31:36.969Z"
   },
   {
    "duration": 6,
    "start_time": "2022-02-06T16:31:37.002Z"
   },
   {
    "duration": 9,
    "start_time": "2022-02-06T16:31:37.010Z"
   },
   {
    "duration": 12,
    "start_time": "2022-02-06T16:31:37.021Z"
   },
   {
    "duration": 13,
    "start_time": "2022-02-06T16:31:37.037Z"
   },
   {
    "duration": 5,
    "start_time": "2022-02-06T16:31:37.053Z"
   },
   {
    "duration": 41,
    "start_time": "2022-02-06T16:31:37.060Z"
   },
   {
    "duration": 369,
    "start_time": "2022-02-06T16:31:37.103Z"
   },
   {
    "duration": 9,
    "start_time": "2022-02-06T16:31:37.474Z"
   },
   {
    "duration": 21,
    "start_time": "2022-02-06T16:31:37.485Z"
   },
   {
    "duration": 8,
    "start_time": "2022-02-06T16:31:37.507Z"
   },
   {
    "duration": 249,
    "start_time": "2022-02-06T16:31:37.517Z"
   },
   {
    "duration": 175,
    "start_time": "2022-02-06T16:31:37.768Z"
   },
   {
    "duration": 7,
    "start_time": "2022-02-06T16:31:37.945Z"
   },
   {
    "duration": 5,
    "start_time": "2022-02-06T16:31:37.955Z"
   },
   {
    "duration": 15,
    "start_time": "2022-02-06T16:31:37.962Z"
   },
   {
    "duration": 21,
    "start_time": "2022-02-06T16:31:37.980Z"
   },
   {
    "duration": 9,
    "start_time": "2022-02-06T16:31:38.004Z"
   },
   {
    "duration": 7,
    "start_time": "2022-02-06T16:31:38.015Z"
   },
   {
    "duration": 14,
    "start_time": "2022-02-06T16:31:38.024Z"
   },
   {
    "duration": 509,
    "start_time": "2022-02-06T16:31:38.040Z"
   },
   {
    "duration": 476,
    "start_time": "2022-02-06T16:31:38.552Z"
   },
   {
    "duration": 7,
    "start_time": "2022-02-06T16:31:39.030Z"
   },
   {
    "duration": 577,
    "start_time": "2022-02-06T16:31:39.038Z"
   },
   {
    "duration": 3,
    "start_time": "2022-02-06T16:31:39.617Z"
   },
   {
    "duration": 7,
    "start_time": "2022-02-06T16:31:39.622Z"
   },
   {
    "duration": 7,
    "start_time": "2022-02-06T16:31:39.631Z"
   },
   {
    "duration": 539,
    "start_time": "2022-02-06T16:31:39.639Z"
   },
   {
    "duration": 19,
    "start_time": "2022-02-06T16:31:40.180Z"
   },
   {
    "duration": 566,
    "start_time": "2022-02-06T16:31:40.201Z"
   },
   {
    "duration": 141,
    "start_time": "2022-02-06T16:31:40.770Z"
   },
   {
    "duration": 10,
    "start_time": "2022-02-06T16:31:40.913Z"
   },
   {
    "duration": 226,
    "start_time": "2022-02-06T16:31:40.925Z"
   },
   {
    "duration": 305,
    "start_time": "2022-02-06T16:31:41.154Z"
   },
   {
    "duration": 7,
    "start_time": "2022-02-06T16:31:41.461Z"
   },
   {
    "duration": 367,
    "start_time": "2022-02-06T16:31:41.470Z"
   },
   {
    "duration": 7,
    "start_time": "2022-02-06T16:31:41.839Z"
   },
   {
    "duration": 7,
    "start_time": "2022-02-06T16:31:41.848Z"
   },
   {
    "duration": 82,
    "start_time": "2022-02-06T16:31:41.857Z"
   },
   {
    "duration": 9,
    "start_time": "2022-02-06T16:31:41.941Z"
   },
   {
    "duration": 7,
    "start_time": "2022-02-06T16:31:41.952Z"
   },
   {
    "duration": 75,
    "start_time": "2022-02-06T16:31:41.961Z"
   },
   {
    "duration": 6,
    "start_time": "2022-02-06T16:31:42.038Z"
   },
   {
    "duration": 18,
    "start_time": "2022-02-06T16:31:42.046Z"
   },
   {
    "duration": 4,
    "start_time": "2022-02-06T16:31:42.065Z"
   },
   {
    "duration": 79,
    "start_time": "2022-02-06T16:31:42.071Z"
   },
   {
    "duration": 19,
    "start_time": "2022-02-06T16:31:42.152Z"
   },
   {
    "duration": 3,
    "start_time": "2022-02-06T16:31:42.172Z"
   },
   {
    "duration": 82,
    "start_time": "2022-02-06T16:31:42.177Z"
   },
   {
    "duration": 34,
    "start_time": "2022-02-06T16:31:42.265Z"
   },
   {
    "duration": 11,
    "start_time": "2022-02-06T16:31:42.301Z"
   },
   {
    "duration": 88,
    "start_time": "2022-02-06T16:31:42.314Z"
   },
   {
    "duration": 2,
    "start_time": "2022-02-06T16:31:42.404Z"
   },
   {
    "duration": 90,
    "start_time": "2022-02-06T16:31:42.409Z"
   },
   {
    "duration": 2,
    "start_time": "2022-02-06T16:31:42.501Z"
   },
   {
    "duration": 13,
    "start_time": "2022-02-06T16:31:42.505Z"
   },
   {
    "duration": 7,
    "start_time": "2022-02-06T16:31:42.520Z"
   },
   {
    "duration": 14,
    "start_time": "2022-02-06T16:31:42.529Z"
   },
   {
    "duration": 10,
    "start_time": "2022-02-06T16:31:42.544Z"
   },
   {
    "duration": 11,
    "start_time": "2022-02-06T16:31:42.556Z"
   },
   {
    "duration": 13,
    "start_time": "2022-02-06T16:31:42.568Z"
   },
   {
    "duration": 19,
    "start_time": "2022-02-06T16:31:42.582Z"
   },
   {
    "duration": 8,
    "start_time": "2022-02-06T16:31:42.603Z"
   },
   {
    "duration": 7,
    "start_time": "2022-02-06T16:31:42.612Z"
   },
   {
    "duration": 24,
    "start_time": "2022-02-06T16:31:42.621Z"
   },
   {
    "duration": 8,
    "start_time": "2022-02-06T16:31:42.647Z"
   },
   {
    "duration": 8,
    "start_time": "2022-02-06T16:31:42.656Z"
   },
   {
    "duration": 13,
    "start_time": "2022-02-06T16:31:42.666Z"
   },
   {
    "duration": 9,
    "start_time": "2022-02-06T16:31:42.681Z"
   },
   {
    "duration": 8,
    "start_time": "2022-02-06T16:31:42.692Z"
   },
   {
    "duration": 33,
    "start_time": "2022-02-06T16:31:42.703Z"
   },
   {
    "duration": 37,
    "start_time": "2022-02-06T16:31:42.737Z"
   },
   {
    "duration": 607,
    "start_time": "2022-02-06T16:31:42.775Z"
   },
   {
    "duration": 575,
    "start_time": "2022-02-06T16:31:43.385Z"
   },
   {
    "duration": 559,
    "start_time": "2022-02-06T16:37:32.119Z"
   },
   {
    "duration": 581,
    "start_time": "2022-02-06T16:38:48.839Z"
   },
   {
    "duration": 556,
    "start_time": "2022-02-06T16:39:40.025Z"
   },
   {
    "duration": 550,
    "start_time": "2022-02-06T16:39:46.157Z"
   },
   {
    "duration": 429,
    "start_time": "2022-02-06T16:41:37.065Z"
   },
   {
    "duration": 89,
    "start_time": "2022-02-06T16:41:47.225Z"
   },
   {
    "duration": 462,
    "start_time": "2022-02-06T16:41:52.073Z"
   },
   {
    "duration": 495,
    "start_time": "2022-02-06T16:42:21.032Z"
   },
   {
    "duration": 502,
    "start_time": "2022-02-06T16:42:26.747Z"
   },
   {
    "duration": 505,
    "start_time": "2022-02-06T16:42:41.673Z"
   },
   {
    "duration": 513,
    "start_time": "2022-02-06T16:42:49.083Z"
   },
   {
    "duration": 10,
    "start_time": "2022-02-06T16:47:09.280Z"
   },
   {
    "duration": 10,
    "start_time": "2022-02-06T16:47:12.552Z"
   },
   {
    "duration": 1425,
    "start_time": "2022-02-06T17:01:01.828Z"
   },
   {
    "duration": 17,
    "start_time": "2022-02-06T17:01:03.255Z"
   },
   {
    "duration": 26,
    "start_time": "2022-02-06T17:01:03.274Z"
   },
   {
    "duration": 31,
    "start_time": "2022-02-06T17:01:03.302Z"
   },
   {
    "duration": 11,
    "start_time": "2022-02-06T17:01:03.334Z"
   },
   {
    "duration": 20,
    "start_time": "2022-02-06T17:01:03.346Z"
   },
   {
    "duration": 22,
    "start_time": "2022-02-06T17:01:03.368Z"
   },
   {
    "duration": 16,
    "start_time": "2022-02-06T17:01:03.394Z"
   },
   {
    "duration": 15,
    "start_time": "2022-02-06T17:01:03.413Z"
   },
   {
    "duration": 14,
    "start_time": "2022-02-06T17:01:03.430Z"
   },
   {
    "duration": 18,
    "start_time": "2022-02-06T17:01:03.446Z"
   },
   {
    "duration": 19,
    "start_time": "2022-02-06T17:01:03.466Z"
   },
   {
    "duration": 15,
    "start_time": "2022-02-06T17:01:03.486Z"
   },
   {
    "duration": 14,
    "start_time": "2022-02-06T17:01:03.503Z"
   },
   {
    "duration": 16,
    "start_time": "2022-02-06T17:01:03.519Z"
   },
   {
    "duration": 28,
    "start_time": "2022-02-06T17:01:03.537Z"
   },
   {
    "duration": 16,
    "start_time": "2022-02-06T17:01:03.567Z"
   },
   {
    "duration": 22,
    "start_time": "2022-02-06T17:01:03.585Z"
   },
   {
    "duration": 17,
    "start_time": "2022-02-06T17:01:03.609Z"
   },
   {
    "duration": 19,
    "start_time": "2022-02-06T17:01:03.628Z"
   },
   {
    "duration": 18,
    "start_time": "2022-02-06T17:01:03.648Z"
   },
   {
    "duration": 22,
    "start_time": "2022-02-06T17:01:03.668Z"
   },
   {
    "duration": 19,
    "start_time": "2022-02-06T17:01:03.694Z"
   },
   {
    "duration": 15,
    "start_time": "2022-02-06T17:01:03.716Z"
   },
   {
    "duration": 30,
    "start_time": "2022-02-06T17:01:03.733Z"
   },
   {
    "duration": 368,
    "start_time": "2022-02-06T17:01:03.765Z"
   },
   {
    "duration": 11,
    "start_time": "2022-02-06T17:01:04.136Z"
   },
   {
    "duration": 21,
    "start_time": "2022-02-06T17:01:04.149Z"
   },
   {
    "duration": 8,
    "start_time": "2022-02-06T17:01:04.172Z"
   },
   {
    "duration": 253,
    "start_time": "2022-02-06T17:01:04.182Z"
   },
   {
    "duration": 183,
    "start_time": "2022-02-06T17:01:04.437Z"
   },
   {
    "duration": 7,
    "start_time": "2022-02-06T17:01:04.622Z"
   },
   {
    "duration": 9,
    "start_time": "2022-02-06T17:01:04.631Z"
   },
   {
    "duration": 19,
    "start_time": "2022-02-06T17:01:04.642Z"
   },
   {
    "duration": 9,
    "start_time": "2022-02-06T17:01:04.663Z"
   },
   {
    "duration": 8,
    "start_time": "2022-02-06T17:01:04.674Z"
   },
   {
    "duration": 7,
    "start_time": "2022-02-06T17:01:04.699Z"
   },
   {
    "duration": 12,
    "start_time": "2022-02-06T17:01:04.707Z"
   },
   {
    "duration": 618,
    "start_time": "2022-02-06T17:01:04.721Z"
   },
   {
    "duration": 520,
    "start_time": "2022-02-06T17:01:05.341Z"
   },
   {
    "duration": 6,
    "start_time": "2022-02-06T17:01:05.863Z"
   },
   {
    "duration": 644,
    "start_time": "2022-02-06T17:01:05.871Z"
   },
   {
    "duration": 4,
    "start_time": "2022-02-06T17:01:06.517Z"
   },
   {
    "duration": 9,
    "start_time": "2022-02-06T17:01:06.523Z"
   },
   {
    "duration": 8,
    "start_time": "2022-02-06T17:01:06.534Z"
   },
   {
    "duration": 542,
    "start_time": "2022-02-06T17:01:06.544Z"
   },
   {
    "duration": 16,
    "start_time": "2022-02-06T17:01:07.088Z"
   },
   {
    "duration": 555,
    "start_time": "2022-02-06T17:01:07.106Z"
   },
   {
    "duration": 136,
    "start_time": "2022-02-06T17:01:07.663Z"
   },
   {
    "duration": 9,
    "start_time": "2022-02-06T17:01:07.801Z"
   },
   {
    "duration": 218,
    "start_time": "2022-02-06T17:01:07.812Z"
   },
   {
    "duration": 316,
    "start_time": "2022-02-06T17:01:08.032Z"
   },
   {
    "duration": 6,
    "start_time": "2022-02-06T17:01:08.350Z"
   },
   {
    "duration": 352,
    "start_time": "2022-02-06T17:01:08.358Z"
   },
   {
    "duration": 5,
    "start_time": "2022-02-06T17:01:08.713Z"
   },
   {
    "duration": 9,
    "start_time": "2022-02-06T17:01:08.720Z"
   },
   {
    "duration": 82,
    "start_time": "2022-02-06T17:01:08.731Z"
   },
   {
    "duration": 13,
    "start_time": "2022-02-06T17:01:08.814Z"
   },
   {
    "duration": 11,
    "start_time": "2022-02-06T17:01:08.829Z"
   },
   {
    "duration": 69,
    "start_time": "2022-02-06T17:01:08.842Z"
   },
   {
    "duration": 18,
    "start_time": "2022-02-06T17:01:08.912Z"
   },
   {
    "duration": 31,
    "start_time": "2022-02-06T17:01:08.932Z"
   },
   {
    "duration": 3,
    "start_time": "2022-02-06T17:01:08.965Z"
   },
   {
    "duration": 74,
    "start_time": "2022-02-06T17:01:08.969Z"
   },
   {
    "duration": 25,
    "start_time": "2022-02-06T17:01:09.045Z"
   },
   {
    "duration": 3,
    "start_time": "2022-02-06T17:01:09.072Z"
   },
   {
    "duration": 70,
    "start_time": "2022-02-06T17:01:09.076Z"
   },
   {
    "duration": 24,
    "start_time": "2022-02-06T17:01:09.152Z"
   },
   {
    "duration": 26,
    "start_time": "2022-02-06T17:01:09.178Z"
   },
   {
    "duration": 64,
    "start_time": "2022-02-06T17:01:09.206Z"
   },
   {
    "duration": 3,
    "start_time": "2022-02-06T17:01:09.272Z"
   },
   {
    "duration": 67,
    "start_time": "2022-02-06T17:01:09.299Z"
   },
   {
    "duration": 3,
    "start_time": "2022-02-06T17:01:09.368Z"
   },
   {
    "duration": 27,
    "start_time": "2022-02-06T17:01:09.373Z"
   },
   {
    "duration": 8,
    "start_time": "2022-02-06T17:01:09.402Z"
   },
   {
    "duration": 10,
    "start_time": "2022-02-06T17:01:09.411Z"
   },
   {
    "duration": 5,
    "start_time": "2022-02-06T17:01:09.422Z"
   },
   {
    "duration": 10,
    "start_time": "2022-02-06T17:01:09.428Z"
   },
   {
    "duration": 13,
    "start_time": "2022-02-06T17:01:09.440Z"
   },
   {
    "duration": 13,
    "start_time": "2022-02-06T17:01:09.455Z"
   },
   {
    "duration": 8,
    "start_time": "2022-02-06T17:01:09.470Z"
   },
   {
    "duration": 9,
    "start_time": "2022-02-06T17:01:09.499Z"
   },
   {
    "duration": 9,
    "start_time": "2022-02-06T17:01:09.509Z"
   },
   {
    "duration": 7,
    "start_time": "2022-02-06T17:01:09.520Z"
   },
   {
    "duration": 12,
    "start_time": "2022-02-06T17:01:09.528Z"
   },
   {
    "duration": 12,
    "start_time": "2022-02-06T17:01:09.542Z"
   },
   {
    "duration": 15,
    "start_time": "2022-02-06T17:01:09.555Z"
   },
   {
    "duration": 7,
    "start_time": "2022-02-06T17:01:09.572Z"
   },
   {
    "duration": 22,
    "start_time": "2022-02-06T17:01:09.580Z"
   },
   {
    "duration": 10,
    "start_time": "2022-02-06T17:01:09.604Z"
   },
   {
    "duration": 586,
    "start_time": "2022-02-06T17:01:09.616Z"
   },
   {
    "duration": 562,
    "start_time": "2022-02-06T17:01:10.204Z"
   },
   {
    "duration": 1187,
    "start_time": "2022-02-06T17:47:14.151Z"
   },
   {
    "duration": 20,
    "start_time": "2022-02-06T17:47:15.340Z"
   },
   {
    "duration": 34,
    "start_time": "2022-02-06T17:47:15.362Z"
   },
   {
    "duration": 23,
    "start_time": "2022-02-06T17:47:15.398Z"
   },
   {
    "duration": 17,
    "start_time": "2022-02-06T17:47:15.423Z"
   },
   {
    "duration": 20,
    "start_time": "2022-02-06T17:47:15.442Z"
   },
   {
    "duration": 28,
    "start_time": "2022-02-06T17:47:15.464Z"
   },
   {
    "duration": 16,
    "start_time": "2022-02-06T17:47:15.494Z"
   },
   {
    "duration": 54,
    "start_time": "2022-02-06T17:47:15.513Z"
   },
   {
    "duration": 31,
    "start_time": "2022-02-06T17:47:15.569Z"
   },
   {
    "duration": 36,
    "start_time": "2022-02-06T17:47:15.602Z"
   },
   {
    "duration": 14,
    "start_time": "2022-02-06T17:47:15.640Z"
   },
   {
    "duration": 13,
    "start_time": "2022-02-06T17:47:15.656Z"
   },
   {
    "duration": 11,
    "start_time": "2022-02-06T17:47:15.672Z"
   },
   {
    "duration": 10,
    "start_time": "2022-02-06T17:47:15.684Z"
   },
   {
    "duration": 8,
    "start_time": "2022-02-06T17:47:15.696Z"
   },
   {
    "duration": 10,
    "start_time": "2022-02-06T17:47:15.706Z"
   },
   {
    "duration": 14,
    "start_time": "2022-02-06T17:47:15.717Z"
   },
   {
    "duration": 8,
    "start_time": "2022-02-06T17:47:15.733Z"
   },
   {
    "duration": 18,
    "start_time": "2022-02-06T17:47:15.742Z"
   },
   {
    "duration": 10,
    "start_time": "2022-02-06T17:47:15.761Z"
   },
   {
    "duration": 9,
    "start_time": "2022-02-06T17:47:15.772Z"
   },
   {
    "duration": 15,
    "start_time": "2022-02-06T17:47:15.785Z"
   },
   {
    "duration": 4,
    "start_time": "2022-02-06T17:47:15.803Z"
   },
   {
    "duration": 15,
    "start_time": "2022-02-06T17:47:15.809Z"
   },
   {
    "duration": 1159,
    "start_time": "2022-02-06T17:47:15.825Z"
   },
   {
    "duration": 9,
    "start_time": "2022-02-06T17:47:16.986Z"
   },
   {
    "duration": 18,
    "start_time": "2022-02-06T17:47:16.996Z"
   },
   {
    "duration": 18,
    "start_time": "2022-02-06T17:47:17.016Z"
   },
   {
    "duration": 207,
    "start_time": "2022-02-06T17:47:17.036Z"
   },
   {
    "duration": 154,
    "start_time": "2022-02-06T17:47:17.245Z"
   },
   {
    "duration": 6,
    "start_time": "2022-02-06T17:47:17.401Z"
   },
   {
    "duration": 7,
    "start_time": "2022-02-06T17:47:17.409Z"
   },
   {
    "duration": 13,
    "start_time": "2022-02-06T17:47:17.418Z"
   },
   {
    "duration": 8,
    "start_time": "2022-02-06T17:47:17.433Z"
   },
   {
    "duration": 4,
    "start_time": "2022-02-06T17:47:17.460Z"
   },
   {
    "duration": 8,
    "start_time": "2022-02-06T17:47:17.465Z"
   },
   {
    "duration": 6,
    "start_time": "2022-02-06T17:47:17.474Z"
   },
   {
    "duration": 508,
    "start_time": "2022-02-06T17:47:17.482Z"
   },
   {
    "duration": 456,
    "start_time": "2022-02-06T17:47:17.991Z"
   },
   {
    "duration": 14,
    "start_time": "2022-02-06T17:47:18.449Z"
   },
   {
    "duration": 564,
    "start_time": "2022-02-06T17:47:18.466Z"
   },
   {
    "duration": 5,
    "start_time": "2022-02-06T17:47:19.033Z"
   },
   {
    "duration": 20,
    "start_time": "2022-02-06T17:47:19.040Z"
   },
   {
    "duration": 5,
    "start_time": "2022-02-06T17:47:19.062Z"
   },
   {
    "duration": 501,
    "start_time": "2022-02-06T17:47:19.069Z"
   },
   {
    "duration": 9,
    "start_time": "2022-02-06T17:47:19.572Z"
   },
   {
    "duration": 507,
    "start_time": "2022-02-06T17:47:19.583Z"
   },
   {
    "duration": 116,
    "start_time": "2022-02-06T17:47:20.092Z"
   },
   {
    "duration": 7,
    "start_time": "2022-02-06T17:47:20.210Z"
   },
   {
    "duration": 192,
    "start_time": "2022-02-06T17:47:20.219Z"
   },
   {
    "duration": 261,
    "start_time": "2022-02-06T17:47:20.412Z"
   },
   {
    "duration": 5,
    "start_time": "2022-02-06T17:47:20.675Z"
   },
   {
    "duration": 296,
    "start_time": "2022-02-06T17:47:20.681Z"
   },
   {
    "duration": 5,
    "start_time": "2022-02-06T17:47:20.979Z"
   },
   {
    "duration": 9,
    "start_time": "2022-02-06T17:47:20.985Z"
   },
   {
    "duration": 65,
    "start_time": "2022-02-06T17:47:20.996Z"
   },
   {
    "duration": 5,
    "start_time": "2022-02-06T17:47:21.062Z"
   },
   {
    "duration": 8,
    "start_time": "2022-02-06T17:47:21.069Z"
   },
   {
    "duration": 56,
    "start_time": "2022-02-06T17:47:21.079Z"
   },
   {
    "duration": 9,
    "start_time": "2022-02-06T17:47:21.137Z"
   },
   {
    "duration": 20,
    "start_time": "2022-02-06T17:47:21.147Z"
   },
   {
    "duration": 5,
    "start_time": "2022-02-06T17:47:21.168Z"
   },
   {
    "duration": 61,
    "start_time": "2022-02-06T17:47:21.174Z"
   },
   {
    "duration": 29,
    "start_time": "2022-02-06T17:47:21.237Z"
   },
   {
    "duration": 2,
    "start_time": "2022-02-06T17:47:21.268Z"
   },
   {
    "duration": 59,
    "start_time": "2022-02-06T17:47:21.271Z"
   },
   {
    "duration": 35,
    "start_time": "2022-02-06T17:47:21.335Z"
   },
   {
    "duration": 11,
    "start_time": "2022-02-06T17:47:21.372Z"
   },
   {
    "duration": 52,
    "start_time": "2022-02-06T17:47:21.385Z"
   },
   {
    "duration": 20,
    "start_time": "2022-02-06T17:47:21.439Z"
   },
   {
    "duration": 99,
    "start_time": "2022-02-06T17:47:21.461Z"
   },
   {
    "duration": 6,
    "start_time": "2022-02-06T17:47:21.562Z"
   },
   {
    "duration": 7,
    "start_time": "2022-02-06T17:47:21.570Z"
   },
   {
    "duration": 6,
    "start_time": "2022-02-06T17:47:21.579Z"
   },
   {
    "duration": 8,
    "start_time": "2022-02-06T17:47:21.586Z"
   },
   {
    "duration": 4,
    "start_time": "2022-02-06T17:47:21.596Z"
   },
   {
    "duration": 11,
    "start_time": "2022-02-06T17:47:21.602Z"
   },
   {
    "duration": 12,
    "start_time": "2022-02-06T17:47:21.614Z"
   },
   {
    "duration": 31,
    "start_time": "2022-02-06T17:47:21.628Z"
   },
   {
    "duration": 7,
    "start_time": "2022-02-06T17:47:21.661Z"
   },
   {
    "duration": 7,
    "start_time": "2022-02-06T17:47:21.670Z"
   },
   {
    "duration": 13,
    "start_time": "2022-02-06T17:47:21.679Z"
   },
   {
    "duration": 10,
    "start_time": "2022-02-06T17:47:21.694Z"
   },
   {
    "duration": 6,
    "start_time": "2022-02-06T17:47:21.706Z"
   },
   {
    "duration": 10,
    "start_time": "2022-02-06T17:47:21.714Z"
   },
   {
    "duration": 22,
    "start_time": "2022-02-06T17:47:21.726Z"
   },
   {
    "duration": 19,
    "start_time": "2022-02-06T17:47:21.749Z"
   },
   {
    "duration": 19,
    "start_time": "2022-02-06T17:47:21.770Z"
   },
   {
    "duration": 25,
    "start_time": "2022-02-06T17:47:21.791Z"
   },
   {
    "duration": 517,
    "start_time": "2022-02-06T17:47:21.818Z"
   },
   {
    "duration": 528,
    "start_time": "2022-02-06T17:47:22.337Z"
   }
  ],
  "kernelspec": {
   "display_name": "Python 3",
   "language": "python",
   "name": "python3"
  },
  "language_info": {
   "codemirror_mode": {
    "name": "ipython",
    "version": 3
   },
   "file_extension": ".py",
   "mimetype": "text/x-python",
   "name": "python",
   "nbconvert_exporter": "python",
   "pygments_lexer": "ipython3",
   "version": "3.8.8"
  },
  "toc": {
   "base_numbering": 1,
   "nav_menu": {},
   "number_sections": true,
   "sideBar": true,
   "skip_h1_title": true,
   "title_cell": "Table of Contents",
   "title_sidebar": "Contents",
   "toc_cell": false,
   "toc_position": {
    "height": "calc(100% - 180px)",
    "left": "10px",
    "top": "150px",
    "width": "267.101px"
   },
   "toc_section_display": true,
   "toc_window_display": true
  }
 },
 "nbformat": 4,
 "nbformat_minor": 2
}
