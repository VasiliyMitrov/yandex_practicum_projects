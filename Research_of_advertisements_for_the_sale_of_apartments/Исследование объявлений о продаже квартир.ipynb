{
 "cells": [
  {
   "cell_type": "markdown",
   "metadata": {},
   "source": [
    "# Исследование объявлений о продаже квартир\n",
    "\n",
    "В вашем распоряжении данные сервиса Яндекс.Недвижимость — архив объявлений о продаже квартир в Санкт-Петербурге и соседних населённых пунктах за несколько лет. Нужно научиться определять рыночную стоимость объектов недвижимости. Ваша задача — установить параметры. Это позволит построить автоматизированную систему: она отследит аномалии и мошенническую деятельность. \n",
    "\n",
    "По каждой квартире на продажу доступны два вида данных. Первые вписаны пользователем, вторые получены автоматически на основе картографических данных. Например, расстояние до центра, аэропорта, ближайшего парка и водоёма. "
   ]
  },
  {
   "cell_type": "markdown",
   "metadata": {},
   "source": [
    "## Изучение данных из файла"
   ]
  },
  {
   "cell_type": "code",
   "execution_count": 1,
   "metadata": {},
   "outputs": [],
   "source": [
    "import pandas as pd\n",
    "import matplotlib.pyplot as plt\n",
    "import numpy as np\n",
    "import warnings\n",
    "warnings.filterwarnings('ignore')"
   ]
  },
  {
   "cell_type": "code",
   "execution_count": 2,
   "metadata": {},
   "outputs": [],
   "source": [
    "df = pd.read_csv('/data/real_estate_data.csv', sep='\\t')#Читаем dataset и сохраняем его в переменной df"
   ]
  },
  {
   "cell_type": "code",
   "execution_count": 3,
   "metadata": {},
   "outputs": [
    {
     "data": {
      "text/html": [
       "<div>\n",
       "<style scoped>\n",
       "    .dataframe tbody tr th:only-of-type {\n",
       "        vertical-align: middle;\n",
       "    }\n",
       "\n",
       "    .dataframe tbody tr th {\n",
       "        vertical-align: top;\n",
       "    }\n",
       "\n",
       "    .dataframe thead th {\n",
       "        text-align: right;\n",
       "    }\n",
       "</style>\n",
       "<table border=\"1\" class=\"dataframe\">\n",
       "  <thead>\n",
       "    <tr style=\"text-align: right;\">\n",
       "      <th></th>\n",
       "      <th>total_images</th>\n",
       "      <th>last_price</th>\n",
       "      <th>total_area</th>\n",
       "      <th>first_day_exposition</th>\n",
       "      <th>rooms</th>\n",
       "      <th>ceiling_height</th>\n",
       "      <th>floors_total</th>\n",
       "      <th>living_area</th>\n",
       "      <th>floor</th>\n",
       "      <th>is_apartment</th>\n",
       "      <th>...</th>\n",
       "      <th>kitchen_area</th>\n",
       "      <th>balcony</th>\n",
       "      <th>locality_name</th>\n",
       "      <th>airports_nearest</th>\n",
       "      <th>cityCenters_nearest</th>\n",
       "      <th>parks_around3000</th>\n",
       "      <th>parks_nearest</th>\n",
       "      <th>ponds_around3000</th>\n",
       "      <th>ponds_nearest</th>\n",
       "      <th>days_exposition</th>\n",
       "    </tr>\n",
       "  </thead>\n",
       "  <tbody>\n",
       "    <tr>\n",
       "      <th>0</th>\n",
       "      <td>20</td>\n",
       "      <td>13000000.0</td>\n",
       "      <td>108.00</td>\n",
       "      <td>2019-03-07T00:00:00</td>\n",
       "      <td>3</td>\n",
       "      <td>2.70</td>\n",
       "      <td>16.0</td>\n",
       "      <td>51.00</td>\n",
       "      <td>8</td>\n",
       "      <td>NaN</td>\n",
       "      <td>...</td>\n",
       "      <td>25.00</td>\n",
       "      <td>NaN</td>\n",
       "      <td>Санкт-Петербург</td>\n",
       "      <td>18863.0</td>\n",
       "      <td>16028.0</td>\n",
       "      <td>1.0</td>\n",
       "      <td>482.0</td>\n",
       "      <td>2.0</td>\n",
       "      <td>755.0</td>\n",
       "      <td>NaN</td>\n",
       "    </tr>\n",
       "    <tr>\n",
       "      <th>1</th>\n",
       "      <td>7</td>\n",
       "      <td>3350000.0</td>\n",
       "      <td>40.40</td>\n",
       "      <td>2018-12-04T00:00:00</td>\n",
       "      <td>1</td>\n",
       "      <td>NaN</td>\n",
       "      <td>11.0</td>\n",
       "      <td>18.60</td>\n",
       "      <td>1</td>\n",
       "      <td>NaN</td>\n",
       "      <td>...</td>\n",
       "      <td>11.00</td>\n",
       "      <td>2.0</td>\n",
       "      <td>посёлок Шушары</td>\n",
       "      <td>12817.0</td>\n",
       "      <td>18603.0</td>\n",
       "      <td>0.0</td>\n",
       "      <td>NaN</td>\n",
       "      <td>0.0</td>\n",
       "      <td>NaN</td>\n",
       "      <td>81.0</td>\n",
       "    </tr>\n",
       "    <tr>\n",
       "      <th>2</th>\n",
       "      <td>10</td>\n",
       "      <td>5196000.0</td>\n",
       "      <td>56.00</td>\n",
       "      <td>2015-08-20T00:00:00</td>\n",
       "      <td>2</td>\n",
       "      <td>NaN</td>\n",
       "      <td>5.0</td>\n",
       "      <td>34.30</td>\n",
       "      <td>4</td>\n",
       "      <td>NaN</td>\n",
       "      <td>...</td>\n",
       "      <td>8.30</td>\n",
       "      <td>0.0</td>\n",
       "      <td>Санкт-Петербург</td>\n",
       "      <td>21741.0</td>\n",
       "      <td>13933.0</td>\n",
       "      <td>1.0</td>\n",
       "      <td>90.0</td>\n",
       "      <td>2.0</td>\n",
       "      <td>574.0</td>\n",
       "      <td>558.0</td>\n",
       "    </tr>\n",
       "    <tr>\n",
       "      <th>3</th>\n",
       "      <td>0</td>\n",
       "      <td>64900000.0</td>\n",
       "      <td>159.00</td>\n",
       "      <td>2015-07-24T00:00:00</td>\n",
       "      <td>3</td>\n",
       "      <td>NaN</td>\n",
       "      <td>14.0</td>\n",
       "      <td>NaN</td>\n",
       "      <td>9</td>\n",
       "      <td>NaN</td>\n",
       "      <td>...</td>\n",
       "      <td>NaN</td>\n",
       "      <td>0.0</td>\n",
       "      <td>Санкт-Петербург</td>\n",
       "      <td>28098.0</td>\n",
       "      <td>6800.0</td>\n",
       "      <td>2.0</td>\n",
       "      <td>84.0</td>\n",
       "      <td>3.0</td>\n",
       "      <td>234.0</td>\n",
       "      <td>424.0</td>\n",
       "    </tr>\n",
       "    <tr>\n",
       "      <th>4</th>\n",
       "      <td>2</td>\n",
       "      <td>10000000.0</td>\n",
       "      <td>100.00</td>\n",
       "      <td>2018-06-19T00:00:00</td>\n",
       "      <td>2</td>\n",
       "      <td>3.03</td>\n",
       "      <td>14.0</td>\n",
       "      <td>32.00</td>\n",
       "      <td>13</td>\n",
       "      <td>NaN</td>\n",
       "      <td>...</td>\n",
       "      <td>41.00</td>\n",
       "      <td>NaN</td>\n",
       "      <td>Санкт-Петербург</td>\n",
       "      <td>31856.0</td>\n",
       "      <td>8098.0</td>\n",
       "      <td>2.0</td>\n",
       "      <td>112.0</td>\n",
       "      <td>1.0</td>\n",
       "      <td>48.0</td>\n",
       "      <td>121.0</td>\n",
       "    </tr>\n",
       "    <tr>\n",
       "      <th>5</th>\n",
       "      <td>10</td>\n",
       "      <td>2890000.0</td>\n",
       "      <td>30.40</td>\n",
       "      <td>2018-09-10T00:00:00</td>\n",
       "      <td>1</td>\n",
       "      <td>NaN</td>\n",
       "      <td>12.0</td>\n",
       "      <td>14.40</td>\n",
       "      <td>5</td>\n",
       "      <td>NaN</td>\n",
       "      <td>...</td>\n",
       "      <td>9.10</td>\n",
       "      <td>NaN</td>\n",
       "      <td>городской посёлок Янино-1</td>\n",
       "      <td>NaN</td>\n",
       "      <td>NaN</td>\n",
       "      <td>NaN</td>\n",
       "      <td>NaN</td>\n",
       "      <td>NaN</td>\n",
       "      <td>NaN</td>\n",
       "      <td>55.0</td>\n",
       "    </tr>\n",
       "    <tr>\n",
       "      <th>6</th>\n",
       "      <td>6</td>\n",
       "      <td>3700000.0</td>\n",
       "      <td>37.30</td>\n",
       "      <td>2017-11-02T00:00:00</td>\n",
       "      <td>1</td>\n",
       "      <td>NaN</td>\n",
       "      <td>26.0</td>\n",
       "      <td>10.60</td>\n",
       "      <td>6</td>\n",
       "      <td>NaN</td>\n",
       "      <td>...</td>\n",
       "      <td>14.40</td>\n",
       "      <td>1.0</td>\n",
       "      <td>посёлок Парголово</td>\n",
       "      <td>52996.0</td>\n",
       "      <td>19143.0</td>\n",
       "      <td>0.0</td>\n",
       "      <td>NaN</td>\n",
       "      <td>0.0</td>\n",
       "      <td>NaN</td>\n",
       "      <td>155.0</td>\n",
       "    </tr>\n",
       "    <tr>\n",
       "      <th>7</th>\n",
       "      <td>5</td>\n",
       "      <td>7915000.0</td>\n",
       "      <td>71.60</td>\n",
       "      <td>2019-04-18T00:00:00</td>\n",
       "      <td>2</td>\n",
       "      <td>NaN</td>\n",
       "      <td>24.0</td>\n",
       "      <td>NaN</td>\n",
       "      <td>22</td>\n",
       "      <td>NaN</td>\n",
       "      <td>...</td>\n",
       "      <td>18.90</td>\n",
       "      <td>2.0</td>\n",
       "      <td>Санкт-Петербург</td>\n",
       "      <td>23982.0</td>\n",
       "      <td>11634.0</td>\n",
       "      <td>0.0</td>\n",
       "      <td>NaN</td>\n",
       "      <td>0.0</td>\n",
       "      <td>NaN</td>\n",
       "      <td>NaN</td>\n",
       "    </tr>\n",
       "    <tr>\n",
       "      <th>8</th>\n",
       "      <td>20</td>\n",
       "      <td>2900000.0</td>\n",
       "      <td>33.16</td>\n",
       "      <td>2018-05-23T00:00:00</td>\n",
       "      <td>1</td>\n",
       "      <td>NaN</td>\n",
       "      <td>27.0</td>\n",
       "      <td>15.43</td>\n",
       "      <td>26</td>\n",
       "      <td>NaN</td>\n",
       "      <td>...</td>\n",
       "      <td>8.81</td>\n",
       "      <td>NaN</td>\n",
       "      <td>посёлок Мурино</td>\n",
       "      <td>NaN</td>\n",
       "      <td>NaN</td>\n",
       "      <td>NaN</td>\n",
       "      <td>NaN</td>\n",
       "      <td>NaN</td>\n",
       "      <td>NaN</td>\n",
       "      <td>189.0</td>\n",
       "    </tr>\n",
       "    <tr>\n",
       "      <th>9</th>\n",
       "      <td>18</td>\n",
       "      <td>5400000.0</td>\n",
       "      <td>61.00</td>\n",
       "      <td>2017-02-26T00:00:00</td>\n",
       "      <td>3</td>\n",
       "      <td>2.50</td>\n",
       "      <td>9.0</td>\n",
       "      <td>43.60</td>\n",
       "      <td>7</td>\n",
       "      <td>NaN</td>\n",
       "      <td>...</td>\n",
       "      <td>6.50</td>\n",
       "      <td>2.0</td>\n",
       "      <td>Санкт-Петербург</td>\n",
       "      <td>50898.0</td>\n",
       "      <td>15008.0</td>\n",
       "      <td>0.0</td>\n",
       "      <td>NaN</td>\n",
       "      <td>0.0</td>\n",
       "      <td>NaN</td>\n",
       "      <td>289.0</td>\n",
       "    </tr>\n",
       "    <tr>\n",
       "      <th>10</th>\n",
       "      <td>5</td>\n",
       "      <td>5050000.0</td>\n",
       "      <td>39.60</td>\n",
       "      <td>2017-11-16T00:00:00</td>\n",
       "      <td>1</td>\n",
       "      <td>2.67</td>\n",
       "      <td>12.0</td>\n",
       "      <td>20.30</td>\n",
       "      <td>3</td>\n",
       "      <td>NaN</td>\n",
       "      <td>...</td>\n",
       "      <td>8.50</td>\n",
       "      <td>NaN</td>\n",
       "      <td>Санкт-Петербург</td>\n",
       "      <td>38357.0</td>\n",
       "      <td>13878.0</td>\n",
       "      <td>1.0</td>\n",
       "      <td>310.0</td>\n",
       "      <td>2.0</td>\n",
       "      <td>553.0</td>\n",
       "      <td>137.0</td>\n",
       "    </tr>\n",
       "    <tr>\n",
       "      <th>11</th>\n",
       "      <td>9</td>\n",
       "      <td>3300000.0</td>\n",
       "      <td>44.00</td>\n",
       "      <td>2018-08-27T00:00:00</td>\n",
       "      <td>2</td>\n",
       "      <td>NaN</td>\n",
       "      <td>5.0</td>\n",
       "      <td>31.00</td>\n",
       "      <td>4</td>\n",
       "      <td>False</td>\n",
       "      <td>...</td>\n",
       "      <td>6.00</td>\n",
       "      <td>1.0</td>\n",
       "      <td>Ломоносов</td>\n",
       "      <td>48252.0</td>\n",
       "      <td>51677.0</td>\n",
       "      <td>0.0</td>\n",
       "      <td>NaN</td>\n",
       "      <td>0.0</td>\n",
       "      <td>NaN</td>\n",
       "      <td>7.0</td>\n",
       "    </tr>\n",
       "    <tr>\n",
       "      <th>12</th>\n",
       "      <td>10</td>\n",
       "      <td>3890000.0</td>\n",
       "      <td>54.00</td>\n",
       "      <td>2016-06-30T00:00:00</td>\n",
       "      <td>2</td>\n",
       "      <td>NaN</td>\n",
       "      <td>5.0</td>\n",
       "      <td>30.00</td>\n",
       "      <td>5</td>\n",
       "      <td>NaN</td>\n",
       "      <td>...</td>\n",
       "      <td>9.00</td>\n",
       "      <td>0.0</td>\n",
       "      <td>Сертолово</td>\n",
       "      <td>NaN</td>\n",
       "      <td>NaN</td>\n",
       "      <td>NaN</td>\n",
       "      <td>NaN</td>\n",
       "      <td>NaN</td>\n",
       "      <td>NaN</td>\n",
       "      <td>90.0</td>\n",
       "    </tr>\n",
       "    <tr>\n",
       "      <th>13</th>\n",
       "      <td>20</td>\n",
       "      <td>3550000.0</td>\n",
       "      <td>42.80</td>\n",
       "      <td>2017-07-01T00:00:00</td>\n",
       "      <td>2</td>\n",
       "      <td>2.56</td>\n",
       "      <td>5.0</td>\n",
       "      <td>27.00</td>\n",
       "      <td>5</td>\n",
       "      <td>NaN</td>\n",
       "      <td>...</td>\n",
       "      <td>5.20</td>\n",
       "      <td>1.0</td>\n",
       "      <td>Петергоф</td>\n",
       "      <td>37868.0</td>\n",
       "      <td>33058.0</td>\n",
       "      <td>1.0</td>\n",
       "      <td>294.0</td>\n",
       "      <td>3.0</td>\n",
       "      <td>298.0</td>\n",
       "      <td>366.0</td>\n",
       "    </tr>\n",
       "    <tr>\n",
       "      <th>14</th>\n",
       "      <td>1</td>\n",
       "      <td>4400000.0</td>\n",
       "      <td>36.00</td>\n",
       "      <td>2016-06-23T00:00:00</td>\n",
       "      <td>1</td>\n",
       "      <td>NaN</td>\n",
       "      <td>6.0</td>\n",
       "      <td>17.00</td>\n",
       "      <td>1</td>\n",
       "      <td>NaN</td>\n",
       "      <td>...</td>\n",
       "      <td>8.00</td>\n",
       "      <td>0.0</td>\n",
       "      <td>Пушкин</td>\n",
       "      <td>20782.0</td>\n",
       "      <td>30759.0</td>\n",
       "      <td>0.0</td>\n",
       "      <td>NaN</td>\n",
       "      <td>1.0</td>\n",
       "      <td>96.0</td>\n",
       "      <td>203.0</td>\n",
       "    </tr>\n",
       "  </tbody>\n",
       "</table>\n",
       "<p>15 rows × 22 columns</p>\n",
       "</div>"
      ],
      "text/plain": [
       "    total_images  last_price  total_area first_day_exposition  rooms  \\\n",
       "0             20  13000000.0      108.00  2019-03-07T00:00:00      3   \n",
       "1              7   3350000.0       40.40  2018-12-04T00:00:00      1   \n",
       "2             10   5196000.0       56.00  2015-08-20T00:00:00      2   \n",
       "3              0  64900000.0      159.00  2015-07-24T00:00:00      3   \n",
       "4              2  10000000.0      100.00  2018-06-19T00:00:00      2   \n",
       "5             10   2890000.0       30.40  2018-09-10T00:00:00      1   \n",
       "6              6   3700000.0       37.30  2017-11-02T00:00:00      1   \n",
       "7              5   7915000.0       71.60  2019-04-18T00:00:00      2   \n",
       "8             20   2900000.0       33.16  2018-05-23T00:00:00      1   \n",
       "9             18   5400000.0       61.00  2017-02-26T00:00:00      3   \n",
       "10             5   5050000.0       39.60  2017-11-16T00:00:00      1   \n",
       "11             9   3300000.0       44.00  2018-08-27T00:00:00      2   \n",
       "12            10   3890000.0       54.00  2016-06-30T00:00:00      2   \n",
       "13            20   3550000.0       42.80  2017-07-01T00:00:00      2   \n",
       "14             1   4400000.0       36.00  2016-06-23T00:00:00      1   \n",
       "\n",
       "    ceiling_height  floors_total  living_area  floor is_apartment  ...  \\\n",
       "0             2.70          16.0        51.00      8          NaN  ...   \n",
       "1              NaN          11.0        18.60      1          NaN  ...   \n",
       "2              NaN           5.0        34.30      4          NaN  ...   \n",
       "3              NaN          14.0          NaN      9          NaN  ...   \n",
       "4             3.03          14.0        32.00     13          NaN  ...   \n",
       "5              NaN          12.0        14.40      5          NaN  ...   \n",
       "6              NaN          26.0        10.60      6          NaN  ...   \n",
       "7              NaN          24.0          NaN     22          NaN  ...   \n",
       "8              NaN          27.0        15.43     26          NaN  ...   \n",
       "9             2.50           9.0        43.60      7          NaN  ...   \n",
       "10            2.67          12.0        20.30      3          NaN  ...   \n",
       "11             NaN           5.0        31.00      4        False  ...   \n",
       "12             NaN           5.0        30.00      5          NaN  ...   \n",
       "13            2.56           5.0        27.00      5          NaN  ...   \n",
       "14             NaN           6.0        17.00      1          NaN  ...   \n",
       "\n",
       "    kitchen_area  balcony              locality_name  airports_nearest  \\\n",
       "0          25.00      NaN            Санкт-Петербург           18863.0   \n",
       "1          11.00      2.0             посёлок Шушары           12817.0   \n",
       "2           8.30      0.0            Санкт-Петербург           21741.0   \n",
       "3            NaN      0.0            Санкт-Петербург           28098.0   \n",
       "4          41.00      NaN            Санкт-Петербург           31856.0   \n",
       "5           9.10      NaN  городской посёлок Янино-1               NaN   \n",
       "6          14.40      1.0          посёлок Парголово           52996.0   \n",
       "7          18.90      2.0            Санкт-Петербург           23982.0   \n",
       "8           8.81      NaN             посёлок Мурино               NaN   \n",
       "9           6.50      2.0            Санкт-Петербург           50898.0   \n",
       "10          8.50      NaN            Санкт-Петербург           38357.0   \n",
       "11          6.00      1.0                  Ломоносов           48252.0   \n",
       "12          9.00      0.0                  Сертолово               NaN   \n",
       "13          5.20      1.0                   Петергоф           37868.0   \n",
       "14          8.00      0.0                     Пушкин           20782.0   \n",
       "\n",
       "   cityCenters_nearest  parks_around3000  parks_nearest  ponds_around3000  \\\n",
       "0              16028.0               1.0          482.0               2.0   \n",
       "1              18603.0               0.0            NaN               0.0   \n",
       "2              13933.0               1.0           90.0               2.0   \n",
       "3               6800.0               2.0           84.0               3.0   \n",
       "4               8098.0               2.0          112.0               1.0   \n",
       "5                  NaN               NaN            NaN               NaN   \n",
       "6              19143.0               0.0            NaN               0.0   \n",
       "7              11634.0               0.0            NaN               0.0   \n",
       "8                  NaN               NaN            NaN               NaN   \n",
       "9              15008.0               0.0            NaN               0.0   \n",
       "10             13878.0               1.0          310.0               2.0   \n",
       "11             51677.0               0.0            NaN               0.0   \n",
       "12                 NaN               NaN            NaN               NaN   \n",
       "13             33058.0               1.0          294.0               3.0   \n",
       "14             30759.0               0.0            NaN               1.0   \n",
       "\n",
       "    ponds_nearest  days_exposition  \n",
       "0           755.0              NaN  \n",
       "1             NaN             81.0  \n",
       "2           574.0            558.0  \n",
       "3           234.0            424.0  \n",
       "4            48.0            121.0  \n",
       "5             NaN             55.0  \n",
       "6             NaN            155.0  \n",
       "7             NaN              NaN  \n",
       "8             NaN            189.0  \n",
       "9             NaN            289.0  \n",
       "10          553.0            137.0  \n",
       "11            NaN              7.0  \n",
       "12            NaN             90.0  \n",
       "13          298.0            366.0  \n",
       "14           96.0            203.0  \n",
       "\n",
       "[15 rows x 22 columns]"
      ]
     },
     "execution_count": 3,
     "metadata": {},
     "output_type": "execute_result"
    }
   ],
   "source": [
    "df.head(15)#выводим первые 15 строк таблицы c данными"
   ]
  },
  {
   "cell_type": "code",
   "execution_count": 4,
   "metadata": {},
   "outputs": [
    {
     "name": "stdout",
     "output_type": "stream",
     "text": [
      "<class 'pandas.core.frame.DataFrame'>\n",
      "RangeIndex: 23699 entries, 0 to 23698\n",
      "Data columns (total 22 columns):\n",
      " #   Column                Non-Null Count  Dtype  \n",
      "---  ------                --------------  -----  \n",
      " 0   total_images          23699 non-null  int64  \n",
      " 1   last_price            23699 non-null  float64\n",
      " 2   total_area            23699 non-null  float64\n",
      " 3   first_day_exposition  23699 non-null  object \n",
      " 4   rooms                 23699 non-null  int64  \n",
      " 5   ceiling_height        14504 non-null  float64\n",
      " 6   floors_total          23613 non-null  float64\n",
      " 7   living_area           21796 non-null  float64\n",
      " 8   floor                 23699 non-null  int64  \n",
      " 9   is_apartment          2775 non-null   object \n",
      " 10  studio                23699 non-null  bool   \n",
      " 11  open_plan             23699 non-null  bool   \n",
      " 12  kitchen_area          21421 non-null  float64\n",
      " 13  balcony               12180 non-null  float64\n",
      " 14  locality_name         23650 non-null  object \n",
      " 15  airports_nearest      18157 non-null  float64\n",
      " 16  cityCenters_nearest   18180 non-null  float64\n",
      " 17  parks_around3000      18181 non-null  float64\n",
      " 18  parks_nearest         8079 non-null   float64\n",
      " 19  ponds_around3000      18181 non-null  float64\n",
      " 20  ponds_nearest         9110 non-null   float64\n",
      " 21  days_exposition       20518 non-null  float64\n",
      "dtypes: bool(2), float64(14), int64(3), object(3)\n",
      "memory usage: 3.7+ MB\n"
     ]
    }
   ],
   "source": [
    "df.info()#получаем общую информацию о таблице"
   ]
  },
  {
   "cell_type": "markdown",
   "metadata": {},
   "source": [
    "### Вывод"
   ]
  },
  {
   "cell_type": "markdown",
   "metadata": {},
   "source": [
    "**Мы имеем таблицу, в которой 22 столбца, 23699 строк(записей). Так же 4 типа данных: `bool(2)`, `float64(14)`, `int64(3)`, `object(3)`**"
   ]
  },
  {
   "cell_type": "markdown",
   "metadata": {},
   "source": [
    "* `airports_nearest` — расстояние до ближайшего аэропорта в метрах (м)*\n",
    "* `balcony` — число балконов\n",
    "* `ceiling_height` — высота потолков (м)\n",
    "* `cityCenters_nearest` — расстояние до центра города (м)\n",
    "* `days_exposition` — сколько дней было размещено объявление (от публикации до снятия)\n",
    "* `first_day_exposition` — дата публикации\n",
    "* `floor` — этаж\n",
    "* `floors_total` — всего этажей в доме\n",
    "* `is_apartment` — апартаменты (булев тип)\n",
    "* `kitchen_area` — площадь кухни в квадратных метрах (м²)\n",
    "* `last_price` — цена на момент снятия с публикации\n",
    "* `living_area` — жилая площадь в квадратных метрах (м²)\n",
    "* `locality_name` — название населённого пункта\n",
    "* `open_plan` — свободная планировка (булев тип)\n",
    "* `parks_around3000` — число парков в радиусе 3 км\n",
    "* `parks_nearest` — расстояние до ближайшего парка (м)\n",
    "* `ponds_around3000` — число водоёмов в радиусе 3 км\n",
    "* `ponds_nearest` — расстояние до ближайшего водоёма (м)\n",
    "* `rooms` — число комнат\n",
    "* `studio` — квартира-студия (булев тип)\n",
    "* `total_area` — площадь квартиры в квадратных метрах (м²)\n",
    "* `total_images` — число фотографий квартиры в объявлении"
   ]
  },
  {
   "cell_type": "markdown",
   "metadata": {},
   "source": [
    "**В некоторых столбдцах имеются пропуски значений**"
   ]
  },
  {
   "cell_type": "markdown",
   "metadata": {},
   "source": [
    "* `ceiling_height`\n",
    "* `floors_total`\n",
    "* `living_area`\n",
    "* `is_apartment`\n",
    "* `kitchen_area`\n",
    "* `balcony`\n",
    "* `locality_name`\n",
    "* `airports_nearest`\n",
    "* `cityCenters_nearest`\n",
    "* `open_plan`\n",
    "* `parks_around3000`\n",
    "* `parks_nearest`\n",
    "* `ponds_around3000`\n",
    "* `ponds_nearest`\n",
    "* `days_exposition`\n",
    "\n",
    "**Для дальнейшего продвижения нужно устранить проблемы в данных.**"
   ]
  },
  {
   "cell_type": "markdown",
   "metadata": {},
   "source": [
    "## Предобработка данных"
   ]
  },
  {
   "cell_type": "markdown",
   "metadata": {},
   "source": [
    "**2.1 Определяем и изучаем пропущенные значения**"
   ]
  },
  {
   "cell_type": "code",
   "execution_count": 5,
   "metadata": {},
   "outputs": [
    {
     "data": {
      "text/plain": [
       "total_images                0\n",
       "last_price                  0\n",
       "total_area                  0\n",
       "first_day_exposition        0\n",
       "rooms                       0\n",
       "ceiling_height           9195\n",
       "floors_total               86\n",
       "living_area              1903\n",
       "floor                       0\n",
       "is_apartment            20924\n",
       "studio                      0\n",
       "open_plan                   0\n",
       "kitchen_area             2278\n",
       "balcony                 11519\n",
       "locality_name              49\n",
       "airports_nearest         5542\n",
       "cityCenters_nearest      5519\n",
       "parks_around3000         5518\n",
       "parks_nearest           15620\n",
       "ponds_around3000         5518\n",
       "ponds_nearest           14589\n",
       "days_exposition          3181\n",
       "dtype: int64"
      ]
     },
     "execution_count": 5,
     "metadata": {},
     "output_type": "execute_result"
    }
   ],
   "source": [
    "df.isna().sum() #находим пропущенные значения(где и сколько)"
   ]
  },
  {
   "cell_type": "markdown",
   "metadata": {},
   "source": [
    "**Обнаружены пропуски в столбцах: `ceiling_height`, `floors_total`, `living_area`, `is_apartment`, `kitchen_area`, `balcony`, `locality_name`, `airports_nearest`, `cityCenters_nearest`, `parks_around3000`, `parks_nearest`, `ponds_around3000`, `ponds_nearest`, `days_exposition`.**"
   ]
  },
  {
   "cell_type": "markdown",
   "metadata": {},
   "source": [
    "**Хочется псмотреть долю пропусков в процентах**"
   ]
  },
  {
   "cell_type": "code",
   "execution_count": 6,
   "metadata": {},
   "outputs": [
    {
     "data": {
      "text/plain": [
       "total_images             0.0\n",
       "last_price               0.0\n",
       "total_area               0.0\n",
       "first_day_exposition     0.0\n",
       "rooms                    0.0\n",
       "ceiling_height          38.8\n",
       "floors_total             0.4\n",
       "living_area              8.0\n",
       "floor                    0.0\n",
       "is_apartment            88.3\n",
       "studio                   0.0\n",
       "open_plan                0.0\n",
       "kitchen_area             9.6\n",
       "balcony                 48.6\n",
       "locality_name            0.2\n",
       "airports_nearest        23.4\n",
       "cityCenters_nearest     23.3\n",
       "parks_around3000        23.3\n",
       "parks_nearest           65.9\n",
       "ponds_around3000        23.3\n",
       "ponds_nearest           61.6\n",
       "days_exposition         13.4\n",
       "dtype: float64"
      ]
     },
     "execution_count": 6,
     "metadata": {},
     "output_type": "execute_result"
    }
   ],
   "source": [
    "round(df.isna().mean()*100,1)"
   ]
  },
  {
   "cell_type": "code",
   "execution_count": 7,
   "metadata": {},
   "outputs": [
    {
     "data": {
      "text/html": [
       "<style  type=\"text/css\" >\n",
       "#T_c34df_row0_col0,#T_c34df_row1_col0,#T_c34df_row2_col0,#T_c34df_row3_col0,#T_c34df_row4_col0,#T_c34df_row8_col0,#T_c34df_row10_col0,#T_c34df_row11_col0,#T_c34df_row14_col0{\n",
       "            background-color:  #3b4cc0;\n",
       "            color:  #f1f1f1;\n",
       "        }#T_c34df_row5_col0{\n",
       "            background-color:  #ccd9ed;\n",
       "            color:  #000000;\n",
       "        }#T_c34df_row6_col0{\n",
       "            background-color:  #3c4ec2;\n",
       "            color:  #f1f1f1;\n",
       "        }#T_c34df_row7_col0{\n",
       "            background-color:  #5673e0;\n",
       "            color:  #000000;\n",
       "        }#T_c34df_row9_col0{\n",
       "            background-color:  #b40426;\n",
       "            color:  #f1f1f1;\n",
       "        }#T_c34df_row12_col0{\n",
       "            background-color:  #5b7ae5;\n",
       "            color:  #000000;\n",
       "        }#T_c34df_row13_col0{\n",
       "            background-color:  #e9d5cb;\n",
       "            color:  #000000;\n",
       "        }#T_c34df_row15_col0,#T_c34df_row16_col0,#T_c34df_row17_col0,#T_c34df_row19_col0{\n",
       "            background-color:  #92b4fe;\n",
       "            color:  #000000;\n",
       "        }#T_c34df_row18_col0{\n",
       "            background-color:  #f49a7b;\n",
       "            color:  #000000;\n",
       "        }#T_c34df_row20_col0{\n",
       "            background-color:  #f7ad90;\n",
       "            color:  #000000;\n",
       "        }#T_c34df_row21_col0{\n",
       "            background-color:  #6a8bef;\n",
       "            color:  #000000;\n",
       "        }</style><table id=\"T_c34df_\" ><thead>    <tr>        <th class=\"blank level0\" ></th>        <th class=\"col_heading level0 col0\" >0</th>    </tr></thead><tbody>\n",
       "                <tr>\n",
       "                        <th id=\"T_c34df_level0_row0\" class=\"row_heading level0 row0\" >total_images</th>\n",
       "                        <td id=\"T_c34df_row0_col0\" class=\"data row0 col0\" >0.000000</td>\n",
       "            </tr>\n",
       "            <tr>\n",
       "                        <th id=\"T_c34df_level0_row1\" class=\"row_heading level0 row1\" >last_price</th>\n",
       "                        <td id=\"T_c34df_row1_col0\" class=\"data row1 col0\" >0.000000</td>\n",
       "            </tr>\n",
       "            <tr>\n",
       "                        <th id=\"T_c34df_level0_row2\" class=\"row_heading level0 row2\" >total_area</th>\n",
       "                        <td id=\"T_c34df_row2_col0\" class=\"data row2 col0\" >0.000000</td>\n",
       "            </tr>\n",
       "            <tr>\n",
       "                        <th id=\"T_c34df_level0_row3\" class=\"row_heading level0 row3\" >first_day_exposition</th>\n",
       "                        <td id=\"T_c34df_row3_col0\" class=\"data row3 col0\" >0.000000</td>\n",
       "            </tr>\n",
       "            <tr>\n",
       "                        <th id=\"T_c34df_level0_row4\" class=\"row_heading level0 row4\" >rooms</th>\n",
       "                        <td id=\"T_c34df_row4_col0\" class=\"data row4 col0\" >0.000000</td>\n",
       "            </tr>\n",
       "            <tr>\n",
       "                        <th id=\"T_c34df_level0_row5\" class=\"row_heading level0 row5\" >ceiling_height</th>\n",
       "                        <td id=\"T_c34df_row5_col0\" class=\"data row5 col0\" >38.800000</td>\n",
       "            </tr>\n",
       "            <tr>\n",
       "                        <th id=\"T_c34df_level0_row6\" class=\"row_heading level0 row6\" >floors_total</th>\n",
       "                        <td id=\"T_c34df_row6_col0\" class=\"data row6 col0\" >0.400000</td>\n",
       "            </tr>\n",
       "            <tr>\n",
       "                        <th id=\"T_c34df_level0_row7\" class=\"row_heading level0 row7\" >living_area</th>\n",
       "                        <td id=\"T_c34df_row7_col0\" class=\"data row7 col0\" >8.000000</td>\n",
       "            </tr>\n",
       "            <tr>\n",
       "                        <th id=\"T_c34df_level0_row8\" class=\"row_heading level0 row8\" >floor</th>\n",
       "                        <td id=\"T_c34df_row8_col0\" class=\"data row8 col0\" >0.000000</td>\n",
       "            </tr>\n",
       "            <tr>\n",
       "                        <th id=\"T_c34df_level0_row9\" class=\"row_heading level0 row9\" >is_apartment</th>\n",
       "                        <td id=\"T_c34df_row9_col0\" class=\"data row9 col0\" >88.300000</td>\n",
       "            </tr>\n",
       "            <tr>\n",
       "                        <th id=\"T_c34df_level0_row10\" class=\"row_heading level0 row10\" >studio</th>\n",
       "                        <td id=\"T_c34df_row10_col0\" class=\"data row10 col0\" >0.000000</td>\n",
       "            </tr>\n",
       "            <tr>\n",
       "                        <th id=\"T_c34df_level0_row11\" class=\"row_heading level0 row11\" >open_plan</th>\n",
       "                        <td id=\"T_c34df_row11_col0\" class=\"data row11 col0\" >0.000000</td>\n",
       "            </tr>\n",
       "            <tr>\n",
       "                        <th id=\"T_c34df_level0_row12\" class=\"row_heading level0 row12\" >kitchen_area</th>\n",
       "                        <td id=\"T_c34df_row12_col0\" class=\"data row12 col0\" >9.600000</td>\n",
       "            </tr>\n",
       "            <tr>\n",
       "                        <th id=\"T_c34df_level0_row13\" class=\"row_heading level0 row13\" >balcony</th>\n",
       "                        <td id=\"T_c34df_row13_col0\" class=\"data row13 col0\" >48.600000</td>\n",
       "            </tr>\n",
       "            <tr>\n",
       "                        <th id=\"T_c34df_level0_row14\" class=\"row_heading level0 row14\" >locality_name</th>\n",
       "                        <td id=\"T_c34df_row14_col0\" class=\"data row14 col0\" >0.200000</td>\n",
       "            </tr>\n",
       "            <tr>\n",
       "                        <th id=\"T_c34df_level0_row15\" class=\"row_heading level0 row15\" >airports_nearest</th>\n",
       "                        <td id=\"T_c34df_row15_col0\" class=\"data row15 col0\" >23.400000</td>\n",
       "            </tr>\n",
       "            <tr>\n",
       "                        <th id=\"T_c34df_level0_row16\" class=\"row_heading level0 row16\" >cityCenters_nearest</th>\n",
       "                        <td id=\"T_c34df_row16_col0\" class=\"data row16 col0\" >23.300000</td>\n",
       "            </tr>\n",
       "            <tr>\n",
       "                        <th id=\"T_c34df_level0_row17\" class=\"row_heading level0 row17\" >parks_around3000</th>\n",
       "                        <td id=\"T_c34df_row17_col0\" class=\"data row17 col0\" >23.300000</td>\n",
       "            </tr>\n",
       "            <tr>\n",
       "                        <th id=\"T_c34df_level0_row18\" class=\"row_heading level0 row18\" >parks_nearest</th>\n",
       "                        <td id=\"T_c34df_row18_col0\" class=\"data row18 col0\" >65.900000</td>\n",
       "            </tr>\n",
       "            <tr>\n",
       "                        <th id=\"T_c34df_level0_row19\" class=\"row_heading level0 row19\" >ponds_around3000</th>\n",
       "                        <td id=\"T_c34df_row19_col0\" class=\"data row19 col0\" >23.300000</td>\n",
       "            </tr>\n",
       "            <tr>\n",
       "                        <th id=\"T_c34df_level0_row20\" class=\"row_heading level0 row20\" >ponds_nearest</th>\n",
       "                        <td id=\"T_c34df_row20_col0\" class=\"data row20 col0\" >61.600000</td>\n",
       "            </tr>\n",
       "            <tr>\n",
       "                        <th id=\"T_c34df_level0_row21\" class=\"row_heading level0 row21\" >days_exposition</th>\n",
       "                        <td id=\"T_c34df_row21_col0\" class=\"data row21 col0\" >13.400000</td>\n",
       "            </tr>\n",
       "    </tbody></table>"
      ],
      "text/plain": [
       "<pandas.io.formats.style.Styler at 0x2dc2d30b9d0>"
      ]
     },
     "execution_count": 7,
     "metadata": {},
     "output_type": "execute_result"
    }
   ],
   "source": [
    "pd.DataFrame(round(df.isna().mean()*100,1)).style.background_gradient('coolwarm')# темным цветом подсветка 0 или ближе к 0, \n",
    "#желтым и красным цветами большие значения соответственно."
   ]
  },
  {
   "cell_type": "markdown",
   "metadata": {},
   "source": [
    "**Принимаю решение обрабатывать столбцы, доля пропусков которых меньше 5%, а именно:**\n",
    "* `floors_total`, `locality_name`(удалим пропуски через dropna)\n",
    "**За исключением:**\n",
    "* `balcony`(по заданию правильно заменить на 0)\n",
    "* `ceiling_height`(в большинстве своём имеет одинаковое значение, заменим на медиану)\n",
    "* `is_apartment`(меняем на False)\n",
    "* `days_exposition`(меняем на 0, так как объяление может еще висеть после продажи, либо сегодня разместили и сегодня сняли.\n",
    "\n",
    "**parks_around3000 и ponds_around3000 имеют одиниковое кол-во пропусков. Вероятнее всего это вызвано технической ошибкой. Т.к. они взаимосвязаны между собой. Меня на медианные значения смысла не вижу, оставим как есть.**\n"
   ]
  },
  {
   "cell_type": "markdown",
   "metadata": {},
   "source": [
    "**Удалим строки с пропусками в столбце `locality_name` и `floors_total`**"
   ]
  },
  {
   "cell_type": "code",
   "execution_count": 8,
   "metadata": {},
   "outputs": [],
   "source": [
    "df = df.dropna(subset = ['locality_name', 'floors_total'])"
   ]
  },
  {
   "cell_type": "markdown",
   "metadata": {},
   "source": [
    "**Заменяем пропуски в столбце `balcony` на 0 по заданию и приводим его к типу int**"
   ]
  },
  {
   "cell_type": "code",
   "execution_count": 9,
   "metadata": {},
   "outputs": [],
   "source": [
    "df['balcony'] = df['balcony'].fillna(0).astype(int) #заменяем пропуски в столбце balcony на ноль"
   ]
  },
  {
   "cell_type": "markdown",
   "metadata": {},
   "source": [
    "**Заменяем пропуски в столбце `ceiling_height` медианой так, как потолки во всех квартирах одинаковы, уникальность низкая**"
   ]
  },
  {
   "cell_type": "code",
   "execution_count": 10,
   "metadata": {},
   "outputs": [],
   "source": [
    "df.loc[df['ceiling_height'].isna(), 'ceiling_height'] = df['ceiling_height'].median()\n"
   ]
  },
  {
   "cell_type": "markdown",
   "metadata": {},
   "source": [
    "**Заменяем пропуски в столбце `is_apartment` на False**"
   ]
  },
  {
   "cell_type": "code",
   "execution_count": 11,
   "metadata": {},
   "outputs": [],
   "source": [
    "df['is_apartment'] = df['is_apartment'].fillna(False)"
   ]
  },
  {
   "cell_type": "markdown",
   "metadata": {},
   "source": [
    "**Заменяем пропуски в столбце `days_exposition` на 0**"
   ]
  },
  {
   "cell_type": "code",
   "execution_count": 12,
   "metadata": {},
   "outputs": [],
   "source": [
    "df['days_exposition'] = df['days_exposition'].fillna(0)"
   ]
  },
  {
   "cell_type": "markdown",
   "metadata": {},
   "source": [
    "**В столбцах living_area и kitchen_area пропущенные значения заменим на медианные в зависимости от количества комнат. Сделаем это циклом через loc. Однако предварительно нужно заменить значение 0 на значение 1 в столбце rooms (т.к. не бывает квартир без комнат).**"
   ]
  },
  {
   "cell_type": "code",
   "execution_count": 13,
   "metadata": {},
   "outputs": [],
   "source": [
    "df['rooms'] = df['rooms'].replace(0, 1)\n",
    "for row in df['rooms'].unique():\n",
    "    df.loc[df['kitchen_area'].isna() & (df['rooms']==row), 'kitchen_area'] = df.loc[df['rooms']==row, 'kitchen_area'].median()\n",
    "    df.loc[df['living_area'].isna() & (df['rooms']==row), 'living_area'] = df.loc[df['rooms']==row, 'living_area'].median()"
   ]
  },
  {
   "cell_type": "code",
   "execution_count": 14,
   "metadata": {},
   "outputs": [
    {
     "data": {
      "text/plain": [
       "total_images             0.0\n",
       "last_price               0.0\n",
       "total_area               0.0\n",
       "first_day_exposition     0.0\n",
       "rooms                    0.0\n",
       "ceiling_height           0.0\n",
       "floors_total             0.0\n",
       "living_area              0.0\n",
       "floor                    0.0\n",
       "is_apartment             0.0\n",
       "studio                   0.0\n",
       "open_plan                0.0\n",
       "kitchen_area             0.0\n",
       "balcony                  0.0\n",
       "locality_name            0.0\n",
       "airports_nearest        23.4\n",
       "cityCenters_nearest     23.3\n",
       "parks_around3000        23.3\n",
       "parks_nearest           65.9\n",
       "ponds_around3000        23.3\n",
       "ponds_nearest           61.7\n",
       "days_exposition          0.0\n",
       "dtype: float64"
      ]
     },
     "execution_count": 14,
     "metadata": {},
     "output_type": "execute_result"
    }
   ],
   "source": [
    "round(df.isna().mean()*100,1)"
   ]
  },
  {
   "cell_type": "markdown",
   "metadata": {},
   "source": [
    "**Пропуски в оставшихся столбцах трогать не станем - очень уж большой в них процент пропусков, и совершенно непонятно, чем его замещать. Хотя и можно заполнить их медианными значениями или, к примеру \"-1\", но я не уверен в верности этого решения.**"
   ]
  },
  {
   "cell_type": "markdown",
   "metadata": {},
   "source": [
    "**2.1 Замена типов данных**"
   ]
  },
  {
   "cell_type": "markdown",
   "metadata": {},
   "source": [
    "**Заменим тип данных в столбце is_apartment на bool - это логично, т.к. теперь там значения лишь True и False.**"
   ]
  },
  {
   "cell_type": "code",
   "execution_count": 15,
   "metadata": {},
   "outputs": [],
   "source": [
    "df['is_apartment'] = df['is_apartment'].astype('bool')"
   ]
  },
  {
   "cell_type": "markdown",
   "metadata": {},
   "source": [
    "**В столбце `first_day_exposition` заменим тим данных на datetime64 - это нужно для дальнейшней работы.**"
   ]
  },
  {
   "cell_type": "code",
   "execution_count": 16,
   "metadata": {},
   "outputs": [],
   "source": [
    "df['first_day_exposition'] = pd.to_datetime(df['first_day_exposition'], format = '%Y-%m-%d')"
   ]
  },
  {
   "cell_type": "code",
   "execution_count": 17,
   "metadata": {},
   "outputs": [
    {
     "data": {
      "text/html": [
       "<div>\n",
       "<style scoped>\n",
       "    .dataframe tbody tr th:only-of-type {\n",
       "        vertical-align: middle;\n",
       "    }\n",
       "\n",
       "    .dataframe tbody tr th {\n",
       "        vertical-align: top;\n",
       "    }\n",
       "\n",
       "    .dataframe thead th {\n",
       "        text-align: right;\n",
       "    }\n",
       "</style>\n",
       "<table border=\"1\" class=\"dataframe\">\n",
       "  <thead>\n",
       "    <tr style=\"text-align: right;\">\n",
       "      <th></th>\n",
       "      <th>total_images</th>\n",
       "      <th>last_price</th>\n",
       "      <th>total_area</th>\n",
       "      <th>first_day_exposition</th>\n",
       "      <th>rooms</th>\n",
       "      <th>ceiling_height</th>\n",
       "      <th>floors_total</th>\n",
       "      <th>living_area</th>\n",
       "      <th>floor</th>\n",
       "      <th>is_apartment</th>\n",
       "      <th>...</th>\n",
       "      <th>kitchen_area</th>\n",
       "      <th>balcony</th>\n",
       "      <th>locality_name</th>\n",
       "      <th>airports_nearest</th>\n",
       "      <th>cityCenters_nearest</th>\n",
       "      <th>parks_around3000</th>\n",
       "      <th>parks_nearest</th>\n",
       "      <th>ponds_around3000</th>\n",
       "      <th>ponds_nearest</th>\n",
       "      <th>days_exposition</th>\n",
       "    </tr>\n",
       "  </thead>\n",
       "  <tbody>\n",
       "    <tr>\n",
       "      <th>0</th>\n",
       "      <td>20</td>\n",
       "      <td>13000000.0</td>\n",
       "      <td>108.0</td>\n",
       "      <td>2019-03-07</td>\n",
       "      <td>3</td>\n",
       "      <td>2.70</td>\n",
       "      <td>16.0</td>\n",
       "      <td>51.0</td>\n",
       "      <td>8</td>\n",
       "      <td>False</td>\n",
       "      <td>...</td>\n",
       "      <td>25.0</td>\n",
       "      <td>0</td>\n",
       "      <td>Санкт-Петербург</td>\n",
       "      <td>18863.0</td>\n",
       "      <td>16028.0</td>\n",
       "      <td>1.0</td>\n",
       "      <td>482.0</td>\n",
       "      <td>2.0</td>\n",
       "      <td>755.0</td>\n",
       "      <td>0.0</td>\n",
       "    </tr>\n",
       "    <tr>\n",
       "      <th>1</th>\n",
       "      <td>7</td>\n",
       "      <td>3350000.0</td>\n",
       "      <td>40.4</td>\n",
       "      <td>2018-12-04</td>\n",
       "      <td>1</td>\n",
       "      <td>2.65</td>\n",
       "      <td>11.0</td>\n",
       "      <td>18.6</td>\n",
       "      <td>1</td>\n",
       "      <td>False</td>\n",
       "      <td>...</td>\n",
       "      <td>11.0</td>\n",
       "      <td>2</td>\n",
       "      <td>посёлок Шушары</td>\n",
       "      <td>12817.0</td>\n",
       "      <td>18603.0</td>\n",
       "      <td>0.0</td>\n",
       "      <td>NaN</td>\n",
       "      <td>0.0</td>\n",
       "      <td>NaN</td>\n",
       "      <td>81.0</td>\n",
       "    </tr>\n",
       "    <tr>\n",
       "      <th>2</th>\n",
       "      <td>10</td>\n",
       "      <td>5196000.0</td>\n",
       "      <td>56.0</td>\n",
       "      <td>2015-08-20</td>\n",
       "      <td>2</td>\n",
       "      <td>2.65</td>\n",
       "      <td>5.0</td>\n",
       "      <td>34.3</td>\n",
       "      <td>4</td>\n",
       "      <td>False</td>\n",
       "      <td>...</td>\n",
       "      <td>8.3</td>\n",
       "      <td>0</td>\n",
       "      <td>Санкт-Петербург</td>\n",
       "      <td>21741.0</td>\n",
       "      <td>13933.0</td>\n",
       "      <td>1.0</td>\n",
       "      <td>90.0</td>\n",
       "      <td>2.0</td>\n",
       "      <td>574.0</td>\n",
       "      <td>558.0</td>\n",
       "    </tr>\n",
       "    <tr>\n",
       "      <th>3</th>\n",
       "      <td>0</td>\n",
       "      <td>64900000.0</td>\n",
       "      <td>159.0</td>\n",
       "      <td>2015-07-24</td>\n",
       "      <td>3</td>\n",
       "      <td>2.65</td>\n",
       "      <td>14.0</td>\n",
       "      <td>45.0</td>\n",
       "      <td>9</td>\n",
       "      <td>False</td>\n",
       "      <td>...</td>\n",
       "      <td>9.5</td>\n",
       "      <td>0</td>\n",
       "      <td>Санкт-Петербург</td>\n",
       "      <td>28098.0</td>\n",
       "      <td>6800.0</td>\n",
       "      <td>2.0</td>\n",
       "      <td>84.0</td>\n",
       "      <td>3.0</td>\n",
       "      <td>234.0</td>\n",
       "      <td>424.0</td>\n",
       "    </tr>\n",
       "    <tr>\n",
       "      <th>4</th>\n",
       "      <td>2</td>\n",
       "      <td>10000000.0</td>\n",
       "      <td>100.0</td>\n",
       "      <td>2018-06-19</td>\n",
       "      <td>2</td>\n",
       "      <td>3.03</td>\n",
       "      <td>14.0</td>\n",
       "      <td>32.0</td>\n",
       "      <td>13</td>\n",
       "      <td>False</td>\n",
       "      <td>...</td>\n",
       "      <td>41.0</td>\n",
       "      <td>0</td>\n",
       "      <td>Санкт-Петербург</td>\n",
       "      <td>31856.0</td>\n",
       "      <td>8098.0</td>\n",
       "      <td>2.0</td>\n",
       "      <td>112.0</td>\n",
       "      <td>1.0</td>\n",
       "      <td>48.0</td>\n",
       "      <td>121.0</td>\n",
       "    </tr>\n",
       "  </tbody>\n",
       "</table>\n",
       "<p>5 rows × 22 columns</p>\n",
       "</div>"
      ],
      "text/plain": [
       "   total_images  last_price  total_area first_day_exposition  rooms  \\\n",
       "0            20  13000000.0       108.0           2019-03-07      3   \n",
       "1             7   3350000.0        40.4           2018-12-04      1   \n",
       "2            10   5196000.0        56.0           2015-08-20      2   \n",
       "3             0  64900000.0       159.0           2015-07-24      3   \n",
       "4             2  10000000.0       100.0           2018-06-19      2   \n",
       "\n",
       "   ceiling_height  floors_total  living_area  floor  is_apartment  ...  \\\n",
       "0            2.70          16.0         51.0      8         False  ...   \n",
       "1            2.65          11.0         18.6      1         False  ...   \n",
       "2            2.65           5.0         34.3      4         False  ...   \n",
       "3            2.65          14.0         45.0      9         False  ...   \n",
       "4            3.03          14.0         32.0     13         False  ...   \n",
       "\n",
       "   kitchen_area  balcony    locality_name  airports_nearest  \\\n",
       "0          25.0        0  Санкт-Петербург           18863.0   \n",
       "1          11.0        2   посёлок Шушары           12817.0   \n",
       "2           8.3        0  Санкт-Петербург           21741.0   \n",
       "3           9.5        0  Санкт-Петербург           28098.0   \n",
       "4          41.0        0  Санкт-Петербург           31856.0   \n",
       "\n",
       "  cityCenters_nearest  parks_around3000  parks_nearest  ponds_around3000  \\\n",
       "0             16028.0               1.0          482.0               2.0   \n",
       "1             18603.0               0.0            NaN               0.0   \n",
       "2             13933.0               1.0           90.0               2.0   \n",
       "3              6800.0               2.0           84.0               3.0   \n",
       "4              8098.0               2.0          112.0               1.0   \n",
       "\n",
       "   ponds_nearest  days_exposition  \n",
       "0          755.0              0.0  \n",
       "1            NaN             81.0  \n",
       "2          574.0            558.0  \n",
       "3          234.0            424.0  \n",
       "4           48.0            121.0  \n",
       "\n",
       "[5 rows x 22 columns]"
      ]
     },
     "execution_count": 17,
     "metadata": {},
     "output_type": "execute_result"
    }
   ],
   "source": [
    "df.head(5)# Проверяем"
   ]
  },
  {
   "cell_type": "markdown",
   "metadata": {},
   "source": [
    "**Замена прошла успешно**"
   ]
  },
  {
   "cell_type": "markdown",
   "metadata": {},
   "source": [
    "## Расчёты и добавление результатов в таблицу"
   ]
  },
  {
   "cell_type": "markdown",
   "metadata": {},
   "source": [
    "**3.1 Создадим столбец с ценой за квадратный метр, назовём его `price_per_square_meter`.**"
   ]
  },
  {
   "cell_type": "code",
   "execution_count": 18,
   "metadata": {},
   "outputs": [],
   "source": [
    "df['price_per_square_meter'] = df['last_price']/df['total_area']"
   ]
  },
  {
   "cell_type": "markdown",
   "metadata": {},
   "source": [
    "**Переводим в тип int для читаемости**"
   ]
  },
  {
   "cell_type": "code",
   "execution_count": 19,
   "metadata": {},
   "outputs": [],
   "source": [
    "df['price_per_square_meter'] = df['price_per_square_meter'].astype(int)"
   ]
  },
  {
   "cell_type": "code",
   "execution_count": 20,
   "metadata": {},
   "outputs": [
    {
     "data": {
      "text/html": [
       "<div>\n",
       "<style scoped>\n",
       "    .dataframe tbody tr th:only-of-type {\n",
       "        vertical-align: middle;\n",
       "    }\n",
       "\n",
       "    .dataframe tbody tr th {\n",
       "        vertical-align: top;\n",
       "    }\n",
       "\n",
       "    .dataframe thead th {\n",
       "        text-align: right;\n",
       "    }\n",
       "</style>\n",
       "<table border=\"1\" class=\"dataframe\">\n",
       "  <thead>\n",
       "    <tr style=\"text-align: right;\">\n",
       "      <th></th>\n",
       "      <th>total_images</th>\n",
       "      <th>last_price</th>\n",
       "      <th>total_area</th>\n",
       "      <th>first_day_exposition</th>\n",
       "      <th>rooms</th>\n",
       "      <th>ceiling_height</th>\n",
       "      <th>floors_total</th>\n",
       "      <th>living_area</th>\n",
       "      <th>floor</th>\n",
       "      <th>is_apartment</th>\n",
       "      <th>...</th>\n",
       "      <th>balcony</th>\n",
       "      <th>locality_name</th>\n",
       "      <th>airports_nearest</th>\n",
       "      <th>cityCenters_nearest</th>\n",
       "      <th>parks_around3000</th>\n",
       "      <th>parks_nearest</th>\n",
       "      <th>ponds_around3000</th>\n",
       "      <th>ponds_nearest</th>\n",
       "      <th>days_exposition</th>\n",
       "      <th>price_per_square_meter</th>\n",
       "    </tr>\n",
       "  </thead>\n",
       "  <tbody>\n",
       "    <tr>\n",
       "      <th>0</th>\n",
       "      <td>20</td>\n",
       "      <td>13000000.0</td>\n",
       "      <td>108.0</td>\n",
       "      <td>2019-03-07</td>\n",
       "      <td>3</td>\n",
       "      <td>2.70</td>\n",
       "      <td>16.0</td>\n",
       "      <td>51.0</td>\n",
       "      <td>8</td>\n",
       "      <td>False</td>\n",
       "      <td>...</td>\n",
       "      <td>0</td>\n",
       "      <td>Санкт-Петербург</td>\n",
       "      <td>18863.0</td>\n",
       "      <td>16028.0</td>\n",
       "      <td>1.0</td>\n",
       "      <td>482.0</td>\n",
       "      <td>2.0</td>\n",
       "      <td>755.0</td>\n",
       "      <td>0.0</td>\n",
       "      <td>120370</td>\n",
       "    </tr>\n",
       "    <tr>\n",
       "      <th>1</th>\n",
       "      <td>7</td>\n",
       "      <td>3350000.0</td>\n",
       "      <td>40.4</td>\n",
       "      <td>2018-12-04</td>\n",
       "      <td>1</td>\n",
       "      <td>2.65</td>\n",
       "      <td>11.0</td>\n",
       "      <td>18.6</td>\n",
       "      <td>1</td>\n",
       "      <td>False</td>\n",
       "      <td>...</td>\n",
       "      <td>2</td>\n",
       "      <td>посёлок Шушары</td>\n",
       "      <td>12817.0</td>\n",
       "      <td>18603.0</td>\n",
       "      <td>0.0</td>\n",
       "      <td>NaN</td>\n",
       "      <td>0.0</td>\n",
       "      <td>NaN</td>\n",
       "      <td>81.0</td>\n",
       "      <td>82920</td>\n",
       "    </tr>\n",
       "    <tr>\n",
       "      <th>2</th>\n",
       "      <td>10</td>\n",
       "      <td>5196000.0</td>\n",
       "      <td>56.0</td>\n",
       "      <td>2015-08-20</td>\n",
       "      <td>2</td>\n",
       "      <td>2.65</td>\n",
       "      <td>5.0</td>\n",
       "      <td>34.3</td>\n",
       "      <td>4</td>\n",
       "      <td>False</td>\n",
       "      <td>...</td>\n",
       "      <td>0</td>\n",
       "      <td>Санкт-Петербург</td>\n",
       "      <td>21741.0</td>\n",
       "      <td>13933.0</td>\n",
       "      <td>1.0</td>\n",
       "      <td>90.0</td>\n",
       "      <td>2.0</td>\n",
       "      <td>574.0</td>\n",
       "      <td>558.0</td>\n",
       "      <td>92785</td>\n",
       "    </tr>\n",
       "    <tr>\n",
       "      <th>3</th>\n",
       "      <td>0</td>\n",
       "      <td>64900000.0</td>\n",
       "      <td>159.0</td>\n",
       "      <td>2015-07-24</td>\n",
       "      <td>3</td>\n",
       "      <td>2.65</td>\n",
       "      <td>14.0</td>\n",
       "      <td>45.0</td>\n",
       "      <td>9</td>\n",
       "      <td>False</td>\n",
       "      <td>...</td>\n",
       "      <td>0</td>\n",
       "      <td>Санкт-Петербург</td>\n",
       "      <td>28098.0</td>\n",
       "      <td>6800.0</td>\n",
       "      <td>2.0</td>\n",
       "      <td>84.0</td>\n",
       "      <td>3.0</td>\n",
       "      <td>234.0</td>\n",
       "      <td>424.0</td>\n",
       "      <td>408176</td>\n",
       "    </tr>\n",
       "    <tr>\n",
       "      <th>4</th>\n",
       "      <td>2</td>\n",
       "      <td>10000000.0</td>\n",
       "      <td>100.0</td>\n",
       "      <td>2018-06-19</td>\n",
       "      <td>2</td>\n",
       "      <td>3.03</td>\n",
       "      <td>14.0</td>\n",
       "      <td>32.0</td>\n",
       "      <td>13</td>\n",
       "      <td>False</td>\n",
       "      <td>...</td>\n",
       "      <td>0</td>\n",
       "      <td>Санкт-Петербург</td>\n",
       "      <td>31856.0</td>\n",
       "      <td>8098.0</td>\n",
       "      <td>2.0</td>\n",
       "      <td>112.0</td>\n",
       "      <td>1.0</td>\n",
       "      <td>48.0</td>\n",
       "      <td>121.0</td>\n",
       "      <td>100000</td>\n",
       "    </tr>\n",
       "  </tbody>\n",
       "</table>\n",
       "<p>5 rows × 23 columns</p>\n",
       "</div>"
      ],
      "text/plain": [
       "   total_images  last_price  total_area first_day_exposition  rooms  \\\n",
       "0            20  13000000.0       108.0           2019-03-07      3   \n",
       "1             7   3350000.0        40.4           2018-12-04      1   \n",
       "2            10   5196000.0        56.0           2015-08-20      2   \n",
       "3             0  64900000.0       159.0           2015-07-24      3   \n",
       "4             2  10000000.0       100.0           2018-06-19      2   \n",
       "\n",
       "   ceiling_height  floors_total  living_area  floor  is_apartment  ...  \\\n",
       "0            2.70          16.0         51.0      8         False  ...   \n",
       "1            2.65          11.0         18.6      1         False  ...   \n",
       "2            2.65           5.0         34.3      4         False  ...   \n",
       "3            2.65          14.0         45.0      9         False  ...   \n",
       "4            3.03          14.0         32.0     13         False  ...   \n",
       "\n",
       "   balcony    locality_name  airports_nearest  cityCenters_nearest  \\\n",
       "0        0  Санкт-Петербург           18863.0              16028.0   \n",
       "1        2   посёлок Шушары           12817.0              18603.0   \n",
       "2        0  Санкт-Петербург           21741.0              13933.0   \n",
       "3        0  Санкт-Петербург           28098.0               6800.0   \n",
       "4        0  Санкт-Петербург           31856.0               8098.0   \n",
       "\n",
       "  parks_around3000  parks_nearest  ponds_around3000  ponds_nearest  \\\n",
       "0              1.0          482.0               2.0          755.0   \n",
       "1              0.0            NaN               0.0            NaN   \n",
       "2              1.0           90.0               2.0          574.0   \n",
       "3              2.0           84.0               3.0          234.0   \n",
       "4              2.0          112.0               1.0           48.0   \n",
       "\n",
       "   days_exposition  price_per_square_meter  \n",
       "0              0.0                  120370  \n",
       "1             81.0                   82920  \n",
       "2            558.0                   92785  \n",
       "3            424.0                  408176  \n",
       "4            121.0                  100000  \n",
       "\n",
       "[5 rows x 23 columns]"
      ]
     },
     "execution_count": 20,
     "metadata": {},
     "output_type": "execute_result"
    }
   ],
   "source": [
    "df.head(5)#проверяем"
   ]
  },
  {
   "cell_type": "markdown",
   "metadata": {},
   "source": [
    "**3.2 Создадим столбцы, в которых будут день недели, месяц и год публикации объявления.**"
   ]
  },
  {
   "cell_type": "code",
   "execution_count": 21,
   "metadata": {},
   "outputs": [],
   "source": [
    "df['weekday'] = df['first_day_exposition'].dt.weekday\n",
    "df['month'] = df['first_day_exposition'].dt.month\n",
    "df['year'] = df['first_day_exposition'].dt.year"
   ]
  },
  {
   "cell_type": "code",
   "execution_count": 22,
   "metadata": {},
   "outputs": [
    {
     "data": {
      "text/html": [
       "<div>\n",
       "<style scoped>\n",
       "    .dataframe tbody tr th:only-of-type {\n",
       "        vertical-align: middle;\n",
       "    }\n",
       "\n",
       "    .dataframe tbody tr th {\n",
       "        vertical-align: top;\n",
       "    }\n",
       "\n",
       "    .dataframe thead th {\n",
       "        text-align: right;\n",
       "    }\n",
       "</style>\n",
       "<table border=\"1\" class=\"dataframe\">\n",
       "  <thead>\n",
       "    <tr style=\"text-align: right;\">\n",
       "      <th></th>\n",
       "      <th>total_images</th>\n",
       "      <th>last_price</th>\n",
       "      <th>total_area</th>\n",
       "      <th>first_day_exposition</th>\n",
       "      <th>rooms</th>\n",
       "      <th>ceiling_height</th>\n",
       "      <th>floors_total</th>\n",
       "      <th>living_area</th>\n",
       "      <th>floor</th>\n",
       "      <th>is_apartment</th>\n",
       "      <th>...</th>\n",
       "      <th>cityCenters_nearest</th>\n",
       "      <th>parks_around3000</th>\n",
       "      <th>parks_nearest</th>\n",
       "      <th>ponds_around3000</th>\n",
       "      <th>ponds_nearest</th>\n",
       "      <th>days_exposition</th>\n",
       "      <th>price_per_square_meter</th>\n",
       "      <th>weekday</th>\n",
       "      <th>month</th>\n",
       "      <th>year</th>\n",
       "    </tr>\n",
       "  </thead>\n",
       "  <tbody>\n",
       "    <tr>\n",
       "      <th>0</th>\n",
       "      <td>20</td>\n",
       "      <td>13000000.0</td>\n",
       "      <td>108.0</td>\n",
       "      <td>2019-03-07</td>\n",
       "      <td>3</td>\n",
       "      <td>2.70</td>\n",
       "      <td>16.0</td>\n",
       "      <td>51.0</td>\n",
       "      <td>8</td>\n",
       "      <td>False</td>\n",
       "      <td>...</td>\n",
       "      <td>16028.0</td>\n",
       "      <td>1.0</td>\n",
       "      <td>482.0</td>\n",
       "      <td>2.0</td>\n",
       "      <td>755.0</td>\n",
       "      <td>0.0</td>\n",
       "      <td>120370</td>\n",
       "      <td>3</td>\n",
       "      <td>3</td>\n",
       "      <td>2019</td>\n",
       "    </tr>\n",
       "    <tr>\n",
       "      <th>1</th>\n",
       "      <td>7</td>\n",
       "      <td>3350000.0</td>\n",
       "      <td>40.4</td>\n",
       "      <td>2018-12-04</td>\n",
       "      <td>1</td>\n",
       "      <td>2.65</td>\n",
       "      <td>11.0</td>\n",
       "      <td>18.6</td>\n",
       "      <td>1</td>\n",
       "      <td>False</td>\n",
       "      <td>...</td>\n",
       "      <td>18603.0</td>\n",
       "      <td>0.0</td>\n",
       "      <td>NaN</td>\n",
       "      <td>0.0</td>\n",
       "      <td>NaN</td>\n",
       "      <td>81.0</td>\n",
       "      <td>82920</td>\n",
       "      <td>1</td>\n",
       "      <td>12</td>\n",
       "      <td>2018</td>\n",
       "    </tr>\n",
       "    <tr>\n",
       "      <th>2</th>\n",
       "      <td>10</td>\n",
       "      <td>5196000.0</td>\n",
       "      <td>56.0</td>\n",
       "      <td>2015-08-20</td>\n",
       "      <td>2</td>\n",
       "      <td>2.65</td>\n",
       "      <td>5.0</td>\n",
       "      <td>34.3</td>\n",
       "      <td>4</td>\n",
       "      <td>False</td>\n",
       "      <td>...</td>\n",
       "      <td>13933.0</td>\n",
       "      <td>1.0</td>\n",
       "      <td>90.0</td>\n",
       "      <td>2.0</td>\n",
       "      <td>574.0</td>\n",
       "      <td>558.0</td>\n",
       "      <td>92785</td>\n",
       "      <td>3</td>\n",
       "      <td>8</td>\n",
       "      <td>2015</td>\n",
       "    </tr>\n",
       "    <tr>\n",
       "      <th>3</th>\n",
       "      <td>0</td>\n",
       "      <td>64900000.0</td>\n",
       "      <td>159.0</td>\n",
       "      <td>2015-07-24</td>\n",
       "      <td>3</td>\n",
       "      <td>2.65</td>\n",
       "      <td>14.0</td>\n",
       "      <td>45.0</td>\n",
       "      <td>9</td>\n",
       "      <td>False</td>\n",
       "      <td>...</td>\n",
       "      <td>6800.0</td>\n",
       "      <td>2.0</td>\n",
       "      <td>84.0</td>\n",
       "      <td>3.0</td>\n",
       "      <td>234.0</td>\n",
       "      <td>424.0</td>\n",
       "      <td>408176</td>\n",
       "      <td>4</td>\n",
       "      <td>7</td>\n",
       "      <td>2015</td>\n",
       "    </tr>\n",
       "    <tr>\n",
       "      <th>4</th>\n",
       "      <td>2</td>\n",
       "      <td>10000000.0</td>\n",
       "      <td>100.0</td>\n",
       "      <td>2018-06-19</td>\n",
       "      <td>2</td>\n",
       "      <td>3.03</td>\n",
       "      <td>14.0</td>\n",
       "      <td>32.0</td>\n",
       "      <td>13</td>\n",
       "      <td>False</td>\n",
       "      <td>...</td>\n",
       "      <td>8098.0</td>\n",
       "      <td>2.0</td>\n",
       "      <td>112.0</td>\n",
       "      <td>1.0</td>\n",
       "      <td>48.0</td>\n",
       "      <td>121.0</td>\n",
       "      <td>100000</td>\n",
       "      <td>1</td>\n",
       "      <td>6</td>\n",
       "      <td>2018</td>\n",
       "    </tr>\n",
       "  </tbody>\n",
       "</table>\n",
       "<p>5 rows × 26 columns</p>\n",
       "</div>"
      ],
      "text/plain": [
       "   total_images  last_price  total_area first_day_exposition  rooms  \\\n",
       "0            20  13000000.0       108.0           2019-03-07      3   \n",
       "1             7   3350000.0        40.4           2018-12-04      1   \n",
       "2            10   5196000.0        56.0           2015-08-20      2   \n",
       "3             0  64900000.0       159.0           2015-07-24      3   \n",
       "4             2  10000000.0       100.0           2018-06-19      2   \n",
       "\n",
       "   ceiling_height  floors_total  living_area  floor  is_apartment  ...  \\\n",
       "0            2.70          16.0         51.0      8         False  ...   \n",
       "1            2.65          11.0         18.6      1         False  ...   \n",
       "2            2.65           5.0         34.3      4         False  ...   \n",
       "3            2.65          14.0         45.0      9         False  ...   \n",
       "4            3.03          14.0         32.0     13         False  ...   \n",
       "\n",
       "   cityCenters_nearest  parks_around3000  parks_nearest  ponds_around3000  \\\n",
       "0              16028.0               1.0          482.0               2.0   \n",
       "1              18603.0               0.0            NaN               0.0   \n",
       "2              13933.0               1.0           90.0               2.0   \n",
       "3               6800.0               2.0           84.0               3.0   \n",
       "4               8098.0               2.0          112.0               1.0   \n",
       "\n",
       "  ponds_nearest  days_exposition  price_per_square_meter  weekday  month  year  \n",
       "0         755.0              0.0                  120370        3      3  2019  \n",
       "1           NaN             81.0                   82920        1     12  2018  \n",
       "2         574.0            558.0                   92785        3      8  2015  \n",
       "3         234.0            424.0                  408176        4      7  2015  \n",
       "4          48.0            121.0                  100000        1      6  2018  \n",
       "\n",
       "[5 rows x 26 columns]"
      ]
     },
     "execution_count": 22,
     "metadata": {},
     "output_type": "execute_result"
    }
   ],
   "source": [
    "df.head(5)#проверяем"
   ]
  },
  {
   "cell_type": "markdown",
   "metadata": {},
   "source": [
    "**Заменим стандартные значения в столбце `weekday` на более удобные. Используем для этой цели словарь и метод .map:**"
   ]
  },
  {
   "cell_type": "code",
   "execution_count": 23,
   "metadata": {},
   "outputs": [],
   "source": [
    "weekday_dict = {0: 'пнд', 1: 'вт', 2: 'ср', 3: 'чт', 4: 'пт', 5: 'сб', 6: 'вс'}\n",
    "df['weekday'] = df['weekday'].map(weekday_dict)"
   ]
  },
  {
   "cell_type": "markdown",
   "metadata": {},
   "source": [
    "**Тоже сделаем со столбцом `month`**"
   ]
  },
  {
   "cell_type": "code",
   "execution_count": 24,
   "metadata": {},
   "outputs": [],
   "source": [
    "month_dick = {1: 'Январь', 1: 'Февраль', 3: 'Март', 4: 'Апрель', 5: 'Май', 6: 'Июнь', 7: 'Июль', 8: 'Август', 9: 'Сентябрь', 10: 'Октябрь', 11: 'Ноябрь', 12: 'Декабрь'}\n",
    "df['month'] = df['month'].map(month_dick)"
   ]
  },
  {
   "cell_type": "code",
   "execution_count": 25,
   "metadata": {},
   "outputs": [
    {
     "data": {
      "text/html": [
       "<div>\n",
       "<style scoped>\n",
       "    .dataframe tbody tr th:only-of-type {\n",
       "        vertical-align: middle;\n",
       "    }\n",
       "\n",
       "    .dataframe tbody tr th {\n",
       "        vertical-align: top;\n",
       "    }\n",
       "\n",
       "    .dataframe thead th {\n",
       "        text-align: right;\n",
       "    }\n",
       "</style>\n",
       "<table border=\"1\" class=\"dataframe\">\n",
       "  <thead>\n",
       "    <tr style=\"text-align: right;\">\n",
       "      <th></th>\n",
       "      <th>total_images</th>\n",
       "      <th>last_price</th>\n",
       "      <th>total_area</th>\n",
       "      <th>first_day_exposition</th>\n",
       "      <th>rooms</th>\n",
       "      <th>ceiling_height</th>\n",
       "      <th>floors_total</th>\n",
       "      <th>living_area</th>\n",
       "      <th>floor</th>\n",
       "      <th>is_apartment</th>\n",
       "      <th>...</th>\n",
       "      <th>cityCenters_nearest</th>\n",
       "      <th>parks_around3000</th>\n",
       "      <th>parks_nearest</th>\n",
       "      <th>ponds_around3000</th>\n",
       "      <th>ponds_nearest</th>\n",
       "      <th>days_exposition</th>\n",
       "      <th>price_per_square_meter</th>\n",
       "      <th>weekday</th>\n",
       "      <th>month</th>\n",
       "      <th>year</th>\n",
       "    </tr>\n",
       "  </thead>\n",
       "  <tbody>\n",
       "    <tr>\n",
       "      <th>0</th>\n",
       "      <td>20</td>\n",
       "      <td>13000000.0</td>\n",
       "      <td>108.0</td>\n",
       "      <td>2019-03-07</td>\n",
       "      <td>3</td>\n",
       "      <td>2.70</td>\n",
       "      <td>16.0</td>\n",
       "      <td>51.0</td>\n",
       "      <td>8</td>\n",
       "      <td>False</td>\n",
       "      <td>...</td>\n",
       "      <td>16028.0</td>\n",
       "      <td>1.0</td>\n",
       "      <td>482.0</td>\n",
       "      <td>2.0</td>\n",
       "      <td>755.0</td>\n",
       "      <td>0.0</td>\n",
       "      <td>120370</td>\n",
       "      <td>чт</td>\n",
       "      <td>Март</td>\n",
       "      <td>2019</td>\n",
       "    </tr>\n",
       "    <tr>\n",
       "      <th>1</th>\n",
       "      <td>7</td>\n",
       "      <td>3350000.0</td>\n",
       "      <td>40.4</td>\n",
       "      <td>2018-12-04</td>\n",
       "      <td>1</td>\n",
       "      <td>2.65</td>\n",
       "      <td>11.0</td>\n",
       "      <td>18.6</td>\n",
       "      <td>1</td>\n",
       "      <td>False</td>\n",
       "      <td>...</td>\n",
       "      <td>18603.0</td>\n",
       "      <td>0.0</td>\n",
       "      <td>NaN</td>\n",
       "      <td>0.0</td>\n",
       "      <td>NaN</td>\n",
       "      <td>81.0</td>\n",
       "      <td>82920</td>\n",
       "      <td>вт</td>\n",
       "      <td>Декабрь</td>\n",
       "      <td>2018</td>\n",
       "    </tr>\n",
       "    <tr>\n",
       "      <th>2</th>\n",
       "      <td>10</td>\n",
       "      <td>5196000.0</td>\n",
       "      <td>56.0</td>\n",
       "      <td>2015-08-20</td>\n",
       "      <td>2</td>\n",
       "      <td>2.65</td>\n",
       "      <td>5.0</td>\n",
       "      <td>34.3</td>\n",
       "      <td>4</td>\n",
       "      <td>False</td>\n",
       "      <td>...</td>\n",
       "      <td>13933.0</td>\n",
       "      <td>1.0</td>\n",
       "      <td>90.0</td>\n",
       "      <td>2.0</td>\n",
       "      <td>574.0</td>\n",
       "      <td>558.0</td>\n",
       "      <td>92785</td>\n",
       "      <td>чт</td>\n",
       "      <td>Август</td>\n",
       "      <td>2015</td>\n",
       "    </tr>\n",
       "    <tr>\n",
       "      <th>3</th>\n",
       "      <td>0</td>\n",
       "      <td>64900000.0</td>\n",
       "      <td>159.0</td>\n",
       "      <td>2015-07-24</td>\n",
       "      <td>3</td>\n",
       "      <td>2.65</td>\n",
       "      <td>14.0</td>\n",
       "      <td>45.0</td>\n",
       "      <td>9</td>\n",
       "      <td>False</td>\n",
       "      <td>...</td>\n",
       "      <td>6800.0</td>\n",
       "      <td>2.0</td>\n",
       "      <td>84.0</td>\n",
       "      <td>3.0</td>\n",
       "      <td>234.0</td>\n",
       "      <td>424.0</td>\n",
       "      <td>408176</td>\n",
       "      <td>пт</td>\n",
       "      <td>Июль</td>\n",
       "      <td>2015</td>\n",
       "    </tr>\n",
       "    <tr>\n",
       "      <th>4</th>\n",
       "      <td>2</td>\n",
       "      <td>10000000.0</td>\n",
       "      <td>100.0</td>\n",
       "      <td>2018-06-19</td>\n",
       "      <td>2</td>\n",
       "      <td>3.03</td>\n",
       "      <td>14.0</td>\n",
       "      <td>32.0</td>\n",
       "      <td>13</td>\n",
       "      <td>False</td>\n",
       "      <td>...</td>\n",
       "      <td>8098.0</td>\n",
       "      <td>2.0</td>\n",
       "      <td>112.0</td>\n",
       "      <td>1.0</td>\n",
       "      <td>48.0</td>\n",
       "      <td>121.0</td>\n",
       "      <td>100000</td>\n",
       "      <td>вт</td>\n",
       "      <td>Июнь</td>\n",
       "      <td>2018</td>\n",
       "    </tr>\n",
       "  </tbody>\n",
       "</table>\n",
       "<p>5 rows × 26 columns</p>\n",
       "</div>"
      ],
      "text/plain": [
       "   total_images  last_price  total_area first_day_exposition  rooms  \\\n",
       "0            20  13000000.0       108.0           2019-03-07      3   \n",
       "1             7   3350000.0        40.4           2018-12-04      1   \n",
       "2            10   5196000.0        56.0           2015-08-20      2   \n",
       "3             0  64900000.0       159.0           2015-07-24      3   \n",
       "4             2  10000000.0       100.0           2018-06-19      2   \n",
       "\n",
       "   ceiling_height  floors_total  living_area  floor  is_apartment  ...  \\\n",
       "0            2.70          16.0         51.0      8         False  ...   \n",
       "1            2.65          11.0         18.6      1         False  ...   \n",
       "2            2.65           5.0         34.3      4         False  ...   \n",
       "3            2.65          14.0         45.0      9         False  ...   \n",
       "4            3.03          14.0         32.0     13         False  ...   \n",
       "\n",
       "   cityCenters_nearest  parks_around3000  parks_nearest  ponds_around3000  \\\n",
       "0              16028.0               1.0          482.0               2.0   \n",
       "1              18603.0               0.0            NaN               0.0   \n",
       "2              13933.0               1.0           90.0               2.0   \n",
       "3               6800.0               2.0           84.0               3.0   \n",
       "4               8098.0               2.0          112.0               1.0   \n",
       "\n",
       "  ponds_nearest  days_exposition  price_per_square_meter  weekday    month  \\\n",
       "0         755.0              0.0                  120370       чт     Март   \n",
       "1           NaN             81.0                   82920       вт  Декабрь   \n",
       "2         574.0            558.0                   92785       чт   Август   \n",
       "3         234.0            424.0                  408176       пт     Июль   \n",
       "4          48.0            121.0                  100000       вт     Июнь   \n",
       "\n",
       "   year  \n",
       "0  2019  \n",
       "1  2018  \n",
       "2  2015  \n",
       "3  2015  \n",
       "4  2018  \n",
       "\n",
       "[5 rows x 26 columns]"
      ]
     },
     "execution_count": 25,
     "metadata": {},
     "output_type": "execute_result"
    }
   ],
   "source": [
    "df.head(5)"
   ]
  },
  {
   "cell_type": "markdown",
   "metadata": {},
   "source": [
    "**3.3 Создадим функцию type_floor для указания этажа, а затем отдельный столбец.**"
   ]
  },
  {
   "cell_type": "code",
   "execution_count": 26,
   "metadata": {},
   "outputs": [],
   "source": [
    "def type_floor (i):\n",
    "    floors_total = i['floors_total']\n",
    "    floor=i['floor']\n",
    "    if floor == 1:\n",
    "        return 'первый'\n",
    "    if floor == floors_total:\n",
    "        return 'последний'\n",
    "    if 1 < floor < floors_total:\n",
    "        return 'другой'\n",
    "df['type_floor'] = df.apply(type_floor, axis = 1)"
   ]
  },
  {
   "cell_type": "code",
   "execution_count": 27,
   "metadata": {
    "scrolled": true
   },
   "outputs": [
    {
     "data": {
      "text/html": [
       "<div>\n",
       "<style scoped>\n",
       "    .dataframe tbody tr th:only-of-type {\n",
       "        vertical-align: middle;\n",
       "    }\n",
       "\n",
       "    .dataframe tbody tr th {\n",
       "        vertical-align: top;\n",
       "    }\n",
       "\n",
       "    .dataframe thead th {\n",
       "        text-align: right;\n",
       "    }\n",
       "</style>\n",
       "<table border=\"1\" class=\"dataframe\">\n",
       "  <thead>\n",
       "    <tr style=\"text-align: right;\">\n",
       "      <th></th>\n",
       "      <th>total_images</th>\n",
       "      <th>last_price</th>\n",
       "      <th>total_area</th>\n",
       "      <th>first_day_exposition</th>\n",
       "      <th>rooms</th>\n",
       "      <th>ceiling_height</th>\n",
       "      <th>floors_total</th>\n",
       "      <th>living_area</th>\n",
       "      <th>floor</th>\n",
       "      <th>is_apartment</th>\n",
       "      <th>...</th>\n",
       "      <th>parks_around3000</th>\n",
       "      <th>parks_nearest</th>\n",
       "      <th>ponds_around3000</th>\n",
       "      <th>ponds_nearest</th>\n",
       "      <th>days_exposition</th>\n",
       "      <th>price_per_square_meter</th>\n",
       "      <th>weekday</th>\n",
       "      <th>month</th>\n",
       "      <th>year</th>\n",
       "      <th>type_floor</th>\n",
       "    </tr>\n",
       "  </thead>\n",
       "  <tbody>\n",
       "    <tr>\n",
       "      <th>0</th>\n",
       "      <td>20</td>\n",
       "      <td>13000000.0</td>\n",
       "      <td>108.00</td>\n",
       "      <td>2019-03-07</td>\n",
       "      <td>3</td>\n",
       "      <td>2.70</td>\n",
       "      <td>16.0</td>\n",
       "      <td>51.00</td>\n",
       "      <td>8</td>\n",
       "      <td>False</td>\n",
       "      <td>...</td>\n",
       "      <td>1.0</td>\n",
       "      <td>482.0</td>\n",
       "      <td>2.0</td>\n",
       "      <td>755.0</td>\n",
       "      <td>0.0</td>\n",
       "      <td>120370</td>\n",
       "      <td>чт</td>\n",
       "      <td>Март</td>\n",
       "      <td>2019</td>\n",
       "      <td>другой</td>\n",
       "    </tr>\n",
       "    <tr>\n",
       "      <th>1</th>\n",
       "      <td>7</td>\n",
       "      <td>3350000.0</td>\n",
       "      <td>40.40</td>\n",
       "      <td>2018-12-04</td>\n",
       "      <td>1</td>\n",
       "      <td>2.65</td>\n",
       "      <td>11.0</td>\n",
       "      <td>18.60</td>\n",
       "      <td>1</td>\n",
       "      <td>False</td>\n",
       "      <td>...</td>\n",
       "      <td>0.0</td>\n",
       "      <td>NaN</td>\n",
       "      <td>0.0</td>\n",
       "      <td>NaN</td>\n",
       "      <td>81.0</td>\n",
       "      <td>82920</td>\n",
       "      <td>вт</td>\n",
       "      <td>Декабрь</td>\n",
       "      <td>2018</td>\n",
       "      <td>первый</td>\n",
       "    </tr>\n",
       "    <tr>\n",
       "      <th>2</th>\n",
       "      <td>10</td>\n",
       "      <td>5196000.0</td>\n",
       "      <td>56.00</td>\n",
       "      <td>2015-08-20</td>\n",
       "      <td>2</td>\n",
       "      <td>2.65</td>\n",
       "      <td>5.0</td>\n",
       "      <td>34.30</td>\n",
       "      <td>4</td>\n",
       "      <td>False</td>\n",
       "      <td>...</td>\n",
       "      <td>1.0</td>\n",
       "      <td>90.0</td>\n",
       "      <td>2.0</td>\n",
       "      <td>574.0</td>\n",
       "      <td>558.0</td>\n",
       "      <td>92785</td>\n",
       "      <td>чт</td>\n",
       "      <td>Август</td>\n",
       "      <td>2015</td>\n",
       "      <td>другой</td>\n",
       "    </tr>\n",
       "    <tr>\n",
       "      <th>3</th>\n",
       "      <td>0</td>\n",
       "      <td>64900000.0</td>\n",
       "      <td>159.00</td>\n",
       "      <td>2015-07-24</td>\n",
       "      <td>3</td>\n",
       "      <td>2.65</td>\n",
       "      <td>14.0</td>\n",
       "      <td>45.00</td>\n",
       "      <td>9</td>\n",
       "      <td>False</td>\n",
       "      <td>...</td>\n",
       "      <td>2.0</td>\n",
       "      <td>84.0</td>\n",
       "      <td>3.0</td>\n",
       "      <td>234.0</td>\n",
       "      <td>424.0</td>\n",
       "      <td>408176</td>\n",
       "      <td>пт</td>\n",
       "      <td>Июль</td>\n",
       "      <td>2015</td>\n",
       "      <td>другой</td>\n",
       "    </tr>\n",
       "    <tr>\n",
       "      <th>4</th>\n",
       "      <td>2</td>\n",
       "      <td>10000000.0</td>\n",
       "      <td>100.00</td>\n",
       "      <td>2018-06-19</td>\n",
       "      <td>2</td>\n",
       "      <td>3.03</td>\n",
       "      <td>14.0</td>\n",
       "      <td>32.00</td>\n",
       "      <td>13</td>\n",
       "      <td>False</td>\n",
       "      <td>...</td>\n",
       "      <td>2.0</td>\n",
       "      <td>112.0</td>\n",
       "      <td>1.0</td>\n",
       "      <td>48.0</td>\n",
       "      <td>121.0</td>\n",
       "      <td>100000</td>\n",
       "      <td>вт</td>\n",
       "      <td>Июнь</td>\n",
       "      <td>2018</td>\n",
       "      <td>другой</td>\n",
       "    </tr>\n",
       "    <tr>\n",
       "      <th>5</th>\n",
       "      <td>10</td>\n",
       "      <td>2890000.0</td>\n",
       "      <td>30.40</td>\n",
       "      <td>2018-09-10</td>\n",
       "      <td>1</td>\n",
       "      <td>2.65</td>\n",
       "      <td>12.0</td>\n",
       "      <td>14.40</td>\n",
       "      <td>5</td>\n",
       "      <td>False</td>\n",
       "      <td>...</td>\n",
       "      <td>NaN</td>\n",
       "      <td>NaN</td>\n",
       "      <td>NaN</td>\n",
       "      <td>NaN</td>\n",
       "      <td>55.0</td>\n",
       "      <td>95065</td>\n",
       "      <td>пнд</td>\n",
       "      <td>Сентябрь</td>\n",
       "      <td>2018</td>\n",
       "      <td>другой</td>\n",
       "    </tr>\n",
       "    <tr>\n",
       "      <th>6</th>\n",
       "      <td>6</td>\n",
       "      <td>3700000.0</td>\n",
       "      <td>37.30</td>\n",
       "      <td>2017-11-02</td>\n",
       "      <td>1</td>\n",
       "      <td>2.65</td>\n",
       "      <td>26.0</td>\n",
       "      <td>10.60</td>\n",
       "      <td>6</td>\n",
       "      <td>False</td>\n",
       "      <td>...</td>\n",
       "      <td>0.0</td>\n",
       "      <td>NaN</td>\n",
       "      <td>0.0</td>\n",
       "      <td>NaN</td>\n",
       "      <td>155.0</td>\n",
       "      <td>99195</td>\n",
       "      <td>чт</td>\n",
       "      <td>Ноябрь</td>\n",
       "      <td>2017</td>\n",
       "      <td>другой</td>\n",
       "    </tr>\n",
       "    <tr>\n",
       "      <th>7</th>\n",
       "      <td>5</td>\n",
       "      <td>7915000.0</td>\n",
       "      <td>71.60</td>\n",
       "      <td>2019-04-18</td>\n",
       "      <td>2</td>\n",
       "      <td>2.65</td>\n",
       "      <td>24.0</td>\n",
       "      <td>30.50</td>\n",
       "      <td>22</td>\n",
       "      <td>False</td>\n",
       "      <td>...</td>\n",
       "      <td>0.0</td>\n",
       "      <td>NaN</td>\n",
       "      <td>0.0</td>\n",
       "      <td>NaN</td>\n",
       "      <td>0.0</td>\n",
       "      <td>110544</td>\n",
       "      <td>чт</td>\n",
       "      <td>Апрель</td>\n",
       "      <td>2019</td>\n",
       "      <td>другой</td>\n",
       "    </tr>\n",
       "    <tr>\n",
       "      <th>8</th>\n",
       "      <td>20</td>\n",
       "      <td>2900000.0</td>\n",
       "      <td>33.16</td>\n",
       "      <td>2018-05-23</td>\n",
       "      <td>1</td>\n",
       "      <td>2.65</td>\n",
       "      <td>27.0</td>\n",
       "      <td>15.43</td>\n",
       "      <td>26</td>\n",
       "      <td>False</td>\n",
       "      <td>...</td>\n",
       "      <td>NaN</td>\n",
       "      <td>NaN</td>\n",
       "      <td>NaN</td>\n",
       "      <td>NaN</td>\n",
       "      <td>189.0</td>\n",
       "      <td>87454</td>\n",
       "      <td>ср</td>\n",
       "      <td>Май</td>\n",
       "      <td>2018</td>\n",
       "      <td>другой</td>\n",
       "    </tr>\n",
       "    <tr>\n",
       "      <th>9</th>\n",
       "      <td>18</td>\n",
       "      <td>5400000.0</td>\n",
       "      <td>61.00</td>\n",
       "      <td>2017-02-26</td>\n",
       "      <td>3</td>\n",
       "      <td>2.50</td>\n",
       "      <td>9.0</td>\n",
       "      <td>43.60</td>\n",
       "      <td>7</td>\n",
       "      <td>False</td>\n",
       "      <td>...</td>\n",
       "      <td>0.0</td>\n",
       "      <td>NaN</td>\n",
       "      <td>0.0</td>\n",
       "      <td>NaN</td>\n",
       "      <td>289.0</td>\n",
       "      <td>88524</td>\n",
       "      <td>вс</td>\n",
       "      <td>NaN</td>\n",
       "      <td>2017</td>\n",
       "      <td>другой</td>\n",
       "    </tr>\n",
       "    <tr>\n",
       "      <th>10</th>\n",
       "      <td>5</td>\n",
       "      <td>5050000.0</td>\n",
       "      <td>39.60</td>\n",
       "      <td>2017-11-16</td>\n",
       "      <td>1</td>\n",
       "      <td>2.67</td>\n",
       "      <td>12.0</td>\n",
       "      <td>20.30</td>\n",
       "      <td>3</td>\n",
       "      <td>False</td>\n",
       "      <td>...</td>\n",
       "      <td>1.0</td>\n",
       "      <td>310.0</td>\n",
       "      <td>2.0</td>\n",
       "      <td>553.0</td>\n",
       "      <td>137.0</td>\n",
       "      <td>127525</td>\n",
       "      <td>чт</td>\n",
       "      <td>Ноябрь</td>\n",
       "      <td>2017</td>\n",
       "      <td>другой</td>\n",
       "    </tr>\n",
       "    <tr>\n",
       "      <th>11</th>\n",
       "      <td>9</td>\n",
       "      <td>3300000.0</td>\n",
       "      <td>44.00</td>\n",
       "      <td>2018-08-27</td>\n",
       "      <td>2</td>\n",
       "      <td>2.65</td>\n",
       "      <td>5.0</td>\n",
       "      <td>31.00</td>\n",
       "      <td>4</td>\n",
       "      <td>False</td>\n",
       "      <td>...</td>\n",
       "      <td>0.0</td>\n",
       "      <td>NaN</td>\n",
       "      <td>0.0</td>\n",
       "      <td>NaN</td>\n",
       "      <td>7.0</td>\n",
       "      <td>75000</td>\n",
       "      <td>пнд</td>\n",
       "      <td>Август</td>\n",
       "      <td>2018</td>\n",
       "      <td>другой</td>\n",
       "    </tr>\n",
       "    <tr>\n",
       "      <th>12</th>\n",
       "      <td>10</td>\n",
       "      <td>3890000.0</td>\n",
       "      <td>54.00</td>\n",
       "      <td>2016-06-30</td>\n",
       "      <td>2</td>\n",
       "      <td>2.65</td>\n",
       "      <td>5.0</td>\n",
       "      <td>30.00</td>\n",
       "      <td>5</td>\n",
       "      <td>False</td>\n",
       "      <td>...</td>\n",
       "      <td>NaN</td>\n",
       "      <td>NaN</td>\n",
       "      <td>NaN</td>\n",
       "      <td>NaN</td>\n",
       "      <td>90.0</td>\n",
       "      <td>72037</td>\n",
       "      <td>чт</td>\n",
       "      <td>Июнь</td>\n",
       "      <td>2016</td>\n",
       "      <td>последний</td>\n",
       "    </tr>\n",
       "    <tr>\n",
       "      <th>13</th>\n",
       "      <td>20</td>\n",
       "      <td>3550000.0</td>\n",
       "      <td>42.80</td>\n",
       "      <td>2017-07-01</td>\n",
       "      <td>2</td>\n",
       "      <td>2.56</td>\n",
       "      <td>5.0</td>\n",
       "      <td>27.00</td>\n",
       "      <td>5</td>\n",
       "      <td>False</td>\n",
       "      <td>...</td>\n",
       "      <td>1.0</td>\n",
       "      <td>294.0</td>\n",
       "      <td>3.0</td>\n",
       "      <td>298.0</td>\n",
       "      <td>366.0</td>\n",
       "      <td>82943</td>\n",
       "      <td>сб</td>\n",
       "      <td>Июль</td>\n",
       "      <td>2017</td>\n",
       "      <td>последний</td>\n",
       "    </tr>\n",
       "    <tr>\n",
       "      <th>14</th>\n",
       "      <td>1</td>\n",
       "      <td>4400000.0</td>\n",
       "      <td>36.00</td>\n",
       "      <td>2016-06-23</td>\n",
       "      <td>1</td>\n",
       "      <td>2.65</td>\n",
       "      <td>6.0</td>\n",
       "      <td>17.00</td>\n",
       "      <td>1</td>\n",
       "      <td>False</td>\n",
       "      <td>...</td>\n",
       "      <td>0.0</td>\n",
       "      <td>NaN</td>\n",
       "      <td>1.0</td>\n",
       "      <td>96.0</td>\n",
       "      <td>203.0</td>\n",
       "      <td>122222</td>\n",
       "      <td>чт</td>\n",
       "      <td>Июнь</td>\n",
       "      <td>2016</td>\n",
       "      <td>первый</td>\n",
       "    </tr>\n",
       "    <tr>\n",
       "      <th>15</th>\n",
       "      <td>16</td>\n",
       "      <td>4650000.0</td>\n",
       "      <td>39.00</td>\n",
       "      <td>2017-11-18</td>\n",
       "      <td>1</td>\n",
       "      <td>2.65</td>\n",
       "      <td>14.0</td>\n",
       "      <td>20.50</td>\n",
       "      <td>5</td>\n",
       "      <td>False</td>\n",
       "      <td>...</td>\n",
       "      <td>1.0</td>\n",
       "      <td>590.0</td>\n",
       "      <td>1.0</td>\n",
       "      <td>296.0</td>\n",
       "      <td>19.0</td>\n",
       "      <td>119230</td>\n",
       "      <td>сб</td>\n",
       "      <td>Ноябрь</td>\n",
       "      <td>2017</td>\n",
       "      <td>другой</td>\n",
       "    </tr>\n",
       "    <tr>\n",
       "      <th>16</th>\n",
       "      <td>11</td>\n",
       "      <td>6700000.0</td>\n",
       "      <td>82.00</td>\n",
       "      <td>2017-11-23</td>\n",
       "      <td>3</td>\n",
       "      <td>3.05</td>\n",
       "      <td>5.0</td>\n",
       "      <td>55.60</td>\n",
       "      <td>1</td>\n",
       "      <td>False</td>\n",
       "      <td>...</td>\n",
       "      <td>3.0</td>\n",
       "      <td>420.0</td>\n",
       "      <td>0.0</td>\n",
       "      <td>NaN</td>\n",
       "      <td>397.0</td>\n",
       "      <td>81707</td>\n",
       "      <td>чт</td>\n",
       "      <td>Ноябрь</td>\n",
       "      <td>2017</td>\n",
       "      <td>первый</td>\n",
       "    </tr>\n",
       "    <tr>\n",
       "      <th>17</th>\n",
       "      <td>6</td>\n",
       "      <td>4180000.0</td>\n",
       "      <td>36.00</td>\n",
       "      <td>2016-09-09</td>\n",
       "      <td>1</td>\n",
       "      <td>2.65</td>\n",
       "      <td>17.0</td>\n",
       "      <td>16.50</td>\n",
       "      <td>7</td>\n",
       "      <td>False</td>\n",
       "      <td>...</td>\n",
       "      <td>0.0</td>\n",
       "      <td>NaN</td>\n",
       "      <td>1.0</td>\n",
       "      <td>859.0</td>\n",
       "      <td>571.0</td>\n",
       "      <td>116111</td>\n",
       "      <td>пт</td>\n",
       "      <td>Сентябрь</td>\n",
       "      <td>2016</td>\n",
       "      <td>другой</td>\n",
       "    </tr>\n",
       "    <tr>\n",
       "      <th>18</th>\n",
       "      <td>8</td>\n",
       "      <td>3250000.0</td>\n",
       "      <td>31.00</td>\n",
       "      <td>2017-01-27</td>\n",
       "      <td>1</td>\n",
       "      <td>2.50</td>\n",
       "      <td>5.0</td>\n",
       "      <td>19.40</td>\n",
       "      <td>2</td>\n",
       "      <td>False</td>\n",
       "      <td>...</td>\n",
       "      <td>1.0</td>\n",
       "      <td>759.0</td>\n",
       "      <td>0.0</td>\n",
       "      <td>NaN</td>\n",
       "      <td>168.0</td>\n",
       "      <td>104838</td>\n",
       "      <td>пт</td>\n",
       "      <td>Февраль</td>\n",
       "      <td>2017</td>\n",
       "      <td>другой</td>\n",
       "    </tr>\n",
       "    <tr>\n",
       "      <th>19</th>\n",
       "      <td>16</td>\n",
       "      <td>14200000.0</td>\n",
       "      <td>121.00</td>\n",
       "      <td>2019-01-09</td>\n",
       "      <td>3</td>\n",
       "      <td>2.75</td>\n",
       "      <td>16.0</td>\n",
       "      <td>76.00</td>\n",
       "      <td>8</td>\n",
       "      <td>False</td>\n",
       "      <td>...</td>\n",
       "      <td>0.0</td>\n",
       "      <td>NaN</td>\n",
       "      <td>0.0</td>\n",
       "      <td>NaN</td>\n",
       "      <td>97.0</td>\n",
       "      <td>117355</td>\n",
       "      <td>ср</td>\n",
       "      <td>Февраль</td>\n",
       "      <td>2019</td>\n",
       "      <td>другой</td>\n",
       "    </tr>\n",
       "    <tr>\n",
       "      <th>20</th>\n",
       "      <td>12</td>\n",
       "      <td>6120000.0</td>\n",
       "      <td>80.00</td>\n",
       "      <td>2017-09-28</td>\n",
       "      <td>3</td>\n",
       "      <td>2.70</td>\n",
       "      <td>27.0</td>\n",
       "      <td>48.00</td>\n",
       "      <td>11</td>\n",
       "      <td>False</td>\n",
       "      <td>...</td>\n",
       "      <td>0.0</td>\n",
       "      <td>NaN</td>\n",
       "      <td>0.0</td>\n",
       "      <td>NaN</td>\n",
       "      <td>74.0</td>\n",
       "      <td>76500</td>\n",
       "      <td>чт</td>\n",
       "      <td>Сентябрь</td>\n",
       "      <td>2017</td>\n",
       "      <td>другой</td>\n",
       "    </tr>\n",
       "    <tr>\n",
       "      <th>21</th>\n",
       "      <td>13</td>\n",
       "      <td>3200000.0</td>\n",
       "      <td>31.60</td>\n",
       "      <td>2018-03-14</td>\n",
       "      <td>1</td>\n",
       "      <td>2.65</td>\n",
       "      <td>5.0</td>\n",
       "      <td>16.90</td>\n",
       "      <td>2</td>\n",
       "      <td>False</td>\n",
       "      <td>...</td>\n",
       "      <td>1.0</td>\n",
       "      <td>248.0</td>\n",
       "      <td>0.0</td>\n",
       "      <td>NaN</td>\n",
       "      <td>310.0</td>\n",
       "      <td>101265</td>\n",
       "      <td>ср</td>\n",
       "      <td>Март</td>\n",
       "      <td>2018</td>\n",
       "      <td>другой</td>\n",
       "    </tr>\n",
       "    <tr>\n",
       "      <th>22</th>\n",
       "      <td>20</td>\n",
       "      <td>5000000.0</td>\n",
       "      <td>58.00</td>\n",
       "      <td>2017-04-24</td>\n",
       "      <td>2</td>\n",
       "      <td>2.75</td>\n",
       "      <td>25.0</td>\n",
       "      <td>30.00</td>\n",
       "      <td>15</td>\n",
       "      <td>False</td>\n",
       "      <td>...</td>\n",
       "      <td>NaN</td>\n",
       "      <td>NaN</td>\n",
       "      <td>NaN</td>\n",
       "      <td>NaN</td>\n",
       "      <td>60.0</td>\n",
       "      <td>86206</td>\n",
       "      <td>пнд</td>\n",
       "      <td>Апрель</td>\n",
       "      <td>2017</td>\n",
       "      <td>другой</td>\n",
       "    </tr>\n",
       "    <tr>\n",
       "      <th>23</th>\n",
       "      <td>11</td>\n",
       "      <td>2950000.0</td>\n",
       "      <td>32.00</td>\n",
       "      <td>2016-10-29</td>\n",
       "      <td>1</td>\n",
       "      <td>2.60</td>\n",
       "      <td>9.0</td>\n",
       "      <td>17.70</td>\n",
       "      <td>9</td>\n",
       "      <td>False</td>\n",
       "      <td>...</td>\n",
       "      <td>2.0</td>\n",
       "      <td>517.0</td>\n",
       "      <td>1.0</td>\n",
       "      <td>190.0</td>\n",
       "      <td>615.0</td>\n",
       "      <td>92187</td>\n",
       "      <td>сб</td>\n",
       "      <td>Октябрь</td>\n",
       "      <td>2016</td>\n",
       "      <td>последний</td>\n",
       "    </tr>\n",
       "    <tr>\n",
       "      <th>24</th>\n",
       "      <td>8</td>\n",
       "      <td>6500000.0</td>\n",
       "      <td>97.20</td>\n",
       "      <td>2015-10-31</td>\n",
       "      <td>2</td>\n",
       "      <td>2.65</td>\n",
       "      <td>3.0</td>\n",
       "      <td>46.50</td>\n",
       "      <td>1</td>\n",
       "      <td>False</td>\n",
       "      <td>...</td>\n",
       "      <td>3.0</td>\n",
       "      <td>411.0</td>\n",
       "      <td>3.0</td>\n",
       "      <td>124.0</td>\n",
       "      <td>265.0</td>\n",
       "      <td>66872</td>\n",
       "      <td>сб</td>\n",
       "      <td>Октябрь</td>\n",
       "      <td>2015</td>\n",
       "      <td>первый</td>\n",
       "    </tr>\n",
       "    <tr>\n",
       "      <th>25</th>\n",
       "      <td>3</td>\n",
       "      <td>6800000.0</td>\n",
       "      <td>76.00</td>\n",
       "      <td>2015-10-01</td>\n",
       "      <td>2</td>\n",
       "      <td>2.75</td>\n",
       "      <td>23.0</td>\n",
       "      <td>39.00</td>\n",
       "      <td>18</td>\n",
       "      <td>False</td>\n",
       "      <td>...</td>\n",
       "      <td>0.0</td>\n",
       "      <td>NaN</td>\n",
       "      <td>1.0</td>\n",
       "      <td>564.0</td>\n",
       "      <td>300.0</td>\n",
       "      <td>89473</td>\n",
       "      <td>чт</td>\n",
       "      <td>Октябрь</td>\n",
       "      <td>2015</td>\n",
       "      <td>другой</td>\n",
       "    </tr>\n",
       "    <tr>\n",
       "      <th>26</th>\n",
       "      <td>6</td>\n",
       "      <td>4050000.0</td>\n",
       "      <td>60.00</td>\n",
       "      <td>2017-04-28</td>\n",
       "      <td>4</td>\n",
       "      <td>2.65</td>\n",
       "      <td>5.0</td>\n",
       "      <td>43.00</td>\n",
       "      <td>4</td>\n",
       "      <td>False</td>\n",
       "      <td>...</td>\n",
       "      <td>0.0</td>\n",
       "      <td>NaN</td>\n",
       "      <td>1.0</td>\n",
       "      <td>95.0</td>\n",
       "      <td>265.0</td>\n",
       "      <td>67500</td>\n",
       "      <td>пт</td>\n",
       "      <td>Апрель</td>\n",
       "      <td>2017</td>\n",
       "      <td>другой</td>\n",
       "    </tr>\n",
       "    <tr>\n",
       "      <th>27</th>\n",
       "      <td>20</td>\n",
       "      <td>7100000.0</td>\n",
       "      <td>70.00</td>\n",
       "      <td>2017-05-12</td>\n",
       "      <td>3</td>\n",
       "      <td>2.60</td>\n",
       "      <td>17.0</td>\n",
       "      <td>49.00</td>\n",
       "      <td>11</td>\n",
       "      <td>False</td>\n",
       "      <td>...</td>\n",
       "      <td>2.0</td>\n",
       "      <td>452.0</td>\n",
       "      <td>1.0</td>\n",
       "      <td>779.0</td>\n",
       "      <td>151.0</td>\n",
       "      <td>101428</td>\n",
       "      <td>пт</td>\n",
       "      <td>Май</td>\n",
       "      <td>2017</td>\n",
       "      <td>другой</td>\n",
       "    </tr>\n",
       "    <tr>\n",
       "      <th>28</th>\n",
       "      <td>8</td>\n",
       "      <td>4170000.0</td>\n",
       "      <td>44.00</td>\n",
       "      <td>2017-12-13</td>\n",
       "      <td>1</td>\n",
       "      <td>2.90</td>\n",
       "      <td>6.0</td>\n",
       "      <td>20.80</td>\n",
       "      <td>1</td>\n",
       "      <td>False</td>\n",
       "      <td>...</td>\n",
       "      <td>0.0</td>\n",
       "      <td>NaN</td>\n",
       "      <td>1.0</td>\n",
       "      <td>118.0</td>\n",
       "      <td>74.0</td>\n",
       "      <td>94772</td>\n",
       "      <td>ср</td>\n",
       "      <td>Декабрь</td>\n",
       "      <td>2017</td>\n",
       "      <td>первый</td>\n",
       "    </tr>\n",
       "    <tr>\n",
       "      <th>29</th>\n",
       "      <td>9</td>\n",
       "      <td>8600000.0</td>\n",
       "      <td>100.00</td>\n",
       "      <td>2016-04-09</td>\n",
       "      <td>3</td>\n",
       "      <td>2.65</td>\n",
       "      <td>19.0</td>\n",
       "      <td>52.00</td>\n",
       "      <td>15</td>\n",
       "      <td>False</td>\n",
       "      <td>...</td>\n",
       "      <td>1.0</td>\n",
       "      <td>532.0</td>\n",
       "      <td>1.0</td>\n",
       "      <td>896.0</td>\n",
       "      <td>125.0</td>\n",
       "      <td>86000</td>\n",
       "      <td>сб</td>\n",
       "      <td>Апрель</td>\n",
       "      <td>2016</td>\n",
       "      <td>другой</td>\n",
       "    </tr>\n",
       "    <tr>\n",
       "      <th>30</th>\n",
       "      <td>12</td>\n",
       "      <td>2200000.0</td>\n",
       "      <td>32.80</td>\n",
       "      <td>2018-02-19</td>\n",
       "      <td>1</td>\n",
       "      <td>2.65</td>\n",
       "      <td>9.0</td>\n",
       "      <td>17.60</td>\n",
       "      <td>2</td>\n",
       "      <td>False</td>\n",
       "      <td>...</td>\n",
       "      <td>NaN</td>\n",
       "      <td>NaN</td>\n",
       "      <td>NaN</td>\n",
       "      <td>NaN</td>\n",
       "      <td>63.0</td>\n",
       "      <td>67073</td>\n",
       "      <td>пнд</td>\n",
       "      <td>NaN</td>\n",
       "      <td>2018</td>\n",
       "      <td>другой</td>\n",
       "    </tr>\n",
       "    <tr>\n",
       "      <th>31</th>\n",
       "      <td>8</td>\n",
       "      <td>7200000.0</td>\n",
       "      <td>67.90</td>\n",
       "      <td>2017-10-26</td>\n",
       "      <td>2</td>\n",
       "      <td>2.80</td>\n",
       "      <td>16.0</td>\n",
       "      <td>38.10</td>\n",
       "      <td>4</td>\n",
       "      <td>False</td>\n",
       "      <td>...</td>\n",
       "      <td>0.0</td>\n",
       "      <td>NaN</td>\n",
       "      <td>0.0</td>\n",
       "      <td>NaN</td>\n",
       "      <td>112.0</td>\n",
       "      <td>106038</td>\n",
       "      <td>чт</td>\n",
       "      <td>Октябрь</td>\n",
       "      <td>2017</td>\n",
       "      <td>другой</td>\n",
       "    </tr>\n",
       "    <tr>\n",
       "      <th>32</th>\n",
       "      <td>7</td>\n",
       "      <td>4990000.0</td>\n",
       "      <td>60.00</td>\n",
       "      <td>2016-05-22</td>\n",
       "      <td>3</td>\n",
       "      <td>2.65</td>\n",
       "      <td>5.0</td>\n",
       "      <td>39.00</td>\n",
       "      <td>4</td>\n",
       "      <td>False</td>\n",
       "      <td>...</td>\n",
       "      <td>0.0</td>\n",
       "      <td>NaN</td>\n",
       "      <td>1.0</td>\n",
       "      <td>426.0</td>\n",
       "      <td>224.0</td>\n",
       "      <td>83166</td>\n",
       "      <td>вс</td>\n",
       "      <td>Май</td>\n",
       "      <td>2016</td>\n",
       "      <td>другой</td>\n",
       "    </tr>\n",
       "    <tr>\n",
       "      <th>33</th>\n",
       "      <td>8</td>\n",
       "      <td>4800000.0</td>\n",
       "      <td>73.00</td>\n",
       "      <td>2018-10-15</td>\n",
       "      <td>4</td>\n",
       "      <td>2.65</td>\n",
       "      <td>9.0</td>\n",
       "      <td>51.60</td>\n",
       "      <td>5</td>\n",
       "      <td>False</td>\n",
       "      <td>...</td>\n",
       "      <td>0.0</td>\n",
       "      <td>NaN</td>\n",
       "      <td>0.0</td>\n",
       "      <td>NaN</td>\n",
       "      <td>92.0</td>\n",
       "      <td>65753</td>\n",
       "      <td>пнд</td>\n",
       "      <td>Октябрь</td>\n",
       "      <td>2018</td>\n",
       "      <td>другой</td>\n",
       "    </tr>\n",
       "    <tr>\n",
       "      <th>34</th>\n",
       "      <td>3</td>\n",
       "      <td>3290000.0</td>\n",
       "      <td>33.00</td>\n",
       "      <td>2018-02-04</td>\n",
       "      <td>1</td>\n",
       "      <td>2.55</td>\n",
       "      <td>16.0</td>\n",
       "      <td>14.00</td>\n",
       "      <td>3</td>\n",
       "      <td>False</td>\n",
       "      <td>...</td>\n",
       "      <td>0.0</td>\n",
       "      <td>NaN</td>\n",
       "      <td>0.0</td>\n",
       "      <td>NaN</td>\n",
       "      <td>15.0</td>\n",
       "      <td>99696</td>\n",
       "      <td>вс</td>\n",
       "      <td>NaN</td>\n",
       "      <td>2018</td>\n",
       "      <td>другой</td>\n",
       "    </tr>\n",
       "    <tr>\n",
       "      <th>35</th>\n",
       "      <td>6</td>\n",
       "      <td>15500000.0</td>\n",
       "      <td>149.00</td>\n",
       "      <td>2017-06-26</td>\n",
       "      <td>5</td>\n",
       "      <td>2.65</td>\n",
       "      <td>5.0</td>\n",
       "      <td>104.00</td>\n",
       "      <td>4</td>\n",
       "      <td>False</td>\n",
       "      <td>...</td>\n",
       "      <td>0.0</td>\n",
       "      <td>NaN</td>\n",
       "      <td>1.0</td>\n",
       "      <td>779.0</td>\n",
       "      <td>644.0</td>\n",
       "      <td>104026</td>\n",
       "      <td>пнд</td>\n",
       "      <td>Июнь</td>\n",
       "      <td>2017</td>\n",
       "      <td>другой</td>\n",
       "    </tr>\n",
       "    <tr>\n",
       "      <th>36</th>\n",
       "      <td>13</td>\n",
       "      <td>3790000.0</td>\n",
       "      <td>45.00</td>\n",
       "      <td>2017-01-25</td>\n",
       "      <td>2</td>\n",
       "      <td>2.65</td>\n",
       "      <td>9.0</td>\n",
       "      <td>27.00</td>\n",
       "      <td>9</td>\n",
       "      <td>False</td>\n",
       "      <td>...</td>\n",
       "      <td>1.0</td>\n",
       "      <td>459.0</td>\n",
       "      <td>0.0</td>\n",
       "      <td>NaN</td>\n",
       "      <td>139.0</td>\n",
       "      <td>84222</td>\n",
       "      <td>ср</td>\n",
       "      <td>Февраль</td>\n",
       "      <td>2017</td>\n",
       "      <td>последний</td>\n",
       "    </tr>\n",
       "    <tr>\n",
       "      <th>37</th>\n",
       "      <td>10</td>\n",
       "      <td>1990000.0</td>\n",
       "      <td>45.80</td>\n",
       "      <td>2017-10-28</td>\n",
       "      <td>2</td>\n",
       "      <td>2.50</td>\n",
       "      <td>5.0</td>\n",
       "      <td>30.50</td>\n",
       "      <td>1</td>\n",
       "      <td>False</td>\n",
       "      <td>...</td>\n",
       "      <td>NaN</td>\n",
       "      <td>NaN</td>\n",
       "      <td>NaN</td>\n",
       "      <td>NaN</td>\n",
       "      <td>196.0</td>\n",
       "      <td>43449</td>\n",
       "      <td>сб</td>\n",
       "      <td>Октябрь</td>\n",
       "      <td>2017</td>\n",
       "      <td>первый</td>\n",
       "    </tr>\n",
       "    <tr>\n",
       "      <th>38</th>\n",
       "      <td>10</td>\n",
       "      <td>3150000.0</td>\n",
       "      <td>40.00</td>\n",
       "      <td>2018-03-29</td>\n",
       "      <td>1</td>\n",
       "      <td>2.75</td>\n",
       "      <td>18.0</td>\n",
       "      <td>16.30</td>\n",
       "      <td>9</td>\n",
       "      <td>False</td>\n",
       "      <td>...</td>\n",
       "      <td>NaN</td>\n",
       "      <td>NaN</td>\n",
       "      <td>NaN</td>\n",
       "      <td>NaN</td>\n",
       "      <td>103.0</td>\n",
       "      <td>78750</td>\n",
       "      <td>чт</td>\n",
       "      <td>Март</td>\n",
       "      <td>2018</td>\n",
       "      <td>другой</td>\n",
       "    </tr>\n",
       "    <tr>\n",
       "      <th>39</th>\n",
       "      <td>15</td>\n",
       "      <td>5200000.0</td>\n",
       "      <td>54.40</td>\n",
       "      <td>2018-11-29</td>\n",
       "      <td>2</td>\n",
       "      <td>2.75</td>\n",
       "      <td>9.0</td>\n",
       "      <td>29.70</td>\n",
       "      <td>2</td>\n",
       "      <td>False</td>\n",
       "      <td>...</td>\n",
       "      <td>0.0</td>\n",
       "      <td>NaN</td>\n",
       "      <td>1.0</td>\n",
       "      <td>1175.0</td>\n",
       "      <td>29.0</td>\n",
       "      <td>95588</td>\n",
       "      <td>чт</td>\n",
       "      <td>Ноябрь</td>\n",
       "      <td>2018</td>\n",
       "      <td>другой</td>\n",
       "    </tr>\n",
       "  </tbody>\n",
       "</table>\n",
       "<p>40 rows × 27 columns</p>\n",
       "</div>"
      ],
      "text/plain": [
       "    total_images  last_price  total_area first_day_exposition  rooms  \\\n",
       "0             20  13000000.0      108.00           2019-03-07      3   \n",
       "1              7   3350000.0       40.40           2018-12-04      1   \n",
       "2             10   5196000.0       56.00           2015-08-20      2   \n",
       "3              0  64900000.0      159.00           2015-07-24      3   \n",
       "4              2  10000000.0      100.00           2018-06-19      2   \n",
       "5             10   2890000.0       30.40           2018-09-10      1   \n",
       "6              6   3700000.0       37.30           2017-11-02      1   \n",
       "7              5   7915000.0       71.60           2019-04-18      2   \n",
       "8             20   2900000.0       33.16           2018-05-23      1   \n",
       "9             18   5400000.0       61.00           2017-02-26      3   \n",
       "10             5   5050000.0       39.60           2017-11-16      1   \n",
       "11             9   3300000.0       44.00           2018-08-27      2   \n",
       "12            10   3890000.0       54.00           2016-06-30      2   \n",
       "13            20   3550000.0       42.80           2017-07-01      2   \n",
       "14             1   4400000.0       36.00           2016-06-23      1   \n",
       "15            16   4650000.0       39.00           2017-11-18      1   \n",
       "16            11   6700000.0       82.00           2017-11-23      3   \n",
       "17             6   4180000.0       36.00           2016-09-09      1   \n",
       "18             8   3250000.0       31.00           2017-01-27      1   \n",
       "19            16  14200000.0      121.00           2019-01-09      3   \n",
       "20            12   6120000.0       80.00           2017-09-28      3   \n",
       "21            13   3200000.0       31.60           2018-03-14      1   \n",
       "22            20   5000000.0       58.00           2017-04-24      2   \n",
       "23            11   2950000.0       32.00           2016-10-29      1   \n",
       "24             8   6500000.0       97.20           2015-10-31      2   \n",
       "25             3   6800000.0       76.00           2015-10-01      2   \n",
       "26             6   4050000.0       60.00           2017-04-28      4   \n",
       "27            20   7100000.0       70.00           2017-05-12      3   \n",
       "28             8   4170000.0       44.00           2017-12-13      1   \n",
       "29             9   8600000.0      100.00           2016-04-09      3   \n",
       "30            12   2200000.0       32.80           2018-02-19      1   \n",
       "31             8   7200000.0       67.90           2017-10-26      2   \n",
       "32             7   4990000.0       60.00           2016-05-22      3   \n",
       "33             8   4800000.0       73.00           2018-10-15      4   \n",
       "34             3   3290000.0       33.00           2018-02-04      1   \n",
       "35             6  15500000.0      149.00           2017-06-26      5   \n",
       "36            13   3790000.0       45.00           2017-01-25      2   \n",
       "37            10   1990000.0       45.80           2017-10-28      2   \n",
       "38            10   3150000.0       40.00           2018-03-29      1   \n",
       "39            15   5200000.0       54.40           2018-11-29      2   \n",
       "\n",
       "    ceiling_height  floors_total  living_area  floor  is_apartment  ...  \\\n",
       "0             2.70          16.0        51.00      8         False  ...   \n",
       "1             2.65          11.0        18.60      1         False  ...   \n",
       "2             2.65           5.0        34.30      4         False  ...   \n",
       "3             2.65          14.0        45.00      9         False  ...   \n",
       "4             3.03          14.0        32.00     13         False  ...   \n",
       "5             2.65          12.0        14.40      5         False  ...   \n",
       "6             2.65          26.0        10.60      6         False  ...   \n",
       "7             2.65          24.0        30.50     22         False  ...   \n",
       "8             2.65          27.0        15.43     26         False  ...   \n",
       "9             2.50           9.0        43.60      7         False  ...   \n",
       "10            2.67          12.0        20.30      3         False  ...   \n",
       "11            2.65           5.0        31.00      4         False  ...   \n",
       "12            2.65           5.0        30.00      5         False  ...   \n",
       "13            2.56           5.0        27.00      5         False  ...   \n",
       "14            2.65           6.0        17.00      1         False  ...   \n",
       "15            2.65          14.0        20.50      5         False  ...   \n",
       "16            3.05           5.0        55.60      1         False  ...   \n",
       "17            2.65          17.0        16.50      7         False  ...   \n",
       "18            2.50           5.0        19.40      2         False  ...   \n",
       "19            2.75          16.0        76.00      8         False  ...   \n",
       "20            2.70          27.0        48.00     11         False  ...   \n",
       "21            2.65           5.0        16.90      2         False  ...   \n",
       "22            2.75          25.0        30.00     15         False  ...   \n",
       "23            2.60           9.0        17.70      9         False  ...   \n",
       "24            2.65           3.0        46.50      1         False  ...   \n",
       "25            2.75          23.0        39.00     18         False  ...   \n",
       "26            2.65           5.0        43.00      4         False  ...   \n",
       "27            2.60          17.0        49.00     11         False  ...   \n",
       "28            2.90           6.0        20.80      1         False  ...   \n",
       "29            2.65          19.0        52.00     15         False  ...   \n",
       "30            2.65           9.0        17.60      2         False  ...   \n",
       "31            2.80          16.0        38.10      4         False  ...   \n",
       "32            2.65           5.0        39.00      4         False  ...   \n",
       "33            2.65           9.0        51.60      5         False  ...   \n",
       "34            2.55          16.0        14.00      3         False  ...   \n",
       "35            2.65           5.0       104.00      4         False  ...   \n",
       "36            2.65           9.0        27.00      9         False  ...   \n",
       "37            2.50           5.0        30.50      1         False  ...   \n",
       "38            2.75          18.0        16.30      9         False  ...   \n",
       "39            2.75           9.0        29.70      2         False  ...   \n",
       "\n",
       "    parks_around3000  parks_nearest  ponds_around3000  ponds_nearest  \\\n",
       "0                1.0          482.0               2.0          755.0   \n",
       "1                0.0            NaN               0.0            NaN   \n",
       "2                1.0           90.0               2.0          574.0   \n",
       "3                2.0           84.0               3.0          234.0   \n",
       "4                2.0          112.0               1.0           48.0   \n",
       "5                NaN            NaN               NaN            NaN   \n",
       "6                0.0            NaN               0.0            NaN   \n",
       "7                0.0            NaN               0.0            NaN   \n",
       "8                NaN            NaN               NaN            NaN   \n",
       "9                0.0            NaN               0.0            NaN   \n",
       "10               1.0          310.0               2.0          553.0   \n",
       "11               0.0            NaN               0.0            NaN   \n",
       "12               NaN            NaN               NaN            NaN   \n",
       "13               1.0          294.0               3.0          298.0   \n",
       "14               0.0            NaN               1.0           96.0   \n",
       "15               1.0          590.0               1.0          296.0   \n",
       "16               3.0          420.0               0.0            NaN   \n",
       "17               0.0            NaN               1.0          859.0   \n",
       "18               1.0          759.0               0.0            NaN   \n",
       "19               0.0            NaN               0.0            NaN   \n",
       "20               0.0            NaN               0.0            NaN   \n",
       "21               1.0          248.0               0.0            NaN   \n",
       "22               NaN            NaN               NaN            NaN   \n",
       "23               2.0          517.0               1.0          190.0   \n",
       "24               3.0          411.0               3.0          124.0   \n",
       "25               0.0            NaN               1.0          564.0   \n",
       "26               0.0            NaN               1.0           95.0   \n",
       "27               2.0          452.0               1.0          779.0   \n",
       "28               0.0            NaN               1.0          118.0   \n",
       "29               1.0          532.0               1.0          896.0   \n",
       "30               NaN            NaN               NaN            NaN   \n",
       "31               0.0            NaN               0.0            NaN   \n",
       "32               0.0            NaN               1.0          426.0   \n",
       "33               0.0            NaN               0.0            NaN   \n",
       "34               0.0            NaN               0.0            NaN   \n",
       "35               0.0            NaN               1.0          779.0   \n",
       "36               1.0          459.0               0.0            NaN   \n",
       "37               NaN            NaN               NaN            NaN   \n",
       "38               NaN            NaN               NaN            NaN   \n",
       "39               0.0            NaN               1.0         1175.0   \n",
       "\n",
       "   days_exposition  price_per_square_meter  weekday     month  year  \\\n",
       "0              0.0                  120370       чт      Март  2019   \n",
       "1             81.0                   82920       вт   Декабрь  2018   \n",
       "2            558.0                   92785       чт    Август  2015   \n",
       "3            424.0                  408176       пт      Июль  2015   \n",
       "4            121.0                  100000       вт      Июнь  2018   \n",
       "5             55.0                   95065      пнд  Сентябрь  2018   \n",
       "6            155.0                   99195       чт    Ноябрь  2017   \n",
       "7              0.0                  110544       чт    Апрель  2019   \n",
       "8            189.0                   87454       ср       Май  2018   \n",
       "9            289.0                   88524       вс       NaN  2017   \n",
       "10           137.0                  127525       чт    Ноябрь  2017   \n",
       "11             7.0                   75000      пнд    Август  2018   \n",
       "12            90.0                   72037       чт      Июнь  2016   \n",
       "13           366.0                   82943       сб      Июль  2017   \n",
       "14           203.0                  122222       чт      Июнь  2016   \n",
       "15            19.0                  119230       сб    Ноябрь  2017   \n",
       "16           397.0                   81707       чт    Ноябрь  2017   \n",
       "17           571.0                  116111       пт  Сентябрь  2016   \n",
       "18           168.0                  104838       пт   Февраль  2017   \n",
       "19            97.0                  117355       ср   Февраль  2019   \n",
       "20            74.0                   76500       чт  Сентябрь  2017   \n",
       "21           310.0                  101265       ср      Март  2018   \n",
       "22            60.0                   86206      пнд    Апрель  2017   \n",
       "23           615.0                   92187       сб   Октябрь  2016   \n",
       "24           265.0                   66872       сб   Октябрь  2015   \n",
       "25           300.0                   89473       чт   Октябрь  2015   \n",
       "26           265.0                   67500       пт    Апрель  2017   \n",
       "27           151.0                  101428       пт       Май  2017   \n",
       "28            74.0                   94772       ср   Декабрь  2017   \n",
       "29           125.0                   86000       сб    Апрель  2016   \n",
       "30            63.0                   67073      пнд       NaN  2018   \n",
       "31           112.0                  106038       чт   Октябрь  2017   \n",
       "32           224.0                   83166       вс       Май  2016   \n",
       "33            92.0                   65753      пнд   Октябрь  2018   \n",
       "34            15.0                   99696       вс       NaN  2018   \n",
       "35           644.0                  104026      пнд      Июнь  2017   \n",
       "36           139.0                   84222       ср   Февраль  2017   \n",
       "37           196.0                   43449       сб   Октябрь  2017   \n",
       "38           103.0                   78750       чт      Март  2018   \n",
       "39            29.0                   95588       чт    Ноябрь  2018   \n",
       "\n",
       "    type_floor  \n",
       "0       другой  \n",
       "1       первый  \n",
       "2       другой  \n",
       "3       другой  \n",
       "4       другой  \n",
       "5       другой  \n",
       "6       другой  \n",
       "7       другой  \n",
       "8       другой  \n",
       "9       другой  \n",
       "10      другой  \n",
       "11      другой  \n",
       "12   последний  \n",
       "13   последний  \n",
       "14      первый  \n",
       "15      другой  \n",
       "16      первый  \n",
       "17      другой  \n",
       "18      другой  \n",
       "19      другой  \n",
       "20      другой  \n",
       "21      другой  \n",
       "22      другой  \n",
       "23   последний  \n",
       "24      первый  \n",
       "25      другой  \n",
       "26      другой  \n",
       "27      другой  \n",
       "28      первый  \n",
       "29      другой  \n",
       "30      другой  \n",
       "31      другой  \n",
       "32      другой  \n",
       "33      другой  \n",
       "34      другой  \n",
       "35      другой  \n",
       "36   последний  \n",
       "37      первый  \n",
       "38      другой  \n",
       "39      другой  \n",
       "\n",
       "[40 rows x 27 columns]"
      ]
     },
     "execution_count": 27,
     "metadata": {},
     "output_type": "execute_result"
    }
   ],
   "source": [
    "df.head(40)"
   ]
  },
  {
   "cell_type": "markdown",
   "metadata": {},
   "source": [
    "**3.4 Теперь создадим два столбца: соотношение жилой и общей площади и отношение площади кухни к общей.**"
   ]
  },
  {
   "cell_type": "code",
   "execution_count": 28,
   "metadata": {},
   "outputs": [],
   "source": [
    "df['liv_coef'] = df['living_area']/df['total_area'] #создадим коэффициенты, чтоб уточнить данные,\n",
    "df['kit_coef'] = df['kitchen_area']/df['total_area']#разделив площади (жилые и кухни) на общую"
   ]
  },
  {
   "cell_type": "code",
   "execution_count": 29,
   "metadata": {
    "scrolled": false
   },
   "outputs": [
    {
     "data": {
      "text/html": [
       "<style  type=\"text/css\" >\n",
       "#T_0ad7e_row0_col0,#T_0ad7e_row1_col1,#T_0ad7e_row2_col2,#T_0ad7e_row3_col3,#T_0ad7e_row4_col4,#T_0ad7e_row5_col5,#T_0ad7e_row6_col6,#T_0ad7e_row7_col7,#T_0ad7e_row8_col8,#T_0ad7e_row9_col9,#T_0ad7e_row10_col10,#T_0ad7e_row11_col11,#T_0ad7e_row12_col12,#T_0ad7e_row13_col13,#T_0ad7e_row14_col14,#T_0ad7e_row15_col15,#T_0ad7e_row16_col16,#T_0ad7e_row17_col17,#T_0ad7e_row18_col18,#T_0ad7e_row19_col19,#T_0ad7e_row20_col20,#T_0ad7e_row21_col21,#T_0ad7e_row22_col22,#T_0ad7e_row23_col23{\n",
       "            background-color:  #b40426;\n",
       "            color:  #f1f1f1;\n",
       "        }#T_0ad7e_row0_col1,#T_0ad7e_row8_col18,#T_0ad7e_row12_col20,#T_0ad7e_row13_col7,#T_0ad7e_row14_col3,#T_0ad7e_row16_col7{\n",
       "            background-color:  #90b2fe;\n",
       "            color:  #000000;\n",
       "        }#T_0ad7e_row0_col2,#T_0ad7e_row1_col21,#T_0ad7e_row5_col20,#T_0ad7e_row14_col19,#T_0ad7e_row19_col23,#T_0ad7e_row20_col15{\n",
       "            background-color:  #b1cbfc;\n",
       "            color:  #000000;\n",
       "        }#T_0ad7e_row0_col3,#T_0ad7e_row6_col19,#T_0ad7e_row17_col3{\n",
       "            background-color:  #cbd8ee;\n",
       "            color:  #000000;\n",
       "        }#T_0ad7e_row0_col4,#T_0ad7e_row4_col9,#T_0ad7e_row7_col10,#T_0ad7e_row7_col15,#T_0ad7e_row12_col10,#T_0ad7e_row14_col15,#T_0ad7e_row17_col9,#T_0ad7e_row18_col9,#T_0ad7e_row20_col8,#T_0ad7e_row21_col12,#T_0ad7e_row22_col4,#T_0ad7e_row23_col1,#T_0ad7e_row23_col4{\n",
       "            background-color:  #516ddb;\n",
       "            color:  #000000;\n",
       "        }#T_0ad7e_row0_col5,#T_0ad7e_row8_col11,#T_0ad7e_row13_col18,#T_0ad7e_row22_col15{\n",
       "            background-color:  #93b5fe;\n",
       "            color:  #000000;\n",
       "        }#T_0ad7e_row0_col6,#T_0ad7e_row9_col22,#T_0ad7e_row13_col23,#T_0ad7e_row14_col21{\n",
       "            background-color:  #c0d4f5;\n",
       "            color:  #000000;\n",
       "        }#T_0ad7e_row0_col7,#T_0ad7e_row10_col11,#T_0ad7e_row20_col22,#T_0ad7e_row21_col17{\n",
       "            background-color:  #85a8fc;\n",
       "            color:  #000000;\n",
       "        }#T_0ad7e_row0_col8,#T_0ad7e_row8_col10,#T_0ad7e_row9_col10,#T_0ad7e_row14_col10,#T_0ad7e_row17_col0,#T_0ad7e_row18_col10,#T_0ad7e_row19_col8,#T_0ad7e_row21_col8{\n",
       "            background-color:  #465ecf;\n",
       "            color:  #f1f1f1;\n",
       "        }#T_0ad7e_row0_col9,#T_0ad7e_row1_col9,#T_0ad7e_row13_col0,#T_0ad7e_row13_col8,#T_0ad7e_row16_col0,#T_0ad7e_row18_col0,#T_0ad7e_row20_col13,#T_0ad7e_row22_col23{\n",
       "            background-color:  #4961d2;\n",
       "            color:  #f1f1f1;\n",
       "        }#T_0ad7e_row0_col10,#T_0ad7e_row16_col13{\n",
       "            background-color:  #3f53c6;\n",
       "            color:  #f1f1f1;\n",
       "        }#T_0ad7e_row0_col11,#T_0ad7e_row1_col22,#T_0ad7e_row4_col20{\n",
       "            background-color:  #a5c3fe;\n",
       "            color:  #000000;\n",
       "        }#T_0ad7e_row0_col12,#T_0ad7e_row3_col4{\n",
       "            background-color:  #5e7de7;\n",
       "            color:  #000000;\n",
       "        }#T_0ad7e_row0_col13,#T_0ad7e_row1_col12,#T_0ad7e_row16_col9,#T_0ad7e_row19_col4{\n",
       "            background-color:  #536edd;\n",
       "            color:  #000000;\n",
       "        }#T_0ad7e_row0_col14,#T_0ad7e_row2_col5,#T_0ad7e_row8_col4,#T_0ad7e_row13_col15,#T_0ad7e_row19_col18{\n",
       "            background-color:  #7da0f9;\n",
       "            color:  #000000;\n",
       "        }#T_0ad7e_row0_col15,#T_0ad7e_row4_col18,#T_0ad7e_row8_col15,#T_0ad7e_row9_col11,#T_0ad7e_row19_col16,#T_0ad7e_row22_col14{\n",
       "            background-color:  #82a6fb;\n",
       "            color:  #000000;\n",
       "        }#T_0ad7e_row0_col16,#T_0ad7e_row14_col17{\n",
       "            background-color:  #7b9ff9;\n",
       "            color:  #000000;\n",
       "        }#T_0ad7e_row0_col17,#T_0ad7e_row7_col2,#T_0ad7e_row7_col14,#T_0ad7e_row10_col20,#T_0ad7e_row21_col20,#T_0ad7e_row23_col16{\n",
       "            background-color:  #8caffe;\n",
       "            color:  #000000;\n",
       "        }#T_0ad7e_row0_col18,#T_0ad7e_row4_col15,#T_0ad7e_row9_col20,#T_0ad7e_row10_col18,#T_0ad7e_row16_col2,#T_0ad7e_row23_col18{\n",
       "            background-color:  #8db0fe;\n",
       "            color:  #000000;\n",
       "        }#T_0ad7e_row0_col19,#T_0ad7e_row0_col23,#T_0ad7e_row3_col21,#T_0ad7e_row8_col22,#T_0ad7e_row10_col3,#T_0ad7e_row11_col21,#T_0ad7e_row17_col11{\n",
       "            background-color:  #aec9fc;\n",
       "            color:  #000000;\n",
       "        }#T_0ad7e_row0_col20,#T_0ad7e_row0_col22,#T_0ad7e_row12_col7,#T_0ad7e_row13_col5,#T_0ad7e_row16_col3,#T_0ad7e_row18_col19,#T_0ad7e_row21_col3{\n",
       "            background-color:  #adc9fd;\n",
       "            color:  #000000;\n",
       "        }#T_0ad7e_row0_col21{\n",
       "            background-color:  #d4dbe6;\n",
       "            color:  #000000;\n",
       "        }#T_0ad7e_row1_col0,#T_0ad7e_row6_col0,#T_0ad7e_row11_col0{\n",
       "            background-color:  #6b8df0;\n",
       "            color:  #000000;\n",
       "        }#T_0ad7e_row1_col2{\n",
       "            background-color:  #f49a7b;\n",
       "            color:  #000000;\n",
       "        }#T_0ad7e_row1_col3{\n",
       "            background-color:  #f2cab5;\n",
       "            color:  #000000;\n",
       "        }#T_0ad7e_row1_col4,#T_0ad7e_row15_col18,#T_0ad7e_row17_col4,#T_0ad7e_row23_col10{\n",
       "            background-color:  #6384eb;\n",
       "            color:  #000000;\n",
       "        }#T_0ad7e_row1_col5,#T_0ad7e_row5_col14,#T_0ad7e_row9_col17,#T_0ad7e_row9_col18,#T_0ad7e_row16_col11,#T_0ad7e_row16_col18,#T_0ad7e_row19_col20{\n",
       "            background-color:  #8fb1fe;\n",
       "            color:  #000000;\n",
       "        }#T_0ad7e_row1_col6{\n",
       "            background-color:  #f7ac8e;\n",
       "            color:  #000000;\n",
       "        }#T_0ad7e_row1_col7,#T_0ad7e_row4_col1,#T_0ad7e_row11_col16,#T_0ad7e_row12_col17,#T_0ad7e_row18_col7,#T_0ad7e_row23_col9{\n",
       "            background-color:  #84a7fc;\n",
       "            color:  #000000;\n",
       "        }#T_0ad7e_row1_col8,#T_0ad7e_row2_col13,#T_0ad7e_row4_col0,#T_0ad7e_row7_col4,#T_0ad7e_row11_col9,#T_0ad7e_row17_col8,#T_0ad7e_row19_col9{\n",
       "            background-color:  #4b64d5;\n",
       "            color:  #f1f1f1;\n",
       "        }#T_0ad7e_row1_col10,#T_0ad7e_row3_col8,#T_0ad7e_row15_col10,#T_0ad7e_row22_col8{\n",
       "            background-color:  #445acc;\n",
       "            color:  #f1f1f1;\n",
       "        }#T_0ad7e_row1_col11,#T_0ad7e_row5_col23{\n",
       "            background-color:  #efcebd;\n",
       "            color:  #000000;\n",
       "        }#T_0ad7e_row1_col13,#T_0ad7e_row2_col8,#T_0ad7e_row3_col12,#T_0ad7e_row4_col10,#T_0ad7e_row5_col0,#T_0ad7e_row6_col8{\n",
       "            background-color:  #4c66d6;\n",
       "            color:  #000000;\n",
       "        }#T_0ad7e_row1_col14,#T_0ad7e_row2_col12,#T_0ad7e_row3_col7,#T_0ad7e_row7_col0,#T_0ad7e_row15_col13,#T_0ad7e_row21_col9{\n",
       "            background-color:  #5470de;\n",
       "            color:  #000000;\n",
       "        }#T_0ad7e_row1_col15,#T_0ad7e_row3_col17,#T_0ad7e_row4_col2,#T_0ad7e_row9_col3,#T_0ad7e_row14_col22{\n",
       "            background-color:  #a7c5fe;\n",
       "            color:  #000000;\n",
       "        }#T_0ad7e_row1_col16,#T_0ad7e_row1_col18,#T_0ad7e_row4_col7,#T_0ad7e_row6_col18,#T_0ad7e_row7_col1,#T_0ad7e_row8_col1,#T_0ad7e_row8_col7,#T_0ad7e_row18_col2,#T_0ad7e_row21_col11,#T_0ad7e_row21_col16{\n",
       "            background-color:  #799cf8;\n",
       "            color:  #000000;\n",
       "        }#T_0ad7e_row1_col17,#T_0ad7e_row2_col17,#T_0ad7e_row4_col23{\n",
       "            background-color:  #b9d0f9;\n",
       "            color:  #000000;\n",
       "        }#T_0ad7e_row1_col19,#T_0ad7e_row20_col3{\n",
       "            background-color:  #c4d5f3;\n",
       "            color:  #000000;\n",
       "        }#T_0ad7e_row1_col20{\n",
       "            background-color:  #ee8468;\n",
       "            color:  #000000;\n",
       "        }#T_0ad7e_row1_col23,#T_0ad7e_row4_col17,#T_0ad7e_row11_col7,#T_0ad7e_row15_col11,#T_0ad7e_row17_col1{\n",
       "            background-color:  #9fbfff;\n",
       "            color:  #000000;\n",
       "        }#T_0ad7e_row2_col0,#T_0ad7e_row3_col16,#T_0ad7e_row5_col17,#T_0ad7e_row6_col16,#T_0ad7e_row10_col1,#T_0ad7e_row18_col11,#T_0ad7e_row18_col20,#T_0ad7e_row20_col4{\n",
       "            background-color:  #6e90f2;\n",
       "            color:  #000000;\n",
       "        }#T_0ad7e_row2_col1{\n",
       "            background-color:  #f7a889;\n",
       "            color:  #000000;\n",
       "        }#T_0ad7e_row2_col3{\n",
       "            background-color:  #e36c55;\n",
       "            color:  #000000;\n",
       "        }#T_0ad7e_row2_col4,#T_0ad7e_row2_col23,#T_0ad7e_row3_col0{\n",
       "            background-color:  #688aef;\n",
       "            color:  #000000;\n",
       "        }#T_0ad7e_row2_col6{\n",
       "            background-color:  #ca3b37;\n",
       "            color:  #f1f1f1;\n",
       "        }#T_0ad7e_row2_col7,#T_0ad7e_row4_col14,#T_0ad7e_row17_col14,#T_0ad7e_row19_col7,#T_0ad7e_row21_col0{\n",
       "            background-color:  #7699f6;\n",
       "            color:  #000000;\n",
       "        }#T_0ad7e_row2_col9,#T_0ad7e_row5_col8,#T_0ad7e_row5_col15,#T_0ad7e_row14_col0{\n",
       "            background-color:  #3c4ec2;\n",
       "            color:  #f1f1f1;\n",
       "        }#T_0ad7e_row2_col10,#T_0ad7e_row22_col12,#T_0ad7e_row23_col0{\n",
       "            background-color:  #3d50c3;\n",
       "            color:  #f1f1f1;\n",
       "        }#T_0ad7e_row2_col11{\n",
       "            background-color:  #f7b194;\n",
       "            color:  #000000;\n",
       "        }#T_0ad7e_row2_col14,#T_0ad7e_row4_col13,#T_0ad7e_row6_col12,#T_0ad7e_row8_col0,#T_0ad7e_row9_col13,#T_0ad7e_row12_col8{\n",
       "            background-color:  #4e68d8;\n",
       "            color:  #000000;\n",
       "        }#T_0ad7e_row2_col15,#T_0ad7e_row7_col20,#T_0ad7e_row18_col3,#T_0ad7e_row19_col2{\n",
       "            background-color:  #abc8fd;\n",
       "            color:  #000000;\n",
       "        }#T_0ad7e_row2_col16,#T_0ad7e_row4_col16{\n",
       "            background-color:  #779af7;\n",
       "            color:  #000000;\n",
       "        }#T_0ad7e_row2_col18,#T_0ad7e_row5_col13,#T_0ad7e_row9_col15,#T_0ad7e_row11_col18{\n",
       "            background-color:  #7597f6;\n",
       "            color:  #000000;\n",
       "        }#T_0ad7e_row2_col19{\n",
       "            background-color:  #ccd9ed;\n",
       "            color:  #000000;\n",
       "        }#T_0ad7e_row2_col20,#T_0ad7e_row20_col6{\n",
       "            background-color:  #d5dbe5;\n",
       "            color:  #000000;\n",
       "        }#T_0ad7e_row2_col21,#T_0ad7e_row7_col11,#T_0ad7e_row16_col5,#T_0ad7e_row17_col22{\n",
       "            background-color:  #a9c6fd;\n",
       "            color:  #000000;\n",
       "        }#T_0ad7e_row2_col22,#T_0ad7e_row14_col23,#T_0ad7e_row15_col22,#T_0ad7e_row16_col19,#T_0ad7e_row20_col19{\n",
       "            background-color:  #bed2f6;\n",
       "            color:  #000000;\n",
       "        }#T_0ad7e_row3_col1,#T_0ad7e_row9_col23{\n",
       "            background-color:  #d6dce4;\n",
       "            color:  #000000;\n",
       "        }#T_0ad7e_row3_col2{\n",
       "            background-color:  #e9785d;\n",
       "            color:  #000000;\n",
       "        }#T_0ad7e_row3_col5,#T_0ad7e_row12_col0,#T_0ad7e_row14_col11,#T_0ad7e_row18_col13,#T_0ad7e_row20_col12,#T_0ad7e_row22_col10{\n",
       "            background-color:  #5875e1;\n",
       "            color:  #000000;\n",
       "        }#T_0ad7e_row3_col6{\n",
       "            background-color:  #d55042;\n",
       "            color:  #000000;\n",
       "        }#T_0ad7e_row3_col9,#T_0ad7e_row3_col10,#T_0ad7e_row3_col23,#T_0ad7e_row14_col1,#T_0ad7e_row14_col4,#T_0ad7e_row14_col20,#T_0ad7e_row15_col12,#T_0ad7e_row15_col16,#T_0ad7e_row16_col8,#T_0ad7e_row16_col15,#T_0ad7e_row17_col18,#T_0ad7e_row18_col17,#T_0ad7e_row19_col0,#T_0ad7e_row19_col21,#T_0ad7e_row20_col14,#T_0ad7e_row21_col19,#T_0ad7e_row22_col5,#T_0ad7e_row22_col7,#T_0ad7e_row22_col11,#T_0ad7e_row22_col13,#T_0ad7e_row23_col2,#T_0ad7e_row23_col3,#T_0ad7e_row23_col6,#T_0ad7e_row23_col22{\n",
       "            background-color:  #3b4cc0;\n",
       "            color:  #f1f1f1;\n",
       "        }#T_0ad7e_row3_col11,#T_0ad7e_row13_col14,#T_0ad7e_row17_col15{\n",
       "            background-color:  #cedaeb;\n",
       "            color:  #000000;\n",
       "        }#T_0ad7e_row3_col13,#T_0ad7e_row9_col0,#T_0ad7e_row18_col4,#T_0ad7e_row19_col10{\n",
       "            background-color:  #4257c9;\n",
       "            color:  #f1f1f1;\n",
       "        }#T_0ad7e_row3_col14,#T_0ad7e_row8_col13,#T_0ad7e_row9_col12,#T_0ad7e_row11_col14,#T_0ad7e_row12_col4,#T_0ad7e_row14_col2,#T_0ad7e_row18_col1{\n",
       "            background-color:  #5977e3;\n",
       "            color:  #000000;\n",
       "        }#T_0ad7e_row3_col15,#T_0ad7e_row15_col23{\n",
       "            background-color:  #a3c2fe;\n",
       "            color:  #000000;\n",
       "        }#T_0ad7e_row3_col18,#T_0ad7e_row14_col7,#T_0ad7e_row18_col16,#T_0ad7e_row19_col14,#T_0ad7e_row20_col16,#T_0ad7e_row21_col2,#T_0ad7e_row21_col7{\n",
       "            background-color:  #7ea1fa;\n",
       "            color:  #000000;\n",
       "        }#T_0ad7e_row3_col19,#T_0ad7e_row17_col6{\n",
       "            background-color:  #c9d7f0;\n",
       "            color:  #000000;\n",
       "        }#T_0ad7e_row3_col20,#T_0ad7e_row5_col16,#T_0ad7e_row7_col3,#T_0ad7e_row13_col22,#T_0ad7e_row21_col18{\n",
       "            background-color:  #98b9ff;\n",
       "            color:  #000000;\n",
       "        }#T_0ad7e_row3_col22{\n",
       "            background-color:  #f7bca1;\n",
       "            color:  #000000;\n",
       "        }#T_0ad7e_row4_col3,#T_0ad7e_row6_col20,#T_0ad7e_row18_col21{\n",
       "            background-color:  #c1d4f4;\n",
       "            color:  #000000;\n",
       "        }#T_0ad7e_row4_col5,#T_0ad7e_row8_col5,#T_0ad7e_row10_col2,#T_0ad7e_row13_col11,#T_0ad7e_row19_col5,#T_0ad7e_row19_col15,#T_0ad7e_row22_col17{\n",
       "            background-color:  #89acfd;\n",
       "            color:  #000000;\n",
       "        }#T_0ad7e_row4_col6,#T_0ad7e_row4_col21,#T_0ad7e_row8_col23,#T_0ad7e_row10_col22,#T_0ad7e_row12_col21,#T_0ad7e_row15_col20{\n",
       "            background-color:  #bad0f8;\n",
       "            color:  #000000;\n",
       "        }#T_0ad7e_row4_col8,#T_0ad7e_row14_col16,#T_0ad7e_row21_col15{\n",
       "            background-color:  #7295f4;\n",
       "            color:  #000000;\n",
       "        }#T_0ad7e_row4_col11,#T_0ad7e_row5_col18{\n",
       "            background-color:  #9abbff;\n",
       "            color:  #000000;\n",
       "        }#T_0ad7e_row4_col12,#T_0ad7e_row8_col12,#T_0ad7e_row10_col12,#T_0ad7e_row12_col9,#T_0ad7e_row16_col12,#T_0ad7e_row23_col12{\n",
       "            background-color:  #5a78e4;\n",
       "            color:  #000000;\n",
       "        }#T_0ad7e_row4_col19,#T_0ad7e_row5_col21,#T_0ad7e_row7_col21,#T_0ad7e_row8_col19,#T_0ad7e_row8_col21,#T_0ad7e_row13_col21,#T_0ad7e_row17_col20,#T_0ad7e_row20_col21,#T_0ad7e_row22_col21{\n",
       "            background-color:  #bbd1f8;\n",
       "            color:  #000000;\n",
       "        }#T_0ad7e_row4_col22,#T_0ad7e_row5_col11,#T_0ad7e_row6_col15,#T_0ad7e_row8_col6,#T_0ad7e_row21_col22{\n",
       "            background-color:  #afcafc;\n",
       "            color:  #000000;\n",
       "        }#T_0ad7e_row5_col1{\n",
       "            background-color:  #6f92f3;\n",
       "            color:  #000000;\n",
       "        }#T_0ad7e_row5_col2,#T_0ad7e_row9_col2,#T_0ad7e_row9_col16,#T_0ad7e_row10_col16,#T_0ad7e_row13_col20,#T_0ad7e_row16_col14{\n",
       "            background-color:  #80a3fa;\n",
       "            color:  #000000;\n",
       "        }#T_0ad7e_row5_col3,#T_0ad7e_row9_col14,#T_0ad7e_row10_col14{\n",
       "            background-color:  #88abfd;\n",
       "            color:  #000000;\n",
       "        }#T_0ad7e_row5_col4,#T_0ad7e_row15_col9,#T_0ad7e_row23_col8{\n",
       "            background-color:  #485fd1;\n",
       "            color:  #f1f1f1;\n",
       "        }#T_0ad7e_row5_col6,#T_0ad7e_row13_col17,#T_0ad7e_row19_col1{\n",
       "            background-color:  #81a4fb;\n",
       "            color:  #000000;\n",
       "        }#T_0ad7e_row5_col7{\n",
       "            background-color:  #f59c7d;\n",
       "            color:  #000000;\n",
       "        }#T_0ad7e_row5_col9,#T_0ad7e_row11_col22{\n",
       "            background-color:  #6687ed;\n",
       "            color:  #000000;\n",
       "        }#T_0ad7e_row5_col10,#T_0ad7e_row18_col12,#T_0ad7e_row21_col13{\n",
       "            background-color:  #5673e0;\n",
       "            color:  #000000;\n",
       "        }#T_0ad7e_row5_col12,#T_0ad7e_row7_col12,#T_0ad7e_row9_col7,#T_0ad7e_row10_col7,#T_0ad7e_row12_col16{\n",
       "            background-color:  #86a9fc;\n",
       "            color:  #000000;\n",
       "        }#T_0ad7e_row5_col19,#T_0ad7e_row6_col17,#T_0ad7e_row12_col3,#T_0ad7e_row12_col19,#T_0ad7e_row17_col23{\n",
       "            background-color:  #b5cdfa;\n",
       "            color:  #000000;\n",
       "        }#T_0ad7e_row5_col22,#T_0ad7e_row22_col20{\n",
       "            background-color:  #5d7ce6;\n",
       "            color:  #000000;\n",
       "        }#T_0ad7e_row6_col1{\n",
       "            background-color:  #f5c2aa;\n",
       "            color:  #000000;\n",
       "        }#T_0ad7e_row6_col2{\n",
       "            background-color:  #cb3e38;\n",
       "            color:  #f1f1f1;\n",
       "        }#T_0ad7e_row6_col3{\n",
       "            background-color:  #d24b40;\n",
       "            color:  #f1f1f1;\n",
       "        }#T_0ad7e_row6_col4,#T_0ad7e_row12_col15,#T_0ad7e_row17_col7,#T_0ad7e_row22_col1{\n",
       "            background-color:  #6788ee;\n",
       "            color:  #000000;\n",
       "        }#T_0ad7e_row6_col5,#T_0ad7e_row11_col4,#T_0ad7e_row14_col12,#T_0ad7e_row21_col1{\n",
       "            background-color:  #6485ec;\n",
       "            color:  #000000;\n",
       "        }#T_0ad7e_row6_col7,#T_0ad7e_row15_col4,#T_0ad7e_row22_col16{\n",
       "            background-color:  #6180e9;\n",
       "            color:  #000000;\n",
       "        }#T_0ad7e_row6_col9,#T_0ad7e_row7_col8,#T_0ad7e_row21_col10{\n",
       "            background-color:  #4055c8;\n",
       "            color:  #f1f1f1;\n",
       "        }#T_0ad7e_row6_col10{\n",
       "            background-color:  #3e51c5;\n",
       "            color:  #f1f1f1;\n",
       "        }#T_0ad7e_row6_col11{\n",
       "            background-color:  #ebd3c6;\n",
       "            color:  #000000;\n",
       "        }#T_0ad7e_row6_col13,#T_0ad7e_row9_col8,#T_0ad7e_row10_col0,#T_0ad7e_row10_col8,#T_0ad7e_row11_col10,#T_0ad7e_row13_col10{\n",
       "            background-color:  #4358cb;\n",
       "            color:  #f1f1f1;\n",
       "        }#T_0ad7e_row6_col14,#T_0ad7e_row6_col23,#T_0ad7e_row10_col9,#T_0ad7e_row14_col9,#T_0ad7e_row19_col13,#T_0ad7e_row21_col4{\n",
       "            background-color:  #4f69d9;\n",
       "            color:  #000000;\n",
       "        }#T_0ad7e_row6_col21,#T_0ad7e_row13_col3,#T_0ad7e_row14_col13,#T_0ad7e_row19_col22,#T_0ad7e_row23_col20{\n",
       "            background-color:  #aac7fd;\n",
       "            color:  #000000;\n",
       "        }#T_0ad7e_row6_col22{\n",
       "            background-color:  #f2c9b4;\n",
       "            color:  #000000;\n",
       "        }#T_0ad7e_row7_col5{\n",
       "            background-color:  #f39577;\n",
       "            color:  #000000;\n",
       "        }#T_0ad7e_row7_col6,#T_0ad7e_row7_col16,#T_0ad7e_row10_col17,#T_0ad7e_row17_col16,#T_0ad7e_row18_col14,#T_0ad7e_row21_col5,#T_0ad7e_row21_col14,#T_0ad7e_row23_col14{\n",
       "            background-color:  #92b4fe;\n",
       "            color:  #000000;\n",
       "        }#T_0ad7e_row7_col9{\n",
       "            background-color:  #5b7ae5;\n",
       "            color:  #000000;\n",
       "        }#T_0ad7e_row7_col13,#T_0ad7e_row9_col1,#T_0ad7e_row13_col1,#T_0ad7e_row13_col16,#T_0ad7e_row22_col9{\n",
       "            background-color:  #6a8bef;\n",
       "            color:  #000000;\n",
       "        }#T_0ad7e_row7_col17,#T_0ad7e_row10_col15{\n",
       "            background-color:  #7a9df8;\n",
       "            color:  #000000;\n",
       "        }#T_0ad7e_row7_col18,#T_0ad7e_row8_col20,#T_0ad7e_row11_col15,#T_0ad7e_row12_col2,#T_0ad7e_row12_col11,#T_0ad7e_row14_col5,#T_0ad7e_row16_col22{\n",
       "            background-color:  #96b7ff;\n",
       "            color:  #000000;\n",
       "        }#T_0ad7e_row7_col19,#T_0ad7e_row9_col19,#T_0ad7e_row10_col19,#T_0ad7e_row10_col21,#T_0ad7e_row11_col5,#T_0ad7e_row16_col21,#T_0ad7e_row18_col23,#T_0ad7e_row20_col5{\n",
       "            background-color:  #b6cefa;\n",
       "            color:  #000000;\n",
       "        }#T_0ad7e_row7_col22,#T_0ad7e_row8_col16,#T_0ad7e_row12_col1,#T_0ad7e_row14_col6,#T_0ad7e_row20_col0,#T_0ad7e_row20_col18{\n",
       "            background-color:  #7396f5;\n",
       "            color:  #000000;\n",
       "        }#T_0ad7e_row7_col23,#T_0ad7e_row11_col20{\n",
       "            background-color:  #e2dad5;\n",
       "            color:  #000000;\n",
       "        }#T_0ad7e_row8_col2,#T_0ad7e_row9_col6,#T_0ad7e_row12_col14,#T_0ad7e_row13_col6,#T_0ad7e_row18_col5,#T_0ad7e_row19_col11{\n",
       "            background-color:  #9bbcff;\n",
       "            color:  #000000;\n",
       "        }#T_0ad7e_row8_col3,#T_0ad7e_row13_col19,#T_0ad7e_row22_col19{\n",
       "            background-color:  #b7cff9;\n",
       "            color:  #000000;\n",
       "        }#T_0ad7e_row8_col9,#T_0ad7e_row9_col4,#T_0ad7e_row10_col13,#T_0ad7e_row11_col8,#T_0ad7e_row15_col0,#T_0ad7e_row15_col5,#T_0ad7e_row15_col7,#T_0ad7e_row18_col15{\n",
       "            background-color:  #506bda;\n",
       "            color:  #000000;\n",
       "        }#T_0ad7e_row8_col14,#T_0ad7e_row13_col2,#T_0ad7e_row16_col20,#T_0ad7e_row23_col17{\n",
       "            background-color:  #8badfd;\n",
       "            color:  #000000;\n",
       "        }#T_0ad7e_row8_col17,#T_0ad7e_row12_col18,#T_0ad7e_row18_col6,#T_0ad7e_row22_col18{\n",
       "            background-color:  #94b6ff;\n",
       "            color:  #000000;\n",
       "        }#T_0ad7e_row9_col5,#T_0ad7e_row16_col17{\n",
       "            background-color:  #a2c1ff;\n",
       "            color:  #000000;\n",
       "        }#T_0ad7e_row9_col21,#T_0ad7e_row12_col5,#T_0ad7e_row15_col2,#T_0ad7e_row17_col2,#T_0ad7e_row19_col6,#T_0ad7e_row21_col23,#T_0ad7e_row23_col7{\n",
       "            background-color:  #bcd2f7;\n",
       "            color:  #000000;\n",
       "        }#T_0ad7e_row10_col4,#T_0ad7e_row11_col13,#T_0ad7e_row20_col9{\n",
       "            background-color:  #5572df;\n",
       "            color:  #000000;\n",
       "        }#T_0ad7e_row10_col5,#T_0ad7e_row12_col22,#T_0ad7e_row19_col17{\n",
       "            background-color:  #9ebeff;\n",
       "            color:  #000000;\n",
       "        }#T_0ad7e_row10_col6,#T_0ad7e_row20_col7{\n",
       "            background-color:  #a1c0ff;\n",
       "            color:  #000000;\n",
       "        }#T_0ad7e_row10_col23{\n",
       "            background-color:  #cad8ef;\n",
       "            color:  #000000;\n",
       "        }#T_0ad7e_row11_col1{\n",
       "            background-color:  #e9d5cb;\n",
       "            color:  #000000;\n",
       "        }#T_0ad7e_row11_col2{\n",
       "            background-color:  #f7ad90;\n",
       "            color:  #000000;\n",
       "        }#T_0ad7e_row11_col3{\n",
       "            background-color:  #e8d6cc;\n",
       "            color:  #000000;\n",
       "        }#T_0ad7e_row11_col6,#T_0ad7e_row11_col23{\n",
       "            background-color:  #f3c7b1;\n",
       "            color:  #000000;\n",
       "        }#T_0ad7e_row11_col12,#T_0ad7e_row13_col12,#T_0ad7e_row15_col14,#T_0ad7e_row23_col13{\n",
       "            background-color:  #5f7fe8;\n",
       "            color:  #000000;\n",
       "        }#T_0ad7e_row11_col17,#T_0ad7e_row23_col19{\n",
       "            background-color:  #b3cdfb;\n",
       "            color:  #000000;\n",
       "        }#T_0ad7e_row11_col19,#T_0ad7e_row19_col3{\n",
       "            background-color:  #c7d7f0;\n",
       "            color:  #000000;\n",
       "        }#T_0ad7e_row12_col6,#T_0ad7e_row22_col2{\n",
       "            background-color:  #a6c4fe;\n",
       "            color:  #000000;\n",
       "        }#T_0ad7e_row12_col13,#T_0ad7e_row23_col15{\n",
       "            background-color:  #6282ea;\n",
       "            color:  #000000;\n",
       "        }#T_0ad7e_row12_col23,#T_0ad7e_row20_col17,#T_0ad7e_row23_col21{\n",
       "            background-color:  #bfd3f6;\n",
       "            color:  #000000;\n",
       "        }#T_0ad7e_row13_col4,#T_0ad7e_row13_col9,#T_0ad7e_row15_col8,#T_0ad7e_row16_col4,#T_0ad7e_row16_col10,#T_0ad7e_row17_col10,#T_0ad7e_row19_col12,#T_0ad7e_row20_col10,#T_0ad7e_row22_col0{\n",
       "            background-color:  #4a63d3;\n",
       "            color:  #f1f1f1;\n",
       "        }#T_0ad7e_row14_col8,#T_0ad7e_row17_col12,#T_0ad7e_row17_col13,#T_0ad7e_row18_col8{\n",
       "            background-color:  #455cce;\n",
       "            color:  #f1f1f1;\n",
       "        }#T_0ad7e_row14_col18,#T_0ad7e_row21_col6{\n",
       "            background-color:  #97b8ff;\n",
       "            color:  #000000;\n",
       "        }#T_0ad7e_row15_col1,#T_0ad7e_row16_col6{\n",
       "            background-color:  #9dbdff;\n",
       "            color:  #000000;\n",
       "        }#T_0ad7e_row15_col3{\n",
       "            background-color:  #d2dbe8;\n",
       "            color:  #000000;\n",
       "        }#T_0ad7e_row15_col6,#T_0ad7e_row20_col23{\n",
       "            background-color:  #cfdaea;\n",
       "            color:  #000000;\n",
       "        }#T_0ad7e_row15_col17{\n",
       "            background-color:  #d8dce2;\n",
       "            color:  #000000;\n",
       "        }#T_0ad7e_row15_col19,#T_0ad7e_row16_col23{\n",
       "            background-color:  #c3d5f4;\n",
       "            color:  #000000;\n",
       "        }#T_0ad7e_row15_col21,#T_0ad7e_row17_col21,#T_0ad7e_row18_col22{\n",
       "            background-color:  #b2ccfb;\n",
       "            color:  #000000;\n",
       "        }#T_0ad7e_row16_col1{\n",
       "            background-color:  #6c8ff1;\n",
       "            color:  #000000;\n",
       "        }#T_0ad7e_row17_col5{\n",
       "            background-color:  #7093f3;\n",
       "            color:  #000000;\n",
       "        }#T_0ad7e_row17_col19{\n",
       "            background-color:  #c5d6f2;\n",
       "            color:  #000000;\n",
       "        }#T_0ad7e_row20_col1{\n",
       "            background-color:  #f08b6e;\n",
       "            color:  #000000;\n",
       "        }#T_0ad7e_row20_col2{\n",
       "            background-color:  #dadce0;\n",
       "            color:  #000000;\n",
       "        }#T_0ad7e_row20_col11{\n",
       "            background-color:  #e1dad6;\n",
       "            color:  #000000;\n",
       "        }#T_0ad7e_row22_col3{\n",
       "            background-color:  #f7b79b;\n",
       "            color:  #000000;\n",
       "        }#T_0ad7e_row22_col6{\n",
       "            background-color:  #f1ccb8;\n",
       "            color:  #000000;\n",
       "        }#T_0ad7e_row23_col5{\n",
       "            background-color:  #dfdbd9;\n",
       "            color:  #000000;\n",
       "        }#T_0ad7e_row23_col11{\n",
       "            background-color:  #e4d9d2;\n",
       "            color:  #000000;\n",
       "        }</style><table id=\"T_0ad7e_\" ><thead>    <tr>        <th class=\"blank level0\" ></th>        <th class=\"col_heading level0 col0\" >total_images</th>        <th class=\"col_heading level0 col1\" >last_price</th>        <th class=\"col_heading level0 col2\" >total_area</th>        <th class=\"col_heading level0 col3\" >rooms</th>        <th class=\"col_heading level0 col4\" >ceiling_height</th>        <th class=\"col_heading level0 col5\" >floors_total</th>        <th class=\"col_heading level0 col6\" >living_area</th>        <th class=\"col_heading level0 col7\" >floor</th>        <th class=\"col_heading level0 col8\" >is_apartment</th>        <th class=\"col_heading level0 col9\" >studio</th>        <th class=\"col_heading level0 col10\" >open_plan</th>        <th class=\"col_heading level0 col11\" >kitchen_area</th>        <th class=\"col_heading level0 col12\" >balcony</th>        <th class=\"col_heading level0 col13\" >airports_nearest</th>        <th class=\"col_heading level0 col14\" >cityCenters_nearest</th>        <th class=\"col_heading level0 col15\" >parks_around3000</th>        <th class=\"col_heading level0 col16\" >parks_nearest</th>        <th class=\"col_heading level0 col17\" >ponds_around3000</th>        <th class=\"col_heading level0 col18\" >ponds_nearest</th>        <th class=\"col_heading level0 col19\" >days_exposition</th>        <th class=\"col_heading level0 col20\" >price_per_square_meter</th>        <th class=\"col_heading level0 col21\" >year</th>        <th class=\"col_heading level0 col22\" >liv_coef</th>        <th class=\"col_heading level0 col23\" >kit_coef</th>    </tr></thead><tbody>\n",
       "                <tr>\n",
       "                        <th id=\"T_0ad7e_level0_row0\" class=\"row_heading level0 row0\" >total_images</th>\n",
       "                        <td id=\"T_0ad7e_row0_col0\" class=\"data row0 col0\" >1.000000</td>\n",
       "                        <td id=\"T_0ad7e_row0_col1\" class=\"data row0 col1\" >0.105026</td>\n",
       "                        <td id=\"T_0ad7e_row0_col2\" class=\"data row0 col2\" >0.116969</td>\n",
       "                        <td id=\"T_0ad7e_row0_col3\" class=\"data row0 col3\" >0.098121</td>\n",
       "                        <td id=\"T_0ad7e_row0_col4\" class=\"data row0 col4\" >0.004470</td>\n",
       "                        <td id=\"T_0ad7e_row0_col5\" class=\"data row0 col5\" >0.009822</td>\n",
       "                        <td id=\"T_0ad7e_row0_col6\" class=\"data row0 col6\" >0.106992</td>\n",
       "                        <td id=\"T_0ad7e_row0_col7\" class=\"data row0 col7\" >0.032781</td>\n",
       "                        <td id=\"T_0ad7e_row0_col8\" class=\"data row0 col8\" >0.010402</td>\n",
       "                        <td id=\"T_0ad7e_row0_col9\" class=\"data row0 col9\" >-0.028201</td>\n",
       "                        <td id=\"T_0ad7e_row0_col10\" class=\"data row0 col10\" >-0.024670</td>\n",
       "                        <td id=\"T_0ad7e_row0_col11\" class=\"data row0 col11\" >0.108484</td>\n",
       "                        <td id=\"T_0ad7e_row0_col12\" class=\"data row0 col12\" >0.046879</td>\n",
       "                        <td id=\"T_0ad7e_row0_col13\" class=\"data row0 col13\" >-0.002701</td>\n",
       "                        <td id=\"T_0ad7e_row0_col14\" class=\"data row0 col14\" >-0.048103</td>\n",
       "                        <td id=\"T_0ad7e_row0_col15\" class=\"data row0 col15\" >0.020955</td>\n",
       "                        <td id=\"T_0ad7e_row0_col16\" class=\"data row0 col16\" >-0.006017</td>\n",
       "                        <td id=\"T_0ad7e_row0_col17\" class=\"data row0 col17\" >-0.011352</td>\n",
       "                        <td id=\"T_0ad7e_row0_col18\" class=\"data row0 col18\" >-0.003995</td>\n",
       "                        <td id=\"T_0ad7e_row0_col19\" class=\"data row0 col19\" >-0.056113</td>\n",
       "                        <td id=\"T_0ad7e_row0_col20\" class=\"data row0 col20\" >0.133189</td>\n",
       "                        <td id=\"T_0ad7e_row0_col21\" class=\"data row0 col21\" >0.139238</td>\n",
       "                        <td id=\"T_0ad7e_row0_col22\" class=\"data row0 col22\" >-0.002142</td>\n",
       "                        <td id=\"T_0ad7e_row0_col23\" class=\"data row0 col23\" >-0.045042</td>\n",
       "            </tr>\n",
       "            <tr>\n",
       "                        <th id=\"T_0ad7e_level0_row1\" class=\"row_heading level0 row1\" >last_price</th>\n",
       "                        <td id=\"T_0ad7e_row1_col0\" class=\"data row1 col0\" >0.105026</td>\n",
       "                        <td id=\"T_0ad7e_row1_col1\" class=\"data row1 col1\" >1.000000</td>\n",
       "                        <td id=\"T_0ad7e_row1_col2\" class=\"data row1 col2\" >0.653621</td>\n",
       "                        <td id=\"T_0ad7e_row1_col3\" class=\"data row1 col3\" >0.365046</td>\n",
       "                        <td id=\"T_0ad7e_row1_col4\" class=\"data row1 col4\" >0.064411</td>\n",
       "                        <td id=\"T_0ad7e_row1_col5\" class=\"data row1 col5\" >-0.006745</td>\n",
       "                        <td id=\"T_0ad7e_row1_col6\" class=\"data row1 col6\" >0.556050</td>\n",
       "                        <td id=\"T_0ad7e_row1_col7\" class=\"data row1 col7\" >0.026842</td>\n",
       "                        <td id=\"T_0ad7e_row1_col8\" class=\"data row1 col8\" >0.026981</td>\n",
       "                        <td id=\"T_0ad7e_row1_col9\" class=\"data row1 col9\" >-0.025084</td>\n",
       "                        <td id=\"T_0ad7e_row1_col10\" class=\"data row1 col10\" >-0.008801</td>\n",
       "                        <td id=\"T_0ad7e_row1_col11\" class=\"data row1 col11\" >0.454102</td>\n",
       "                        <td id=\"T_0ad7e_row1_col12\" class=\"data row1 col12\" >0.008568</td>\n",
       "                        <td id=\"T_0ad7e_row1_col13\" class=\"data row1 col13\" >-0.026216</td>\n",
       "                        <td id=\"T_0ad7e_row1_col14\" class=\"data row1 col14\" >-0.206353</td>\n",
       "                        <td id=\"T_0ad7e_row1_col15\" class=\"data row1 col15\" >0.151492</td>\n",
       "                        <td id=\"T_0ad7e_row1_col16\" class=\"data row1 col16\" >-0.016529</td>\n",
       "                        <td id=\"T_0ad7e_row1_col17\" class=\"data row1 col17\" >0.160735</td>\n",
       "                        <td id=\"T_0ad7e_row1_col18\" class=\"data row1 col18\" >-0.085836</td>\n",
       "                        <td id=\"T_0ad7e_row1_col19\" class=\"data row1 col19\" >0.053312</td>\n",
       "                        <td id=\"T_0ad7e_row1_col20\" class=\"data row1 col20\" >0.736798</td>\n",
       "                        <td id=\"T_0ad7e_row1_col21\" class=\"data row1 col21\" >-0.042864</td>\n",
       "                        <td id=\"T_0ad7e_row1_col22\" class=\"data row1 col22\" >-0.036206</td>\n",
       "                        <td id=\"T_0ad7e_row1_col23\" class=\"data row1 col23\" >-0.116803</td>\n",
       "            </tr>\n",
       "            <tr>\n",
       "                        <th id=\"T_0ad7e_level0_row2\" class=\"row_heading level0 row2\" >total_area</th>\n",
       "                        <td id=\"T_0ad7e_row2_col0\" class=\"data row2 col0\" >0.116969</td>\n",
       "                        <td id=\"T_0ad7e_row2_col1\" class=\"data row2 col1\" >0.653621</td>\n",
       "                        <td id=\"T_0ad7e_row2_col2\" class=\"data row2 col2\" >1.000000</td>\n",
       "                        <td id=\"T_0ad7e_row2_col3\" class=\"data row2 col3\" >0.760623</td>\n",
       "                        <td id=\"T_0ad7e_row2_col4\" class=\"data row2 col4\" >0.080765</td>\n",
       "                        <td id=\"T_0ad7e_row2_col5\" class=\"data row2 col5\" >-0.075252</td>\n",
       "                        <td id=\"T_0ad7e_row2_col6\" class=\"data row2 col6\" >0.909878</td>\n",
       "                        <td id=\"T_0ad7e_row2_col7\" class=\"data row2 col7\" >-0.024368</td>\n",
       "                        <td id=\"T_0ad7e_row2_col8\" class=\"data row2 col8\" >0.029748</td>\n",
       "                        <td id=\"T_0ad7e_row2_col9\" class=\"data row2 col9\" >-0.072000</td>\n",
       "                        <td id=\"T_0ad7e_row2_col10\" class=\"data row2 col10\" >-0.034942</td>\n",
       "                        <td id=\"T_0ad7e_row2_col11\" class=\"data row2 col11\" >0.585764</td>\n",
       "                        <td id=\"T_0ad7e_row2_col12\" class=\"data row2 col12\" >0.010243</td>\n",
       "                        <td id=\"T_0ad7e_row2_col13\" class=\"data row2 col13\" >-0.030466</td>\n",
       "                        <td id=\"T_0ad7e_row2_col14\" class=\"data row2 col14\" >-0.231181</td>\n",
       "                        <td id=\"T_0ad7e_row2_col15\" class=\"data row2 col15\" >0.165890</td>\n",
       "                        <td id=\"T_0ad7e_row2_col16\" class=\"data row2 col16\" >-0.021266</td>\n",
       "                        <td id=\"T_0ad7e_row2_col17\" class=\"data row2 col17\" >0.163757</td>\n",
       "                        <td id=\"T_0ad7e_row2_col18\" class=\"data row2 col18\" >-0.100140</td>\n",
       "                        <td id=\"T_0ad7e_row2_col19\" class=\"data row2 col19\" >0.097027</td>\n",
       "                        <td id=\"T_0ad7e_row2_col20\" class=\"data row2 col20\" >0.302571</td>\n",
       "                        <td id=\"T_0ad7e_row2_col21\" class=\"data row2 col21\" >-0.079041</td>\n",
       "                        <td id=\"T_0ad7e_row2_col22\" class=\"data row2 col22\" >0.076201</td>\n",
       "                        <td id=\"T_0ad7e_row2_col23\" class=\"data row2 col23\" >-0.365191</td>\n",
       "            </tr>\n",
       "            <tr>\n",
       "                        <th id=\"T_0ad7e_level0_row3\" class=\"row_heading level0 row3\" >rooms</th>\n",
       "                        <td id=\"T_0ad7e_row3_col0\" class=\"data row3 col0\" >0.098121</td>\n",
       "                        <td id=\"T_0ad7e_row3_col1\" class=\"data row3 col1\" >0.365046</td>\n",
       "                        <td id=\"T_0ad7e_row3_col2\" class=\"data row3 col2\" >0.760623</td>\n",
       "                        <td id=\"T_0ad7e_row3_col3\" class=\"data row3 col3\" >1.000000</td>\n",
       "                        <td id=\"T_0ad7e_row3_col4\" class=\"data row3 col4\" >0.049416</td>\n",
       "                        <td id=\"T_0ad7e_row3_col5\" class=\"data row3 col5\" >-0.223215</td>\n",
       "                        <td id=\"T_0ad7e_row3_col6\" class=\"data row3 col6\" >0.857106</td>\n",
       "                        <td id=\"T_0ad7e_row3_col7\" class=\"data row3 col7\" >-0.148845</td>\n",
       "                        <td id=\"T_0ad7e_row3_col8\" class=\"data row3 col8\" >0.000048</td>\n",
       "                        <td id=\"T_0ad7e_row3_col9\" class=\"data row3 col9\" >-0.079876</td>\n",
       "                        <td id=\"T_0ad7e_row3_col10\" class=\"data row3 col10\" >-0.045051</td>\n",
       "                        <td id=\"T_0ad7e_row3_col11\" class=\"data row3 col11\" >0.275454</td>\n",
       "                        <td id=\"T_0ad7e_row3_col12\" class=\"data row3 col12\" >-0.012246</td>\n",
       "                        <td id=\"T_0ad7e_row3_col13\" class=\"data row3 col13\" >-0.063463</td>\n",
       "                        <td id=\"T_0ad7e_row3_col14\" class=\"data row3 col14\" >-0.186200</td>\n",
       "                        <td id=\"T_0ad7e_row3_col15\" class=\"data row3 col15\" >0.136655</td>\n",
       "                        <td id=\"T_0ad7e_row3_col16\" class=\"data row3 col16\" >-0.053134</td>\n",
       "                        <td id=\"T_0ad7e_row3_col17\" class=\"data row3 col17\" >0.094715</td>\n",
       "                        <td id=\"T_0ad7e_row3_col18\" class=\"data row3 col18\" >-0.060541</td>\n",
       "                        <td id=\"T_0ad7e_row3_col19\" class=\"data row3 col19\" >0.078130</td>\n",
       "                        <td id=\"T_0ad7e_row3_col20\" class=\"data row3 col20\" >0.057705</td>\n",
       "                        <td id=\"T_0ad7e_row3_col21\" class=\"data row3 col21\" >-0.054226</td>\n",
       "                        <td id=\"T_0ad7e_row3_col22\" class=\"data row3 col22\" >0.470974</td>\n",
       "                        <td id=\"T_0ad7e_row3_col23\" class=\"data row3 col23\" >-0.598608</td>\n",
       "            </tr>\n",
       "            <tr>\n",
       "                        <th id=\"T_0ad7e_level0_row4\" class=\"row_heading level0 row4\" >ceiling_height</th>\n",
       "                        <td id=\"T_0ad7e_row4_col0\" class=\"data row4 col0\" >0.004470</td>\n",
       "                        <td id=\"T_0ad7e_row4_col1\" class=\"data row4 col1\" >0.064411</td>\n",
       "                        <td id=\"T_0ad7e_row4_col2\" class=\"data row4 col2\" >0.080765</td>\n",
       "                        <td id=\"T_0ad7e_row4_col3\" class=\"data row4 col3\" >0.049416</td>\n",
       "                        <td id=\"T_0ad7e_row4_col4\" class=\"data row4 col4\" >1.000000</td>\n",
       "                        <td id=\"T_0ad7e_row4_col5\" class=\"data row4 col5\" >-0.026747</td>\n",
       "                        <td id=\"T_0ad7e_row4_col6\" class=\"data row4 col6\" >0.079131</td>\n",
       "                        <td id=\"T_0ad7e_row4_col7\" class=\"data row4 col7\" >-0.012604</td>\n",
       "                        <td id=\"T_0ad7e_row4_col8\" class=\"data row4 col8\" >0.146555</td>\n",
       "                        <td id=\"T_0ad7e_row4_col9\" class=\"data row4 col9\" >0.000381</td>\n",
       "                        <td id=\"T_0ad7e_row4_col10\" class=\"data row4 col10\" >0.017674</td>\n",
       "                        <td id=\"T_0ad7e_row4_col11\" class=\"data row4 col11\" >0.068110</td>\n",
       "                        <td id=\"T_0ad7e_row4_col12\" class=\"data row4 col12\" >0.032777</td>\n",
       "                        <td id=\"T_0ad7e_row4_col13\" class=\"data row4 col13\" >-0.018764</td>\n",
       "                        <td id=\"T_0ad7e_row4_col14\" class=\"data row4 col14\" >-0.075420</td>\n",
       "                        <td id=\"T_0ad7e_row4_col15\" class=\"data row4 col15\" >0.056845</td>\n",
       "                        <td id=\"T_0ad7e_row4_col16\" class=\"data row4 col16\" >-0.019055</td>\n",
       "                        <td id=\"T_0ad7e_row4_col17\" class=\"data row4 col17\" >0.063707</td>\n",
       "                        <td id=\"T_0ad7e_row4_col18\" class=\"data row4 col18\" >-0.047483</td>\n",
       "                        <td id=\"T_0ad7e_row4_col19\" class=\"data row4 col19\" >0.009371</td>\n",
       "                        <td id=\"T_0ad7e_row4_col20\" class=\"data row4 col20\" >0.099885</td>\n",
       "                        <td id=\"T_0ad7e_row4_col21\" class=\"data row4 col21\" >-0.000189</td>\n",
       "                        <td id=\"T_0ad7e_row4_col22\" class=\"data row4 col22\" >0.006708</td>\n",
       "                        <td id=\"T_0ad7e_row4_col23\" class=\"data row4 col23\" >0.005420</td>\n",
       "            </tr>\n",
       "            <tr>\n",
       "                        <th id=\"T_0ad7e_level0_row5\" class=\"row_heading level0 row5\" >floors_total</th>\n",
       "                        <td id=\"T_0ad7e_row5_col0\" class=\"data row5 col0\" >0.009822</td>\n",
       "                        <td id=\"T_0ad7e_row5_col1\" class=\"data row5 col1\" >-0.006745</td>\n",
       "                        <td id=\"T_0ad7e_row5_col2\" class=\"data row5 col2\" >-0.075252</td>\n",
       "                        <td id=\"T_0ad7e_row5_col3\" class=\"data row5 col3\" >-0.223215</td>\n",
       "                        <td id=\"T_0ad7e_row5_col4\" class=\"data row5 col4\" >-0.026747</td>\n",
       "                        <td id=\"T_0ad7e_row5_col5\" class=\"data row5 col5\" >1.000000</td>\n",
       "                        <td id=\"T_0ad7e_row5_col6\" class=\"data row5 col6\" >-0.170622</td>\n",
       "                        <td id=\"T_0ad7e_row5_col7\" class=\"data row5 col7\" >0.678010</td>\n",
       "                        <td id=\"T_0ad7e_row5_col8\" class=\"data row5 col8\" >-0.026402</td>\n",
       "                        <td id=\"T_0ad7e_row5_col9\" class=\"data row5 col9\" >0.070224</td>\n",
       "                        <td id=\"T_0ad7e_row5_col10\" class=\"data row5 col10\" >0.050844</td>\n",
       "                        <td id=\"T_0ad7e_row5_col11\" class=\"data row5 col11\" >0.148305</td>\n",
       "                        <td id=\"T_0ad7e_row5_col12\" class=\"data row5 col12\" >0.173408</td>\n",
       "                        <td id=\"T_0ad7e_row5_col13\" class=\"data row5 col13\" >0.108547</td>\n",
       "                        <td id=\"T_0ad7e_row5_col14\" class=\"data row5 col14\" >0.018743</td>\n",
       "                        <td id=\"T_0ad7e_row5_col15\" class=\"data row5 col15\" >-0.252490</td>\n",
       "                        <td id=\"T_0ad7e_row5_col16\" class=\"data row5 col16\" >0.097608</td>\n",
       "                        <td id=\"T_0ad7e_row5_col17\" class=\"data row5 col17\" >-0.122799</td>\n",
       "                        <td id=\"T_0ad7e_row5_col18\" class=\"data row5 col18\" >0.040003</td>\n",
       "                        <td id=\"T_0ad7e_row5_col19\" class=\"data row5 col19\" >-0.026246</td>\n",
       "                        <td id=\"T_0ad7e_row5_col20\" class=\"data row5 col20\" >0.148423</td>\n",
       "                        <td id=\"T_0ad7e_row5_col21\" class=\"data row5 col21\" >0.007883</td>\n",
       "                        <td id=\"T_0ad7e_row5_col22\" class=\"data row5 col22\" >-0.350764</td>\n",
       "                        <td id=\"T_0ad7e_row5_col23\" class=\"data row5 col23\" >0.337350</td>\n",
       "            </tr>\n",
       "            <tr>\n",
       "                        <th id=\"T_0ad7e_level0_row6\" class=\"row_heading level0 row6\" >living_area</th>\n",
       "                        <td id=\"T_0ad7e_row6_col0\" class=\"data row6 col0\" >0.106992</td>\n",
       "                        <td id=\"T_0ad7e_row6_col1\" class=\"data row6 col1\" >0.556050</td>\n",
       "                        <td id=\"T_0ad7e_row6_col2\" class=\"data row6 col2\" >0.909878</td>\n",
       "                        <td id=\"T_0ad7e_row6_col3\" class=\"data row6 col3\" >0.857106</td>\n",
       "                        <td id=\"T_0ad7e_row6_col4\" class=\"data row6 col4\" >0.079131</td>\n",
       "                        <td id=\"T_0ad7e_row6_col5\" class=\"data row6 col5\" >-0.170622</td>\n",
       "                        <td id=\"T_0ad7e_row6_col6\" class=\"data row6 col6\" >1.000000</td>\n",
       "                        <td id=\"T_0ad7e_row6_col7\" class=\"data row6 col7\" >-0.098241</td>\n",
       "                        <td id=\"T_0ad7e_row6_col8\" class=\"data row6 col8\" >0.028047</td>\n",
       "                        <td id=\"T_0ad7e_row6_col9\" class=\"data row6 col9\" >-0.055965</td>\n",
       "                        <td id=\"T_0ad7e_row6_col10\" class=\"data row6 col10\" >-0.031674</td>\n",
       "                        <td id=\"T_0ad7e_row6_col11\" class=\"data row6 col11\" >0.423768</td>\n",
       "                        <td id=\"T_0ad7e_row6_col12\" class=\"data row6 col12\" >-0.010635</td>\n",
       "                        <td id=\"T_0ad7e_row6_col13\" class=\"data row6 col13\" >-0.056905</td>\n",
       "                        <td id=\"T_0ad7e_row6_col14\" class=\"data row6 col14\" >-0.225695</td>\n",
       "                        <td id=\"T_0ad7e_row6_col15\" class=\"data row6 col15\" >0.181456</td>\n",
       "                        <td id=\"T_0ad7e_row6_col16\" class=\"data row6 col16\" >-0.053759</td>\n",
       "                        <td id=\"T_0ad7e_row6_col17\" class=\"data row6 col17\" >0.146334</td>\n",
       "                        <td id=\"T_0ad7e_row6_col18\" class=\"data row6 col18\" >-0.083642</td>\n",
       "                        <td id=\"T_0ad7e_row6_col19\" class=\"data row6 col19\" >0.091095</td>\n",
       "                        <td id=\"T_0ad7e_row6_col20\" class=\"data row6 col20\" >0.212774</td>\n",
       "                        <td id=\"T_0ad7e_row6_col21\" class=\"data row6 col21\" >-0.072720</td>\n",
       "                        <td id=\"T_0ad7e_row6_col22\" class=\"data row6 col22\" >0.399228</td>\n",
       "                        <td id=\"T_0ad7e_row6_col23\" class=\"data row6 col23\" >-0.491380</td>\n",
       "            </tr>\n",
       "            <tr>\n",
       "                        <th id=\"T_0ad7e_level0_row7\" class=\"row_heading level0 row7\" >floor</th>\n",
       "                        <td id=\"T_0ad7e_row7_col0\" class=\"data row7 col0\" >0.032781</td>\n",
       "                        <td id=\"T_0ad7e_row7_col1\" class=\"data row7 col1\" >0.026842</td>\n",
       "                        <td id=\"T_0ad7e_row7_col2\" class=\"data row7 col2\" >-0.024368</td>\n",
       "                        <td id=\"T_0ad7e_row7_col3\" class=\"data row7 col3\" >-0.148845</td>\n",
       "                        <td id=\"T_0ad7e_row7_col4\" class=\"data row7 col4\" >-0.012604</td>\n",
       "                        <td id=\"T_0ad7e_row7_col5\" class=\"data row7 col5\" >0.678010</td>\n",
       "                        <td id=\"T_0ad7e_row7_col6\" class=\"data row7 col6\" >-0.098241</td>\n",
       "                        <td id=\"T_0ad7e_row7_col7\" class=\"data row7 col7\" >1.000000</td>\n",
       "                        <td id=\"T_0ad7e_row7_col8\" class=\"data row7 col8\" >-0.013234</td>\n",
       "                        <td id=\"T_0ad7e_row7_col9\" class=\"data row7 col9\" >0.035946</td>\n",
       "                        <td id=\"T_0ad7e_row7_col10\" class=\"data row7 col10\" >0.036184</td>\n",
       "                        <td id=\"T_0ad7e_row7_col11\" class=\"data row7 col11\" >0.124687</td>\n",
       "                        <td id=\"T_0ad7e_row7_col12\" class=\"data row7 col12\" >0.171507</td>\n",
       "                        <td id=\"T_0ad7e_row7_col13\" class=\"data row7 col13\" >0.073129</td>\n",
       "                        <td id=\"T_0ad7e_row7_col14\" class=\"data row7 col14\" >0.008336</td>\n",
       "                        <td id=\"T_0ad7e_row7_col15\" class=\"data row7 col15\" >-0.163601</td>\n",
       "                        <td id=\"T_0ad7e_row7_col16\" class=\"data row7 col16\" >0.072988</td>\n",
       "                        <td id=\"T_0ad7e_row7_col17\" class=\"data row7 col17\" >-0.076240</td>\n",
       "                        <td id=\"T_0ad7e_row7_col18\" class=\"data row7 col18\" >0.026467</td>\n",
       "                        <td id=\"T_0ad7e_row7_col19\" class=\"data row7 col19\" >-0.020818</td>\n",
       "                        <td id=\"T_0ad7e_row7_col20\" class=\"data row7 col20\" >0.129203</td>\n",
       "                        <td id=\"T_0ad7e_row7_col21\" class=\"data row7 col21\" >0.005404</td>\n",
       "                        <td id=\"T_0ad7e_row7_col22\" class=\"data row7 col22\" >-0.255116</td>\n",
       "                        <td id=\"T_0ad7e_row7_col23\" class=\"data row7 col23\" >0.233577</td>\n",
       "            </tr>\n",
       "            <tr>\n",
       "                        <th id=\"T_0ad7e_level0_row8\" class=\"row_heading level0 row8\" >is_apartment</th>\n",
       "                        <td id=\"T_0ad7e_row8_col0\" class=\"data row8 col0\" >0.010402</td>\n",
       "                        <td id=\"T_0ad7e_row8_col1\" class=\"data row8 col1\" >0.026981</td>\n",
       "                        <td id=\"T_0ad7e_row8_col2\" class=\"data row8 col2\" >0.029748</td>\n",
       "                        <td id=\"T_0ad7e_row8_col3\" class=\"data row8 col3\" >0.000048</td>\n",
       "                        <td id=\"T_0ad7e_row8_col4\" class=\"data row8 col4\" >0.146555</td>\n",
       "                        <td id=\"T_0ad7e_row8_col5\" class=\"data row8 col5\" >-0.026402</td>\n",
       "                        <td id=\"T_0ad7e_row8_col6\" class=\"data row8 col6\" >0.028047</td>\n",
       "                        <td id=\"T_0ad7e_row8_col7\" class=\"data row8 col7\" >-0.013234</td>\n",
       "                        <td id=\"T_0ad7e_row8_col8\" class=\"data row8 col8\" >1.000000</td>\n",
       "                        <td id=\"T_0ad7e_row8_col9\" class=\"data row8 col9\" >-0.003641</td>\n",
       "                        <td id=\"T_0ad7e_row8_col10\" class=\"data row8 col10\" >-0.002462</td>\n",
       "                        <td id=\"T_0ad7e_row8_col11\" class=\"data row8 col11\" >0.040138</td>\n",
       "                        <td id=\"T_0ad7e_row8_col12\" class=\"data row8 col12\" >0.032944</td>\n",
       "                        <td id=\"T_0ad7e_row8_col13\" class=\"data row8 col13\" >0.016508</td>\n",
       "                        <td id=\"T_0ad7e_row8_col14\" class=\"data row8 col14\" >0.003734</td>\n",
       "                        <td id=\"T_0ad7e_row8_col15\" class=\"data row8 col15\" >0.020823</td>\n",
       "                        <td id=\"T_0ad7e_row8_col16\" class=\"data row8 col16\" >-0.033553</td>\n",
       "                        <td id=\"T_0ad7e_row8_col17\" class=\"data row8 col17\" >0.024097</td>\n",
       "                        <td id=\"T_0ad7e_row8_col18\" class=\"data row8 col18\" >0.003303</td>\n",
       "                        <td id=\"T_0ad7e_row8_col19\" class=\"data row8 col19\" >0.008686</td>\n",
       "                        <td id=\"T_0ad7e_row8_col20\" class=\"data row8 col20\" >0.044794</td>\n",
       "                        <td id=\"T_0ad7e_row8_col21\" class=\"data row8 col21\" >0.009289</td>\n",
       "                        <td id=\"T_0ad7e_row8_col22\" class=\"data row8 col22\" >0.001022</td>\n",
       "                        <td id=\"T_0ad7e_row8_col23\" class=\"data row8 col23\" >0.012078</td>\n",
       "            </tr>\n",
       "            <tr>\n",
       "                        <th id=\"T_0ad7e_level0_row9\" class=\"row_heading level0 row9\" >studio</th>\n",
       "                        <td id=\"T_0ad7e_row9_col0\" class=\"data row9 col0\" >-0.028201</td>\n",
       "                        <td id=\"T_0ad7e_row9_col1\" class=\"data row9 col1\" >-0.025084</td>\n",
       "                        <td id=\"T_0ad7e_row9_col2\" class=\"data row9 col2\" >-0.072000</td>\n",
       "                        <td id=\"T_0ad7e_row9_col3\" class=\"data row9 col3\" >-0.079876</td>\n",
       "                        <td id=\"T_0ad7e_row9_col4\" class=\"data row9 col4\" >0.000381</td>\n",
       "                        <td id=\"T_0ad7e_row9_col5\" class=\"data row9 col5\" >0.070224</td>\n",
       "                        <td id=\"T_0ad7e_row9_col6\" class=\"data row9 col6\" >-0.055965</td>\n",
       "                        <td id=\"T_0ad7e_row9_col7\" class=\"data row9 col7\" >0.035946</td>\n",
       "                        <td id=\"T_0ad7e_row9_col8\" class=\"data row9 col8\" >-0.003641</td>\n",
       "                        <td id=\"T_0ad7e_row9_col9\" class=\"data row9 col9\" >1.000000</td>\n",
       "                        <td id=\"T_0ad7e_row9_col10\" class=\"data row9 col10\" >-0.004216</td>\n",
       "                        <td id=\"T_0ad7e_row9_col11\" class=\"data row9 col11\" >-0.020179</td>\n",
       "                        <td id=\"T_0ad7e_row9_col12\" class=\"data row9 col12\" >0.030019</td>\n",
       "                        <td id=\"T_0ad7e_row9_col13\" class=\"data row9 col13\" >-0.021707</td>\n",
       "                        <td id=\"T_0ad7e_row9_col14\" class=\"data row9 col14\" >-0.006864</td>\n",
       "                        <td id=\"T_0ad7e_row9_col15\" class=\"data row9 col15\" >-0.030857</td>\n",
       "                        <td id=\"T_0ad7e_row9_col16\" class=\"data row9 col16\" >0.006923</td>\n",
       "                        <td id=\"T_0ad7e_row9_col17\" class=\"data row9 col17\" >0.000813</td>\n",
       "                        <td id=\"T_0ad7e_row9_col18\" class=\"data row9 col18\" >0.001838</td>\n",
       "                        <td id=\"T_0ad7e_row9_col19\" class=\"data row9 col19\" >-0.017050</td>\n",
       "                        <td id=\"T_0ad7e_row9_col20\" class=\"data row9 col20\" >0.015529</td>\n",
       "                        <td id=\"T_0ad7e_row9_col21\" class=\"data row9 col21\" >0.010860</td>\n",
       "                        <td id=\"T_0ad7e_row9_col22\" class=\"data row9 col22\" >0.084412</td>\n",
       "                        <td id=\"T_0ad7e_row9_col23\" class=\"data row9 col23\" >0.160646</td>\n",
       "            </tr>\n",
       "            <tr>\n",
       "                        <th id=\"T_0ad7e_level0_row10\" class=\"row_heading level0 row10\" >open_plan</th>\n",
       "                        <td id=\"T_0ad7e_row10_col0\" class=\"data row10 col0\" >-0.024670</td>\n",
       "                        <td id=\"T_0ad7e_row10_col1\" class=\"data row10 col1\" >-0.008801</td>\n",
       "                        <td id=\"T_0ad7e_row10_col2\" class=\"data row10 col2\" >-0.034942</td>\n",
       "                        <td id=\"T_0ad7e_row10_col3\" class=\"data row10 col3\" >-0.045051</td>\n",
       "                        <td id=\"T_0ad7e_row10_col4\" class=\"data row10 col4\" >0.017674</td>\n",
       "                        <td id=\"T_0ad7e_row10_col5\" class=\"data row10 col5\" >0.050844</td>\n",
       "                        <td id=\"T_0ad7e_row10_col6\" class=\"data row10 col6\" >-0.031674</td>\n",
       "                        <td id=\"T_0ad7e_row10_col7\" class=\"data row10 col7\" >0.036184</td>\n",
       "                        <td id=\"T_0ad7e_row10_col8\" class=\"data row10 col8\" >-0.002462</td>\n",
       "                        <td id=\"T_0ad7e_row10_col9\" class=\"data row10 col9\" >-0.004216</td>\n",
       "                        <td id=\"T_0ad7e_row10_col10\" class=\"data row10 col10\" >1.000000</td>\n",
       "                        <td id=\"T_0ad7e_row10_col11\" class=\"data row10 col11\" >-0.012404</td>\n",
       "                        <td id=\"T_0ad7e_row10_col12\" class=\"data row10 col12\" >0.032541</td>\n",
       "                        <td id=\"T_0ad7e_row10_col13\" class=\"data row10 col13\" >-0.013638</td>\n",
       "                        <td id=\"T_0ad7e_row10_col14\" class=\"data row10 col14\" >-0.004222</td>\n",
       "                        <td id=\"T_0ad7e_row10_col15\" class=\"data row10 col15\" >-0.010118</td>\n",
       "                        <td id=\"T_0ad7e_row10_col16\" class=\"data row10 col16\" >0.010692</td>\n",
       "                        <td id=\"T_0ad7e_row10_col17\" class=\"data row10 col17\" >0.008516</td>\n",
       "                        <td id=\"T_0ad7e_row10_col18\" class=\"data row10 col18\" >-0.003395</td>\n",
       "                        <td id=\"T_0ad7e_row10_col19\" class=\"data row10 col19\" >-0.017029</td>\n",
       "                        <td id=\"T_0ad7e_row10_col20\" class=\"data row10 col20\" >0.008293</td>\n",
       "                        <td id=\"T_0ad7e_row10_col21\" class=\"data row10 col21\" >-0.021402</td>\n",
       "                        <td id=\"T_0ad7e_row10_col22\" class=\"data row10 col22\" >0.053963</td>\n",
       "                        <td id=\"T_0ad7e_row10_col23\" class=\"data row10 col23\" >0.090594</td>\n",
       "            </tr>\n",
       "            <tr>\n",
       "                        <th id=\"T_0ad7e_level0_row11\" class=\"row_heading level0 row11\" >kitchen_area</th>\n",
       "                        <td id=\"T_0ad7e_row11_col0\" class=\"data row11 col0\" >0.108484</td>\n",
       "                        <td id=\"T_0ad7e_row11_col1\" class=\"data row11 col1\" >0.454102</td>\n",
       "                        <td id=\"T_0ad7e_row11_col2\" class=\"data row11 col2\" >0.585764</td>\n",
       "                        <td id=\"T_0ad7e_row11_col3\" class=\"data row11 col3\" >0.275454</td>\n",
       "                        <td id=\"T_0ad7e_row11_col4\" class=\"data row11 col4\" >0.068110</td>\n",
       "                        <td id=\"T_0ad7e_row11_col5\" class=\"data row11 col5\" >0.148305</td>\n",
       "                        <td id=\"T_0ad7e_row11_col6\" class=\"data row11 col6\" >0.423768</td>\n",
       "                        <td id=\"T_0ad7e_row11_col7\" class=\"data row11 col7\" >0.124687</td>\n",
       "                        <td id=\"T_0ad7e_row11_col8\" class=\"data row11 col8\" >0.040138</td>\n",
       "                        <td id=\"T_0ad7e_row11_col9\" class=\"data row11 col9\" >-0.020179</td>\n",
       "                        <td id=\"T_0ad7e_row11_col10\" class=\"data row11 col10\" >-0.012404</td>\n",
       "                        <td id=\"T_0ad7e_row11_col11\" class=\"data row11 col11\" >1.000000</td>\n",
       "                        <td id=\"T_0ad7e_row11_col12\" class=\"data row11 col12\" >0.051275</td>\n",
       "                        <td id=\"T_0ad7e_row11_col13\" class=\"data row11 col13\" >0.006857</td>\n",
       "                        <td id=\"T_0ad7e_row11_col14\" class=\"data row11 col14\" >-0.185572</td>\n",
       "                        <td id=\"T_0ad7e_row11_col15\" class=\"data row11 col15\" >0.086825</td>\n",
       "                        <td id=\"T_0ad7e_row11_col16\" class=\"data row11 col16\" >0.024396</td>\n",
       "                        <td id=\"T_0ad7e_row11_col17\" class=\"data row11 col17\" >0.144822</td>\n",
       "                        <td id=\"T_0ad7e_row11_col18\" class=\"data row11 col18\" >-0.099445</td>\n",
       "                        <td id=\"T_0ad7e_row11_col19\" class=\"data row11 col19\" >0.071742</td>\n",
       "                        <td id=\"T_0ad7e_row11_col20\" class=\"data row11 col20\" >0.367270</td>\n",
       "                        <td id=\"T_0ad7e_row11_col21\" class=\"data row11 col21\" >-0.055409</td>\n",
       "                        <td id=\"T_0ad7e_row11_col22\" class=\"data row11 col22\" >-0.309614</td>\n",
       "                        <td id=\"T_0ad7e_row11_col23\" class=\"data row11 col23\" >0.383596</td>\n",
       "            </tr>\n",
       "            <tr>\n",
       "                        <th id=\"T_0ad7e_level0_row12\" class=\"row_heading level0 row12\" >balcony</th>\n",
       "                        <td id=\"T_0ad7e_row12_col0\" class=\"data row12 col0\" >0.046879</td>\n",
       "                        <td id=\"T_0ad7e_row12_col1\" class=\"data row12 col1\" >0.008568</td>\n",
       "                        <td id=\"T_0ad7e_row12_col2\" class=\"data row12 col2\" >0.010243</td>\n",
       "                        <td id=\"T_0ad7e_row12_col3\" class=\"data row12 col3\" >-0.012246</td>\n",
       "                        <td id=\"T_0ad7e_row12_col4\" class=\"data row12 col4\" >0.032777</td>\n",
       "                        <td id=\"T_0ad7e_row12_col5\" class=\"data row12 col5\" >0.173408</td>\n",
       "                        <td id=\"T_0ad7e_row12_col6\" class=\"data row12 col6\" >-0.010635</td>\n",
       "                        <td id=\"T_0ad7e_row12_col7\" class=\"data row12 col7\" >0.171507</td>\n",
       "                        <td id=\"T_0ad7e_row12_col8\" class=\"data row12 col8\" >0.032944</td>\n",
       "                        <td id=\"T_0ad7e_row12_col9\" class=\"data row12 col9\" >0.030019</td>\n",
       "                        <td id=\"T_0ad7e_row12_col10\" class=\"data row12 col10\" >0.032541</td>\n",
       "                        <td id=\"T_0ad7e_row12_col11\" class=\"data row12 col11\" >0.051275</td>\n",
       "                        <td id=\"T_0ad7e_row12_col12\" class=\"data row12 col12\" >1.000000</td>\n",
       "                        <td id=\"T_0ad7e_row12_col13\" class=\"data row12 col13\" >0.049629</td>\n",
       "                        <td id=\"T_0ad7e_row12_col14\" class=\"data row12 col14\" >0.065257</td>\n",
       "                        <td id=\"T_0ad7e_row12_col15\" class=\"data row12 col15\" >-0.078478</td>\n",
       "                        <td id=\"T_0ad7e_row12_col16\" class=\"data row12 col16\" >0.034663</td>\n",
       "                        <td id=\"T_0ad7e_row12_col17\" class=\"data row12 col17\" >-0.039443</td>\n",
       "                        <td id=\"T_0ad7e_row12_col18\" class=\"data row12 col18\" >0.020395</td>\n",
       "                        <td id=\"T_0ad7e_row12_col19\" class=\"data row12 col19\" >-0.023653</td>\n",
       "                        <td id=\"T_0ad7e_row12_col20\" class=\"data row12 col20\" >0.023500</td>\n",
       "                        <td id=\"T_0ad7e_row12_col21\" class=\"data row12 col21\" >0.002874</td>\n",
       "                        <td id=\"T_0ad7e_row12_col22\" class=\"data row12 col22\" >-0.067924</td>\n",
       "                        <td id=\"T_0ad7e_row12_col23\" class=\"data row12 col23\" >0.034799</td>\n",
       "            </tr>\n",
       "            <tr>\n",
       "                        <th id=\"T_0ad7e_level0_row13\" class=\"row_heading level0 row13\" >airports_nearest</th>\n",
       "                        <td id=\"T_0ad7e_row13_col0\" class=\"data row13 col0\" >-0.002701</td>\n",
       "                        <td id=\"T_0ad7e_row13_col1\" class=\"data row13 col1\" >-0.026216</td>\n",
       "                        <td id=\"T_0ad7e_row13_col2\" class=\"data row13 col2\" >-0.030466</td>\n",
       "                        <td id=\"T_0ad7e_row13_col3\" class=\"data row13 col3\" >-0.063463</td>\n",
       "                        <td id=\"T_0ad7e_row13_col4\" class=\"data row13 col4\" >-0.018764</td>\n",
       "                        <td id=\"T_0ad7e_row13_col5\" class=\"data row13 col5\" >0.108547</td>\n",
       "                        <td id=\"T_0ad7e_row13_col6\" class=\"data row13 col6\" >-0.056905</td>\n",
       "                        <td id=\"T_0ad7e_row13_col7\" class=\"data row13 col7\" >0.073129</td>\n",
       "                        <td id=\"T_0ad7e_row13_col8\" class=\"data row13 col8\" >0.016508</td>\n",
       "                        <td id=\"T_0ad7e_row13_col9\" class=\"data row13 col9\" >-0.021707</td>\n",
       "                        <td id=\"T_0ad7e_row13_col10\" class=\"data row13 col10\" >-0.013638</td>\n",
       "                        <td id=\"T_0ad7e_row13_col11\" class=\"data row13 col11\" >0.006857</td>\n",
       "                        <td id=\"T_0ad7e_row13_col12\" class=\"data row13 col12\" >0.049629</td>\n",
       "                        <td id=\"T_0ad7e_row13_col13\" class=\"data row13 col13\" >1.000000</td>\n",
       "                        <td id=\"T_0ad7e_row13_col14\" class=\"data row13 col14\" >0.271460</td>\n",
       "                        <td id=\"T_0ad7e_row13_col15\" class=\"data row13 col15\" >0.001233</td>\n",
       "                        <td id=\"T_0ad7e_row13_col16\" class=\"data row13 col16\" >-0.071331</td>\n",
       "                        <td id=\"T_0ad7e_row13_col17\" class=\"data row13 col17\" >-0.050344</td>\n",
       "                        <td id=\"T_0ad7e_row13_col18\" class=\"data row13 col18\" >0.014158</td>\n",
       "                        <td id=\"T_0ad7e_row13_col19\" class=\"data row13 col19\" >-0.014220</td>\n",
       "                        <td id=\"T_0ad7e_row13_col20\" class=\"data row13 col20\" >-0.039106</td>\n",
       "                        <td id=\"T_0ad7e_row13_col21\" class=\"data row13 col21\" >0.007494</td>\n",
       "                        <td id=\"T_0ad7e_row13_col22\" class=\"data row13 col22\" >-0.090876</td>\n",
       "                        <td id=\"T_0ad7e_row13_col23\" class=\"data row13 col23\" >0.038447</td>\n",
       "            </tr>\n",
       "            <tr>\n",
       "                        <th id=\"T_0ad7e_level0_row14\" class=\"row_heading level0 row14\" >cityCenters_nearest</th>\n",
       "                        <td id=\"T_0ad7e_row14_col0\" class=\"data row14 col0\" >-0.048103</td>\n",
       "                        <td id=\"T_0ad7e_row14_col1\" class=\"data row14 col1\" >-0.206353</td>\n",
       "                        <td id=\"T_0ad7e_row14_col2\" class=\"data row14 col2\" >-0.231181</td>\n",
       "                        <td id=\"T_0ad7e_row14_col3\" class=\"data row14 col3\" >-0.186200</td>\n",
       "                        <td id=\"T_0ad7e_row14_col4\" class=\"data row14 col4\" >-0.075420</td>\n",
       "                        <td id=\"T_0ad7e_row14_col5\" class=\"data row14 col5\" >0.018743</td>\n",
       "                        <td id=\"T_0ad7e_row14_col6\" class=\"data row14 col6\" >-0.225695</td>\n",
       "                        <td id=\"T_0ad7e_row14_col7\" class=\"data row14 col7\" >0.008336</td>\n",
       "                        <td id=\"T_0ad7e_row14_col8\" class=\"data row14 col8\" >0.003734</td>\n",
       "                        <td id=\"T_0ad7e_row14_col9\" class=\"data row14 col9\" >-0.006864</td>\n",
       "                        <td id=\"T_0ad7e_row14_col10\" class=\"data row14 col10\" >-0.004222</td>\n",
       "                        <td id=\"T_0ad7e_row14_col11\" class=\"data row14 col11\" >-0.185572</td>\n",
       "                        <td id=\"T_0ad7e_row14_col12\" class=\"data row14 col12\" >0.065257</td>\n",
       "                        <td id=\"T_0ad7e_row14_col13\" class=\"data row14 col13\" >0.271460</td>\n",
       "                        <td id=\"T_0ad7e_row14_col14\" class=\"data row14 col14\" >1.000000</td>\n",
       "                        <td id=\"T_0ad7e_row14_col15\" class=\"data row14 col15\" >-0.161807</td>\n",
       "                        <td id=\"T_0ad7e_row14_col16\" class=\"data row14 col16\" >-0.039632</td>\n",
       "                        <td id=\"T_0ad7e_row14_col17\" class=\"data row14 col17\" >-0.074194</td>\n",
       "                        <td id=\"T_0ad7e_row14_col18\" class=\"data row14 col18\" >0.030964</td>\n",
       "                        <td id=\"T_0ad7e_row14_col19\" class=\"data row14 col19\" >-0.044305</td>\n",
       "                        <td id=\"T_0ad7e_row14_col20\" class=\"data row14 col20\" >-0.317596</td>\n",
       "                        <td id=\"T_0ad7e_row14_col21\" class=\"data row14 col21\" >0.030134</td>\n",
       "                        <td id=\"T_0ad7e_row14_col22\" class=\"data row14 col22\" >-0.024885</td>\n",
       "                        <td id=\"T_0ad7e_row14_col23\" class=\"data row14 col23\" >0.030025</td>\n",
       "            </tr>\n",
       "            <tr>\n",
       "                        <th id=\"T_0ad7e_level0_row15\" class=\"row_heading level0 row15\" >parks_around3000</th>\n",
       "                        <td id=\"T_0ad7e_row15_col0\" class=\"data row15 col0\" >0.020955</td>\n",
       "                        <td id=\"T_0ad7e_row15_col1\" class=\"data row15 col1\" >0.151492</td>\n",
       "                        <td id=\"T_0ad7e_row15_col2\" class=\"data row15 col2\" >0.165890</td>\n",
       "                        <td id=\"T_0ad7e_row15_col3\" class=\"data row15 col3\" >0.136655</td>\n",
       "                        <td id=\"T_0ad7e_row15_col4\" class=\"data row15 col4\" >0.056845</td>\n",
       "                        <td id=\"T_0ad7e_row15_col5\" class=\"data row15 col5\" >-0.252490</td>\n",
       "                        <td id=\"T_0ad7e_row15_col6\" class=\"data row15 col6\" >0.181456</td>\n",
       "                        <td id=\"T_0ad7e_row15_col7\" class=\"data row15 col7\" >-0.163601</td>\n",
       "                        <td id=\"T_0ad7e_row15_col8\" class=\"data row15 col8\" >0.020823</td>\n",
       "                        <td id=\"T_0ad7e_row15_col9\" class=\"data row15 col9\" >-0.030857</td>\n",
       "                        <td id=\"T_0ad7e_row15_col10\" class=\"data row15 col10\" >-0.010118</td>\n",
       "                        <td id=\"T_0ad7e_row15_col11\" class=\"data row15 col11\" >0.086825</td>\n",
       "                        <td id=\"T_0ad7e_row15_col12\" class=\"data row15 col12\" >-0.078478</td>\n",
       "                        <td id=\"T_0ad7e_row15_col13\" class=\"data row15 col13\" >0.001233</td>\n",
       "                        <td id=\"T_0ad7e_row15_col14\" class=\"data row15 col14\" >-0.161807</td>\n",
       "                        <td id=\"T_0ad7e_row15_col15\" class=\"data row15 col15\" >1.000000</td>\n",
       "                        <td id=\"T_0ad7e_row15_col16\" class=\"data row15 col16\" >-0.259350</td>\n",
       "                        <td id=\"T_0ad7e_row15_col17\" class=\"data row15 col17\" >0.305109</td>\n",
       "                        <td id=\"T_0ad7e_row15_col18\" class=\"data row15 col18\" >-0.169200</td>\n",
       "                        <td id=\"T_0ad7e_row15_col19\" class=\"data row15 col19\" >0.043515</td>\n",
       "                        <td id=\"T_0ad7e_row15_col20\" class=\"data row15 col20\" >0.185254</td>\n",
       "                        <td id=\"T_0ad7e_row15_col21\" class=\"data row15 col21\" >-0.038778</td>\n",
       "                        <td id=\"T_0ad7e_row15_col22\" class=\"data row15 col22\" >0.076010</td>\n",
       "                        <td id=\"T_0ad7e_row15_col23\" class=\"data row15 col23\" >-0.097801</td>\n",
       "            </tr>\n",
       "            <tr>\n",
       "                        <th id=\"T_0ad7e_level0_row16\" class=\"row_heading level0 row16\" >parks_nearest</th>\n",
       "                        <td id=\"T_0ad7e_row16_col0\" class=\"data row16 col0\" >-0.006017</td>\n",
       "                        <td id=\"T_0ad7e_row16_col1\" class=\"data row16 col1\" >-0.016529</td>\n",
       "                        <td id=\"T_0ad7e_row16_col2\" class=\"data row16 col2\" >-0.021266</td>\n",
       "                        <td id=\"T_0ad7e_row16_col3\" class=\"data row16 col3\" >-0.053134</td>\n",
       "                        <td id=\"T_0ad7e_row16_col4\" class=\"data row16 col4\" >-0.019055</td>\n",
       "                        <td id=\"T_0ad7e_row16_col5\" class=\"data row16 col5\" >0.097608</td>\n",
       "                        <td id=\"T_0ad7e_row16_col6\" class=\"data row16 col6\" >-0.053759</td>\n",
       "                        <td id=\"T_0ad7e_row16_col7\" class=\"data row16 col7\" >0.072988</td>\n",
       "                        <td id=\"T_0ad7e_row16_col8\" class=\"data row16 col8\" >-0.033553</td>\n",
       "                        <td id=\"T_0ad7e_row16_col9\" class=\"data row16 col9\" >0.006923</td>\n",
       "                        <td id=\"T_0ad7e_row16_col10\" class=\"data row16 col10\" >0.010692</td>\n",
       "                        <td id=\"T_0ad7e_row16_col11\" class=\"data row16 col11\" >0.024396</td>\n",
       "                        <td id=\"T_0ad7e_row16_col12\" class=\"data row16 col12\" >0.034663</td>\n",
       "                        <td id=\"T_0ad7e_row16_col13\" class=\"data row16 col13\" >-0.071331</td>\n",
       "                        <td id=\"T_0ad7e_row16_col14\" class=\"data row16 col14\" >-0.039632</td>\n",
       "                        <td id=\"T_0ad7e_row16_col15\" class=\"data row16 col15\" >-0.259350</td>\n",
       "                        <td id=\"T_0ad7e_row16_col16\" class=\"data row16 col16\" >1.000000</td>\n",
       "                        <td id=\"T_0ad7e_row16_col17\" class=\"data row16 col17\" >0.074821</td>\n",
       "                        <td id=\"T_0ad7e_row16_col18\" class=\"data row16 col18\" >0.001780</td>\n",
       "                        <td id=\"T_0ad7e_row16_col19\" class=\"data row16 col19\" >0.020728</td>\n",
       "                        <td id=\"T_0ad7e_row16_col20\" class=\"data row16 col20\" >0.005905</td>\n",
       "                        <td id=\"T_0ad7e_row16_col21\" class=\"data row16 col21\" >-0.018117</td>\n",
       "                        <td id=\"T_0ad7e_row16_col22\" class=\"data row16 col22\" >-0.104691</td>\n",
       "                        <td id=\"T_0ad7e_row16_col23\" class=\"data row16 col23\" >0.053918</td>\n",
       "            </tr>\n",
       "            <tr>\n",
       "                        <th id=\"T_0ad7e_level0_row17\" class=\"row_heading level0 row17\" >ponds_around3000</th>\n",
       "                        <td id=\"T_0ad7e_row17_col0\" class=\"data row17 col0\" >-0.011352</td>\n",
       "                        <td id=\"T_0ad7e_row17_col1\" class=\"data row17 col1\" >0.160735</td>\n",
       "                        <td id=\"T_0ad7e_row17_col2\" class=\"data row17 col2\" >0.163757</td>\n",
       "                        <td id=\"T_0ad7e_row17_col3\" class=\"data row17 col3\" >0.094715</td>\n",
       "                        <td id=\"T_0ad7e_row17_col4\" class=\"data row17 col4\" >0.063707</td>\n",
       "                        <td id=\"T_0ad7e_row17_col5\" class=\"data row17 col5\" >-0.122799</td>\n",
       "                        <td id=\"T_0ad7e_row17_col6\" class=\"data row17 col6\" >0.146334</td>\n",
       "                        <td id=\"T_0ad7e_row17_col7\" class=\"data row17 col7\" >-0.076240</td>\n",
       "                        <td id=\"T_0ad7e_row17_col8\" class=\"data row17 col8\" >0.024097</td>\n",
       "                        <td id=\"T_0ad7e_row17_col9\" class=\"data row17 col9\" >0.000813</td>\n",
       "                        <td id=\"T_0ad7e_row17_col10\" class=\"data row17 col10\" >0.008516</td>\n",
       "                        <td id=\"T_0ad7e_row17_col11\" class=\"data row17 col11\" >0.144822</td>\n",
       "                        <td id=\"T_0ad7e_row17_col12\" class=\"data row17 col12\" >-0.039443</td>\n",
       "                        <td id=\"T_0ad7e_row17_col13\" class=\"data row17 col13\" >-0.050344</td>\n",
       "                        <td id=\"T_0ad7e_row17_col14\" class=\"data row17 col14\" >-0.074194</td>\n",
       "                        <td id=\"T_0ad7e_row17_col15\" class=\"data row17 col15\" >0.305109</td>\n",
       "                        <td id=\"T_0ad7e_row17_col16\" class=\"data row17 col16\" >0.074821</td>\n",
       "                        <td id=\"T_0ad7e_row17_col17\" class=\"data row17 col17\" >1.000000</td>\n",
       "                        <td id=\"T_0ad7e_row17_col18\" class=\"data row17 col18\" >-0.343068</td>\n",
       "                        <td id=\"T_0ad7e_row17_col19\" class=\"data row17 col19\" >0.056695</td>\n",
       "                        <td id=\"T_0ad7e_row17_col20\" class=\"data row17 col20\" >0.191909</td>\n",
       "                        <td id=\"T_0ad7e_row17_col21\" class=\"data row17 col21\" >-0.036438</td>\n",
       "                        <td id=\"T_0ad7e_row17_col22\" class=\"data row17 col22\" >-0.021257</td>\n",
       "                        <td id=\"T_0ad7e_row17_col23\" class=\"data row17 col23\" >-0.015136</td>\n",
       "            </tr>\n",
       "            <tr>\n",
       "                        <th id=\"T_0ad7e_level0_row18\" class=\"row_heading level0 row18\" >ponds_nearest</th>\n",
       "                        <td id=\"T_0ad7e_row18_col0\" class=\"data row18 col0\" >-0.003995</td>\n",
       "                        <td id=\"T_0ad7e_row18_col1\" class=\"data row18 col1\" >-0.085836</td>\n",
       "                        <td id=\"T_0ad7e_row18_col2\" class=\"data row18 col2\" >-0.100140</td>\n",
       "                        <td id=\"T_0ad7e_row18_col3\" class=\"data row18 col3\" >-0.060541</td>\n",
       "                        <td id=\"T_0ad7e_row18_col4\" class=\"data row18 col4\" >-0.047483</td>\n",
       "                        <td id=\"T_0ad7e_row18_col5\" class=\"data row18 col5\" >0.040003</td>\n",
       "                        <td id=\"T_0ad7e_row18_col6\" class=\"data row18 col6\" >-0.083642</td>\n",
       "                        <td id=\"T_0ad7e_row18_col7\" class=\"data row18 col7\" >0.026467</td>\n",
       "                        <td id=\"T_0ad7e_row18_col8\" class=\"data row18 col8\" >0.003303</td>\n",
       "                        <td id=\"T_0ad7e_row18_col9\" class=\"data row18 col9\" >0.001838</td>\n",
       "                        <td id=\"T_0ad7e_row18_col10\" class=\"data row18 col10\" >-0.003395</td>\n",
       "                        <td id=\"T_0ad7e_row18_col11\" class=\"data row18 col11\" >-0.099445</td>\n",
       "                        <td id=\"T_0ad7e_row18_col12\" class=\"data row18 col12\" >0.020395</td>\n",
       "                        <td id=\"T_0ad7e_row18_col13\" class=\"data row18 col13\" >0.014158</td>\n",
       "                        <td id=\"T_0ad7e_row18_col14\" class=\"data row18 col14\" >0.030964</td>\n",
       "                        <td id=\"T_0ad7e_row18_col15\" class=\"data row18 col15\" >-0.169200</td>\n",
       "                        <td id=\"T_0ad7e_row18_col16\" class=\"data row18 col16\" >0.001780</td>\n",
       "                        <td id=\"T_0ad7e_row18_col17\" class=\"data row18 col17\" >-0.343068</td>\n",
       "                        <td id=\"T_0ad7e_row18_col18\" class=\"data row18 col18\" >1.000000</td>\n",
       "                        <td id=\"T_0ad7e_row18_col19\" class=\"data row18 col19\" >-0.065686</td>\n",
       "                        <td id=\"T_0ad7e_row18_col20\" class=\"data row18 col20\" >-0.106256</td>\n",
       "                        <td id=\"T_0ad7e_row18_col21\" class=\"data row18 col21\" >0.038462</td>\n",
       "                        <td id=\"T_0ad7e_row18_col22\" class=\"data row18 col22\" >0.021958</td>\n",
       "                        <td id=\"T_0ad7e_row18_col23\" class=\"data row18 col23\" >-0.006812</td>\n",
       "            </tr>\n",
       "            <tr>\n",
       "                        <th id=\"T_0ad7e_level0_row19\" class=\"row_heading level0 row19\" >days_exposition</th>\n",
       "                        <td id=\"T_0ad7e_row19_col0\" class=\"data row19 col0\" >-0.056113</td>\n",
       "                        <td id=\"T_0ad7e_row19_col1\" class=\"data row19 col1\" >0.053312</td>\n",
       "                        <td id=\"T_0ad7e_row19_col2\" class=\"data row19 col2\" >0.097027</td>\n",
       "                        <td id=\"T_0ad7e_row19_col3\" class=\"data row19 col3\" >0.078130</td>\n",
       "                        <td id=\"T_0ad7e_row19_col4\" class=\"data row19 col4\" >0.009371</td>\n",
       "                        <td id=\"T_0ad7e_row19_col5\" class=\"data row19 col5\" >-0.026246</td>\n",
       "                        <td id=\"T_0ad7e_row19_col6\" class=\"data row19 col6\" >0.091095</td>\n",
       "                        <td id=\"T_0ad7e_row19_col7\" class=\"data row19 col7\" >-0.020818</td>\n",
       "                        <td id=\"T_0ad7e_row19_col8\" class=\"data row19 col8\" >0.008686</td>\n",
       "                        <td id=\"T_0ad7e_row19_col9\" class=\"data row19 col9\" >-0.017050</td>\n",
       "                        <td id=\"T_0ad7e_row19_col10\" class=\"data row19 col10\" >-0.017029</td>\n",
       "                        <td id=\"T_0ad7e_row19_col11\" class=\"data row19 col11\" >0.071742</td>\n",
       "                        <td id=\"T_0ad7e_row19_col12\" class=\"data row19 col12\" >-0.023653</td>\n",
       "                        <td id=\"T_0ad7e_row19_col13\" class=\"data row19 col13\" >-0.014220</td>\n",
       "                        <td id=\"T_0ad7e_row19_col14\" class=\"data row19 col14\" >-0.044305</td>\n",
       "                        <td id=\"T_0ad7e_row19_col15\" class=\"data row19 col15\" >0.043515</td>\n",
       "                        <td id=\"T_0ad7e_row19_col16\" class=\"data row19 col16\" >0.020728</td>\n",
       "                        <td id=\"T_0ad7e_row19_col17\" class=\"data row19 col17\" >0.056695</td>\n",
       "                        <td id=\"T_0ad7e_row19_col18\" class=\"data row19 col18\" >-0.065686</td>\n",
       "                        <td id=\"T_0ad7e_row19_col19\" class=\"data row19 col19\" >1.000000</td>\n",
       "                        <td id=\"T_0ad7e_row19_col20\" class=\"data row19 col20\" >0.019618</td>\n",
       "                        <td id=\"T_0ad7e_row19_col21\" class=\"data row19 col21\" >-0.614506</td>\n",
       "                        <td id=\"T_0ad7e_row19_col22\" class=\"data row19 col22\" >-0.011948</td>\n",
       "                        <td id=\"T_0ad7e_row19_col23\" class=\"data row19 col23\" >-0.030560</td>\n",
       "            </tr>\n",
       "            <tr>\n",
       "                        <th id=\"T_0ad7e_level0_row20\" class=\"row_heading level0 row20\" >price_per_square_meter</th>\n",
       "                        <td id=\"T_0ad7e_row20_col0\" class=\"data row20 col0\" >0.133189</td>\n",
       "                        <td id=\"T_0ad7e_row20_col1\" class=\"data row20 col1\" >0.736798</td>\n",
       "                        <td id=\"T_0ad7e_row20_col2\" class=\"data row20 col2\" >0.302571</td>\n",
       "                        <td id=\"T_0ad7e_row20_col3\" class=\"data row20 col3\" >0.057705</td>\n",
       "                        <td id=\"T_0ad7e_row20_col4\" class=\"data row20 col4\" >0.099885</td>\n",
       "                        <td id=\"T_0ad7e_row20_col5\" class=\"data row20 col5\" >0.148423</td>\n",
       "                        <td id=\"T_0ad7e_row20_col6\" class=\"data row20 col6\" >0.212774</td>\n",
       "                        <td id=\"T_0ad7e_row20_col7\" class=\"data row20 col7\" >0.129203</td>\n",
       "                        <td id=\"T_0ad7e_row20_col8\" class=\"data row20 col8\" >0.044794</td>\n",
       "                        <td id=\"T_0ad7e_row20_col9\" class=\"data row20 col9\" >0.015529</td>\n",
       "                        <td id=\"T_0ad7e_row20_col10\" class=\"data row20 col10\" >0.008293</td>\n",
       "                        <td id=\"T_0ad7e_row20_col11\" class=\"data row20 col11\" >0.367270</td>\n",
       "                        <td id=\"T_0ad7e_row20_col12\" class=\"data row20 col12\" >0.023500</td>\n",
       "                        <td id=\"T_0ad7e_row20_col13\" class=\"data row20 col13\" >-0.039106</td>\n",
       "                        <td id=\"T_0ad7e_row20_col14\" class=\"data row20 col14\" >-0.317596</td>\n",
       "                        <td id=\"T_0ad7e_row20_col15\" class=\"data row20 col15\" >0.185254</td>\n",
       "                        <td id=\"T_0ad7e_row20_col16\" class=\"data row20 col16\" >0.005905</td>\n",
       "                        <td id=\"T_0ad7e_row20_col17\" class=\"data row20 col17\" >0.191909</td>\n",
       "                        <td id=\"T_0ad7e_row20_col18\" class=\"data row20 col18\" >-0.106256</td>\n",
       "                        <td id=\"T_0ad7e_row20_col19\" class=\"data row20 col19\" >0.019618</td>\n",
       "                        <td id=\"T_0ad7e_row20_col20\" class=\"data row20 col20\" >1.000000</td>\n",
       "                        <td id=\"T_0ad7e_row20_col21\" class=\"data row20 col21\" >0.008627</td>\n",
       "                        <td id=\"T_0ad7e_row20_col22\" class=\"data row20 col22\" >-0.172973</td>\n",
       "                        <td id=\"T_0ad7e_row20_col23\" class=\"data row20 col23\" >0.124530</td>\n",
       "            </tr>\n",
       "            <tr>\n",
       "                        <th id=\"T_0ad7e_level0_row21\" class=\"row_heading level0 row21\" >year</th>\n",
       "                        <td id=\"T_0ad7e_row21_col0\" class=\"data row21 col0\" >0.139238</td>\n",
       "                        <td id=\"T_0ad7e_row21_col1\" class=\"data row21 col1\" >-0.042864</td>\n",
       "                        <td id=\"T_0ad7e_row21_col2\" class=\"data row21 col2\" >-0.079041</td>\n",
       "                        <td id=\"T_0ad7e_row21_col3\" class=\"data row21 col3\" >-0.054226</td>\n",
       "                        <td id=\"T_0ad7e_row21_col4\" class=\"data row21 col4\" >-0.000189</td>\n",
       "                        <td id=\"T_0ad7e_row21_col5\" class=\"data row21 col5\" >0.007883</td>\n",
       "                        <td id=\"T_0ad7e_row21_col6\" class=\"data row21 col6\" >-0.072720</td>\n",
       "                        <td id=\"T_0ad7e_row21_col7\" class=\"data row21 col7\" >0.005404</td>\n",
       "                        <td id=\"T_0ad7e_row21_col8\" class=\"data row21 col8\" >0.009289</td>\n",
       "                        <td id=\"T_0ad7e_row21_col9\" class=\"data row21 col9\" >0.010860</td>\n",
       "                        <td id=\"T_0ad7e_row21_col10\" class=\"data row21 col10\" >-0.021402</td>\n",
       "                        <td id=\"T_0ad7e_row21_col11\" class=\"data row21 col11\" >-0.055409</td>\n",
       "                        <td id=\"T_0ad7e_row21_col12\" class=\"data row21 col12\" >0.002874</td>\n",
       "                        <td id=\"T_0ad7e_row21_col13\" class=\"data row21 col13\" >0.007494</td>\n",
       "                        <td id=\"T_0ad7e_row21_col14\" class=\"data row21 col14\" >0.030134</td>\n",
       "                        <td id=\"T_0ad7e_row21_col15\" class=\"data row21 col15\" >-0.038778</td>\n",
       "                        <td id=\"T_0ad7e_row21_col16\" class=\"data row21 col16\" >-0.018117</td>\n",
       "                        <td id=\"T_0ad7e_row21_col17\" class=\"data row21 col17\" >-0.036438</td>\n",
       "                        <td id=\"T_0ad7e_row21_col18\" class=\"data row21 col18\" >0.038462</td>\n",
       "                        <td id=\"T_0ad7e_row21_col19\" class=\"data row21 col19\" >-0.614506</td>\n",
       "                        <td id=\"T_0ad7e_row21_col20\" class=\"data row21 col20\" >0.008627</td>\n",
       "                        <td id=\"T_0ad7e_row21_col21\" class=\"data row21 col21\" >1.000000</td>\n",
       "                        <td id=\"T_0ad7e_row21_col22\" class=\"data row21 col22\" >0.008068</td>\n",
       "                        <td id=\"T_0ad7e_row21_col23\" class=\"data row21 col23\" >0.024746</td>\n",
       "            </tr>\n",
       "            <tr>\n",
       "                        <th id=\"T_0ad7e_level0_row22\" class=\"row_heading level0 row22\" >liv_coef</th>\n",
       "                        <td id=\"T_0ad7e_row22_col0\" class=\"data row22 col0\" >-0.002142</td>\n",
       "                        <td id=\"T_0ad7e_row22_col1\" class=\"data row22 col1\" >-0.036206</td>\n",
       "                        <td id=\"T_0ad7e_row22_col2\" class=\"data row22 col2\" >0.076201</td>\n",
       "                        <td id=\"T_0ad7e_row22_col3\" class=\"data row22 col3\" >0.470974</td>\n",
       "                        <td id=\"T_0ad7e_row22_col4\" class=\"data row22 col4\" >0.006708</td>\n",
       "                        <td id=\"T_0ad7e_row22_col5\" class=\"data row22 col5\" >-0.350764</td>\n",
       "                        <td id=\"T_0ad7e_row22_col6\" class=\"data row22 col6\" >0.399228</td>\n",
       "                        <td id=\"T_0ad7e_row22_col7\" class=\"data row22 col7\" >-0.255116</td>\n",
       "                        <td id=\"T_0ad7e_row22_col8\" class=\"data row22 col8\" >0.001022</td>\n",
       "                        <td id=\"T_0ad7e_row22_col9\" class=\"data row22 col9\" >0.084412</td>\n",
       "                        <td id=\"T_0ad7e_row22_col10\" class=\"data row22 col10\" >0.053963</td>\n",
       "                        <td id=\"T_0ad7e_row22_col11\" class=\"data row22 col11\" >-0.309614</td>\n",
       "                        <td id=\"T_0ad7e_row22_col12\" class=\"data row22 col12\" >-0.067924</td>\n",
       "                        <td id=\"T_0ad7e_row22_col13\" class=\"data row22 col13\" >-0.090876</td>\n",
       "                        <td id=\"T_0ad7e_row22_col14\" class=\"data row22 col14\" >-0.024885</td>\n",
       "                        <td id=\"T_0ad7e_row22_col15\" class=\"data row22 col15\" >0.076010</td>\n",
       "                        <td id=\"T_0ad7e_row22_col16\" class=\"data row22 col16\" >-0.104691</td>\n",
       "                        <td id=\"T_0ad7e_row22_col17\" class=\"data row22 col17\" >-0.021257</td>\n",
       "                        <td id=\"T_0ad7e_row22_col18\" class=\"data row22 col18\" >0.021958</td>\n",
       "                        <td id=\"T_0ad7e_row22_col19\" class=\"data row22 col19\" >-0.011948</td>\n",
       "                        <td id=\"T_0ad7e_row22_col20\" class=\"data row22 col20\" >-0.172973</td>\n",
       "                        <td id=\"T_0ad7e_row22_col21\" class=\"data row22 col21\" >0.008068</td>\n",
       "                        <td id=\"T_0ad7e_row22_col22\" class=\"data row22 col22\" >1.000000</td>\n",
       "                        <td id=\"T_0ad7e_row22_col23\" class=\"data row22 col23\" >-0.523236</td>\n",
       "            </tr>\n",
       "            <tr>\n",
       "                        <th id=\"T_0ad7e_level0_row23\" class=\"row_heading level0 row23\" >kit_coef</th>\n",
       "                        <td id=\"T_0ad7e_row23_col0\" class=\"data row23 col0\" >-0.045042</td>\n",
       "                        <td id=\"T_0ad7e_row23_col1\" class=\"data row23 col1\" >-0.116803</td>\n",
       "                        <td id=\"T_0ad7e_row23_col2\" class=\"data row23 col2\" >-0.365191</td>\n",
       "                        <td id=\"T_0ad7e_row23_col3\" class=\"data row23 col3\" >-0.598608</td>\n",
       "                        <td id=\"T_0ad7e_row23_col4\" class=\"data row23 col4\" >0.005420</td>\n",
       "                        <td id=\"T_0ad7e_row23_col5\" class=\"data row23 col5\" >0.337350</td>\n",
       "                        <td id=\"T_0ad7e_row23_col6\" class=\"data row23 col6\" >-0.491380</td>\n",
       "                        <td id=\"T_0ad7e_row23_col7\" class=\"data row23 col7\" >0.233577</td>\n",
       "                        <td id=\"T_0ad7e_row23_col8\" class=\"data row23 col8\" >0.012078</td>\n",
       "                        <td id=\"T_0ad7e_row23_col9\" class=\"data row23 col9\" >0.160646</td>\n",
       "                        <td id=\"T_0ad7e_row23_col10\" class=\"data row23 col10\" >0.090594</td>\n",
       "                        <td id=\"T_0ad7e_row23_col11\" class=\"data row23 col11\" >0.383596</td>\n",
       "                        <td id=\"T_0ad7e_row23_col12\" class=\"data row23 col12\" >0.034799</td>\n",
       "                        <td id=\"T_0ad7e_row23_col13\" class=\"data row23 col13\" >0.038447</td>\n",
       "                        <td id=\"T_0ad7e_row23_col14\" class=\"data row23 col14\" >0.030025</td>\n",
       "                        <td id=\"T_0ad7e_row23_col15\" class=\"data row23 col15\" >-0.097801</td>\n",
       "                        <td id=\"T_0ad7e_row23_col16\" class=\"data row23 col16\" >0.053918</td>\n",
       "                        <td id=\"T_0ad7e_row23_col17\" class=\"data row23 col17\" >-0.015136</td>\n",
       "                        <td id=\"T_0ad7e_row23_col18\" class=\"data row23 col18\" >-0.006812</td>\n",
       "                        <td id=\"T_0ad7e_row23_col19\" class=\"data row23 col19\" >-0.030560</td>\n",
       "                        <td id=\"T_0ad7e_row23_col20\" class=\"data row23 col20\" >0.124530</td>\n",
       "                        <td id=\"T_0ad7e_row23_col21\" class=\"data row23 col21\" >0.024746</td>\n",
       "                        <td id=\"T_0ad7e_row23_col22\" class=\"data row23 col22\" >-0.523236</td>\n",
       "                        <td id=\"T_0ad7e_row23_col23\" class=\"data row23 col23\" >1.000000</td>\n",
       "            </tr>\n",
       "    </tbody></table>"
      ],
      "text/plain": [
       "<pandas.io.formats.style.Styler at 0x2dc2da21280>"
      ]
     },
     "execution_count": 29,
     "metadata": {},
     "output_type": "execute_result"
    }
   ],
   "source": [
    "df.corr().style.background_gradient('coolwarm')# посмотрим что больше всего коррелирует с площадями - это количсетво комнат"
   ]
  },
  {
   "cell_type": "markdown",
   "metadata": {},
   "source": [
    "## Исследовательский анализ данных"
   ]
  },
  {
   "cell_type": "markdown",
   "metadata": {},
   "source": [
    "**4.1 Создадим переменную `X_1` размером 5% по 95% квантиль, для отображения графика по столбцу `last_price`**"
   ]
  },
  {
   "cell_type": "code",
   "execution_count": 30,
   "metadata": {},
   "outputs": [],
   "source": [
    "X_1 = df.loc[(df['last_price'] >= df['last_price'].quantile(.05))&(\n",
    "    df['last_price'] <= df['last_price'].quantile(.95)), 'last_price']"
   ]
  },
  {
   "cell_type": "code",
   "execution_count": 31,
   "metadata": {},
   "outputs": [
    {
     "data": {
      "image/png": "[encoded data removed]",
      "text/plain": [
       "<Figure size 432x216 with 1 Axes>"
      ]
     },
     "metadata": {
      "needs_background": "light"
     },
     "output_type": "display_data"
    },
    {
     "data": {
      "image/png": "[encoded data removed]",
      "text/plain": [
       "<Figure size 432x288 with 1 Axes>"
      ]
     },
     "metadata": {
      "needs_background": "light"
     },
     "output_type": "display_data"
    }
   ],
   "source": [
    "plt.figure(figsize =(6, 3)) # задаем размер фигуры\n",
    "plt.boxplot(X_1, # строим боксплот\n",
    "            notch=True, # формируем красивый \"разрезик\" в центре\n",
    "            sym=\"o\", # задаем символ выброса\n",
    "            vert=False, # повернем боксплот\n",
    "            widths = 0.1, # задаем толщину линий\n",
    "            patch_artist = True) # заливаем боксплот\n",
    "plt.ylabel('boxplot last_price') # подпись\n",
    "plt.tick_params(axis = 'both', # Применяем параметры к обеим осям\n",
    "            which = 'major', # Применяем параметры к основным делениям\n",
    "            direction = 'inout', # Рисуем деления внутри и снаружи графика\n",
    "            length = 20, # Длинна делений\n",
    "            width = 4, # Ширина делений\n",
    "            color = 'm', # Цвет делений\n",
    "            pad = 10, # Расстояние между черточкой и ее подписью\n",
    "            labelsize = 15, # Размер подписи\n",
    "            labelcolor = 'r' # Цвет подписи\n",
    "           ) # Поворот подписей\n",
    "plt.grid() # отобразим сетку\n",
    "plt.show() # отобразим сам график\n",
    "plt.figure(figsize =(6, 4)) # сформируем размер для гистограммы\n",
    "hist = X_1.plot( # строим график\n",
    "                kind='hist', # присваиваем гистограмму\n",
    "                bins=100, # задаем размер корзин\n",
    "                alpha=0.5, # прозрачность графика\n",
    "                ec='green', # цвет обводки\n",
    "                color='black', # цвет графика\n",
    "                )\n",
    "plt.axvline(x=X_1.median(), # добавим линию медианы\n",
    "                linewidth=3, # толщина линии\n",
    "                color='black', # цвет линии\n",
    "                linestyle='--') # тип линии\n",
    "plt.axvline(x=X_1.mean(), # добавим среднее\n",
    "                linewidth=3,# толщина линии \n",
    "                color='blue',# цвет линии\n",
    "                linestyle='--')# тип линии\n",
    "plt.axvline(x=X_1.quantile(.05), # добавим линию 5% квантили\n",
    "                linewidth=3,\n",
    "                color='r',\n",
    "                linestyle='--')\n",
    "plt.axvline(x=X_1.quantile(.95), # добавим линию 95% квантили\n",
    "                linewidth=3,\n",
    "                color='r',\n",
    "                linestyle='--')\n",
    "plt.title('Распределение по столбцу last_price') # Заголовок\n",
    "plt.xlabel('Значение') # подпишем ось Х\n",
    "plt.ylabel('Частота') # подпишем ось У\n",
    "plt.grid() # сетка\n",
    "plt.show() # отображаем график"
   ]
  },
  {
   "cell_type": "code",
   "execution_count": 32,
   "metadata": {},
   "outputs": [
    {
     "data": {
      "text/plain": [
       "count    2.121400e+04\n",
       "mean     5.379509e+06\n",
       "std      2.648018e+06\n",
       "min      1.860000e+06\n",
       "25%      3.550000e+06\n",
       "50%      4.650000e+06\n",
       "75%      6.490000e+06\n",
       "max      1.530000e+07\n",
       "Name: last_price, dtype: float64"
      ]
     },
     "execution_count": 32,
     "metadata": {},
     "output_type": "execute_result"
    }
   ],
   "source": [
    "X_1.describe()"
   ]
  },
  {
   "cell_type": "markdown",
   "metadata": {},
   "source": [
    "**Создадим функцию для автоматизации определиня корзин**"
   ]
  },
  {
   "cell_type": "code",
   "execution_count": 33,
   "metadata": {},
   "outputs": [],
   "source": [
    "def value_bins(df, value):\n",
    "    if df[value].max() > 100:\n",
    "        return 50\n",
    "    elif df[value].max() > 500:\n",
    "        return 100\n",
    "    elif df[value].max() > 1000:\n",
    "        return 200\n",
    "    else:\n",
    "        return 20"
   ]
  },
  {
   "cell_type": "code",
   "execution_count": 34,
   "metadata": {},
   "outputs": [],
   "source": [
    "def my_histogr(df, column):\n",
    "    coef_bins = 0.005\n",
    "    X_1 = df.loc[(df[column] >= df[column].quantile(.05))&(df[column] <= df[column].quantile(.95)), column]\n",
    "    plt.figure(figsize =(6, 2))\n",
    "    plt.boxplot(X_1,\n",
    "            notch=True,\n",
    "            sym=\"o\",\n",
    "            vert=False,\n",
    "            widths = 0.1,\n",
    "            patch_artist = True)\n",
    "    plt.ylabel('boxplot ' + column)\n",
    "    plt.tick_params(axis = 'both',\n",
    "               which = 'major',\n",
    "               direction = 'inout',\n",
    "               length = 20,\n",
    "               width = 4,\n",
    "               color = 'm',\n",
    "               pad = 10,\n",
    "               labelsize = 15,\n",
    "               labelcolor = 'r'\n",
    "             )\n",
    "    plt.grid()\n",
    "    plt.show()\n",
    "    plt.figure(figsize =(6, 4))\n",
    "    hist = X_1.plot(\n",
    "                kind='hist',\n",
    "                bins=value_bins(df, column),\n",
    "                alpha=0.5,\n",
    "                ec='black',\n",
    "                color='green',\n",
    "                )\n",
    "    plt.axvline(x=X_1.median(),\n",
    "                linewidth=3,\n",
    "                color='black',\n",
    "                linestyle='--')\n",
    "    plt.axvline(x=X_1.mean(), \n",
    "                linewidth=3,\n",
    "                color='blue',\n",
    "                linestyle='--')\n",
    "    plt.axvline(x=X_1.quantile(.05),\n",
    "                linewidth=3,\n",
    "                color='r',\n",
    "                linestyle='--')\n",
    "    plt.axvline(x=X_1.quantile(.95),\n",
    "                linewidth=3,\n",
    "                color='r',\n",
    "                linestyle='--')\n",
    "    plt.title('Распределение по столбцу ' + column)\n",
    "    plt.xlabel('Значение')\n",
    "    plt.ylabel('Частота')\n",
    "    plt.grid()\n",
    "    plt.show()\n",
    "    print('--------------------------------------------------------------')\n"
   ]
  },
  {
   "cell_type": "code",
   "execution_count": 35,
   "metadata": {
    "scrolled": false
   },
   "outputs": [
    {
     "data": {
      "image/png": "[encoded data removed]",
      "text/plain": [
       "<Figure size 432x144 with 1 Axes>"
      ]
     },
     "metadata": {
      "needs_background": "light"
     },
     "output_type": "display_data"
    },
    {
     "data": {
      "image/png": "[encoded data removed]",
      "text/plain": [
       "<Figure size 432x288 with 1 Axes>"
      ]
     },
     "metadata": {
      "needs_background": "light"
     },
     "output_type": "display_data"
    },
    {
     "name": "stdout",
     "output_type": "stream",
     "text": [
      "--------------------------------------------------------------\n"
     ]
    },
    {
     "data": {
      "image/png": "[encoded data removed]",
      "text/plain": [
       "<Figure size 432x144 with 1 Axes>"
      ]
     },
     "metadata": {
      "needs_background": "light"
     },
     "output_type": "display_data"
    },
    {
     "data": {
      "image/png": "[encoded data removed]",
      "text/plain": [
       "<Figure size 432x288 with 1 Axes>"
      ]
     },
     "metadata": {
      "needs_background": "light"
     },
     "output_type": "display_data"
    },
    {
     "name": "stdout",
     "output_type": "stream",
     "text": [
      "--------------------------------------------------------------\n"
     ]
    },
    {
     "data": {
      "image/png": "[encoded data removed]",
      "text/plain": [
       "<Figure size 432x144 with 1 Axes>"
      ]
     },
     "metadata": {
      "needs_background": "light"
     },
     "output_type": "display_data"
    },
    {
     "data": {
      "image/png": "[encoded data removed]",
      "text/plain": [
       "<Figure size 432x288 with 1 Axes>"
      ]
     },
     "metadata": {
      "needs_background": "light"
     },
     "output_type": "display_data"
    },
    {
     "name": "stdout",
     "output_type": "stream",
     "text": [
      "--------------------------------------------------------------\n"
     ]
    },
    {
     "data": {
      "image/png": "[encoded data removed]",
      "text/plain": [
       "<Figure size 432x144 with 1 Axes>"
      ]
     },
     "metadata": {
      "needs_background": "light"
     },
     "output_type": "display_data"
    },
    {
     "data": {
      "image/png": "[encoded data removed]",
      "text/plain": [
       "<Figure size 432x288 with 1 Axes>"
      ]
     },
     "metadata": {
      "needs_background": "light"
     },
     "output_type": "display_data"
    },
    {
     "name": "stdout",
     "output_type": "stream",
     "text": [
      "--------------------------------------------------------------\n"
     ]
    }
   ],
   "source": [
    "my_list = ['total_area', 'rooms', 'ceiling_height', 'days_exposition']\n",
    "for i in my_list:\n",
    "    my_histogr(df, i)"
   ]
  },
  {
   "cell_type": "markdown",
   "metadata": {},
   "source": [
    "**Выводы по столбцам:**"
   ]
  },
  {
   "cell_type": "markdown",
   "metadata": {},
   "source": [
    "* `last_price`: Из данных гистограммы мы видим данные распределены таким образом, что основные данные приходятся в промежутке от 0,2 до 0,6(2млн до 6млн), медианное значение на уровне примерно 0,49. Примерно с 5 млн значения уходят на плато. Основные цены в диапозоне от 1.8млн до 6 млн."
   ]
  },
  {
   "cell_type": "markdown",
   "metadata": {},
   "source": [
    "* `total_area`: По данным гистограммы наблюдаем, что больше всего квартир приходится в диапозоне от 35мкв до 45мкв, дальше идет снижение. Обуславливаю тем, что дороже цена за мкв."
   ]
  },
  {
   "cell_type": "markdown",
   "metadata": {},
   "source": [
    "* `rooms`: Золотая середина приходится на 2-х комнатные квартиры, чуть больше берут однокомнатные и по убыванию 3-х и 4-х комнатные. Считаю, что однокомнатные популярней по ряду причин: цена(доступней для одиноких людей, а также людям в гражданском браке), рентабельность(покупка с целью продать дороже, а так же сдача в наём для приезжих, студентов и т.д), наследство."
   ]
  },
  {
   "cell_type": "markdown",
   "metadata": {},
   "source": [
    "* `ceiling_height`: Здесь наблюлдаем пик на 2,6м высоты. Здесь считаю, что все просто, так как в большинстве у всех квартир одинаковая высота потолков, полюс дополню личным многолетним опытом продажи строительных материалов - чем выше высота потолка, тем дороже и трудозатретней ремонт."
   ]
  },
  {
   "cell_type": "markdown",
   "metadata": {},
   "source": [
    "**4.2 По графику `days_exposition`, можно сказать, что обычно продажа занимает от 70 (средний показатель) до 120 (медианный) дней. Необычно долго продажи идут примерно после 430-440 дней после публикации, а если квартира продаётся через приблизительно 20 дней после публикации, то можно сказать, что она продалась довольно быстро.**"
   ]
  },
  {
   "cell_type": "markdown",
   "metadata": {},
   "source": [
    "**4.3 Теперь уберём все редкие и выбивающиеся значения по всем столбцам, которые мы планируем анализировать: `last_price`, `total_area`, `room`, `ceiling_height`**"
   ]
  },
  {
   "cell_type": "code",
   "execution_count": 36,
   "metadata": {},
   "outputs": [],
   "source": [
    "p95_price = df['last_price'].quantile(0.95)\n",
    "p95_area = df['total_area'].quantile(0.95)\n",
    "p95_rooms = df['rooms'].quantile(0.95)\n",
    "p95_ceiling_height = df['ceiling_height'].quantile(0.95)\n",
    "\n",
    "clean_df = df.query('last_price < @p95_price and total_area < @p95_area and rooms < @p95_rooms and ceiling_height < @p95_ceiling_height' )"
   ]
  },
  {
   "cell_type": "code",
   "execution_count": 37,
   "metadata": {},
   "outputs": [
    {
     "data": {
      "text/html": [
       "<div>\n",
       "<style scoped>\n",
       "    .dataframe tbody tr th:only-of-type {\n",
       "        vertical-align: middle;\n",
       "    }\n",
       "\n",
       "    .dataframe tbody tr th {\n",
       "        vertical-align: top;\n",
       "    }\n",
       "\n",
       "    .dataframe thead th {\n",
       "        text-align: right;\n",
       "    }\n",
       "</style>\n",
       "<table border=\"1\" class=\"dataframe\">\n",
       "  <thead>\n",
       "    <tr style=\"text-align: right;\">\n",
       "      <th></th>\n",
       "      <th>last_price</th>\n",
       "      <th>total_area</th>\n",
       "      <th>rooms</th>\n",
       "      <th>ceiling_height</th>\n",
       "    </tr>\n",
       "  </thead>\n",
       "  <tbody>\n",
       "    <tr>\n",
       "      <th>min</th>\n",
       "      <td>12190.0</td>\n",
       "      <td>12.0</td>\n",
       "      <td>1.0</td>\n",
       "      <td>1.00</td>\n",
       "    </tr>\n",
       "    <tr>\n",
       "      <th>max</th>\n",
       "      <td>15200000.0</td>\n",
       "      <td>115.4</td>\n",
       "      <td>3.0</td>\n",
       "      <td>3.12</td>\n",
       "    </tr>\n",
       "  </tbody>\n",
       "</table>\n",
       "</div>"
      ],
      "text/plain": [
       "     last_price  total_area  rooms  ceiling_height\n",
       "min     12190.0        12.0    1.0            1.00\n",
       "max  15200000.0       115.4    3.0            3.12"
      ]
     },
     "execution_count": 37,
     "metadata": {},
     "output_type": "execute_result"
    }
   ],
   "source": [
    "# КОД РЕВЬЮЕРА\n",
    "\n",
    "clean_df[['last_price', 'total_area','rooms', 'ceiling_height' ]].describe().loc[['min', 'max']]"
   ]
  },
  {
   "cell_type": "markdown",
   "metadata": {},
   "source": [
    "**4.4 Какие факторы больше всего влияют на стоимость квартиры**"
   ]
  },
  {
   "cell_type": "code",
   "execution_count": 38,
   "metadata": {},
   "outputs": [
    {
     "data": {
      "text/html": [
       "<style  type=\"text/css\" >\n",
       "#T_323b9_row0_col0,#T_323b9_row1_col1,#T_323b9_row2_col2,#T_323b9_row3_col3,#T_323b9_row4_col4,#T_323b9_row5_col5,#T_323b9_row6_col6,#T_323b9_row7_col7,#T_323b9_row8_col8,#T_323b9_row9_col9,#T_323b9_row10_col10,#T_323b9_row11_col11,#T_323b9_row12_col12,#T_323b9_row13_col13,#T_323b9_row14_col14,#T_323b9_row15_col15,#T_323b9_row16_col16,#T_323b9_row17_col17,#T_323b9_row18_col18,#T_323b9_row19_col19,#T_323b9_row20_col20,#T_323b9_row21_col21,#T_323b9_row22_col22,#T_323b9_row23_col23{\n",
       "            background-color:  #b40426;\n",
       "            color:  #f1f1f1;\n",
       "        }#T_323b9_row0_col1,#T_323b9_row7_col19,#T_323b9_row9_col19,#T_323b9_row10_col19,#T_323b9_row12_col2,#T_323b9_row12_col19,#T_323b9_row14_col3,#T_323b9_row15_col20,#T_323b9_row15_col21,#T_323b9_row16_col6,#T_323b9_row20_col4,#T_323b9_row20_col19{\n",
       "            background-color:  #b6cefa;\n",
       "            color:  #000000;\n",
       "        }#T_323b9_row0_col2,#T_323b9_row8_col6,#T_323b9_row8_col21,#T_323b9_row14_col21,#T_323b9_row19_col23,#T_323b9_row22_col21{\n",
       "            background-color:  #bcd2f7;\n",
       "            color:  #000000;\n",
       "        }#T_323b9_row0_col3{\n",
       "            background-color:  #cfdaea;\n",
       "            color:  #000000;\n",
       "        }#T_323b9_row0_col4,#T_323b9_row3_col20{\n",
       "            background-color:  #6f92f3;\n",
       "            color:  #000000;\n",
       "        }#T_323b9_row0_col5,#T_323b9_row18_col14{\n",
       "            background-color:  #97b8ff;\n",
       "            color:  #000000;\n",
       "        }#T_323b9_row0_col6,#T_323b9_row2_col22{\n",
       "            background-color:  #cedaeb;\n",
       "            color:  #000000;\n",
       "        }#T_323b9_row0_col7,#T_323b9_row3_col18,#T_323b9_row6_col14,#T_323b9_row9_col17,#T_323b9_row15_col4{\n",
       "            background-color:  #88abfd;\n",
       "            color:  #000000;\n",
       "        }#T_323b9_row0_col8,#T_323b9_row9_col0,#T_323b9_row18_col8,#T_323b9_row20_col8,#T_323b9_row21_col8,#T_323b9_row22_col13{\n",
       "            background-color:  #445acc;\n",
       "            color:  #f1f1f1;\n",
       "        }#T_323b9_row0_col9,#T_323b9_row10_col13,#T_323b9_row15_col7,#T_323b9_row18_col12,#T_323b9_row20_col10,#T_323b9_row23_col12{\n",
       "            background-color:  #5470de;\n",
       "            color:  #000000;\n",
       "        }#T_323b9_row0_col10,#T_323b9_row1_col9,#T_323b9_row19_col12{\n",
       "            background-color:  #4961d2;\n",
       "            color:  #f1f1f1;\n",
       "        }#T_323b9_row0_col11,#T_323b9_row2_col21,#T_323b9_row8_col22,#T_323b9_row15_col23,#T_323b9_row16_col20{\n",
       "            background-color:  #afcafc;\n",
       "            color:  #000000;\n",
       "        }#T_323b9_row0_col12{\n",
       "            background-color:  #5b7ae5;\n",
       "            color:  #000000;\n",
       "        }#T_323b9_row0_col13,#T_323b9_row3_col7,#T_323b9_row19_col9,#T_323b9_row19_col13{\n",
       "            background-color:  #5673e0;\n",
       "            color:  #000000;\n",
       "        }#T_323b9_row0_col14,#T_323b9_row4_col7,#T_323b9_row6_col17,#T_323b9_row7_col14,#T_323b9_row23_col14{\n",
       "            background-color:  #93b5fe;\n",
       "            color:  #000000;\n",
       "        }#T_323b9_row0_col15,#T_323b9_row21_col7,#T_323b9_row23_col18{\n",
       "            background-color:  #7da0f9;\n",
       "            color:  #000000;\n",
       "        }#T_323b9_row0_col16,#T_323b9_row8_col7,#T_323b9_row13_col17,#T_323b9_row18_col1,#T_323b9_row20_col18,#T_323b9_row21_col0{\n",
       "            background-color:  #7a9df8;\n",
       "            color:  #000000;\n",
       "        }#T_323b9_row0_col17,#T_323b9_row1_col0,#T_323b9_row2_col7,#T_323b9_row2_col14,#T_323b9_row5_col12,#T_323b9_row14_col5,#T_323b9_row18_col7,#T_323b9_row21_col17{\n",
       "            background-color:  #81a4fb;\n",
       "            color:  #000000;\n",
       "        }#T_323b9_row0_col18,#T_323b9_row2_col15,#T_323b9_row3_col15,#T_323b9_row8_col17,#T_323b9_row9_col7,#T_323b9_row9_col18,#T_323b9_row10_col7,#T_323b9_row14_col2,#T_323b9_row14_col17{\n",
       "            background-color:  #86a9fc;\n",
       "            color:  #000000;\n",
       "        }#T_323b9_row0_col19,#T_323b9_row3_col11,#T_323b9_row9_col3{\n",
       "            background-color:  #adc9fd;\n",
       "            color:  #000000;\n",
       "        }#T_323b9_row0_col20,#T_323b9_row1_col21,#T_323b9_row9_col21,#T_323b9_row12_col5,#T_323b9_row21_col3,#T_323b9_row23_col21{\n",
       "            background-color:  #bbd1f8;\n",
       "            color:  #000000;\n",
       "        }#T_323b9_row0_col21,#T_323b9_row4_col20,#T_323b9_row4_col23{\n",
       "            background-color:  #d5dbe5;\n",
       "            color:  #000000;\n",
       "        }#T_323b9_row0_col22,#T_323b9_row2_col4,#T_323b9_row4_col5,#T_323b9_row16_col11,#T_323b9_row19_col2{\n",
       "            background-color:  #b1cbfc;\n",
       "            color:  #000000;\n",
       "        }#T_323b9_row0_col23,#T_323b9_row3_col21,#T_323b9_row7_col1,#T_323b9_row10_col3,#T_323b9_row10_col21,#T_323b9_row12_col11,#T_323b9_row13_col6,#T_323b9_row17_col2,#T_323b9_row17_col11,#T_323b9_row17_col21,#T_323b9_row21_col22,#T_323b9_row22_col19{\n",
       "            background-color:  #b5cdfa;\n",
       "            color:  #000000;\n",
       "        }#T_323b9_row1_col2{\n",
       "            background-color:  #ed8366;\n",
       "            color:  #000000;\n",
       "        }#T_323b9_row1_col3{\n",
       "            background-color:  #f6bda2;\n",
       "            color:  #000000;\n",
       "        }#T_323b9_row1_col4,#T_323b9_row15_col17{\n",
       "            background-color:  #cdd9ec;\n",
       "            color:  #000000;\n",
       "        }#T_323b9_row1_col5{\n",
       "            background-color:  #ccd9ed;\n",
       "            color:  #000000;\n",
       "        }#T_323b9_row1_col6{\n",
       "            background-color:  #f7a688;\n",
       "            color:  #000000;\n",
       "        }#T_323b9_row1_col7,#T_323b9_row5_col2,#T_323b9_row14_col6,#T_323b9_row16_col5{\n",
       "            background-color:  #aac7fd;\n",
       "            color:  #000000;\n",
       "        }#T_323b9_row1_col8,#T_323b9_row14_col8{\n",
       "            background-color:  #465ecf;\n",
       "            color:  #f1f1f1;\n",
       "        }#T_323b9_row1_col10,#T_323b9_row3_col9,#T_323b9_row6_col8,#T_323b9_row6_col10,#T_323b9_row14_col0,#T_323b9_row23_col8{\n",
       "            background-color:  #4257c9;\n",
       "            color:  #f1f1f1;\n",
       "        }#T_323b9_row1_col11,#T_323b9_row6_col1{\n",
       "            background-color:  #f7bca1;\n",
       "            color:  #000000;\n",
       "        }#T_323b9_row1_col12,#T_323b9_row6_col0{\n",
       "            background-color:  #6b8df0;\n",
       "            color:  #000000;\n",
       "        }#T_323b9_row1_col13,#T_323b9_row4_col8,#T_323b9_row5_col0,#T_323b9_row7_col15,#T_323b9_row15_col9,#T_323b9_row16_col10,#T_323b9_row17_col10{\n",
       "            background-color:  #536edd;\n",
       "            color:  #000000;\n",
       "        }#T_323b9_row1_col14,#T_323b9_row6_col13,#T_323b9_row8_col10{\n",
       "            background-color:  #4f69d9;\n",
       "            color:  #000000;\n",
       "        }#T_323b9_row1_col15,#T_323b9_row5_col3,#T_323b9_row9_col14,#T_323b9_row19_col14,#T_323b9_row19_col20{\n",
       "            background-color:  #98b9ff;\n",
       "            color:  #000000;\n",
       "        }#T_323b9_row1_col16,#T_323b9_row3_col14,#T_323b9_row6_col4,#T_323b9_row8_col1,#T_323b9_row11_col16,#T_323b9_row16_col7,#T_323b9_row17_col4,#T_323b9_row22_col18,#T_323b9_row23_col4,#T_323b9_row23_col9{\n",
       "            background-color:  #90b2fe;\n",
       "            color:  #000000;\n",
       "        }#T_323b9_row1_col17,#T_323b9_row9_col6,#T_323b9_row15_col2,#T_323b9_row19_col11,#T_323b9_row19_col22,#T_323b9_row21_col20{\n",
       "            background-color:  #abc8fd;\n",
       "            color:  #000000;\n",
       "        }#T_323b9_row1_col18,#T_323b9_row8_col15,#T_323b9_row10_col15,#T_323b9_row19_col4,#T_323b9_row19_col7,#T_323b9_row20_col22,#T_323b9_row22_col9{\n",
       "            background-color:  #799cf8;\n",
       "            color:  #000000;\n",
       "        }#T_323b9_row1_col19,#T_323b9_row3_col19,#T_323b9_row4_col3,#T_323b9_row17_col3,#T_323b9_row18_col21{\n",
       "            background-color:  #c1d4f4;\n",
       "            color:  #000000;\n",
       "        }#T_323b9_row1_col20{\n",
       "            background-color:  #f18f71;\n",
       "            color:  #000000;\n",
       "        }#T_323b9_row1_col22,#T_323b9_row2_col20,#T_323b9_row8_col14,#T_323b9_row13_col2{\n",
       "            background-color:  #a1c0ff;\n",
       "            color:  #000000;\n",
       "        }#T_323b9_row1_col23,#T_323b9_row7_col2,#T_323b9_row8_col2,#T_323b9_row9_col5,#T_323b9_row12_col22,#T_323b9_row13_col11{\n",
       "            background-color:  #a5c3fe;\n",
       "            color:  #000000;\n",
       "        }#T_323b9_row2_col0,#T_323b9_row3_col4,#T_323b9_row5_col17,#T_323b9_row6_col5,#T_323b9_row21_col16{\n",
       "            background-color:  #7093f3;\n",
       "            color:  #000000;\n",
       "        }#T_323b9_row2_col1{\n",
       "            background-color:  #f08b6e;\n",
       "            color:  #000000;\n",
       "        }#T_323b9_row2_col3{\n",
       "            background-color:  #de614d;\n",
       "            color:  #000000;\n",
       "        }#T_323b9_row2_col5,#T_323b9_row9_col11,#T_323b9_row16_col17{\n",
       "            background-color:  #9dbdff;\n",
       "            color:  #000000;\n",
       "        }#T_323b9_row2_col6{\n",
       "            background-color:  #cd423b;\n",
       "            color:  #f1f1f1;\n",
       "        }#T_323b9_row2_col8,#T_323b9_row6_col9,#T_323b9_row10_col0,#T_323b9_row11_col8,#T_323b9_row13_col8,#T_323b9_row17_col0,#T_323b9_row17_col12{\n",
       "            background-color:  #455cce;\n",
       "            color:  #f1f1f1;\n",
       "        }#T_323b9_row2_col9,#T_323b9_row2_col10,#T_323b9_row3_col23,#T_323b9_row14_col1,#T_323b9_row14_col4,#T_323b9_row14_col20,#T_323b9_row15_col12,#T_323b9_row15_col16,#T_323b9_row16_col8,#T_323b9_row16_col13,#T_323b9_row16_col15,#T_323b9_row17_col18,#T_323b9_row18_col17,#T_323b9_row19_col0,#T_323b9_row19_col21,#T_323b9_row20_col14,#T_323b9_row21_col19,#T_323b9_row22_col5,#T_323b9_row22_col7,#T_323b9_row22_col11,#T_323b9_row23_col2,#T_323b9_row23_col3,#T_323b9_row23_col6,#T_323b9_row23_col22{\n",
       "            background-color:  #3b4cc0;\n",
       "            color:  #f1f1f1;\n",
       "        }#T_323b9_row2_col11{\n",
       "            background-color:  #f3c7b1;\n",
       "            color:  #000000;\n",
       "        }#T_323b9_row2_col12,#T_323b9_row3_col0{\n",
       "            background-color:  #688aef;\n",
       "            color:  #000000;\n",
       "        }#T_323b9_row2_col13,#T_323b9_row3_col12,#T_323b9_row4_col12,#T_323b9_row7_col0,#T_323b9_row9_col12,#T_323b9_row11_col9,#T_323b9_row13_col12,#T_323b9_row14_col9,#T_323b9_row16_col12,#T_323b9_row18_col15{\n",
       "            background-color:  #5875e1;\n",
       "            color:  #000000;\n",
       "        }#T_323b9_row2_col16,#T_323b9_row6_col18,#T_323b9_row10_col18{\n",
       "            background-color:  #85a8fc;\n",
       "            color:  #000000;\n",
       "        }#T_323b9_row2_col17,#T_323b9_row10_col11,#T_323b9_row16_col1{\n",
       "            background-color:  #9ebeff;\n",
       "            color:  #000000;\n",
       "        }#T_323b9_row2_col18,#T_323b9_row7_col12,#T_323b9_row11_col14,#T_323b9_row12_col17,#T_323b9_row19_col15{\n",
       "            background-color:  #80a3fa;\n",
       "            color:  #000000;\n",
       "        }#T_323b9_row2_col19,#T_323b9_row15_col3,#T_323b9_row19_col3,#T_323b9_row20_col21{\n",
       "            background-color:  #c6d6f1;\n",
       "            color:  #000000;\n",
       "        }#T_323b9_row2_col23,#T_323b9_row3_col5,#T_323b9_row12_col13{\n",
       "            background-color:  #6282ea;\n",
       "            color:  #000000;\n",
       "        }#T_323b9_row3_col1{\n",
       "            background-color:  #ebd3c6;\n",
       "            color:  #000000;\n",
       "        }#T_323b9_row3_col2{\n",
       "            background-color:  #e36b54;\n",
       "            color:  #000000;\n",
       "        }#T_323b9_row3_col6,#T_323b9_row6_col3{\n",
       "            background-color:  #ca3b37;\n",
       "            color:  #f1f1f1;\n",
       "        }#T_323b9_row3_col8,#T_323b9_row7_col8,#T_323b9_row15_col8,#T_323b9_row19_col8,#T_323b9_row22_col8,#T_323b9_row22_col12{\n",
       "            background-color:  #3e51c5;\n",
       "            color:  #f1f1f1;\n",
       "        }#T_323b9_row3_col10,#T_323b9_row6_col23,#T_323b9_row9_col8,#T_323b9_row10_col8,#T_323b9_row17_col8{\n",
       "            background-color:  #3f53c6;\n",
       "            color:  #f1f1f1;\n",
       "        }#T_323b9_row3_col13,#T_323b9_row4_col10,#T_323b9_row9_col13{\n",
       "            background-color:  #516ddb;\n",
       "            color:  #000000;\n",
       "        }#T_323b9_row3_col16,#T_323b9_row9_col4,#T_323b9_row11_col15{\n",
       "            background-color:  #7396f5;\n",
       "            color:  #000000;\n",
       "        }#T_323b9_row3_col17,#T_323b9_row5_col18,#T_323b9_row8_col18,#T_323b9_row10_col17,#T_323b9_row16_col18{\n",
       "            background-color:  #8badfd;\n",
       "            color:  #000000;\n",
       "        }#T_323b9_row3_col22{\n",
       "            background-color:  #f7a98b;\n",
       "            color:  #000000;\n",
       "        }#T_323b9_row4_col0,#T_323b9_row8_col0,#T_323b9_row11_col22{\n",
       "            background-color:  #506bda;\n",
       "            color:  #000000;\n",
       "        }#T_323b9_row4_col1{\n",
       "            background-color:  #dcdddd;\n",
       "            color:  #000000;\n",
       "        }#T_323b9_row4_col2,#T_323b9_row7_col20,#T_323b9_row13_col14{\n",
       "            background-color:  #d4dbe6;\n",
       "            color:  #000000;\n",
       "        }#T_323b9_row4_col6,#T_323b9_row7_col11,#T_323b9_row10_col23{\n",
       "            background-color:  #d2dbe8;\n",
       "            color:  #000000;\n",
       "        }#T_323b9_row4_col9,#T_323b9_row22_col10{\n",
       "            background-color:  #6384eb;\n",
       "            color:  #000000;\n",
       "        }#T_323b9_row4_col11,#T_323b9_row20_col5{\n",
       "            background-color:  #e1dad6;\n",
       "            color:  #000000;\n",
       "        }#T_323b9_row4_col13,#T_323b9_row12_col8,#T_323b9_row16_col0,#T_323b9_row18_col0{\n",
       "            background-color:  #4b64d5;\n",
       "            color:  #f1f1f1;\n",
       "        }#T_323b9_row4_col14,#T_323b9_row10_col4,#T_323b9_row23_col10{\n",
       "            background-color:  #6e90f2;\n",
       "            color:  #000000;\n",
       "        }#T_323b9_row4_col15,#T_323b9_row5_col16,#T_323b9_row18_col5,#T_323b9_row21_col11{\n",
       "            background-color:  #96b7ff;\n",
       "            color:  #000000;\n",
       "        }#T_323b9_row4_col16,#T_323b9_row4_col18,#T_323b9_row8_col16,#T_323b9_row12_col4,#T_323b9_row21_col15,#T_323b9_row22_col1{\n",
       "            background-color:  #7699f6;\n",
       "            color:  #000000;\n",
       "        }#T_323b9_row4_col17,#T_323b9_row13_col5,#T_323b9_row17_col22{\n",
       "            background-color:  #a7c5fe;\n",
       "            color:  #000000;\n",
       "        }#T_323b9_row4_col19,#T_323b9_row6_col11,#T_323b9_row6_col19,#T_323b9_row12_col23,#T_323b9_row13_col23,#T_323b9_row17_col19,#T_323b9_row17_col23,#T_323b9_row22_col2{\n",
       "            background-color:  #c3d5f4;\n",
       "            color:  #000000;\n",
       "        }#T_323b9_row4_col21,#T_323b9_row17_col1{\n",
       "            background-color:  #aec9fc;\n",
       "            color:  #000000;\n",
       "        }#T_323b9_row4_col22,#T_323b9_row5_col4,#T_323b9_row7_col16,#T_323b9_row8_col5,#T_323b9_row10_col2,#T_323b9_row18_col20,#T_323b9_row19_col5,#T_323b9_row22_col15{\n",
       "            background-color:  #8fb1fe;\n",
       "            color:  #000000;\n",
       "        }#T_323b9_row5_col1,#T_323b9_row15_col6{\n",
       "            background-color:  #c7d7f0;\n",
       "            color:  #000000;\n",
       "        }#T_323b9_row5_col6,#T_323b9_row8_col20,#T_323b9_row10_col5,#T_323b9_row10_col20,#T_323b9_row11_col17,#T_323b9_row21_col14,#T_323b9_row22_col14{\n",
       "            background-color:  #9fbfff;\n",
       "            color:  #000000;\n",
       "        }#T_323b9_row5_col7{\n",
       "            background-color:  #f59d7e;\n",
       "            color:  #000000;\n",
       "        }#T_323b9_row5_col8{\n",
       "            background-color:  #3c4ec2;\n",
       "            color:  #f1f1f1;\n",
       "        }#T_323b9_row5_col9,#T_323b9_row5_col13,#T_323b9_row9_col15,#T_323b9_row14_col7,#T_323b9_row19_col18{\n",
       "            background-color:  #7295f4;\n",
       "            color:  #000000;\n",
       "        }#T_323b9_row5_col10,#T_323b9_row8_col13,#T_323b9_row13_col4,#T_323b9_row20_col12,#T_323b9_row21_col9,#T_323b9_row22_col20,#T_323b9_row23_col13{\n",
       "            background-color:  #5e7de7;\n",
       "            color:  #000000;\n",
       "        }#T_323b9_row5_col11,#T_323b9_row5_col20{\n",
       "            background-color:  #e5d8d1;\n",
       "            color:  #000000;\n",
       "        }#T_323b9_row5_col14,#T_323b9_row7_col18,#T_323b9_row12_col18,#T_323b9_row13_col7,#T_323b9_row13_col18,#T_323b9_row21_col1{\n",
       "            background-color:  #8caffe;\n",
       "            color:  #000000;\n",
       "        }#T_323b9_row5_col15{\n",
       "            background-color:  #4055c8;\n",
       "            color:  #f1f1f1;\n",
       "        }#T_323b9_row5_col19,#T_323b9_row14_col19,#T_323b9_row17_col20,#T_323b9_row18_col22,#T_323b9_row18_col23,#T_323b9_row23_col19{\n",
       "            background-color:  #b7cff9;\n",
       "            color:  #000000;\n",
       "        }#T_323b9_row5_col21,#T_323b9_row8_col19,#T_323b9_row12_col21,#T_323b9_row13_col19,#T_323b9_row14_col23{\n",
       "            background-color:  #b9d0f9;\n",
       "            color:  #000000;\n",
       "        }#T_323b9_row5_col22,#T_323b9_row11_col13,#T_323b9_row16_col9,#T_323b9_row22_col16{\n",
       "            background-color:  #5f7fe8;\n",
       "            color:  #000000;\n",
       "        }#T_323b9_row5_col23{\n",
       "            background-color:  #f2c9b4;\n",
       "            color:  #000000;\n",
       "        }#T_323b9_row6_col2{\n",
       "            background-color:  #d0473d;\n",
       "            color:  #f1f1f1;\n",
       "        }#T_323b9_row6_col7,#T_323b9_row11_col0,#T_323b9_row14_col15,#T_323b9_row15_col13{\n",
       "            background-color:  #6180e9;\n",
       "            color:  #000000;\n",
       "        }#T_323b9_row6_col12,#T_323b9_row13_col16,#T_323b9_row17_col9,#T_323b9_row18_col13,#T_323b9_row21_col4{\n",
       "            background-color:  #5d7ce6;\n",
       "            color:  #000000;\n",
       "        }#T_323b9_row6_col15,#T_323b9_row23_col17{\n",
       "            background-color:  #8db0fe;\n",
       "            color:  #000000;\n",
       "        }#T_323b9_row6_col16,#T_323b9_row20_col0{\n",
       "            background-color:  #7597f6;\n",
       "            color:  #000000;\n",
       "        }#T_323b9_row6_col20,#T_323b9_row7_col4,#T_323b9_row13_col15,#T_323b9_row14_col18{\n",
       "            background-color:  #82a6fb;\n",
       "            color:  #000000;\n",
       "        }#T_323b9_row6_col21,#T_323b9_row10_col6,#T_323b9_row11_col21,#T_323b9_row16_col21{\n",
       "            background-color:  #b2ccfb;\n",
       "            color:  #000000;\n",
       "        }#T_323b9_row6_col22{\n",
       "            background-color:  #f6a586;\n",
       "            color:  #000000;\n",
       "        }#T_323b9_row7_col3,#T_323b9_row12_col14,#T_323b9_row13_col22{\n",
       "            background-color:  #a2c1ff;\n",
       "            color:  #000000;\n",
       "        }#T_323b9_row7_col5,#T_323b9_row20_col1{\n",
       "            background-color:  #f39577;\n",
       "            color:  #000000;\n",
       "        }#T_323b9_row7_col6,#T_323b9_row9_col20,#T_323b9_row14_col13,#T_323b9_row15_col1,#T_323b9_row20_col2,#T_323b9_row20_col6,#T_323b9_row20_col17{\n",
       "            background-color:  #a6c4fe;\n",
       "            color:  #000000;\n",
       "        }#T_323b9_row7_col9,#T_323b9_row12_col9,#T_323b9_row14_col16,#T_323b9_row23_col15{\n",
       "            background-color:  #6687ed;\n",
       "            color:  #000000;\n",
       "        }#T_323b9_row7_col10,#T_323b9_row8_col9,#T_323b9_row8_col12,#T_323b9_row10_col9,#T_323b9_row12_col0,#T_323b9_row18_col4,#T_323b9_row18_col9{\n",
       "            background-color:  #5a78e4;\n",
       "            color:  #000000;\n",
       "        }#T_323b9_row7_col13,#T_323b9_row11_col12{\n",
       "            background-color:  #6a8bef;\n",
       "            color:  #000000;\n",
       "        }#T_323b9_row7_col17,#T_323b9_row7_col22,#T_323b9_row9_col1,#T_323b9_row11_col18{\n",
       "            background-color:  #779af7;\n",
       "            color:  #000000;\n",
       "        }#T_323b9_row7_col21,#T_323b9_row11_col7,#T_323b9_row13_col3,#T_323b9_row13_col21,#T_323b9_row16_col3,#T_323b9_row18_col6{\n",
       "            background-color:  #bad0f8;\n",
       "            color:  #000000;\n",
       "        }#T_323b9_row7_col23{\n",
       "            background-color:  #e8d6cc;\n",
       "            color:  #000000;\n",
       "        }#T_323b9_row8_col3,#T_323b9_row15_col19{\n",
       "            background-color:  #bed2f6;\n",
       "            color:  #000000;\n",
       "        }#T_323b9_row8_col4,#T_323b9_row9_col16,#T_323b9_row10_col1,#T_323b9_row10_col16,#T_323b9_row18_col16{\n",
       "            background-color:  #7ea1fa;\n",
       "            color:  #000000;\n",
       "        }#T_323b9_row8_col11,#T_323b9_row12_col1{\n",
       "            background-color:  #a3c2fe;\n",
       "            color:  #000000;\n",
       "        }#T_323b9_row8_col23,#T_323b9_row15_col22,#T_323b9_row20_col7,#T_323b9_row21_col23{\n",
       "            background-color:  #c0d4f5;\n",
       "            color:  #000000;\n",
       "        }#T_323b9_row9_col2,#T_323b9_row12_col16,#T_323b9_row13_col1,#T_323b9_row14_col11,#T_323b9_row15_col14{\n",
       "            background-color:  #84a7fc;\n",
       "            color:  #000000;\n",
       "        }#T_323b9_row9_col10,#T_323b9_row15_col0,#T_323b9_row18_col10,#T_323b9_row21_col12,#T_323b9_row22_col23{\n",
       "            background-color:  #4e68d8;\n",
       "            color:  #000000;\n",
       "        }#T_323b9_row9_col22,#T_323b9_row11_col4,#T_323b9_row12_col3,#T_323b9_row12_col6,#T_323b9_row17_col15{\n",
       "            background-color:  #c5d6f2;\n",
       "            color:  #000000;\n",
       "        }#T_323b9_row9_col23{\n",
       "            background-color:  #dddcdc;\n",
       "            color:  #000000;\n",
       "        }#T_323b9_row10_col12,#T_323b9_row12_col10,#T_323b9_row15_col5,#T_323b9_row21_col13{\n",
       "            background-color:  #5977e3;\n",
       "            color:  #000000;\n",
       "        }#T_323b9_row10_col14,#T_323b9_row15_col11,#T_323b9_row18_col2,#T_323b9_row20_col15{\n",
       "            background-color:  #9abbff;\n",
       "            color:  #000000;\n",
       "        }#T_323b9_row10_col22,#T_323b9_row18_col3,#T_323b9_row23_col7{\n",
       "            background-color:  #bfd3f6;\n",
       "            color:  #000000;\n",
       "        }#T_323b9_row11_col1{\n",
       "            background-color:  #f4c5ad;\n",
       "            color:  #000000;\n",
       "        }#T_323b9_row11_col2{\n",
       "            background-color:  #f4c6af;\n",
       "            color:  #000000;\n",
       "        }#T_323b9_row11_col3{\n",
       "            background-color:  #cad8ef;\n",
       "            color:  #000000;\n",
       "        }#T_323b9_row11_col5{\n",
       "            background-color:  #dfdbd9;\n",
       "            color:  #000000;\n",
       "        }#T_323b9_row11_col6{\n",
       "            background-color:  #d6dce4;\n",
       "            color:  #000000;\n",
       "        }#T_323b9_row11_col10,#T_323b9_row14_col10,#T_323b9_row15_col10,#T_323b9_row20_col13,#T_323b9_row22_col0{\n",
       "            background-color:  #4c66d6;\n",
       "            color:  #000000;\n",
       "        }#T_323b9_row11_col19,#T_323b9_row16_col19,#T_323b9_row17_col6,#T_323b9_row19_col6{\n",
       "            background-color:  #c4d5f3;\n",
       "            color:  #000000;\n",
       "        }#T_323b9_row11_col20{\n",
       "            background-color:  #d7dce3;\n",
       "            color:  #000000;\n",
       "        }#T_323b9_row11_col23{\n",
       "            background-color:  #f6a385;\n",
       "            color:  #000000;\n",
       "        }#T_323b9_row12_col7,#T_323b9_row12_col20,#T_323b9_row16_col2,#T_323b9_row18_col19{\n",
       "            background-color:  #a9c6fd;\n",
       "            color:  #000000;\n",
       "        }#T_323b9_row12_col15,#T_323b9_row16_col4,#T_323b9_row20_col9,#T_323b9_row23_col1{\n",
       "            background-color:  #6788ee;\n",
       "            color:  #000000;\n",
       "        }#T_323b9_row13_col0,#T_323b9_row13_col10,#T_323b9_row17_col13,#T_323b9_row19_col10{\n",
       "            background-color:  #4a63d3;\n",
       "            color:  #f1f1f1;\n",
       "        }#T_323b9_row13_col9,#T_323b9_row14_col12{\n",
       "            background-color:  #5572df;\n",
       "            color:  #000000;\n",
       "        }#T_323b9_row13_col20,#T_323b9_row17_col16,#T_323b9_row18_col11,#T_323b9_row20_col16,#T_323b9_row21_col5,#T_323b9_row21_col18{\n",
       "            background-color:  #92b4fe;\n",
       "            color:  #000000;\n",
       "        }#T_323b9_row14_col22,#T_323b9_row21_col6{\n",
       "            background-color:  #b3cdfb;\n",
       "            color:  #000000;\n",
       "        }#T_323b9_row15_col18{\n",
       "            background-color:  #6485ec;\n",
       "            color:  #000000;\n",
       "        }#T_323b9_row16_col14,#T_323b9_row19_col16,#T_323b9_row23_col16{\n",
       "            background-color:  #89acfd;\n",
       "            color:  #000000;\n",
       "        }#T_323b9_row16_col22,#T_323b9_row17_col14,#T_323b9_row20_col3{\n",
       "            background-color:  #9bbcff;\n",
       "            color:  #000000;\n",
       "        }#T_323b9_row16_col23{\n",
       "            background-color:  #c9d7f0;\n",
       "            color:  #000000;\n",
       "        }#T_323b9_row17_col5,#T_323b9_row22_col17{\n",
       "            background-color:  #7b9ff9;\n",
       "            color:  #000000;\n",
       "        }#T_323b9_row17_col7{\n",
       "            background-color:  #6c8ff1;\n",
       "            color:  #000000;\n",
       "        }#T_323b9_row19_col1,#T_323b9_row19_col17,#T_323b9_row21_col2{\n",
       "            background-color:  #94b6ff;\n",
       "            color:  #000000;\n",
       "        }#T_323b9_row20_col11{\n",
       "            background-color:  #d9dce1;\n",
       "            color:  #000000;\n",
       "        }#T_323b9_row20_col23{\n",
       "            background-color:  #ead4c8;\n",
       "            color:  #000000;\n",
       "        }#T_323b9_row21_col10{\n",
       "            background-color:  #485fd1;\n",
       "            color:  #f1f1f1;\n",
       "        }#T_323b9_row22_col3{\n",
       "            background-color:  #f6a283;\n",
       "            color:  #000000;\n",
       "        }#T_323b9_row22_col4{\n",
       "            background-color:  #4358cb;\n",
       "            color:  #f1f1f1;\n",
       "        }#T_323b9_row22_col6{\n",
       "            background-color:  #f5a081;\n",
       "            color:  #000000;\n",
       "        }#T_323b9_row23_col0{\n",
       "            background-color:  #3d50c3;\n",
       "            color:  #f1f1f1;\n",
       "        }#T_323b9_row23_col5{\n",
       "            background-color:  #e2dad5;\n",
       "            color:  #000000;\n",
       "        }#T_323b9_row23_col11{\n",
       "            background-color:  #f7b396;\n",
       "            color:  #000000;\n",
       "        }#T_323b9_row23_col20{\n",
       "            background-color:  #d8dce2;\n",
       "            color:  #000000;\n",
       "        }</style><table id=\"T_323b9_\" ><thead>    <tr>        <th class=\"blank level0\" ></th>        <th class=\"col_heading level0 col0\" >total_images</th>        <th class=\"col_heading level0 col1\" >last_price</th>        <th class=\"col_heading level0 col2\" >total_area</th>        <th class=\"col_heading level0 col3\" >rooms</th>        <th class=\"col_heading level0 col4\" >ceiling_height</th>        <th class=\"col_heading level0 col5\" >floors_total</th>        <th class=\"col_heading level0 col6\" >living_area</th>        <th class=\"col_heading level0 col7\" >floor</th>        <th class=\"col_heading level0 col8\" >is_apartment</th>        <th class=\"col_heading level0 col9\" >studio</th>        <th class=\"col_heading level0 col10\" >open_plan</th>        <th class=\"col_heading level0 col11\" >kitchen_area</th>        <th class=\"col_heading level0 col12\" >balcony</th>        <th class=\"col_heading level0 col13\" >airports_nearest</th>        <th class=\"col_heading level0 col14\" >cityCenters_nearest</th>        <th class=\"col_heading level0 col15\" >parks_around3000</th>        <th class=\"col_heading level0 col16\" >parks_nearest</th>        <th class=\"col_heading level0 col17\" >ponds_around3000</th>        <th class=\"col_heading level0 col18\" >ponds_nearest</th>        <th class=\"col_heading level0 col19\" >days_exposition</th>        <th class=\"col_heading level0 col20\" >price_per_square_meter</th>        <th class=\"col_heading level0 col21\" >year</th>        <th class=\"col_heading level0 col22\" >liv_coef</th>        <th class=\"col_heading level0 col23\" >kit_coef</th>    </tr></thead><tbody>\n",
       "                <tr>\n",
       "                        <th id=\"T_323b9_level0_row0\" class=\"row_heading level0 row0\" >total_images</th>\n",
       "                        <td id=\"T_323b9_row0_col0\" class=\"data row0 col0\" >1.000000</td>\n",
       "                        <td id=\"T_323b9_row0_col1\" class=\"data row0 col1\" >0.168498</td>\n",
       "                        <td id=\"T_323b9_row0_col2\" class=\"data row0 col2\" >0.119727</td>\n",
       "                        <td id=\"T_323b9_row0_col3\" class=\"data row0 col3\" >0.091907</td>\n",
       "                        <td id=\"T_323b9_row0_col4\" class=\"data row0 col4\" >0.013644</td>\n",
       "                        <td id=\"T_323b9_row0_col5\" class=\"data row0 col5\" >0.021546</td>\n",
       "                        <td id=\"T_323b9_row0_col6\" class=\"data row0 col6\" >0.102678</td>\n",
       "                        <td id=\"T_323b9_row0_col7\" class=\"data row0 col7\" >0.039463</td>\n",
       "                        <td id=\"T_323b9_row0_col8\" class=\"data row0 col8\" >0.015773</td>\n",
       "                        <td id=\"T_323b9_row0_col9\" class=\"data row0 col9\" >-0.027571</td>\n",
       "                        <td id=\"T_323b9_row0_col10\" class=\"data row0 col10\" >-0.022441</td>\n",
       "                        <td id=\"T_323b9_row0_col11\" class=\"data row0 col11\" >0.068391</td>\n",
       "                        <td id=\"T_323b9_row0_col12\" class=\"data row0 col12\" >0.046112</td>\n",
       "                        <td id=\"T_323b9_row0_col13\" class=\"data row0 col13\" >-0.004696</td>\n",
       "                        <td id=\"T_323b9_row0_col14\" class=\"data row0 col14\" >-0.034220</td>\n",
       "                        <td id=\"T_323b9_row0_col15\" class=\"data row0 col15\" >0.005480</td>\n",
       "                        <td id=\"T_323b9_row0_col16\" class=\"data row0 col16\" >-0.003862</td>\n",
       "                        <td id=\"T_323b9_row0_col17\" class=\"data row0 col17\" >-0.023609</td>\n",
       "                        <td id=\"T_323b9_row0_col18\" class=\"data row0 col18\" >-0.000981</td>\n",
       "                        <td id=\"T_323b9_row0_col19\" class=\"data row0 col19\" >-0.062770</td>\n",
       "                        <td id=\"T_323b9_row0_col20\" class=\"data row0 col20\" >0.128311</td>\n",
       "                        <td id=\"T_323b9_row0_col21\" class=\"data row0 col21\" >0.147030</td>\n",
       "                        <td id=\"T_323b9_row0_col22\" class=\"data row0 col22\" >0.001039</td>\n",
       "                        <td id=\"T_323b9_row0_col23\" class=\"data row0 col23\" >-0.050368</td>\n",
       "            </tr>\n",
       "            <tr>\n",
       "                        <th id=\"T_323b9_level0_row1\" class=\"row_heading level0 row1\" >last_price</th>\n",
       "                        <td id=\"T_323b9_row1_col0\" class=\"data row1 col0\" >0.168498</td>\n",
       "                        <td id=\"T_323b9_row1_col1\" class=\"data row1 col1\" >1.000000</td>\n",
       "                        <td id=\"T_323b9_row1_col2\" class=\"data row1 col2\" >0.713407</td>\n",
       "                        <td id=\"T_323b9_row1_col3\" class=\"data row1 col3\" >0.418157</td>\n",
       "                        <td id=\"T_323b9_row1_col4\" class=\"data row1 col4\" >0.339234</td>\n",
       "                        <td id=\"T_323b9_row1_col5\" class=\"data row1 col5\" >0.238934</td>\n",
       "                        <td id=\"T_323b9_row1_col6\" class=\"data row1 col6\" >0.542588</td>\n",
       "                        <td id=\"T_323b9_row1_col7\" class=\"data row1 col7\" >0.164865</td>\n",
       "                        <td id=\"T_323b9_row1_col8\" class=\"data row1 col8\" >0.021897</td>\n",
       "                        <td id=\"T_323b9_row1_col9\" class=\"data row1 col9\" >-0.066276</td>\n",
       "                        <td id=\"T_323b9_row1_col10\" class=\"data row1 col10\" >-0.044449</td>\n",
       "                        <td id=\"T_323b9_row1_col11\" class=\"data row1 col11\" >0.504289</td>\n",
       "                        <td id=\"T_323b9_row1_col12\" class=\"data row1 col12\" >0.095371</td>\n",
       "                        <td id=\"T_323b9_row1_col13\" class=\"data row1 col13\" >-0.020418</td>\n",
       "                        <td id=\"T_323b9_row1_col14\" class=\"data row1 col14\" >-0.318261</td>\n",
       "                        <td id=\"T_323b9_row1_col15\" class=\"data row1 col15\" >0.105682</td>\n",
       "                        <td id=\"T_323b9_row1_col16\" class=\"data row1 col16\" >0.074765</td>\n",
       "                        <td id=\"T_323b9_row1_col17\" class=\"data row1 col17\" >0.136820</td>\n",
       "                        <td id=\"T_323b9_row1_col18\" class=\"data row1 col18\" >-0.055766</td>\n",
       "                        <td id=\"T_323b9_row1_col19\" class=\"data row1 col19\" >0.038510</td>\n",
       "                        <td id=\"T_323b9_row1_col20\" class=\"data row1 col20\" >0.681235</td>\n",
       "                        <td id=\"T_323b9_row1_col21\" class=\"data row1 col21\" >0.006754</td>\n",
       "                        <td id=\"T_323b9_row1_col22\" class=\"data row1 col22\" >-0.073258</td>\n",
       "                        <td id=\"T_323b9_row1_col23\" class=\"data row1 col23\" >-0.131824</td>\n",
       "            </tr>\n",
       "            <tr>\n",
       "                        <th id=\"T_323b9_level0_row2\" class=\"row_heading level0 row2\" >total_area</th>\n",
       "                        <td id=\"T_323b9_row2_col0\" class=\"data row2 col0\" >0.119727</td>\n",
       "                        <td id=\"T_323b9_row2_col1\" class=\"data row2 col1\" >0.713407</td>\n",
       "                        <td id=\"T_323b9_row2_col2\" class=\"data row2 col2\" >1.000000</td>\n",
       "                        <td id=\"T_323b9_row2_col3\" class=\"data row2 col3\" >0.787648</td>\n",
       "                        <td id=\"T_323b9_row2_col4\" class=\"data row2 col4\" >0.232535</td>\n",
       "                        <td id=\"T_323b9_row2_col5\" class=\"data row2 col5\" >0.038618</td>\n",
       "                        <td id=\"T_323b9_row2_col6\" class=\"data row2 col6\" >0.883963</td>\n",
       "                        <td id=\"T_323b9_row2_col7\" class=\"data row2 col7\" >0.015258</td>\n",
       "                        <td id=\"T_323b9_row2_col8\" class=\"data row2 col8\" >0.016845</td>\n",
       "                        <td id=\"T_323b9_row2_col9\" class=\"data row2 col9\" >-0.120331</td>\n",
       "                        <td id=\"T_323b9_row2_col10\" class=\"data row2 col10\" >-0.073450</td>\n",
       "                        <td id=\"T_323b9_row2_col11\" class=\"data row2 col11\" >0.449564</td>\n",
       "                        <td id=\"T_323b9_row2_col12\" class=\"data row2 col12\" >0.088324</td>\n",
       "                        <td id=\"T_323b9_row2_col13\" class=\"data row2 col13\" >-0.001927</td>\n",
       "                        <td id=\"T_323b9_row2_col14\" class=\"data row2 col14\" >-0.109717</td>\n",
       "                        <td id=\"T_323b9_row2_col15\" class=\"data row2 col15\" >0.041801</td>\n",
       "                        <td id=\"T_323b9_row2_col16\" class=\"data row2 col16\" >0.034951</td>\n",
       "                        <td id=\"T_323b9_row2_col17\" class=\"data row2 col17\" >0.082486</td>\n",
       "                        <td id=\"T_323b9_row2_col18\" class=\"data row2 col18\" >-0.030226</td>\n",
       "                        <td id=\"T_323b9_row2_col19\" class=\"data row2 col19\" >0.068107</td>\n",
       "                        <td id=\"T_323b9_row2_col20\" class=\"data row2 col20\" >0.020806</td>\n",
       "                        <td id=\"T_323b9_row2_col21\" class=\"data row2 col21\" >-0.049649</td>\n",
       "                        <td id=\"T_323b9_row2_col22\" class=\"data row2 col22\" >0.145349</td>\n",
       "                        <td id=\"T_323b9_row2_col23\" class=\"data row2 col23\" >-0.443192</td>\n",
       "            </tr>\n",
       "            <tr>\n",
       "                        <th id=\"T_323b9_level0_row3\" class=\"row_heading level0 row3\" >rooms</th>\n",
       "                        <td id=\"T_323b9_row3_col0\" class=\"data row3 col0\" >0.091907</td>\n",
       "                        <td id=\"T_323b9_row3_col1\" class=\"data row3 col1\" >0.418157</td>\n",
       "                        <td id=\"T_323b9_row3_col2\" class=\"data row3 col2\" >0.787648</td>\n",
       "                        <td id=\"T_323b9_row3_col3\" class=\"data row3 col3\" >1.000000</td>\n",
       "                        <td id=\"T_323b9_row3_col4\" class=\"data row3 col4\" >0.014797</td>\n",
       "                        <td id=\"T_323b9_row3_col5\" class=\"data row3 col5\" >-0.186300</td>\n",
       "                        <td id=\"T_323b9_row3_col6\" class=\"data row3 col6\" >0.901876</td>\n",
       "                        <td id=\"T_323b9_row3_col7\" class=\"data row3 col7\" >-0.141273</td>\n",
       "                        <td id=\"T_323b9_row3_col8\" class=\"data row3 col8\" >-0.005988</td>\n",
       "                        <td id=\"T_323b9_row3_col9\" class=\"data row3 col9\" >-0.090200</td>\n",
       "                        <td id=\"T_323b9_row3_col10\" class=\"data row3 col10\" >-0.054550</td>\n",
       "                        <td id=\"T_323b9_row3_col11\" class=\"data row3 col11\" >0.055343</td>\n",
       "                        <td id=\"T_323b9_row3_col12\" class=\"data row3 col12\" >0.034848</td>\n",
       "                        <td id=\"T_323b9_row3_col13\" class=\"data row3 col13\" >-0.025241</td>\n",
       "                        <td id=\"T_323b9_row3_col14\" class=\"data row3 col14\" >-0.046707</td>\n",
       "                        <td id=\"T_323b9_row3_col15\" class=\"data row3 col15\" >0.042281</td>\n",
       "                        <td id=\"T_323b9_row3_col16\" class=\"data row3 col16\" >-0.025723</td>\n",
       "                        <td id=\"T_323b9_row3_col17\" class=\"data row3 col17\" >0.011589</td>\n",
       "                        <td id=\"T_323b9_row3_col18\" class=\"data row3 col18\" >0.001169</td>\n",
       "                        <td id=\"T_323b9_row3_col19\" class=\"data row3 col19\" >0.038782</td>\n",
       "                        <td id=\"T_323b9_row3_col20\" class=\"data row3 col20\" >-0.176585</td>\n",
       "                        <td id=\"T_323b9_row3_col21\" class=\"data row3 col21\" >-0.021180</td>\n",
       "                        <td id=\"T_323b9_row3_col22\" class=\"data row3 col22\" >0.550020</td>\n",
       "                        <td id=\"T_323b9_row3_col23\" class=\"data row3 col23\" >-0.656538</td>\n",
       "            </tr>\n",
       "            <tr>\n",
       "                        <th id=\"T_323b9_level0_row4\" class=\"row_heading level0 row4\" >ceiling_height</th>\n",
       "                        <td id=\"T_323b9_row4_col0\" class=\"data row4 col0\" >0.013644</td>\n",
       "                        <td id=\"T_323b9_row4_col1\" class=\"data row4 col1\" >0.339234</td>\n",
       "                        <td id=\"T_323b9_row4_col2\" class=\"data row4 col2\" >0.232535</td>\n",
       "                        <td id=\"T_323b9_row4_col3\" class=\"data row4 col3\" >0.014797</td>\n",
       "                        <td id=\"T_323b9_row4_col4\" class=\"data row4 col4\" >1.000000</td>\n",
       "                        <td id=\"T_323b9_row4_col5\" class=\"data row4 col5\" >0.119784</td>\n",
       "                        <td id=\"T_323b9_row4_col6\" class=\"data row4 col6\" >0.122474</td>\n",
       "                        <td id=\"T_323b9_row4_col7\" class=\"data row4 col7\" >0.077124</td>\n",
       "                        <td id=\"T_323b9_row4_col8\" class=\"data row4 col8\" >0.061811</td>\n",
       "                        <td id=\"T_323b9_row4_col9\" class=\"data row4 col9\" >0.027558</td>\n",
       "                        <td id=\"T_323b9_row4_col10\" class=\"data row4 col10\" >0.006835</td>\n",
       "                        <td id=\"T_323b9_row4_col11\" class=\"data row4 col11\" >0.305605</td>\n",
       "                        <td id=\"T_323b9_row4_col12\" class=\"data row4 col12\" >0.032794</td>\n",
       "                        <td id=\"T_323b9_row4_col13\" class=\"data row4 col13\" >-0.047651</td>\n",
       "                        <td id=\"T_323b9_row4_col14\" class=\"data row4 col14\" >-0.185183</td>\n",
       "                        <td id=\"T_323b9_row4_col15\" class=\"data row4 col15\" >0.095428</td>\n",
       "                        <td id=\"T_323b9_row4_col16\" class=\"data row4 col16\" >-0.016886</td>\n",
       "                        <td id=\"T_323b9_row4_col17\" class=\"data row4 col17\" >0.121687</td>\n",
       "                        <td id=\"T_323b9_row4_col18\" class=\"data row4 col18\" >-0.062455</td>\n",
       "                        <td id=\"T_323b9_row4_col19\" class=\"data row4 col19\" >0.043968</td>\n",
       "                        <td id=\"T_323b9_row4_col20\" class=\"data row4 col20\" >0.252422</td>\n",
       "                        <td id=\"T_323b9_row4_col21\" class=\"data row4 col21\" >-0.055065</td>\n",
       "                        <td id=\"T_323b9_row4_col22\" class=\"data row4 col22\" >-0.152473</td>\n",
       "                        <td id=\"T_323b9_row4_col23\" class=\"data row4 col23\" >0.123285</td>\n",
       "            </tr>\n",
       "            <tr>\n",
       "                        <th id=\"T_323b9_level0_row5\" class=\"row_heading level0 row5\" >floors_total</th>\n",
       "                        <td id=\"T_323b9_row5_col0\" class=\"data row5 col0\" >0.021546</td>\n",
       "                        <td id=\"T_323b9_row5_col1\" class=\"data row5 col1\" >0.238934</td>\n",
       "                        <td id=\"T_323b9_row5_col2\" class=\"data row5 col2\" >0.038618</td>\n",
       "                        <td id=\"T_323b9_row5_col3\" class=\"data row5 col3\" >-0.186300</td>\n",
       "                        <td id=\"T_323b9_row5_col4\" class=\"data row5 col4\" >0.119784</td>\n",
       "                        <td id=\"T_323b9_row5_col5\" class=\"data row5 col5\" >1.000000</td>\n",
       "                        <td id=\"T_323b9_row5_col6\" class=\"data row5 col6\" >-0.132147</td>\n",
       "                        <td id=\"T_323b9_row5_col7\" class=\"data row5 col7\" >0.671325</td>\n",
       "                        <td id=\"T_323b9_row5_col8\" class=\"data row5 col8\" >-0.015158</td>\n",
       "                        <td id=\"T_323b9_row5_col9\" class=\"data row5 col9\" >0.072246</td>\n",
       "                        <td id=\"T_323b9_row5_col10\" class=\"data row5 col10\" >0.050962</td>\n",
       "                        <td id=\"T_323b9_row5_col11\" class=\"data row5 col11\" >0.330306</td>\n",
       "                        <td id=\"T_323b9_row5_col12\" class=\"data row5 col12\" >0.160451</td>\n",
       "                        <td id=\"T_323b9_row5_col13\" class=\"data row5 col13\" >0.083222</td>\n",
       "                        <td id=\"T_323b9_row5_col14\" class=\"data row5 col14\" >-0.064790</td>\n",
       "                        <td id=\"T_323b9_row5_col15\" class=\"data row5 col15\" >-0.224475</td>\n",
       "                        <td id=\"T_323b9_row5_col16\" class=\"data row5 col16\" >0.094010</td>\n",
       "                        <td id=\"T_323b9_row5_col17\" class=\"data row5 col17\" >-0.086334</td>\n",
       "                        <td id=\"T_323b9_row5_col18\" class=\"data row5 col18\" >0.012685</td>\n",
       "                        <td id=\"T_323b9_row5_col19\" class=\"data row5 col19\" >-0.012720</td>\n",
       "                        <td id=\"T_323b9_row5_col20\" class=\"data row5 col20\" >0.341678</td>\n",
       "                        <td id=\"T_323b9_row5_col21\" class=\"data row5 col21\" >-0.002149</td>\n",
       "                        <td id=\"T_323b9_row5_col22\" class=\"data row5 col22\" >-0.361253</td>\n",
       "                        <td id=\"T_323b9_row5_col23\" class=\"data row5 col23\" >0.348137</td>\n",
       "            </tr>\n",
       "            <tr>\n",
       "                        <th id=\"T_323b9_level0_row6\" class=\"row_heading level0 row6\" >living_area</th>\n",
       "                        <td id=\"T_323b9_row6_col0\" class=\"data row6 col0\" >0.102678</td>\n",
       "                        <td id=\"T_323b9_row6_col1\" class=\"data row6 col1\" >0.542588</td>\n",
       "                        <td id=\"T_323b9_row6_col2\" class=\"data row6 col2\" >0.883963</td>\n",
       "                        <td id=\"T_323b9_row6_col3\" class=\"data row6 col3\" >0.901876</td>\n",
       "                        <td id=\"T_323b9_row6_col4\" class=\"data row6 col4\" >0.122474</td>\n",
       "                        <td id=\"T_323b9_row6_col5\" class=\"data row6 col5\" >-0.132147</td>\n",
       "                        <td id=\"T_323b9_row6_col6\" class=\"data row6 col6\" >1.000000</td>\n",
       "                        <td id=\"T_323b9_row6_col7\" class=\"data row6 col7\" >-0.102615</td>\n",
       "                        <td id=\"T_323b9_row6_col8\" class=\"data row6 col8\" >0.007296</td>\n",
       "                        <td id=\"T_323b9_row6_col9\" class=\"data row6 col9\" >-0.077985</td>\n",
       "                        <td id=\"T_323b9_row6_col10\" class=\"data row6 col10\" >-0.045287</td>\n",
       "                        <td id=\"T_323b9_row6_col11\" class=\"data row6 col11\" >0.148208</td>\n",
       "                        <td id=\"T_323b9_row6_col12\" class=\"data row6 col12\" >0.050603</td>\n",
       "                        <td id=\"T_323b9_row6_col13\" class=\"data row6 col13\" >-0.030713</td>\n",
       "                        <td id=\"T_323b9_row6_col14\" class=\"data row6 col14\" >-0.081834</td>\n",
       "                        <td id=\"T_323b9_row6_col15\" class=\"data row6 col15\" >0.066080</td>\n",
       "                        <td id=\"T_323b9_row6_col16\" class=\"data row6 col16\" >-0.022483</td>\n",
       "                        <td id=\"T_323b9_row6_col17\" class=\"data row6 col17\" >0.045946</td>\n",
       "                        <td id=\"T_323b9_row6_col18\" class=\"data row6 col18\" >-0.006972</td>\n",
       "                        <td id=\"T_323b9_row6_col19\" class=\"data row6 col19\" >0.047418</td>\n",
       "                        <td id=\"T_323b9_row6_col20\" class=\"data row6 col20\" >-0.102402</td>\n",
       "                        <td id=\"T_323b9_row6_col21\" class=\"data row6 col21\" >-0.035247</td>\n",
       "                        <td id=\"T_323b9_row6_col22\" class=\"data row6 col22\" >0.567929</td>\n",
       "                        <td id=\"T_323b9_row6_col23\" class=\"data row6 col23\" >-0.625499</td>\n",
       "            </tr>\n",
       "            <tr>\n",
       "                        <th id=\"T_323b9_level0_row7\" class=\"row_heading level0 row7\" >floor</th>\n",
       "                        <td id=\"T_323b9_row7_col0\" class=\"data row7 col0\" >0.039463</td>\n",
       "                        <td id=\"T_323b9_row7_col1\" class=\"data row7 col1\" >0.164865</td>\n",
       "                        <td id=\"T_323b9_row7_col2\" class=\"data row7 col2\" >0.015258</td>\n",
       "                        <td id=\"T_323b9_row7_col3\" class=\"data row7 col3\" >-0.141273</td>\n",
       "                        <td id=\"T_323b9_row7_col4\" class=\"data row7 col4\" >0.077124</td>\n",
       "                        <td id=\"T_323b9_row7_col5\" class=\"data row7 col5\" >0.671325</td>\n",
       "                        <td id=\"T_323b9_row7_col6\" class=\"data row7 col6\" >-0.102615</td>\n",
       "                        <td id=\"T_323b9_row7_col7\" class=\"data row7 col7\" >1.000000</td>\n",
       "                        <td id=\"T_323b9_row7_col8\" class=\"data row7 col8\" >-0.007231</td>\n",
       "                        <td id=\"T_323b9_row7_col9\" class=\"data row7 col9\" >0.036909</td>\n",
       "                        <td id=\"T_323b9_row7_col10\" class=\"data row7 col10\" >0.035952</td>\n",
       "                        <td id=\"T_323b9_row7_col11\" class=\"data row7 col11\" >0.223032</td>\n",
       "                        <td id=\"T_323b9_row7_col12\" class=\"data row7 col12\" >0.158761</td>\n",
       "                        <td id=\"T_323b9_row7_col13\" class=\"data row7 col13\" >0.056080</td>\n",
       "                        <td id=\"T_323b9_row7_col14\" class=\"data row7 col14\" >-0.037351</td>\n",
       "                        <td id=\"T_323b9_row7_col15\" class=\"data row7 col15\" >-0.149377</td>\n",
       "                        <td id=\"T_323b9_row7_col16\" class=\"data row7 col16\" >0.070965</td>\n",
       "                        <td id=\"T_323b9_row7_col17\" class=\"data row7 col17\" >-0.056596</td>\n",
       "                        <td id=\"T_323b9_row7_col18\" class=\"data row7 col18\" >0.018011</td>\n",
       "                        <td id=\"T_323b9_row7_col19\" class=\"data row7 col19\" >-0.014308</td>\n",
       "                        <td id=\"T_323b9_row7_col20\" class=\"data row7 col20\" >0.246511</td>\n",
       "                        <td id=\"T_323b9_row7_col21\" class=\"data row7 col21\" >0.001424</td>\n",
       "                        <td id=\"T_323b9_row7_col22\" class=\"data row7 col22\" >-0.256876</td>\n",
       "                        <td id=\"T_323b9_row7_col23\" class=\"data row7 col23\" >0.243445</td>\n",
       "            </tr>\n",
       "            <tr>\n",
       "                        <th id=\"T_323b9_level0_row8\" class=\"row_heading level0 row8\" >is_apartment</th>\n",
       "                        <td id=\"T_323b9_row8_col0\" class=\"data row8 col0\" >0.015773</td>\n",
       "                        <td id=\"T_323b9_row8_col1\" class=\"data row8 col1\" >0.021897</td>\n",
       "                        <td id=\"T_323b9_row8_col2\" class=\"data row8 col2\" >0.016845</td>\n",
       "                        <td id=\"T_323b9_row8_col3\" class=\"data row8 col3\" >-0.005988</td>\n",
       "                        <td id=\"T_323b9_row8_col4\" class=\"data row8 col4\" >0.061811</td>\n",
       "                        <td id=\"T_323b9_row8_col5\" class=\"data row8 col5\" >-0.015158</td>\n",
       "                        <td id=\"T_323b9_row8_col6\" class=\"data row8 col6\" >0.007296</td>\n",
       "                        <td id=\"T_323b9_row8_col7\" class=\"data row8 col7\" >-0.007231</td>\n",
       "                        <td id=\"T_323b9_row8_col8\" class=\"data row8 col8\" >1.000000</td>\n",
       "                        <td id=\"T_323b9_row8_col9\" class=\"data row8 col9\" >-0.003133</td>\n",
       "                        <td id=\"T_323b9_row8_col10\" class=\"data row8 col10\" >-0.002090</td>\n",
       "                        <td id=\"T_323b9_row8_col11\" class=\"data row8 col11\" >0.018106</td>\n",
       "                        <td id=\"T_323b9_row8_col12\" class=\"data row8 col12\" >0.039820</td>\n",
       "                        <td id=\"T_323b9_row8_col13\" class=\"data row8 col13\" >0.017543</td>\n",
       "                        <td id=\"T_323b9_row8_col14\" class=\"data row8 col14\" >0.020364</td>\n",
       "                        <td id=\"T_323b9_row8_col15\" class=\"data row8 col15\" >-0.006420</td>\n",
       "                        <td id=\"T_323b9_row8_col16\" class=\"data row8 col16\" >-0.019627</td>\n",
       "                        <td id=\"T_323b9_row8_col17\" class=\"data row8 col17\" >-0.000123</td>\n",
       "                        <td id=\"T_323b9_row8_col18\" class=\"data row8 col18\" >0.014784</td>\n",
       "                        <td id=\"T_323b9_row8_col19\" class=\"data row8 col19\" >-0.006074</td>\n",
       "                        <td id=\"T_323b9_row8_col20\" class=\"data row8 col20\" >0.015145</td>\n",
       "                        <td id=\"T_323b9_row8_col21\" class=\"data row8 col21\" >0.016071</td>\n",
       "                        <td id=\"T_323b9_row8_col22\" class=\"data row8 col22\" >-0.007398</td>\n",
       "                        <td id=\"T_323b9_row8_col23\" class=\"data row8 col23\" >0.007069</td>\n",
       "            </tr>\n",
       "            <tr>\n",
       "                        <th id=\"T_323b9_level0_row9\" class=\"row_heading level0 row9\" >studio</th>\n",
       "                        <td id=\"T_323b9_row9_col0\" class=\"data row9 col0\" >-0.027571</td>\n",
       "                        <td id=\"T_323b9_row9_col1\" class=\"data row9 col1\" >-0.066276</td>\n",
       "                        <td id=\"T_323b9_row9_col2\" class=\"data row9 col2\" >-0.120331</td>\n",
       "                        <td id=\"T_323b9_row9_col3\" class=\"data row9 col3\" >-0.090200</td>\n",
       "                        <td id=\"T_323b9_row9_col4\" class=\"data row9 col4\" >0.027558</td>\n",
       "                        <td id=\"T_323b9_row9_col5\" class=\"data row9 col5\" >0.072246</td>\n",
       "                        <td id=\"T_323b9_row9_col6\" class=\"data row9 col6\" >-0.077985</td>\n",
       "                        <td id=\"T_323b9_row9_col7\" class=\"data row9 col7\" >0.036909</td>\n",
       "                        <td id=\"T_323b9_row9_col8\" class=\"data row9 col8\" >-0.003133</td>\n",
       "                        <td id=\"T_323b9_row9_col9\" class=\"data row9 col9\" >1.000000</td>\n",
       "                        <td id=\"T_323b9_row9_col10\" class=\"data row9 col10\" >-0.004621</td>\n",
       "                        <td id=\"T_323b9_row9_col11\" class=\"data row9 col11\" >-0.013384</td>\n",
       "                        <td id=\"T_323b9_row9_col12\" class=\"data row9 col12\" >0.033165</td>\n",
       "                        <td id=\"T_323b9_row9_col13\" class=\"data row9 col13\" >-0.023346</td>\n",
       "                        <td id=\"T_323b9_row9_col14\" class=\"data row9 col14\" >-0.012548</td>\n",
       "                        <td id=\"T_323b9_row9_col15\" class=\"data row9 col15\" >-0.032113</td>\n",
       "                        <td id=\"T_323b9_row9_col16\" class=\"data row9 col16\" >0.012953</td>\n",
       "                        <td id=\"T_323b9_row9_col17\" class=\"data row9 col17\" >0.005205</td>\n",
       "                        <td id=\"T_323b9_row9_col18\" class=\"data row9 col18\" >-0.004171</td>\n",
       "                        <td id=\"T_323b9_row9_col19\" class=\"data row9 col19\" >-0.016598</td>\n",
       "                        <td id=\"T_323b9_row9_col20\" class=\"data row9 col20\" >0.040112</td>\n",
       "                        <td id=\"T_323b9_row9_col21\" class=\"data row9 col21\" >0.009005</td>\n",
       "                        <td id=\"T_323b9_row9_col22\" class=\"data row9 col22\" >0.095998</td>\n",
       "                        <td id=\"T_323b9_row9_col23\" class=\"data row9 col23\" >0.172375</td>\n",
       "            </tr>\n",
       "            <tr>\n",
       "                        <th id=\"T_323b9_level0_row10\" class=\"row_heading level0 row10\" >open_plan</th>\n",
       "                        <td id=\"T_323b9_row10_col0\" class=\"data row10 col0\" >-0.022441</td>\n",
       "                        <td id=\"T_323b9_row10_col1\" class=\"data row10 col1\" >-0.044449</td>\n",
       "                        <td id=\"T_323b9_row10_col2\" class=\"data row10 col2\" >-0.073450</td>\n",
       "                        <td id=\"T_323b9_row10_col3\" class=\"data row10 col3\" >-0.054550</td>\n",
       "                        <td id=\"T_323b9_row10_col4\" class=\"data row10 col4\" >0.006835</td>\n",
       "                        <td id=\"T_323b9_row10_col5\" class=\"data row10 col5\" >0.050962</td>\n",
       "                        <td id=\"T_323b9_row10_col6\" class=\"data row10 col6\" >-0.045287</td>\n",
       "                        <td id=\"T_323b9_row10_col7\" class=\"data row10 col7\" >0.035952</td>\n",
       "                        <td id=\"T_323b9_row10_col8\" class=\"data row10 col8\" >-0.002090</td>\n",
       "                        <td id=\"T_323b9_row10_col9\" class=\"data row10 col9\" >-0.004621</td>\n",
       "                        <td id=\"T_323b9_row10_col10\" class=\"data row10 col10\" >1.000000</td>\n",
       "                        <td id=\"T_323b9_row10_col11\" class=\"data row10 col11\" >-0.008765</td>\n",
       "                        <td id=\"T_323b9_row10_col12\" class=\"data row10 col12\" >0.035501</td>\n",
       "                        <td id=\"T_323b9_row10_col13\" class=\"data row10 col13\" >-0.015376</td>\n",
       "                        <td id=\"T_323b9_row10_col14\" class=\"data row10 col14\" >-0.006636</td>\n",
       "                        <td id=\"T_323b9_row10_col15\" class=\"data row10 col15\" >-0.009925</td>\n",
       "                        <td id=\"T_323b9_row10_col16\" class=\"data row10 col16\" >0.011705</td>\n",
       "                        <td id=\"T_323b9_row10_col17\" class=\"data row10 col17\" >0.011636</td>\n",
       "                        <td id=\"T_323b9_row10_col18\" class=\"data row10 col18\" >-0.004972</td>\n",
       "                        <td id=\"T_323b9_row10_col19\" class=\"data row10 col19\" >-0.016569</td>\n",
       "                        <td id=\"T_323b9_row10_col20\" class=\"data row10 col20\" >0.015645</td>\n",
       "                        <td id=\"T_323b9_row10_col21\" class=\"data row10 col21\" >-0.023230</td>\n",
       "                        <td id=\"T_323b9_row10_col22\" class=\"data row10 col22\" >0.067113</td>\n",
       "                        <td id=\"T_323b9_row10_col23\" class=\"data row10 col23\" >0.101180</td>\n",
       "            </tr>\n",
       "            <tr>\n",
       "                        <th id=\"T_323b9_level0_row11\" class=\"row_heading level0 row11\" >kitchen_area</th>\n",
       "                        <td id=\"T_323b9_row11_col0\" class=\"data row11 col0\" >0.068391</td>\n",
       "                        <td id=\"T_323b9_row11_col1\" class=\"data row11 col1\" >0.504289</td>\n",
       "                        <td id=\"T_323b9_row11_col2\" class=\"data row11 col2\" >0.449564</td>\n",
       "                        <td id=\"T_323b9_row11_col3\" class=\"data row11 col3\" >0.055343</td>\n",
       "                        <td id=\"T_323b9_row11_col4\" class=\"data row11 col4\" >0.305605</td>\n",
       "                        <td id=\"T_323b9_row11_col5\" class=\"data row11 col5\" >0.330306</td>\n",
       "                        <td id=\"T_323b9_row11_col6\" class=\"data row11 col6\" >0.148208</td>\n",
       "                        <td id=\"T_323b9_row11_col7\" class=\"data row11 col7\" >0.223032</td>\n",
       "                        <td id=\"T_323b9_row11_col8\" class=\"data row11 col8\" >0.018106</td>\n",
       "                        <td id=\"T_323b9_row11_col9\" class=\"data row11 col9\" >-0.013384</td>\n",
       "                        <td id=\"T_323b9_row11_col10\" class=\"data row11 col10\" >-0.008765</td>\n",
       "                        <td id=\"T_323b9_row11_col11\" class=\"data row11 col11\" >1.000000</td>\n",
       "                        <td id=\"T_323b9_row11_col12\" class=\"data row11 col12\" >0.091186</td>\n",
       "                        <td id=\"T_323b9_row11_col13\" class=\"data row11 col13\" >0.021913</td>\n",
       "                        <td id=\"T_323b9_row11_col14\" class=\"data row11 col14\" >-0.115399</td>\n",
       "                        <td id=\"T_323b9_row11_col15\" class=\"data row11 col15\" >-0.025620</td>\n",
       "                        <td id=\"T_323b9_row11_col16\" class=\"data row11 col16\" >0.074496</td>\n",
       "                        <td id=\"T_323b9_row11_col17\" class=\"data row11 col17\" >0.089157</td>\n",
       "                        <td id=\"T_323b9_row11_col18\" class=\"data row11 col18\" >-0.059030</td>\n",
       "                        <td id=\"T_323b9_row11_col19\" class=\"data row11 col19\" >0.051782</td>\n",
       "                        <td id=\"T_323b9_row11_col20\" class=\"data row11 col20\" >0.264754</td>\n",
       "                        <td id=\"T_323b9_row11_col21\" class=\"data row11 col21\" >-0.038548</td>\n",
       "                        <td id=\"T_323b9_row11_col22\" class=\"data row11 col22\" >-0.435913</td>\n",
       "                        <td id=\"T_323b9_row11_col23\" class=\"data row11 col23\" >0.545034</td>\n",
       "            </tr>\n",
       "            <tr>\n",
       "                        <th id=\"T_323b9_level0_row12\" class=\"row_heading level0 row12\" >balcony</th>\n",
       "                        <td id=\"T_323b9_row12_col0\" class=\"data row12 col0\" >0.046112</td>\n",
       "                        <td id=\"T_323b9_row12_col1\" class=\"data row12 col1\" >0.095371</td>\n",
       "                        <td id=\"T_323b9_row12_col2\" class=\"data row12 col2\" >0.088324</td>\n",
       "                        <td id=\"T_323b9_row12_col3\" class=\"data row12 col3\" >0.034848</td>\n",
       "                        <td id=\"T_323b9_row12_col4\" class=\"data row12 col4\" >0.032794</td>\n",
       "                        <td id=\"T_323b9_row12_col5\" class=\"data row12 col5\" >0.160451</td>\n",
       "                        <td id=\"T_323b9_row12_col6\" class=\"data row12 col6\" >0.050603</td>\n",
       "                        <td id=\"T_323b9_row12_col7\" class=\"data row12 col7\" >0.158761</td>\n",
       "                        <td id=\"T_323b9_row12_col8\" class=\"data row12 col8\" >0.039820</td>\n",
       "                        <td id=\"T_323b9_row12_col9\" class=\"data row12 col9\" >0.033165</td>\n",
       "                        <td id=\"T_323b9_row12_col10\" class=\"data row12 col10\" >0.035501</td>\n",
       "                        <td id=\"T_323b9_row12_col11\" class=\"data row12 col11\" >0.091186</td>\n",
       "                        <td id=\"T_323b9_row12_col12\" class=\"data row12 col12\" >1.000000</td>\n",
       "                        <td id=\"T_323b9_row12_col13\" class=\"data row12 col13\" >0.031356</td>\n",
       "                        <td id=\"T_323b9_row12_col14\" class=\"data row12 col14\" >0.026669</td>\n",
       "                        <td id=\"T_323b9_row12_col15\" class=\"data row12 col15\" >-0.069292</td>\n",
       "                        <td id=\"T_323b9_row12_col16\" class=\"data row12 col16\" >0.031367</td>\n",
       "                        <td id=\"T_323b9_row12_col17\" class=\"data row12 col17\" >-0.029753</td>\n",
       "                        <td id=\"T_323b9_row12_col18\" class=\"data row12 col18\" >0.019802</td>\n",
       "                        <td id=\"T_323b9_row12_col19\" class=\"data row12 col19\" >-0.017899</td>\n",
       "                        <td id=\"T_323b9_row12_col20\" class=\"data row12 col20\" >0.054051</td>\n",
       "                        <td id=\"T_323b9_row12_col21\" class=\"data row12 col21\" >-0.001325</td>\n",
       "                        <td id=\"T_323b9_row12_col22\" class=\"data row12 col22\" >-0.055867</td>\n",
       "                        <td id=\"T_323b9_row12_col23\" class=\"data row12 col23\" >0.019154</td>\n",
       "            </tr>\n",
       "            <tr>\n",
       "                        <th id=\"T_323b9_level0_row13\" class=\"row_heading level0 row13\" >airports_nearest</th>\n",
       "                        <td id=\"T_323b9_row13_col0\" class=\"data row13 col0\" >-0.004696</td>\n",
       "                        <td id=\"T_323b9_row13_col1\" class=\"data row13 col1\" >-0.020418</td>\n",
       "                        <td id=\"T_323b9_row13_col2\" class=\"data row13 col2\" >-0.001927</td>\n",
       "                        <td id=\"T_323b9_row13_col3\" class=\"data row13 col3\" >-0.025241</td>\n",
       "                        <td id=\"T_323b9_row13_col4\" class=\"data row13 col4\" >-0.047651</td>\n",
       "                        <td id=\"T_323b9_row13_col5\" class=\"data row13 col5\" >0.083222</td>\n",
       "                        <td id=\"T_323b9_row13_col6\" class=\"data row13 col6\" >-0.030713</td>\n",
       "                        <td id=\"T_323b9_row13_col7\" class=\"data row13 col7\" >0.056080</td>\n",
       "                        <td id=\"T_323b9_row13_col8\" class=\"data row13 col8\" >0.017543</td>\n",
       "                        <td id=\"T_323b9_row13_col9\" class=\"data row13 col9\" >-0.023346</td>\n",
       "                        <td id=\"T_323b9_row13_col10\" class=\"data row13 col10\" >-0.015376</td>\n",
       "                        <td id=\"T_323b9_row13_col11\" class=\"data row13 col11\" >0.021913</td>\n",
       "                        <td id=\"T_323b9_row13_col12\" class=\"data row13 col12\" >0.031356</td>\n",
       "                        <td id=\"T_323b9_row13_col13\" class=\"data row13 col13\" >1.000000</td>\n",
       "                        <td id=\"T_323b9_row13_col14\" class=\"data row13 col14\" >0.248557</td>\n",
       "                        <td id=\"T_323b9_row13_col15\" class=\"data row13 col15\" >0.028163</td>\n",
       "                        <td id=\"T_323b9_row13_col16\" class=\"data row13 col16\" >-0.108495</td>\n",
       "                        <td id=\"T_323b9_row13_col17\" class=\"data row13 col17\" >-0.048951</td>\n",
       "                        <td id=\"T_323b9_row13_col18\" class=\"data row13 col18\" >0.015642</td>\n",
       "                        <td id=\"T_323b9_row13_col19\" class=\"data row13 col19\" >-0.007047</td>\n",
       "                        <td id=\"T_323b9_row13_col20\" class=\"data row13 col20\" >-0.043304</td>\n",
       "                        <td id=\"T_323b9_row13_col21\" class=\"data row13 col21\" >0.003462</td>\n",
       "                        <td id=\"T_323b9_row13_col22\" class=\"data row13 col22\" >-0.070054</td>\n",
       "                        <td id=\"T_323b9_row13_col23\" class=\"data row13 col23\" >0.019867</td>\n",
       "            </tr>\n",
       "            <tr>\n",
       "                        <th id=\"T_323b9_level0_row14\" class=\"row_heading level0 row14\" >cityCenters_nearest</th>\n",
       "                        <td id=\"T_323b9_row14_col0\" class=\"data row14 col0\" >-0.034220</td>\n",
       "                        <td id=\"T_323b9_row14_col1\" class=\"data row14 col1\" >-0.318261</td>\n",
       "                        <td id=\"T_323b9_row14_col2\" class=\"data row14 col2\" >-0.109717</td>\n",
       "                        <td id=\"T_323b9_row14_col3\" class=\"data row14 col3\" >-0.046707</td>\n",
       "                        <td id=\"T_323b9_row14_col4\" class=\"data row14 col4\" >-0.185183</td>\n",
       "                        <td id=\"T_323b9_row14_col5\" class=\"data row14 col5\" >-0.064790</td>\n",
       "                        <td id=\"T_323b9_row14_col6\" class=\"data row14 col6\" >-0.081834</td>\n",
       "                        <td id=\"T_323b9_row14_col7\" class=\"data row14 col7\" >-0.037351</td>\n",
       "                        <td id=\"T_323b9_row14_col8\" class=\"data row14 col8\" >0.020364</td>\n",
       "                        <td id=\"T_323b9_row14_col9\" class=\"data row14 col9\" >-0.012548</td>\n",
       "                        <td id=\"T_323b9_row14_col10\" class=\"data row14 col10\" >-0.006636</td>\n",
       "                        <td id=\"T_323b9_row14_col11\" class=\"data row14 col11\" >-0.115399</td>\n",
       "                        <td id=\"T_323b9_row14_col12\" class=\"data row14 col12\" >0.026669</td>\n",
       "                        <td id=\"T_323b9_row14_col13\" class=\"data row14 col13\" >0.248557</td>\n",
       "                        <td id=\"T_323b9_row14_col14\" class=\"data row14 col14\" >1.000000</td>\n",
       "                        <td id=\"T_323b9_row14_col15\" class=\"data row14 col15\" >-0.097715</td>\n",
       "                        <td id=\"T_323b9_row14_col16\" class=\"data row14 col16\" >-0.075614</td>\n",
       "                        <td id=\"T_323b9_row14_col17\" class=\"data row14 col17\" >-0.000438</td>\n",
       "                        <td id=\"T_323b9_row14_col18\" class=\"data row14 col18\" >-0.019904</td>\n",
       "                        <td id=\"T_323b9_row14_col19\" class=\"data row14 col19\" >-0.013209</td>\n",
       "                        <td id=\"T_323b9_row14_col20\" class=\"data row14 col20\" >-0.413697</td>\n",
       "                        <td id=\"T_323b9_row14_col21\" class=\"data row14 col21\" >0.011812</td>\n",
       "                        <td id=\"T_323b9_row14_col22\" class=\"data row14 col22\" >0.013023</td>\n",
       "                        <td id=\"T_323b9_row14_col23\" class=\"data row14 col23\" >-0.034456</td>\n",
       "            </tr>\n",
       "            <tr>\n",
       "                        <th id=\"T_323b9_level0_row15\" class=\"row_heading level0 row15\" >parks_around3000</th>\n",
       "                        <td id=\"T_323b9_row15_col0\" class=\"data row15 col0\" >0.005480</td>\n",
       "                        <td id=\"T_323b9_row15_col1\" class=\"data row15 col1\" >0.105682</td>\n",
       "                        <td id=\"T_323b9_row15_col2\" class=\"data row15 col2\" >0.041801</td>\n",
       "                        <td id=\"T_323b9_row15_col3\" class=\"data row15 col3\" >0.042281</td>\n",
       "                        <td id=\"T_323b9_row15_col4\" class=\"data row15 col4\" >0.095428</td>\n",
       "                        <td id=\"T_323b9_row15_col5\" class=\"data row15 col5\" >-0.224475</td>\n",
       "                        <td id=\"T_323b9_row15_col6\" class=\"data row15 col6\" >0.066080</td>\n",
       "                        <td id=\"T_323b9_row15_col7\" class=\"data row15 col7\" >-0.149377</td>\n",
       "                        <td id=\"T_323b9_row15_col8\" class=\"data row15 col8\" >-0.006420</td>\n",
       "                        <td id=\"T_323b9_row15_col9\" class=\"data row15 col9\" >-0.032113</td>\n",
       "                        <td id=\"T_323b9_row15_col10\" class=\"data row15 col10\" >-0.009925</td>\n",
       "                        <td id=\"T_323b9_row15_col11\" class=\"data row15 col11\" >-0.025620</td>\n",
       "                        <td id=\"T_323b9_row15_col12\" class=\"data row15 col12\" >-0.069292</td>\n",
       "                        <td id=\"T_323b9_row15_col13\" class=\"data row15 col13\" >0.028163</td>\n",
       "                        <td id=\"T_323b9_row15_col14\" class=\"data row15 col14\" >-0.097715</td>\n",
       "                        <td id=\"T_323b9_row15_col15\" class=\"data row15 col15\" >1.000000</td>\n",
       "                        <td id=\"T_323b9_row15_col16\" class=\"data row15 col16\" >-0.249393</td>\n",
       "                        <td id=\"T_323b9_row15_col17\" class=\"data row15 col17\" >0.271494</td>\n",
       "                        <td id=\"T_323b9_row15_col18\" class=\"data row15 col18\" >-0.131441</td>\n",
       "                        <td id=\"T_323b9_row15_col19\" class=\"data row15 col19\" >0.017871</td>\n",
       "                        <td id=\"T_323b9_row15_col20\" class=\"data row15 col20\" >0.109738</td>\n",
       "                        <td id=\"T_323b9_row15_col21\" class=\"data row15 col21\" >-0.015873</td>\n",
       "                        <td id=\"T_323b9_row15_col22\" class=\"data row15 col22\" >0.069872</td>\n",
       "                        <td id=\"T_323b9_row15_col23\" class=\"data row15 col23\" >-0.074389</td>\n",
       "            </tr>\n",
       "            <tr>\n",
       "                        <th id=\"T_323b9_level0_row16\" class=\"row_heading level0 row16\" >parks_nearest</th>\n",
       "                        <td id=\"T_323b9_row16_col0\" class=\"data row16 col0\" >-0.003862</td>\n",
       "                        <td id=\"T_323b9_row16_col1\" class=\"data row16 col1\" >0.074765</td>\n",
       "                        <td id=\"T_323b9_row16_col2\" class=\"data row16 col2\" >0.034951</td>\n",
       "                        <td id=\"T_323b9_row16_col3\" class=\"data row16 col3\" >-0.025723</td>\n",
       "                        <td id=\"T_323b9_row16_col4\" class=\"data row16 col4\" >-0.016886</td>\n",
       "                        <td id=\"T_323b9_row16_col5\" class=\"data row16 col5\" >0.094010</td>\n",
       "                        <td id=\"T_323b9_row16_col6\" class=\"data row16 col6\" >-0.022483</td>\n",
       "                        <td id=\"T_323b9_row16_col7\" class=\"data row16 col7\" >0.070965</td>\n",
       "                        <td id=\"T_323b9_row16_col8\" class=\"data row16 col8\" >-0.019627</td>\n",
       "                        <td id=\"T_323b9_row16_col9\" class=\"data row16 col9\" >0.012953</td>\n",
       "                        <td id=\"T_323b9_row16_col10\" class=\"data row16 col10\" >0.011705</td>\n",
       "                        <td id=\"T_323b9_row16_col11\" class=\"data row16 col11\" >0.074496</td>\n",
       "                        <td id=\"T_323b9_row16_col12\" class=\"data row16 col12\" >0.031367</td>\n",
       "                        <td id=\"T_323b9_row16_col13\" class=\"data row16 col13\" >-0.108495</td>\n",
       "                        <td id=\"T_323b9_row16_col14\" class=\"data row16 col14\" >-0.075614</td>\n",
       "                        <td id=\"T_323b9_row16_col15\" class=\"data row16 col15\" >-0.249393</td>\n",
       "                        <td id=\"T_323b9_row16_col16\" class=\"data row16 col16\" >1.000000</td>\n",
       "                        <td id=\"T_323b9_row16_col17\" class=\"data row16 col17\" >0.078965</td>\n",
       "                        <td id=\"T_323b9_row16_col18\" class=\"data row16 col18\" >0.012582</td>\n",
       "                        <td id=\"T_323b9_row16_col19\" class=\"data row16 col19\" >0.049590</td>\n",
       "                        <td id=\"T_323b9_row16_col20\" class=\"data row16 col20\" >0.080231</td>\n",
       "                        <td id=\"T_323b9_row16_col21\" class=\"data row16 col21\" >-0.036999</td>\n",
       "                        <td id=\"T_323b9_row16_col22\" class=\"data row16 col22\" >-0.098563</td>\n",
       "                        <td id=\"T_323b9_row16_col23\" class=\"data row16 col23\" >0.051430</td>\n",
       "            </tr>\n",
       "            <tr>\n",
       "                        <th id=\"T_323b9_level0_row17\" class=\"row_heading level0 row17\" >ponds_around3000</th>\n",
       "                        <td id=\"T_323b9_row17_col0\" class=\"data row17 col0\" >-0.023609</td>\n",
       "                        <td id=\"T_323b9_row17_col1\" class=\"data row17 col1\" >0.136820</td>\n",
       "                        <td id=\"T_323b9_row17_col2\" class=\"data row17 col2\" >0.082486</td>\n",
       "                        <td id=\"T_323b9_row17_col3\" class=\"data row17 col3\" >0.011589</td>\n",
       "                        <td id=\"T_323b9_row17_col4\" class=\"data row17 col4\" >0.121687</td>\n",
       "                        <td id=\"T_323b9_row17_col5\" class=\"data row17 col5\" >-0.086334</td>\n",
       "                        <td id=\"T_323b9_row17_col6\" class=\"data row17 col6\" >0.045946</td>\n",
       "                        <td id=\"T_323b9_row17_col7\" class=\"data row17 col7\" >-0.056596</td>\n",
       "                        <td id=\"T_323b9_row17_col8\" class=\"data row17 col8\" >-0.000123</td>\n",
       "                        <td id=\"T_323b9_row17_col9\" class=\"data row17 col9\" >0.005205</td>\n",
       "                        <td id=\"T_323b9_row17_col10\" class=\"data row17 col10\" >0.011636</td>\n",
       "                        <td id=\"T_323b9_row17_col11\" class=\"data row17 col11\" >0.089157</td>\n",
       "                        <td id=\"T_323b9_row17_col12\" class=\"data row17 col12\" >-0.029753</td>\n",
       "                        <td id=\"T_323b9_row17_col13\" class=\"data row17 col13\" >-0.048951</td>\n",
       "                        <td id=\"T_323b9_row17_col14\" class=\"data row17 col14\" >-0.000438</td>\n",
       "                        <td id=\"T_323b9_row17_col15\" class=\"data row17 col15\" >0.271494</td>\n",
       "                        <td id=\"T_323b9_row17_col16\" class=\"data row17 col16\" >0.078965</td>\n",
       "                        <td id=\"T_323b9_row17_col17\" class=\"data row17 col17\" >1.000000</td>\n",
       "                        <td id=\"T_323b9_row17_col18\" class=\"data row17 col18\" >-0.305729</td>\n",
       "                        <td id=\"T_323b9_row17_col19\" class=\"data row17 col19\" >0.047611</td>\n",
       "                        <td id=\"T_323b9_row17_col20\" class=\"data row17 col20\" >0.113836</td>\n",
       "                        <td id=\"T_323b9_row17_col21\" class=\"data row17 col21\" >-0.023469</td>\n",
       "                        <td id=\"T_323b9_row17_col22\" class=\"data row17 col22\" >-0.040609</td>\n",
       "                        <td id=\"T_323b9_row17_col23\" class=\"data row17 col23\" >0.021870</td>\n",
       "            </tr>\n",
       "            <tr>\n",
       "                        <th id=\"T_323b9_level0_row18\" class=\"row_heading level0 row18\" >ponds_nearest</th>\n",
       "                        <td id=\"T_323b9_row18_col0\" class=\"data row18 col0\" >-0.000981</td>\n",
       "                        <td id=\"T_323b9_row18_col1\" class=\"data row18 col1\" >-0.055766</td>\n",
       "                        <td id=\"T_323b9_row18_col2\" class=\"data row18 col2\" >-0.030226</td>\n",
       "                        <td id=\"T_323b9_row18_col3\" class=\"data row18 col3\" >0.001169</td>\n",
       "                        <td id=\"T_323b9_row18_col4\" class=\"data row18 col4\" >-0.062455</td>\n",
       "                        <td id=\"T_323b9_row18_col5\" class=\"data row18 col5\" >0.012685</td>\n",
       "                        <td id=\"T_323b9_row18_col6\" class=\"data row18 col6\" >-0.006972</td>\n",
       "                        <td id=\"T_323b9_row18_col7\" class=\"data row18 col7\" >0.018011</td>\n",
       "                        <td id=\"T_323b9_row18_col8\" class=\"data row18 col8\" >0.014784</td>\n",
       "                        <td id=\"T_323b9_row18_col9\" class=\"data row18 col9\" >-0.004171</td>\n",
       "                        <td id=\"T_323b9_row18_col10\" class=\"data row18 col10\" >-0.004972</td>\n",
       "                        <td id=\"T_323b9_row18_col11\" class=\"data row18 col11\" >-0.059030</td>\n",
       "                        <td id=\"T_323b9_row18_col12\" class=\"data row18 col12\" >0.019802</td>\n",
       "                        <td id=\"T_323b9_row18_col13\" class=\"data row18 col13\" >0.015642</td>\n",
       "                        <td id=\"T_323b9_row18_col14\" class=\"data row18 col14\" >-0.019904</td>\n",
       "                        <td id=\"T_323b9_row18_col15\" class=\"data row18 col15\" >-0.131441</td>\n",
       "                        <td id=\"T_323b9_row18_col16\" class=\"data row18 col16\" >0.012582</td>\n",
       "                        <td id=\"T_323b9_row18_col17\" class=\"data row18 col17\" >-0.305729</td>\n",
       "                        <td id=\"T_323b9_row18_col18\" class=\"data row18 col18\" >1.000000</td>\n",
       "                        <td id=\"T_323b9_row18_col19\" class=\"data row18 col19\" >-0.079109</td>\n",
       "                        <td id=\"T_323b9_row18_col20\" class=\"data row18 col20\" >-0.049697</td>\n",
       "                        <td id=\"T_323b9_row18_col21\" class=\"data row18 col21\" >0.037349</td>\n",
       "                        <td id=\"T_323b9_row18_col22\" class=\"data row18 col22\" >0.032072</td>\n",
       "                        <td id=\"T_323b9_row18_col23\" class=\"data row18 col23\" >-0.038666</td>\n",
       "            </tr>\n",
       "            <tr>\n",
       "                        <th id=\"T_323b9_level0_row19\" class=\"row_heading level0 row19\" >days_exposition</th>\n",
       "                        <td id=\"T_323b9_row19_col0\" class=\"data row19 col0\" >-0.062770</td>\n",
       "                        <td id=\"T_323b9_row19_col1\" class=\"data row19 col1\" >0.038510</td>\n",
       "                        <td id=\"T_323b9_row19_col2\" class=\"data row19 col2\" >0.068107</td>\n",
       "                        <td id=\"T_323b9_row19_col3\" class=\"data row19 col3\" >0.038782</td>\n",
       "                        <td id=\"T_323b9_row19_col4\" class=\"data row19 col4\" >0.043968</td>\n",
       "                        <td id=\"T_323b9_row19_col5\" class=\"data row19 col5\" >-0.012720</td>\n",
       "                        <td id=\"T_323b9_row19_col6\" class=\"data row19 col6\" >0.047418</td>\n",
       "                        <td id=\"T_323b9_row19_col7\" class=\"data row19 col7\" >-0.014308</td>\n",
       "                        <td id=\"T_323b9_row19_col8\" class=\"data row19 col8\" >-0.006074</td>\n",
       "                        <td id=\"T_323b9_row19_col9\" class=\"data row19 col9\" >-0.016598</td>\n",
       "                        <td id=\"T_323b9_row19_col10\" class=\"data row19 col10\" >-0.016569</td>\n",
       "                        <td id=\"T_323b9_row19_col11\" class=\"data row19 col11\" >0.051782</td>\n",
       "                        <td id=\"T_323b9_row19_col12\" class=\"data row19 col12\" >-0.017899</td>\n",
       "                        <td id=\"T_323b9_row19_col13\" class=\"data row19 col13\" >-0.007047</td>\n",
       "                        <td id=\"T_323b9_row19_col14\" class=\"data row19 col14\" >-0.013209</td>\n",
       "                        <td id=\"T_323b9_row19_col15\" class=\"data row19 col15\" >0.017871</td>\n",
       "                        <td id=\"T_323b9_row19_col16\" class=\"data row19 col16\" >0.049590</td>\n",
       "                        <td id=\"T_323b9_row19_col17\" class=\"data row19 col17\" >0.047611</td>\n",
       "                        <td id=\"T_323b9_row19_col18\" class=\"data row19 col18\" >-0.079109</td>\n",
       "                        <td id=\"T_323b9_row19_col19\" class=\"data row19 col19\" >1.000000</td>\n",
       "                        <td id=\"T_323b9_row19_col20\" class=\"data row19 col20\" >-0.015848</td>\n",
       "                        <td id=\"T_323b9_row19_col21\" class=\"data row19 col21\" >-0.611774</td>\n",
       "                        <td id=\"T_323b9_row19_col22\" class=\"data row19 col22\" >-0.024252</td>\n",
       "                        <td id=\"T_323b9_row19_col23\" class=\"data row19 col23\" >-0.010623</td>\n",
       "            </tr>\n",
       "            <tr>\n",
       "                        <th id=\"T_323b9_level0_row20\" class=\"row_heading level0 row20\" >price_per_square_meter</th>\n",
       "                        <td id=\"T_323b9_row20_col0\" class=\"data row20 col0\" >0.128311</td>\n",
       "                        <td id=\"T_323b9_row20_col1\" class=\"data row20 col1\" >0.681235</td>\n",
       "                        <td id=\"T_323b9_row20_col2\" class=\"data row20 col2\" >0.020806</td>\n",
       "                        <td id=\"T_323b9_row20_col3\" class=\"data row20 col3\" >-0.176585</td>\n",
       "                        <td id=\"T_323b9_row20_col4\" class=\"data row20 col4\" >0.252422</td>\n",
       "                        <td id=\"T_323b9_row20_col5\" class=\"data row20 col5\" >0.341678</td>\n",
       "                        <td id=\"T_323b9_row20_col6\" class=\"data row20 col6\" >-0.102402</td>\n",
       "                        <td id=\"T_323b9_row20_col7\" class=\"data row20 col7\" >0.246511</td>\n",
       "                        <td id=\"T_323b9_row20_col8\" class=\"data row20 col8\" >0.015145</td>\n",
       "                        <td id=\"T_323b9_row20_col9\" class=\"data row20 col9\" >0.040112</td>\n",
       "                        <td id=\"T_323b9_row20_col10\" class=\"data row20 col10\" >0.015645</td>\n",
       "                        <td id=\"T_323b9_row20_col11\" class=\"data row20 col11\" >0.264754</td>\n",
       "                        <td id=\"T_323b9_row20_col12\" class=\"data row20 col12\" >0.054051</td>\n",
       "                        <td id=\"T_323b9_row20_col13\" class=\"data row20 col13\" >-0.043304</td>\n",
       "                        <td id=\"T_323b9_row20_col14\" class=\"data row20 col14\" >-0.413697</td>\n",
       "                        <td id=\"T_323b9_row20_col15\" class=\"data row20 col15\" >0.109738</td>\n",
       "                        <td id=\"T_323b9_row20_col16\" class=\"data row20 col16\" >0.080231</td>\n",
       "                        <td id=\"T_323b9_row20_col17\" class=\"data row20 col17\" >0.113836</td>\n",
       "                        <td id=\"T_323b9_row20_col18\" class=\"data row20 col18\" >-0.049697</td>\n",
       "                        <td id=\"T_323b9_row20_col19\" class=\"data row20 col19\" >-0.015848</td>\n",
       "                        <td id=\"T_323b9_row20_col20\" class=\"data row20 col20\" >1.000000</td>\n",
       "                        <td id=\"T_323b9_row20_col21\" class=\"data row20 col21\" >0.064838</td>\n",
       "                        <td id=\"T_323b9_row20_col22\" class=\"data row20 col22\" >-0.249622</td>\n",
       "                        <td id=\"T_323b9_row20_col23\" class=\"data row20 col23\" >0.267276</td>\n",
       "            </tr>\n",
       "            <tr>\n",
       "                        <th id=\"T_323b9_level0_row21\" class=\"row_heading level0 row21\" >year</th>\n",
       "                        <td id=\"T_323b9_row21_col0\" class=\"data row21 col0\" >0.147030</td>\n",
       "                        <td id=\"T_323b9_row21_col1\" class=\"data row21 col1\" >0.006754</td>\n",
       "                        <td id=\"T_323b9_row21_col2\" class=\"data row21 col2\" >-0.049649</td>\n",
       "                        <td id=\"T_323b9_row21_col3\" class=\"data row21 col3\" >-0.021180</td>\n",
       "                        <td id=\"T_323b9_row21_col4\" class=\"data row21 col4\" >-0.055065</td>\n",
       "                        <td id=\"T_323b9_row21_col5\" class=\"data row21 col5\" >-0.002149</td>\n",
       "                        <td id=\"T_323b9_row21_col6\" class=\"data row21 col6\" >-0.035247</td>\n",
       "                        <td id=\"T_323b9_row21_col7\" class=\"data row21 col7\" >0.001424</td>\n",
       "                        <td id=\"T_323b9_row21_col8\" class=\"data row21 col8\" >0.016071</td>\n",
       "                        <td id=\"T_323b9_row21_col9\" class=\"data row21 col9\" >0.009005</td>\n",
       "                        <td id=\"T_323b9_row21_col10\" class=\"data row21 col10\" >-0.023230</td>\n",
       "                        <td id=\"T_323b9_row21_col11\" class=\"data row21 col11\" >-0.038548</td>\n",
       "                        <td id=\"T_323b9_row21_col12\" class=\"data row21 col12\" >-0.001325</td>\n",
       "                        <td id=\"T_323b9_row21_col13\" class=\"data row21 col13\" >0.003462</td>\n",
       "                        <td id=\"T_323b9_row21_col14\" class=\"data row21 col14\" >0.011812</td>\n",
       "                        <td id=\"T_323b9_row21_col15\" class=\"data row21 col15\" >-0.015873</td>\n",
       "                        <td id=\"T_323b9_row21_col16\" class=\"data row21 col16\" >-0.036999</td>\n",
       "                        <td id=\"T_323b9_row21_col17\" class=\"data row21 col17\" >-0.023469</td>\n",
       "                        <td id=\"T_323b9_row21_col18\" class=\"data row21 col18\" >0.037349</td>\n",
       "                        <td id=\"T_323b9_row21_col19\" class=\"data row21 col19\" >-0.611774</td>\n",
       "                        <td id=\"T_323b9_row21_col20\" class=\"data row21 col20\" >0.064838</td>\n",
       "                        <td id=\"T_323b9_row21_col21\" class=\"data row21 col21\" >1.000000</td>\n",
       "                        <td id=\"T_323b9_row21_col22\" class=\"data row21 col22\" >0.014166</td>\n",
       "                        <td id=\"T_323b9_row21_col23\" class=\"data row21 col23\" >0.005386</td>\n",
       "            </tr>\n",
       "            <tr>\n",
       "                        <th id=\"T_323b9_level0_row22\" class=\"row_heading level0 row22\" >liv_coef</th>\n",
       "                        <td id=\"T_323b9_row22_col0\" class=\"data row22 col0\" >0.001039</td>\n",
       "                        <td id=\"T_323b9_row22_col1\" class=\"data row22 col1\" >-0.073258</td>\n",
       "                        <td id=\"T_323b9_row22_col2\" class=\"data row22 col2\" >0.145349</td>\n",
       "                        <td id=\"T_323b9_row22_col3\" class=\"data row22 col3\" >0.550020</td>\n",
       "                        <td id=\"T_323b9_row22_col4\" class=\"data row22 col4\" >-0.152473</td>\n",
       "                        <td id=\"T_323b9_row22_col5\" class=\"data row22 col5\" >-0.361253</td>\n",
       "                        <td id=\"T_323b9_row22_col6\" class=\"data row22 col6\" >0.567929</td>\n",
       "                        <td id=\"T_323b9_row22_col7\" class=\"data row22 col7\" >-0.256876</td>\n",
       "                        <td id=\"T_323b9_row22_col8\" class=\"data row22 col8\" >-0.007398</td>\n",
       "                        <td id=\"T_323b9_row22_col9\" class=\"data row22 col9\" >0.095998</td>\n",
       "                        <td id=\"T_323b9_row22_col10\" class=\"data row22 col10\" >0.067113</td>\n",
       "                        <td id=\"T_323b9_row22_col11\" class=\"data row22 col11\" >-0.435913</td>\n",
       "                        <td id=\"T_323b9_row22_col12\" class=\"data row22 col12\" >-0.055867</td>\n",
       "                        <td id=\"T_323b9_row22_col13\" class=\"data row22 col13\" >-0.070054</td>\n",
       "                        <td id=\"T_323b9_row22_col14\" class=\"data row22 col14\" >0.013023</td>\n",
       "                        <td id=\"T_323b9_row22_col15\" class=\"data row22 col15\" >0.069872</td>\n",
       "                        <td id=\"T_323b9_row22_col16\" class=\"data row22 col16\" >-0.098563</td>\n",
       "                        <td id=\"T_323b9_row22_col17\" class=\"data row22 col17\" >-0.040609</td>\n",
       "                        <td id=\"T_323b9_row22_col18\" class=\"data row22 col18\" >0.032072</td>\n",
       "                        <td id=\"T_323b9_row22_col19\" class=\"data row22 col19\" >-0.024252</td>\n",
       "                        <td id=\"T_323b9_row22_col20\" class=\"data row22 col20\" >-0.249622</td>\n",
       "                        <td id=\"T_323b9_row22_col21\" class=\"data row22 col21\" >0.014166</td>\n",
       "                        <td id=\"T_323b9_row22_col22\" class=\"data row22 col22\" >1.000000</td>\n",
       "                        <td id=\"T_323b9_row22_col23\" class=\"data row22 col23\" >-0.548410</td>\n",
       "            </tr>\n",
       "            <tr>\n",
       "                        <th id=\"T_323b9_level0_row23\" class=\"row_heading level0 row23\" >kit_coef</th>\n",
       "                        <td id=\"T_323b9_row23_col0\" class=\"data row23 col0\" >-0.050368</td>\n",
       "                        <td id=\"T_323b9_row23_col1\" class=\"data row23 col1\" >-0.131824</td>\n",
       "                        <td id=\"T_323b9_row23_col2\" class=\"data row23 col2\" >-0.443192</td>\n",
       "                        <td id=\"T_323b9_row23_col3\" class=\"data row23 col3\" >-0.656538</td>\n",
       "                        <td id=\"T_323b9_row23_col4\" class=\"data row23 col4\" >0.123285</td>\n",
       "                        <td id=\"T_323b9_row23_col5\" class=\"data row23 col5\" >0.348137</td>\n",
       "                        <td id=\"T_323b9_row23_col6\" class=\"data row23 col6\" >-0.625499</td>\n",
       "                        <td id=\"T_323b9_row23_col7\" class=\"data row23 col7\" >0.243445</td>\n",
       "                        <td id=\"T_323b9_row23_col8\" class=\"data row23 col8\" >0.007069</td>\n",
       "                        <td id=\"T_323b9_row23_col9\" class=\"data row23 col9\" >0.172375</td>\n",
       "                        <td id=\"T_323b9_row23_col10\" class=\"data row23 col10\" >0.101180</td>\n",
       "                        <td id=\"T_323b9_row23_col11\" class=\"data row23 col11\" >0.545034</td>\n",
       "                        <td id=\"T_323b9_row23_col12\" class=\"data row23 col12\" >0.019154</td>\n",
       "                        <td id=\"T_323b9_row23_col13\" class=\"data row23 col13\" >0.019867</td>\n",
       "                        <td id=\"T_323b9_row23_col14\" class=\"data row23 col14\" >-0.034456</td>\n",
       "                        <td id=\"T_323b9_row23_col15\" class=\"data row23 col15\" >-0.074389</td>\n",
       "                        <td id=\"T_323b9_row23_col16\" class=\"data row23 col16\" >0.051430</td>\n",
       "                        <td id=\"T_323b9_row23_col17\" class=\"data row23 col17\" >0.021870</td>\n",
       "                        <td id=\"T_323b9_row23_col18\" class=\"data row23 col18\" >-0.038666</td>\n",
       "                        <td id=\"T_323b9_row23_col19\" class=\"data row23 col19\" >-0.010623</td>\n",
       "                        <td id=\"T_323b9_row23_col20\" class=\"data row23 col20\" >0.267276</td>\n",
       "                        <td id=\"T_323b9_row23_col21\" class=\"data row23 col21\" >0.005386</td>\n",
       "                        <td id=\"T_323b9_row23_col22\" class=\"data row23 col22\" >-0.548410</td>\n",
       "                        <td id=\"T_323b9_row23_col23\" class=\"data row23 col23\" >1.000000</td>\n",
       "            </tr>\n",
       "    </tbody></table>"
      ],
      "text/plain": [
       "<pandas.io.formats.style.Styler at 0x2dc2e597e80>"
      ]
     },
     "execution_count": 38,
     "metadata": {},
     "output_type": "execute_result"
    }
   ],
   "source": [
    "clean_df.corr().style.background_gradient('coolwarm')"
   ]
  },
  {
   "cell_type": "markdown",
   "metadata": {},
   "source": [
    "**По таблице можно уже сделать выводы о зависимостях и корреляции, но цифры нужно подкрепить наглядными графиками** "
   ]
  },
  {
   "cell_type": "code",
   "execution_count": 39,
   "metadata": {},
   "outputs": [
    {
     "data": {
      "image/png": "[encoded data removed]",
      "text/plain": [
       "<Figure size 432x288 with 1 Axes>"
      ]
     },
     "metadata": {
      "needs_background": "light"
     },
     "output_type": "display_data"
    }
   ],
   "source": [
    "clean_df.plot(x='total_area', y='last_price', kind='scatter', title='Зависимость цены от площади', grid=True)\n",
    "plt.show()"
   ]
  },
  {
   "cell_type": "markdown",
   "metadata": {},
   "source": [
    "Цена зависит от площади (что логично) - корреляция составляет 0.71 - довольно высоко!\n",
    "\n",
    "**Теперь посмотрим на зависимость цены от количества комнат.**"
   ]
  },
  {
   "cell_type": "code",
   "execution_count": 40,
   "metadata": {},
   "outputs": [
    {
     "data": {
      "image/png": "[encoded data removed]",
      "text/plain": [
       "<Figure size 432x288 with 1 Axes>"
      ]
     },
     "metadata": {
      "needs_background": "light"
     },
     "output_type": "display_data"
    }
   ],
   "source": [
    "rooms = clean_df.groupby('rooms')['last_price'].median()\n",
    "rooms.plot(title='Зависимость цены от кол-ва комнат')\n",
    "plt.show()"
   ]
  },
  {
   "cell_type": "markdown",
   "metadata": {},
   "source": [
    "График, построенный по количеству комнат, в общем и  целом показывает, что чем больше комнат, тем дороже квартира. Следует также учесть значение из таблицы корреляции - 0,41. Т.е. зивисимость между ценой и количеством комнат есть, но последнее - не самый главный фактор. Однушка в столице может стоить дороже трёшки в пгт.\n",
    "\n",
    "**Изучим теперь зависимость цены от удалённости от центра.**"
   ]
  },
  {
   "cell_type": "code",
   "execution_count": 41,
   "metadata": {},
   "outputs": [
    {
     "data": {
      "image/png": "[encoded data removed]",
      "text/plain": [
       "<Figure size 432x288 with 1 Axes>"
      ]
     },
     "metadata": {
      "needs_background": "light"
     },
     "output_type": "display_data"
    }
   ],
   "source": [
    "clean_df.plot(x='cityCenters_nearest', y='last_price', kind='scatter', title='Зависимость цены от удалённости от центра')\n",
    "plt.show()"
   ]
  },
  {
   "cell_type": "markdown",
   "metadata": {},
   "source": [
    "Наблюдается сильный разброс - это означает, что чем ближе квартира находится к центру, тем больше ценовых преложений. Чем дальше от центра, тем меньше дорогих предложений. Отрицательная корреляция в таблице выше(-0,31) подтверждает, что чем дальше от центра, тем дешевле квартиры.\n",
    "\n",
    "**Изучим теперь зависимость цены от того, на каком этаже расположена квартира: первом, последнем или другом. Для этого сгруппируем датафрейм по столбцам type_floor и last_price (+ медиана) и построим boxplot.**"
   ]
  },
  {
   "cell_type": "code",
   "execution_count": 42,
   "metadata": {},
   "outputs": [
    {
     "data": {
      "text/plain": [
       "(1.0, 17000000.0)"
      ]
     },
     "execution_count": 42,
     "metadata": {},
     "output_type": "execute_result"
    },
    {
     "data": {
      "image/png": "[encoded data removed]",
      "text/plain": [
       "<Figure size 1080x360 with 1 Axes>"
      ]
     },
     "metadata": {
      "needs_background": "light"
     },
     "output_type": "display_data"
    }
   ],
   "source": [
    "df.boxplot(column = 'last_price', by = 'type_floor', figsize=(15,5))\n",
    "plt.ylim(1, 17000000)"
   ]
  },
  {
   "cell_type": "markdown",
   "metadata": {},
   "source": [
    "График, показывает, что медианная цена для квартир на первых и последних этажах ниже, чем на средних.\n",
    "\n",
    "**Теперь изучим зависимость от даты размещения: дня недели, месяца и года.**"
   ]
  },
  {
   "cell_type": "code",
   "execution_count": 43,
   "metadata": {},
   "outputs": [
    {
     "data": {
      "image/png": "[encoded data removed]",
      "text/plain": [
       "<Figure size 432x288 with 1 Axes>"
      ]
     },
     "metadata": {
      "needs_background": "light"
     },
     "output_type": "display_data"
    }
   ],
   "source": [
    "wd = clean_df.groupby('weekday')['last_price'].median()\n",
    "wd.plot.bar(title='Зависимость цены от дня недели')\n",
    "plt.show()"
   ]
  },
  {
   "cell_type": "code",
   "execution_count": 44,
   "metadata": {},
   "outputs": [
    {
     "data": {
      "image/png": "[encoded data removed]",
      "text/plain": [
       "<Figure size 432x288 with 1 Axes>"
      ]
     },
     "metadata": {
      "needs_background": "light"
     },
     "output_type": "display_data"
    }
   ],
   "source": [
    "mnth = clean_df.groupby('month')['last_price'].median()\n",
    "mnth.plot.bar(title='Зависимость цены от месяца')\n",
    "plt.show()"
   ]
  },
  {
   "cell_type": "code",
   "execution_count": 45,
   "metadata": {
    "scrolled": true
   },
   "outputs": [
    {
     "data": {
      "image/png": "[encoded data removed]",
      "text/plain": [
       "<Figure size 432x288 with 1 Axes>"
      ]
     },
     "metadata": {
      "needs_background": "light"
     },
     "output_type": "display_data"
    }
   ],
   "source": [
    "year = clean_df.groupby('year')['last_price'].median()\n",
    "year.plot.bar(title='Зависимость цены от года')\n",
    "plt.show()"
   ]
  },
  {
   "cell_type": "markdown",
   "metadata": {},
   "source": [
    "**Из полученных графиков можно сделать следующий вывод: зависимости цен от дня или месяца различаются незначительно. Но если смотреть таблицу по годам, то мы увидим, что в 2014 году наблюдались наиболее высокие цены на жильё. Возможно, это как-то связано с внешнеполитическими событиями (санкциями против России после конфликта с Украиной). Также хорошо было бы обратить внимание на ключевую ставку Центробанка, от которой зависят ипотечные ставки, в свою очередь влияющие на рыночные цены на недвижимость.**"
   ]
  },
  {
   "cell_type": "markdown",
   "metadata": {},
   "source": [
    "**4.5 Сделаем сводную таблицу для топ-10 населённых пунктов с наибольшим количеством объявлений, а затем посчитаем в них среднюю цену за м2.**"
   ]
  },
  {
   "cell_type": "code",
   "execution_count": 46,
   "metadata": {},
   "outputs": [
    {
     "data": {
      "text/html": [
       "<div>\n",
       "<style scoped>\n",
       "    .dataframe tbody tr th:only-of-type {\n",
       "        vertical-align: middle;\n",
       "    }\n",
       "\n",
       "    .dataframe tbody tr th {\n",
       "        vertical-align: top;\n",
       "    }\n",
       "\n",
       "    .dataframe thead th {\n",
       "        text-align: right;\n",
       "    }\n",
       "</style>\n",
       "<table border=\"1\" class=\"dataframe\">\n",
       "  <thead>\n",
       "    <tr style=\"text-align: right;\">\n",
       "      <th></th>\n",
       "      <th>Кол-во предложений</th>\n",
       "      <th>Средняя цена за м2</th>\n",
       "    </tr>\n",
       "    <tr>\n",
       "      <th>locality_name</th>\n",
       "      <th></th>\n",
       "      <th></th>\n",
       "    </tr>\n",
       "  </thead>\n",
       "  <tbody>\n",
       "    <tr>\n",
       "      <th>Санкт-Петербург</th>\n",
       "      <td>12961</td>\n",
       "      <td>107861.576267</td>\n",
       "    </tr>\n",
       "    <tr>\n",
       "      <th>посёлок Мурино</th>\n",
       "      <td>515</td>\n",
       "      <td>85782.264078</td>\n",
       "    </tr>\n",
       "    <tr>\n",
       "      <th>посёлок Шушары</th>\n",
       "      <td>428</td>\n",
       "      <td>78601.845794</td>\n",
       "    </tr>\n",
       "    <tr>\n",
       "      <th>Всеволожск</th>\n",
       "      <td>381</td>\n",
       "      <td>67322.160105</td>\n",
       "    </tr>\n",
       "    <tr>\n",
       "      <th>Пушкин</th>\n",
       "      <td>328</td>\n",
       "      <td>101401.094512</td>\n",
       "    </tr>\n",
       "    <tr>\n",
       "      <th>посёлок Парголово</th>\n",
       "      <td>324</td>\n",
       "      <td>90494.157407</td>\n",
       "    </tr>\n",
       "    <tr>\n",
       "      <th>Колпино</th>\n",
       "      <td>307</td>\n",
       "      <td>76114.371336</td>\n",
       "    </tr>\n",
       "    <tr>\n",
       "      <th>деревня Кудрово</th>\n",
       "      <td>298</td>\n",
       "      <td>92409.265101</td>\n",
       "    </tr>\n",
       "    <tr>\n",
       "      <th>Гатчина</th>\n",
       "      <td>296</td>\n",
       "      <td>68637.233108</td>\n",
       "    </tr>\n",
       "    <tr>\n",
       "      <th>Выборг</th>\n",
       "      <td>206</td>\n",
       "      <td>58115.898058</td>\n",
       "    </tr>\n",
       "  </tbody>\n",
       "</table>\n",
       "</div>"
      ],
      "text/plain": [
       "                   Кол-во предложений  Средняя цена за м2\n",
       "locality_name                                            \n",
       "Санкт-Петербург                 12961       107861.576267\n",
       "посёлок Мурино                    515        85782.264078\n",
       "посёлок Шушары                    428        78601.845794\n",
       "Всеволожск                        381        67322.160105\n",
       "Пушкин                            328       101401.094512\n",
       "посёлок Парголово                 324        90494.157407\n",
       "Колпино                           307        76114.371336\n",
       "деревня Кудрово                   298        92409.265101\n",
       "Гатчина                           296        68637.233108\n",
       "Выборг                            206        58115.898058"
      ]
     },
     "execution_count": 46,
     "metadata": {},
     "output_type": "execute_result"
    }
   ],
   "source": [
    "top100 = clean_df.pivot_table(index='locality_name', values='price_per_square_meter', aggfunc=['count', 'mean'])\n",
    "top100.columns = ['Кол-во предложений', 'Средняя цена за м2']\n",
    "top100.sort_values(by='Кол-во предложений', ascending=False).head(10)"
   ]
  },
  {
   "cell_type": "markdown",
   "metadata": {},
   "source": [
    "**По данным таблицы делаем вывод, что самые дорогие квартиры в Санкт-Петербурге, а самые низкие цены на жилье -  в Выборге**"
   ]
  },
  {
   "cell_type": "markdown",
   "metadata": {},
   "source": [
    "**4.6 Сделаем срез данных по значению \"Санкт-Петербург\", сохраним в переменной spb. Затем создадим столбец `cityCenters_nearest_km`, в котором будет указано расстояние квартир до центра в километрах.**"
   ]
  },
  {
   "cell_type": "code",
   "execution_count": 47,
   "metadata": {
    "scrolled": false
   },
   "outputs": [],
   "source": [
    "spb = clean_df.query('locality_name == \"Санкт-Петербург\"')\n",
    "spb['cityCenters_nearest_km'] = (spb['cityCenters_nearest']/1000).round(0)"
   ]
  },
  {
   "cell_type": "code",
   "execution_count": 48,
   "metadata": {},
   "outputs": [
    {
     "data": {
      "text/html": [
       "<div>\n",
       "<style scoped>\n",
       "    .dataframe tbody tr th:only-of-type {\n",
       "        vertical-align: middle;\n",
       "    }\n",
       "\n",
       "    .dataframe tbody tr th {\n",
       "        vertical-align: top;\n",
       "    }\n",
       "\n",
       "    .dataframe thead th {\n",
       "        text-align: right;\n",
       "    }\n",
       "</style>\n",
       "<table border=\"1\" class=\"dataframe\">\n",
       "  <thead>\n",
       "    <tr style=\"text-align: right;\">\n",
       "      <th></th>\n",
       "      <th>средняя цена за м2</th>\n",
       "      <th>кол-во</th>\n",
       "    </tr>\n",
       "    <tr>\n",
       "      <th>cityCenters_nearest_km</th>\n",
       "      <th></th>\n",
       "      <th></th>\n",
       "    </tr>\n",
       "  </thead>\n",
       "  <tbody>\n",
       "    <tr>\n",
       "      <th>0.0</th>\n",
       "      <td>110780.000000</td>\n",
       "      <td>4</td>\n",
       "    </tr>\n",
       "    <tr>\n",
       "      <th>1.0</th>\n",
       "      <td>129275.089552</td>\n",
       "      <td>67</td>\n",
       "    </tr>\n",
       "    <tr>\n",
       "      <th>2.0</th>\n",
       "      <td>124956.158879</td>\n",
       "      <td>107</td>\n",
       "    </tr>\n",
       "    <tr>\n",
       "      <th>3.0</th>\n",
       "      <td>113036.317881</td>\n",
       "      <td>151</td>\n",
       "    </tr>\n",
       "    <tr>\n",
       "      <th>4.0</th>\n",
       "      <td>125428.081081</td>\n",
       "      <td>333</td>\n",
       "    </tr>\n",
       "  </tbody>\n",
       "</table>\n",
       "</div>"
      ],
      "text/plain": [
       "                        средняя цена за м2  кол-во\n",
       "cityCenters_nearest_km                            \n",
       "0.0                          110780.000000       4\n",
       "1.0                          129275.089552      67\n",
       "2.0                          124956.158879     107\n",
       "3.0                          113036.317881     151\n",
       "4.0                          125428.081081     333"
      ]
     },
     "execution_count": 48,
     "metadata": {},
     "output_type": "execute_result"
    }
   ],
   "source": [
    "km_mean = spb.pivot_table(index='cityCenters_nearest_km', values='price_per_square_meter', aggfunc = ['mean', 'count'])\n",
    "km_mean.columns=['средняя цена за м2', 'кол-во']\n",
    "km_mean.head()"
   ]
  },
  {
   "cell_type": "code",
   "execution_count": 49,
   "metadata": {},
   "outputs": [
    {
     "data": {
      "image/png": "[encoded data removed]",
      "text/plain": [
       "<Figure size 432x288 with 1 Axes>"
      ]
     },
     "metadata": {
      "needs_background": "light"
     },
     "output_type": "display_data"
    }
   ],
   "source": [
    "km_mean.plot();"
   ]
  },
  {
   "cell_type": "markdown",
   "metadata": {},
   "source": [
    "**Судя по графику, снижение цены начинается с 5 км..Значит, в диапозоне до 5 и будем работать. Изучим центр, построив гистраграммы с ипользованием ранненаписанной функции my_histogr. Изучим следующие параметры: площадь, цена, число комнат, высота потолков.**"
   ]
  },
  {
   "cell_type": "code",
   "execution_count": 50,
   "metadata": {},
   "outputs": [
    {
     "data": {
      "image/png": "[encoded data removed]",
      "text/plain": [
       "<Figure size 432x144 with 1 Axes>"
      ]
     },
     "metadata": {
      "needs_background": "light"
     },
     "output_type": "display_data"
    },
    {
     "data": {
      "image/png": "[encoded data removed]",
      "text/plain": [
       "<Figure size 432x288 with 1 Axes>"
      ]
     },
     "metadata": {
      "needs_background": "light"
     },
     "output_type": "display_data"
    },
    {
     "name": "stdout",
     "output_type": "stream",
     "text": [
      "--------------------------------------------------------------\n"
     ]
    }
   ],
   "source": [
    "center_flats = spb.query('cityCenters_nearest_km <= 5')\n",
    "my_histogr(center_flats, 'total_area')"
   ]
  },
  {
   "cell_type": "markdown",
   "metadata": {},
   "source": [
    "**Судя по графику больше всего квартир (чуть больше 40) имеют площадь примерно 62 м2. Чуть меньше квартир площадью примерно 40 м2. Пока всё вполне логично - большинство квартир однушки и двушки с приблизительно таким метражом.**"
   ]
  },
  {
   "cell_type": "code",
   "execution_count": 51,
   "metadata": {},
   "outputs": [
    {
     "data": {
      "image/png": "[encoded data removed]",
      "text/plain": [
       "<Figure size 432x144 with 1 Axes>"
      ]
     },
     "metadata": {
      "needs_background": "light"
     },
     "output_type": "display_data"
    },
    {
     "data": {
      "image/png": "[encoded data removed]",
      "text/plain": [
       "<Figure size 432x288 with 1 Axes>"
      ]
     },
     "metadata": {
      "needs_background": "light"
     },
     "output_type": "display_data"
    },
    {
     "name": "stdout",
     "output_type": "stream",
     "text": [
      "--------------------------------------------------------------\n"
     ]
    }
   ],
   "source": [
    "my_histogr(center_flats, 'last_price')"
   ]
  },
  {
   "cell_type": "markdown",
   "metadata": {},
   "source": [
    "**График говорит, что чаще встречаются недорогие квартиры, а реже - дорогие. Вполне логично - большинство квартир входит в более-менее доступный ценовой диапозон.**"
   ]
  },
  {
   "cell_type": "code",
   "execution_count": 52,
   "metadata": {},
   "outputs": [
    {
     "data": {
      "image/png": "[encoded data removed]",
      "text/plain": [
       "<Figure size 432x144 with 1 Axes>"
      ]
     },
     "metadata": {
      "needs_background": "light"
     },
     "output_type": "display_data"
    },
    {
     "data": {
      "image/png": "[encoded data removed]",
      "text/plain": [
       "<Figure size 432x288 with 1 Axes>"
      ]
     },
     "metadata": {
      "needs_background": "light"
     },
     "output_type": "display_data"
    },
    {
     "name": "stdout",
     "output_type": "stream",
     "text": [
      "--------------------------------------------------------------\n"
     ]
    }
   ],
   "source": [
    "my_histogr(center_flats, 'rooms')"
   ]
  },
  {
   "cell_type": "markdown",
   "metadata": {},
   "source": [
    "**Чаще встречаются двукомнатные, реже трёхкомнатные, ещё реже однокомнатные, и только затем все прочие.**"
   ]
  },
  {
   "cell_type": "code",
   "execution_count": 53,
   "metadata": {},
   "outputs": [
    {
     "data": {
      "image/png": "[encoded data removed]",
      "text/plain": [
       "<Figure size 432x144 with 1 Axes>"
      ]
     },
     "metadata": {
      "needs_background": "light"
     },
     "output_type": "display_data"
    },
    {
     "data": {
      "image/png": "[encoded data removed]",
      "text/plain": [
       "<Figure size 432x288 with 1 Axes>"
      ]
     },
     "metadata": {
      "needs_background": "light"
     },
     "output_type": "display_data"
    },
    {
     "name": "stdout",
     "output_type": "stream",
     "text": [
      "--------------------------------------------------------------\n"
     ]
    }
   ],
   "source": [
    "my_histogr(center_flats, 'ceiling_height')"
   ]
  },
  {
   "cell_type": "markdown",
   "metadata": {},
   "source": [
    "**Средняя высота потолков совпадает с медианой, что неудивительно, ведь мы в самом начале заменили все пропуски на медианное значение.В большинстве квартир приблизительно одинаковая высота потолков.**"
   ]
  },
  {
   "cell_type": "markdown",
   "metadata": {},
   "source": [
    "**Посмотрим теперь на зависимость цены от числа комнат, этажа, удалённости от центра и даты размещения объявления. Начнём с числа комнат.**"
   ]
  },
  {
   "cell_type": "code",
   "execution_count": 54,
   "metadata": {},
   "outputs": [
    {
     "data": {
      "image/png": "[encoded data removed]",
      "text/plain": [
       "<Figure size 432x288 with 1 Axes>"
      ]
     },
     "metadata": {
      "needs_background": "light"
     },
     "output_type": "display_data"
    }
   ],
   "source": [
    "rooms_cf = center_flats.groupby('rooms')['last_price'].median()\n",
    "rooms_cf.plot(title='Зависимость цены от кол-ва комнат', grid=True)\n",
    "plt.show()"
   ]
  },
  {
   "cell_type": "markdown",
   "metadata": {},
   "source": [
    "**Цена повышается от количества комнат**"
   ]
  },
  {
   "cell_type": "markdown",
   "metadata": {},
   "source": [
    "**Проверим зависимость цены от этажности. Применим уже использовавшуюся ранее функцию для определения типа этажности квартиры, только не ко всему датафрейму, а к квартирам в центре Санкт-Петербурга. Затем повторим ранее осуществлённую операцию с построением графика pie.**"
   ]
  },
  {
   "cell_type": "code",
   "execution_count": 55,
   "metadata": {},
   "outputs": [],
   "source": [
    "def type_floor(floor):\n",
    "    if floor == center_flats['floor'].min():\n",
    "        return 'первый'\n",
    "    elif floor == center_flats['floor'].max():\n",
    "        return 'последний'\n",
    "    else:\n",
    "        return 'другой'\n",
    "center_flats['type_floor'] = center_flats['floor'].apply(type_floor)"
   ]
  },
  {
   "cell_type": "code",
   "execution_count": 56,
   "metadata": {},
   "outputs": [
    {
     "data": {
      "image/png": "[encoded data removed]",
      "text/plain": [
       "<Figure size 432x288 with 1 Axes>"
      ]
     },
     "metadata": {},
     "output_type": "display_data"
    }
   ],
   "source": [
    "tf1 = center_flats.groupby('type_floor')['last_price'].median()\n",
    "tf1.plot.pie(title='Зависимость цены от этажа', autopct='%1.2f%%')\n",
    "plt.show()"
   ]
  },
  {
   "cell_type": "markdown",
   "metadata": {},
   "source": [
    "**На графике видно, что квартиры на первом этаже дешевле (что согласуется с реальным положением дел), а на последнем самые дорогие.**"
   ]
  },
  {
   "cell_type": "markdown",
   "metadata": {},
   "source": [
    "**Изучим зависимость цены от удалённости от центра.**"
   ]
  },
  {
   "cell_type": "code",
   "execution_count": 57,
   "metadata": {},
   "outputs": [
    {
     "data": {
      "image/png": "[encoded data removed]",
      "text/plain": [
       "<Figure size 432x288 with 1 Axes>"
      ]
     },
     "metadata": {
      "needs_background": "light"
     },
     "output_type": "display_data"
    }
   ],
   "source": [
    "ppk1 = center_flats.groupby('cityCenters_nearest_km')['last_price'].mean()\n",
    "ppk1.plot(title ='Зависимость цены от удалённости от центра', grid=True)\n",
    "plt.xticks(center_flats['cityCenters_nearest_km'].unique())\n",
    "plt.show()"
   ]
  },
  {
   "cell_type": "markdown",
   "metadata": {},
   "source": [
    "**График показывает то, что мы видели и до этого: чем дальше от центра, тем ниже цена. В районе от 1 и 5 км наблюдается рост цены - возможно, это новостройки.**"
   ]
  },
  {
   "cell_type": "code",
   "execution_count": 58,
   "metadata": {},
   "outputs": [
    {
     "data": {
      "image/png": "[encoded data removed]",
      "text/plain": [
       "<Figure size 432x288 with 1 Axes>"
      ]
     },
     "metadata": {
      "needs_background": "light"
     },
     "output_type": "display_data"
    }
   ],
   "source": [
    "weekday_spb_center = center_flats.groupby('weekday')['last_price'].median()\n",
    "weekday_spb_center.plot.bar(title='Зависимость цены от дня недели')\n",
    "plt.show()"
   ]
  },
  {
   "cell_type": "code",
   "execution_count": 59,
   "metadata": {},
   "outputs": [
    {
     "data": {
      "image/png": "[encoded data removed]",
      "text/plain": [
       "<Figure size 432x288 with 1 Axes>"
      ]
     },
     "metadata": {
      "needs_background": "light"
     },
     "output_type": "display_data"
    }
   ],
   "source": [
    "month_spb_center = center_flats.groupby('month')['last_price'].median()\n",
    "month_spb_center.plot.bar(title='Зависимость цены удалённости от месяца')\n",
    "plt.show()"
   ]
  },
  {
   "cell_type": "code",
   "execution_count": 60,
   "metadata": {},
   "outputs": [
    {
     "data": {
      "image/png": "[encoded data removed]",
      "text/plain": [
       "<Figure size 432x288 with 1 Axes>"
      ]
     },
     "metadata": {
      "needs_background": "light"
     },
     "output_type": "display_data"
    }
   ],
   "source": [
    "year_spb_center = center_flats.groupby('year')['last_price'].median()\n",
    "year_spb_center.plot.bar(title='Зависимость цены от года')\n",
    "plt.show()"
   ]
  },
  {
   "cell_type": "markdown",
   "metadata": {},
   "source": [
    "**В плане дня и месяца ничего особенно важного не обнаруживается, зато если смотреть по годам, то в 2014 году и в 2019 квартиры стоили дороже, чем в остальные. Аналогичная картина по всем квартирам, представленным в датафрейме.**"
   ]
  },
  {
   "cell_type": "markdown",
   "metadata": {},
   "source": [
    "## Общий вывод"
   ]
  },
  {
   "cell_type": "markdown",
   "metadata": {},
   "source": [
    "* Предварительно изучив полученные данные, мы выявили довольно много пустых значений. Решение о том, какие данные нужно заменять, а какие оставить, какие значения необходимо подставить, мы принимали в каждом случае индивидуально. \n",
    "\n",
    "* Когда все пропуски были заполнены, мы создали несколько дополнительных столбцов, которые помогли нам в дальнейшем ответить на поставленные вопросы.\n",
    "\n",
    "* Мы строили графики, диаграммы, таблицы корреляции, чтобы увидеть зависимость цены от нескольких параметров, и делали это как для всех квартир, представленных в датафрейме, так и для квартир в центре Санкт-Петербурга.\n",
    "\n",
    "* Бросилось в глаза, что в 2014 году цены на жильё были выше, чем в последующие. Возможно, это связано с украинскими событиями и последующими за ними санкциями в отношении России. Хорошо бы ещё посмотреть динамиук ключевуой ставки в Центробанке, которая влияет на цену недвижимости.\n",
    "\n",
    "* Мы выяснили, что нормально, когда квартира продаётся через 70-120 дней после публикации. Остальные случаи можно считать либо слишком долгой, либо слишком быстрой продажей.\n",
    "\n",
    "* Цена имеет чёткую зависимость от удалённости от центра - чем дальше она от него, тем дешевле её стоимость. Цена также зависит от площади и количества комнат - здравый смысл согласен с этим - однако зависимость здесь слабая. Очевидно, на цену также влияют прочие факторы, в т.ч. те, которых нет в исходным датафрейме (например, ремонт, а так же наличие школ, детских садов, больниц в шаговой доступности).\n",
    "\n",
    "Таковы, на мой взгляд, основные выводы."
   ]
  }
 ],
 "metadata": {
  "ExecuteTimeLog": [
   {
    "duration": 812,
    "start_time": "2021-11-19T13:18:12.403Z"
   },
   {
    "duration": 81,
    "start_time": "2021-11-19T13:18:37.838Z"
   },
   {
    "duration": 12,
    "start_time": "2021-11-19T13:18:57.410Z"
   },
   {
    "duration": 28,
    "start_time": "2021-11-19T13:19:10.965Z"
   },
   {
    "duration": 10,
    "start_time": "2021-11-19T13:20:05.807Z"
   },
   {
    "duration": 358,
    "start_time": "2021-11-20T11:16:06.261Z"
   },
   {
    "duration": 816,
    "start_time": "2021-11-20T11:16:42.310Z"
   },
   {
    "duration": 77,
    "start_time": "2021-11-20T11:16:43.129Z"
   },
   {
    "duration": 72,
    "start_time": "2021-11-20T11:16:43.212Z"
   },
   {
    "duration": 41,
    "start_time": "2021-11-20T11:16:43.287Z"
   },
   {
    "duration": 89,
    "start_time": "2021-11-20T11:17:37.728Z"
   },
   {
    "duration": 53,
    "start_time": "2021-11-20T11:17:40.838Z"
   },
   {
    "duration": 14,
    "start_time": "2021-11-20T11:17:45.287Z"
   },
   {
    "duration": 42,
    "start_time": "2021-11-20T11:18:03.764Z"
   },
   {
    "duration": 17,
    "start_time": "2021-11-20T11:42:20.488Z"
   },
   {
    "duration": 396,
    "start_time": "2021-11-20T12:01:36.469Z"
   },
   {
    "duration": 12,
    "start_time": "2021-11-20T12:01:44.590Z"
   },
   {
    "duration": 17,
    "start_time": "2021-11-20T12:02:08.584Z"
   },
   {
    "duration": 8,
    "start_time": "2021-11-20T12:04:29.068Z"
   },
   {
    "duration": 6,
    "start_time": "2021-11-20T12:05:25.235Z"
   },
   {
    "duration": 13,
    "start_time": "2021-11-20T12:05:27.733Z"
   },
   {
    "duration": 4,
    "start_time": "2021-11-20T12:19:53.560Z"
   },
   {
    "duration": 4,
    "start_time": "2021-11-20T12:20:01.881Z"
   },
   {
    "duration": 1552,
    "start_time": "2021-11-20T12:21:15.541Z"
   },
   {
    "duration": 836,
    "start_time": "2021-11-20T12:21:24.595Z"
   },
   {
    "duration": 89,
    "start_time": "2021-11-20T12:21:25.434Z"
   },
   {
    "duration": 52,
    "start_time": "2021-11-20T12:21:25.526Z"
   },
   {
    "duration": 15,
    "start_time": "2021-11-20T12:21:25.580Z"
   },
   {
    "duration": 42,
    "start_time": "2021-11-20T12:21:25.597Z"
   },
   {
    "duration": 31,
    "start_time": "2021-11-20T12:21:25.641Z"
   },
   {
    "duration": 6,
    "start_time": "2021-11-20T12:21:25.674Z"
   },
   {
    "duration": 1620,
    "start_time": "2021-11-20T12:21:25.683Z"
   },
   {
    "duration": 638,
    "start_time": "2021-11-20T12:21:26.668Z"
   },
   {
    "duration": 586,
    "start_time": "2021-11-21T11:56:02.067Z"
   },
   {
    "duration": 67,
    "start_time": "2021-11-21T11:56:02.655Z"
   },
   {
    "duration": 38,
    "start_time": "2021-11-21T11:56:02.723Z"
   },
   {
    "duration": 12,
    "start_time": "2021-11-21T11:56:02.763Z"
   },
   {
    "duration": 6,
    "start_time": "2021-11-21T11:56:02.777Z"
   },
   {
    "duration": 10,
    "start_time": "2021-11-21T11:56:02.785Z"
   },
   {
    "duration": 10,
    "start_time": "2021-11-21T11:56:02.797Z"
   },
   {
    "duration": 7,
    "start_time": "2021-11-21T12:11:12.312Z"
   },
   {
    "duration": 10,
    "start_time": "2021-11-21T12:12:12.650Z"
   },
   {
    "duration": 5,
    "start_time": "2021-11-21T12:19:51.344Z"
   },
   {
    "duration": 1689,
    "start_time": "2021-11-21T12:41:10.670Z"
   },
   {
    "duration": 318,
    "start_time": "2021-11-21T12:49:38.351Z"
   },
   {
    "duration": 9,
    "start_time": "2021-11-21T12:49:48.893Z"
   },
   {
    "duration": 1750,
    "start_time": "2021-11-21T12:49:53.825Z"
   },
   {
    "duration": 2,
    "start_time": "2021-11-21T12:50:16.215Z"
   },
   {
    "duration": 1470,
    "start_time": "2021-11-21T12:50:17.852Z"
   },
   {
    "duration": 637,
    "start_time": "2021-11-21T12:50:30.151Z"
   },
   {
    "duration": 66,
    "start_time": "2021-11-21T12:50:30.790Z"
   },
   {
    "duration": 32,
    "start_time": "2021-11-21T12:50:30.858Z"
   },
   {
    "duration": 10,
    "start_time": "2021-11-21T12:50:30.892Z"
   },
   {
    "duration": 5,
    "start_time": "2021-11-21T12:50:30.903Z"
   },
   {
    "duration": 10,
    "start_time": "2021-11-21T12:50:30.910Z"
   },
   {
    "duration": 9,
    "start_time": "2021-11-21T12:50:30.922Z"
   },
   {
    "duration": 11,
    "start_time": "2021-11-21T12:50:30.933Z"
   },
   {
    "duration": 5,
    "start_time": "2021-11-21T12:50:30.946Z"
   },
   {
    "duration": 5,
    "start_time": "2021-11-21T12:50:30.953Z"
   },
   {
    "duration": 1646,
    "start_time": "2021-11-21T12:50:30.959Z"
   },
   {
    "duration": 45,
    "start_time": "2021-11-21T12:52:32.043Z"
   },
   {
    "duration": 1505,
    "start_time": "2021-11-21T12:52:42.724Z"
   },
   {
    "duration": 8,
    "start_time": "2021-11-21T12:53:16.605Z"
   },
   {
    "duration": 1586,
    "start_time": "2021-11-21T12:53:19.167Z"
   },
   {
    "duration": 626,
    "start_time": "2021-11-21T12:53:31.653Z"
   },
   {
    "duration": 67,
    "start_time": "2021-11-21T12:53:32.281Z"
   },
   {
    "duration": 31,
    "start_time": "2021-11-21T12:53:32.352Z"
   },
   {
    "duration": 10,
    "start_time": "2021-11-21T12:53:32.384Z"
   },
   {
    "duration": 5,
    "start_time": "2021-11-21T12:53:32.396Z"
   },
   {
    "duration": 46,
    "start_time": "2021-11-21T12:53:32.402Z"
   },
   {
    "duration": 8,
    "start_time": "2021-11-21T12:53:32.450Z"
   },
   {
    "duration": 7,
    "start_time": "2021-11-21T12:53:32.459Z"
   },
   {
    "duration": 5,
    "start_time": "2021-11-21T12:53:32.467Z"
   },
   {
    "duration": 11,
    "start_time": "2021-11-21T12:53:32.474Z"
   },
   {
    "duration": 1599,
    "start_time": "2021-11-21T12:53:32.486Z"
   },
   {
    "duration": 9,
    "start_time": "2021-11-21T13:35:55.644Z"
   },
   {
    "duration": 624,
    "start_time": "2021-11-21T13:36:08.593Z"
   },
   {
    "duration": 81,
    "start_time": "2021-11-21T13:36:09.219Z"
   },
   {
    "duration": 46,
    "start_time": "2021-11-21T13:36:09.302Z"
   },
   {
    "duration": 11,
    "start_time": "2021-11-21T13:36:09.350Z"
   },
   {
    "duration": 2,
    "start_time": "2021-11-21T13:36:09.363Z"
   },
   {
    "duration": 13,
    "start_time": "2021-11-21T13:36:09.367Z"
   },
   {
    "duration": 6,
    "start_time": "2021-11-21T13:36:09.382Z"
   },
   {
    "duration": 5,
    "start_time": "2021-11-21T13:36:09.391Z"
   },
   {
    "duration": 54,
    "start_time": "2021-11-21T13:36:09.398Z"
   },
   {
    "duration": 1630,
    "start_time": "2021-11-21T13:36:09.454Z"
   },
   {
    "duration": 6,
    "start_time": "2021-11-21T13:37:26.591Z"
   },
   {
    "duration": 1570,
    "start_time": "2021-11-21T13:48:49.370Z"
   },
   {
    "duration": 709,
    "start_time": "2021-11-21T13:48:58.436Z"
   },
   {
    "duration": 71,
    "start_time": "2021-11-21T13:48:59.147Z"
   },
   {
    "duration": 35,
    "start_time": "2021-11-21T13:48:59.221Z"
   },
   {
    "duration": 10,
    "start_time": "2021-11-21T13:48:59.258Z"
   },
   {
    "duration": 8,
    "start_time": "2021-11-21T13:48:59.270Z"
   },
   {
    "duration": 4,
    "start_time": "2021-11-21T13:48:59.280Z"
   },
   {
    "duration": 10,
    "start_time": "2021-11-21T13:48:59.285Z"
   },
   {
    "duration": 5,
    "start_time": "2021-11-21T13:48:59.297Z"
   },
   {
    "duration": 44,
    "start_time": "2021-11-21T13:48:59.304Z"
   },
   {
    "duration": 1728,
    "start_time": "2021-11-21T13:48:59.350Z"
   },
   {
    "duration": 1624,
    "start_time": "2021-11-21T13:49:01.080Z"
   },
   {
    "duration": 2102,
    "start_time": "2021-11-21T13:49:08.446Z"
   },
   {
    "duration": 11,
    "start_time": "2021-11-21T13:49:25.443Z"
   },
   {
    "duration": 7,
    "start_time": "2021-11-21T13:50:17.356Z"
   },
   {
    "duration": 10,
    "start_time": "2021-11-21T13:50:27.223Z"
   },
   {
    "duration": 9,
    "start_time": "2021-11-21T13:51:51.670Z"
   },
   {
    "duration": 1622,
    "start_time": "2021-11-21T13:56:34.816Z"
   },
   {
    "duration": 9,
    "start_time": "2021-11-21T13:56:39.065Z"
   },
   {
    "duration": 611,
    "start_time": "2021-11-21T13:56:48.826Z"
   },
   {
    "duration": 73,
    "start_time": "2021-11-21T13:56:49.440Z"
   },
   {
    "duration": 43,
    "start_time": "2021-11-21T13:56:49.519Z"
   },
   {
    "duration": 13,
    "start_time": "2021-11-21T13:56:49.564Z"
   },
   {
    "duration": 10,
    "start_time": "2021-11-21T13:56:49.580Z"
   },
   {
    "duration": 6,
    "start_time": "2021-11-21T13:56:49.592Z"
   },
   {
    "duration": 49,
    "start_time": "2021-11-21T13:56:49.601Z"
   },
   {
    "duration": 9,
    "start_time": "2021-11-21T13:56:49.653Z"
   },
   {
    "duration": 19,
    "start_time": "2021-11-21T13:56:49.664Z"
   },
   {
    "duration": 1578,
    "start_time": "2021-11-21T13:56:49.684Z"
   },
   {
    "duration": 1612,
    "start_time": "2021-11-21T13:56:51.264Z"
   },
   {
    "duration": 8,
    "start_time": "2021-11-21T13:56:52.878Z"
   },
   {
    "duration": 2,
    "start_time": "2021-11-21T13:56:52.888Z"
   },
   {
    "duration": 1532,
    "start_time": "2021-11-21T13:56:55.227Z"
   },
   {
    "duration": 8,
    "start_time": "2021-11-21T13:56:59.249Z"
   },
   {
    "duration": 6,
    "start_time": "2021-11-21T14:00:32.040Z"
   },
   {
    "duration": 9,
    "start_time": "2021-11-21T14:00:43.042Z"
   },
   {
    "duration": 9,
    "start_time": "2021-11-21T14:01:23.322Z"
   },
   {
    "duration": 1633,
    "start_time": "2021-11-21T14:02:29.200Z"
   },
   {
    "duration": 1557,
    "start_time": "2021-11-21T14:02:56.011Z"
   },
   {
    "duration": 8,
    "start_time": "2021-11-21T14:03:11.498Z"
   },
   {
    "duration": 1782,
    "start_time": "2021-11-21T14:03:50.112Z"
   },
   {
    "duration": 9,
    "start_time": "2021-11-21T14:03:53.622Z"
   },
   {
    "duration": 1610,
    "start_time": "2021-11-21T14:05:30.855Z"
   },
   {
    "duration": 8,
    "start_time": "2021-11-21T14:05:51.420Z"
   },
   {
    "duration": 9,
    "start_time": "2021-11-21T14:06:22.091Z"
   },
   {
    "duration": 325,
    "start_time": "2021-11-22T05:44:12.336Z"
   },
   {
    "duration": 809,
    "start_time": "2021-11-22T05:44:22.558Z"
   },
   {
    "duration": 91,
    "start_time": "2021-11-22T05:44:23.369Z"
   },
   {
    "duration": 59,
    "start_time": "2021-11-22T05:44:23.463Z"
   },
   {
    "duration": 49,
    "start_time": "2021-11-22T05:44:23.526Z"
   },
   {
    "duration": 16,
    "start_time": "2021-11-22T05:44:23.579Z"
   },
   {
    "duration": 13,
    "start_time": "2021-11-22T05:44:23.597Z"
   },
   {
    "duration": 55,
    "start_time": "2021-11-22T05:44:23.612Z"
   },
   {
    "duration": 10,
    "start_time": "2021-11-22T05:44:23.671Z"
   },
   {
    "duration": 11,
    "start_time": "2021-11-22T05:44:23.684Z"
   },
   {
    "duration": 19,
    "start_time": "2021-11-22T05:44:23.698Z"
   },
   {
    "duration": 2461,
    "start_time": "2021-11-22T05:44:23.719Z"
   },
   {
    "duration": 2437,
    "start_time": "2021-11-22T05:44:26.182Z"
   },
   {
    "duration": 11,
    "start_time": "2021-11-22T05:44:28.621Z"
   },
   {
    "duration": 7,
    "start_time": "2021-11-22T05:44:28.634Z"
   },
   {
    "duration": 33,
    "start_time": "2021-11-22T05:44:28.643Z"
   },
   {
    "duration": 2420,
    "start_time": "2021-11-22T05:44:28.678Z"
   },
   {
    "duration": 2474,
    "start_time": "2021-11-22T05:44:31.101Z"
   },
   {
    "duration": 12,
    "start_time": "2021-11-22T05:44:33.577Z"
   },
   {
    "duration": 17,
    "start_time": "2021-11-22T05:44:45.841Z"
   },
   {
    "duration": 12,
    "start_time": "2021-11-22T05:44:56.170Z"
   },
   {
    "duration": 11,
    "start_time": "2021-11-22T05:45:06.879Z"
   },
   {
    "duration": 12,
    "start_time": "2021-11-22T05:45:15.370Z"
   },
   {
    "duration": 18,
    "start_time": "2021-11-22T05:45:50.132Z"
   },
   {
    "duration": 13,
    "start_time": "2021-11-22T05:47:47.413Z"
   },
   {
    "duration": 791,
    "start_time": "2021-11-22T05:47:55.734Z"
   },
   {
    "duration": 98,
    "start_time": "2021-11-22T05:47:56.530Z"
   },
   {
    "duration": 65,
    "start_time": "2021-11-22T05:47:56.630Z"
   },
   {
    "duration": 16,
    "start_time": "2021-11-22T05:47:56.697Z"
   },
   {
    "duration": 51,
    "start_time": "2021-11-22T05:47:56.716Z"
   },
   {
    "duration": 18,
    "start_time": "2021-11-22T05:47:56.770Z"
   },
   {
    "duration": 3,
    "start_time": "2021-11-22T05:47:56.791Z"
   },
   {
    "duration": 7,
    "start_time": "2021-11-22T05:47:56.798Z"
   },
   {
    "duration": 4,
    "start_time": "2021-11-22T05:47:56.808Z"
   },
   {
    "duration": 6,
    "start_time": "2021-11-22T05:47:56.814Z"
   },
   {
    "duration": 4,
    "start_time": "2021-11-22T05:47:56.867Z"
   },
   {
    "duration": 10,
    "start_time": "2021-11-22T05:47:56.873Z"
   },
   {
    "duration": 6,
    "start_time": "2021-11-22T05:47:56.886Z"
   },
   {
    "duration": 9,
    "start_time": "2021-11-22T05:47:56.894Z"
   },
   {
    "duration": 5,
    "start_time": "2021-11-22T05:47:56.906Z"
   },
   {
    "duration": 55,
    "start_time": "2021-11-22T05:47:56.914Z"
   },
   {
    "duration": 6,
    "start_time": "2021-11-22T05:47:56.972Z"
   },
   {
    "duration": 6,
    "start_time": "2021-11-22T05:47:56.981Z"
   },
   {
    "duration": 13,
    "start_time": "2021-11-22T05:48:13.440Z"
   },
   {
    "duration": 718,
    "start_time": "2021-11-22T05:55:35.668Z"
   },
   {
    "duration": 36,
    "start_time": "2021-11-22T05:59:23.035Z"
   },
   {
    "duration": 31,
    "start_time": "2021-11-22T05:59:53.019Z"
   },
   {
    "duration": 59,
    "start_time": "2021-11-22T09:16:11.537Z"
   },
   {
    "duration": 72,
    "start_time": "2021-11-22T09:16:23.507Z"
   },
   {
    "duration": 57,
    "start_time": "2021-11-22T09:16:46.062Z"
   },
   {
    "duration": 86,
    "start_time": "2021-11-22T09:17:01.044Z"
   },
   {
    "duration": 44,
    "start_time": "2021-11-22T09:17:20.989Z"
   },
   {
    "duration": 4,
    "start_time": "2021-11-22T10:08:45.420Z"
   },
   {
    "duration": 16,
    "start_time": "2021-11-22T10:08:52.273Z"
   },
   {
    "duration": 376,
    "start_time": "2021-11-22T10:08:56.100Z"
   },
   {
    "duration": 271,
    "start_time": "2021-11-22T10:09:14.319Z"
   },
   {
    "duration": 297,
    "start_time": "2021-11-22T10:09:20.391Z"
   },
   {
    "duration": 768,
    "start_time": "2021-11-22T10:09:32.052Z"
   },
   {
    "duration": 90,
    "start_time": "2021-11-22T10:09:32.823Z"
   },
   {
    "duration": 65,
    "start_time": "2021-11-22T10:09:32.916Z"
   },
   {
    "duration": 16,
    "start_time": "2021-11-22T10:09:32.984Z"
   },
   {
    "duration": 11,
    "start_time": "2021-11-22T10:09:33.003Z"
   },
   {
    "duration": 61,
    "start_time": "2021-11-22T10:09:33.018Z"
   },
   {
    "duration": 740,
    "start_time": "2021-11-22T10:09:33.081Z"
   },
   {
    "duration": 18,
    "start_time": "2021-11-22T10:09:33.825Z"
   },
   {
    "duration": 403,
    "start_time": "2021-11-22T10:09:33.846Z"
   },
   {
    "duration": -1428,
    "start_time": "2021-11-22T10:09:35.679Z"
   },
   {
    "duration": -1462,
    "start_time": "2021-11-22T10:09:35.714Z"
   },
   {
    "duration": -1469,
    "start_time": "2021-11-22T10:09:35.723Z"
   },
   {
    "duration": -1471,
    "start_time": "2021-11-22T10:09:35.726Z"
   },
   {
    "duration": -1471,
    "start_time": "2021-11-22T10:09:35.728Z"
   },
   {
    "duration": -1473,
    "start_time": "2021-11-22T10:09:35.731Z"
   },
   {
    "duration": -1474,
    "start_time": "2021-11-22T10:09:35.733Z"
   },
   {
    "duration": -1476,
    "start_time": "2021-11-22T10:09:35.737Z"
   },
   {
    "duration": -1478,
    "start_time": "2021-11-22T10:09:35.740Z"
   },
   {
    "duration": -1478,
    "start_time": "2021-11-22T10:09:35.742Z"
   },
   {
    "duration": -1480,
    "start_time": "2021-11-22T10:09:35.745Z"
   },
   {
    "duration": 282,
    "start_time": "2021-11-22T10:10:28.137Z"
   },
   {
    "duration": 309,
    "start_time": "2021-11-22T10:11:05.188Z"
   },
   {
    "duration": 970,
    "start_time": "2021-11-22T10:11:12.935Z"
   },
   {
    "duration": 142,
    "start_time": "2021-11-22T10:11:13.909Z"
   },
   {
    "duration": 64,
    "start_time": "2021-11-22T10:11:14.056Z"
   },
   {
    "duration": 44,
    "start_time": "2021-11-22T10:11:14.123Z"
   },
   {
    "duration": 14,
    "start_time": "2021-11-22T10:11:14.170Z"
   },
   {
    "duration": 16,
    "start_time": "2021-11-22T10:11:14.186Z"
   },
   {
    "duration": 779,
    "start_time": "2021-11-22T10:11:14.204Z"
   },
   {
    "duration": 17,
    "start_time": "2021-11-22T10:11:14.988Z"
   },
   {
    "duration": 470,
    "start_time": "2021-11-22T10:11:15.008Z"
   },
   {
    "duration": -1430,
    "start_time": "2021-11-22T10:11:16.911Z"
   },
   {
    "duration": -1439,
    "start_time": "2021-11-22T10:11:16.922Z"
   },
   {
    "duration": -1440,
    "start_time": "2021-11-22T10:11:16.925Z"
   },
   {
    "duration": -1440,
    "start_time": "2021-11-22T10:11:16.927Z"
   },
   {
    "duration": -1451,
    "start_time": "2021-11-22T10:11:16.940Z"
   },
   {
    "duration": -1453,
    "start_time": "2021-11-22T10:11:16.944Z"
   },
   {
    "duration": -1459,
    "start_time": "2021-11-22T10:11:16.952Z"
   },
   {
    "duration": -1458,
    "start_time": "2021-11-22T10:11:16.954Z"
   },
   {
    "duration": -1459,
    "start_time": "2021-11-22T10:11:16.957Z"
   },
   {
    "duration": -1460,
    "start_time": "2021-11-22T10:11:16.960Z"
   },
   {
    "duration": -1463,
    "start_time": "2021-11-22T10:11:16.965Z"
   },
   {
    "duration": -1473,
    "start_time": "2021-11-22T10:11:16.977Z"
   },
   {
    "duration": 278,
    "start_time": "2021-11-22T10:11:23.888Z"
   },
   {
    "duration": 266,
    "start_time": "2021-11-22T10:12:27.647Z"
   },
   {
    "duration": 278,
    "start_time": "2021-11-22T10:13:24.867Z"
   },
   {
    "duration": 287,
    "start_time": "2021-11-22T10:13:30.547Z"
   },
   {
    "duration": 265,
    "start_time": "2021-11-22T10:21:22.012Z"
   },
   {
    "duration": 335,
    "start_time": "2021-11-22T10:24:07.689Z"
   },
   {
    "duration": 271,
    "start_time": "2021-11-22T10:24:55.740Z"
   },
   {
    "duration": 776,
    "start_time": "2021-11-22T10:27:17.356Z"
   },
   {
    "duration": 102,
    "start_time": "2021-11-22T10:27:18.134Z"
   },
   {
    "duration": 64,
    "start_time": "2021-11-22T10:27:18.239Z"
   },
   {
    "duration": 15,
    "start_time": "2021-11-22T10:27:18.306Z"
   },
   {
    "duration": 46,
    "start_time": "2021-11-22T10:27:18.324Z"
   },
   {
    "duration": 18,
    "start_time": "2021-11-22T10:27:18.372Z"
   },
   {
    "duration": 957,
    "start_time": "2021-11-22T10:27:18.393Z"
   },
   {
    "duration": 16,
    "start_time": "2021-11-22T10:27:19.368Z"
   },
   {
    "duration": 756,
    "start_time": "2021-11-22T10:27:19.387Z"
   },
   {
    "duration": -2114,
    "start_time": "2021-11-22T10:27:22.260Z"
   },
   {
    "duration": -2118,
    "start_time": "2021-11-22T10:27:22.265Z"
   },
   {
    "duration": -2121,
    "start_time": "2021-11-22T10:27:22.269Z"
   },
   {
    "duration": -2121,
    "start_time": "2021-11-22T10:27:22.271Z"
   },
   {
    "duration": -2125,
    "start_time": "2021-11-22T10:27:22.276Z"
   },
   {
    "duration": -2127,
    "start_time": "2021-11-22T10:27:22.280Z"
   },
   {
    "duration": -2130,
    "start_time": "2021-11-22T10:27:22.284Z"
   },
   {
    "duration": -2130,
    "start_time": "2021-11-22T10:27:22.286Z"
   },
   {
    "duration": -2132,
    "start_time": "2021-11-22T10:27:22.289Z"
   },
   {
    "duration": -2134,
    "start_time": "2021-11-22T10:27:22.293Z"
   },
   {
    "duration": -2135,
    "start_time": "2021-11-22T10:27:22.295Z"
   },
   {
    "duration": -2137,
    "start_time": "2021-11-22T10:27:22.298Z"
   },
   {
    "duration": 284,
    "start_time": "2021-11-22T10:27:26.591Z"
   },
   {
    "duration": 328,
    "start_time": "2021-11-22T10:27:48.199Z"
   },
   {
    "duration": 3,
    "start_time": "2021-11-22T10:27:55.652Z"
   },
   {
    "duration": 89,
    "start_time": "2021-11-22T10:27:58.131Z"
   },
   {
    "duration": 48,
    "start_time": "2021-11-22T10:28:03.260Z"
   },
   {
    "duration": 16,
    "start_time": "2021-11-22T10:28:07.298Z"
   },
   {
    "duration": 13,
    "start_time": "2021-11-22T10:28:11.556Z"
   },
   {
    "duration": 6,
    "start_time": "2021-11-22T10:28:25.831Z"
   },
   {
    "duration": 18,
    "start_time": "2021-11-22T10:28:28.749Z"
   },
   {
    "duration": 9,
    "start_time": "2021-11-22T10:28:59.544Z"
   },
   {
    "duration": 7,
    "start_time": "2021-11-22T10:29:01.912Z"
   },
   {
    "duration": 13,
    "start_time": "2021-11-22T10:29:03.920Z"
   },
   {
    "duration": 5,
    "start_time": "2021-11-22T10:30:22.364Z"
   },
   {
    "duration": 18,
    "start_time": "2021-11-22T10:30:55.221Z"
   },
   {
    "duration": 91,
    "start_time": "2021-11-22T10:33:04.037Z"
   },
   {
    "duration": 14,
    "start_time": "2021-11-22T10:33:11.028Z"
   },
   {
    "duration": 286,
    "start_time": "2021-11-22T10:36:53.988Z"
   },
   {
    "duration": 642,
    "start_time": "2021-11-22T10:37:11.272Z"
   },
   {
    "duration": 772,
    "start_time": "2021-11-22T10:37:22.380Z"
   },
   {
    "duration": 93,
    "start_time": "2021-11-22T10:37:23.155Z"
   },
   {
    "duration": 68,
    "start_time": "2021-11-22T10:37:23.255Z"
   },
   {
    "duration": 54,
    "start_time": "2021-11-22T10:37:23.326Z"
   },
   {
    "duration": 16,
    "start_time": "2021-11-22T10:37:23.383Z"
   },
   {
    "duration": 18,
    "start_time": "2021-11-22T10:37:23.402Z"
   },
   {
    "duration": 701,
    "start_time": "2021-11-22T10:37:23.468Z"
   },
   {
    "duration": 17,
    "start_time": "2021-11-22T10:37:24.172Z"
   },
   {
    "duration": 361,
    "start_time": "2021-11-22T10:37:24.191Z"
   },
   {
    "duration": -1441,
    "start_time": "2021-11-22T10:37:25.996Z"
   },
   {
    "duration": -1456,
    "start_time": "2021-11-22T10:37:26.013Z"
   },
   {
    "duration": -1459,
    "start_time": "2021-11-22T10:37:26.017Z"
   },
   {
    "duration": -1460,
    "start_time": "2021-11-22T10:37:26.020Z"
   },
   {
    "duration": -1461,
    "start_time": "2021-11-22T10:37:26.023Z"
   },
   {
    "duration": -1463,
    "start_time": "2021-11-22T10:37:26.026Z"
   },
   {
    "duration": -1467,
    "start_time": "2021-11-22T10:37:26.032Z"
   },
   {
    "duration": -1469,
    "start_time": "2021-11-22T10:37:26.036Z"
   },
   {
    "duration": -1471,
    "start_time": "2021-11-22T10:37:26.039Z"
   },
   {
    "duration": -1474,
    "start_time": "2021-11-22T10:37:26.043Z"
   },
   {
    "duration": -1478,
    "start_time": "2021-11-22T10:37:26.049Z"
   },
   {
    "duration": -1486,
    "start_time": "2021-11-22T10:37:26.058Z"
   },
   {
    "duration": -1495,
    "start_time": "2021-11-22T10:37:26.070Z"
   },
   {
    "duration": -1502,
    "start_time": "2021-11-22T10:37:26.078Z"
   },
   {
    "duration": 346,
    "start_time": "2021-11-22T10:37:29.990Z"
   },
   {
    "duration": 3,
    "start_time": "2021-11-22T10:41:31.282Z"
   },
   {
    "duration": 331,
    "start_time": "2021-11-22T10:41:57.408Z"
   },
   {
    "duration": 4,
    "start_time": "2021-11-22T10:42:10.977Z"
   },
   {
    "duration": 330,
    "start_time": "2021-11-22T10:42:34.557Z"
   },
   {
    "duration": 733,
    "start_time": "2021-11-22T10:42:44.109Z"
   },
   {
    "duration": 93,
    "start_time": "2021-11-22T10:42:44.845Z"
   },
   {
    "duration": 64,
    "start_time": "2021-11-22T10:42:44.941Z"
   },
   {
    "duration": 16,
    "start_time": "2021-11-22T10:42:45.007Z"
   },
   {
    "duration": 46,
    "start_time": "2021-11-22T10:42:45.025Z"
   },
   {
    "duration": 18,
    "start_time": "2021-11-22T10:42:45.074Z"
   },
   {
    "duration": 723,
    "start_time": "2021-11-22T10:42:45.095Z"
   },
   {
    "duration": 3,
    "start_time": "2021-11-22T10:42:45.823Z"
   },
   {
    "duration": 18,
    "start_time": "2021-11-22T10:42:45.828Z"
   },
   {
    "duration": 2494,
    "start_time": "2021-11-22T10:42:45.868Z"
   },
   {
    "duration": 7,
    "start_time": "2021-11-22T10:42:48.368Z"
   },
   {
    "duration": 12,
    "start_time": "2021-11-22T10:42:48.377Z"
   },
   {
    "duration": 10,
    "start_time": "2021-11-22T10:42:48.392Z"
   },
   {
    "duration": 6,
    "start_time": "2021-11-22T10:42:48.405Z"
   },
   {
    "duration": 67,
    "start_time": "2021-11-22T10:42:48.414Z"
   },
   {
    "duration": 4,
    "start_time": "2021-11-22T10:42:48.483Z"
   },
   {
    "duration": 8,
    "start_time": "2021-11-22T10:42:48.489Z"
   },
   {
    "duration": 9,
    "start_time": "2021-11-22T10:42:48.500Z"
   },
   {
    "duration": 23,
    "start_time": "2021-11-22T10:42:48.512Z"
   },
   {
    "duration": 4,
    "start_time": "2021-11-22T10:42:48.566Z"
   },
   {
    "duration": 11,
    "start_time": "2021-11-22T10:42:48.573Z"
   },
   {
    "duration": 9,
    "start_time": "2021-11-22T10:42:48.587Z"
   },
   {
    "duration": 19,
    "start_time": "2021-11-22T10:42:48.601Z"
   },
   {
    "duration": 29,
    "start_time": "2021-11-22T10:42:48.623Z"
   },
   {
    "duration": 2515,
    "start_time": "2021-11-22T10:42:58.063Z"
   },
   {
    "duration": 14,
    "start_time": "2021-11-22T10:43:36.147Z"
   },
   {
    "duration": 2457,
    "start_time": "2021-11-22T10:43:39.065Z"
   },
   {
    "duration": 12,
    "start_time": "2021-11-22T10:44:28.191Z"
   },
   {
    "duration": 2626,
    "start_time": "2021-11-22T10:44:31.386Z"
   },
   {
    "duration": 11,
    "start_time": "2021-11-22T10:44:42.269Z"
   },
   {
    "duration": 3,
    "start_time": "2021-11-22T10:45:02.271Z"
   },
   {
    "duration": 12,
    "start_time": "2021-11-22T10:45:05.050Z"
   },
   {
    "duration": 14,
    "start_time": "2021-11-22T10:45:28.876Z"
   },
   {
    "duration": 379,
    "start_time": "2021-11-22T10:45:33.688Z"
   },
   {
    "duration": 759,
    "start_time": "2021-11-22T10:45:42.863Z"
   },
   {
    "duration": 93,
    "start_time": "2021-11-22T10:45:43.625Z"
   },
   {
    "duration": 65,
    "start_time": "2021-11-22T10:45:43.721Z"
   },
   {
    "duration": 15,
    "start_time": "2021-11-22T10:45:43.788Z"
   },
   {
    "duration": 25,
    "start_time": "2021-11-22T10:45:43.805Z"
   },
   {
    "duration": 47,
    "start_time": "2021-11-22T10:45:43.832Z"
   },
   {
    "duration": 722,
    "start_time": "2021-11-22T10:45:43.881Z"
   },
   {
    "duration": 16,
    "start_time": "2021-11-22T10:45:44.607Z"
   },
   {
    "duration": 11,
    "start_time": "2021-11-22T10:45:44.626Z"
   },
   {
    "duration": 27,
    "start_time": "2021-11-22T10:45:44.639Z"
   },
   {
    "duration": 5,
    "start_time": "2021-11-22T10:45:44.669Z"
   },
   {
    "duration": 408,
    "start_time": "2021-11-22T10:45:44.677Z"
   },
   {
    "duration": -1471,
    "start_time": "2021-11-22T10:45:46.559Z"
   },
   {
    "duration": -1472,
    "start_time": "2021-11-22T10:45:46.562Z"
   },
   {
    "duration": -1475,
    "start_time": "2021-11-22T10:45:46.566Z"
   },
   {
    "duration": -1492,
    "start_time": "2021-11-22T10:45:46.585Z"
   },
   {
    "duration": -1505,
    "start_time": "2021-11-22T10:45:46.599Z"
   },
   {
    "duration": -1515,
    "start_time": "2021-11-22T10:45:46.610Z"
   },
   {
    "duration": -1516,
    "start_time": "2021-11-22T10:45:46.613Z"
   },
   {
    "duration": -1520,
    "start_time": "2021-11-22T10:45:46.618Z"
   },
   {
    "duration": -1530,
    "start_time": "2021-11-22T10:45:46.629Z"
   },
   {
    "duration": -1532,
    "start_time": "2021-11-22T10:45:46.633Z"
   },
   {
    "duration": -1540,
    "start_time": "2021-11-22T10:45:46.642Z"
   },
   {
    "duration": -1542,
    "start_time": "2021-11-22T10:45:46.645Z"
   },
   {
    "duration": -1543,
    "start_time": "2021-11-22T10:45:46.648Z"
   },
   {
    "duration": 4,
    "start_time": "2021-11-22T10:46:05.427Z"
   },
   {
    "duration": 85,
    "start_time": "2021-11-22T10:46:07.715Z"
   },
   {
    "duration": 7,
    "start_time": "2021-11-22T10:46:15.444Z"
   },
   {
    "duration": 14,
    "start_time": "2021-11-22T10:46:18.756Z"
   },
   {
    "duration": 25,
    "start_time": "2021-11-22T10:46:58.680Z"
   },
   {
    "duration": 19,
    "start_time": "2021-11-22T10:47:03.412Z"
   },
   {
    "duration": 9,
    "start_time": "2021-11-22T10:47:22.022Z"
   },
   {
    "duration": 8,
    "start_time": "2021-11-22T10:47:24.980Z"
   },
   {
    "duration": 5,
    "start_time": "2021-11-22T10:47:27.853Z"
   },
   {
    "duration": 12,
    "start_time": "2021-11-22T10:47:29.904Z"
   },
   {
    "duration": 13,
    "start_time": "2021-11-22T10:51:08.571Z"
   },
   {
    "duration": 55,
    "start_time": "2021-11-22T13:52:17.451Z"
   },
   {
    "duration": 65,
    "start_time": "2021-11-22T13:52:30.126Z"
   },
   {
    "duration": 75,
    "start_time": "2021-11-22T13:52:47.122Z"
   },
   {
    "duration": 44,
    "start_time": "2021-11-22T13:52:59.303Z"
   },
   {
    "duration": 781,
    "start_time": "2021-11-22T14:56:48.942Z"
   },
   {
    "duration": 94,
    "start_time": "2021-11-22T14:56:49.726Z"
   },
   {
    "duration": 59,
    "start_time": "2021-11-22T14:56:49.823Z"
   },
   {
    "duration": 19,
    "start_time": "2021-11-22T14:56:49.886Z"
   },
   {
    "duration": 61,
    "start_time": "2021-11-22T14:56:49.908Z"
   },
   {
    "duration": 22,
    "start_time": "2021-11-22T14:56:49.972Z"
   },
   {
    "duration": 738,
    "start_time": "2021-11-22T14:56:49.997Z"
   },
   {
    "duration": 3,
    "start_time": "2021-11-22T14:56:50.739Z"
   },
   {
    "duration": 38,
    "start_time": "2021-11-22T14:56:50.745Z"
   },
   {
    "duration": 7,
    "start_time": "2021-11-22T14:56:50.785Z"
   },
   {
    "duration": 14,
    "start_time": "2021-11-22T14:56:50.794Z"
   },
   {
    "duration": 9,
    "start_time": "2021-11-22T14:56:50.811Z"
   },
   {
    "duration": 47,
    "start_time": "2021-11-22T14:56:50.823Z"
   },
   {
    "duration": 18,
    "start_time": "2021-11-22T14:56:50.872Z"
   },
   {
    "duration": 3,
    "start_time": "2021-11-22T14:56:50.893Z"
   },
   {
    "duration": 10,
    "start_time": "2021-11-22T14:56:50.898Z"
   },
   {
    "duration": 10,
    "start_time": "2021-11-22T14:56:50.910Z"
   },
   {
    "duration": 44,
    "start_time": "2021-11-22T14:56:50.923Z"
   },
   {
    "duration": 11,
    "start_time": "2021-11-22T14:56:50.970Z"
   },
   {
    "duration": 11,
    "start_time": "2021-11-22T14:56:50.983Z"
   },
   {
    "duration": 12,
    "start_time": "2021-11-22T14:56:50.996Z"
   },
   {
    "duration": 23,
    "start_time": "2021-11-22T14:56:51.010Z"
   },
   {
    "duration": 35,
    "start_time": "2021-11-22T14:56:51.037Z"
   },
   {
    "duration": 45,
    "start_time": "2021-11-22T14:57:00.291Z"
   },
   {
    "duration": 62,
    "start_time": "2021-11-22T14:58:21.505Z"
   },
   {
    "duration": 14,
    "start_time": "2021-11-22T15:01:02.386Z"
   },
   {
    "duration": 401,
    "start_time": "2021-11-22T15:13:59.288Z"
   },
   {
    "duration": 1039,
    "start_time": "2021-11-22T15:14:06.962Z"
   },
   {
    "duration": 232,
    "start_time": "2021-11-22T15:14:08.005Z"
   },
   {
    "duration": 95,
    "start_time": "2021-11-22T15:14:08.241Z"
   },
   {
    "duration": 42,
    "start_time": "2021-11-22T15:14:08.339Z"
   },
   {
    "duration": 14,
    "start_time": "2021-11-22T15:14:08.384Z"
   },
   {
    "duration": 15,
    "start_time": "2021-11-22T15:14:08.401Z"
   },
   {
    "duration": 1337,
    "start_time": "2021-11-22T15:14:08.418Z"
   },
   {
    "duration": 21,
    "start_time": "2021-11-22T15:14:09.760Z"
   },
   {
    "duration": 3,
    "start_time": "2021-11-22T15:14:09.784Z"
   },
   {
    "duration": 401,
    "start_time": "2021-11-22T15:14:09.790Z"
   },
   {
    "duration": -1729,
    "start_time": "2021-11-22T15:14:11.926Z"
   },
   {
    "duration": -1731,
    "start_time": "2021-11-22T15:14:11.930Z"
   },
   {
    "duration": -1734,
    "start_time": "2021-11-22T15:14:11.935Z"
   },
   {
    "duration": -1735,
    "start_time": "2021-11-22T15:14:11.938Z"
   },
   {
    "duration": -1744,
    "start_time": "2021-11-22T15:14:11.949Z"
   },
   {
    "duration": -1760,
    "start_time": "2021-11-22T15:14:11.966Z"
   },
   {
    "duration": -1773,
    "start_time": "2021-11-22T15:14:11.981Z"
   },
   {
    "duration": -1775,
    "start_time": "2021-11-22T15:14:11.985Z"
   },
   {
    "duration": -1780,
    "start_time": "2021-11-22T15:14:11.992Z"
   },
   {
    "duration": -1790,
    "start_time": "2021-11-22T15:14:12.003Z"
   },
   {
    "duration": -1792,
    "start_time": "2021-11-22T15:14:12.007Z"
   },
   {
    "duration": -1793,
    "start_time": "2021-11-22T15:14:12.010Z"
   },
   {
    "duration": -1794,
    "start_time": "2021-11-22T15:14:12.013Z"
   },
   {
    "duration": 288,
    "start_time": "2021-11-22T15:14:33.347Z"
   },
   {
    "duration": 746,
    "start_time": "2021-11-22T15:14:42.804Z"
   },
   {
    "duration": 97,
    "start_time": "2021-11-22T15:14:43.552Z"
   },
   {
    "duration": 73,
    "start_time": "2021-11-22T15:14:43.652Z"
   },
   {
    "duration": 15,
    "start_time": "2021-11-22T15:14:43.728Z"
   },
   {
    "duration": 18,
    "start_time": "2021-11-22T15:14:43.769Z"
   },
   {
    "duration": 19,
    "start_time": "2021-11-22T15:14:43.790Z"
   },
   {
    "duration": 795,
    "start_time": "2021-11-22T15:14:43.812Z"
   },
   {
    "duration": 18,
    "start_time": "2021-11-22T15:14:44.610Z"
   },
   {
    "duration": 3,
    "start_time": "2021-11-22T15:14:44.633Z"
   },
   {
    "duration": 422,
    "start_time": "2021-11-22T15:14:44.639Z"
   },
   {
    "duration": -1704,
    "start_time": "2021-11-22T15:14:46.768Z"
   },
   {
    "duration": -1720,
    "start_time": "2021-11-22T15:14:46.785Z"
   },
   {
    "duration": -1746,
    "start_time": "2021-11-22T15:14:46.814Z"
   },
   {
    "duration": -1750,
    "start_time": "2021-11-22T15:14:46.820Z"
   },
   {
    "duration": -1751,
    "start_time": "2021-11-22T15:14:46.823Z"
   },
   {
    "duration": -1752,
    "start_time": "2021-11-22T15:14:46.826Z"
   },
   {
    "duration": -1753,
    "start_time": "2021-11-22T15:14:46.829Z"
   },
   {
    "duration": -1754,
    "start_time": "2021-11-22T15:14:46.832Z"
   },
   {
    "duration": -1756,
    "start_time": "2021-11-22T15:14:46.835Z"
   },
   {
    "duration": -1759,
    "start_time": "2021-11-22T15:14:46.839Z"
   },
   {
    "duration": -1760,
    "start_time": "2021-11-22T15:14:46.841Z"
   },
   {
    "duration": -1763,
    "start_time": "2021-11-22T15:14:46.845Z"
   },
   {
    "duration": -1764,
    "start_time": "2021-11-22T15:14:46.849Z"
   },
   {
    "duration": -1765,
    "start_time": "2021-11-22T15:14:46.852Z"
   },
   {
    "duration": 4,
    "start_time": "2021-11-22T15:14:58.543Z"
   },
   {
    "duration": 90,
    "start_time": "2021-11-22T15:15:00.393Z"
   },
   {
    "duration": 51,
    "start_time": "2021-11-22T15:15:02.251Z"
   },
   {
    "duration": 7,
    "start_time": "2021-11-22T15:15:09.544Z"
   },
   {
    "duration": 11,
    "start_time": "2021-11-22T15:15:12.187Z"
   },
   {
    "duration": 7,
    "start_time": "2021-11-22T15:15:14.397Z"
   },
   {
    "duration": 4,
    "start_time": "2021-11-22T15:15:17.039Z"
   },
   {
    "duration": 6,
    "start_time": "2021-11-22T15:15:18.972Z"
   },
   {
    "duration": 150,
    "start_time": "2021-11-22T15:15:21.972Z"
   },
   {
    "duration": 142,
    "start_time": "2021-11-22T15:17:07.989Z"
   },
   {
    "duration": 69,
    "start_time": "2021-11-22T15:18:26.871Z"
   },
   {
    "duration": 68,
    "start_time": "2021-11-22T15:18:37.882Z"
   },
   {
    "duration": 65,
    "start_time": "2021-11-22T15:24:08.754Z"
   },
   {
    "duration": 48,
    "start_time": "2021-11-22T15:24:30.684Z"
   },
   {
    "duration": 79,
    "start_time": "2021-11-22T15:24:59.583Z"
   },
   {
    "duration": 120,
    "start_time": "2021-11-22T15:42:39.880Z"
   },
   {
    "duration": 324,
    "start_time": "2021-11-22T15:42:49.207Z"
   },
   {
    "duration": 739,
    "start_time": "2021-11-22T15:43:13.813Z"
   },
   {
    "duration": 102,
    "start_time": "2021-11-22T15:43:14.555Z"
   },
   {
    "duration": 59,
    "start_time": "2021-11-22T15:43:14.661Z"
   },
   {
    "duration": 15,
    "start_time": "2021-11-22T15:43:14.723Z"
   },
   {
    "duration": 19,
    "start_time": "2021-11-22T15:43:14.768Z"
   },
   {
    "duration": 18,
    "start_time": "2021-11-22T15:43:14.790Z"
   },
   {
    "duration": 780,
    "start_time": "2021-11-22T15:43:14.810Z"
   },
   {
    "duration": 19,
    "start_time": "2021-11-22T15:43:15.594Z"
   },
   {
    "duration": 384,
    "start_time": "2021-11-22T15:43:15.616Z"
   },
   {
    "duration": -1738,
    "start_time": "2021-11-22T15:43:17.741Z"
   },
   {
    "duration": -1739,
    "start_time": "2021-11-22T15:43:17.744Z"
   },
   {
    "duration": -1740,
    "start_time": "2021-11-22T15:43:17.746Z"
   },
   {
    "duration": -1755,
    "start_time": "2021-11-22T15:43:17.762Z"
   },
   {
    "duration": -1757,
    "start_time": "2021-11-22T15:43:17.765Z"
   },
   {
    "duration": 431,
    "start_time": "2021-11-22T15:43:25.178Z"
   },
   {
    "duration": 10,
    "start_time": "2021-11-22T15:43:30.681Z"
   },
   {
    "duration": 91,
    "start_time": "2021-11-22T15:43:32.891Z"
   },
   {
    "duration": 7,
    "start_time": "2021-11-22T15:43:38.650Z"
   },
   {
    "duration": 13,
    "start_time": "2021-11-22T15:43:41.057Z"
   },
   {
    "duration": 9,
    "start_time": "2021-11-22T15:43:43.620Z"
   },
   {
    "duration": 5,
    "start_time": "2021-11-22T15:43:45.419Z"
   },
   {
    "duration": 151,
    "start_time": "2021-11-22T15:43:50.071Z"
   },
   {
    "duration": 292,
    "start_time": "2021-11-22T15:43:52.635Z"
   },
   {
    "duration": 303,
    "start_time": "2021-11-22T15:49:56.780Z"
   },
   {
    "duration": 768,
    "start_time": "2021-11-22T15:50:11.499Z"
   },
   {
    "duration": 91,
    "start_time": "2021-11-22T15:50:12.270Z"
   },
   {
    "duration": 61,
    "start_time": "2021-11-22T15:50:12.368Z"
   },
   {
    "duration": 42,
    "start_time": "2021-11-22T15:50:12.432Z"
   },
   {
    "duration": 14,
    "start_time": "2021-11-22T15:50:12.477Z"
   },
   {
    "duration": 23,
    "start_time": "2021-11-22T15:50:12.494Z"
   },
   {
    "duration": 803,
    "start_time": "2021-11-22T15:50:12.519Z"
   },
   {
    "duration": 17,
    "start_time": "2021-11-22T15:50:13.326Z"
   },
   {
    "duration": 411,
    "start_time": "2021-11-22T15:50:13.346Z"
   },
   {
    "duration": -1744,
    "start_time": "2021-11-22T15:50:15.504Z"
   },
   {
    "duration": -1746,
    "start_time": "2021-11-22T15:50:15.507Z"
   },
   {
    "duration": -1764,
    "start_time": "2021-11-22T15:50:15.526Z"
   },
   {
    "duration": -1764,
    "start_time": "2021-11-22T15:50:15.528Z"
   },
   {
    "duration": -1766,
    "start_time": "2021-11-22T15:50:15.531Z"
   },
   {
    "duration": 4,
    "start_time": "2021-11-22T15:50:29.777Z"
   },
   {
    "duration": 102,
    "start_time": "2021-11-22T15:50:31.789Z"
   },
   {
    "duration": 12,
    "start_time": "2021-11-22T15:50:38.647Z"
   },
   {
    "duration": 8,
    "start_time": "2021-11-22T15:50:40.778Z"
   },
   {
    "duration": 5,
    "start_time": "2021-11-22T15:50:42.868Z"
   },
   {
    "duration": 157,
    "start_time": "2021-11-22T15:50:47.958Z"
   },
   {
    "duration": 308,
    "start_time": "2021-11-22T15:50:50.167Z"
   },
   {
    "duration": 324,
    "start_time": "2021-11-22T15:51:36.681Z"
   },
   {
    "duration": 3,
    "start_time": "2021-11-22T15:51:50.720Z"
   },
   {
    "duration": 92,
    "start_time": "2021-11-22T15:51:52.634Z"
   },
   {
    "duration": 290,
    "start_time": "2021-11-22T15:51:58.077Z"
   },
   {
    "duration": 7,
    "start_time": "2021-11-22T15:53:24.195Z"
   },
   {
    "duration": 316,
    "start_time": "2021-11-22T15:57:03.298Z"
   },
   {
    "duration": 455,
    "start_time": "2021-11-22T15:57:20.851Z"
   },
   {
    "duration": 7252,
    "start_time": "2021-11-22T15:57:33.926Z"
   },
   {
    "duration": 7,
    "start_time": "2021-11-22T16:02:02.843Z"
   },
   {
    "duration": 8,
    "start_time": "2021-11-22T16:02:24.963Z"
   },
   {
    "duration": 300,
    "start_time": "2021-11-22T16:03:42.586Z"
   },
   {
    "duration": 91,
    "start_time": "2021-11-22T16:07:14.539Z"
   },
   {
    "duration": 18,
    "start_time": "2021-11-22T16:07:22.232Z"
   },
   {
    "duration": 10,
    "start_time": "2021-11-22T16:07:39.547Z"
   },
   {
    "duration": 18,
    "start_time": "2021-11-22T16:07:42.643Z"
   },
   {
    "duration": 286,
    "start_time": "2021-11-22T16:08:37.740Z"
   },
   {
    "duration": 15,
    "start_time": "2021-11-22T16:09:18.686Z"
   },
   {
    "duration": 297,
    "start_time": "2021-11-22T16:09:55.400Z"
   },
   {
    "duration": 809,
    "start_time": "2021-11-22T16:10:25.847Z"
   },
   {
    "duration": 111,
    "start_time": "2021-11-22T16:10:26.664Z"
   },
   {
    "duration": 59,
    "start_time": "2021-11-22T16:10:26.778Z"
   },
   {
    "duration": 44,
    "start_time": "2021-11-22T16:10:26.840Z"
   },
   {
    "duration": 13,
    "start_time": "2021-11-22T16:10:26.887Z"
   },
   {
    "duration": 14,
    "start_time": "2021-11-22T16:10:26.902Z"
   },
   {
    "duration": 904,
    "start_time": "2021-11-22T16:10:26.920Z"
   },
   {
    "duration": 40,
    "start_time": "2021-11-22T16:10:27.827Z"
   },
   {
    "duration": 411,
    "start_time": "2021-11-22T16:10:27.870Z"
   },
   {
    "duration": -1768,
    "start_time": "2021-11-22T16:10:30.052Z"
   },
   {
    "duration": -1775,
    "start_time": "2021-11-22T16:10:30.061Z"
   },
   {
    "duration": -1778,
    "start_time": "2021-11-22T16:10:30.066Z"
   },
   {
    "duration": -1778,
    "start_time": "2021-11-22T16:10:30.069Z"
   },
   {
    "duration": -1785,
    "start_time": "2021-11-22T16:10:30.078Z"
   },
   {
    "duration": -1787,
    "start_time": "2021-11-22T16:10:30.083Z"
   },
   {
    "duration": -1788,
    "start_time": "2021-11-22T16:10:30.086Z"
   },
   {
    "duration": -1789,
    "start_time": "2021-11-22T16:10:30.089Z"
   },
   {
    "duration": 4,
    "start_time": "2021-11-22T16:10:38.123Z"
   },
   {
    "duration": 92,
    "start_time": "2021-11-22T16:10:40.273Z"
   },
   {
    "duration": 11,
    "start_time": "2021-11-22T16:10:49.147Z"
   },
   {
    "duration": 8,
    "start_time": "2021-11-22T16:10:50.803Z"
   },
   {
    "duration": 6,
    "start_time": "2021-11-22T16:10:52.422Z"
   },
   {
    "duration": 141,
    "start_time": "2021-11-22T16:10:54.434Z"
   },
   {
    "duration": 14,
    "start_time": "2021-11-22T16:10:57.255Z"
   },
   {
    "duration": 5,
    "start_time": "2021-11-22T16:11:02.423Z"
   },
   {
    "duration": 422,
    "start_time": "2021-11-22T16:11:06.683Z"
   },
   {
    "duration": 13,
    "start_time": "2021-11-22T16:11:14.965Z"
   },
   {
    "duration": 60,
    "start_time": "2021-11-22T16:11:56.968Z"
   },
   {
    "duration": 7,
    "start_time": "2021-11-22T16:13:16.674Z"
   },
   {
    "duration": 49,
    "start_time": "2021-11-22T16:13:18.620Z"
   },
   {
    "duration": 3,
    "start_time": "2021-11-22T16:13:50.822Z"
   },
   {
    "duration": 8,
    "start_time": "2021-11-22T16:13:53.663Z"
   },
   {
    "duration": 51,
    "start_time": "2021-11-22T16:13:56.349Z"
   },
   {
    "duration": 6,
    "start_time": "2021-11-22T16:17:30.177Z"
   },
   {
    "duration": 45,
    "start_time": "2021-11-22T16:17:32.397Z"
   },
   {
    "duration": 8,
    "start_time": "2021-11-22T16:21:08.995Z"
   },
   {
    "duration": 6,
    "start_time": "2021-11-22T16:27:03.253Z"
   },
   {
    "duration": 37,
    "start_time": "2021-11-22T16:27:37.667Z"
   },
   {
    "duration": 6,
    "start_time": "2021-11-22T16:28:33.116Z"
   },
   {
    "duration": 41,
    "start_time": "2021-11-22T16:28:35.455Z"
   },
   {
    "duration": 5,
    "start_time": "2021-11-22T16:29:49.651Z"
   },
   {
    "duration": 5,
    "start_time": "2021-11-22T16:29:54.312Z"
   },
   {
    "duration": 37,
    "start_time": "2021-11-22T16:29:56.405Z"
   },
   {
    "duration": 46,
    "start_time": "2021-11-22T16:30:41.239Z"
   },
   {
    "duration": 102,
    "start_time": "2021-11-22T16:34:07.012Z"
   },
   {
    "duration": 7,
    "start_time": "2021-11-22T16:34:30.341Z"
   },
   {
    "duration": 349,
    "start_time": "2021-11-22T16:34:52.490Z"
   },
   {
    "duration": 409,
    "start_time": "2021-11-22T16:35:29.429Z"
   },
   {
    "duration": 1444,
    "start_time": "2021-11-22T17:18:18.212Z"
   },
   {
    "duration": 774,
    "start_time": "2021-11-22T17:19:29.181Z"
   },
   {
    "duration": 100,
    "start_time": "2021-11-22T17:19:29.959Z"
   },
   {
    "duration": 57,
    "start_time": "2021-11-22T17:19:30.062Z"
   },
   {
    "duration": 46,
    "start_time": "2021-11-22T17:19:30.121Z"
   },
   {
    "duration": 12,
    "start_time": "2021-11-22T17:19:30.170Z"
   },
   {
    "duration": 30,
    "start_time": "2021-11-22T17:19:30.185Z"
   },
   {
    "duration": 738,
    "start_time": "2021-11-22T17:19:30.218Z"
   },
   {
    "duration": 21,
    "start_time": "2021-11-22T17:19:30.959Z"
   },
   {
    "duration": 387,
    "start_time": "2021-11-22T17:19:30.984Z"
   },
   {
    "duration": -101,
    "start_time": "2021-11-22T17:19:31.475Z"
   },
   {
    "duration": -102,
    "start_time": "2021-11-22T17:19:31.478Z"
   },
   {
    "duration": -105,
    "start_time": "2021-11-22T17:19:31.482Z"
   },
   {
    "duration": -150,
    "start_time": "2021-11-22T17:19:31.529Z"
   },
   {
    "duration": -159,
    "start_time": "2021-11-22T17:19:31.539Z"
   },
   {
    "duration": -161,
    "start_time": "2021-11-22T17:19:31.542Z"
   },
   {
    "duration": -164,
    "start_time": "2021-11-22T17:19:31.546Z"
   },
   {
    "duration": -164,
    "start_time": "2021-11-22T17:19:31.548Z"
   },
   {
    "duration": -166,
    "start_time": "2021-11-22T17:19:31.551Z"
   },
   {
    "duration": -167,
    "start_time": "2021-11-22T17:19:31.553Z"
   },
   {
    "duration": -170,
    "start_time": "2021-11-22T17:19:31.557Z"
   },
   {
    "duration": -170,
    "start_time": "2021-11-22T17:19:31.559Z"
   },
   {
    "duration": -172,
    "start_time": "2021-11-22T17:19:31.562Z"
   },
   {
    "duration": -174,
    "start_time": "2021-11-22T17:19:31.565Z"
   },
   {
    "duration": 3,
    "start_time": "2021-11-22T17:19:46.595Z"
   },
   {
    "duration": 110,
    "start_time": "2021-11-22T17:19:48.469Z"
   },
   {
    "duration": 6,
    "start_time": "2021-11-22T17:19:59.081Z"
   },
   {
    "duration": 10,
    "start_time": "2021-11-22T17:20:01.762Z"
   },
   {
    "duration": 8,
    "start_time": "2021-11-22T17:20:03.258Z"
   },
   {
    "duration": 5,
    "start_time": "2021-11-22T17:20:04.796Z"
   },
   {
    "duration": 144,
    "start_time": "2021-11-22T17:20:08.742Z"
   },
   {
    "duration": 15,
    "start_time": "2021-11-22T17:20:10.911Z"
   },
   {
    "duration": 5,
    "start_time": "2021-11-22T17:20:13.987Z"
   },
   {
    "duration": 12,
    "start_time": "2021-11-22T17:20:17.815Z"
   },
   {
    "duration": 44,
    "start_time": "2021-11-22T17:20:19.984Z"
   },
   {
    "duration": 6,
    "start_time": "2021-11-22T17:20:36.016Z"
   },
   {
    "duration": 5,
    "start_time": "2021-11-22T17:20:37.714Z"
   },
   {
    "duration": 36,
    "start_time": "2021-11-22T17:20:39.728Z"
   },
   {
    "duration": 7,
    "start_time": "2021-11-22T17:20:42.804Z"
   },
   {
    "duration": 327,
    "start_time": "2021-11-22T17:20:45.132Z"
   },
   {
    "duration": 1246,
    "start_time": "2021-11-22T17:20:48.761Z"
   },
   {
    "duration": 1329,
    "start_time": "2021-11-22T17:27:12.694Z"
   },
   {
    "duration": 37,
    "start_time": "2021-11-22T17:27:47.418Z"
   },
   {
    "duration": 776,
    "start_time": "2021-11-22T17:28:10.808Z"
   },
   {
    "duration": 96,
    "start_time": "2021-11-22T17:28:11.587Z"
   },
   {
    "duration": 57,
    "start_time": "2021-11-22T17:28:11.686Z"
   },
   {
    "duration": 34,
    "start_time": "2021-11-22T17:28:11.746Z"
   },
   {
    "duration": 13,
    "start_time": "2021-11-22T17:28:11.783Z"
   },
   {
    "duration": 20,
    "start_time": "2021-11-22T17:28:11.799Z"
   },
   {
    "duration": 772,
    "start_time": "2021-11-22T17:28:11.821Z"
   },
   {
    "duration": 18,
    "start_time": "2021-11-22T17:28:12.598Z"
   },
   {
    "duration": 391,
    "start_time": "2021-11-22T17:28:12.619Z"
   },
   {
    "duration": -84,
    "start_time": "2021-11-22T17:28:13.096Z"
   },
   {
    "duration": -86,
    "start_time": "2021-11-22T17:28:13.100Z"
   },
   {
    "duration": -88,
    "start_time": "2021-11-22T17:28:13.103Z"
   },
   {
    "duration": -88,
    "start_time": "2021-11-22T17:28:13.105Z"
   },
   {
    "duration": -103,
    "start_time": "2021-11-22T17:28:13.121Z"
   },
   {
    "duration": -105,
    "start_time": "2021-11-22T17:28:13.124Z"
   },
   {
    "duration": -107,
    "start_time": "2021-11-22T17:28:13.128Z"
   },
   {
    "duration": -110,
    "start_time": "2021-11-22T17:28:13.133Z"
   },
   {
    "duration": -113,
    "start_time": "2021-11-22T17:28:13.137Z"
   },
   {
    "duration": -115,
    "start_time": "2021-11-22T17:28:13.140Z"
   },
   {
    "duration": -117,
    "start_time": "2021-11-22T17:28:13.144Z"
   },
   {
    "duration": -118,
    "start_time": "2021-11-22T17:28:13.147Z"
   },
   {
    "duration": -120,
    "start_time": "2021-11-22T17:28:13.150Z"
   },
   {
    "duration": -125,
    "start_time": "2021-11-22T17:28:13.156Z"
   },
   {
    "duration": 3,
    "start_time": "2021-11-22T17:28:48.094Z"
   },
   {
    "duration": 85,
    "start_time": "2021-11-22T17:28:50.023Z"
   },
   {
    "duration": 7,
    "start_time": "2021-11-22T17:28:59.730Z"
   },
   {
    "duration": 11,
    "start_time": "2021-11-22T17:29:03.006Z"
   },
   {
    "duration": 9,
    "start_time": "2021-11-22T17:29:04.584Z"
   },
   {
    "duration": 5,
    "start_time": "2021-11-22T17:29:06.284Z"
   },
   {
    "duration": 144,
    "start_time": "2021-11-22T17:29:08.472Z"
   },
   {
    "duration": 13,
    "start_time": "2021-11-22T17:29:10.683Z"
   },
   {
    "duration": 5,
    "start_time": "2021-11-22T17:29:13.297Z"
   },
   {
    "duration": 12,
    "start_time": "2021-11-22T17:29:15.223Z"
   },
   {
    "duration": 36,
    "start_time": "2021-11-22T17:29:16.782Z"
   },
   {
    "duration": 5,
    "start_time": "2021-11-22T17:29:20.796Z"
   },
   {
    "duration": 5,
    "start_time": "2021-11-22T17:29:22.920Z"
   },
   {
    "duration": 36,
    "start_time": "2021-11-22T17:29:24.657Z"
   },
   {
    "duration": 8,
    "start_time": "2021-11-22T17:29:27.460Z"
   },
   {
    "duration": 330,
    "start_time": "2021-11-22T17:29:29.393Z"
   },
   {
    "duration": 1522,
    "start_time": "2021-11-22T17:29:32.154Z"
   },
   {
    "duration": 1790,
    "start_time": "2021-11-22T17:34:05.357Z"
   },
   {
    "duration": 1324,
    "start_time": "2021-11-22T17:34:28.436Z"
   },
   {
    "duration": 43,
    "start_time": "2021-11-22T17:35:40.200Z"
   },
   {
    "duration": 14,
    "start_time": "2021-11-22T17:39:07.246Z"
   },
   {
    "duration": 68,
    "start_time": "2021-11-22T17:44:16.157Z"
   },
   {
    "duration": 737,
    "start_time": "2021-11-22T17:44:47.007Z"
   },
   {
    "duration": 98,
    "start_time": "2021-11-22T17:44:47.747Z"
   },
   {
    "duration": 86,
    "start_time": "2021-11-22T17:44:47.848Z"
   },
   {
    "duration": 36,
    "start_time": "2021-11-22T17:44:47.937Z"
   },
   {
    "duration": 14,
    "start_time": "2021-11-22T17:44:47.975Z"
   },
   {
    "duration": 28,
    "start_time": "2021-11-22T17:44:47.991Z"
   },
   {
    "duration": 776,
    "start_time": "2021-11-22T17:44:48.021Z"
   },
   {
    "duration": 17,
    "start_time": "2021-11-22T17:44:48.802Z"
   },
   {
    "duration": 396,
    "start_time": "2021-11-22T17:44:48.823Z"
   },
   {
    "duration": -345,
    "start_time": "2021-11-22T17:44:49.567Z"
   },
   {
    "duration": -354,
    "start_time": "2021-11-22T17:44:49.578Z"
   },
   {
    "duration": -356,
    "start_time": "2021-11-22T17:44:49.582Z"
   },
   {
    "duration": -359,
    "start_time": "2021-11-22T17:44:49.586Z"
   },
   {
    "duration": -362,
    "start_time": "2021-11-22T17:44:49.591Z"
   },
   {
    "duration": -368,
    "start_time": "2021-11-22T17:44:49.599Z"
   },
   {
    "duration": -379,
    "start_time": "2021-11-22T17:44:49.611Z"
   },
   {
    "duration": -381,
    "start_time": "2021-11-22T17:44:49.615Z"
   },
   {
    "duration": -382,
    "start_time": "2021-11-22T17:44:49.618Z"
   },
   {
    "duration": -385,
    "start_time": "2021-11-22T17:44:49.622Z"
   },
   {
    "duration": -387,
    "start_time": "2021-11-22T17:44:49.626Z"
   },
   {
    "duration": -390,
    "start_time": "2021-11-22T17:44:49.630Z"
   },
   {
    "duration": -390,
    "start_time": "2021-11-22T17:44:49.632Z"
   },
   {
    "duration": 4,
    "start_time": "2021-11-22T17:45:13.442Z"
   },
   {
    "duration": 92,
    "start_time": "2021-11-22T17:45:15.652Z"
   },
   {
    "duration": 44,
    "start_time": "2021-11-22T17:45:17.866Z"
   },
   {
    "duration": 6,
    "start_time": "2021-11-22T17:45:32.217Z"
   },
   {
    "duration": 10,
    "start_time": "2021-11-22T17:45:34.032Z"
   },
   {
    "duration": 7,
    "start_time": "2021-11-22T17:45:35.690Z"
   },
   {
    "duration": 6,
    "start_time": "2021-11-22T17:45:37.919Z"
   },
   {
    "duration": 144,
    "start_time": "2021-11-22T17:45:40.247Z"
   },
   {
    "duration": 13,
    "start_time": "2021-11-22T17:45:42.180Z"
   },
   {
    "duration": 5,
    "start_time": "2021-11-22T17:45:44.904Z"
   },
   {
    "duration": 12,
    "start_time": "2021-11-22T17:45:46.679Z"
   },
   {
    "duration": 53,
    "start_time": "2021-11-22T17:45:48.493Z"
   },
   {
    "duration": 5,
    "start_time": "2021-11-22T17:45:51.373Z"
   },
   {
    "duration": 5,
    "start_time": "2021-11-22T17:45:53.699Z"
   },
   {
    "duration": 38,
    "start_time": "2021-11-22T17:45:55.594Z"
   },
   {
    "duration": 6,
    "start_time": "2021-11-22T17:45:58.504Z"
   },
   {
    "duration": 334,
    "start_time": "2021-11-22T17:46:00.634Z"
   },
   {
    "duration": 1590,
    "start_time": "2021-11-22T17:46:26.784Z"
   },
   {
    "duration": 4,
    "start_time": "2021-11-22T17:47:26.957Z"
   },
   {
    "duration": 3,
    "start_time": "2021-11-22T17:47:29.033Z"
   },
   {
    "duration": 23,
    "start_time": "2021-11-22T17:49:46.487Z"
   },
   {
    "duration": 35,
    "start_time": "2021-11-22T17:50:41.980Z"
   },
   {
    "duration": 8,
    "start_time": "2021-11-22T17:51:16.669Z"
   },
   {
    "duration": 44,
    "start_time": "2021-11-22T17:51:25.171Z"
   },
   {
    "duration": 5185,
    "start_time": "2021-11-22T17:53:02.228Z"
   },
   {
    "duration": 37,
    "start_time": "2021-11-22T17:53:22.343Z"
   },
   {
    "duration": 61,
    "start_time": "2021-11-22T17:54:50.314Z"
   },
   {
    "duration": 8,
    "start_time": "2021-11-22T18:00:54.435Z"
   },
   {
    "duration": 37,
    "start_time": "2021-11-22T18:00:58.116Z"
   },
   {
    "duration": 15,
    "start_time": "2021-11-22T18:02:03.788Z"
   },
   {
    "duration": 38,
    "start_time": "2021-11-22T18:02:06.354Z"
   },
   {
    "duration": 13,
    "start_time": "2021-11-22T18:03:05.953Z"
   },
   {
    "duration": 13,
    "start_time": "2021-11-22T18:03:09.649Z"
   },
   {
    "duration": 37,
    "start_time": "2021-11-22T18:03:12.057Z"
   },
   {
    "duration": 790,
    "start_time": "2021-11-22T18:03:29.622Z"
   },
   {
    "duration": 91,
    "start_time": "2021-11-22T18:03:30.415Z"
   },
   {
    "duration": 67,
    "start_time": "2021-11-22T18:03:30.508Z"
   },
   {
    "duration": 47,
    "start_time": "2021-11-22T18:03:30.578Z"
   },
   {
    "duration": 49,
    "start_time": "2021-11-22T18:03:30.629Z"
   },
   {
    "duration": 36,
    "start_time": "2021-11-22T18:03:30.681Z"
   },
   {
    "duration": 717,
    "start_time": "2021-11-22T18:03:30.719Z"
   },
   {
    "duration": 26,
    "start_time": "2021-11-22T18:03:31.441Z"
   },
   {
    "duration": 443,
    "start_time": "2021-11-22T18:03:31.470Z"
   },
   {
    "duration": -128,
    "start_time": "2021-11-22T18:03:32.045Z"
   },
   {
    "duration": -129,
    "start_time": "2021-11-22T18:03:32.048Z"
   },
   {
    "duration": -130,
    "start_time": "2021-11-22T18:03:32.051Z"
   },
   {
    "duration": -132,
    "start_time": "2021-11-22T18:03:32.055Z"
   },
   {
    "duration": -134,
    "start_time": "2021-11-22T18:03:32.059Z"
   },
   {
    "duration": -135,
    "start_time": "2021-11-22T18:03:32.063Z"
   },
   {
    "duration": -136,
    "start_time": "2021-11-22T18:03:32.066Z"
   },
   {
    "duration": -137,
    "start_time": "2021-11-22T18:03:32.069Z"
   },
   {
    "duration": -147,
    "start_time": "2021-11-22T18:03:32.081Z"
   },
   {
    "duration": -148,
    "start_time": "2021-11-22T18:03:32.084Z"
   },
   {
    "duration": -149,
    "start_time": "2021-11-22T18:03:32.087Z"
   },
   {
    "duration": -156,
    "start_time": "2021-11-22T18:03:32.096Z"
   },
   {
    "duration": -174,
    "start_time": "2021-11-22T18:03:32.117Z"
   },
   {
    "duration": -181,
    "start_time": "2021-11-22T18:03:32.126Z"
   },
   {
    "duration": -189,
    "start_time": "2021-11-22T18:03:32.136Z"
   },
   {
    "duration": -189,
    "start_time": "2021-11-22T18:03:32.140Z"
   },
   {
    "duration": -195,
    "start_time": "2021-11-22T18:03:32.148Z"
   },
   {
    "duration": -197,
    "start_time": "2021-11-22T18:03:32.152Z"
   },
   {
    "duration": -191,
    "start_time": "2021-11-22T18:03:32.158Z"
   },
   {
    "duration": -193,
    "start_time": "2021-11-22T18:03:32.162Z"
   },
   {
    "duration": 4,
    "start_time": "2021-11-22T18:03:39.195Z"
   },
   {
    "duration": 89,
    "start_time": "2021-11-22T18:03:41.051Z"
   },
   {
    "duration": 7,
    "start_time": "2021-11-22T18:03:49.728Z"
   },
   {
    "duration": 13,
    "start_time": "2021-11-22T18:03:51.464Z"
   },
   {
    "duration": 9,
    "start_time": "2021-11-22T18:03:53.438Z"
   },
   {
    "duration": 6,
    "start_time": "2021-11-22T18:03:55.175Z"
   },
   {
    "duration": 141,
    "start_time": "2021-11-22T18:03:57.385Z"
   },
   {
    "duration": 17,
    "start_time": "2021-11-22T18:03:59.243Z"
   },
   {
    "duration": 5,
    "start_time": "2021-11-22T18:04:02.516Z"
   },
   {
    "duration": 13,
    "start_time": "2021-11-22T18:04:04.408Z"
   },
   {
    "duration": 39,
    "start_time": "2021-11-22T18:04:06.500Z"
   },
   {
    "duration": 7,
    "start_time": "2021-11-22T18:04:09.893Z"
   },
   {
    "duration": 5,
    "start_time": "2021-11-22T18:04:11.664Z"
   },
   {
    "duration": 39,
    "start_time": "2021-11-22T18:04:13.637Z"
   },
   {
    "duration": 19,
    "start_time": "2021-11-22T18:04:15.966Z"
   },
   {
    "duration": 36,
    "start_time": "2021-11-22T18:04:18.056Z"
   },
   {
    "duration": 9,
    "start_time": "2021-11-22T18:04:20.778Z"
   },
   {
    "duration": 7,
    "start_time": "2021-11-22T18:04:22.555Z"
   },
   {
    "duration": 38,
    "start_time": "2021-11-22T18:04:24.172Z"
   },
   {
    "duration": 5406,
    "start_time": "2021-11-22T18:04:43.027Z"
   },
   {
    "duration": 66,
    "start_time": "2021-11-22T18:04:50.521Z"
   },
   {
    "duration": 39,
    "start_time": "2021-11-22T18:05:09.654Z"
   },
   {
    "duration": 62,
    "start_time": "2021-11-22T18:07:08.501Z"
   },
   {
    "duration": 127,
    "start_time": "2021-11-22T18:09:51.884Z"
   },
   {
    "duration": 36,
    "start_time": "2021-11-22T18:10:12.631Z"
   },
   {
    "duration": 3,
    "start_time": "2021-11-22T18:20:16.950Z"
   },
   {
    "duration": 4,
    "start_time": "2021-11-22T18:20:19.036Z"
   },
   {
    "duration": 4758,
    "start_time": "2021-11-22T18:20:48.416Z"
   },
   {
    "duration": 6884,
    "start_time": "2021-11-22T18:21:45.131Z"
   },
   {
    "duration": 7178,
    "start_time": "2021-11-22T18:33:37.892Z"
   },
   {
    "duration": 60,
    "start_time": "2021-11-22T18:33:50.012Z"
   },
   {
    "duration": 11,
    "start_time": "2021-11-22T18:38:37.187Z"
   },
   {
    "duration": 745,
    "start_time": "2021-11-22T18:42:41.188Z"
   },
   {
    "duration": 1199,
    "start_time": "2021-11-22T18:43:18.772Z"
   },
   {
    "duration": 917,
    "start_time": "2021-11-22T18:44:01.650Z"
   },
   {
    "duration": 8627,
    "start_time": "2021-11-22T18:44:13.106Z"
   },
   {
    "duration": 819,
    "start_time": "2021-11-22T18:44:40.685Z"
   },
   {
    "duration": 11,
    "start_time": "2021-11-22T18:44:45.572Z"
   },
   {
    "duration": 808,
    "start_time": "2021-11-22T18:45:05.481Z"
   },
   {
    "duration": 99,
    "start_time": "2021-11-22T18:45:06.293Z"
   },
   {
    "duration": 73,
    "start_time": "2021-11-22T18:45:06.396Z"
   },
   {
    "duration": 16,
    "start_time": "2021-11-22T18:45:06.472Z"
   },
   {
    "duration": 13,
    "start_time": "2021-11-22T18:45:06.492Z"
   },
   {
    "duration": 72,
    "start_time": "2021-11-22T18:45:06.508Z"
   },
   {
    "duration": 854,
    "start_time": "2021-11-22T18:45:06.583Z"
   },
   {
    "duration": 30,
    "start_time": "2021-11-22T18:45:07.441Z"
   },
   {
    "duration": 395,
    "start_time": "2021-11-22T18:45:07.475Z"
   },
   {
    "duration": -162,
    "start_time": "2021-11-22T18:45:08.036Z"
   },
   {
    "duration": -163,
    "start_time": "2021-11-22T18:45:08.039Z"
   },
   {
    "duration": -174,
    "start_time": "2021-11-22T18:45:08.052Z"
   },
   {
    "duration": -176,
    "start_time": "2021-11-22T18:45:08.055Z"
   },
   {
    "duration": -177,
    "start_time": "2021-11-22T18:45:08.058Z"
   },
   {
    "duration": -179,
    "start_time": "2021-11-22T18:45:08.062Z"
   },
   {
    "duration": -182,
    "start_time": "2021-11-22T18:45:08.066Z"
   },
   {
    "duration": -184,
    "start_time": "2021-11-22T18:45:08.069Z"
   },
   {
    "duration": -184,
    "start_time": "2021-11-22T18:45:08.071Z"
   },
   {
    "duration": -187,
    "start_time": "2021-11-22T18:45:08.075Z"
   },
   {
    "duration": -189,
    "start_time": "2021-11-22T18:45:08.079Z"
   },
   {
    "duration": -191,
    "start_time": "2021-11-22T18:45:08.082Z"
   },
   {
    "duration": -192,
    "start_time": "2021-11-22T18:45:08.085Z"
   },
   {
    "duration": -217,
    "start_time": "2021-11-22T18:45:08.111Z"
   },
   {
    "duration": -226,
    "start_time": "2021-11-22T18:45:08.121Z"
   },
   {
    "duration": -227,
    "start_time": "2021-11-22T18:45:08.124Z"
   },
   {
    "duration": -229,
    "start_time": "2021-11-22T18:45:08.128Z"
   },
   {
    "duration": -232,
    "start_time": "2021-11-22T18:45:08.132Z"
   },
   {
    "duration": -234,
    "start_time": "2021-11-22T18:45:08.136Z"
   },
   {
    "duration": -237,
    "start_time": "2021-11-22T18:45:08.140Z"
   },
   {
    "duration": 3,
    "start_time": "2021-11-22T18:45:12.590Z"
   },
   {
    "duration": 87,
    "start_time": "2021-11-22T18:45:14.642Z"
   },
   {
    "duration": 8,
    "start_time": "2021-11-22T18:45:20.954Z"
   },
   {
    "duration": 11,
    "start_time": "2021-11-22T18:45:23.124Z"
   },
   {
    "duration": 8,
    "start_time": "2021-11-22T18:45:24.821Z"
   },
   {
    "duration": 5,
    "start_time": "2021-11-22T18:45:26.556Z"
   },
   {
    "duration": 149,
    "start_time": "2021-11-22T18:45:30.305Z"
   },
   {
    "duration": 12,
    "start_time": "2021-11-22T18:45:32.199Z"
   },
   {
    "duration": 5,
    "start_time": "2021-11-22T18:45:35.119Z"
   },
   {
    "duration": 13,
    "start_time": "2021-11-22T18:45:36.854Z"
   },
   {
    "duration": 39,
    "start_time": "2021-11-22T18:45:38.393Z"
   },
   {
    "duration": 6,
    "start_time": "2021-11-22T18:45:40.603Z"
   },
   {
    "duration": 6,
    "start_time": "2021-11-22T18:45:42.254Z"
   },
   {
    "duration": 39,
    "start_time": "2021-11-22T18:45:43.912Z"
   },
   {
    "duration": 19,
    "start_time": "2021-11-22T18:45:46.123Z"
   },
   {
    "duration": 38,
    "start_time": "2021-11-22T18:45:47.715Z"
   },
   {
    "duration": 7,
    "start_time": "2021-11-22T18:45:49.846Z"
   },
   {
    "duration": 13,
    "start_time": "2021-11-22T18:45:51.464Z"
   },
   {
    "duration": 38,
    "start_time": "2021-11-22T18:45:53.681Z"
   },
   {
    "duration": 370,
    "start_time": "2021-11-22T18:45:55.803Z"
   },
   {
    "duration": 881,
    "start_time": "2021-11-22T18:46:09.675Z"
   },
   {
    "duration": 15,
    "start_time": "2021-11-22T18:46:12.476Z"
   },
   {
    "duration": 40,
    "start_time": "2021-11-22T18:47:39.471Z"
   },
   {
    "duration": 38,
    "start_time": "2021-11-22T18:49:14.503Z"
   },
   {
    "duration": 9,
    "start_time": "2021-11-22T18:53:38.943Z"
   },
   {
    "duration": 356,
    "start_time": "2021-11-22T18:53:42.592Z"
   },
   {
    "duration": 97,
    "start_time": "2021-11-22T18:54:20.785Z"
   },
   {
    "duration": 9,
    "start_time": "2021-11-22T18:54:30.368Z"
   },
   {
    "duration": 3,
    "start_time": "2021-11-22T19:11:27.329Z"
   },
   {
    "duration": 583,
    "start_time": "2021-11-23T07:11:21.524Z"
   },
   {
    "duration": 62,
    "start_time": "2021-11-23T07:11:22.109Z"
   },
   {
    "duration": 25,
    "start_time": "2021-11-23T07:11:22.173Z"
   },
   {
    "duration": 9,
    "start_time": "2021-11-23T07:11:22.199Z"
   },
   {
    "duration": 7,
    "start_time": "2021-11-23T07:11:22.210Z"
   },
   {
    "duration": 9,
    "start_time": "2021-11-23T07:11:22.218Z"
   },
   {
    "duration": 462,
    "start_time": "2021-11-23T07:11:22.228Z"
   },
   {
    "duration": 10,
    "start_time": "2021-11-23T07:11:22.692Z"
   },
   {
    "duration": 293,
    "start_time": "2021-11-23T07:11:22.704Z"
   },
   {
    "duration": -117,
    "start_time": "2021-11-23T07:11:23.116Z"
   },
   {
    "duration": -121,
    "start_time": "2021-11-23T07:11:23.121Z"
   },
   {
    "duration": -126,
    "start_time": "2021-11-23T07:11:23.126Z"
   },
   {
    "duration": -130,
    "start_time": "2021-11-23T07:11:23.132Z"
   },
   {
    "duration": -138,
    "start_time": "2021-11-23T07:11:23.141Z"
   },
   {
    "duration": -143,
    "start_time": "2021-11-23T07:11:23.146Z"
   },
   {
    "duration": -145,
    "start_time": "2021-11-23T07:11:23.150Z"
   },
   {
    "duration": -147,
    "start_time": "2021-11-23T07:11:23.153Z"
   },
   {
    "duration": -151,
    "start_time": "2021-11-23T07:11:23.157Z"
   },
   {
    "duration": -153,
    "start_time": "2021-11-23T07:11:23.160Z"
   },
   {
    "duration": -156,
    "start_time": "2021-11-23T07:11:23.164Z"
   },
   {
    "duration": -158,
    "start_time": "2021-11-23T07:11:23.167Z"
   },
   {
    "duration": -163,
    "start_time": "2021-11-23T07:11:23.173Z"
   },
   {
    "duration": -166,
    "start_time": "2021-11-23T07:11:23.177Z"
   },
   {
    "duration": -169,
    "start_time": "2021-11-23T07:11:23.181Z"
   },
   {
    "duration": -172,
    "start_time": "2021-11-23T07:11:23.185Z"
   },
   {
    "duration": -176,
    "start_time": "2021-11-23T07:11:23.190Z"
   },
   {
    "duration": -178,
    "start_time": "2021-11-23T07:11:23.193Z"
   },
   {
    "duration": -180,
    "start_time": "2021-11-23T07:11:23.196Z"
   },
   {
    "duration": -183,
    "start_time": "2021-11-23T07:11:23.200Z"
   },
   {
    "duration": 3,
    "start_time": "2021-11-23T07:11:40.323Z"
   },
   {
    "duration": 63,
    "start_time": "2021-11-23T07:11:43.907Z"
   },
   {
    "duration": 25,
    "start_time": "2021-11-23T07:11:48.167Z"
   },
   {
    "duration": 6,
    "start_time": "2021-11-23T07:12:02.552Z"
   },
   {
    "duration": 8,
    "start_time": "2021-11-23T07:12:05.156Z"
   },
   {
    "duration": 5,
    "start_time": "2021-11-23T07:12:07.206Z"
   },
   {
    "duration": 4,
    "start_time": "2021-11-23T07:12:09.412Z"
   },
   {
    "duration": 76,
    "start_time": "2021-11-23T07:12:12.645Z"
   },
   {
    "duration": 9,
    "start_time": "2021-11-23T07:12:14.972Z"
   },
   {
    "duration": 3,
    "start_time": "2021-11-23T07:12:18.320Z"
   },
   {
    "duration": 8,
    "start_time": "2021-11-23T07:12:20.842Z"
   },
   {
    "duration": 20,
    "start_time": "2021-11-23T07:12:22.775Z"
   },
   {
    "duration": 3,
    "start_time": "2021-11-23T07:12:25.694Z"
   },
   {
    "duration": 4,
    "start_time": "2021-11-23T07:12:27.824Z"
   },
   {
    "duration": 20,
    "start_time": "2021-11-23T07:12:29.873Z"
   },
   {
    "duration": 11,
    "start_time": "2021-11-23T07:12:32.471Z"
   },
   {
    "duration": 20,
    "start_time": "2021-11-23T07:12:34.561Z"
   },
   {
    "duration": 5,
    "start_time": "2021-11-23T07:12:37.400Z"
   },
   {
    "duration": 5,
    "start_time": "2021-11-23T07:12:39.925Z"
   },
   {
    "duration": 26,
    "start_time": "2021-11-23T07:12:42.447Z"
   },
   {
    "duration": 465,
    "start_time": "2021-11-23T07:12:45.088Z"
   },
   {
    "duration": 19,
    "start_time": "2021-11-23T07:12:47.530Z"
   },
   {
    "duration": 5,
    "start_time": "2021-11-23T07:12:51.476Z"
   },
   {
    "duration": 197,
    "start_time": "2021-11-23T07:12:54.941Z"
   },
   {
    "duration": 11,
    "start_time": "2021-11-23T08:21:39.122Z"
   },
   {
    "duration": 7,
    "start_time": "2021-11-23T08:22:23.527Z"
   },
   {
    "duration": 714,
    "start_time": "2021-11-23T08:28:34.783Z"
   },
   {
    "duration": 530,
    "start_time": "2021-11-23T08:32:40.183Z"
   },
   {
    "duration": 564,
    "start_time": "2021-11-23T08:33:08.289Z"
   },
   {
    "duration": 527,
    "start_time": "2021-11-23T08:33:26.388Z"
   },
   {
    "duration": 632,
    "start_time": "2021-11-23T08:44:21.141Z"
   },
   {
    "duration": 622,
    "start_time": "2021-11-23T08:44:37.267Z"
   },
   {
    "duration": 63,
    "start_time": "2021-11-23T08:44:37.891Z"
   },
   {
    "duration": 31,
    "start_time": "2021-11-23T08:44:37.957Z"
   },
   {
    "duration": 10,
    "start_time": "2021-11-23T08:44:37.990Z"
   },
   {
    "duration": 9,
    "start_time": "2021-11-23T08:44:38.001Z"
   },
   {
    "duration": 20,
    "start_time": "2021-11-23T08:44:38.011Z"
   },
   {
    "duration": 453,
    "start_time": "2021-11-23T08:44:38.033Z"
   },
   {
    "duration": 11,
    "start_time": "2021-11-23T08:44:38.488Z"
   },
   {
    "duration": 297,
    "start_time": "2021-11-23T08:44:38.500Z"
   },
   {
    "duration": -199,
    "start_time": "2021-11-23T08:44:38.998Z"
   },
   {
    "duration": -202,
    "start_time": "2021-11-23T08:44:39.002Z"
   },
   {
    "duration": -204,
    "start_time": "2021-11-23T08:44:39.005Z"
   },
   {
    "duration": -208,
    "start_time": "2021-11-23T08:44:39.010Z"
   },
   {
    "duration": -213,
    "start_time": "2021-11-23T08:44:39.016Z"
   },
   {
    "duration": -232,
    "start_time": "2021-11-23T08:44:39.036Z"
   },
   {
    "duration": -238,
    "start_time": "2021-11-23T08:44:39.043Z"
   },
   {
    "duration": -242,
    "start_time": "2021-11-23T08:44:39.047Z"
   },
   {
    "duration": -245,
    "start_time": "2021-11-23T08:44:39.051Z"
   },
   {
    "duration": -247,
    "start_time": "2021-11-23T08:44:39.054Z"
   },
   {
    "duration": -249,
    "start_time": "2021-11-23T08:44:39.057Z"
   },
   {
    "duration": -252,
    "start_time": "2021-11-23T08:44:39.061Z"
   },
   {
    "duration": -255,
    "start_time": "2021-11-23T08:44:39.065Z"
   },
   {
    "duration": -257,
    "start_time": "2021-11-23T08:44:39.068Z"
   },
   {
    "duration": -259,
    "start_time": "2021-11-23T08:44:39.071Z"
   },
   {
    "duration": -261,
    "start_time": "2021-11-23T08:44:39.074Z"
   },
   {
    "duration": -264,
    "start_time": "2021-11-23T08:44:39.077Z"
   },
   {
    "duration": -267,
    "start_time": "2021-11-23T08:44:39.081Z"
   },
   {
    "duration": -269,
    "start_time": "2021-11-23T08:44:39.084Z"
   },
   {
    "duration": -272,
    "start_time": "2021-11-23T08:44:39.088Z"
   },
   {
    "duration": -274,
    "start_time": "2021-11-23T08:44:39.091Z"
   },
   {
    "duration": -276,
    "start_time": "2021-11-23T08:44:39.094Z"
   },
   {
    "duration": 263,
    "start_time": "2021-11-23T08:45:04.385Z"
   },
   {
    "duration": 2,
    "start_time": "2021-11-23T08:45:10.064Z"
   },
   {
    "duration": 62,
    "start_time": "2021-11-23T08:45:12.504Z"
   },
   {
    "duration": 5,
    "start_time": "2021-11-23T08:45:21.378Z"
   },
   {
    "duration": 7,
    "start_time": "2021-11-23T08:45:24.374Z"
   },
   {
    "duration": 6,
    "start_time": "2021-11-23T08:45:26.085Z"
   },
   {
    "duration": 4,
    "start_time": "2021-11-23T08:45:27.326Z"
   },
   {
    "duration": 77,
    "start_time": "2021-11-23T08:45:28.685Z"
   },
   {
    "duration": 10,
    "start_time": "2021-11-23T08:45:29.956Z"
   },
   {
    "duration": 3,
    "start_time": "2021-11-23T08:45:35.457Z"
   },
   {
    "duration": 9,
    "start_time": "2021-11-23T08:45:36.500Z"
   },
   {
    "duration": 22,
    "start_time": "2021-11-23T08:45:37.182Z"
   },
   {
    "duration": 4,
    "start_time": "2021-11-23T08:45:39.165Z"
   },
   {
    "duration": 4,
    "start_time": "2021-11-23T08:45:40.248Z"
   },
   {
    "duration": 21,
    "start_time": "2021-11-23T08:45:40.929Z"
   },
   {
    "duration": 12,
    "start_time": "2021-11-23T08:45:42.509Z"
   },
   {
    "duration": 21,
    "start_time": "2021-11-23T08:45:43.112Z"
   },
   {
    "duration": 5,
    "start_time": "2021-11-23T08:45:44.860Z"
   },
   {
    "duration": 6,
    "start_time": "2021-11-23T08:45:46.499Z"
   },
   {
    "duration": 20,
    "start_time": "2021-11-23T08:45:47.692Z"
   },
   {
    "duration": 461,
    "start_time": "2021-11-23T08:45:49.635Z"
   },
   {
    "duration": 22,
    "start_time": "2021-11-23T08:45:50.600Z"
   },
   {
    "duration": 5,
    "start_time": "2021-11-23T08:45:52.532Z"
   },
   {
    "duration": 186,
    "start_time": "2021-11-23T08:45:53.253Z"
   },
   {
    "duration": 6,
    "start_time": "2021-11-23T08:45:55.222Z"
   },
   {
    "duration": 703,
    "start_time": "2021-11-23T08:45:56.856Z"
   },
   {
    "duration": 540,
    "start_time": "2021-11-23T08:47:25.210Z"
   },
   {
    "duration": 584,
    "start_time": "2021-11-23T08:48:14.500Z"
   },
   {
    "duration": 508,
    "start_time": "2021-11-23T08:50:35.385Z"
   },
   {
    "duration": 541,
    "start_time": "2021-11-23T08:50:54.037Z"
   },
   {
    "duration": 8,
    "start_time": "2021-11-23T08:58:35.516Z"
   },
   {
    "duration": 3,
    "start_time": "2021-11-23T09:08:51.412Z"
   },
   {
    "duration": 251,
    "start_time": "2021-11-23T09:29:47.036Z"
   },
   {
    "duration": 642,
    "start_time": "2021-11-23T09:31:52.236Z"
   },
   {
    "duration": 65,
    "start_time": "2021-11-23T09:31:52.879Z"
   },
   {
    "duration": 32,
    "start_time": "2021-11-23T09:31:52.946Z"
   },
   {
    "duration": 14,
    "start_time": "2021-11-23T09:31:52.987Z"
   },
   {
    "duration": 10,
    "start_time": "2021-11-23T09:31:53.003Z"
   },
   {
    "duration": 29,
    "start_time": "2021-11-23T09:31:53.014Z"
   },
   {
    "duration": 476,
    "start_time": "2021-11-23T09:31:53.045Z"
   },
   {
    "duration": 13,
    "start_time": "2021-11-23T09:31:53.525Z"
   },
   {
    "duration": 377,
    "start_time": "2021-11-23T09:31:53.541Z"
   },
   {
    "duration": -245,
    "start_time": "2021-11-23T09:31:54.166Z"
   },
   {
    "duration": -248,
    "start_time": "2021-11-23T09:31:54.170Z"
   },
   {
    "duration": -252,
    "start_time": "2021-11-23T09:31:54.176Z"
   },
   {
    "duration": -254,
    "start_time": "2021-11-23T09:31:54.179Z"
   },
   {
    "duration": -255,
    "start_time": "2021-11-23T09:31:54.182Z"
   },
   {
    "duration": -259,
    "start_time": "2021-11-23T09:31:54.187Z"
   },
   {
    "duration": -262,
    "start_time": "2021-11-23T09:31:54.192Z"
   },
   {
    "duration": -266,
    "start_time": "2021-11-23T09:31:54.198Z"
   },
   {
    "duration": -270,
    "start_time": "2021-11-23T09:31:54.203Z"
   },
   {
    "duration": -273,
    "start_time": "2021-11-23T09:31:54.208Z"
   },
   {
    "duration": -276,
    "start_time": "2021-11-23T09:31:54.212Z"
   },
   {
    "duration": -278,
    "start_time": "2021-11-23T09:31:54.216Z"
   },
   {
    "duration": -280,
    "start_time": "2021-11-23T09:31:54.220Z"
   },
   {
    "duration": -296,
    "start_time": "2021-11-23T09:31:54.237Z"
   },
   {
    "duration": -300,
    "start_time": "2021-11-23T09:31:54.243Z"
   },
   {
    "duration": -303,
    "start_time": "2021-11-23T09:31:54.247Z"
   },
   {
    "duration": -305,
    "start_time": "2021-11-23T09:31:54.251Z"
   },
   {
    "duration": -308,
    "start_time": "2021-11-23T09:31:54.255Z"
   },
   {
    "duration": -309,
    "start_time": "2021-11-23T09:31:54.258Z"
   },
   {
    "duration": -311,
    "start_time": "2021-11-23T09:31:54.262Z"
   },
   {
    "duration": -313,
    "start_time": "2021-11-23T09:31:54.265Z"
   },
   {
    "duration": -315,
    "start_time": "2021-11-23T09:31:54.269Z"
   },
   {
    "duration": -317,
    "start_time": "2021-11-23T09:31:54.272Z"
   },
   {
    "duration": -319,
    "start_time": "2021-11-23T09:31:54.276Z"
   },
   {
    "duration": -321,
    "start_time": "2021-11-23T09:31:54.279Z"
   },
   {
    "duration": 3,
    "start_time": "2021-11-23T09:32:02.682Z"
   },
   {
    "duration": 67,
    "start_time": "2021-11-23T09:32:04.810Z"
   },
   {
    "duration": 31,
    "start_time": "2021-11-23T09:32:06.667Z"
   },
   {
    "duration": 10,
    "start_time": "2021-11-23T09:32:09.781Z"
   },
   {
    "duration": 6,
    "start_time": "2021-11-23T09:32:19.689Z"
   },
   {
    "duration": 7,
    "start_time": "2021-11-23T09:32:21.781Z"
   },
   {
    "duration": 7,
    "start_time": "2021-11-23T09:32:23.636Z"
   },
   {
    "duration": 4,
    "start_time": "2021-11-23T09:32:25.886Z"
   },
   {
    "duration": 79,
    "start_time": "2021-11-23T09:32:28.095Z"
   },
   {
    "duration": 9,
    "start_time": "2021-11-23T09:32:29.869Z"
   },
   {
    "duration": 3,
    "start_time": "2021-11-23T09:32:33.065Z"
   },
   {
    "duration": 8,
    "start_time": "2021-11-23T09:32:35.235Z"
   },
   {
    "duration": 21,
    "start_time": "2021-11-23T09:32:37.029Z"
   },
   {
    "duration": 4,
    "start_time": "2021-11-23T09:32:39.799Z"
   },
   {
    "duration": 4,
    "start_time": "2021-11-23T09:32:41.018Z"
   },
   {
    "duration": 21,
    "start_time": "2021-11-23T09:32:41.765Z"
   },
   {
    "duration": 14,
    "start_time": "2021-11-23T09:32:43.657Z"
   },
   {
    "duration": 28,
    "start_time": "2021-11-23T09:32:44.340Z"
   },
   {
    "duration": 6,
    "start_time": "2021-11-23T09:32:45.930Z"
   },
   {
    "duration": 6,
    "start_time": "2021-11-23T09:32:47.093Z"
   },
   {
    "duration": 28,
    "start_time": "2021-11-23T09:32:48.050Z"
   },
   {
    "duration": 483,
    "start_time": "2021-11-23T09:32:50.644Z"
   },
   {
    "duration": 23,
    "start_time": "2021-11-23T09:32:52.585Z"
   },
   {
    "duration": 6,
    "start_time": "2021-11-23T09:32:54.455Z"
   },
   {
    "duration": 193,
    "start_time": "2021-11-23T09:32:55.098Z"
   },
   {
    "duration": 7,
    "start_time": "2021-11-23T09:32:57.881Z"
   },
   {
    "duration": 604,
    "start_time": "2021-11-23T09:33:01.157Z"
   },
   {
    "duration": 9,
    "start_time": "2021-11-23T09:33:05.030Z"
   },
   {
    "duration": 4,
    "start_time": "2021-11-23T09:33:06.902Z"
   },
   {
    "duration": 251,
    "start_time": "2021-11-23T09:33:08.763Z"
   },
   {
    "duration": 241,
    "start_time": "2021-11-23T09:36:26.353Z"
   },
   {
    "duration": 253,
    "start_time": "2021-11-23T09:36:41.850Z"
   },
   {
    "duration": 342,
    "start_time": "2021-11-23T09:38:12.786Z"
   },
   {
    "duration": 266,
    "start_time": "2021-11-23T09:39:58.391Z"
   },
   {
    "duration": 451,
    "start_time": "2021-11-23T09:41:16.487Z"
   },
   {
    "duration": 243,
    "start_time": "2021-11-23T09:41:50.270Z"
   },
   {
    "duration": 313,
    "start_time": "2021-11-23T09:43:22.238Z"
   },
   {
    "duration": 7,
    "start_time": "2021-11-23T09:44:24.304Z"
   },
   {
    "duration": 9,
    "start_time": "2021-11-23T09:45:29.608Z"
   },
   {
    "duration": 5,
    "start_time": "2021-11-23T09:46:37.450Z"
   },
   {
    "duration": 6,
    "start_time": "2021-11-23T09:48:32.635Z"
   },
   {
    "duration": 6,
    "start_time": "2021-11-23T09:48:38.842Z"
   },
   {
    "duration": 8,
    "start_time": "2021-11-23T09:48:40.324Z"
   },
   {
    "duration": 789,
    "start_time": "2021-11-23T09:48:48.930Z"
   },
   {
    "duration": 92,
    "start_time": "2021-11-23T09:48:49.722Z"
   },
   {
    "duration": 41,
    "start_time": "2021-11-23T09:48:49.816Z"
   },
   {
    "duration": 30,
    "start_time": "2021-11-23T09:48:49.859Z"
   },
   {
    "duration": 15,
    "start_time": "2021-11-23T09:48:49.891Z"
   },
   {
    "duration": 36,
    "start_time": "2021-11-23T09:48:49.907Z"
   },
   {
    "duration": 441,
    "start_time": "2021-11-23T09:48:49.944Z"
   },
   {
    "duration": 11,
    "start_time": "2021-11-23T09:48:50.387Z"
   },
   {
    "duration": 321,
    "start_time": "2021-11-23T09:48:50.400Z"
   },
   {
    "duration": -251,
    "start_time": "2021-11-23T09:48:50.974Z"
   },
   {
    "duration": -254,
    "start_time": "2021-11-23T09:48:50.978Z"
   },
   {
    "duration": -258,
    "start_time": "2021-11-23T09:48:50.983Z"
   },
   {
    "duration": -269,
    "start_time": "2021-11-23T09:48:50.995Z"
   },
   {
    "duration": -273,
    "start_time": "2021-11-23T09:48:51.000Z"
   },
   {
    "duration": -274,
    "start_time": "2021-11-23T09:48:51.003Z"
   },
   {
    "duration": -283,
    "start_time": "2021-11-23T09:48:51.014Z"
   },
   {
    "duration": -288,
    "start_time": "2021-11-23T09:48:51.020Z"
   },
   {
    "duration": -290,
    "start_time": "2021-11-23T09:48:51.023Z"
   },
   {
    "duration": -292,
    "start_time": "2021-11-23T09:48:51.027Z"
   },
   {
    "duration": -295,
    "start_time": "2021-11-23T09:48:51.031Z"
   },
   {
    "duration": -299,
    "start_time": "2021-11-23T09:48:51.036Z"
   },
   {
    "duration": -304,
    "start_time": "2021-11-23T09:48:51.042Z"
   },
   {
    "duration": -311,
    "start_time": "2021-11-23T09:48:51.051Z"
   },
   {
    "duration": -316,
    "start_time": "2021-11-23T09:48:51.057Z"
   },
   {
    "duration": -327,
    "start_time": "2021-11-23T09:48:51.069Z"
   },
   {
    "duration": -330,
    "start_time": "2021-11-23T09:48:51.073Z"
   },
   {
    "duration": -333,
    "start_time": "2021-11-23T09:48:51.077Z"
   },
   {
    "duration": -334,
    "start_time": "2021-11-23T09:48:51.080Z"
   },
   {
    "duration": -337,
    "start_time": "2021-11-23T09:48:51.084Z"
   },
   {
    "duration": -346,
    "start_time": "2021-11-23T09:48:51.095Z"
   },
   {
    "duration": -350,
    "start_time": "2021-11-23T09:48:51.100Z"
   },
   {
    "duration": -352,
    "start_time": "2021-11-23T09:48:51.103Z"
   },
   {
    "duration": -354,
    "start_time": "2021-11-23T09:48:51.107Z"
   },
   {
    "duration": -356,
    "start_time": "2021-11-23T09:48:51.110Z"
   },
   {
    "duration": -358,
    "start_time": "2021-11-23T09:48:51.113Z"
   },
   {
    "duration": 3,
    "start_time": "2021-11-23T09:48:57.320Z"
   },
   {
    "duration": 87,
    "start_time": "2021-11-23T09:48:59.137Z"
   },
   {
    "duration": 7,
    "start_time": "2021-11-23T09:49:06.314Z"
   },
   {
    "duration": 9,
    "start_time": "2021-11-23T09:49:07.632Z"
   },
   {
    "duration": 6,
    "start_time": "2021-11-23T09:49:08.578Z"
   },
   {
    "duration": 4,
    "start_time": "2021-11-23T09:49:09.427Z"
   },
   {
    "duration": 120,
    "start_time": "2021-11-23T09:49:10.629Z"
   },
   {
    "duration": 9,
    "start_time": "2021-11-23T09:49:13.677Z"
   },
   {
    "duration": 3,
    "start_time": "2021-11-23T09:49:15.879Z"
   },
   {
    "duration": 12,
    "start_time": "2021-11-23T09:49:17.678Z"
   },
   {
    "duration": 22,
    "start_time": "2021-11-23T09:49:18.787Z"
   },
   {
    "duration": 5,
    "start_time": "2021-11-23T09:49:20.903Z"
   },
   {
    "duration": 4,
    "start_time": "2021-11-23T09:49:21.908Z"
   },
   {
    "duration": 29,
    "start_time": "2021-11-23T09:49:22.668Z"
   },
   {
    "duration": 13,
    "start_time": "2021-11-23T09:49:24.248Z"
   },
   {
    "duration": 25,
    "start_time": "2021-11-23T09:49:25.159Z"
   },
   {
    "duration": 7,
    "start_time": "2021-11-23T09:49:27.227Z"
   },
   {
    "duration": 6,
    "start_time": "2021-11-23T09:49:28.468Z"
   },
   {
    "duration": 22,
    "start_time": "2021-11-23T09:49:29.464Z"
   },
   {
    "duration": 701,
    "start_time": "2021-11-23T09:49:31.175Z"
   },
   {
    "duration": 22,
    "start_time": "2021-11-23T09:49:33.000Z"
   },
   {
    "duration": 5,
    "start_time": "2021-11-23T09:49:35.287Z"
   },
   {
    "duration": 194,
    "start_time": "2021-11-23T09:49:36.441Z"
   },
   {
    "duration": 8,
    "start_time": "2021-11-23T09:49:40.128Z"
   },
   {
    "duration": 661,
    "start_time": "2021-11-23T09:49:52.642Z"
   },
   {
    "duration": 13,
    "start_time": "2021-11-23T09:49:55.410Z"
   },
   {
    "duration": 4,
    "start_time": "2021-11-23T09:49:59.069Z"
   },
   {
    "duration": 8,
    "start_time": "2021-11-23T09:50:00.026Z"
   },
   {
    "duration": 6,
    "start_time": "2021-11-23T09:50:01.573Z"
   },
   {
    "duration": 7,
    "start_time": "2021-11-23T09:50:57.178Z"
   },
   {
    "duration": 533,
    "start_time": "2021-11-23T09:51:27.028Z"
   },
   {
    "duration": 7,
    "start_time": "2021-11-23T09:51:56.682Z"
   },
   {
    "duration": 1328,
    "start_time": "2021-11-23T09:51:58.970Z"
   },
   {
    "duration": 7,
    "start_time": "2021-11-23T09:53:04.380Z"
   },
   {
    "duration": 1268,
    "start_time": "2021-11-23T09:53:07.891Z"
   },
   {
    "duration": 732,
    "start_time": "2021-11-23T09:55:13.963Z"
   },
   {
    "duration": 798,
    "start_time": "2021-11-23T09:55:32.801Z"
   },
   {
    "duration": 601,
    "start_time": "2021-11-23T09:55:46.293Z"
   },
   {
    "duration": 566,
    "start_time": "2021-11-23T09:56:23.331Z"
   },
   {
    "duration": 554,
    "start_time": "2021-11-23T09:57:06.649Z"
   },
   {
    "duration": 642,
    "start_time": "2021-11-23T09:57:57.782Z"
   },
   {
    "duration": 7,
    "start_time": "2021-11-23T09:59:55.159Z"
   },
   {
    "duration": 1309,
    "start_time": "2021-11-23T10:00:12.118Z"
   },
   {
    "duration": 9,
    "start_time": "2021-11-23T10:02:05.527Z"
   },
   {
    "duration": 1352,
    "start_time": "2021-11-23T10:02:08.326Z"
   },
   {
    "duration": 1402,
    "start_time": "2021-11-23T10:08:19.113Z"
   },
   {
    "duration": 1368,
    "start_time": "2021-11-23T10:11:32.476Z"
   },
   {
    "duration": 1308,
    "start_time": "2021-11-23T10:11:40.311Z"
   },
   {
    "duration": 891,
    "start_time": "2021-11-25T14:07:38.404Z"
   },
   {
    "duration": 88,
    "start_time": "2021-11-25T14:07:39.298Z"
   },
   {
    "duration": 48,
    "start_time": "2021-11-25T14:07:39.389Z"
   },
   {
    "duration": 32,
    "start_time": "2021-11-25T14:07:39.440Z"
   },
   {
    "duration": 12,
    "start_time": "2021-11-25T14:07:39.475Z"
   },
   {
    "duration": 14,
    "start_time": "2021-11-25T14:07:39.489Z"
   },
   {
    "duration": 741,
    "start_time": "2021-11-25T14:07:39.506Z"
   },
   {
    "duration": 25,
    "start_time": "2021-11-25T14:07:40.249Z"
   },
   {
    "duration": 505,
    "start_time": "2021-11-25T14:07:40.280Z"
   },
   {
    "duration": -1318,
    "start_time": "2021-11-25T14:07:42.107Z"
   },
   {
    "duration": -1319,
    "start_time": "2021-11-25T14:07:42.111Z"
   },
   {
    "duration": -1321,
    "start_time": "2021-11-25T14:07:42.115Z"
   },
   {
    "duration": -1345,
    "start_time": "2021-11-25T14:07:42.141Z"
   },
   {
    "duration": -1347,
    "start_time": "2021-11-25T14:07:42.146Z"
   },
   {
    "duration": -1349,
    "start_time": "2021-11-25T14:07:42.150Z"
   },
   {
    "duration": -1351,
    "start_time": "2021-11-25T14:07:42.154Z"
   },
   {
    "duration": -1353,
    "start_time": "2021-11-25T14:07:42.158Z"
   },
   {
    "duration": -1355,
    "start_time": "2021-11-25T14:07:42.163Z"
   },
   {
    "duration": -1358,
    "start_time": "2021-11-25T14:07:42.168Z"
   },
   {
    "duration": -1360,
    "start_time": "2021-11-25T14:07:42.172Z"
   },
   {
    "duration": -1371,
    "start_time": "2021-11-25T14:07:42.184Z"
   },
   {
    "duration": -1373,
    "start_time": "2021-11-25T14:07:42.188Z"
   },
   {
    "duration": -1378,
    "start_time": "2021-11-25T14:07:42.194Z"
   },
   {
    "duration": -1382,
    "start_time": "2021-11-25T14:07:42.199Z"
   },
   {
    "duration": -1387,
    "start_time": "2021-11-25T14:07:42.205Z"
   },
   {
    "duration": -1394,
    "start_time": "2021-11-25T14:07:42.214Z"
   },
   {
    "duration": -1400,
    "start_time": "2021-11-25T14:07:42.221Z"
   },
   {
    "duration": -1403,
    "start_time": "2021-11-25T14:07:42.226Z"
   },
   {
    "duration": -1408,
    "start_time": "2021-11-25T14:07:42.232Z"
   },
   {
    "duration": -1410,
    "start_time": "2021-11-25T14:07:42.235Z"
   },
   {
    "duration": -1412,
    "start_time": "2021-11-25T14:07:42.239Z"
   },
   {
    "duration": -1415,
    "start_time": "2021-11-25T14:07:42.243Z"
   },
   {
    "duration": -1387,
    "start_time": "2021-11-25T14:07:42.246Z"
   },
   {
    "duration": -1388,
    "start_time": "2021-11-25T14:07:42.250Z"
   },
   {
    "duration": -1390,
    "start_time": "2021-11-25T14:07:42.254Z"
   },
   {
    "duration": 4,
    "start_time": "2021-11-25T14:08:06.446Z"
   },
   {
    "duration": 90,
    "start_time": "2021-11-25T14:08:10.265Z"
   },
   {
    "duration": 10,
    "start_time": "2021-11-25T14:08:17.550Z"
   },
   {
    "duration": 9,
    "start_time": "2021-11-25T14:08:22.535Z"
   },
   {
    "duration": 8,
    "start_time": "2021-11-25T14:08:23.810Z"
   },
   {
    "duration": 5,
    "start_time": "2021-11-25T14:08:24.775Z"
   },
   {
    "duration": 131,
    "start_time": "2021-11-25T14:08:27.430Z"
   },
   {
    "duration": 12,
    "start_time": "2021-11-25T14:08:28.606Z"
   },
   {
    "duration": 4,
    "start_time": "2021-11-25T14:08:31.616Z"
   },
   {
    "duration": 12,
    "start_time": "2021-11-25T14:08:32.815Z"
   },
   {
    "duration": 37,
    "start_time": "2021-11-25T14:08:33.769Z"
   },
   {
    "duration": 5,
    "start_time": "2021-11-25T14:08:36.709Z"
   },
   {
    "duration": 5,
    "start_time": "2021-11-25T14:08:37.775Z"
   },
   {
    "duration": 36,
    "start_time": "2021-11-25T14:08:38.533Z"
   },
   {
    "duration": 18,
    "start_time": "2021-11-25T14:08:40.497Z"
   },
   {
    "duration": 35,
    "start_time": "2021-11-25T14:08:41.276Z"
   },
   {
    "duration": 7,
    "start_time": "2021-11-25T14:08:43.050Z"
   },
   {
    "duration": 7,
    "start_time": "2021-11-25T14:08:44.289Z"
   },
   {
    "duration": 36,
    "start_time": "2021-11-25T14:08:45.342Z"
   },
   {
    "duration": 844,
    "start_time": "2021-11-25T14:08:47.641Z"
   },
   {
    "duration": 40,
    "start_time": "2021-11-25T14:08:49.697Z"
   },
   {
    "duration": 8,
    "start_time": "2021-11-25T14:08:51.800Z"
   },
   {
    "duration": 349,
    "start_time": "2021-11-25T14:08:52.676Z"
   },
   {
    "duration": 10,
    "start_time": "2021-11-25T14:08:56.145Z"
   },
   {
    "duration": 990,
    "start_time": "2021-11-25T14:09:03.284Z"
   },
   {
    "duration": 13,
    "start_time": "2021-11-25T14:09:22.356Z"
   },
   {
    "duration": 4,
    "start_time": "2021-11-25T14:09:25.409Z"
   },
   {
    "duration": 12,
    "start_time": "2021-11-25T14:09:28.760Z"
   },
   {
    "duration": 2169,
    "start_time": "2021-11-25T14:09:33.634Z"
   },
   {
    "duration": 11,
    "start_time": "2021-11-25T14:21:22.835Z"
   },
   {
    "duration": 10,
    "start_time": "2021-11-25T14:22:57.024Z"
   },
   {
    "duration": 11,
    "start_time": "2021-11-25T14:23:28.407Z"
   },
   {
    "duration": 914,
    "start_time": "2021-11-25T14:25:06.760Z"
   },
   {
    "duration": 929,
    "start_time": "2021-11-25T14:26:12.947Z"
   },
   {
    "duration": 2884,
    "start_time": "2021-11-25T14:28:06.854Z"
   },
   {
    "duration": 2091,
    "start_time": "2021-11-25T14:28:30.819Z"
   },
   {
    "duration": 2168,
    "start_time": "2021-11-25T14:28:52.628Z"
   },
   {
    "duration": 1070,
    "start_time": "2021-11-25T14:29:00.414Z"
   },
   {
    "duration": 91,
    "start_time": "2021-11-25T14:29:01.486Z"
   },
   {
    "duration": 47,
    "start_time": "2021-11-25T14:29:01.580Z"
   },
   {
    "duration": 36,
    "start_time": "2021-11-25T14:29:01.631Z"
   },
   {
    "duration": 22,
    "start_time": "2021-11-25T14:29:01.671Z"
   },
   {
    "duration": 14,
    "start_time": "2021-11-25T14:29:01.696Z"
   },
   {
    "duration": 894,
    "start_time": "2021-11-25T14:29:01.713Z"
   },
   {
    "duration": 25,
    "start_time": "2021-11-25T14:29:02.611Z"
   },
   {
    "duration": 538,
    "start_time": "2021-11-25T14:29:02.643Z"
   },
   {
    "duration": -1337,
    "start_time": "2021-11-25T14:29:04.523Z"
   },
   {
    "duration": -1340,
    "start_time": "2021-11-25T14:29:04.527Z"
   },
   {
    "duration": -1359,
    "start_time": "2021-11-25T14:29:04.549Z"
   },
   {
    "duration": -1367,
    "start_time": "2021-11-25T14:29:04.559Z"
   },
   {
    "duration": -1368,
    "start_time": "2021-11-25T14:29:04.562Z"
   },
   {
    "duration": -1370,
    "start_time": "2021-11-25T14:29:04.566Z"
   },
   {
    "duration": -1372,
    "start_time": "2021-11-25T14:29:04.570Z"
   },
   {
    "duration": -1373,
    "start_time": "2021-11-25T14:29:04.573Z"
   },
   {
    "duration": -1375,
    "start_time": "2021-11-25T14:29:04.577Z"
   },
   {
    "duration": -1376,
    "start_time": "2021-11-25T14:29:04.580Z"
   },
   {
    "duration": -1379,
    "start_time": "2021-11-25T14:29:04.586Z"
   },
   {
    "duration": -1382,
    "start_time": "2021-11-25T14:29:04.591Z"
   },
   {
    "duration": -1394,
    "start_time": "2021-11-25T14:29:04.605Z"
   },
   {
    "duration": -1397,
    "start_time": "2021-11-25T14:29:04.610Z"
   },
   {
    "duration": -1400,
    "start_time": "2021-11-25T14:29:04.615Z"
   },
   {
    "duration": -1403,
    "start_time": "2021-11-25T14:29:04.620Z"
   },
   {
    "duration": -1404,
    "start_time": "2021-11-25T14:29:04.623Z"
   },
   {
    "duration": -1405,
    "start_time": "2021-11-25T14:29:04.626Z"
   },
   {
    "duration": -1407,
    "start_time": "2021-11-25T14:29:04.630Z"
   },
   {
    "duration": -1370,
    "start_time": "2021-11-25T14:29:04.634Z"
   },
   {
    "duration": -1380,
    "start_time": "2021-11-25T14:29:04.646Z"
   },
   {
    "duration": -1381,
    "start_time": "2021-11-25T14:29:04.650Z"
   },
   {
    "duration": -1382,
    "start_time": "2021-11-25T14:29:04.653Z"
   },
   {
    "duration": -1384,
    "start_time": "2021-11-25T14:29:04.657Z"
   },
   {
    "duration": -1384,
    "start_time": "2021-11-25T14:29:04.660Z"
   },
   {
    "duration": -1386,
    "start_time": "2021-11-25T14:29:04.664Z"
   },
   {
    "duration": 4,
    "start_time": "2021-11-25T14:29:11.147Z"
   },
   {
    "duration": 88,
    "start_time": "2021-11-25T14:29:12.881Z"
   },
   {
    "duration": 8,
    "start_time": "2021-11-25T14:29:22.379Z"
   },
   {
    "duration": 13,
    "start_time": "2021-11-25T14:29:23.658Z"
   },
   {
    "duration": 8,
    "start_time": "2021-11-25T14:29:28.322Z"
   },
   {
    "duration": 5,
    "start_time": "2021-11-25T14:29:29.456Z"
   },
   {
    "duration": 144,
    "start_time": "2021-11-25T14:29:30.815Z"
   },
   {
    "duration": 13,
    "start_time": "2021-11-25T14:29:32.360Z"
   },
   {
    "duration": 5,
    "start_time": "2021-11-25T14:29:35.586Z"
   },
   {
    "duration": 12,
    "start_time": "2021-11-25T14:29:36.653Z"
   },
   {
    "duration": 36,
    "start_time": "2021-11-25T14:29:37.649Z"
   },
   {
    "duration": 6,
    "start_time": "2021-11-25T14:29:39.757Z"
   },
   {
    "duration": 6,
    "start_time": "2021-11-25T14:29:40.894Z"
   },
   {
    "duration": 36,
    "start_time": "2021-11-25T14:29:41.692Z"
   },
   {
    "duration": 17,
    "start_time": "2021-11-25T14:29:43.169Z"
   },
   {
    "duration": 40,
    "start_time": "2021-11-25T14:29:43.967Z"
   },
   {
    "duration": 8,
    "start_time": "2021-11-25T14:29:45.305Z"
   },
   {
    "duration": 8,
    "start_time": "2021-11-25T14:29:46.389Z"
   },
   {
    "duration": 40,
    "start_time": "2021-11-25T14:29:47.383Z"
   },
   {
    "duration": 828,
    "start_time": "2021-11-25T14:29:49.056Z"
   },
   {
    "duration": 39,
    "start_time": "2021-11-25T14:29:51.272Z"
   },
   {
    "duration": 7,
    "start_time": "2021-11-25T14:29:53.022Z"
   },
   {
    "duration": 349,
    "start_time": "2021-11-25T14:29:53.958Z"
   },
   {
    "duration": 12,
    "start_time": "2021-11-25T14:29:56.592Z"
   },
   {
    "duration": 1105,
    "start_time": "2021-11-25T14:29:58.779Z"
   },
   {
    "duration": 12,
    "start_time": "2021-11-25T14:30:03.633Z"
   },
   {
    "duration": 5,
    "start_time": "2021-11-25T14:30:06.685Z"
   },
   {
    "duration": 11,
    "start_time": "2021-11-25T14:30:11.218Z"
   },
   {
    "duration": 2408,
    "start_time": "2021-11-25T14:30:15.808Z"
   },
   {
    "duration": 2847,
    "start_time": "2021-11-25T14:30:35.050Z"
   },
   {
    "duration": 12,
    "start_time": "2021-11-25T14:36:36.775Z"
   },
   {
    "duration": 2979,
    "start_time": "2021-11-25T14:36:45.485Z"
   },
   {
    "duration": 10,
    "start_time": "2021-11-25T14:37:53.152Z"
   },
   {
    "duration": 957,
    "start_time": "2021-11-25T14:37:56.716Z"
   },
   {
    "duration": 13,
    "start_time": "2021-11-25T14:38:05.937Z"
   },
   {
    "duration": 999,
    "start_time": "2021-11-25T14:40:25.576Z"
   },
   {
    "duration": 961,
    "start_time": "2021-11-25T14:41:16.559Z"
   },
   {
    "duration": 1355,
    "start_time": "2021-11-25T14:43:10.957Z"
   },
   {
    "duration": 13,
    "start_time": "2021-11-25T14:43:28.823Z"
   },
   {
    "duration": 11,
    "start_time": "2021-11-25T14:45:00.642Z"
   },
   {
    "duration": 917,
    "start_time": "2021-11-25T14:45:02.576Z"
   },
   {
    "duration": 12,
    "start_time": "2021-11-25T14:45:26.479Z"
   },
   {
    "duration": 12,
    "start_time": "2021-11-25T14:46:01.244Z"
   },
   {
    "duration": 3027,
    "start_time": "2021-11-25T14:46:07.921Z"
   },
   {
    "duration": 25,
    "start_time": "2021-11-25T15:00:23.184Z"
   },
   {
    "duration": 324,
    "start_time": "2021-11-25T15:00:32.325Z"
   },
   {
    "duration": 787,
    "start_time": "2021-11-25T15:31:28.778Z"
   },
   {
    "duration": 718,
    "start_time": "2021-11-25T15:31:51.503Z"
   },
   {
    "duration": 715,
    "start_time": "2021-11-25T15:32:37.457Z"
   },
   {
    "duration": 361,
    "start_time": "2021-11-25T16:01:56.230Z"
   },
   {
    "duration": 662,
    "start_time": "2021-11-25T16:03:20.122Z"
   },
   {
    "duration": 108,
    "start_time": "2021-11-25T16:05:00.476Z"
   },
   {
    "duration": 66,
    "start_time": "2021-11-25T16:16:10.298Z"
   },
   {
    "duration": 128,
    "start_time": "2021-11-25T16:16:38.707Z"
   },
   {
    "duration": 5,
    "start_time": "2021-11-25T16:17:45.589Z"
   },
   {
    "duration": 124,
    "start_time": "2021-11-25T16:18:15.994Z"
   },
   {
    "duration": 370,
    "start_time": "2021-11-25T16:20:27.944Z"
   },
   {
    "duration": 4,
    "start_time": "2021-11-25T16:21:50.960Z"
   },
   {
    "duration": 419,
    "start_time": "2021-11-25T16:22:07.908Z"
   },
   {
    "duration": 878,
    "start_time": "2021-11-25T16:22:17.753Z"
   },
   {
    "duration": 91,
    "start_time": "2021-11-25T16:22:18.634Z"
   },
   {
    "duration": 54,
    "start_time": "2021-11-25T16:22:18.729Z"
   },
   {
    "duration": 15,
    "start_time": "2021-11-25T16:22:18.786Z"
   },
   {
    "duration": 11,
    "start_time": "2021-11-25T16:22:18.804Z"
   },
   {
    "duration": 56,
    "start_time": "2021-11-25T16:22:18.818Z"
   },
   {
    "duration": 707,
    "start_time": "2021-11-25T16:22:18.877Z"
   },
   {
    "duration": 17,
    "start_time": "2021-11-25T16:22:19.589Z"
   },
   {
    "duration": 469,
    "start_time": "2021-11-25T16:22:19.609Z"
   },
   {
    "duration": -101,
    "start_time": "2021-11-25T16:22:20.182Z"
   },
   {
    "duration": -105,
    "start_time": "2021-11-25T16:22:20.188Z"
   },
   {
    "duration": -125,
    "start_time": "2021-11-25T16:22:20.209Z"
   },
   {
    "duration": -132,
    "start_time": "2021-11-25T16:22:20.218Z"
   },
   {
    "duration": -136,
    "start_time": "2021-11-25T16:22:20.223Z"
   },
   {
    "duration": -138,
    "start_time": "2021-11-25T16:22:20.227Z"
   },
   {
    "duration": -140,
    "start_time": "2021-11-25T16:22:20.230Z"
   },
   {
    "duration": -143,
    "start_time": "2021-11-25T16:22:20.234Z"
   },
   {
    "duration": -147,
    "start_time": "2021-11-25T16:22:20.240Z"
   },
   {
    "duration": -150,
    "start_time": "2021-11-25T16:22:20.244Z"
   },
   {
    "duration": -152,
    "start_time": "2021-11-25T16:22:20.248Z"
   },
   {
    "duration": -162,
    "start_time": "2021-11-25T16:22:20.259Z"
   },
   {
    "duration": -164,
    "start_time": "2021-11-25T16:22:20.263Z"
   },
   {
    "duration": -168,
    "start_time": "2021-11-25T16:22:20.268Z"
   },
   {
    "duration": -171,
    "start_time": "2021-11-25T16:22:20.272Z"
   },
   {
    "duration": -173,
    "start_time": "2021-11-25T16:22:20.276Z"
   },
   {
    "duration": -176,
    "start_time": "2021-11-25T16:22:20.280Z"
   },
   {
    "duration": -179,
    "start_time": "2021-11-25T16:22:20.285Z"
   },
   {
    "duration": -183,
    "start_time": "2021-11-25T16:22:20.290Z"
   },
   {
    "duration": -186,
    "start_time": "2021-11-25T16:22:20.294Z"
   },
   {
    "duration": -188,
    "start_time": "2021-11-25T16:22:20.298Z"
   },
   {
    "duration": -190,
    "start_time": "2021-11-25T16:22:20.301Z"
   },
   {
    "duration": -222,
    "start_time": "2021-11-25T16:22:20.335Z"
   },
   {
    "duration": -223,
    "start_time": "2021-11-25T16:22:20.339Z"
   },
   {
    "duration": -228,
    "start_time": "2021-11-25T16:22:20.386Z"
   },
   {
    "duration": -229,
    "start_time": "2021-11-25T16:22:20.390Z"
   },
   {
    "duration": -232,
    "start_time": "2021-11-25T16:22:20.394Z"
   },
   {
    "duration": -233,
    "start_time": "2021-11-25T16:22:20.397Z"
   },
   {
    "duration": -236,
    "start_time": "2021-11-25T16:22:20.401Z"
   },
   {
    "duration": -237,
    "start_time": "2021-11-25T16:22:20.404Z"
   },
   {
    "duration": -239,
    "start_time": "2021-11-25T16:22:20.408Z"
   },
   {
    "duration": -241,
    "start_time": "2021-11-25T16:22:20.411Z"
   },
   {
    "duration": -244,
    "start_time": "2021-11-25T16:22:20.415Z"
   },
   {
    "duration": 4,
    "start_time": "2021-11-25T16:22:35.064Z"
   },
   {
    "duration": 85,
    "start_time": "2021-11-25T16:22:37.115Z"
   },
   {
    "duration": 7,
    "start_time": "2021-11-25T16:22:43.187Z"
   },
   {
    "duration": 10,
    "start_time": "2021-11-25T16:22:44.659Z"
   },
   {
    "duration": 8,
    "start_time": "2021-11-25T16:22:45.546Z"
   },
   {
    "duration": 5,
    "start_time": "2021-11-25T16:22:46.315Z"
   },
   {
    "duration": 140,
    "start_time": "2021-11-25T16:22:47.344Z"
   },
   {
    "duration": 12,
    "start_time": "2021-11-25T16:22:50.197Z"
   },
   {
    "duration": 5,
    "start_time": "2021-11-25T16:22:52.421Z"
   },
   {
    "duration": 11,
    "start_time": "2021-11-25T16:22:53.383Z"
   },
   {
    "duration": 35,
    "start_time": "2021-11-25T16:22:54.103Z"
   },
   {
    "duration": 6,
    "start_time": "2021-11-25T16:22:55.848Z"
   },
   {
    "duration": 5,
    "start_time": "2021-11-25T16:22:56.916Z"
   },
   {
    "duration": 34,
    "start_time": "2021-11-25T16:22:57.719Z"
   },
   {
    "duration": 19,
    "start_time": "2021-11-25T16:22:59.412Z"
   },
   {
    "duration": 37,
    "start_time": "2021-11-25T16:23:00.251Z"
   },
   {
    "duration": 8,
    "start_time": "2021-11-25T16:23:01.688Z"
   },
   {
    "duration": 8,
    "start_time": "2021-11-25T16:23:02.809Z"
   },
   {
    "duration": 35,
    "start_time": "2021-11-25T16:23:03.570Z"
   },
   {
    "duration": 951,
    "start_time": "2021-11-25T16:23:05.975Z"
   },
   {
    "duration": 60,
    "start_time": "2021-11-25T16:23:08.192Z"
   },
   {
    "duration": 8,
    "start_time": "2021-11-25T16:23:10.377Z"
   },
   {
    "duration": 469,
    "start_time": "2021-11-25T16:23:11.101Z"
   },
   {
    "duration": 13,
    "start_time": "2021-11-25T16:23:16.152Z"
   },
   {
    "duration": 930,
    "start_time": "2021-11-25T16:23:17.762Z"
   },
   {
    "duration": 15,
    "start_time": "2021-11-25T16:23:20.686Z"
   },
   {
    "duration": 5,
    "start_time": "2021-11-25T16:23:22.319Z"
   },
   {
    "duration": 11,
    "start_time": "2021-11-25T16:23:25.521Z"
   },
   {
    "duration": 2902,
    "start_time": "2021-11-25T16:23:29.551Z"
   },
   {
    "duration": 24,
    "start_time": "2021-11-25T16:23:34.928Z"
   },
   {
    "duration": 327,
    "start_time": "2021-11-25T16:23:36.121Z"
   },
   {
    "duration": 696,
    "start_time": "2021-11-25T16:23:38.937Z"
   },
   {
    "duration": 271,
    "start_time": "2021-11-25T16:23:42.012Z"
   },
   {
    "duration": 678,
    "start_time": "2021-11-25T16:23:44.333Z"
   },
   {
    "duration": 113,
    "start_time": "2021-11-25T16:23:46.911Z"
   },
   {
    "duration": 397,
    "start_time": "2021-11-25T16:23:49.165Z"
   },
   {
    "duration": 400,
    "start_time": "2021-11-25T16:30:09.586Z"
   },
   {
    "duration": 421,
    "start_time": "2021-11-25T16:32:21.060Z"
   },
   {
    "duration": 472,
    "start_time": "2021-11-25T16:33:29.536Z"
   },
   {
    "duration": 415,
    "start_time": "2021-11-25T16:33:39.268Z"
   },
   {
    "duration": 397,
    "start_time": "2021-11-25T16:34:15.218Z"
   },
   {
    "duration": 241,
    "start_time": "2021-11-25T16:40:45.326Z"
   },
   {
    "duration": 286,
    "start_time": "2021-11-25T16:41:24.157Z"
   },
   {
    "duration": 239,
    "start_time": "2021-11-25T16:42:12.458Z"
   },
   {
    "duration": 37,
    "start_time": "2021-11-25T16:50:31.383Z"
   },
   {
    "duration": 387,
    "start_time": "2021-11-25T17:07:52.300Z"
   },
   {
    "duration": 36,
    "start_time": "2021-11-25T17:08:57.714Z"
   },
   {
    "duration": 13,
    "start_time": "2021-11-25T17:09:26.337Z"
   },
   {
    "duration": 6698,
    "start_time": "2021-11-25T17:09:40.091Z"
   },
   {
    "duration": 391,
    "start_time": "2021-11-25T17:10:20.500Z"
   },
   {
    "duration": 890,
    "start_time": "2021-11-25T17:10:36.358Z"
   },
   {
    "duration": 87,
    "start_time": "2021-11-25T17:10:37.250Z"
   },
   {
    "duration": 55,
    "start_time": "2021-11-25T17:10:37.343Z"
   },
   {
    "duration": 18,
    "start_time": "2021-11-25T17:10:37.400Z"
   },
   {
    "duration": 44,
    "start_time": "2021-11-25T17:10:37.421Z"
   },
   {
    "duration": 14,
    "start_time": "2021-11-25T17:10:37.468Z"
   },
   {
    "duration": 725,
    "start_time": "2021-11-25T17:10:37.485Z"
   },
   {
    "duration": 17,
    "start_time": "2021-11-25T17:10:38.213Z"
   },
   {
    "duration": 454,
    "start_time": "2021-11-25T17:10:38.232Z"
   },
   {
    "duration": -131,
    "start_time": "2021-11-25T17:10:38.821Z"
   },
   {
    "duration": -134,
    "start_time": "2021-11-25T17:10:38.825Z"
   },
   {
    "duration": -154,
    "start_time": "2021-11-25T17:10:38.847Z"
   },
   {
    "duration": -158,
    "start_time": "2021-11-25T17:10:38.852Z"
   },
   {
    "duration": -162,
    "start_time": "2021-11-25T17:10:38.857Z"
   },
   {
    "duration": -164,
    "start_time": "2021-11-25T17:10:38.861Z"
   },
   {
    "duration": -167,
    "start_time": "2021-11-25T17:10:38.865Z"
   },
   {
    "duration": -170,
    "start_time": "2021-11-25T17:10:38.869Z"
   },
   {
    "duration": -172,
    "start_time": "2021-11-25T17:10:38.873Z"
   },
   {
    "duration": -175,
    "start_time": "2021-11-25T17:10:38.877Z"
   },
   {
    "duration": -179,
    "start_time": "2021-11-25T17:10:38.882Z"
   },
   {
    "duration": -190,
    "start_time": "2021-11-25T17:10:38.894Z"
   },
   {
    "duration": -193,
    "start_time": "2021-11-25T17:10:38.899Z"
   },
   {
    "duration": -196,
    "start_time": "2021-11-25T17:10:38.903Z"
   },
   {
    "duration": -200,
    "start_time": "2021-11-25T17:10:38.908Z"
   },
   {
    "duration": -202,
    "start_time": "2021-11-25T17:10:38.912Z"
   },
   {
    "duration": -206,
    "start_time": "2021-11-25T17:10:38.917Z"
   },
   {
    "duration": -210,
    "start_time": "2021-11-25T17:10:38.922Z"
   },
   {
    "duration": -213,
    "start_time": "2021-11-25T17:10:38.926Z"
   },
   {
    "duration": -217,
    "start_time": "2021-11-25T17:10:38.932Z"
   },
   {
    "duration": -221,
    "start_time": "2021-11-25T17:10:38.937Z"
   },
   {
    "duration": -233,
    "start_time": "2021-11-25T17:10:38.950Z"
   },
   {
    "duration": -269,
    "start_time": "2021-11-25T17:10:38.988Z"
   },
   {
    "duration": -272,
    "start_time": "2021-11-25T17:10:38.992Z"
   },
   {
    "duration": -275,
    "start_time": "2021-11-25T17:10:38.996Z"
   },
   {
    "duration": -278,
    "start_time": "2021-11-25T17:10:39.000Z"
   },
   {
    "duration": -282,
    "start_time": "2021-11-25T17:10:39.005Z"
   },
   {
    "duration": -283,
    "start_time": "2021-11-25T17:10:39.008Z"
   },
   {
    "duration": -287,
    "start_time": "2021-11-25T17:10:39.013Z"
   },
   {
    "duration": -257,
    "start_time": "2021-11-25T17:10:39.016Z"
   },
   {
    "duration": -260,
    "start_time": "2021-11-25T17:10:39.020Z"
   },
   {
    "duration": -263,
    "start_time": "2021-11-25T17:10:39.025Z"
   },
   {
    "duration": -266,
    "start_time": "2021-11-25T17:10:39.029Z"
   },
   {
    "duration": -281,
    "start_time": "2021-11-25T17:10:39.045Z"
   },
   {
    "duration": -285,
    "start_time": "2021-11-25T17:10:39.051Z"
   },
   {
    "duration": -288,
    "start_time": "2021-11-25T17:10:39.055Z"
   },
   {
    "duration": -307,
    "start_time": "2021-11-25T17:10:39.075Z"
   },
   {
    "duration": -309,
    "start_time": "2021-11-25T17:10:39.078Z"
   },
   {
    "duration": 4,
    "start_time": "2021-11-25T17:10:45.389Z"
   },
   {
    "duration": 87,
    "start_time": "2021-11-25T17:10:46.526Z"
   },
   {
    "duration": 6,
    "start_time": "2021-11-25T17:10:53.504Z"
   },
   {
    "duration": 10,
    "start_time": "2021-11-25T17:10:54.824Z"
   },
   {
    "duration": 8,
    "start_time": "2021-11-25T17:10:56.597Z"
   },
   {
    "duration": 6,
    "start_time": "2021-11-25T17:10:58.389Z"
   },
   {
    "duration": 139,
    "start_time": "2021-11-25T17:10:59.511Z"
   },
   {
    "duration": 13,
    "start_time": "2021-11-25T17:11:00.586Z"
   },
   {
    "duration": 5,
    "start_time": "2021-11-25T17:11:02.985Z"
   },
   {
    "duration": 12,
    "start_time": "2021-11-25T17:11:04.053Z"
   },
   {
    "duration": 35,
    "start_time": "2021-11-25T17:11:04.892Z"
   },
   {
    "duration": 6,
    "start_time": "2021-11-25T17:11:06.829Z"
   },
   {
    "duration": 5,
    "start_time": "2021-11-25T17:11:07.952Z"
   },
   {
    "duration": 49,
    "start_time": "2021-11-25T17:11:08.849Z"
   },
   {
    "duration": 18,
    "start_time": "2021-11-25T17:11:10.640Z"
   },
   {
    "duration": 35,
    "start_time": "2021-11-25T17:11:11.439Z"
   },
   {
    "duration": 9,
    "start_time": "2021-11-25T17:11:12.896Z"
   },
   {
    "duration": 8,
    "start_time": "2021-11-25T17:11:14.097Z"
   },
   {
    "duration": 36,
    "start_time": "2021-11-25T17:11:14.936Z"
   },
   {
    "duration": 840,
    "start_time": "2021-11-25T17:11:17.534Z"
   },
   {
    "duration": 59,
    "start_time": "2021-11-25T17:11:19.357Z"
   },
   {
    "duration": 7,
    "start_time": "2021-11-25T17:11:21.306Z"
   },
   {
    "duration": 349,
    "start_time": "2021-11-25T17:11:22.223Z"
   },
   {
    "duration": 10,
    "start_time": "2021-11-25T17:11:25.125Z"
   },
   {
    "duration": 1002,
    "start_time": "2021-11-25T17:11:26.997Z"
   },
   {
    "duration": 12,
    "start_time": "2021-11-25T17:11:29.823Z"
   },
   {
    "duration": 5,
    "start_time": "2021-11-25T17:11:31.536Z"
   },
   {
    "duration": 11,
    "start_time": "2021-11-25T17:11:34.382Z"
   },
   {
    "duration": 2770,
    "start_time": "2021-11-25T17:11:36.275Z"
   },
   {
    "duration": 22,
    "start_time": "2021-11-25T17:11:41.221Z"
   },
   {
    "duration": 336,
    "start_time": "2021-11-25T17:11:42.650Z"
   },
   {
    "duration": 682,
    "start_time": "2021-11-25T17:11:45.506Z"
   },
   {
    "duration": 272,
    "start_time": "2021-11-25T17:11:47.913Z"
   },
   {
    "duration": 729,
    "start_time": "2021-11-25T17:11:49.848Z"
   },
   {
    "duration": 388,
    "start_time": "2021-11-25T17:11:51.993Z"
   },
   {
    "duration": 249,
    "start_time": "2021-11-25T17:11:54.102Z"
   },
   {
    "duration": 277,
    "start_time": "2021-11-25T17:11:55.721Z"
   },
   {
    "duration": 247,
    "start_time": "2021-11-25T17:11:57.032Z"
   },
   {
    "duration": 36,
    "start_time": "2021-11-25T17:11:59.565Z"
   },
   {
    "duration": 470,
    "start_time": "2021-11-25T17:12:02.452Z"
   },
   {
    "duration": 429,
    "start_time": "2021-11-25T17:13:38.772Z"
   },
   {
    "duration": 13,
    "start_time": "2021-11-25T17:19:17.482Z"
   },
   {
    "duration": 913,
    "start_time": "2021-11-25T17:20:38.133Z"
   },
   {
    "duration": 10893,
    "start_time": "2021-11-25T17:21:12.167Z"
   },
   {
    "duration": 853,
    "start_time": "2021-11-25T17:23:03.406Z"
   },
   {
    "duration": 91,
    "start_time": "2021-11-25T17:23:04.262Z"
   },
   {
    "duration": 50,
    "start_time": "2021-11-25T17:23:04.356Z"
   },
   {
    "duration": 14,
    "start_time": "2021-11-25T17:23:04.409Z"
   },
   {
    "duration": 43,
    "start_time": "2021-11-25T17:23:04.426Z"
   },
   {
    "duration": 14,
    "start_time": "2021-11-25T17:23:04.472Z"
   },
   {
    "duration": 700,
    "start_time": "2021-11-25T17:23:04.488Z"
   },
   {
    "duration": 17,
    "start_time": "2021-11-25T17:23:05.191Z"
   },
   {
    "duration": 473,
    "start_time": "2021-11-25T17:23:05.212Z"
   },
   {
    "duration": -279,
    "start_time": "2021-11-25T17:23:05.968Z"
   },
   {
    "duration": -281,
    "start_time": "2021-11-25T17:23:05.972Z"
   },
   {
    "duration": -285,
    "start_time": "2021-11-25T17:23:05.977Z"
   },
   {
    "duration": -473,
    "start_time": "2021-11-25T17:23:06.167Z"
   },
   {
    "duration": -485,
    "start_time": "2021-11-25T17:23:06.180Z"
   },
   {
    "duration": -487,
    "start_time": "2021-11-25T17:23:06.184Z"
   },
   {
    "duration": -492,
    "start_time": "2021-11-25T17:23:06.190Z"
   },
   {
    "duration": -494,
    "start_time": "2021-11-25T17:23:06.194Z"
   },
   {
    "duration": -498,
    "start_time": "2021-11-25T17:23:06.199Z"
   },
   {
    "duration": -500,
    "start_time": "2021-11-25T17:23:06.203Z"
   },
   {
    "duration": -503,
    "start_time": "2021-11-25T17:23:06.207Z"
   },
   {
    "duration": -506,
    "start_time": "2021-11-25T17:23:06.212Z"
   },
   {
    "duration": -509,
    "start_time": "2021-11-25T17:23:06.216Z"
   },
   {
    "duration": -511,
    "start_time": "2021-11-25T17:23:06.220Z"
   },
   {
    "duration": -514,
    "start_time": "2021-11-25T17:23:06.224Z"
   },
   {
    "duration": -516,
    "start_time": "2021-11-25T17:23:06.228Z"
   },
   {
    "duration": -518,
    "start_time": "2021-11-25T17:23:06.232Z"
   },
   {
    "duration": -522,
    "start_time": "2021-11-25T17:23:06.237Z"
   },
   {
    "duration": -525,
    "start_time": "2021-11-25T17:23:06.242Z"
   },
   {
    "duration": -530,
    "start_time": "2021-11-25T17:23:06.248Z"
   },
   {
    "duration": -533,
    "start_time": "2021-11-25T17:23:06.253Z"
   },
   {
    "duration": -535,
    "start_time": "2021-11-25T17:23:06.257Z"
   },
   {
    "duration": -538,
    "start_time": "2021-11-25T17:23:06.261Z"
   },
   {
    "duration": -541,
    "start_time": "2021-11-25T17:23:06.266Z"
   },
   {
    "duration": -586,
    "start_time": "2021-11-25T17:23:06.344Z"
   },
   {
    "duration": -691,
    "start_time": "2021-11-25T17:23:06.451Z"
   },
   {
    "duration": -727,
    "start_time": "2021-11-25T17:23:06.488Z"
   },
   {
    "duration": -730,
    "start_time": "2021-11-25T17:23:06.492Z"
   },
   {
    "duration": -738,
    "start_time": "2021-11-25T17:23:06.502Z"
   },
   {
    "duration": -742,
    "start_time": "2021-11-25T17:23:06.507Z"
   },
   {
    "duration": -745,
    "start_time": "2021-11-25T17:23:06.511Z"
   },
   {
    "duration": -747,
    "start_time": "2021-11-25T17:23:06.515Z"
   },
   {
    "duration": -749,
    "start_time": "2021-11-25T17:23:06.518Z"
   },
   {
    "duration": -753,
    "start_time": "2021-11-25T17:23:06.523Z"
   },
   {
    "duration": -755,
    "start_time": "2021-11-25T17:23:06.527Z"
   },
   {
    "duration": -757,
    "start_time": "2021-11-25T17:23:06.530Z"
   },
   {
    "duration": -760,
    "start_time": "2021-11-25T17:23:06.534Z"
   },
   {
    "duration": -764,
    "start_time": "2021-11-25T17:23:06.539Z"
   },
   {
    "duration": 4,
    "start_time": "2021-11-25T17:23:11.889Z"
   },
   {
    "duration": 87,
    "start_time": "2021-11-25T17:23:13.235Z"
   },
   {
    "duration": 7,
    "start_time": "2021-11-25T17:23:19.617Z"
   },
   {
    "duration": 10,
    "start_time": "2021-11-25T17:23:20.749Z"
   },
   {
    "duration": 8,
    "start_time": "2021-11-25T17:23:22.953Z"
   },
   {
    "duration": 6,
    "start_time": "2021-11-25T17:23:25.295Z"
   },
   {
    "duration": 273,
    "start_time": "2021-11-25T17:23:26.421Z"
   },
   {
    "duration": 13,
    "start_time": "2021-11-25T17:23:27.516Z"
   },
   {
    "duration": 5,
    "start_time": "2021-11-25T17:23:30.215Z"
   },
   {
    "duration": 12,
    "start_time": "2021-11-25T17:23:31.377Z"
   },
   {
    "duration": 39,
    "start_time": "2021-11-25T17:23:32.590Z"
   },
   {
    "duration": 6,
    "start_time": "2021-11-25T17:23:34.886Z"
   },
   {
    "duration": 5,
    "start_time": "2021-11-25T17:23:35.951Z"
   },
   {
    "duration": 36,
    "start_time": "2021-11-25T17:23:36.867Z"
   },
   {
    "duration": 17,
    "start_time": "2021-11-25T17:23:38.565Z"
   },
   {
    "duration": 36,
    "start_time": "2021-11-25T17:23:39.582Z"
   },
   {
    "duration": 10,
    "start_time": "2021-11-25T17:23:41.176Z"
   },
   {
    "duration": 8,
    "start_time": "2021-11-25T17:23:42.220Z"
   },
   {
    "duration": 38,
    "start_time": "2021-11-25T17:23:43.093Z"
   },
   {
    "duration": 842,
    "start_time": "2021-11-25T17:23:44.790Z"
   },
   {
    "duration": 62,
    "start_time": "2021-11-25T17:23:46.771Z"
   },
   {
    "duration": 7,
    "start_time": "2021-11-25T17:23:49.060Z"
   },
   {
    "duration": 350,
    "start_time": "2021-11-25T17:23:49.937Z"
   },
   {
    "duration": 11,
    "start_time": "2021-11-25T17:23:53.338Z"
   },
   {
    "duration": 939,
    "start_time": "2021-11-25T17:23:54.975Z"
   },
   {
    "duration": 15,
    "start_time": "2021-11-25T17:23:58.337Z"
   },
   {
    "duration": 5,
    "start_time": "2021-11-25T17:24:00.326Z"
   },
   {
    "duration": 11,
    "start_time": "2021-11-25T17:24:02.110Z"
   },
   {
    "duration": 2817,
    "start_time": "2021-11-25T17:24:05.942Z"
   },
   {
    "duration": 22,
    "start_time": "2021-11-25T17:24:11.223Z"
   },
   {
    "duration": 318,
    "start_time": "2021-11-25T17:24:12.102Z"
   },
   {
    "duration": 671,
    "start_time": "2021-11-25T17:24:15.022Z"
   },
   {
    "duration": 284,
    "start_time": "2021-11-25T17:24:18.074Z"
   },
   {
    "duration": 646,
    "start_time": "2021-11-25T17:24:20.220Z"
   },
   {
    "duration": 404,
    "start_time": "2021-11-25T17:24:22.566Z"
   },
   {
    "duration": 251,
    "start_time": "2021-11-25T17:24:26.468Z"
   },
   {
    "duration": 317,
    "start_time": "2021-11-25T17:24:28.920Z"
   },
   {
    "duration": 254,
    "start_time": "2021-11-25T17:24:30.528Z"
   },
   {
    "duration": 35,
    "start_time": "2021-11-25T17:24:32.878Z"
   },
   {
    "duration": 9909,
    "start_time": "2021-11-25T17:24:37.284Z"
   },
   {
    "duration": 12,
    "start_time": "2021-11-25T17:25:16.821Z"
   },
   {
    "duration": 114,
    "start_time": "2021-11-25T17:25:38.322Z"
   },
   {
    "duration": 33,
    "start_time": "2021-11-25T17:31:41.125Z"
   },
   {
    "duration": 308,
    "start_time": "2021-11-25T17:34:29.674Z"
   },
   {
    "duration": 287,
    "start_time": "2021-11-25T17:34:45.720Z"
   },
   {
    "duration": 405,
    "start_time": "2021-11-25T17:39:09.474Z"
   },
   {
    "duration": 741,
    "start_time": "2021-11-25T17:39:42.805Z"
   },
   {
    "duration": 719,
    "start_time": "2021-11-25T17:41:20.140Z"
   },
   {
    "duration": 812,
    "start_time": "2021-11-25T17:46:40.423Z"
   },
   {
    "duration": 854,
    "start_time": "2021-11-25T17:49:24.050Z"
   },
   {
    "duration": 703,
    "start_time": "2021-11-25T17:50:59.103Z"
   },
   {
    "duration": 276,
    "start_time": "2021-11-25T17:55:14.321Z"
   },
   {
    "duration": 913,
    "start_time": "2021-11-25T18:09:08.432Z"
   },
   {
    "duration": 89,
    "start_time": "2021-11-25T18:09:09.347Z"
   },
   {
    "duration": 56,
    "start_time": "2021-11-25T18:09:09.438Z"
   },
   {
    "duration": 17,
    "start_time": "2021-11-25T18:09:09.497Z"
   },
   {
    "duration": 44,
    "start_time": "2021-11-25T18:09:09.516Z"
   },
   {
    "duration": 17,
    "start_time": "2021-11-25T18:09:09.564Z"
   },
   {
    "duration": 734,
    "start_time": "2021-11-25T18:09:09.583Z"
   },
   {
    "duration": 38,
    "start_time": "2021-11-25T18:09:10.321Z"
   },
   {
    "duration": 484,
    "start_time": "2021-11-25T18:09:10.362Z"
   },
   {
    "duration": -183,
    "start_time": "2021-11-25T18:09:11.033Z"
   },
   {
    "duration": -190,
    "start_time": "2021-11-25T18:09:11.042Z"
   },
   {
    "duration": -205,
    "start_time": "2021-11-25T18:09:11.058Z"
   },
   {
    "duration": -210,
    "start_time": "2021-11-25T18:09:11.064Z"
   },
   {
    "duration": -213,
    "start_time": "2021-11-25T18:09:11.069Z"
   },
   {
    "duration": -216,
    "start_time": "2021-11-25T18:09:11.073Z"
   },
   {
    "duration": -220,
    "start_time": "2021-11-25T18:09:11.078Z"
   },
   {
    "duration": -224,
    "start_time": "2021-11-25T18:09:11.083Z"
   },
   {
    "duration": -226,
    "start_time": "2021-11-25T18:09:11.087Z"
   },
   {
    "duration": -230,
    "start_time": "2021-11-25T18:09:11.092Z"
   },
   {
    "duration": -234,
    "start_time": "2021-11-25T18:09:11.098Z"
   },
   {
    "duration": -237,
    "start_time": "2021-11-25T18:09:11.102Z"
   },
   {
    "duration": -240,
    "start_time": "2021-11-25T18:09:11.107Z"
   },
   {
    "duration": -243,
    "start_time": "2021-11-25T18:09:11.111Z"
   },
   {
    "duration": -247,
    "start_time": "2021-11-25T18:09:11.117Z"
   },
   {
    "duration": -260,
    "start_time": "2021-11-25T18:09:11.132Z"
   },
   {
    "duration": -264,
    "start_time": "2021-11-25T18:09:11.138Z"
   },
   {
    "duration": -269,
    "start_time": "2021-11-25T18:09:11.144Z"
   },
   {
    "duration": -273,
    "start_time": "2021-11-25T18:09:11.150Z"
   },
   {
    "duration": -278,
    "start_time": "2021-11-25T18:09:11.156Z"
   },
   {
    "duration": -283,
    "start_time": "2021-11-25T18:09:11.162Z"
   },
   {
    "duration": -310,
    "start_time": "2021-11-25T18:09:11.190Z"
   },
   {
    "duration": -314,
    "start_time": "2021-11-25T18:09:11.196Z"
   },
   {
    "duration": -317,
    "start_time": "2021-11-25T18:09:11.200Z"
   },
   {
    "duration": -335,
    "start_time": "2021-11-25T18:09:11.219Z"
   },
   {
    "duration": -338,
    "start_time": "2021-11-25T18:09:11.224Z"
   },
   {
    "duration": -354,
    "start_time": "2021-11-25T18:09:11.241Z"
   },
   {
    "duration": -358,
    "start_time": "2021-11-25T18:09:11.246Z"
   },
   {
    "duration": -362,
    "start_time": "2021-11-25T18:09:11.251Z"
   },
   {
    "duration": -366,
    "start_time": "2021-11-25T18:09:11.256Z"
   },
   {
    "duration": -382,
    "start_time": "2021-11-25T18:09:11.274Z"
   },
   {
    "duration": -387,
    "start_time": "2021-11-25T18:09:11.280Z"
   },
   {
    "duration": -456,
    "start_time": "2021-11-25T18:09:11.350Z"
   },
   {
    "duration": -460,
    "start_time": "2021-11-25T18:09:11.355Z"
   },
   {
    "duration": -463,
    "start_time": "2021-11-25T18:09:11.360Z"
   },
   {
    "duration": -467,
    "start_time": "2021-11-25T18:09:11.365Z"
   },
   {
    "duration": -470,
    "start_time": "2021-11-25T18:09:11.369Z"
   },
   {
    "duration": -510,
    "start_time": "2021-11-25T18:09:11.410Z"
   },
   {
    "duration": -513,
    "start_time": "2021-11-25T18:09:11.414Z"
   },
   {
    "duration": -460,
    "start_time": "2021-11-25T18:09:11.419Z"
   },
   {
    "duration": -463,
    "start_time": "2021-11-25T18:09:11.423Z"
   },
   {
    "duration": -467,
    "start_time": "2021-11-25T18:09:11.428Z"
   },
   {
    "duration": -472,
    "start_time": "2021-11-25T18:09:11.435Z"
   },
   {
    "duration": 4,
    "start_time": "2021-11-25T18:12:38.229Z"
   },
   {
    "duration": 405,
    "start_time": "2021-11-25T18:13:30.648Z"
   },
   {
    "duration": 4,
    "start_time": "2021-11-25T18:13:37.840Z"
   },
   {
    "duration": 90,
    "start_time": "2021-11-25T18:13:41.388Z"
   },
   {
    "duration": 7,
    "start_time": "2021-11-25T18:13:47.382Z"
   },
   {
    "duration": 10,
    "start_time": "2021-11-25T18:13:48.901Z"
   },
   {
    "duration": 7,
    "start_time": "2021-11-25T18:13:49.902Z"
   },
   {
    "duration": 6,
    "start_time": "2021-11-25T18:13:50.869Z"
   },
   {
    "duration": 211,
    "start_time": "2021-11-25T18:13:52.541Z"
   },
   {
    "duration": 20,
    "start_time": "2021-11-25T18:13:56.179Z"
   },
   {
    "duration": 5,
    "start_time": "2021-11-25T18:13:58.540Z"
   },
   {
    "duration": 13,
    "start_time": "2021-11-25T18:13:59.425Z"
   },
   {
    "duration": 61,
    "start_time": "2021-11-25T18:14:00.637Z"
   },
   {
    "duration": 6,
    "start_time": "2021-11-25T18:14:02.343Z"
   },
   {
    "duration": 6,
    "start_time": "2021-11-25T18:14:03.416Z"
   },
   {
    "duration": 35,
    "start_time": "2021-11-25T18:14:04.333Z"
   },
   {
    "duration": 18,
    "start_time": "2021-11-25T18:14:06.891Z"
   },
   {
    "duration": 34,
    "start_time": "2021-11-25T18:14:07.713Z"
   },
   {
    "duration": 7,
    "start_time": "2021-11-25T18:14:09.273Z"
   },
   {
    "duration": 8,
    "start_time": "2021-11-25T18:14:10.473Z"
   },
   {
    "duration": 36,
    "start_time": "2021-11-25T18:14:11.479Z"
   },
   {
    "duration": 854,
    "start_time": "2021-11-25T18:14:12.996Z"
   },
   {
    "duration": 63,
    "start_time": "2021-11-25T18:14:15.056Z"
   },
   {
    "duration": 7,
    "start_time": "2021-11-25T18:14:16.792Z"
   },
   {
    "duration": 450,
    "start_time": "2021-11-25T18:14:17.670Z"
   },
   {
    "duration": 15,
    "start_time": "2021-11-25T18:14:20.180Z"
   },
   {
    "duration": 1262,
    "start_time": "2021-11-25T18:14:21.893Z"
   },
   {
    "duration": 15,
    "start_time": "2021-11-25T18:14:26.594Z"
   },
   {
    "duration": 5,
    "start_time": "2021-11-25T18:14:28.542Z"
   },
   {
    "duration": 17,
    "start_time": "2021-11-25T18:14:30.090Z"
   },
   {
    "duration": 3028,
    "start_time": "2021-11-25T18:14:31.753Z"
   },
   {
    "duration": 28,
    "start_time": "2021-11-25T18:14:38.320Z"
   },
   {
    "duration": 452,
    "start_time": "2021-11-25T18:14:39.590Z"
   },
   {
    "duration": 1057,
    "start_time": "2021-11-25T18:14:41.933Z"
   },
   {
    "duration": 394,
    "start_time": "2021-11-25T18:14:44.435Z"
   },
   {
    "duration": 732,
    "start_time": "2021-11-25T18:14:46.148Z"
   },
   {
    "duration": 403,
    "start_time": "2021-11-25T18:14:48.216Z"
   },
   {
    "duration": 244,
    "start_time": "2021-11-25T18:14:49.835Z"
   },
   {
    "duration": 389,
    "start_time": "2021-11-25T18:14:51.145Z"
   },
   {
    "duration": 309,
    "start_time": "2021-11-25T18:14:52.475Z"
   },
   {
    "duration": 43,
    "start_time": "2021-11-25T18:14:54.434Z"
   },
   {
    "duration": 14,
    "start_time": "2021-11-25T18:14:56.312Z"
   },
   {
    "duration": 111,
    "start_time": "2021-11-25T18:14:57.387Z"
   },
   {
    "duration": 295,
    "start_time": "2021-11-25T18:15:00.785Z"
   },
   {
    "duration": 737,
    "start_time": "2021-11-25T18:15:05.566Z"
   },
   {
    "duration": 1080,
    "start_time": "2021-11-25T18:15:08.147Z"
   },
   {
    "duration": 859,
    "start_time": "2021-11-25T18:15:10.805Z"
   },
   {
    "duration": 877,
    "start_time": "2021-11-25T18:15:13.956Z"
   },
   {
    "duration": 294,
    "start_time": "2021-11-25T18:15:38.622Z"
   },
   {
    "duration": 271,
    "start_time": "2021-11-25T18:19:07.926Z"
   },
   {
    "duration": 198,
    "start_time": "2021-11-25T18:19:21.211Z"
   },
   {
    "duration": 123,
    "start_time": "2021-11-25T18:24:49.665Z"
   },
   {
    "duration": 17,
    "start_time": "2021-11-25T18:25:08.748Z"
   },
   {
    "duration": 139,
    "start_time": "2021-11-25T18:25:23.573Z"
   },
   {
    "duration": 428,
    "start_time": "2021-11-25T18:25:34.771Z"
   },
   {
    "duration": 403,
    "start_time": "2021-11-25T18:26:26.535Z"
   },
   {
    "duration": 676,
    "start_time": "2021-11-25T18:26:31.029Z"
   },
   {
    "duration": 1812,
    "start_time": "2021-11-25T18:26:41.264Z"
   },
   {
    "duration": 94,
    "start_time": "2021-11-25T18:26:43.079Z"
   },
   {
    "duration": 46,
    "start_time": "2021-11-25T18:26:43.177Z"
   },
   {
    "duration": 40,
    "start_time": "2021-11-25T18:26:43.226Z"
   },
   {
    "duration": 11,
    "start_time": "2021-11-25T18:26:43.269Z"
   },
   {
    "duration": 17,
    "start_time": "2021-11-25T18:26:43.283Z"
   },
   {
    "duration": 906,
    "start_time": "2021-11-25T18:26:43.302Z"
   },
   {
    "duration": 23,
    "start_time": "2021-11-25T18:26:44.213Z"
   },
   {
    "duration": 504,
    "start_time": "2021-11-25T18:26:44.240Z"
   },
   {
    "duration": -211,
    "start_time": "2021-11-25T18:26:44.959Z"
   },
   {
    "duration": -214,
    "start_time": "2021-11-25T18:26:44.964Z"
   },
   {
    "duration": -217,
    "start_time": "2021-11-25T18:26:44.968Z"
   },
   {
    "duration": -231,
    "start_time": "2021-11-25T18:26:44.983Z"
   },
   {
    "duration": -235,
    "start_time": "2021-11-25T18:26:44.989Z"
   },
   {
    "duration": -239,
    "start_time": "2021-11-25T18:26:44.994Z"
   },
   {
    "duration": -241,
    "start_time": "2021-11-25T18:26:44.998Z"
   },
   {
    "duration": -245,
    "start_time": "2021-11-25T18:26:45.003Z"
   },
   {
    "duration": -247,
    "start_time": "2021-11-25T18:26:45.007Z"
   },
   {
    "duration": -251,
    "start_time": "2021-11-25T18:26:45.012Z"
   },
   {
    "duration": -254,
    "start_time": "2021-11-25T18:26:45.016Z"
   },
   {
    "duration": -258,
    "start_time": "2021-11-25T18:26:45.022Z"
   },
   {
    "duration": -261,
    "start_time": "2021-11-25T18:26:45.026Z"
   },
   {
    "duration": -265,
    "start_time": "2021-11-25T18:26:45.031Z"
   },
   {
    "duration": -268,
    "start_time": "2021-11-25T18:26:45.036Z"
   },
   {
    "duration": -272,
    "start_time": "2021-11-25T18:26:45.041Z"
   },
   {
    "duration": -287,
    "start_time": "2021-11-25T18:26:45.057Z"
   },
   {
    "duration": -291,
    "start_time": "2021-11-25T18:26:45.062Z"
   },
   {
    "duration": -298,
    "start_time": "2021-11-25T18:26:45.070Z"
   },
   {
    "duration": -321,
    "start_time": "2021-11-25T18:26:45.095Z"
   },
   {
    "duration": -324,
    "start_time": "2021-11-25T18:26:45.099Z"
   },
   {
    "duration": -334,
    "start_time": "2021-11-25T18:26:45.111Z"
   },
   {
    "duration": -339,
    "start_time": "2021-11-25T18:26:45.117Z"
   },
   {
    "duration": -362,
    "start_time": "2021-11-25T18:26:45.141Z"
   },
   {
    "duration": -366,
    "start_time": "2021-11-25T18:26:45.146Z"
   },
   {
    "duration": -387,
    "start_time": "2021-11-25T18:26:45.169Z"
   },
   {
    "duration": -390,
    "start_time": "2021-11-25T18:26:45.174Z"
   },
   {
    "duration": -394,
    "start_time": "2021-11-25T18:26:45.180Z"
   },
   {
    "duration": -481,
    "start_time": "2021-11-25T18:26:45.269Z"
   },
   {
    "duration": -585,
    "start_time": "2021-11-25T18:26:45.375Z"
   },
   {
    "duration": -588,
    "start_time": "2021-11-25T18:26:45.380Z"
   },
   {
    "duration": -589,
    "start_time": "2021-11-25T18:26:45.384Z"
   },
   {
    "duration": -592,
    "start_time": "2021-11-25T18:26:45.389Z"
   },
   {
    "duration": -596,
    "start_time": "2021-11-25T18:26:45.395Z"
   },
   {
    "duration": -537,
    "start_time": "2021-11-25T18:26:45.399Z"
   },
   {
    "duration": -547,
    "start_time": "2021-11-25T18:26:45.412Z"
   },
   {
    "duration": -563,
    "start_time": "2021-11-25T18:26:45.430Z"
   },
   {
    "duration": -583,
    "start_time": "2021-11-25T18:26:45.452Z"
   },
   {
    "duration": -586,
    "start_time": "2021-11-25T18:26:45.457Z"
   },
   {
    "duration": -589,
    "start_time": "2021-11-25T18:26:45.462Z"
   },
   {
    "duration": -591,
    "start_time": "2021-11-25T18:26:45.466Z"
   },
   {
    "duration": -594,
    "start_time": "2021-11-25T18:26:45.471Z"
   },
   {
    "duration": -595,
    "start_time": "2021-11-25T18:26:45.475Z"
   },
   {
    "duration": -598,
    "start_time": "2021-11-25T18:26:45.480Z"
   },
   {
    "duration": -600,
    "start_time": "2021-11-25T18:26:45.484Z"
   },
   {
    "duration": -603,
    "start_time": "2021-11-25T18:26:45.489Z"
   },
   {
    "duration": 5,
    "start_time": "2021-11-25T18:26:51.090Z"
   },
   {
    "duration": 92,
    "start_time": "2021-11-25T18:26:52.518Z"
   },
   {
    "duration": 8,
    "start_time": "2021-11-25T18:26:59.713Z"
   },
   {
    "duration": 14,
    "start_time": "2021-11-25T18:27:01.149Z"
   },
   {
    "duration": 10,
    "start_time": "2021-11-25T18:27:03.847Z"
   },
   {
    "duration": 5,
    "start_time": "2021-11-25T18:27:04.857Z"
   },
   {
    "duration": 144,
    "start_time": "2021-11-25T18:27:06.057Z"
   },
   {
    "duration": 13,
    "start_time": "2021-11-25T18:27:08.525Z"
   },
   {
    "duration": 5,
    "start_time": "2021-11-25T18:27:10.649Z"
   },
   {
    "duration": 12,
    "start_time": "2021-11-25T18:27:11.693Z"
   },
   {
    "duration": 37,
    "start_time": "2021-11-25T18:27:12.532Z"
   },
   {
    "duration": 6,
    "start_time": "2021-11-25T18:27:14.332Z"
   },
   {
    "duration": 6,
    "start_time": "2021-11-25T18:27:15.439Z"
   },
   {
    "duration": 36,
    "start_time": "2021-11-25T18:27:16.553Z"
   },
   {
    "duration": 19,
    "start_time": "2021-11-25T18:27:18.215Z"
   },
   {
    "duration": 33,
    "start_time": "2021-11-25T18:27:19.123Z"
   },
   {
    "duration": 34,
    "start_time": "2021-11-25T18:27:43.412Z"
   },
   {
    "duration": 988,
    "start_time": "2021-11-25T18:28:02.475Z"
   },
   {
    "duration": 94,
    "start_time": "2021-11-25T18:28:03.466Z"
   },
   {
    "duration": 50,
    "start_time": "2021-11-25T18:28:03.562Z"
   },
   {
    "duration": 15,
    "start_time": "2021-11-25T18:28:03.615Z"
   },
   {
    "duration": 16,
    "start_time": "2021-11-25T18:28:03.660Z"
   },
   {
    "duration": 16,
    "start_time": "2021-11-25T18:28:03.680Z"
   },
   {
    "duration": 803,
    "start_time": "2021-11-25T18:28:03.699Z"
   },
   {
    "duration": 22,
    "start_time": "2021-11-25T18:28:04.505Z"
   },
   {
    "duration": 35,
    "start_time": "2021-11-25T18:28:04.530Z"
   },
   {
    "duration": 14,
    "start_time": "2021-11-25T18:28:04.568Z"
   },
   {
    "duration": 10,
    "start_time": "2021-11-25T18:28:04.585Z"
   },
   {
    "duration": 9,
    "start_time": "2021-11-25T18:28:04.598Z"
   },
   {
    "duration": 183,
    "start_time": "2021-11-25T18:28:04.611Z"
   },
   {
    "duration": 12,
    "start_time": "2021-11-25T18:28:04.796Z"
   },
   {
    "duration": 5,
    "start_time": "2021-11-25T18:28:04.810Z"
   },
   {
    "duration": 43,
    "start_time": "2021-11-25T18:28:04.817Z"
   },
   {
    "duration": 43,
    "start_time": "2021-11-25T18:28:04.863Z"
   },
   {
    "duration": 18,
    "start_time": "2021-11-25T18:28:04.912Z"
   },
   {
    "duration": 28,
    "start_time": "2021-11-25T18:28:04.934Z"
   },
   {
    "duration": 45,
    "start_time": "2021-11-25T18:28:04.964Z"
   },
   {
    "duration": 17,
    "start_time": "2021-11-25T18:28:05.011Z"
   },
   {
    "duration": 51,
    "start_time": "2021-11-25T18:28:05.030Z"
   },
   {
    "duration": 7,
    "start_time": "2021-11-25T18:28:05.083Z"
   },
   {
    "duration": 23,
    "start_time": "2021-11-25T18:28:05.092Z"
   },
   {
    "duration": 67,
    "start_time": "2021-11-25T18:28:05.118Z"
   },
   {
    "duration": 993,
    "start_time": "2021-11-25T18:28:05.187Z"
   },
   {
    "duration": 77,
    "start_time": "2021-11-25T18:28:06.182Z"
   },
   {
    "duration": 10,
    "start_time": "2021-11-25T18:28:06.263Z"
   },
   {
    "duration": 788,
    "start_time": "2021-11-25T18:28:06.276Z"
   },
   {
    "duration": 10,
    "start_time": "2021-11-25T18:28:07.066Z"
   },
   {
    "duration": 1116,
    "start_time": "2021-11-25T18:28:07.079Z"
   },
   {
    "duration": 12,
    "start_time": "2021-11-25T18:28:08.197Z"
   },
   {
    "duration": 5,
    "start_time": "2021-11-25T18:28:08.211Z"
   },
   {
    "duration": 42,
    "start_time": "2021-11-25T18:28:08.218Z"
   },
   {
    "duration": 2914,
    "start_time": "2021-11-25T18:28:08.263Z"
   },
   {
    "duration": 22,
    "start_time": "2021-11-25T18:28:11.180Z"
   },
   {
    "duration": 394,
    "start_time": "2021-11-25T18:28:11.205Z"
   },
   {
    "duration": 697,
    "start_time": "2021-11-25T18:28:11.602Z"
   },
   {
    "duration": 317,
    "start_time": "2021-11-25T18:28:12.301Z"
   },
   {
    "duration": 679,
    "start_time": "2021-11-25T18:28:12.621Z"
   },
   {
    "duration": 426,
    "start_time": "2021-11-25T18:28:13.302Z"
   },
   {
    "duration": 289,
    "start_time": "2021-11-25T18:28:13.731Z"
   },
   {
    "duration": 329,
    "start_time": "2021-11-25T18:28:14.023Z"
   },
   {
    "duration": 252,
    "start_time": "2021-11-25T18:28:14.354Z"
   },
   {
    "duration": 34,
    "start_time": "2021-11-25T18:28:14.609Z"
   },
   {
    "duration": 99,
    "start_time": "2021-11-25T18:28:14.660Z"
   },
   {
    "duration": 33,
    "start_time": "2021-11-25T18:28:14.761Z"
   },
   {
    "duration": 317,
    "start_time": "2021-11-25T18:28:14.796Z"
   },
   {
    "duration": 984,
    "start_time": "2021-11-25T18:28:15.115Z"
   },
   {
    "duration": 764,
    "start_time": "2021-11-25T18:28:16.102Z"
   },
   {
    "duration": 672,
    "start_time": "2021-11-25T18:28:16.868Z"
   },
   {
    "duration": 816,
    "start_time": "2021-11-25T18:28:17.543Z"
   },
   {
    "duration": 329,
    "start_time": "2021-11-25T18:28:18.362Z"
   },
   {
    "duration": 282,
    "start_time": "2021-11-25T18:28:18.700Z"
   },
   {
    "duration": 215,
    "start_time": "2021-11-25T18:28:18.984Z"
   },
   {
    "duration": 568,
    "start_time": "2021-11-25T18:30:38.812Z"
   },
   {
    "duration": 318,
    "start_time": "2021-11-25T18:30:43.860Z"
   },
   {
    "duration": 247,
    "start_time": "2021-11-25T18:34:58.337Z"
   },
   {
    "duration": 266,
    "start_time": "2021-11-25T18:35:07.485Z"
   },
   {
    "duration": 255,
    "start_time": "2021-11-25T18:35:15.297Z"
   },
   {
    "duration": 251,
    "start_time": "2021-11-25T18:35:20.501Z"
   },
   {
    "duration": 269,
    "start_time": "2021-11-25T18:35:24.647Z"
   },
   {
    "duration": 272,
    "start_time": "2021-11-25T18:35:29.661Z"
   },
   {
    "duration": 266,
    "start_time": "2021-11-25T18:35:35.644Z"
   },
   {
    "duration": 259,
    "start_time": "2021-11-25T18:36:53.781Z"
   },
   {
    "duration": 811,
    "start_time": "2021-11-25T18:40:04.277Z"
   },
   {
    "duration": 709,
    "start_time": "2021-11-25T18:42:06.984Z"
   },
   {
    "duration": 735,
    "start_time": "2021-11-25T18:42:17.854Z"
   },
   {
    "duration": 306,
    "start_time": "2021-11-25T18:46:51.313Z"
   },
   {
    "duration": 254,
    "start_time": "2021-11-25T18:47:13.040Z"
   },
   {
    "duration": 307,
    "start_time": "2021-11-25T19:05:43.328Z"
   },
   {
    "duration": 890,
    "start_time": "2021-11-25T19:11:27.817Z"
   },
   {
    "duration": 85,
    "start_time": "2021-11-25T19:11:28.710Z"
   },
   {
    "duration": 62,
    "start_time": "2021-11-25T19:11:28.798Z"
   },
   {
    "duration": 16,
    "start_time": "2021-11-25T19:11:28.862Z"
   },
   {
    "duration": 12,
    "start_time": "2021-11-25T19:11:28.880Z"
   },
   {
    "duration": 18,
    "start_time": "2021-11-25T19:11:28.894Z"
   },
   {
    "duration": 759,
    "start_time": "2021-11-25T19:11:28.914Z"
   },
   {
    "duration": 16,
    "start_time": "2021-11-25T19:11:29.677Z"
   },
   {
    "duration": 8,
    "start_time": "2021-11-25T19:11:29.697Z"
   },
   {
    "duration": 10,
    "start_time": "2021-11-25T19:11:29.708Z"
   },
   {
    "duration": 41,
    "start_time": "2021-11-25T19:11:29.720Z"
   },
   {
    "duration": 9,
    "start_time": "2021-11-25T19:11:29.764Z"
   },
   {
    "duration": 157,
    "start_time": "2021-11-25T19:11:29.775Z"
   },
   {
    "duration": 26,
    "start_time": "2021-11-25T19:11:29.935Z"
   },
   {
    "duration": 6,
    "start_time": "2021-11-25T19:11:29.964Z"
   },
   {
    "duration": 15,
    "start_time": "2021-11-25T19:11:29.972Z"
   },
   {
    "duration": 71,
    "start_time": "2021-11-25T19:11:29.990Z"
   },
   {
    "duration": 5,
    "start_time": "2021-11-25T19:11:30.064Z"
   },
   {
    "duration": 19,
    "start_time": "2021-11-25T19:11:30.071Z"
   },
   {
    "duration": 46,
    "start_time": "2021-11-25T19:11:30.093Z"
   },
   {
    "duration": 32,
    "start_time": "2021-11-25T19:11:30.142Z"
   },
   {
    "duration": 33,
    "start_time": "2021-11-25T19:11:30.176Z"
   },
   {
    "duration": 8,
    "start_time": "2021-11-25T19:11:30.215Z"
   },
   {
    "duration": 9,
    "start_time": "2021-11-25T19:11:30.265Z"
   },
   {
    "duration": 65,
    "start_time": "2021-11-25T19:11:30.276Z"
   },
   {
    "duration": 891,
    "start_time": "2021-11-25T19:11:30.343Z"
   },
   {
    "duration": 71,
    "start_time": "2021-11-25T19:11:31.236Z"
   },
   {
    "duration": 7,
    "start_time": "2021-11-25T19:11:31.310Z"
   },
   {
    "duration": 389,
    "start_time": "2021-11-25T19:11:31.319Z"
   },
   {
    "duration": 9,
    "start_time": "2021-11-25T19:11:31.711Z"
   },
   {
    "duration": 1122,
    "start_time": "2021-11-25T19:11:31.723Z"
   },
   {
    "duration": 19,
    "start_time": "2021-11-25T19:11:32.848Z"
   },
   {
    "duration": 4,
    "start_time": "2021-11-25T19:11:32.870Z"
   },
   {
    "duration": 11,
    "start_time": "2021-11-25T19:11:32.876Z"
   },
   {
    "duration": 3280,
    "start_time": "2021-11-25T19:11:32.890Z"
   },
   {
    "duration": 23,
    "start_time": "2021-11-25T19:11:36.173Z"
   },
   {
    "duration": 354,
    "start_time": "2021-11-25T19:11:36.198Z"
   },
   {
    "duration": 731,
    "start_time": "2021-11-25T19:11:36.558Z"
   },
   {
    "duration": 301,
    "start_time": "2021-11-25T19:11:37.292Z"
   },
   {
    "duration": 696,
    "start_time": "2021-11-25T19:11:37.597Z"
   },
   {
    "duration": 424,
    "start_time": "2021-11-25T19:11:38.297Z"
   },
   {
    "duration": 269,
    "start_time": "2021-11-25T19:11:38.725Z"
   },
   {
    "duration": 329,
    "start_time": "2021-11-25T19:11:38.997Z"
   },
   {
    "duration": 277,
    "start_time": "2021-11-25T19:11:39.329Z"
   },
   {
    "duration": 74,
    "start_time": "2021-11-25T19:11:39.609Z"
   },
   {
    "duration": 108,
    "start_time": "2021-11-25T19:11:39.686Z"
   },
   {
    "duration": 34,
    "start_time": "2021-11-25T19:11:39.797Z"
   },
   {
    "duration": 341,
    "start_time": "2021-11-25T19:11:39.860Z"
   },
   {
    "duration": 816,
    "start_time": "2021-11-25T19:11:40.204Z"
   },
   {
    "duration": 764,
    "start_time": "2021-11-25T19:11:41.024Z"
   },
   {
    "duration": 694,
    "start_time": "2021-11-25T19:11:41.790Z"
   },
   {
    "duration": 708,
    "start_time": "2021-11-25T19:11:42.488Z"
   },
   {
    "duration": 323,
    "start_time": "2021-11-25T19:11:43.199Z"
   },
   {
    "duration": 205,
    "start_time": "2021-11-25T19:11:43.524Z"
   },
   {
    "duration": 209,
    "start_time": "2021-11-25T19:11:43.732Z"
   },
   {
    "duration": 283,
    "start_time": "2021-11-25T19:11:43.944Z"
   },
   {
    "duration": 297,
    "start_time": "2021-11-25T19:11:44.230Z"
   },
   {
    "duration": 451,
    "start_time": "2021-11-25T19:11:44.530Z"
   },
   {
    "duration": 289,
    "start_time": "2021-11-25T19:11:44.984Z"
   },
   {
    "duration": 480,
    "start_time": "2021-11-26T13:49:30.480Z"
   },
   {
    "duration": 1125,
    "start_time": "2021-11-26T13:49:57.505Z"
   },
   {
    "duration": 211,
    "start_time": "2021-11-26T13:49:58.632Z"
   },
   {
    "duration": 70,
    "start_time": "2021-11-26T13:49:58.847Z"
   },
   {
    "duration": 44,
    "start_time": "2021-11-26T13:49:58.920Z"
   },
   {
    "duration": 27,
    "start_time": "2021-11-26T13:49:58.967Z"
   },
   {
    "duration": 19,
    "start_time": "2021-11-26T13:49:58.999Z"
   },
   {
    "duration": 1215,
    "start_time": "2021-11-26T13:49:59.021Z"
   },
   {
    "duration": 27,
    "start_time": "2021-11-26T13:50:00.240Z"
   },
   {
    "duration": 18,
    "start_time": "2021-11-26T13:50:00.271Z"
   },
   {
    "duration": 17,
    "start_time": "2021-11-26T13:50:00.292Z"
   },
   {
    "duration": 21,
    "start_time": "2021-11-26T13:50:00.312Z"
   },
   {
    "duration": 12,
    "start_time": "2021-11-26T13:50:00.335Z"
   },
   {
    "duration": 147,
    "start_time": "2021-11-26T13:50:00.349Z"
   },
   {
    "duration": 17,
    "start_time": "2021-11-26T13:50:00.499Z"
   },
   {
    "duration": 8,
    "start_time": "2021-11-26T13:50:00.519Z"
   },
   {
    "duration": 42,
    "start_time": "2021-11-26T13:50:00.530Z"
   },
   {
    "duration": 58,
    "start_time": "2021-11-26T13:50:00.575Z"
   },
   {
    "duration": 7,
    "start_time": "2021-11-26T13:50:00.636Z"
   },
   {
    "duration": 11,
    "start_time": "2021-11-26T13:50:00.661Z"
   },
   {
    "duration": 56,
    "start_time": "2021-11-26T13:50:00.675Z"
   },
   {
    "duration": 32,
    "start_time": "2021-11-26T13:50:00.734Z"
   },
   {
    "duration": 51,
    "start_time": "2021-11-26T13:50:00.768Z"
   },
   {
    "duration": 9,
    "start_time": "2021-11-26T13:50:00.822Z"
   },
   {
    "duration": 25,
    "start_time": "2021-11-26T13:50:00.834Z"
   },
   {
    "duration": 53,
    "start_time": "2021-11-26T13:50:00.862Z"
   },
   {
    "duration": 1059,
    "start_time": "2021-11-26T13:50:00.918Z"
   },
   {
    "duration": 76,
    "start_time": "2021-11-26T13:50:01.983Z"
   },
   {
    "duration": 12,
    "start_time": "2021-11-26T13:50:02.063Z"
   },
   {
    "duration": 357,
    "start_time": "2021-11-26T13:50:02.078Z"
   },
   {
    "duration": 23,
    "start_time": "2021-11-26T13:50:02.437Z"
   },
   {
    "duration": 1039,
    "start_time": "2021-11-26T13:50:02.462Z"
   },
   {
    "duration": 14,
    "start_time": "2021-11-26T13:50:03.504Z"
   },
   {
    "duration": 7,
    "start_time": "2021-11-26T13:50:03.521Z"
   },
   {
    "duration": 36,
    "start_time": "2021-11-26T13:50:03.531Z"
   },
   {
    "duration": 3248,
    "start_time": "2021-11-26T13:50:03.570Z"
   },
   {
    "duration": 11,
    "start_time": "2021-11-26T13:50:06.820Z"
   },
   {
    "duration": 42,
    "start_time": "2021-11-26T13:50:06.833Z"
   },
   {
    "duration": 344,
    "start_time": "2021-11-26T13:50:06.879Z"
   },
   {
    "duration": 710,
    "start_time": "2021-11-26T13:50:07.226Z"
   },
   {
    "duration": 289,
    "start_time": "2021-11-26T13:50:07.939Z"
   },
   {
    "duration": 688,
    "start_time": "2021-11-26T13:50:08.230Z"
   },
   {
    "duration": 670,
    "start_time": "2021-11-26T13:50:08.920Z"
   },
   {
    "duration": 350,
    "start_time": "2021-11-26T13:50:09.593Z"
   },
   {
    "duration": 322,
    "start_time": "2021-11-26T13:50:09.946Z"
   },
   {
    "duration": 251,
    "start_time": "2021-11-26T13:50:10.270Z"
   },
   {
    "duration": 48,
    "start_time": "2021-11-26T13:50:10.524Z"
   },
   {
    "duration": 17,
    "start_time": "2021-11-26T13:50:10.575Z"
   },
   {
    "duration": 65,
    "start_time": "2021-11-26T13:50:10.595Z"
   },
   {
    "duration": 406,
    "start_time": "2021-11-26T13:50:10.663Z"
   },
   {
    "duration": 938,
    "start_time": "2021-11-26T13:50:11.073Z"
   },
   {
    "duration": 944,
    "start_time": "2021-11-26T13:50:12.015Z"
   },
   {
    "duration": 673,
    "start_time": "2021-11-26T13:50:12.962Z"
   },
   {
    "duration": 715,
    "start_time": "2021-11-26T13:50:13.637Z"
   },
   {
    "duration": 332,
    "start_time": "2021-11-26T13:50:14.355Z"
   },
   {
    "duration": 199,
    "start_time": "2021-11-26T13:50:14.689Z"
   },
   {
    "duration": 122,
    "start_time": "2021-11-26T13:50:14.890Z"
   },
   {
    "duration": 358,
    "start_time": "2021-11-26T13:50:15.014Z"
   },
   {
    "duration": 284,
    "start_time": "2021-11-26T13:50:15.375Z"
   },
   {
    "duration": 322,
    "start_time": "2021-11-26T13:50:15.662Z"
   },
   {
    "duration": 288,
    "start_time": "2021-11-26T13:50:15.987Z"
   },
   {
    "duration": 39,
    "start_time": "2021-11-26T14:11:46.672Z"
   },
   {
    "duration": 931,
    "start_time": "2021-11-26T14:14:37.438Z"
   },
   {
    "duration": 88,
    "start_time": "2021-11-26T14:14:38.372Z"
   },
   {
    "duration": 48,
    "start_time": "2021-11-26T14:14:38.464Z"
   },
   {
    "duration": 46,
    "start_time": "2021-11-26T14:14:38.515Z"
   },
   {
    "duration": 12,
    "start_time": "2021-11-26T14:14:38.563Z"
   },
   {
    "duration": 16,
    "start_time": "2021-11-26T14:14:38.577Z"
   },
   {
    "duration": 716,
    "start_time": "2021-11-26T14:14:38.595Z"
   },
   {
    "duration": 17,
    "start_time": "2021-11-26T14:14:39.313Z"
   },
   {
    "duration": 27,
    "start_time": "2021-11-26T14:14:39.335Z"
   },
   {
    "duration": 14,
    "start_time": "2021-11-26T14:14:39.365Z"
   },
   {
    "duration": 11,
    "start_time": "2021-11-26T14:14:39.382Z"
   },
   {
    "duration": 19,
    "start_time": "2021-11-26T14:14:39.396Z"
   },
   {
    "duration": 158,
    "start_time": "2021-11-26T14:14:39.418Z"
   },
   {
    "duration": 14,
    "start_time": "2021-11-26T14:14:39.579Z"
   },
   {
    "duration": 7,
    "start_time": "2021-11-26T14:14:39.597Z"
   },
   {
    "duration": 15,
    "start_time": "2021-11-26T14:14:39.607Z"
   },
   {
    "duration": 68,
    "start_time": "2021-11-26T14:14:39.625Z"
   },
   {
    "duration": 9,
    "start_time": "2021-11-26T14:14:39.696Z"
   },
   {
    "duration": 8,
    "start_time": "2021-11-26T14:14:39.708Z"
   },
   {
    "duration": 61,
    "start_time": "2021-11-26T14:14:39.719Z"
   },
   {
    "duration": 18,
    "start_time": "2021-11-26T14:14:39.784Z"
   },
   {
    "duration": 64,
    "start_time": "2021-11-26T14:14:39.805Z"
   },
   {
    "duration": 8,
    "start_time": "2021-11-26T14:14:39.872Z"
   },
   {
    "duration": 10,
    "start_time": "2021-11-26T14:14:39.883Z"
   },
   {
    "duration": 69,
    "start_time": "2021-11-26T14:14:39.895Z"
   },
   {
    "duration": 881,
    "start_time": "2021-11-26T14:14:39.967Z"
   },
   {
    "duration": 64,
    "start_time": "2021-11-26T14:14:40.860Z"
   },
   {
    "duration": 32,
    "start_time": "2021-11-26T14:14:40.927Z"
   },
   {
    "duration": 352,
    "start_time": "2021-11-26T14:14:40.962Z"
   },
   {
    "duration": 10,
    "start_time": "2021-11-26T14:14:41.316Z"
   },
   {
    "duration": 967,
    "start_time": "2021-11-26T14:14:41.328Z"
   },
   {
    "duration": 12,
    "start_time": "2021-11-26T14:14:42.297Z"
   },
   {
    "duration": 5,
    "start_time": "2021-11-26T14:14:42.311Z"
   },
   {
    "duration": 11,
    "start_time": "2021-11-26T14:14:42.319Z"
   },
   {
    "duration": 3005,
    "start_time": "2021-11-26T14:14:42.360Z"
   },
   {
    "duration": 23,
    "start_time": "2021-11-26T14:14:45.367Z"
   },
   {
    "duration": 356,
    "start_time": "2021-11-26T14:14:45.392Z"
   },
   {
    "duration": 773,
    "start_time": "2021-11-26T14:14:45.750Z"
   },
   {
    "duration": 283,
    "start_time": "2021-11-26T14:14:46.526Z"
   },
   {
    "duration": 694,
    "start_time": "2021-11-26T14:14:46.812Z"
   },
   {
    "duration": 408,
    "start_time": "2021-11-26T14:14:47.509Z"
   },
   {
    "duration": 253,
    "start_time": "2021-11-26T14:14:47.920Z"
   },
   {
    "duration": 292,
    "start_time": "2021-11-26T14:14:48.175Z"
   },
   {
    "duration": 246,
    "start_time": "2021-11-26T14:14:48.470Z"
   },
   {
    "duration": 48,
    "start_time": "2021-11-26T14:14:48.719Z"
   },
   {
    "duration": 13,
    "start_time": "2021-11-26T14:14:48.769Z"
   },
   {
    "duration": 34,
    "start_time": "2021-11-26T14:14:48.785Z"
   },
   {
    "duration": 321,
    "start_time": "2021-11-26T14:14:48.821Z"
   },
   {
    "duration": 850,
    "start_time": "2021-11-26T14:14:49.145Z"
   },
   {
    "duration": 775,
    "start_time": "2021-11-26T14:14:49.998Z"
   },
   {
    "duration": 708,
    "start_time": "2021-11-26T14:14:50.775Z"
   },
   {
    "duration": 724,
    "start_time": "2021-11-26T14:14:51.486Z"
   },
   {
    "duration": 307,
    "start_time": "2021-11-26T14:14:52.212Z"
   },
   {
    "duration": 213,
    "start_time": "2021-11-26T14:14:52.522Z"
   },
   {
    "duration": 125,
    "start_time": "2021-11-26T14:14:52.738Z"
   },
   {
    "duration": 339,
    "start_time": "2021-11-26T14:14:52.866Z"
   },
   {
    "duration": 272,
    "start_time": "2021-11-26T14:14:53.207Z"
   },
   {
    "duration": 438,
    "start_time": "2021-11-26T14:14:53.482Z"
   },
   {
    "duration": 285,
    "start_time": "2021-11-26T14:14:53.922Z"
   },
   {
    "duration": 636,
    "start_time": "2021-11-26T21:56:53.890Z"
   },
   {
    "duration": 73,
    "start_time": "2021-11-26T21:56:54.528Z"
   },
   {
    "duration": 31,
    "start_time": "2021-11-26T21:56:54.603Z"
   },
   {
    "duration": 12,
    "start_time": "2021-11-26T21:56:54.636Z"
   },
   {
    "duration": 10,
    "start_time": "2021-11-26T21:56:54.649Z"
   },
   {
    "duration": 40,
    "start_time": "2021-11-26T21:56:54.660Z"
   },
   {
    "duration": 1297,
    "start_time": "2021-11-26T21:56:54.702Z"
   },
   {
    "duration": 11,
    "start_time": "2021-11-26T21:56:56.001Z"
   },
   {
    "duration": 6,
    "start_time": "2021-11-26T21:56:56.014Z"
   },
   {
    "duration": 14,
    "start_time": "2021-11-26T21:56:56.021Z"
   },
   {
    "duration": 7,
    "start_time": "2021-11-26T21:56:56.036Z"
   },
   {
    "duration": 4,
    "start_time": "2021-11-26T21:56:56.045Z"
   },
   {
    "duration": 103,
    "start_time": "2021-11-26T21:56:56.050Z"
   },
   {
    "duration": 7,
    "start_time": "2021-11-26T21:56:56.155Z"
   },
   {
    "duration": 2,
    "start_time": "2021-11-26T21:56:56.164Z"
   },
   {
    "duration": 31,
    "start_time": "2021-11-26T21:56:56.167Z"
   },
   {
    "duration": 27,
    "start_time": "2021-11-26T21:56:56.200Z"
   },
   {
    "duration": 8,
    "start_time": "2021-11-26T21:56:56.228Z"
   },
   {
    "duration": 6,
    "start_time": "2021-11-26T21:56:56.237Z"
   },
   {
    "duration": 24,
    "start_time": "2021-11-26T21:56:56.245Z"
   },
   {
    "duration": 12,
    "start_time": "2021-11-26T21:56:56.270Z"
   },
   {
    "duration": 22,
    "start_time": "2021-11-26T21:56:56.284Z"
   },
   {
    "duration": 5,
    "start_time": "2021-11-26T21:56:56.307Z"
   },
   {
    "duration": 8,
    "start_time": "2021-11-26T21:56:56.313Z"
   },
   {
    "duration": 21,
    "start_time": "2021-11-26T21:56:56.322Z"
   },
   {
    "duration": 556,
    "start_time": "2021-11-26T21:56:56.344Z"
   },
   {
    "duration": 36,
    "start_time": "2021-11-26T21:56:56.904Z"
   },
   {
    "duration": 5,
    "start_time": "2021-11-26T21:56:56.942Z"
   },
   {
    "duration": 213,
    "start_time": "2021-11-26T21:56:56.949Z"
   },
   {
    "duration": 7,
    "start_time": "2021-11-26T21:56:57.163Z"
   },
   {
    "duration": 685,
    "start_time": "2021-11-26T21:56:57.172Z"
   },
   {
    "duration": 7,
    "start_time": "2021-11-26T21:56:57.859Z"
   },
   {
    "duration": 4,
    "start_time": "2021-11-26T21:56:57.868Z"
   },
   {
    "duration": 19,
    "start_time": "2021-11-26T21:56:57.873Z"
   },
   {
    "duration": 1956,
    "start_time": "2021-11-26T21:56:57.894Z"
   },
   {
    "duration": 13,
    "start_time": "2021-11-26T21:56:59.852Z"
   },
   {
    "duration": 197,
    "start_time": "2021-11-26T21:56:59.867Z"
   },
   {
    "duration": 475,
    "start_time": "2021-11-26T21:57:00.065Z"
   },
   {
    "duration": 178,
    "start_time": "2021-11-26T21:57:00.542Z"
   },
   {
    "duration": 491,
    "start_time": "2021-11-26T21:57:00.721Z"
   },
   {
    "duration": 254,
    "start_time": "2021-11-26T21:57:01.214Z"
   },
   {
    "duration": 157,
    "start_time": "2021-11-26T21:57:01.470Z"
   },
   {
    "duration": 187,
    "start_time": "2021-11-26T21:57:01.629Z"
   },
   {
    "duration": 160,
    "start_time": "2021-11-26T21:57:01.818Z"
   },
   {
    "duration": 31,
    "start_time": "2021-11-26T21:57:01.980Z"
   },
   {
    "duration": 10,
    "start_time": "2021-11-26T21:57:02.013Z"
   },
   {
    "duration": 24,
    "start_time": "2021-11-26T21:57:02.025Z"
   },
   {
    "duration": 206,
    "start_time": "2021-11-26T21:57:02.051Z"
   },
   {
    "duration": 604,
    "start_time": "2021-11-26T21:57:02.259Z"
   },
   {
    "duration": 489,
    "start_time": "2021-11-26T21:57:02.865Z"
   },
   {
    "duration": 460,
    "start_time": "2021-11-26T21:57:03.355Z"
   },
   {
    "duration": 429,
    "start_time": "2021-11-26T21:57:03.816Z"
   },
   {
    "duration": 186,
    "start_time": "2021-11-26T21:57:04.246Z"
   },
   {
    "duration": 108,
    "start_time": "2021-11-26T21:57:04.434Z"
   },
   {
    "duration": 83,
    "start_time": "2021-11-26T21:57:04.544Z"
   },
   {
    "duration": 237,
    "start_time": "2021-11-26T21:57:04.629Z"
   },
   {
    "duration": 173,
    "start_time": "2021-11-26T21:57:04.868Z"
   },
   {
    "duration": 212,
    "start_time": "2021-11-26T21:57:05.043Z"
   },
   {
    "duration": 172,
    "start_time": "2021-11-26T21:57:05.256Z"
   },
   {
    "duration": 24,
    "start_time": "2021-11-26T22:05:58.063Z"
   },
   {
    "duration": 88,
    "start_time": "2021-11-27T05:15:06.981Z"
   },
   {
    "duration": 296,
    "start_time": "2021-11-27T05:15:39.750Z"
   },
   {
    "duration": 867,
    "start_time": "2021-11-27T05:15:53.485Z"
   },
   {
    "duration": 88,
    "start_time": "2021-11-27T05:15:54.355Z"
   },
   {
    "duration": 48,
    "start_time": "2021-11-27T05:15:54.445Z"
   },
   {
    "duration": 36,
    "start_time": "2021-11-27T05:15:54.495Z"
   },
   {
    "duration": 11,
    "start_time": "2021-11-27T05:15:54.533Z"
   },
   {
    "duration": 19,
    "start_time": "2021-11-27T05:15:54.547Z"
   },
   {
    "duration": 582,
    "start_time": "2021-11-27T05:15:54.568Z"
   },
   {
    "duration": 15,
    "start_time": "2021-11-27T05:15:55.154Z"
   },
   {
    "duration": 9,
    "start_time": "2021-11-27T05:15:55.172Z"
   },
   {
    "duration": 11,
    "start_time": "2021-11-27T05:15:55.183Z"
   },
   {
    "duration": 35,
    "start_time": "2021-11-27T05:15:55.196Z"
   },
   {
    "duration": 17,
    "start_time": "2021-11-27T05:15:55.233Z"
   },
   {
    "duration": 144,
    "start_time": "2021-11-27T05:15:55.252Z"
   },
   {
    "duration": 12,
    "start_time": "2021-11-27T05:15:55.398Z"
   },
   {
    "duration": 17,
    "start_time": "2021-11-27T05:15:55.413Z"
   },
   {
    "duration": 20,
    "start_time": "2021-11-27T05:15:55.433Z"
   },
   {
    "duration": 38,
    "start_time": "2021-11-27T05:15:55.455Z"
   },
   {
    "duration": 6,
    "start_time": "2021-11-27T05:15:55.495Z"
   },
   {
    "duration": 29,
    "start_time": "2021-11-27T05:15:55.503Z"
   },
   {
    "duration": 38,
    "start_time": "2021-11-27T05:15:55.534Z"
   },
   {
    "duration": 19,
    "start_time": "2021-11-27T05:15:55.575Z"
   },
   {
    "duration": 57,
    "start_time": "2021-11-27T05:15:55.596Z"
   },
   {
    "duration": 7,
    "start_time": "2021-11-27T05:15:55.658Z"
   },
   {
    "duration": 11,
    "start_time": "2021-11-27T05:15:55.669Z"
   },
   {
    "duration": 59,
    "start_time": "2021-11-27T05:15:55.683Z"
   },
   {
    "duration": 846,
    "start_time": "2021-11-27T05:15:55.744Z"
   },
   {
    "duration": 68,
    "start_time": "2021-11-27T05:15:56.592Z"
   },
   {
    "duration": 8,
    "start_time": "2021-11-27T05:15:56.662Z"
   },
   {
    "duration": 357,
    "start_time": "2021-11-27T05:15:56.673Z"
   },
   {
    "duration": 9,
    "start_time": "2021-11-27T05:15:57.032Z"
   },
   {
    "duration": 1007,
    "start_time": "2021-11-27T05:15:57.044Z"
   },
   {
    "duration": 11,
    "start_time": "2021-11-27T05:15:58.053Z"
   },
   {
    "duration": 5,
    "start_time": "2021-11-27T05:15:58.066Z"
   },
   {
    "duration": 12,
    "start_time": "2021-11-27T05:15:58.073Z"
   },
   {
    "duration": 2822,
    "start_time": "2021-11-27T05:15:58.087Z"
   },
   {
    "duration": 30,
    "start_time": "2021-11-27T05:16:00.912Z"
   },
   {
    "duration": 48,
    "start_time": "2021-11-27T05:16:00.945Z"
   },
   {
    "duration": 429,
    "start_time": "2021-11-27T05:16:00.995Z"
   },
   {
    "duration": 707,
    "start_time": "2021-11-27T05:16:01.429Z"
   },
   {
    "duration": 287,
    "start_time": "2021-11-27T05:16:02.139Z"
   },
   {
    "duration": 687,
    "start_time": "2021-11-27T05:16:02.429Z"
   },
   {
    "duration": 400,
    "start_time": "2021-11-27T05:16:03.118Z"
   },
   {
    "duration": 247,
    "start_time": "2021-11-27T05:16:03.521Z"
   },
   {
    "duration": 289,
    "start_time": "2021-11-27T05:16:03.771Z"
   },
   {
    "duration": 246,
    "start_time": "2021-11-27T05:16:04.063Z"
   },
   {
    "duration": 43,
    "start_time": "2021-11-27T05:16:04.312Z"
   },
   {
    "duration": 99,
    "start_time": "2021-11-27T05:16:04.357Z"
   },
   {
    "duration": 32,
    "start_time": "2021-11-27T05:16:04.458Z"
   },
   {
    "duration": 302,
    "start_time": "2021-11-27T05:16:04.492Z"
   },
   {
    "duration": 743,
    "start_time": "2021-11-27T05:16:04.797Z"
   },
   {
    "duration": 805,
    "start_time": "2021-11-27T05:16:05.542Z"
   },
   {
    "duration": 637,
    "start_time": "2021-11-27T05:16:06.349Z"
   },
   {
    "duration": 663,
    "start_time": "2021-11-27T05:16:06.989Z"
   },
   {
    "duration": 320,
    "start_time": "2021-11-27T05:16:07.655Z"
   },
   {
    "duration": 197,
    "start_time": "2021-11-27T05:16:07.979Z"
   },
   {
    "duration": 206,
    "start_time": "2021-11-27T05:16:08.179Z"
   },
   {
    "duration": 358,
    "start_time": "2021-11-27T05:16:08.388Z"
   },
   {
    "duration": 145,
    "start_time": "2021-11-27T05:16:08.603Z"
   },
   {
    "duration": 133,
    "start_time": "2021-11-27T05:16:08.617Z"
   },
   {
    "duration": 127,
    "start_time": "2021-11-27T05:16:08.624Z"
   },
   {
    "duration": 122,
    "start_time": "2021-11-27T05:16:08.631Z"
   },
   {
    "duration": 123,
    "start_time": "2021-11-27T05:32:20.236Z"
   },
   {
    "duration": 255,
    "start_time": "2021-11-27T05:47:46.484Z"
   },
   {
    "duration": 278,
    "start_time": "2021-11-27T05:47:49.005Z"
   },
   {
    "duration": 371,
    "start_time": "2021-11-27T05:47:51.527Z"
   },
   {
    "duration": 254,
    "start_time": "2021-11-27T05:47:56.022Z"
   },
   {
    "duration": 260,
    "start_time": "2021-11-27T05:48:34.531Z"
   },
   {
    "duration": 878,
    "start_time": "2021-11-27T05:49:00.249Z"
   },
   {
    "duration": 93,
    "start_time": "2021-11-27T05:49:01.130Z"
   },
   {
    "duration": 46,
    "start_time": "2021-11-27T05:49:01.226Z"
   },
   {
    "duration": 28,
    "start_time": "2021-11-27T05:49:01.274Z"
   },
   {
    "duration": 26,
    "start_time": "2021-11-27T05:49:01.304Z"
   },
   {
    "duration": 17,
    "start_time": "2021-11-27T05:49:01.332Z"
   },
   {
    "duration": 554,
    "start_time": "2021-11-27T05:49:01.351Z"
   },
   {
    "duration": 21,
    "start_time": "2021-11-27T05:49:01.908Z"
   },
   {
    "duration": 8,
    "start_time": "2021-11-27T05:49:01.933Z"
   },
   {
    "duration": 11,
    "start_time": "2021-11-27T05:49:01.944Z"
   },
   {
    "duration": 7,
    "start_time": "2021-11-27T05:49:01.958Z"
   },
   {
    "duration": 9,
    "start_time": "2021-11-27T05:49:01.968Z"
   },
   {
    "duration": 177,
    "start_time": "2021-11-27T05:49:01.979Z"
   },
   {
    "duration": 13,
    "start_time": "2021-11-27T05:49:02.159Z"
   },
   {
    "duration": 4,
    "start_time": "2021-11-27T05:49:02.174Z"
   },
   {
    "duration": 15,
    "start_time": "2021-11-27T05:49:02.180Z"
   },
   {
    "duration": 62,
    "start_time": "2021-11-27T05:49:02.198Z"
   },
   {
    "duration": 5,
    "start_time": "2021-11-27T05:49:02.263Z"
   },
   {
    "duration": 15,
    "start_time": "2021-11-27T05:49:02.270Z"
   },
   {
    "duration": 53,
    "start_time": "2021-11-27T05:49:02.288Z"
   },
   {
    "duration": 21,
    "start_time": "2021-11-27T05:49:02.344Z"
   },
   {
    "duration": 33,
    "start_time": "2021-11-27T05:49:02.367Z"
   },
   {
    "duration": 29,
    "start_time": "2021-11-27T05:49:02.403Z"
   },
   {
    "duration": 10,
    "start_time": "2021-11-27T05:49:02.434Z"
   },
   {
    "duration": 36,
    "start_time": "2021-11-27T05:49:02.446Z"
   },
   {
    "duration": 863,
    "start_time": "2021-11-27T05:49:02.485Z"
   },
   {
    "duration": 60,
    "start_time": "2021-11-27T05:49:03.354Z"
   },
   {
    "duration": 15,
    "start_time": "2021-11-27T05:49:03.417Z"
   },
   {
    "duration": 375,
    "start_time": "2021-11-27T05:49:03.435Z"
   },
   {
    "duration": 18,
    "start_time": "2021-11-27T05:49:03.813Z"
   },
   {
    "duration": 1013,
    "start_time": "2021-11-27T05:49:03.833Z"
   },
   {
    "duration": 12,
    "start_time": "2021-11-27T05:49:04.848Z"
   },
   {
    "duration": 6,
    "start_time": "2021-11-27T05:49:04.862Z"
   },
   {
    "duration": 12,
    "start_time": "2021-11-27T05:49:04.870Z"
   },
   {
    "duration": 2918,
    "start_time": "2021-11-27T05:49:04.884Z"
   },
   {
    "duration": 33,
    "start_time": "2021-11-27T05:49:07.805Z"
   },
   {
    "duration": 40,
    "start_time": "2021-11-27T05:49:07.841Z"
   },
   {
    "duration": 337,
    "start_time": "2021-11-27T05:49:07.883Z"
   },
   {
    "duration": 725,
    "start_time": "2021-11-27T05:49:08.223Z"
   },
   {
    "duration": 284,
    "start_time": "2021-11-27T05:49:08.951Z"
   },
   {
    "duration": 677,
    "start_time": "2021-11-27T05:49:09.237Z"
   },
   {
    "duration": 404,
    "start_time": "2021-11-27T05:49:09.917Z"
   },
   {
    "duration": 248,
    "start_time": "2021-11-27T05:49:10.324Z"
   },
   {
    "duration": 289,
    "start_time": "2021-11-27T05:49:10.574Z"
   },
   {
    "duration": 250,
    "start_time": "2021-11-27T05:49:10.865Z"
   },
   {
    "duration": 39,
    "start_time": "2021-11-27T05:49:11.118Z"
   },
   {
    "duration": 13,
    "start_time": "2021-11-27T05:49:11.159Z"
   },
   {
    "duration": 58,
    "start_time": "2021-11-27T05:49:11.174Z"
   },
   {
    "duration": 300,
    "start_time": "2021-11-27T05:49:11.234Z"
   },
   {
    "duration": 808,
    "start_time": "2021-11-27T05:49:11.537Z"
   },
   {
    "duration": 739,
    "start_time": "2021-11-27T05:49:12.347Z"
   },
   {
    "duration": 672,
    "start_time": "2021-11-27T05:49:13.088Z"
   },
   {
    "duration": 640,
    "start_time": "2021-11-27T05:49:13.763Z"
   },
   {
    "duration": 315,
    "start_time": "2021-11-27T05:49:14.406Z"
   },
   {
    "duration": 209,
    "start_time": "2021-11-27T05:49:14.723Z"
   },
   {
    "duration": 134,
    "start_time": "2021-11-27T05:49:14.935Z"
   },
   {
    "duration": 354,
    "start_time": "2021-11-27T05:49:15.072Z"
   },
   {
    "duration": 126,
    "start_time": "2021-11-27T05:49:15.303Z"
   },
   {
    "duration": 119,
    "start_time": "2021-11-27T05:49:15.311Z"
   },
   {
    "duration": 115,
    "start_time": "2021-11-27T05:49:15.317Z"
   },
   {
    "duration": 289,
    "start_time": "2021-11-27T05:49:32.674Z"
   },
   {
    "duration": 356,
    "start_time": "2021-11-27T05:49:36.947Z"
   },
   {
    "duration": 264,
    "start_time": "2021-11-27T05:50:07.276Z"
   },
   {
    "duration": 254,
    "start_time": "2021-11-27T05:51:54.462Z"
   },
   {
    "duration": 276,
    "start_time": "2021-11-27T05:57:45.617Z"
   },
   {
    "duration": 414,
    "start_time": "2021-11-27T05:57:48.535Z"
   },
   {
    "duration": 261,
    "start_time": "2021-11-27T05:57:51.215Z"
   },
   {
    "duration": 262,
    "start_time": "2021-11-27T05:59:06.410Z"
   },
   {
    "duration": 255,
    "start_time": "2021-11-27T07:08:49.899Z"
   },
   {
    "duration": 339,
    "start_time": "2021-12-13T11:42:21.329Z"
   },
   {
    "duration": 706,
    "start_time": "2021-12-13T11:42:27.996Z"
   },
   {
    "duration": 73,
    "start_time": "2021-12-13T11:42:28.704Z"
   },
   {
    "duration": 29,
    "start_time": "2021-12-13T11:42:28.779Z"
   },
   {
    "duration": 10,
    "start_time": "2021-12-13T11:42:28.809Z"
   },
   {
    "duration": 9,
    "start_time": "2021-12-13T11:42:28.821Z"
   },
   {
    "duration": 36,
    "start_time": "2021-12-13T11:42:28.832Z"
   },
   {
    "duration": 483,
    "start_time": "2021-12-13T11:42:28.870Z"
   },
   {
    "duration": 19,
    "start_time": "2021-12-13T11:42:29.364Z"
   },
   {
    "duration": 8,
    "start_time": "2021-12-13T11:42:29.387Z"
   },
   {
    "duration": 9,
    "start_time": "2021-12-13T11:42:29.400Z"
   },
   {
    "duration": 7,
    "start_time": "2021-12-13T11:42:29.411Z"
   },
   {
    "duration": 6,
    "start_time": "2021-12-13T11:42:29.419Z"
   },
   {
    "duration": 107,
    "start_time": "2021-12-13T11:42:29.427Z"
   },
   {
    "duration": 9,
    "start_time": "2021-12-13T11:42:29.536Z"
   },
   {
    "duration": 4,
    "start_time": "2021-12-13T11:42:29.546Z"
   },
   {
    "duration": 9,
    "start_time": "2021-12-13T11:42:29.564Z"
   },
   {
    "duration": 23,
    "start_time": "2021-12-13T11:42:29.575Z"
   },
   {
    "duration": 5,
    "start_time": "2021-12-13T11:42:29.600Z"
   },
   {
    "duration": 6,
    "start_time": "2021-12-13T11:42:29.606Z"
   },
   {
    "duration": 52,
    "start_time": "2021-12-13T11:42:29.614Z"
   },
   {
    "duration": 14,
    "start_time": "2021-12-13T11:42:29.668Z"
   },
   {
    "duration": 21,
    "start_time": "2021-12-13T11:42:29.684Z"
   },
   {
    "duration": 5,
    "start_time": "2021-12-13T11:42:29.708Z"
   },
   {
    "duration": 16,
    "start_time": "2021-12-13T11:42:29.715Z"
   },
   {
    "duration": 47,
    "start_time": "2021-12-13T11:42:29.732Z"
   },
   {
    "duration": 516,
    "start_time": "2021-12-13T11:42:29.781Z"
   },
   {
    "duration": 36,
    "start_time": "2021-12-13T11:42:30.300Z"
   },
   {
    "duration": 13,
    "start_time": "2021-12-13T11:42:30.339Z"
   },
   {
    "duration": 208,
    "start_time": "2021-12-13T11:42:30.363Z"
   },
   {
    "duration": 8,
    "start_time": "2021-12-13T11:42:30.572Z"
   },
   {
    "duration": 650,
    "start_time": "2021-12-13T11:42:30.582Z"
   },
   {
    "duration": 8,
    "start_time": "2021-12-13T11:42:31.234Z"
   },
   {
    "duration": 26,
    "start_time": "2021-12-13T11:42:31.243Z"
   },
   {
    "duration": 9,
    "start_time": "2021-12-13T11:42:31.271Z"
   },
   {
    "duration": 1836,
    "start_time": "2021-12-13T11:42:31.282Z"
   },
   {
    "duration": 15,
    "start_time": "2021-12-13T11:42:33.120Z"
   },
   {
    "duration": 35,
    "start_time": "2021-12-13T11:42:33.137Z"
   },
   {
    "duration": 189,
    "start_time": "2021-12-13T11:42:33.174Z"
   },
   {
    "duration": 447,
    "start_time": "2021-12-13T11:42:33.365Z"
   },
   {
    "duration": 169,
    "start_time": "2021-12-13T11:42:33.814Z"
   },
   {
    "duration": 446,
    "start_time": "2021-12-13T11:42:33.984Z"
   },
   {
    "duration": 236,
    "start_time": "2021-12-13T11:42:34.432Z"
   },
   {
    "duration": 145,
    "start_time": "2021-12-13T11:42:34.670Z"
   },
   {
    "duration": 179,
    "start_time": "2021-12-13T11:42:34.817Z"
   },
   {
    "duration": 143,
    "start_time": "2021-12-13T11:42:34.997Z"
   },
   {
    "duration": 30,
    "start_time": "2021-12-13T11:42:35.142Z"
   },
   {
    "duration": 9,
    "start_time": "2021-12-13T11:42:35.173Z"
   },
   {
    "duration": 24,
    "start_time": "2021-12-13T11:42:35.184Z"
   },
   {
    "duration": 190,
    "start_time": "2021-12-13T11:42:35.209Z"
   },
   {
    "duration": 551,
    "start_time": "2021-12-13T11:42:35.401Z"
   },
   {
    "duration": 472,
    "start_time": "2021-12-13T11:42:35.954Z"
   },
   {
    "duration": 465,
    "start_time": "2021-12-13T11:42:36.428Z"
   },
   {
    "duration": 421,
    "start_time": "2021-12-13T11:42:36.894Z"
   },
   {
    "duration": 184,
    "start_time": "2021-12-13T11:42:37.317Z"
   },
   {
    "duration": 110,
    "start_time": "2021-12-13T11:42:37.503Z"
   },
   {
    "duration": 83,
    "start_time": "2021-12-13T11:42:37.615Z"
   },
   {
    "duration": 241,
    "start_time": "2021-12-13T11:42:37.700Z"
   },
   {
    "duration": 165,
    "start_time": "2021-12-13T11:42:37.943Z"
   },
   {
    "duration": 192,
    "start_time": "2021-12-13T11:42:38.109Z"
   },
   {
    "duration": 154,
    "start_time": "2021-12-13T11:42:38.303Z"
   }
  ],
  "kernelspec": {
   "display_name": "Python 3",
   "language": "python",
   "name": "python3"
  },
  "language_info": {
   "codemirror_mode": {
    "name": "ipython",
    "version": 3
   },
   "file_extension": ".py",
   "mimetype": "text/x-python",
   "name": "python",
   "nbconvert_exporter": "python",
   "pygments_lexer": "ipython3",
   "version": "3.8.8"
  },
  "toc": {
   "base_numbering": 1,
   "nav_menu": {},
   "number_sections": true,
   "sideBar": true,
   "skip_h1_title": true,
   "title_cell": "Содержание",
   "title_sidebar": "Contents",
   "toc_cell": true,
   "toc_position": {
    "height": "calc(100% - 180px)",
    "left": "10px",
    "top": "150px",
    "width": "259.339px"
   },
   "toc_section_display": true,
   "toc_window_display": true
  }
 },
 "nbformat": 4,
 "nbformat_minor": 2
}
