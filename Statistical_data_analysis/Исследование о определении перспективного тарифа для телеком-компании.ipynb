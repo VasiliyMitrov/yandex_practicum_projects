{
 "cells": [
  {
   "cell_type": "markdown",
   "metadata": {
    "toc": true
   },
   "source": [
    "<h1>Table of Contents<span class=\"tocSkip\"></span></h1>\n",
    "<div class=\"toc\"><ul class=\"toc-item\"><li><span><a href=\"#Исследование-о-определении-перспективного-тарифа-для-телеком-компании\" data-toc-modified-id=\"Исследование-о-определении-перспективного-тарифа-для-телеком-компании-1\">Исследование о определении перспективного тарифа для телеком-компании</a></span></li><li><span><a href=\"#Цель-исследования\" data-toc-modified-id=\"Цель-исследования-2\">Цель исследования</a></span></li><li><span><a href=\"#Описание-тарифов\" data-toc-modified-id=\"Описание-тарифов-3\">Описание тарифов</a></span></li><li><span><a href=\"#1-Изучение-данных-из-файла\" data-toc-modified-id=\"1-Изучение-данных-из-файла-4\">1 Изучение данных из файла</a></span><ul class=\"toc-item\"><li><span><a href=\"#Импортируем-библиотеки,-выводим-таблицы-и-знакомимся-с-данными\" data-toc-modified-id=\"Импортируем-библиотеки,-выводим-таблицы-и-знакомимся-с-данными-4.1\">Импортируем библиотеки, выводим таблицы и знакомимся с данными</a></span></li><li><span><a href=\"#Вывод:\" data-toc-modified-id=\"Вывод:-4.2\">Вывод:</a></span></li></ul></li><li><span><a href=\"#2-Подготовка-данных\" data-toc-modified-id=\"2-Подготовка-данных-5\">2 Подготовка данных</a></span></li><li><span><a href=\"#2-Вывод:\" data-toc-modified-id=\"2-Вывод:-6\">2 Вывод:</a></span></li><li><span><a href=\"#3-Проанилизируем-данные.\" data-toc-modified-id=\"3-Проанилизируем-данные.-7\">3 Проанилизируем данные.</a></span></li><li><span><a href=\"#3-Вывод:\" data-toc-modified-id=\"3-Вывод:-8\">3 Вывод:</a></span></li><li><span><a href=\"#4-Проверка-гипотез\" data-toc-modified-id=\"4-Проверка-гипотез-9\">4 Проверка гипотез</a></span></li><li><span><a href=\"#4-Вывод:\" data-toc-modified-id=\"4-Вывод:-10\">4 Вывод:</a></span></li><li><span><a href=\"#5-Общий-вывод\" data-toc-modified-id=\"5-Общий-вывод-11\">5 Общий вывод</a></span></li></ul></div>"
   ]
  },
  {
   "cell_type": "markdown",
   "metadata": {},
   "source": [
    "<div class=\"alert alert-info\"> <b>Комментарий студента:</b> Ярослав, спасибо огромное за твоё ревью и советы, все кратко и по делу! Не везде правда исправил, но поработал с графиками. Подскажи пожалуйста, как сделать красивое оглавление? И так и сяк старался не вышло. Буду благодарен :).</div>"
   ]
  },
  {
   "cell_type": "markdown",
   "metadata": {},
   "source": [
    "<div class=\"alert alert-success\">\n",
    "    \n",
    "<b> Комментарий от ревьюера 2 ✔️</b>\n",
    "\n",
    "1. Можешь сделать его сам с помощью html тегов, [тут](https://stackoverflow.com/questions/21151450/how-can-i-add-a-table-of-contents-to-a-jupyter-jupyterlab-notebook) пример\n",
    "    \n",
    "1. На сервере Практикума установлен плагин [ToC2](https://jupyter-contrib-nbextensions.readthedocs.io/en/latest/nbextensions/toc2/README.html) \n",
    "    1. можешь нажать сверху в меню на кнопку с изображением списка (чуть правее \"Validate\")\n",
    "    1. слева появится оглавление, там нужно нажать на значек шестеренки рядом со словом Contents\n",
    "    1. откроются настройки плагина, нужно поставить галочку \"Add notebook ToC cell\"\n",
    "    \n",
    "    * Постарайся использовать заголовки разного уровня (сейчас у тебя в проекте только заголовки первого уровня), чтобы оглавление выглядело пободрее. Про заголовки можешь посмотреть [тут](https://paulradzkov.com/2014/markdown_cheatsheet/)\n",
    "\n",
    "</div>\n",
    "\n",
    "\n"
   ]
  },
  {
   "cell_type": "markdown",
   "metadata": {},
   "source": [
    "# Исследование о определении перспективного тарифа для телеком-компании \n",
    "\n",
    "Клиентам компании «Мегалайн» — федерального оператора сотовой связи, предлагают два тарифных плана: «Смарт» и «Ультра». Чтобы скорректировать рекламный бюджет, коммерческий департамент хочет понять, какой тариф приносит больше денег.\n",
    "# Цель исследования\n",
    "\n",
    "Предстоит сделать предварительный анализ тарифов на небольшой выборке клиентов. В нашем распоряжении данные 500 пользователей «Мегалайна»: кто они, откуда, каким тарифом пользуются, сколько звонков и сообщений каждый отправил за 2018 год. Нужно проанализировать поведение клиентов и сделать вывод — какой тариф лучше.\n",
    "\n",
    "**Проверить гипотезы:**\n",
    "* средняя выручка пользователей тарифов «Ультра» и «Смарт» различаются;\n",
    "* средняя выручка пользователей из Москвы отличается от выручки пользователей из других регионов.\n",
    "\n",
    "# Описание тарифов\n",
    "**Тариф «Смарт»**\n",
    "1. Ежемесячная плата: 550 рублей\n",
    "2. Включено 500 минут разговора, 50 сообщений и 15 Гб интернет-трафика\n",
    "3.Стоимость услуг сверх тарифного пакета: 1. минута разговора: 3 рубля («Мегалайн» всегда округляет вверх значения минут и мегабайтов. Если пользователь проговорил всего 1 секунду, в тарифе засчитывается целая минута); 2. сообщение: 3 рубля; 3. 1 Гб интернет-трафика: 200 рублей.\n",
    "\n",
    "**Тариф «Ультра»**\n",
    "1. Ежемесячная плата: 1950 рублей\n",
    "2. Включено 3000 минут разговора, 1000 сообщений и 30 Гб интернет-трафика\n",
    "3. Стоимость услуг сверх тарифного пакета: 1. минута разговора: 1 рубль; 2. сообщение: 1 рубль; 3. 1 Гб интернет-трафика: 150 рублей.\n"
   ]
  },
  {
   "cell_type": "markdown",
   "metadata": {},
   "source": [
    "## 1 Изучение данных из файла"
   ]
  },
  {
   "cell_type": "markdown",
   "metadata": {},
   "source": [
    "### Импортируем библиотеки, выводим таблицы и знакомимся с данными"
   ]
  },
  {
   "cell_type": "code",
   "execution_count": 1,
   "metadata": {},
   "outputs": [],
   "source": [
    "from scipy import stats as st\n",
    "import numpy as np # импортирую библиотеку pandas\n",
    "import pandas as pd # импортирую библиотеку pandas\n",
    "import matplotlib.pyplot as plt # импорт библиотек для работы с графиками\n",
    "import seaborn as sns # библиотека для графиков\n",
    "import math # математическая библиотека\n",
    "\n",
    "pd.options.display.max_columns = 40\n",
    "import warnings\n",
    "warnings.filterwarnings('ignore')"
   ]
  },
  {
   "cell_type": "code",
   "execution_count": 2,
   "metadata": {},
   "outputs": [],
   "source": [
    "df_calls = pd.read_csv('/data/calls.csv')\n",
    "df_internet = pd.read_csv('/data/internet.csv')\n",
    "df_messages = pd.read_csv('/data/messages.csv')\n",
    "df_tariffs = pd.read_csv('/data/tariffs.csv')\n",
    "df_users = pd.read_csv('/data/users.csv')"
   ]
  },
  {
   "cell_type": "markdown",
   "metadata": {},
   "source": [
    "**Выводим первые 15 строк таблицы c данными( и так по каждой из 5)**"
   ]
  },
  {
   "cell_type": "code",
   "execution_count": 3,
   "metadata": {},
   "outputs": [
    {
     "data": {
      "text/html": [
       "<div>\n",
       "<style scoped>\n",
       "    .dataframe tbody tr th:only-of-type {\n",
       "        vertical-align: middle;\n",
       "    }\n",
       "\n",
       "    .dataframe tbody tr th {\n",
       "        vertical-align: top;\n",
       "    }\n",
       "\n",
       "    .dataframe thead th {\n",
       "        text-align: right;\n",
       "    }\n",
       "</style>\n",
       "<table border=\"1\" class=\"dataframe\">\n",
       "  <thead>\n",
       "    <tr style=\"text-align: right;\">\n",
       "      <th></th>\n",
       "      <th>id</th>\n",
       "      <th>call_date</th>\n",
       "      <th>duration</th>\n",
       "      <th>user_id</th>\n",
       "    </tr>\n",
       "  </thead>\n",
       "  <tbody>\n",
       "    <tr>\n",
       "      <th>0</th>\n",
       "      <td>1000_0</td>\n",
       "      <td>2018-07-25</td>\n",
       "      <td>0.00</td>\n",
       "      <td>1000</td>\n",
       "    </tr>\n",
       "    <tr>\n",
       "      <th>1</th>\n",
       "      <td>1000_1</td>\n",
       "      <td>2018-08-17</td>\n",
       "      <td>0.00</td>\n",
       "      <td>1000</td>\n",
       "    </tr>\n",
       "    <tr>\n",
       "      <th>2</th>\n",
       "      <td>1000_2</td>\n",
       "      <td>2018-06-11</td>\n",
       "      <td>2.85</td>\n",
       "      <td>1000</td>\n",
       "    </tr>\n",
       "    <tr>\n",
       "      <th>3</th>\n",
       "      <td>1000_3</td>\n",
       "      <td>2018-09-21</td>\n",
       "      <td>13.80</td>\n",
       "      <td>1000</td>\n",
       "    </tr>\n",
       "    <tr>\n",
       "      <th>4</th>\n",
       "      <td>1000_4</td>\n",
       "      <td>2018-12-15</td>\n",
       "      <td>5.18</td>\n",
       "      <td>1000</td>\n",
       "    </tr>\n",
       "    <tr>\n",
       "      <th>5</th>\n",
       "      <td>1000_5</td>\n",
       "      <td>2018-11-02</td>\n",
       "      <td>0.00</td>\n",
       "      <td>1000</td>\n",
       "    </tr>\n",
       "    <tr>\n",
       "      <th>6</th>\n",
       "      <td>1000_6</td>\n",
       "      <td>2018-10-18</td>\n",
       "      <td>0.00</td>\n",
       "      <td>1000</td>\n",
       "    </tr>\n",
       "    <tr>\n",
       "      <th>7</th>\n",
       "      <td>1000_7</td>\n",
       "      <td>2018-08-22</td>\n",
       "      <td>18.31</td>\n",
       "      <td>1000</td>\n",
       "    </tr>\n",
       "    <tr>\n",
       "      <th>8</th>\n",
       "      <td>1000_8</td>\n",
       "      <td>2018-09-15</td>\n",
       "      <td>18.44</td>\n",
       "      <td>1000</td>\n",
       "    </tr>\n",
       "    <tr>\n",
       "      <th>9</th>\n",
       "      <td>1000_9</td>\n",
       "      <td>2018-08-15</td>\n",
       "      <td>0.00</td>\n",
       "      <td>1000</td>\n",
       "    </tr>\n",
       "    <tr>\n",
       "      <th>10</th>\n",
       "      <td>1000_10</td>\n",
       "      <td>2018-08-22</td>\n",
       "      <td>5.03</td>\n",
       "      <td>1000</td>\n",
       "    </tr>\n",
       "    <tr>\n",
       "      <th>11</th>\n",
       "      <td>1000_11</td>\n",
       "      <td>2018-05-28</td>\n",
       "      <td>18.82</td>\n",
       "      <td>1000</td>\n",
       "    </tr>\n",
       "    <tr>\n",
       "      <th>12</th>\n",
       "      <td>1000_12</td>\n",
       "      <td>2018-07-05</td>\n",
       "      <td>2.02</td>\n",
       "      <td>1000</td>\n",
       "    </tr>\n",
       "    <tr>\n",
       "      <th>13</th>\n",
       "      <td>1000_13</td>\n",
       "      <td>2018-09-29</td>\n",
       "      <td>7.15</td>\n",
       "      <td>1000</td>\n",
       "    </tr>\n",
       "    <tr>\n",
       "      <th>14</th>\n",
       "      <td>1000_14</td>\n",
       "      <td>2018-12-11</td>\n",
       "      <td>9.13</td>\n",
       "      <td>1000</td>\n",
       "    </tr>\n",
       "  </tbody>\n",
       "</table>\n",
       "</div>"
      ],
      "text/plain": [
       "         id   call_date  duration  user_id\n",
       "0    1000_0  2018-07-25      0.00     1000\n",
       "1    1000_1  2018-08-17      0.00     1000\n",
       "2    1000_2  2018-06-11      2.85     1000\n",
       "3    1000_3  2018-09-21     13.80     1000\n",
       "4    1000_4  2018-12-15      5.18     1000\n",
       "5    1000_5  2018-11-02      0.00     1000\n",
       "6    1000_6  2018-10-18      0.00     1000\n",
       "7    1000_7  2018-08-22     18.31     1000\n",
       "8    1000_8  2018-09-15     18.44     1000\n",
       "9    1000_9  2018-08-15      0.00     1000\n",
       "10  1000_10  2018-08-22      5.03     1000\n",
       "11  1000_11  2018-05-28     18.82     1000\n",
       "12  1000_12  2018-07-05      2.02     1000\n",
       "13  1000_13  2018-09-29      7.15     1000\n",
       "14  1000_14  2018-12-11      9.13     1000"
      ]
     },
     "execution_count": 3,
     "metadata": {},
     "output_type": "execute_result"
    }
   ],
   "source": [
    "df_calls.head(15) "
   ]
  },
  {
   "cell_type": "markdown",
   "metadata": {},
   "source": [
    "**Получаем общую информацию о таблице( и так по каждой из 5)**"
   ]
  },
  {
   "cell_type": "code",
   "execution_count": 4,
   "metadata": {},
   "outputs": [
    {
     "name": "stdout",
     "output_type": "stream",
     "text": [
      "<class 'pandas.core.frame.DataFrame'>\n",
      "RangeIndex: 202607 entries, 0 to 202606\n",
      "Data columns (total 4 columns):\n",
      " #   Column     Non-Null Count   Dtype  \n",
      "---  ------     --------------   -----  \n",
      " 0   id         202607 non-null  object \n",
      " 1   call_date  202607 non-null  object \n",
      " 2   duration   202607 non-null  float64\n",
      " 3   user_id    202607 non-null  int64  \n",
      "dtypes: float64(1), int64(1), object(2)\n",
      "memory usage: 6.2+ MB\n"
     ]
    }
   ],
   "source": [
    "df_calls.info() "
   ]
  },
  {
   "cell_type": "code",
   "execution_count": 5,
   "metadata": {},
   "outputs": [
    {
     "data": {
      "text/html": [
       "<div>\n",
       "<style scoped>\n",
       "    .dataframe tbody tr th:only-of-type {\n",
       "        vertical-align: middle;\n",
       "    }\n",
       "\n",
       "    .dataframe tbody tr th {\n",
       "        vertical-align: top;\n",
       "    }\n",
       "\n",
       "    .dataframe thead th {\n",
       "        text-align: right;\n",
       "    }\n",
       "</style>\n",
       "<table border=\"1\" class=\"dataframe\">\n",
       "  <thead>\n",
       "    <tr style=\"text-align: right;\">\n",
       "      <th></th>\n",
       "      <th>Unnamed: 0</th>\n",
       "      <th>id</th>\n",
       "      <th>mb_used</th>\n",
       "      <th>session_date</th>\n",
       "      <th>user_id</th>\n",
       "    </tr>\n",
       "  </thead>\n",
       "  <tbody>\n",
       "    <tr>\n",
       "      <th>0</th>\n",
       "      <td>0</td>\n",
       "      <td>1000_0</td>\n",
       "      <td>112.95</td>\n",
       "      <td>2018-11-25</td>\n",
       "      <td>1000</td>\n",
       "    </tr>\n",
       "    <tr>\n",
       "      <th>1</th>\n",
       "      <td>1</td>\n",
       "      <td>1000_1</td>\n",
       "      <td>1052.81</td>\n",
       "      <td>2018-09-07</td>\n",
       "      <td>1000</td>\n",
       "    </tr>\n",
       "    <tr>\n",
       "      <th>2</th>\n",
       "      <td>2</td>\n",
       "      <td>1000_2</td>\n",
       "      <td>1197.26</td>\n",
       "      <td>2018-06-25</td>\n",
       "      <td>1000</td>\n",
       "    </tr>\n",
       "    <tr>\n",
       "      <th>3</th>\n",
       "      <td>3</td>\n",
       "      <td>1000_3</td>\n",
       "      <td>550.27</td>\n",
       "      <td>2018-08-22</td>\n",
       "      <td>1000</td>\n",
       "    </tr>\n",
       "    <tr>\n",
       "      <th>4</th>\n",
       "      <td>4</td>\n",
       "      <td>1000_4</td>\n",
       "      <td>302.56</td>\n",
       "      <td>2018-09-24</td>\n",
       "      <td>1000</td>\n",
       "    </tr>\n",
       "    <tr>\n",
       "      <th>5</th>\n",
       "      <td>5</td>\n",
       "      <td>1000_5</td>\n",
       "      <td>399.97</td>\n",
       "      <td>2018-10-02</td>\n",
       "      <td>1000</td>\n",
       "    </tr>\n",
       "    <tr>\n",
       "      <th>6</th>\n",
       "      <td>6</td>\n",
       "      <td>1000_6</td>\n",
       "      <td>540.08</td>\n",
       "      <td>2018-09-07</td>\n",
       "      <td>1000</td>\n",
       "    </tr>\n",
       "    <tr>\n",
       "      <th>7</th>\n",
       "      <td>7</td>\n",
       "      <td>1000_7</td>\n",
       "      <td>415.70</td>\n",
       "      <td>2018-07-11</td>\n",
       "      <td>1000</td>\n",
       "    </tr>\n",
       "    <tr>\n",
       "      <th>8</th>\n",
       "      <td>8</td>\n",
       "      <td>1000_8</td>\n",
       "      <td>505.40</td>\n",
       "      <td>2018-10-08</td>\n",
       "      <td>1000</td>\n",
       "    </tr>\n",
       "    <tr>\n",
       "      <th>9</th>\n",
       "      <td>9</td>\n",
       "      <td>1000_9</td>\n",
       "      <td>345.54</td>\n",
       "      <td>2018-09-03</td>\n",
       "      <td>1000</td>\n",
       "    </tr>\n",
       "    <tr>\n",
       "      <th>10</th>\n",
       "      <td>10</td>\n",
       "      <td>1000_10</td>\n",
       "      <td>385.14</td>\n",
       "      <td>2018-09-27</td>\n",
       "      <td>1000</td>\n",
       "    </tr>\n",
       "    <tr>\n",
       "      <th>11</th>\n",
       "      <td>11</td>\n",
       "      <td>1000_11</td>\n",
       "      <td>0.00</td>\n",
       "      <td>2018-08-28</td>\n",
       "      <td>1000</td>\n",
       "    </tr>\n",
       "    <tr>\n",
       "      <th>12</th>\n",
       "      <td>12</td>\n",
       "      <td>1000_12</td>\n",
       "      <td>375.87</td>\n",
       "      <td>2018-06-20</td>\n",
       "      <td>1000</td>\n",
       "    </tr>\n",
       "    <tr>\n",
       "      <th>13</th>\n",
       "      <td>13</td>\n",
       "      <td>1000_13</td>\n",
       "      <td>393.83</td>\n",
       "      <td>2018-08-09</td>\n",
       "      <td>1000</td>\n",
       "    </tr>\n",
       "    <tr>\n",
       "      <th>14</th>\n",
       "      <td>14</td>\n",
       "      <td>1000_14</td>\n",
       "      <td>180.64</td>\n",
       "      <td>2018-08-11</td>\n",
       "      <td>1000</td>\n",
       "    </tr>\n",
       "  </tbody>\n",
       "</table>\n",
       "</div>"
      ],
      "text/plain": [
       "    Unnamed: 0       id  mb_used session_date  user_id\n",
       "0            0   1000_0   112.95   2018-11-25     1000\n",
       "1            1   1000_1  1052.81   2018-09-07     1000\n",
       "2            2   1000_2  1197.26   2018-06-25     1000\n",
       "3            3   1000_3   550.27   2018-08-22     1000\n",
       "4            4   1000_4   302.56   2018-09-24     1000\n",
       "5            5   1000_5   399.97   2018-10-02     1000\n",
       "6            6   1000_6   540.08   2018-09-07     1000\n",
       "7            7   1000_7   415.70   2018-07-11     1000\n",
       "8            8   1000_8   505.40   2018-10-08     1000\n",
       "9            9   1000_9   345.54   2018-09-03     1000\n",
       "10          10  1000_10   385.14   2018-09-27     1000\n",
       "11          11  1000_11     0.00   2018-08-28     1000\n",
       "12          12  1000_12   375.87   2018-06-20     1000\n",
       "13          13  1000_13   393.83   2018-08-09     1000\n",
       "14          14  1000_14   180.64   2018-08-11     1000"
      ]
     },
     "execution_count": 5,
     "metadata": {},
     "output_type": "execute_result"
    }
   ],
   "source": [
    "df_internet.head(15)"
   ]
  },
  {
   "cell_type": "code",
   "execution_count": 6,
   "metadata": {},
   "outputs": [
    {
     "name": "stdout",
     "output_type": "stream",
     "text": [
      "<class 'pandas.core.frame.DataFrame'>\n",
      "RangeIndex: 149396 entries, 0 to 149395\n",
      "Data columns (total 5 columns):\n",
      " #   Column        Non-Null Count   Dtype  \n",
      "---  ------        --------------   -----  \n",
      " 0   Unnamed: 0    149396 non-null  int64  \n",
      " 1   id            149396 non-null  object \n",
      " 2   mb_used       149396 non-null  float64\n",
      " 3   session_date  149396 non-null  object \n",
      " 4   user_id       149396 non-null  int64  \n",
      "dtypes: float64(1), int64(2), object(2)\n",
      "memory usage: 5.7+ MB\n"
     ]
    }
   ],
   "source": [
    "df_internet.info()"
   ]
  },
  {
   "cell_type": "code",
   "execution_count": 7,
   "metadata": {},
   "outputs": [
    {
     "data": {
      "text/html": [
       "<div>\n",
       "<style scoped>\n",
       "    .dataframe tbody tr th:only-of-type {\n",
       "        vertical-align: middle;\n",
       "    }\n",
       "\n",
       "    .dataframe tbody tr th {\n",
       "        vertical-align: top;\n",
       "    }\n",
       "\n",
       "    .dataframe thead th {\n",
       "        text-align: right;\n",
       "    }\n",
       "</style>\n",
       "<table border=\"1\" class=\"dataframe\">\n",
       "  <thead>\n",
       "    <tr style=\"text-align: right;\">\n",
       "      <th></th>\n",
       "      <th>id</th>\n",
       "      <th>message_date</th>\n",
       "      <th>user_id</th>\n",
       "    </tr>\n",
       "  </thead>\n",
       "  <tbody>\n",
       "    <tr>\n",
       "      <th>0</th>\n",
       "      <td>1000_0</td>\n",
       "      <td>2018-06-27</td>\n",
       "      <td>1000</td>\n",
       "    </tr>\n",
       "    <tr>\n",
       "      <th>1</th>\n",
       "      <td>1000_1</td>\n",
       "      <td>2018-10-08</td>\n",
       "      <td>1000</td>\n",
       "    </tr>\n",
       "    <tr>\n",
       "      <th>2</th>\n",
       "      <td>1000_2</td>\n",
       "      <td>2018-08-04</td>\n",
       "      <td>1000</td>\n",
       "    </tr>\n",
       "    <tr>\n",
       "      <th>3</th>\n",
       "      <td>1000_3</td>\n",
       "      <td>2018-06-16</td>\n",
       "      <td>1000</td>\n",
       "    </tr>\n",
       "    <tr>\n",
       "      <th>4</th>\n",
       "      <td>1000_4</td>\n",
       "      <td>2018-12-05</td>\n",
       "      <td>1000</td>\n",
       "    </tr>\n",
       "    <tr>\n",
       "      <th>5</th>\n",
       "      <td>1000_5</td>\n",
       "      <td>2018-06-20</td>\n",
       "      <td>1000</td>\n",
       "    </tr>\n",
       "    <tr>\n",
       "      <th>6</th>\n",
       "      <td>1000_6</td>\n",
       "      <td>2018-11-19</td>\n",
       "      <td>1000</td>\n",
       "    </tr>\n",
       "    <tr>\n",
       "      <th>7</th>\n",
       "      <td>1000_7</td>\n",
       "      <td>2018-10-29</td>\n",
       "      <td>1000</td>\n",
       "    </tr>\n",
       "    <tr>\n",
       "      <th>8</th>\n",
       "      <td>1000_8</td>\n",
       "      <td>2018-06-25</td>\n",
       "      <td>1000</td>\n",
       "    </tr>\n",
       "    <tr>\n",
       "      <th>9</th>\n",
       "      <td>1000_9</td>\n",
       "      <td>2018-12-18</td>\n",
       "      <td>1000</td>\n",
       "    </tr>\n",
       "    <tr>\n",
       "      <th>10</th>\n",
       "      <td>1000_10</td>\n",
       "      <td>2018-05-30</td>\n",
       "      <td>1000</td>\n",
       "    </tr>\n",
       "    <tr>\n",
       "      <th>11</th>\n",
       "      <td>1000_11</td>\n",
       "      <td>2018-07-06</td>\n",
       "      <td>1000</td>\n",
       "    </tr>\n",
       "    <tr>\n",
       "      <th>12</th>\n",
       "      <td>1000_12</td>\n",
       "      <td>2018-08-20</td>\n",
       "      <td>1000</td>\n",
       "    </tr>\n",
       "    <tr>\n",
       "      <th>13</th>\n",
       "      <td>1000_13</td>\n",
       "      <td>2018-10-30</td>\n",
       "      <td>1000</td>\n",
       "    </tr>\n",
       "    <tr>\n",
       "      <th>14</th>\n",
       "      <td>1000_14</td>\n",
       "      <td>2018-09-14</td>\n",
       "      <td>1000</td>\n",
       "    </tr>\n",
       "  </tbody>\n",
       "</table>\n",
       "</div>"
      ],
      "text/plain": [
       "         id message_date  user_id\n",
       "0    1000_0   2018-06-27     1000\n",
       "1    1000_1   2018-10-08     1000\n",
       "2    1000_2   2018-08-04     1000\n",
       "3    1000_3   2018-06-16     1000\n",
       "4    1000_4   2018-12-05     1000\n",
       "5    1000_5   2018-06-20     1000\n",
       "6    1000_6   2018-11-19     1000\n",
       "7    1000_7   2018-10-29     1000\n",
       "8    1000_8   2018-06-25     1000\n",
       "9    1000_9   2018-12-18     1000\n",
       "10  1000_10   2018-05-30     1000\n",
       "11  1000_11   2018-07-06     1000\n",
       "12  1000_12   2018-08-20     1000\n",
       "13  1000_13   2018-10-30     1000\n",
       "14  1000_14   2018-09-14     1000"
      ]
     },
     "execution_count": 7,
     "metadata": {},
     "output_type": "execute_result"
    }
   ],
   "source": [
    "df_messages.head(15)"
   ]
  },
  {
   "cell_type": "code",
   "execution_count": 8,
   "metadata": {},
   "outputs": [
    {
     "name": "stdout",
     "output_type": "stream",
     "text": [
      "<class 'pandas.core.frame.DataFrame'>\n",
      "RangeIndex: 123036 entries, 0 to 123035\n",
      "Data columns (total 3 columns):\n",
      " #   Column        Non-Null Count   Dtype \n",
      "---  ------        --------------   ----- \n",
      " 0   id            123036 non-null  object\n",
      " 1   message_date  123036 non-null  object\n",
      " 2   user_id       123036 non-null  int64 \n",
      "dtypes: int64(1), object(2)\n",
      "memory usage: 2.8+ MB\n"
     ]
    }
   ],
   "source": [
    "df_messages.info()"
   ]
  },
  {
   "cell_type": "code",
   "execution_count": 9,
   "metadata": {},
   "outputs": [
    {
     "data": {
      "text/html": [
       "<div>\n",
       "<style scoped>\n",
       "    .dataframe tbody tr th:only-of-type {\n",
       "        vertical-align: middle;\n",
       "    }\n",
       "\n",
       "    .dataframe tbody tr th {\n",
       "        vertical-align: top;\n",
       "    }\n",
       "\n",
       "    .dataframe thead th {\n",
       "        text-align: right;\n",
       "    }\n",
       "</style>\n",
       "<table border=\"1\" class=\"dataframe\">\n",
       "  <thead>\n",
       "    <tr style=\"text-align: right;\">\n",
       "      <th></th>\n",
       "      <th>messages_included</th>\n",
       "      <th>mb_per_month_included</th>\n",
       "      <th>minutes_included</th>\n",
       "      <th>rub_monthly_fee</th>\n",
       "      <th>rub_per_gb</th>\n",
       "      <th>rub_per_message</th>\n",
       "      <th>rub_per_minute</th>\n",
       "      <th>tariff_name</th>\n",
       "    </tr>\n",
       "  </thead>\n",
       "  <tbody>\n",
       "    <tr>\n",
       "      <th>0</th>\n",
       "      <td>50</td>\n",
       "      <td>15360</td>\n",
       "      <td>500</td>\n",
       "      <td>550</td>\n",
       "      <td>200</td>\n",
       "      <td>3</td>\n",
       "      <td>3</td>\n",
       "      <td>smart</td>\n",
       "    </tr>\n",
       "    <tr>\n",
       "      <th>1</th>\n",
       "      <td>1000</td>\n",
       "      <td>30720</td>\n",
       "      <td>3000</td>\n",
       "      <td>1950</td>\n",
       "      <td>150</td>\n",
       "      <td>1</td>\n",
       "      <td>1</td>\n",
       "      <td>ultra</td>\n",
       "    </tr>\n",
       "  </tbody>\n",
       "</table>\n",
       "</div>"
      ],
      "text/plain": [
       "   messages_included  mb_per_month_included  minutes_included  \\\n",
       "0                 50                  15360               500   \n",
       "1               1000                  30720              3000   \n",
       "\n",
       "   rub_monthly_fee  rub_per_gb  rub_per_message  rub_per_minute tariff_name  \n",
       "0              550         200                3               3       smart  \n",
       "1             1950         150                1               1       ultra  "
      ]
     },
     "execution_count": 9,
     "metadata": {},
     "output_type": "execute_result"
    }
   ],
   "source": [
    "df_tariffs.head(15)"
   ]
  },
  {
   "cell_type": "code",
   "execution_count": 10,
   "metadata": {},
   "outputs": [
    {
     "name": "stdout",
     "output_type": "stream",
     "text": [
      "<class 'pandas.core.frame.DataFrame'>\n",
      "RangeIndex: 2 entries, 0 to 1\n",
      "Data columns (total 8 columns):\n",
      " #   Column                 Non-Null Count  Dtype \n",
      "---  ------                 --------------  ----- \n",
      " 0   messages_included      2 non-null      int64 \n",
      " 1   mb_per_month_included  2 non-null      int64 \n",
      " 2   minutes_included       2 non-null      int64 \n",
      " 3   rub_monthly_fee        2 non-null      int64 \n",
      " 4   rub_per_gb             2 non-null      int64 \n",
      " 5   rub_per_message        2 non-null      int64 \n",
      " 6   rub_per_minute         2 non-null      int64 \n",
      " 7   tariff_name            2 non-null      object\n",
      "dtypes: int64(7), object(1)\n",
      "memory usage: 256.0+ bytes\n"
     ]
    }
   ],
   "source": [
    "df_tariffs.info()"
   ]
  },
  {
   "cell_type": "code",
   "execution_count": 11,
   "metadata": {},
   "outputs": [
    {
     "data": {
      "text/html": [
       "<div>\n",
       "<style scoped>\n",
       "    .dataframe tbody tr th:only-of-type {\n",
       "        vertical-align: middle;\n",
       "    }\n",
       "\n",
       "    .dataframe tbody tr th {\n",
       "        vertical-align: top;\n",
       "    }\n",
       "\n",
       "    .dataframe thead th {\n",
       "        text-align: right;\n",
       "    }\n",
       "</style>\n",
       "<table border=\"1\" class=\"dataframe\">\n",
       "  <thead>\n",
       "    <tr style=\"text-align: right;\">\n",
       "      <th></th>\n",
       "      <th>user_id</th>\n",
       "      <th>age</th>\n",
       "      <th>churn_date</th>\n",
       "      <th>city</th>\n",
       "      <th>first_name</th>\n",
       "      <th>last_name</th>\n",
       "      <th>reg_date</th>\n",
       "      <th>tariff</th>\n",
       "    </tr>\n",
       "  </thead>\n",
       "  <tbody>\n",
       "    <tr>\n",
       "      <th>0</th>\n",
       "      <td>1000</td>\n",
       "      <td>52</td>\n",
       "      <td>NaN</td>\n",
       "      <td>Краснодар</td>\n",
       "      <td>Рафаил</td>\n",
       "      <td>Верещагин</td>\n",
       "      <td>2018-05-25</td>\n",
       "      <td>ultra</td>\n",
       "    </tr>\n",
       "    <tr>\n",
       "      <th>1</th>\n",
       "      <td>1001</td>\n",
       "      <td>41</td>\n",
       "      <td>NaN</td>\n",
       "      <td>Москва</td>\n",
       "      <td>Иван</td>\n",
       "      <td>Ежов</td>\n",
       "      <td>2018-11-01</td>\n",
       "      <td>smart</td>\n",
       "    </tr>\n",
       "    <tr>\n",
       "      <th>2</th>\n",
       "      <td>1002</td>\n",
       "      <td>59</td>\n",
       "      <td>NaN</td>\n",
       "      <td>Стерлитамак</td>\n",
       "      <td>Евгений</td>\n",
       "      <td>Абрамович</td>\n",
       "      <td>2018-06-17</td>\n",
       "      <td>smart</td>\n",
       "    </tr>\n",
       "    <tr>\n",
       "      <th>3</th>\n",
       "      <td>1003</td>\n",
       "      <td>23</td>\n",
       "      <td>NaN</td>\n",
       "      <td>Москва</td>\n",
       "      <td>Белла</td>\n",
       "      <td>Белякова</td>\n",
       "      <td>2018-08-17</td>\n",
       "      <td>ultra</td>\n",
       "    </tr>\n",
       "    <tr>\n",
       "      <th>4</th>\n",
       "      <td>1004</td>\n",
       "      <td>68</td>\n",
       "      <td>NaN</td>\n",
       "      <td>Новокузнецк</td>\n",
       "      <td>Татьяна</td>\n",
       "      <td>Авдеенко</td>\n",
       "      <td>2018-05-14</td>\n",
       "      <td>ultra</td>\n",
       "    </tr>\n",
       "    <tr>\n",
       "      <th>5</th>\n",
       "      <td>1005</td>\n",
       "      <td>67</td>\n",
       "      <td>NaN</td>\n",
       "      <td>Набережные Челны</td>\n",
       "      <td>Афанасий</td>\n",
       "      <td>Горлов</td>\n",
       "      <td>2018-01-25</td>\n",
       "      <td>smart</td>\n",
       "    </tr>\n",
       "    <tr>\n",
       "      <th>6</th>\n",
       "      <td>1006</td>\n",
       "      <td>21</td>\n",
       "      <td>NaN</td>\n",
       "      <td>Ульяновск</td>\n",
       "      <td>Леонид</td>\n",
       "      <td>Ермолаев</td>\n",
       "      <td>2018-02-26</td>\n",
       "      <td>smart</td>\n",
       "    </tr>\n",
       "    <tr>\n",
       "      <th>7</th>\n",
       "      <td>1007</td>\n",
       "      <td>65</td>\n",
       "      <td>NaN</td>\n",
       "      <td>Москва</td>\n",
       "      <td>Юна</td>\n",
       "      <td>Березина</td>\n",
       "      <td>2018-04-19</td>\n",
       "      <td>smart</td>\n",
       "    </tr>\n",
       "    <tr>\n",
       "      <th>8</th>\n",
       "      <td>1008</td>\n",
       "      <td>63</td>\n",
       "      <td>NaN</td>\n",
       "      <td>Челябинск</td>\n",
       "      <td>Рустэм</td>\n",
       "      <td>Пономарёв</td>\n",
       "      <td>2018-12-19</td>\n",
       "      <td>smart</td>\n",
       "    </tr>\n",
       "    <tr>\n",
       "      <th>9</th>\n",
       "      <td>1009</td>\n",
       "      <td>24</td>\n",
       "      <td>NaN</td>\n",
       "      <td>Пермь</td>\n",
       "      <td>Василиса</td>\n",
       "      <td>Блинова</td>\n",
       "      <td>2018-03-22</td>\n",
       "      <td>smart</td>\n",
       "    </tr>\n",
       "    <tr>\n",
       "      <th>10</th>\n",
       "      <td>1010</td>\n",
       "      <td>26</td>\n",
       "      <td>NaN</td>\n",
       "      <td>Тюмень</td>\n",
       "      <td>Эдуард</td>\n",
       "      <td>Кононов</td>\n",
       "      <td>2018-08-05</td>\n",
       "      <td>smart</td>\n",
       "    </tr>\n",
       "    <tr>\n",
       "      <th>11</th>\n",
       "      <td>1011</td>\n",
       "      <td>44</td>\n",
       "      <td>NaN</td>\n",
       "      <td>Самара</td>\n",
       "      <td>Веселина</td>\n",
       "      <td>Алёшко</td>\n",
       "      <td>2018-03-19</td>\n",
       "      <td>smart</td>\n",
       "    </tr>\n",
       "    <tr>\n",
       "      <th>12</th>\n",
       "      <td>1012</td>\n",
       "      <td>38</td>\n",
       "      <td>NaN</td>\n",
       "      <td>Санкт-Петербург</td>\n",
       "      <td>Варлам</td>\n",
       "      <td>Соловьев</td>\n",
       "      <td>2018-03-28</td>\n",
       "      <td>smart</td>\n",
       "    </tr>\n",
       "    <tr>\n",
       "      <th>13</th>\n",
       "      <td>1013</td>\n",
       "      <td>36</td>\n",
       "      <td>NaN</td>\n",
       "      <td>Иваново</td>\n",
       "      <td>Борис</td>\n",
       "      <td>Андреенко</td>\n",
       "      <td>2018-11-14</td>\n",
       "      <td>ultra</td>\n",
       "    </tr>\n",
       "    <tr>\n",
       "      <th>14</th>\n",
       "      <td>1014</td>\n",
       "      <td>64</td>\n",
       "      <td>NaN</td>\n",
       "      <td>Чебоксары</td>\n",
       "      <td>Яков</td>\n",
       "      <td>Акинфьев</td>\n",
       "      <td>2018-05-15</td>\n",
       "      <td>smart</td>\n",
       "    </tr>\n",
       "  </tbody>\n",
       "</table>\n",
       "</div>"
      ],
      "text/plain": [
       "    user_id  age churn_date              city first_name  last_name  \\\n",
       "0      1000   52        NaN         Краснодар     Рафаил  Верещагин   \n",
       "1      1001   41        NaN            Москва       Иван       Ежов   \n",
       "2      1002   59        NaN       Стерлитамак    Евгений  Абрамович   \n",
       "3      1003   23        NaN            Москва      Белла   Белякова   \n",
       "4      1004   68        NaN       Новокузнецк    Татьяна   Авдеенко   \n",
       "5      1005   67        NaN  Набережные Челны   Афанасий     Горлов   \n",
       "6      1006   21        NaN         Ульяновск     Леонид   Ермолаев   \n",
       "7      1007   65        NaN            Москва        Юна   Березина   \n",
       "8      1008   63        NaN         Челябинск     Рустэм  Пономарёв   \n",
       "9      1009   24        NaN             Пермь   Василиса    Блинова   \n",
       "10     1010   26        NaN            Тюмень     Эдуард    Кононов   \n",
       "11     1011   44        NaN            Самара   Веселина     Алёшко   \n",
       "12     1012   38        NaN   Санкт-Петербург     Варлам   Соловьев   \n",
       "13     1013   36        NaN           Иваново      Борис  Андреенко   \n",
       "14     1014   64        NaN         Чебоксары       Яков   Акинфьев   \n",
       "\n",
       "      reg_date tariff  \n",
       "0   2018-05-25  ultra  \n",
       "1   2018-11-01  smart  \n",
       "2   2018-06-17  smart  \n",
       "3   2018-08-17  ultra  \n",
       "4   2018-05-14  ultra  \n",
       "5   2018-01-25  smart  \n",
       "6   2018-02-26  smart  \n",
       "7   2018-04-19  smart  \n",
       "8   2018-12-19  smart  \n",
       "9   2018-03-22  smart  \n",
       "10  2018-08-05  smart  \n",
       "11  2018-03-19  smart  \n",
       "12  2018-03-28  smart  \n",
       "13  2018-11-14  ultra  \n",
       "14  2018-05-15  smart  "
      ]
     },
     "execution_count": 11,
     "metadata": {},
     "output_type": "execute_result"
    }
   ],
   "source": [
    "df_users.head(15)"
   ]
  },
  {
   "cell_type": "code",
   "execution_count": 12,
   "metadata": {},
   "outputs": [
    {
     "name": "stdout",
     "output_type": "stream",
     "text": [
      "<class 'pandas.core.frame.DataFrame'>\n",
      "RangeIndex: 500 entries, 0 to 499\n",
      "Data columns (total 8 columns):\n",
      " #   Column      Non-Null Count  Dtype \n",
      "---  ------      --------------  ----- \n",
      " 0   user_id     500 non-null    int64 \n",
      " 1   age         500 non-null    int64 \n",
      " 2   churn_date  38 non-null     object\n",
      " 3   city        500 non-null    object\n",
      " 4   first_name  500 non-null    object\n",
      " 5   last_name   500 non-null    object\n",
      " 6   reg_date    500 non-null    object\n",
      " 7   tariff      500 non-null    object\n",
      "dtypes: int64(2), object(6)\n",
      "memory usage: 31.4+ KB\n"
     ]
    }
   ],
   "source": [
    "df_users.info()"
   ]
  },
  {
   "cell_type": "markdown",
   "metadata": {},
   "source": [
    "##  Вывод:"
   ]
  },
  {
   "cell_type": "markdown",
   "metadata": {},
   "source": [
    "**В нашем распоряжении 5 таблиц:**\n",
    "\n",
    "**1. `df_calls`(информация о звонках) - 4 столбца, 202607 строк(записей). 3 типа данных:`float64(1)`, `int64(1)`, `object(2)`**\n",
    "\n",
    "**столбцы:**\n",
    "* `id` — уникальный номер звонка\n",
    "* `call_date` — дата звонка\n",
    "* `duration` — длительность звонка в минутах\n",
    "* `user_id` — идентификатор пользователя, сделавшего звонок\n",
    "\n",
    "**2. `df_internet`(информация об интернет-сессиях) - 5 столбцов, 149396  строк(записей). 3 типа данных:`float64(1)`, `int64(2)`, `object(2)`**\n",
    "\n",
    "**столбцы:**\n",
    "* `id` — уникальный номер сессии\n",
    "* `mb_used` — объём потраченного за сессию интернет-трафика (в мегабайтах)\n",
    "* `session_date` — дата интернет-сессии\n",
    "* `user_id` — идентификатор пользователя\n",
    "\n",
    "**3. `df_messages`(информация о сообщениях) - 3 столбца, 123036  строк(записей). 2 типа данных: `int64(1)`, `object(2)`**\n",
    "\n",
    "**столбцы:**\n",
    "* `id` — уникальный номер сообщения\n",
    "* `message_date` — дата сообщения\n",
    "* `user_id` — идентификатор пользователя, отправившего сообщение\n",
    "\n",
    "**4. `df_tariffs`(информация о тарифах) - 8 столбцов, 2 строки(записей). 2 типа данных: `int64(7)`, `object(1)`**\n",
    "\n",
    "**столбцы:**\n",
    "* `tariff_name` — название тарифа\n",
    "* `rub_monthly_fee` — ежемесячная абонентская плата в рублях\n",
    "* `minutes_included` — количество минут разговора в месяц, включённых в абонентскую плату\n",
    "* `messages_included` — количество сообщений в месяц, включённых в абонентскую плату\n",
    "* `mb_per_month_included` — объём интернет-трафика, включённого в абонентскую плату (в мегабайтах)\n",
    "* `rub_per_minute` — стоимость минуты разговора сверх тарифного пакета (например, если в тарифе 100 минут разговора в месяц, то со 101 минуты будет взиматься плата)\n",
    "* `rub_per_message` — стоимость отправки сообщения сверх тарифного пакета\n",
    "* `rub_per_gb` — стоимость дополнительного гигабайта интернет-трафика сверх тарифного пакета (1 гигабайт = 1024 мегабайта)\n",
    "\n",
    "**5. `df_users`(информация о пользователях) - 8 столбцов, 500 строк(записей). 2 типа данных: `int64(2)`, `object(6)`**\n",
    "\n",
    "**столбцы:**\n",
    "* `user_id` — уникальный идентификатор пользователя\n",
    "* `first_name` — имя пользователя\n",
    "* `last_name` — фамилия пользователя\n",
    "* `age` — возраст пользователя (годы)\n",
    "* `reg_date` — дата подключения тарифа (день, месяц, год)\n",
    "* `churn_date` — дата прекращения пользования тарифом (если значение пропущено, то тариф ещё действовал на момент выгрузки данных)\n",
    "* `city` — город проживания пользователя\n",
    "* `tarif` — название тарифного плана\n"
   ]
  },
  {
   "cell_type": "markdown",
   "metadata": {},
   "source": [
    "## 2 Подготовка данных"
   ]
  },
  {
   "cell_type": "markdown",
   "metadata": {},
   "source": [
    "### Предобработка данных"
   ]
  },
  {
   "cell_type": "markdown",
   "metadata": {},
   "source": [
    "**Для дальнейшей работы в первую очередь нужно найти пропуски и обработать при необходимости**"
   ]
  },
  {
   "cell_type": "code",
   "execution_count": 13,
   "metadata": {},
   "outputs": [
    {
     "data": {
      "text/plain": [
       "id           0\n",
       "call_date    0\n",
       "duration     0\n",
       "user_id      0\n",
       "dtype: int64"
      ]
     },
     "execution_count": 13,
     "metadata": {},
     "output_type": "execute_result"
    }
   ],
   "source": [
    "df_calls.isna().sum()"
   ]
  },
  {
   "cell_type": "code",
   "execution_count": 14,
   "metadata": {},
   "outputs": [
    {
     "data": {
      "text/plain": [
       "Unnamed: 0      0\n",
       "id              0\n",
       "mb_used         0\n",
       "session_date    0\n",
       "user_id         0\n",
       "dtype: int64"
      ]
     },
     "execution_count": 14,
     "metadata": {},
     "output_type": "execute_result"
    }
   ],
   "source": [
    "df_internet.isna().sum()"
   ]
  },
  {
   "cell_type": "code",
   "execution_count": 15,
   "metadata": {},
   "outputs": [
    {
     "data": {
      "text/plain": [
       "id              0\n",
       "message_date    0\n",
       "user_id         0\n",
       "dtype: int64"
      ]
     },
     "execution_count": 15,
     "metadata": {},
     "output_type": "execute_result"
    }
   ],
   "source": [
    "df_messages.isna().sum()"
   ]
  },
  {
   "cell_type": "code",
   "execution_count": 16,
   "metadata": {},
   "outputs": [
    {
     "data": {
      "text/plain": [
       "messages_included        0\n",
       "mb_per_month_included    0\n",
       "minutes_included         0\n",
       "rub_monthly_fee          0\n",
       "rub_per_gb               0\n",
       "rub_per_message          0\n",
       "rub_per_minute           0\n",
       "tariff_name              0\n",
       "dtype: int64"
      ]
     },
     "execution_count": 16,
     "metadata": {},
     "output_type": "execute_result"
    }
   ],
   "source": [
    "df_tariffs.isna().sum()"
   ]
  },
  {
   "cell_type": "code",
   "execution_count": 17,
   "metadata": {},
   "outputs": [
    {
     "data": {
      "text/plain": [
       "user_id         0\n",
       "age             0\n",
       "churn_date    462\n",
       "city            0\n",
       "first_name      0\n",
       "last_name       0\n",
       "reg_date        0\n",
       "tariff          0\n",
       "dtype: int64"
      ]
     },
     "execution_count": 17,
     "metadata": {},
     "output_type": "execute_result"
    }
   ],
   "source": [
    "df_users.isna().sum()"
   ]
  },
  {
   "cell_type": "markdown",
   "metadata": {},
   "source": [
    "**Как мы видим пропущенные значения встречаются только в таблице `df_users` в столбце `churn_date`. Значение пропущено, так как тариф ещё действовал на момент выгрузки данных.**"
   ]
  },
  {
   "cell_type": "code",
   "execution_count": 18,
   "metadata": {},
   "outputs": [],
   "source": [
    "df_calls['call_date'] = pd.to_datetime(df_calls['call_date'], format = '%Y-%m-%d') #форматируем столбец call_date, приводим к типу datetime для удобства дальнейшей работы"
   ]
  },
  {
   "cell_type": "code",
   "execution_count": 19,
   "metadata": {},
   "outputs": [
    {
     "name": "stdout",
     "output_type": "stream",
     "text": [
      "<class 'pandas.core.frame.DataFrame'>\n",
      "RangeIndex: 202607 entries, 0 to 202606\n",
      "Data columns (total 4 columns):\n",
      " #   Column     Non-Null Count   Dtype         \n",
      "---  ------     --------------   -----         \n",
      " 0   id         202607 non-null  object        \n",
      " 1   call_date  202607 non-null  datetime64[ns]\n",
      " 2   duration   202607 non-null  float64       \n",
      " 3   user_id    202607 non-null  int64         \n",
      "dtypes: datetime64[ns](1), float64(1), int64(1), object(1)\n",
      "memory usage: 6.2+ MB\n"
     ]
    }
   ],
   "source": [
    "df_calls.info()# проверяем, столбец принял нужный тип"
   ]
  },
  {
   "cell_type": "code",
   "execution_count": 20,
   "metadata": {},
   "outputs": [
    {
     "data": {
      "text/plain": [
       "0          0\n",
       "1          0\n",
       "2          3\n",
       "3         14\n",
       "4          6\n",
       "          ..\n",
       "202602     1\n",
       "202603    19\n",
       "202604    11\n",
       "202605     5\n",
       "202606    20\n",
       "Name: duration, Length: 202607, dtype: int64"
      ]
     },
     "execution_count": 20,
     "metadata": {},
     "output_type": "execute_result"
    }
   ],
   "source": [
    "def cell_value(x): #округляем значения в колонке duration таблице df_calls в большую сторону\n",
    "    return math.ceil(x)\n",
    "df_calls['duration'].apply(math.ceil)"
   ]
  },
  {
   "cell_type": "code",
   "execution_count": 21,
   "metadata": {},
   "outputs": [
    {
     "data": {
      "text/html": [
       "<div>\n",
       "<style scoped>\n",
       "    .dataframe tbody tr th:only-of-type {\n",
       "        vertical-align: middle;\n",
       "    }\n",
       "\n",
       "    .dataframe tbody tr th {\n",
       "        vertical-align: top;\n",
       "    }\n",
       "\n",
       "    .dataframe thead th {\n",
       "        text-align: right;\n",
       "    }\n",
       "</style>\n",
       "<table border=\"1\" class=\"dataframe\">\n",
       "  <thead>\n",
       "    <tr style=\"text-align: right;\">\n",
       "      <th></th>\n",
       "      <th>id</th>\n",
       "      <th>call_date</th>\n",
       "      <th>duration</th>\n",
       "      <th>user_id</th>\n",
       "    </tr>\n",
       "  </thead>\n",
       "  <tbody>\n",
       "    <tr>\n",
       "      <th>0</th>\n",
       "      <td>1000_0</td>\n",
       "      <td>2018-07-25</td>\n",
       "      <td>0.00</td>\n",
       "      <td>1000</td>\n",
       "    </tr>\n",
       "    <tr>\n",
       "      <th>1</th>\n",
       "      <td>1000_1</td>\n",
       "      <td>2018-08-17</td>\n",
       "      <td>0.00</td>\n",
       "      <td>1000</td>\n",
       "    </tr>\n",
       "    <tr>\n",
       "      <th>2</th>\n",
       "      <td>1000_2</td>\n",
       "      <td>2018-06-11</td>\n",
       "      <td>2.85</td>\n",
       "      <td>1000</td>\n",
       "    </tr>\n",
       "    <tr>\n",
       "      <th>3</th>\n",
       "      <td>1000_3</td>\n",
       "      <td>2018-09-21</td>\n",
       "      <td>13.80</td>\n",
       "      <td>1000</td>\n",
       "    </tr>\n",
       "    <tr>\n",
       "      <th>4</th>\n",
       "      <td>1000_4</td>\n",
       "      <td>2018-12-15</td>\n",
       "      <td>5.18</td>\n",
       "      <td>1000</td>\n",
       "    </tr>\n",
       "    <tr>\n",
       "      <th>...</th>\n",
       "      <td>...</td>\n",
       "      <td>...</td>\n",
       "      <td>...</td>\n",
       "      <td>...</td>\n",
       "    </tr>\n",
       "    <tr>\n",
       "      <th>202602</th>\n",
       "      <td>1499_215</td>\n",
       "      <td>2018-12-26</td>\n",
       "      <td>0.76</td>\n",
       "      <td>1499</td>\n",
       "    </tr>\n",
       "    <tr>\n",
       "      <th>202603</th>\n",
       "      <td>1499_216</td>\n",
       "      <td>2018-10-18</td>\n",
       "      <td>18.83</td>\n",
       "      <td>1499</td>\n",
       "    </tr>\n",
       "    <tr>\n",
       "      <th>202604</th>\n",
       "      <td>1499_217</td>\n",
       "      <td>2018-11-10</td>\n",
       "      <td>10.81</td>\n",
       "      <td>1499</td>\n",
       "    </tr>\n",
       "    <tr>\n",
       "      <th>202605</th>\n",
       "      <td>1499_218</td>\n",
       "      <td>2018-10-06</td>\n",
       "      <td>4.27</td>\n",
       "      <td>1499</td>\n",
       "    </tr>\n",
       "    <tr>\n",
       "      <th>202606</th>\n",
       "      <td>1499_219</td>\n",
       "      <td>2018-12-14</td>\n",
       "      <td>19.62</td>\n",
       "      <td>1499</td>\n",
       "    </tr>\n",
       "  </tbody>\n",
       "</table>\n",
       "<p>202607 rows × 4 columns</p>\n",
       "</div>"
      ],
      "text/plain": [
       "              id  call_date  duration  user_id\n",
       "0         1000_0 2018-07-25      0.00     1000\n",
       "1         1000_1 2018-08-17      0.00     1000\n",
       "2         1000_2 2018-06-11      2.85     1000\n",
       "3         1000_3 2018-09-21     13.80     1000\n",
       "4         1000_4 2018-12-15      5.18     1000\n",
       "...          ...        ...       ...      ...\n",
       "202602  1499_215 2018-12-26      0.76     1499\n",
       "202603  1499_216 2018-10-18     18.83     1499\n",
       "202604  1499_217 2018-11-10     10.81     1499\n",
       "202605  1499_218 2018-10-06      4.27     1499\n",
       "202606  1499_219 2018-12-14     19.62     1499\n",
       "\n",
       "[202607 rows x 4 columns]"
      ]
     },
     "execution_count": 21,
     "metadata": {},
     "output_type": "execute_result"
    }
   ],
   "source": [
    "df_calls #значения округлены"
   ]
  },
  {
   "cell_type": "code",
   "execution_count": 22,
   "metadata": {},
   "outputs": [
    {
     "data": {
      "image/png": "[encoded data removed]",
      "text/plain": [
       "<Figure size 432x288 with 1 Axes>"
      ]
     },
     "metadata": {
      "needs_background": "light"
     },
     "output_type": "display_data"
    }
   ],
   "source": [
    "df_calls['duration'].plot(kind='hist', bins = 40); #строим гистограмму для детального понимания"
   ]
  },
  {
   "cell_type": "markdown",
   "metadata": {},
   "source": [
    "**Наблюдаем звонки с нулевой продолжительностью. Это не ошибка: нулями обозначены пропущенные звонки, поэтому их не нужно удалять.**"
   ]
  },
  {
   "cell_type": "markdown",
   "metadata": {},
   "source": [
    "**Приведем столбец `session_date` в таблице `df_internet` к корректному формату**"
   ]
  },
  {
   "cell_type": "code",
   "execution_count": 23,
   "metadata": {},
   "outputs": [],
   "source": [
    "df_internet['session_date'] = pd.to_datetime(df_internet['session_date'], format = '%Y-%m-%d')"
   ]
  },
  {
   "cell_type": "markdown",
   "metadata": {},
   "source": [
    "**Приведем толбец `mb_used` в таблице `df_internet` к типу int**"
   ]
  },
  {
   "cell_type": "code",
   "execution_count": 24,
   "metadata": {},
   "outputs": [],
   "source": [
    "df_internet['mb_used'] = df_internet['mb_used'].apply(cell_value)"
   ]
  },
  {
   "cell_type": "code",
   "execution_count": 25,
   "metadata": {
    "scrolled": true
   },
   "outputs": [
    {
     "data": {
      "text/html": [
       "<div>\n",
       "<style scoped>\n",
       "    .dataframe tbody tr th:only-of-type {\n",
       "        vertical-align: middle;\n",
       "    }\n",
       "\n",
       "    .dataframe tbody tr th {\n",
       "        vertical-align: top;\n",
       "    }\n",
       "\n",
       "    .dataframe thead th {\n",
       "        text-align: right;\n",
       "    }\n",
       "</style>\n",
       "<table border=\"1\" class=\"dataframe\">\n",
       "  <thead>\n",
       "    <tr style=\"text-align: right;\">\n",
       "      <th></th>\n",
       "      <th>Unnamed: 0</th>\n",
       "      <th>id</th>\n",
       "      <th>mb_used</th>\n",
       "      <th>session_date</th>\n",
       "      <th>user_id</th>\n",
       "    </tr>\n",
       "  </thead>\n",
       "  <tbody>\n",
       "    <tr>\n",
       "      <th>0</th>\n",
       "      <td>0</td>\n",
       "      <td>1000_0</td>\n",
       "      <td>113</td>\n",
       "      <td>2018-11-25</td>\n",
       "      <td>1000</td>\n",
       "    </tr>\n",
       "    <tr>\n",
       "      <th>1</th>\n",
       "      <td>1</td>\n",
       "      <td>1000_1</td>\n",
       "      <td>1053</td>\n",
       "      <td>2018-09-07</td>\n",
       "      <td>1000</td>\n",
       "    </tr>\n",
       "    <tr>\n",
       "      <th>2</th>\n",
       "      <td>2</td>\n",
       "      <td>1000_2</td>\n",
       "      <td>1198</td>\n",
       "      <td>2018-06-25</td>\n",
       "      <td>1000</td>\n",
       "    </tr>\n",
       "    <tr>\n",
       "      <th>3</th>\n",
       "      <td>3</td>\n",
       "      <td>1000_3</td>\n",
       "      <td>551</td>\n",
       "      <td>2018-08-22</td>\n",
       "      <td>1000</td>\n",
       "    </tr>\n",
       "    <tr>\n",
       "      <th>4</th>\n",
       "      <td>4</td>\n",
       "      <td>1000_4</td>\n",
       "      <td>303</td>\n",
       "      <td>2018-09-24</td>\n",
       "      <td>1000</td>\n",
       "    </tr>\n",
       "  </tbody>\n",
       "</table>\n",
       "</div>"
      ],
      "text/plain": [
       "   Unnamed: 0      id  mb_used session_date  user_id\n",
       "0           0  1000_0      113   2018-11-25     1000\n",
       "1           1  1000_1     1053   2018-09-07     1000\n",
       "2           2  1000_2     1198   2018-06-25     1000\n",
       "3           3  1000_3      551   2018-08-22     1000\n",
       "4           4  1000_4      303   2018-09-24     1000"
      ]
     },
     "execution_count": 25,
     "metadata": {},
     "output_type": "execute_result"
    }
   ],
   "source": [
    "df_internet.head(5) # проверяем"
   ]
  },
  {
   "cell_type": "code",
   "execution_count": 26,
   "metadata": {},
   "outputs": [
    {
     "name": "stdout",
     "output_type": "stream",
     "text": [
      "<class 'pandas.core.frame.DataFrame'>\n",
      "RangeIndex: 149396 entries, 0 to 149395\n",
      "Data columns (total 5 columns):\n",
      " #   Column        Non-Null Count   Dtype         \n",
      "---  ------        --------------   -----         \n",
      " 0   Unnamed: 0    149396 non-null  int64         \n",
      " 1   id            149396 non-null  object        \n",
      " 2   mb_used       149396 non-null  int64         \n",
      " 3   session_date  149396 non-null  datetime64[ns]\n",
      " 4   user_id       149396 non-null  int64         \n",
      "dtypes: datetime64[ns](1), int64(3), object(1)\n",
      "memory usage: 5.7+ MB\n"
     ]
    }
   ],
   "source": [
    "df_internet.info()"
   ]
  },
  {
   "cell_type": "markdown",
   "metadata": {},
   "source": [
    "**Приведем в нужный формат столбец `message_date` в таблице `df_messages`**"
   ]
  },
  {
   "cell_type": "code",
   "execution_count": 27,
   "metadata": {},
   "outputs": [],
   "source": [
    "df_messages['message_date'] = pd.to_datetime(df_messages['message_date'], format = '%Y-%m-%d')"
   ]
  },
  {
   "cell_type": "code",
   "execution_count": 28,
   "metadata": {},
   "outputs": [
    {
     "name": "stdout",
     "output_type": "stream",
     "text": [
      "<class 'pandas.core.frame.DataFrame'>\n",
      "RangeIndex: 123036 entries, 0 to 123035\n",
      "Data columns (total 3 columns):\n",
      " #   Column        Non-Null Count   Dtype         \n",
      "---  ------        --------------   -----         \n",
      " 0   id            123036 non-null  object        \n",
      " 1   message_date  123036 non-null  datetime64[ns]\n",
      " 2   user_id       123036 non-null  int64         \n",
      "dtypes: datetime64[ns](1), int64(1), object(1)\n",
      "memory usage: 2.8+ MB\n"
     ]
    }
   ],
   "source": [
    "df_messages.info() #проверяем"
   ]
  },
  {
   "cell_type": "markdown",
   "metadata": {},
   "source": [
    "**Так же риведем в нужный формат столбец `churn_date` в таблице `df_users`**"
   ]
  },
  {
   "cell_type": "code",
   "execution_count": 29,
   "metadata": {},
   "outputs": [],
   "source": [
    "df_users['churn_date'] = pd.to_datetime(df_users['churn_date'], format = '%Y-%m-%d')"
   ]
  },
  {
   "cell_type": "code",
   "execution_count": 30,
   "metadata": {},
   "outputs": [
    {
     "name": "stdout",
     "output_type": "stream",
     "text": [
      "<class 'pandas.core.frame.DataFrame'>\n",
      "RangeIndex: 500 entries, 0 to 499\n",
      "Data columns (total 8 columns):\n",
      " #   Column      Non-Null Count  Dtype         \n",
      "---  ------      --------------  -----         \n",
      " 0   user_id     500 non-null    int64         \n",
      " 1   age         500 non-null    int64         \n",
      " 2   churn_date  38 non-null     datetime64[ns]\n",
      " 3   city        500 non-null    object        \n",
      " 4   first_name  500 non-null    object        \n",
      " 5   last_name   500 non-null    object        \n",
      " 6   reg_date    500 non-null    object        \n",
      " 7   tariff      500 non-null    object        \n",
      "dtypes: datetime64[ns](1), int64(2), object(5)\n",
      "memory usage: 31.4+ KB\n"
     ]
    }
   ],
   "source": [
    "df_users.info() #проверяем"
   ]
  },
  {
   "cell_type": "markdown",
   "metadata": {},
   "source": [
    "### Считаем для каждого пользователя:"
   ]
  },
  {
   "cell_type": "markdown",
   "metadata": {},
   "source": [
    "**Количество сделанных звонков и израсходованных минут разговора по месяцам**"
   ]
  },
  {
   "cell_type": "markdown",
   "metadata": {},
   "source": [
    "Добавим новый столбец `month` с месяцами в талбицы: `df_calls`, `df_internet`, `df_messages`"
   ]
  },
  {
   "cell_type": "code",
   "execution_count": 31,
   "metadata": {},
   "outputs": [],
   "source": [
    "df_calls['month'] = df_calls['call_date'].dt.month # создадим новый столбец month в таблице df_calls"
   ]
  },
  {
   "cell_type": "code",
   "execution_count": 32,
   "metadata": {},
   "outputs": [],
   "source": [
    "month_dict = {1: 'Январь', 2: 'Февраль', 3: 'Март', 4: 'Апрель', 5: 'Май', 6: 'Июнь', 7: 'Июль', 8: 'Август', 9: 'Сентябрь', 10: 'Октябрь', 11: 'Ноябрь', 12: 'Декабрь'} #присваиваем переменной weekday_dict день недели\n",
    "df_calls['month'] = df_calls['month'].map(month_dict)"
   ]
  },
  {
   "cell_type": "code",
   "execution_count": 33,
   "metadata": {},
   "outputs": [],
   "source": [
    "df_calls = df_calls.groupby(['user_id', 'month']).agg({'duration': 'sum'}).reset_index()"
   ]
  },
  {
   "cell_type": "code",
   "execution_count": 34,
   "metadata": {
    "scrolled": false
   },
   "outputs": [
    {
     "data": {
      "text/html": [
       "<div>\n",
       "<style scoped>\n",
       "    .dataframe tbody tr th:only-of-type {\n",
       "        vertical-align: middle;\n",
       "    }\n",
       "\n",
       "    .dataframe tbody tr th {\n",
       "        vertical-align: top;\n",
       "    }\n",
       "\n",
       "    .dataframe thead th {\n",
       "        text-align: right;\n",
       "    }\n",
       "</style>\n",
       "<table border=\"1\" class=\"dataframe\">\n",
       "  <thead>\n",
       "    <tr style=\"text-align: right;\">\n",
       "      <th></th>\n",
       "      <th>user_id</th>\n",
       "      <th>month</th>\n",
       "      <th>duration</th>\n",
       "    </tr>\n",
       "  </thead>\n",
       "  <tbody>\n",
       "    <tr>\n",
       "      <th>0</th>\n",
       "      <td>1000</td>\n",
       "      <td>Август</td>\n",
       "      <td>389.87</td>\n",
       "    </tr>\n",
       "    <tr>\n",
       "      <th>1</th>\n",
       "      <td>1000</td>\n",
       "      <td>Декабрь</td>\n",
       "      <td>312.98</td>\n",
       "    </tr>\n",
       "    <tr>\n",
       "      <th>2</th>\n",
       "      <td>1000</td>\n",
       "      <td>Июль</td>\n",
       "      <td>318.80</td>\n",
       "    </tr>\n",
       "    <tr>\n",
       "      <th>3</th>\n",
       "      <td>1000</td>\n",
       "      <td>Июнь</td>\n",
       "      <td>158.90</td>\n",
       "    </tr>\n",
       "    <tr>\n",
       "      <th>4</th>\n",
       "      <td>1000</td>\n",
       "      <td>Май</td>\n",
       "      <td>150.06</td>\n",
       "    </tr>\n",
       "    <tr>\n",
       "      <th>...</th>\n",
       "      <td>...</td>\n",
       "      <td>...</td>\n",
       "      <td>...</td>\n",
       "    </tr>\n",
       "    <tr>\n",
       "      <th>3169</th>\n",
       "      <td>1498</td>\n",
       "      <td>Сентябрь</td>\n",
       "      <td>446.68</td>\n",
       "    </tr>\n",
       "    <tr>\n",
       "      <th>3170</th>\n",
       "      <td>1499</td>\n",
       "      <td>Декабрь</td>\n",
       "      <td>465.16</td>\n",
       "    </tr>\n",
       "    <tr>\n",
       "      <th>3171</th>\n",
       "      <td>1499</td>\n",
       "      <td>Ноябрь</td>\n",
       "      <td>576.50</td>\n",
       "    </tr>\n",
       "    <tr>\n",
       "      <th>3172</th>\n",
       "      <td>1499</td>\n",
       "      <td>Октябрь</td>\n",
       "      <td>429.91</td>\n",
       "    </tr>\n",
       "    <tr>\n",
       "      <th>3173</th>\n",
       "      <td>1499</td>\n",
       "      <td>Сентябрь</td>\n",
       "      <td>64.65</td>\n",
       "    </tr>\n",
       "  </tbody>\n",
       "</table>\n",
       "<p>3174 rows × 3 columns</p>\n",
       "</div>"
      ],
      "text/plain": [
       "      user_id     month  duration\n",
       "0        1000    Август    389.87\n",
       "1        1000   Декабрь    312.98\n",
       "2        1000      Июль    318.80\n",
       "3        1000      Июнь    158.90\n",
       "4        1000       Май    150.06\n",
       "...       ...       ...       ...\n",
       "3169     1498  Сентябрь    446.68\n",
       "3170     1499   Декабрь    465.16\n",
       "3171     1499    Ноябрь    576.50\n",
       "3172     1499   Октябрь    429.91\n",
       "3173     1499  Сентябрь     64.65\n",
       "\n",
       "[3174 rows x 3 columns]"
      ]
     },
     "execution_count": 34,
     "metadata": {},
     "output_type": "execute_result"
    }
   ],
   "source": [
    "df_calls"
   ]
  },
  {
   "cell_type": "markdown",
   "metadata": {},
   "source": [
    "**Объем израсходованного интернет-трафика по месяцам**"
   ]
  },
  {
   "cell_type": "code",
   "execution_count": 35,
   "metadata": {},
   "outputs": [],
   "source": [
    "df_internet['month'] = df_internet['session_date'].dt.month"
   ]
  },
  {
   "cell_type": "code",
   "execution_count": 36,
   "metadata": {},
   "outputs": [],
   "source": [
    "df_internet['month'] = df_internet['month'].map(month_dict)"
   ]
  },
  {
   "cell_type": "code",
   "execution_count": 37,
   "metadata": {},
   "outputs": [],
   "source": [
    "df_internet = df_internet.groupby(['user_id','month']).agg({'mb_used': 'sum'}).reset_index()"
   ]
  },
  {
   "cell_type": "code",
   "execution_count": 38,
   "metadata": {},
   "outputs": [
    {
     "data": {
      "text/html": [
       "<div>\n",
       "<style scoped>\n",
       "    .dataframe tbody tr th:only-of-type {\n",
       "        vertical-align: middle;\n",
       "    }\n",
       "\n",
       "    .dataframe tbody tr th {\n",
       "        vertical-align: top;\n",
       "    }\n",
       "\n",
       "    .dataframe thead th {\n",
       "        text-align: right;\n",
       "    }\n",
       "</style>\n",
       "<table border=\"1\" class=\"dataframe\">\n",
       "  <thead>\n",
       "    <tr style=\"text-align: right;\">\n",
       "      <th></th>\n",
       "      <th>user_id</th>\n",
       "      <th>month</th>\n",
       "      <th>mb_used</th>\n",
       "    </tr>\n",
       "  </thead>\n",
       "  <tbody>\n",
       "    <tr>\n",
       "      <th>0</th>\n",
       "      <td>1000</td>\n",
       "      <td>Август</td>\n",
       "      <td>14070</td>\n",
       "    </tr>\n",
       "    <tr>\n",
       "      <th>1</th>\n",
       "      <td>1000</td>\n",
       "      <td>Декабрь</td>\n",
       "      <td>9827</td>\n",
       "    </tr>\n",
       "    <tr>\n",
       "      <th>2</th>\n",
       "      <td>1000</td>\n",
       "      <td>Июль</td>\n",
       "      <td>14016</td>\n",
       "    </tr>\n",
       "    <tr>\n",
       "      <th>3</th>\n",
       "      <td>1000</td>\n",
       "      <td>Июнь</td>\n",
       "      <td>23257</td>\n",
       "    </tr>\n",
       "    <tr>\n",
       "      <th>4</th>\n",
       "      <td>1000</td>\n",
       "      <td>Май</td>\n",
       "      <td>2256</td>\n",
       "    </tr>\n",
       "    <tr>\n",
       "      <th>...</th>\n",
       "      <td>...</td>\n",
       "      <td>...</td>\n",
       "      <td>...</td>\n",
       "    </tr>\n",
       "    <tr>\n",
       "      <th>3198</th>\n",
       "      <td>1498</td>\n",
       "      <td>Сентябрь</td>\n",
       "      <td>22166</td>\n",
       "    </tr>\n",
       "    <tr>\n",
       "      <th>3199</th>\n",
       "      <td>1499</td>\n",
       "      <td>Декабрь</td>\n",
       "      <td>13077</td>\n",
       "    </tr>\n",
       "    <tr>\n",
       "      <th>3200</th>\n",
       "      <td>1499</td>\n",
       "      <td>Ноябрь</td>\n",
       "      <td>17984</td>\n",
       "    </tr>\n",
       "    <tr>\n",
       "      <th>3201</th>\n",
       "      <td>1499</td>\n",
       "      <td>Октябрь</td>\n",
       "      <td>17809</td>\n",
       "    </tr>\n",
       "    <tr>\n",
       "      <th>3202</th>\n",
       "      <td>1499</td>\n",
       "      <td>Сентябрь</td>\n",
       "      <td>1848</td>\n",
       "    </tr>\n",
       "  </tbody>\n",
       "</table>\n",
       "<p>3203 rows × 3 columns</p>\n",
       "</div>"
      ],
      "text/plain": [
       "      user_id     month  mb_used\n",
       "0        1000    Август    14070\n",
       "1        1000   Декабрь     9827\n",
       "2        1000      Июль    14016\n",
       "3        1000      Июнь    23257\n",
       "4        1000       Май     2256\n",
       "...       ...       ...      ...\n",
       "3198     1498  Сентябрь    22166\n",
       "3199     1499   Декабрь    13077\n",
       "3200     1499    Ноябрь    17984\n",
       "3201     1499   Октябрь    17809\n",
       "3202     1499  Сентябрь     1848\n",
       "\n",
       "[3203 rows x 3 columns]"
      ]
     },
     "execution_count": 38,
     "metadata": {},
     "output_type": "execute_result"
    }
   ],
   "source": [
    "df_internet"
   ]
  },
  {
   "cell_type": "markdown",
   "metadata": {},
   "source": [
    "**Количество отправленных сообщений по месяцам**"
   ]
  },
  {
   "cell_type": "code",
   "execution_count": 39,
   "metadata": {},
   "outputs": [],
   "source": [
    "df_messages['month'] = df_messages['message_date'].dt.month"
   ]
  },
  {
   "cell_type": "code",
   "execution_count": 40,
   "metadata": {},
   "outputs": [],
   "source": [
    "df_messages['month'] = df_messages['month'].map(month_dict)"
   ]
  },
  {
   "cell_type": "code",
   "execution_count": 41,
   "metadata": {},
   "outputs": [],
   "source": [
    "df_messages = df_messages.groupby(['user_id','month']).agg({'message_date': 'count'}).reset_index()"
   ]
  },
  {
   "cell_type": "code",
   "execution_count": 42,
   "metadata": {},
   "outputs": [
    {
     "data": {
      "text/html": [
       "<div>\n",
       "<style scoped>\n",
       "    .dataframe tbody tr th:only-of-type {\n",
       "        vertical-align: middle;\n",
       "    }\n",
       "\n",
       "    .dataframe tbody tr th {\n",
       "        vertical-align: top;\n",
       "    }\n",
       "\n",
       "    .dataframe thead th {\n",
       "        text-align: right;\n",
       "    }\n",
       "</style>\n",
       "<table border=\"1\" class=\"dataframe\">\n",
       "  <thead>\n",
       "    <tr style=\"text-align: right;\">\n",
       "      <th></th>\n",
       "      <th>user_id</th>\n",
       "      <th>month</th>\n",
       "      <th>message_date</th>\n",
       "    </tr>\n",
       "  </thead>\n",
       "  <tbody>\n",
       "    <tr>\n",
       "      <th>0</th>\n",
       "      <td>1000</td>\n",
       "      <td>Август</td>\n",
       "      <td>81</td>\n",
       "    </tr>\n",
       "    <tr>\n",
       "      <th>1</th>\n",
       "      <td>1000</td>\n",
       "      <td>Декабрь</td>\n",
       "      <td>70</td>\n",
       "    </tr>\n",
       "    <tr>\n",
       "      <th>2</th>\n",
       "      <td>1000</td>\n",
       "      <td>Июль</td>\n",
       "      <td>75</td>\n",
       "    </tr>\n",
       "    <tr>\n",
       "      <th>3</th>\n",
       "      <td>1000</td>\n",
       "      <td>Июнь</td>\n",
       "      <td>60</td>\n",
       "    </tr>\n",
       "    <tr>\n",
       "      <th>4</th>\n",
       "      <td>1000</td>\n",
       "      <td>Май</td>\n",
       "      <td>22</td>\n",
       "    </tr>\n",
       "    <tr>\n",
       "      <th>...</th>\n",
       "      <td>...</td>\n",
       "      <td>...</td>\n",
       "      <td>...</td>\n",
       "    </tr>\n",
       "    <tr>\n",
       "      <th>2712</th>\n",
       "      <td>1498</td>\n",
       "      <td>Сентябрь</td>\n",
       "      <td>44</td>\n",
       "    </tr>\n",
       "    <tr>\n",
       "      <th>2713</th>\n",
       "      <td>1499</td>\n",
       "      <td>Декабрь</td>\n",
       "      <td>66</td>\n",
       "    </tr>\n",
       "    <tr>\n",
       "      <th>2714</th>\n",
       "      <td>1499</td>\n",
       "      <td>Ноябрь</td>\n",
       "      <td>59</td>\n",
       "    </tr>\n",
       "    <tr>\n",
       "      <th>2715</th>\n",
       "      <td>1499</td>\n",
       "      <td>Октябрь</td>\n",
       "      <td>48</td>\n",
       "    </tr>\n",
       "    <tr>\n",
       "      <th>2716</th>\n",
       "      <td>1499</td>\n",
       "      <td>Сентябрь</td>\n",
       "      <td>11</td>\n",
       "    </tr>\n",
       "  </tbody>\n",
       "</table>\n",
       "<p>2717 rows × 3 columns</p>\n",
       "</div>"
      ],
      "text/plain": [
       "      user_id     month  message_date\n",
       "0        1000    Август            81\n",
       "1        1000   Декабрь            70\n",
       "2        1000      Июль            75\n",
       "3        1000      Июнь            60\n",
       "4        1000       Май            22\n",
       "...       ...       ...           ...\n",
       "2712     1498  Сентябрь            44\n",
       "2713     1499   Декабрь            66\n",
       "2714     1499    Ноябрь            59\n",
       "2715     1499   Октябрь            48\n",
       "2716     1499  Сентябрь            11\n",
       "\n",
       "[2717 rows x 3 columns]"
      ]
     },
     "execution_count": 42,
     "metadata": {},
     "output_type": "execute_result"
    }
   ],
   "source": [
    "df_messages"
   ]
  },
  {
   "cell_type": "markdown",
   "metadata": {},
   "source": [
    "**Помесячную выручку с каждого пользователя (вычитаем бесплатный лимит из суммарного количества звонков, сообщений и интернет-трафика; остаток умножаем на значение из тарифного плана; прибавляем абонентскую плату, соответствующую тарифному плану).**"
   ]
  },
  {
   "cell_type": "markdown",
   "metadata": {},
   "source": [
    "Для нужного нам расчета создадим новую таблицу `revenue` и объединим в ней данные предыдущих датасетов. Для объединения используем метод `merge`"
   ]
  },
  {
   "cell_type": "code",
   "execution_count": 43,
   "metadata": {
    "scrolled": false
   },
   "outputs": [
    {
     "data": {
      "text/html": [
       "<div>\n",
       "<style scoped>\n",
       "    .dataframe tbody tr th:only-of-type {\n",
       "        vertical-align: middle;\n",
       "    }\n",
       "\n",
       "    .dataframe tbody tr th {\n",
       "        vertical-align: top;\n",
       "    }\n",
       "\n",
       "    .dataframe thead th {\n",
       "        text-align: right;\n",
       "    }\n",
       "</style>\n",
       "<table border=\"1\" class=\"dataframe\">\n",
       "  <thead>\n",
       "    <tr style=\"text-align: right;\">\n",
       "      <th></th>\n",
       "      <th>user_id</th>\n",
       "      <th>month</th>\n",
       "      <th>duration</th>\n",
       "      <th>message_date</th>\n",
       "      <th>mb_used</th>\n",
       "      <th>tariff</th>\n",
       "      <th>city</th>\n",
       "      <th>messages_included</th>\n",
       "      <th>mb_per_month_included</th>\n",
       "      <th>minutes_included</th>\n",
       "      <th>rub_monthly_fee</th>\n",
       "      <th>rub_per_gb</th>\n",
       "      <th>rub_per_message</th>\n",
       "      <th>rub_per_minute</th>\n",
       "    </tr>\n",
       "  </thead>\n",
       "  <tbody>\n",
       "    <tr>\n",
       "      <th>0</th>\n",
       "      <td>1000</td>\n",
       "      <td>Август</td>\n",
       "      <td>389.87</td>\n",
       "      <td>81.0</td>\n",
       "      <td>14070.0</td>\n",
       "      <td>ultra</td>\n",
       "      <td>Краснодар</td>\n",
       "      <td>1000</td>\n",
       "      <td>30720</td>\n",
       "      <td>3000</td>\n",
       "      <td>1950</td>\n",
       "      <td>150</td>\n",
       "      <td>1</td>\n",
       "      <td>1</td>\n",
       "    </tr>\n",
       "    <tr>\n",
       "      <th>1</th>\n",
       "      <td>1000</td>\n",
       "      <td>Декабрь</td>\n",
       "      <td>312.98</td>\n",
       "      <td>70.0</td>\n",
       "      <td>9827.0</td>\n",
       "      <td>ultra</td>\n",
       "      <td>Краснодар</td>\n",
       "      <td>1000</td>\n",
       "      <td>30720</td>\n",
       "      <td>3000</td>\n",
       "      <td>1950</td>\n",
       "      <td>150</td>\n",
       "      <td>1</td>\n",
       "      <td>1</td>\n",
       "    </tr>\n",
       "    <tr>\n",
       "      <th>2</th>\n",
       "      <td>1000</td>\n",
       "      <td>Июль</td>\n",
       "      <td>318.80</td>\n",
       "      <td>75.0</td>\n",
       "      <td>14016.0</td>\n",
       "      <td>ultra</td>\n",
       "      <td>Краснодар</td>\n",
       "      <td>1000</td>\n",
       "      <td>30720</td>\n",
       "      <td>3000</td>\n",
       "      <td>1950</td>\n",
       "      <td>150</td>\n",
       "      <td>1</td>\n",
       "      <td>1</td>\n",
       "    </tr>\n",
       "    <tr>\n",
       "      <th>3</th>\n",
       "      <td>1000</td>\n",
       "      <td>Июнь</td>\n",
       "      <td>158.90</td>\n",
       "      <td>60.0</td>\n",
       "      <td>23257.0</td>\n",
       "      <td>ultra</td>\n",
       "      <td>Краснодар</td>\n",
       "      <td>1000</td>\n",
       "      <td>30720</td>\n",
       "      <td>3000</td>\n",
       "      <td>1950</td>\n",
       "      <td>150</td>\n",
       "      <td>1</td>\n",
       "      <td>1</td>\n",
       "    </tr>\n",
       "    <tr>\n",
       "      <th>4</th>\n",
       "      <td>1000</td>\n",
       "      <td>Май</td>\n",
       "      <td>150.06</td>\n",
       "      <td>22.0</td>\n",
       "      <td>2256.0</td>\n",
       "      <td>ultra</td>\n",
       "      <td>Краснодар</td>\n",
       "      <td>1000</td>\n",
       "      <td>30720</td>\n",
       "      <td>3000</td>\n",
       "      <td>1950</td>\n",
       "      <td>150</td>\n",
       "      <td>1</td>\n",
       "      <td>1</td>\n",
       "    </tr>\n",
       "    <tr>\n",
       "      <th>...</th>\n",
       "      <td>...</td>\n",
       "      <td>...</td>\n",
       "      <td>...</td>\n",
       "      <td>...</td>\n",
       "      <td>...</td>\n",
       "      <td>...</td>\n",
       "      <td>...</td>\n",
       "      <td>...</td>\n",
       "      <td>...</td>\n",
       "      <td>...</td>\n",
       "      <td>...</td>\n",
       "      <td>...</td>\n",
       "      <td>...</td>\n",
       "      <td>...</td>\n",
       "    </tr>\n",
       "    <tr>\n",
       "      <th>3209</th>\n",
       "      <td>1489</td>\n",
       "      <td>Декабрь</td>\n",
       "      <td>0.00</td>\n",
       "      <td>35.0</td>\n",
       "      <td>17341.0</td>\n",
       "      <td>smart</td>\n",
       "      <td>Санкт-Петербург</td>\n",
       "      <td>50</td>\n",
       "      <td>15360</td>\n",
       "      <td>500</td>\n",
       "      <td>550</td>\n",
       "      <td>200</td>\n",
       "      <td>3</td>\n",
       "      <td>3</td>\n",
       "    </tr>\n",
       "    <tr>\n",
       "      <th>3210</th>\n",
       "      <td>1489</td>\n",
       "      <td>Ноябрь</td>\n",
       "      <td>0.00</td>\n",
       "      <td>20.0</td>\n",
       "      <td>17516.0</td>\n",
       "      <td>smart</td>\n",
       "      <td>Санкт-Петербург</td>\n",
       "      <td>50</td>\n",
       "      <td>15360</td>\n",
       "      <td>500</td>\n",
       "      <td>550</td>\n",
       "      <td>200</td>\n",
       "      <td>3</td>\n",
       "      <td>3</td>\n",
       "    </tr>\n",
       "    <tr>\n",
       "      <th>3211</th>\n",
       "      <td>1489</td>\n",
       "      <td>Октябрь</td>\n",
       "      <td>0.00</td>\n",
       "      <td>21.0</td>\n",
       "      <td>19588.0</td>\n",
       "      <td>smart</td>\n",
       "      <td>Санкт-Петербург</td>\n",
       "      <td>50</td>\n",
       "      <td>15360</td>\n",
       "      <td>500</td>\n",
       "      <td>550</td>\n",
       "      <td>200</td>\n",
       "      <td>3</td>\n",
       "      <td>3</td>\n",
       "    </tr>\n",
       "    <tr>\n",
       "      <th>3212</th>\n",
       "      <td>1489</td>\n",
       "      <td>Сентябрь</td>\n",
       "      <td>0.00</td>\n",
       "      <td>32.0</td>\n",
       "      <td>17232.0</td>\n",
       "      <td>smart</td>\n",
       "      <td>Санкт-Петербург</td>\n",
       "      <td>50</td>\n",
       "      <td>15360</td>\n",
       "      <td>500</td>\n",
       "      <td>550</td>\n",
       "      <td>200</td>\n",
       "      <td>3</td>\n",
       "      <td>3</td>\n",
       "    </tr>\n",
       "    <tr>\n",
       "      <th>3213</th>\n",
       "      <td>1476</td>\n",
       "      <td>Апрель</td>\n",
       "      <td>0.00</td>\n",
       "      <td>0.0</td>\n",
       "      <td>531.0</td>\n",
       "      <td>ultra</td>\n",
       "      <td>Москва</td>\n",
       "      <td>1000</td>\n",
       "      <td>30720</td>\n",
       "      <td>3000</td>\n",
       "      <td>1950</td>\n",
       "      <td>150</td>\n",
       "      <td>1</td>\n",
       "      <td>1</td>\n",
       "    </tr>\n",
       "  </tbody>\n",
       "</table>\n",
       "<p>3214 rows × 14 columns</p>\n",
       "</div>"
      ],
      "text/plain": [
       "      user_id     month  duration  message_date  mb_used tariff  \\\n",
       "0        1000    Август    389.87          81.0  14070.0  ultra   \n",
       "1        1000   Декабрь    312.98          70.0   9827.0  ultra   \n",
       "2        1000      Июль    318.80          75.0  14016.0  ultra   \n",
       "3        1000      Июнь    158.90          60.0  23257.0  ultra   \n",
       "4        1000       Май    150.06          22.0   2256.0  ultra   \n",
       "...       ...       ...       ...           ...      ...    ...   \n",
       "3209     1489   Декабрь      0.00          35.0  17341.0  smart   \n",
       "3210     1489    Ноябрь      0.00          20.0  17516.0  smart   \n",
       "3211     1489   Октябрь      0.00          21.0  19588.0  smart   \n",
       "3212     1489  Сентябрь      0.00          32.0  17232.0  smart   \n",
       "3213     1476    Апрель      0.00           0.0    531.0  ultra   \n",
       "\n",
       "                 city  messages_included  mb_per_month_included  \\\n",
       "0           Краснодар               1000                  30720   \n",
       "1           Краснодар               1000                  30720   \n",
       "2           Краснодар               1000                  30720   \n",
       "3           Краснодар               1000                  30720   \n",
       "4           Краснодар               1000                  30720   \n",
       "...               ...                ...                    ...   \n",
       "3209  Санкт-Петербург                 50                  15360   \n",
       "3210  Санкт-Петербург                 50                  15360   \n",
       "3211  Санкт-Петербург                 50                  15360   \n",
       "3212  Санкт-Петербург                 50                  15360   \n",
       "3213           Москва               1000                  30720   \n",
       "\n",
       "      minutes_included  rub_monthly_fee  rub_per_gb  rub_per_message  \\\n",
       "0                 3000             1950         150                1   \n",
       "1                 3000             1950         150                1   \n",
       "2                 3000             1950         150                1   \n",
       "3                 3000             1950         150                1   \n",
       "4                 3000             1950         150                1   \n",
       "...                ...              ...         ...              ...   \n",
       "3209               500              550         200                3   \n",
       "3210               500              550         200                3   \n",
       "3211               500              550         200                3   \n",
       "3212               500              550         200                3   \n",
       "3213              3000             1950         150                1   \n",
       "\n",
       "      rub_per_minute  \n",
       "0                  1  \n",
       "1                  1  \n",
       "2                  1  \n",
       "3                  1  \n",
       "4                  1  \n",
       "...              ...  \n",
       "3209               3  \n",
       "3210               3  \n",
       "3211               3  \n",
       "3212               3  \n",
       "3213               1  \n",
       "\n",
       "[3214 rows x 14 columns]"
      ]
     },
     "execution_count": 43,
     "metadata": {},
     "output_type": "execute_result"
    }
   ],
   "source": [
    "revenue = df_calls.merge(df_messages, on=['user_id', 'month'], how='outer')\n",
    "revenue = revenue.merge(df_internet, on=['user_id', 'month'], how='outer')\n",
    "revenue = revenue.merge(df_users[['user_id', 'tariff','city']], on='user_id', how='left')\n",
    "df_tariffs.rename(columns={'tariff_name':'tariff'}, inplace=True)\n",
    "revenue = revenue.merge(df_tariffs, on = 'tariff',how = 'left')\n",
    "revenue = revenue.fillna(0)\n",
    "revenue"
   ]
  },
  {
   "cell_type": "markdown",
   "metadata": {},
   "source": [
    "**В столбце `mb_used` получившейся новой таблице переведем мегабайты в гигабайты для корректного расчета в дальнейшем**"
   ]
  },
  {
   "cell_type": "code",
   "execution_count": 44,
   "metadata": {},
   "outputs": [],
   "source": [
    "revenue['mb_used'] = revenue['mb_used']/1024 # переводим мб в гб"
   ]
  },
  {
   "cell_type": "code",
   "execution_count": 45,
   "metadata": {},
   "outputs": [],
   "source": [
    "revenue['mb_per_month_included'] = revenue['mb_per_month_included'] / 1024"
   ]
  },
  {
   "cell_type": "markdown",
   "metadata": {},
   "source": [
    "**Переименуем столбец `mb_used` на `gb_used`, так как после перевода мегабайт в гигабайты данное название не актуально**"
   ]
  },
  {
   "cell_type": "code",
   "execution_count": 46,
   "metadata": {},
   "outputs": [],
   "source": [
    "revenue = revenue.rename(columns={'mb_used': 'gb_used'})"
   ]
  },
  {
   "cell_type": "markdown",
   "metadata": {},
   "source": [
    "**Округлим в большую сторону. Потому-что провайдер в конце расчетного периода считает количество использованного трафика (Gb), окгленного в большую сторону до целого значения**"
   ]
  },
  {
   "cell_type": "code",
   "execution_count": 47,
   "metadata": {},
   "outputs": [],
   "source": [
    "revenue['gb_used'] = revenue['gb_used'].apply(cell_value) # округляем в большую сторону"
   ]
  },
  {
   "cell_type": "markdown",
   "metadata": {},
   "source": [
    "**Пишем функцию `payment` для подсчета выручки в зависимости от тарифного плана**"
   ]
  },
  {
   "cell_type": "code",
   "execution_count": 48,
   "metadata": {},
   "outputs": [],
   "source": [
    "def payment(row_values):\n",
    "    if row_values['tariff'] == 'ultra': # для тарифа ultra\n",
    "        call_sum = (row_values['duration'] - row_values['minutes_included']) # считаем перерасход минут в рублях\n",
    "        if call_sum <= 0:\n",
    "            call_sum = 0\n",
    "        else:\n",
    "            call_sum = call_sum * row_values['rub_per_minute']\n",
    "        message_sum = (row_values['message_date'] - row_values['messages_included']) # считаем перерасход SMS в рублях\n",
    "        if message_sum <= 0:\n",
    "            message_sum = 0\n",
    "        else:\n",
    "            message_sum = message_sum * row_values['rub_per_message']\n",
    "        trafic_sum = (row_values['gb_used'] - row_values['mb_per_month_included']) # считаем перерасход трафика в рублях\n",
    "        if trafic_sum <= 0:\n",
    "            trafic_sum = 0\n",
    "        else:\n",
    "            trafic_sum = trafic_sum * row_values['rub_per_gb']\n",
    "        total_sum = call_sum + message_sum + trafic_sum + row_values['rub_monthly_fee'] # суммируем перерасход + сумму тарифного плана\n",
    "        return total_sum\n",
    "    if row_values['tariff'] == 'smart': # то же самое и для тарифа smart\n",
    "        call_sum = (row_values['duration'] - row_values['minutes_included'])\n",
    "        if call_sum <= 0:\n",
    "            call_sum = 0\n",
    "        else:\n",
    "            call_sum = call_sum * row_values['rub_per_minute']\n",
    "        message_sum = (row_values['message_date'] - row_values['messages_included'])\n",
    "        if message_sum <= 0:\n",
    "            message_sum = 0\n",
    "        else:\n",
    "            message_sum = message_sum * row_values['rub_per_message']\n",
    "        trafic_sum = (row_values['gb_used'] - row_values['mb_per_month_included'])\n",
    "        if trafic_sum <= 0:\n",
    "            trafic_sum = 0\n",
    "        else:\n",
    "            trafic_sum = trafic_sum * row_values['rub_per_gb']\n",
    "        total_sum = call_sum + message_sum + trafic_sum + row_values['rub_monthly_fee']\n",
    "        return total_sum"
   ]
  },
  {
   "cell_type": "code",
   "execution_count": 49,
   "metadata": {},
   "outputs": [],
   "source": [
    "revenue['total_sum']=revenue.apply(payment,axis=1) # применяем функцию"
   ]
  },
  {
   "cell_type": "code",
   "execution_count": 50,
   "metadata": {},
   "outputs": [
    {
     "data": {
      "text/plain": [
       "1950.00    910\n",
       "550.00     595\n",
       "950.00     101\n",
       "1350.00     90\n",
       "750.00      81\n",
       "          ... \n",
       "2616.94      1\n",
       "560.35       1\n",
       "1563.38      1\n",
       "2177.94      1\n",
       "748.90       1\n",
       "Name: total_sum, Length: 890, dtype: int64"
      ]
     },
     "execution_count": 50,
     "metadata": {},
     "output_type": "execute_result"
    }
   ],
   "source": [
    "revenue['total_sum'].value_counts(ascending=False)"
   ]
  },
  {
   "cell_type": "code",
   "execution_count": 51,
   "metadata": {
    "scrolled": true
   },
   "outputs": [
    {
     "data": {
      "text/html": [
       "<div>\n",
       "<style scoped>\n",
       "    .dataframe tbody tr th:only-of-type {\n",
       "        vertical-align: middle;\n",
       "    }\n",
       "\n",
       "    .dataframe tbody tr th {\n",
       "        vertical-align: top;\n",
       "    }\n",
       "\n",
       "    .dataframe thead th {\n",
       "        text-align: right;\n",
       "    }\n",
       "</style>\n",
       "<table border=\"1\" class=\"dataframe\">\n",
       "  <thead>\n",
       "    <tr style=\"text-align: right;\">\n",
       "      <th></th>\n",
       "      <th>user_id</th>\n",
       "      <th>month</th>\n",
       "      <th>duration</th>\n",
       "      <th>message_date</th>\n",
       "      <th>gb_used</th>\n",
       "      <th>tariff</th>\n",
       "      <th>city</th>\n",
       "      <th>messages_included</th>\n",
       "      <th>mb_per_month_included</th>\n",
       "      <th>minutes_included</th>\n",
       "      <th>rub_monthly_fee</th>\n",
       "      <th>rub_per_gb</th>\n",
       "      <th>rub_per_message</th>\n",
       "      <th>rub_per_minute</th>\n",
       "      <th>total_sum</th>\n",
       "    </tr>\n",
       "  </thead>\n",
       "  <tbody>\n",
       "    <tr>\n",
       "      <th>0</th>\n",
       "      <td>1000</td>\n",
       "      <td>Август</td>\n",
       "      <td>389.87</td>\n",
       "      <td>81.0</td>\n",
       "      <td>14</td>\n",
       "      <td>ultra</td>\n",
       "      <td>Краснодар</td>\n",
       "      <td>1000</td>\n",
       "      <td>30.0</td>\n",
       "      <td>3000</td>\n",
       "      <td>1950</td>\n",
       "      <td>150</td>\n",
       "      <td>1</td>\n",
       "      <td>1</td>\n",
       "      <td>1950.0</td>\n",
       "    </tr>\n",
       "    <tr>\n",
       "      <th>1</th>\n",
       "      <td>1000</td>\n",
       "      <td>Декабрь</td>\n",
       "      <td>312.98</td>\n",
       "      <td>70.0</td>\n",
       "      <td>10</td>\n",
       "      <td>ultra</td>\n",
       "      <td>Краснодар</td>\n",
       "      <td>1000</td>\n",
       "      <td>30.0</td>\n",
       "      <td>3000</td>\n",
       "      <td>1950</td>\n",
       "      <td>150</td>\n",
       "      <td>1</td>\n",
       "      <td>1</td>\n",
       "      <td>1950.0</td>\n",
       "    </tr>\n",
       "    <tr>\n",
       "      <th>2</th>\n",
       "      <td>1000</td>\n",
       "      <td>Июль</td>\n",
       "      <td>318.80</td>\n",
       "      <td>75.0</td>\n",
       "      <td>14</td>\n",
       "      <td>ultra</td>\n",
       "      <td>Краснодар</td>\n",
       "      <td>1000</td>\n",
       "      <td>30.0</td>\n",
       "      <td>3000</td>\n",
       "      <td>1950</td>\n",
       "      <td>150</td>\n",
       "      <td>1</td>\n",
       "      <td>1</td>\n",
       "      <td>1950.0</td>\n",
       "    </tr>\n",
       "    <tr>\n",
       "      <th>3</th>\n",
       "      <td>1000</td>\n",
       "      <td>Июнь</td>\n",
       "      <td>158.90</td>\n",
       "      <td>60.0</td>\n",
       "      <td>23</td>\n",
       "      <td>ultra</td>\n",
       "      <td>Краснодар</td>\n",
       "      <td>1000</td>\n",
       "      <td>30.0</td>\n",
       "      <td>3000</td>\n",
       "      <td>1950</td>\n",
       "      <td>150</td>\n",
       "      <td>1</td>\n",
       "      <td>1</td>\n",
       "      <td>1950.0</td>\n",
       "    </tr>\n",
       "    <tr>\n",
       "      <th>4</th>\n",
       "      <td>1000</td>\n",
       "      <td>Май</td>\n",
       "      <td>150.06</td>\n",
       "      <td>22.0</td>\n",
       "      <td>3</td>\n",
       "      <td>ultra</td>\n",
       "      <td>Краснодар</td>\n",
       "      <td>1000</td>\n",
       "      <td>30.0</td>\n",
       "      <td>3000</td>\n",
       "      <td>1950</td>\n",
       "      <td>150</td>\n",
       "      <td>1</td>\n",
       "      <td>1</td>\n",
       "      <td>1950.0</td>\n",
       "    </tr>\n",
       "    <tr>\n",
       "      <th>5</th>\n",
       "      <td>1000</td>\n",
       "      <td>Ноябрь</td>\n",
       "      <td>319.04</td>\n",
       "      <td>58.0</td>\n",
       "      <td>15</td>\n",
       "      <td>ultra</td>\n",
       "      <td>Краснодар</td>\n",
       "      <td>1000</td>\n",
       "      <td>30.0</td>\n",
       "      <td>3000</td>\n",
       "      <td>1950</td>\n",
       "      <td>150</td>\n",
       "      <td>1</td>\n",
       "      <td>1</td>\n",
       "      <td>1950.0</td>\n",
       "    </tr>\n",
       "    <tr>\n",
       "      <th>6</th>\n",
       "      <td>1000</td>\n",
       "      <td>Октябрь</td>\n",
       "      <td>328.45</td>\n",
       "      <td>73.0</td>\n",
       "      <td>15</td>\n",
       "      <td>ultra</td>\n",
       "      <td>Краснодар</td>\n",
       "      <td>1000</td>\n",
       "      <td>30.0</td>\n",
       "      <td>3000</td>\n",
       "      <td>1950</td>\n",
       "      <td>150</td>\n",
       "      <td>1</td>\n",
       "      <td>1</td>\n",
       "      <td>1950.0</td>\n",
       "    </tr>\n",
       "    <tr>\n",
       "      <th>7</th>\n",
       "      <td>1000</td>\n",
       "      <td>Сентябрь</td>\n",
       "      <td>440.14</td>\n",
       "      <td>57.0</td>\n",
       "      <td>15</td>\n",
       "      <td>ultra</td>\n",
       "      <td>Краснодар</td>\n",
       "      <td>1000</td>\n",
       "      <td>30.0</td>\n",
       "      <td>3000</td>\n",
       "      <td>1950</td>\n",
       "      <td>150</td>\n",
       "      <td>1</td>\n",
       "      <td>1</td>\n",
       "      <td>1950.0</td>\n",
       "    </tr>\n",
       "    <tr>\n",
       "      <th>8</th>\n",
       "      <td>1001</td>\n",
       "      <td>Декабрь</td>\n",
       "      <td>391.34</td>\n",
       "      <td>0.0</td>\n",
       "      <td>14</td>\n",
       "      <td>smart</td>\n",
       "      <td>Москва</td>\n",
       "      <td>50</td>\n",
       "      <td>15.0</td>\n",
       "      <td>500</td>\n",
       "      <td>550</td>\n",
       "      <td>200</td>\n",
       "      <td>3</td>\n",
       "      <td>3</td>\n",
       "      <td>550.0</td>\n",
       "    </tr>\n",
       "    <tr>\n",
       "      <th>9</th>\n",
       "      <td>1001</td>\n",
       "      <td>Ноябрь</td>\n",
       "      <td>408.12</td>\n",
       "      <td>0.0</td>\n",
       "      <td>19</td>\n",
       "      <td>smart</td>\n",
       "      <td>Москва</td>\n",
       "      <td>50</td>\n",
       "      <td>15.0</td>\n",
       "      <td>500</td>\n",
       "      <td>550</td>\n",
       "      <td>200</td>\n",
       "      <td>3</td>\n",
       "      <td>3</td>\n",
       "      <td>1350.0</td>\n",
       "    </tr>\n",
       "    <tr>\n",
       "      <th>10</th>\n",
       "      <td>1002</td>\n",
       "      <td>Август</td>\n",
       "      <td>269.71</td>\n",
       "      <td>13.0</td>\n",
       "      <td>20</td>\n",
       "      <td>smart</td>\n",
       "      <td>Стерлитамак</td>\n",
       "      <td>50</td>\n",
       "      <td>15.0</td>\n",
       "      <td>500</td>\n",
       "      <td>550</td>\n",
       "      <td>200</td>\n",
       "      <td>3</td>\n",
       "      <td>3</td>\n",
       "      <td>1550.0</td>\n",
       "    </tr>\n",
       "    <tr>\n",
       "      <th>11</th>\n",
       "      <td>1002</td>\n",
       "      <td>Декабрь</td>\n",
       "      <td>222.98</td>\n",
       "      <td>12.0</td>\n",
       "      <td>18</td>\n",
       "      <td>smart</td>\n",
       "      <td>Стерлитамак</td>\n",
       "      <td>50</td>\n",
       "      <td>15.0</td>\n",
       "      <td>500</td>\n",
       "      <td>550</td>\n",
       "      <td>200</td>\n",
       "      <td>3</td>\n",
       "      <td>3</td>\n",
       "      <td>1150.0</td>\n",
       "    </tr>\n",
       "    <tr>\n",
       "      <th>12</th>\n",
       "      <td>1002</td>\n",
       "      <td>Июль</td>\n",
       "      <td>204.75</td>\n",
       "      <td>11.0</td>\n",
       "      <td>18</td>\n",
       "      <td>smart</td>\n",
       "      <td>Стерлитамак</td>\n",
       "      <td>50</td>\n",
       "      <td>15.0</td>\n",
       "      <td>500</td>\n",
       "      <td>550</td>\n",
       "      <td>200</td>\n",
       "      <td>3</td>\n",
       "      <td>3</td>\n",
       "      <td>1150.0</td>\n",
       "    </tr>\n",
       "    <tr>\n",
       "      <th>13</th>\n",
       "      <td>1002</td>\n",
       "      <td>Июнь</td>\n",
       "      <td>110.37</td>\n",
       "      <td>4.0</td>\n",
       "      <td>11</td>\n",
       "      <td>smart</td>\n",
       "      <td>Стерлитамак</td>\n",
       "      <td>50</td>\n",
       "      <td>15.0</td>\n",
       "      <td>500</td>\n",
       "      <td>550</td>\n",
       "      <td>200</td>\n",
       "      <td>3</td>\n",
       "      <td>3</td>\n",
       "      <td>550.0</td>\n",
       "    </tr>\n",
       "    <tr>\n",
       "      <th>14</th>\n",
       "      <td>1002</td>\n",
       "      <td>Ноябрь</td>\n",
       "      <td>228.03</td>\n",
       "      <td>16.0</td>\n",
       "      <td>19</td>\n",
       "      <td>smart</td>\n",
       "      <td>Стерлитамак</td>\n",
       "      <td>50</td>\n",
       "      <td>15.0</td>\n",
       "      <td>500</td>\n",
       "      <td>550</td>\n",
       "      <td>200</td>\n",
       "      <td>3</td>\n",
       "      <td>3</td>\n",
       "      <td>1350.0</td>\n",
       "    </tr>\n",
       "    <tr>\n",
       "      <th>15</th>\n",
       "      <td>1002</td>\n",
       "      <td>Октябрь</td>\n",
       "      <td>199.48</td>\n",
       "      <td>10.0</td>\n",
       "      <td>14</td>\n",
       "      <td>smart</td>\n",
       "      <td>Стерлитамак</td>\n",
       "      <td>50</td>\n",
       "      <td>15.0</td>\n",
       "      <td>500</td>\n",
       "      <td>550</td>\n",
       "      <td>200</td>\n",
       "      <td>3</td>\n",
       "      <td>3</td>\n",
       "      <td>550.0</td>\n",
       "    </tr>\n",
       "    <tr>\n",
       "      <th>16</th>\n",
       "      <td>1002</td>\n",
       "      <td>Сентябрь</td>\n",
       "      <td>195.85</td>\n",
       "      <td>4.0</td>\n",
       "      <td>17</td>\n",
       "      <td>smart</td>\n",
       "      <td>Стерлитамак</td>\n",
       "      <td>50</td>\n",
       "      <td>15.0</td>\n",
       "      <td>500</td>\n",
       "      <td>550</td>\n",
       "      <td>200</td>\n",
       "      <td>3</td>\n",
       "      <td>3</td>\n",
       "      <td>950.0</td>\n",
       "    </tr>\n",
       "    <tr>\n",
       "      <th>17</th>\n",
       "      <td>1003</td>\n",
       "      <td>Август</td>\n",
       "      <td>355.67</td>\n",
       "      <td>37.0</td>\n",
       "      <td>9</td>\n",
       "      <td>ultra</td>\n",
       "      <td>Москва</td>\n",
       "      <td>1000</td>\n",
       "      <td>30.0</td>\n",
       "      <td>3000</td>\n",
       "      <td>1950</td>\n",
       "      <td>150</td>\n",
       "      <td>1</td>\n",
       "      <td>1</td>\n",
       "      <td>1950.0</td>\n",
       "    </tr>\n",
       "    <tr>\n",
       "      <th>18</th>\n",
       "      <td>1003</td>\n",
       "      <td>Декабрь</td>\n",
       "      <td>755.50</td>\n",
       "      <td>75.0</td>\n",
       "      <td>10</td>\n",
       "      <td>ultra</td>\n",
       "      <td>Москва</td>\n",
       "      <td>1000</td>\n",
       "      <td>30.0</td>\n",
       "      <td>3000</td>\n",
       "      <td>1950</td>\n",
       "      <td>150</td>\n",
       "      <td>1</td>\n",
       "      <td>1</td>\n",
       "      <td>1950.0</td>\n",
       "    </tr>\n",
       "    <tr>\n",
       "      <th>19</th>\n",
       "      <td>1003</td>\n",
       "      <td>Ноябрь</td>\n",
       "      <td>775.39</td>\n",
       "      <td>94.0</td>\n",
       "      <td>12</td>\n",
       "      <td>ultra</td>\n",
       "      <td>Москва</td>\n",
       "      <td>1000</td>\n",
       "      <td>30.0</td>\n",
       "      <td>3000</td>\n",
       "      <td>1950</td>\n",
       "      <td>150</td>\n",
       "      <td>1</td>\n",
       "      <td>1</td>\n",
       "      <td>1950.0</td>\n",
       "    </tr>\n",
       "    <tr>\n",
       "      <th>20</th>\n",
       "      <td>1003</td>\n",
       "      <td>Октябрь</td>\n",
       "      <td>809.07</td>\n",
       "      <td>83.0</td>\n",
       "      <td>15</td>\n",
       "      <td>ultra</td>\n",
       "      <td>Москва</td>\n",
       "      <td>1000</td>\n",
       "      <td>30.0</td>\n",
       "      <td>3000</td>\n",
       "      <td>1950</td>\n",
       "      <td>150</td>\n",
       "      <td>1</td>\n",
       "      <td>1</td>\n",
       "      <td>1950.0</td>\n",
       "    </tr>\n",
       "    <tr>\n",
       "      <th>21</th>\n",
       "      <td>1003</td>\n",
       "      <td>Сентябрь</td>\n",
       "      <td>904.89</td>\n",
       "      <td>91.0</td>\n",
       "      <td>13</td>\n",
       "      <td>ultra</td>\n",
       "      <td>Москва</td>\n",
       "      <td>1000</td>\n",
       "      <td>30.0</td>\n",
       "      <td>3000</td>\n",
       "      <td>1950</td>\n",
       "      <td>150</td>\n",
       "      <td>1</td>\n",
       "      <td>1</td>\n",
       "      <td>1950.0</td>\n",
       "    </tr>\n",
       "    <tr>\n",
       "      <th>22</th>\n",
       "      <td>1004</td>\n",
       "      <td>Август</td>\n",
       "      <td>128.01</td>\n",
       "      <td>151.0</td>\n",
       "      <td>28</td>\n",
       "      <td>ultra</td>\n",
       "      <td>Новокузнецк</td>\n",
       "      <td>1000</td>\n",
       "      <td>30.0</td>\n",
       "      <td>3000</td>\n",
       "      <td>1950</td>\n",
       "      <td>150</td>\n",
       "      <td>1</td>\n",
       "      <td>1</td>\n",
       "      <td>1950.0</td>\n",
       "    </tr>\n",
       "    <tr>\n",
       "      <th>23</th>\n",
       "      <td>1004</td>\n",
       "      <td>Декабрь</td>\n",
       "      <td>123.45</td>\n",
       "      <td>162.0</td>\n",
       "      <td>18</td>\n",
       "      <td>ultra</td>\n",
       "      <td>Новокузнецк</td>\n",
       "      <td>1000</td>\n",
       "      <td>30.0</td>\n",
       "      <td>3000</td>\n",
       "      <td>1950</td>\n",
       "      <td>150</td>\n",
       "      <td>1</td>\n",
       "      <td>1</td>\n",
       "      <td>1950.0</td>\n",
       "    </tr>\n",
       "    <tr>\n",
       "      <th>24</th>\n",
       "      <td>1004</td>\n",
       "      <td>Июль</td>\n",
       "      <td>124.42</td>\n",
       "      <td>181.0</td>\n",
       "      <td>22</td>\n",
       "      <td>ultra</td>\n",
       "      <td>Новокузнецк</td>\n",
       "      <td>1000</td>\n",
       "      <td>30.0</td>\n",
       "      <td>3000</td>\n",
       "      <td>1950</td>\n",
       "      <td>150</td>\n",
       "      <td>1</td>\n",
       "      <td>1</td>\n",
       "      <td>1950.0</td>\n",
       "    </tr>\n",
       "    <tr>\n",
       "      <th>25</th>\n",
       "      <td>1004</td>\n",
       "      <td>Июнь</td>\n",
       "      <td>159.14</td>\n",
       "      <td>134.0</td>\n",
       "      <td>18</td>\n",
       "      <td>ultra</td>\n",
       "      <td>Новокузнецк</td>\n",
       "      <td>1000</td>\n",
       "      <td>30.0</td>\n",
       "      <td>3000</td>\n",
       "      <td>1950</td>\n",
       "      <td>150</td>\n",
       "      <td>1</td>\n",
       "      <td>1</td>\n",
       "      <td>1950.0</td>\n",
       "    </tr>\n",
       "    <tr>\n",
       "      <th>26</th>\n",
       "      <td>1004</td>\n",
       "      <td>Май</td>\n",
       "      <td>32.29</td>\n",
       "      <td>95.0</td>\n",
       "      <td>14</td>\n",
       "      <td>ultra</td>\n",
       "      <td>Новокузнецк</td>\n",
       "      <td>1000</td>\n",
       "      <td>30.0</td>\n",
       "      <td>3000</td>\n",
       "      <td>1950</td>\n",
       "      <td>150</td>\n",
       "      <td>1</td>\n",
       "      <td>1</td>\n",
       "      <td>1950.0</td>\n",
       "    </tr>\n",
       "    <tr>\n",
       "      <th>27</th>\n",
       "      <td>1004</td>\n",
       "      <td>Ноябрь</td>\n",
       "      <td>109.72</td>\n",
       "      <td>158.0</td>\n",
       "      <td>16</td>\n",
       "      <td>ultra</td>\n",
       "      <td>Новокузнецк</td>\n",
       "      <td>1000</td>\n",
       "      <td>30.0</td>\n",
       "      <td>3000</td>\n",
       "      <td>1950</td>\n",
       "      <td>150</td>\n",
       "      <td>1</td>\n",
       "      <td>1</td>\n",
       "      <td>1950.0</td>\n",
       "    </tr>\n",
       "    <tr>\n",
       "      <th>28</th>\n",
       "      <td>1004</td>\n",
       "      <td>Октябрь</td>\n",
       "      <td>133.61</td>\n",
       "      <td>165.0</td>\n",
       "      <td>19</td>\n",
       "      <td>ultra</td>\n",
       "      <td>Новокузнецк</td>\n",
       "      <td>1000</td>\n",
       "      <td>30.0</td>\n",
       "      <td>3000</td>\n",
       "      <td>1950</td>\n",
       "      <td>150</td>\n",
       "      <td>1</td>\n",
       "      <td>1</td>\n",
       "      <td>1950.0</td>\n",
       "    </tr>\n",
       "    <tr>\n",
       "      <th>29</th>\n",
       "      <td>1004</td>\n",
       "      <td>Сентябрь</td>\n",
       "      <td>110.57</td>\n",
       "      <td>146.0</td>\n",
       "      <td>15</td>\n",
       "      <td>ultra</td>\n",
       "      <td>Новокузнецк</td>\n",
       "      <td>1000</td>\n",
       "      <td>30.0</td>\n",
       "      <td>3000</td>\n",
       "      <td>1950</td>\n",
       "      <td>150</td>\n",
       "      <td>1</td>\n",
       "      <td>1</td>\n",
       "      <td>1950.0</td>\n",
       "    </tr>\n",
       "  </tbody>\n",
       "</table>\n",
       "</div>"
      ],
      "text/plain": [
       "    user_id     month  duration  message_date  gb_used tariff         city  \\\n",
       "0      1000    Август    389.87          81.0       14  ultra    Краснодар   \n",
       "1      1000   Декабрь    312.98          70.0       10  ultra    Краснодар   \n",
       "2      1000      Июль    318.80          75.0       14  ultra    Краснодар   \n",
       "3      1000      Июнь    158.90          60.0       23  ultra    Краснодар   \n",
       "4      1000       Май    150.06          22.0        3  ultra    Краснодар   \n",
       "5      1000    Ноябрь    319.04          58.0       15  ultra    Краснодар   \n",
       "6      1000   Октябрь    328.45          73.0       15  ultra    Краснодар   \n",
       "7      1000  Сентябрь    440.14          57.0       15  ultra    Краснодар   \n",
       "8      1001   Декабрь    391.34           0.0       14  smart       Москва   \n",
       "9      1001    Ноябрь    408.12           0.0       19  smart       Москва   \n",
       "10     1002    Август    269.71          13.0       20  smart  Стерлитамак   \n",
       "11     1002   Декабрь    222.98          12.0       18  smart  Стерлитамак   \n",
       "12     1002      Июль    204.75          11.0       18  smart  Стерлитамак   \n",
       "13     1002      Июнь    110.37           4.0       11  smart  Стерлитамак   \n",
       "14     1002    Ноябрь    228.03          16.0       19  smart  Стерлитамак   \n",
       "15     1002   Октябрь    199.48          10.0       14  smart  Стерлитамак   \n",
       "16     1002  Сентябрь    195.85           4.0       17  smart  Стерлитамак   \n",
       "17     1003    Август    355.67          37.0        9  ultra       Москва   \n",
       "18     1003   Декабрь    755.50          75.0       10  ultra       Москва   \n",
       "19     1003    Ноябрь    775.39          94.0       12  ultra       Москва   \n",
       "20     1003   Октябрь    809.07          83.0       15  ultra       Москва   \n",
       "21     1003  Сентябрь    904.89          91.0       13  ultra       Москва   \n",
       "22     1004    Август    128.01         151.0       28  ultra  Новокузнецк   \n",
       "23     1004   Декабрь    123.45         162.0       18  ultra  Новокузнецк   \n",
       "24     1004      Июль    124.42         181.0       22  ultra  Новокузнецк   \n",
       "25     1004      Июнь    159.14         134.0       18  ultra  Новокузнецк   \n",
       "26     1004       Май     32.29          95.0       14  ultra  Новокузнецк   \n",
       "27     1004    Ноябрь    109.72         158.0       16  ultra  Новокузнецк   \n",
       "28     1004   Октябрь    133.61         165.0       19  ultra  Новокузнецк   \n",
       "29     1004  Сентябрь    110.57         146.0       15  ultra  Новокузнецк   \n",
       "\n",
       "    messages_included  mb_per_month_included  minutes_included  \\\n",
       "0                1000                   30.0              3000   \n",
       "1                1000                   30.0              3000   \n",
       "2                1000                   30.0              3000   \n",
       "3                1000                   30.0              3000   \n",
       "4                1000                   30.0              3000   \n",
       "5                1000                   30.0              3000   \n",
       "6                1000                   30.0              3000   \n",
       "7                1000                   30.0              3000   \n",
       "8                  50                   15.0               500   \n",
       "9                  50                   15.0               500   \n",
       "10                 50                   15.0               500   \n",
       "11                 50                   15.0               500   \n",
       "12                 50                   15.0               500   \n",
       "13                 50                   15.0               500   \n",
       "14                 50                   15.0               500   \n",
       "15                 50                   15.0               500   \n",
       "16                 50                   15.0               500   \n",
       "17               1000                   30.0              3000   \n",
       "18               1000                   30.0              3000   \n",
       "19               1000                   30.0              3000   \n",
       "20               1000                   30.0              3000   \n",
       "21               1000                   30.0              3000   \n",
       "22               1000                   30.0              3000   \n",
       "23               1000                   30.0              3000   \n",
       "24               1000                   30.0              3000   \n",
       "25               1000                   30.0              3000   \n",
       "26               1000                   30.0              3000   \n",
       "27               1000                   30.0              3000   \n",
       "28               1000                   30.0              3000   \n",
       "29               1000                   30.0              3000   \n",
       "\n",
       "    rub_monthly_fee  rub_per_gb  rub_per_message  rub_per_minute  total_sum  \n",
       "0              1950         150                1               1     1950.0  \n",
       "1              1950         150                1               1     1950.0  \n",
       "2              1950         150                1               1     1950.0  \n",
       "3              1950         150                1               1     1950.0  \n",
       "4              1950         150                1               1     1950.0  \n",
       "5              1950         150                1               1     1950.0  \n",
       "6              1950         150                1               1     1950.0  \n",
       "7              1950         150                1               1     1950.0  \n",
       "8               550         200                3               3      550.0  \n",
       "9               550         200                3               3     1350.0  \n",
       "10              550         200                3               3     1550.0  \n",
       "11              550         200                3               3     1150.0  \n",
       "12              550         200                3               3     1150.0  \n",
       "13              550         200                3               3      550.0  \n",
       "14              550         200                3               3     1350.0  \n",
       "15              550         200                3               3      550.0  \n",
       "16              550         200                3               3      950.0  \n",
       "17             1950         150                1               1     1950.0  \n",
       "18             1950         150                1               1     1950.0  \n",
       "19             1950         150                1               1     1950.0  \n",
       "20             1950         150                1               1     1950.0  \n",
       "21             1950         150                1               1     1950.0  \n",
       "22             1950         150                1               1     1950.0  \n",
       "23             1950         150                1               1     1950.0  \n",
       "24             1950         150                1               1     1950.0  \n",
       "25             1950         150                1               1     1950.0  \n",
       "26             1950         150                1               1     1950.0  \n",
       "27             1950         150                1               1     1950.0  \n",
       "28             1950         150                1               1     1950.0  \n",
       "29             1950         150                1               1     1950.0  "
      ]
     },
     "execution_count": 51,
     "metadata": {},
     "output_type": "execute_result"
    }
   ],
   "source": [
    "revenue.head(30)"
   ]
  },
  {
   "cell_type": "markdown",
   "metadata": {},
   "source": [
    "## Вывод:\n",
    "**В таблицах `calls`, `internet`, `messages` имеются нулевые значения. Это означает, что пользователи не пользовались данным типом связи, например в последнее время вместо SMS, пользуются бесплатными сервисами обмена мгновенными сообщениями и голосовой связи.\n",
    "Проверили на пропуски. И перевели даты в нужный тип данных.\n",
    "Для анализа данных была создана единая таблица. Посчитано для каждого пользователя колличество сделанных звонков, SMS и интернет-трафик в месяц. А так же посчитана и добавлена в единую таблицу выручку провайдера с каждого клиента в месяц.**"
   ]
  },
  {
   "cell_type": "markdown",
   "metadata": {},
   "source": [
    "## Проанилизируем данные. \n",
    "\n",
    "**Необходимо описать поведение клиентов оператора, исходя из выборки. Сколько минут разговора, сколько сообщений и какой объём интернет-трафика требуется пользователям каждого тарифа в месяц? Посчитать среднее количество, дисперсию и стандартное отклонение. Построить гистограммы. Описать распределения.**"
   ]
  },
  {
   "cell_type": "markdown",
   "metadata": {},
   "source": [
    "### Сколько минут разговора, сколько сообщений и какой объём интернет-трафика требуется пользователям каждого тарифа в месяц."
   ]
  },
  {
   "cell_type": "markdown",
   "metadata": {},
   "source": [
    "**Создадим новый датафрейм для среза по тарифу `smart`**"
   ]
  },
  {
   "cell_type": "code",
   "execution_count": 52,
   "metadata": {},
   "outputs": [],
   "source": [
    "tariff_smart = revenue.query('tariff==\"smart\"')"
   ]
  },
  {
   "cell_type": "markdown",
   "metadata": {},
   "source": [
    "**Создадим новый датафрейм для среза по тарифу `ultra`**"
   ]
  },
  {
   "cell_type": "code",
   "execution_count": 53,
   "metadata": {},
   "outputs": [],
   "source": [
    "tariff_ultra = revenue.query('tariff==\"ultra\"')"
   ]
  },
  {
   "cell_type": "markdown",
   "metadata": {},
   "source": [
    "### Вычисления для тарифа `smart`"
   ]
  },
  {
   "cell_type": "markdown",
   "metadata": {},
   "source": [
    "**Посчитаем дисперсию и стандарт отклонение для минут тарифа `smart`**"
   ]
  },
  {
   "cell_type": "code",
   "execution_count": 54,
   "metadata": {},
   "outputs": [
    {
     "name": "stdout",
     "output_type": "stream",
     "text": [
      "Среднее кол-во минут для smart: 394.4270255720061\n",
      "Дисперсия минут для smart: 32386.395978716126\n",
      "Стандарт отклонение минут для smart: 179.96220708447683\n"
     ]
    }
   ],
   "source": [
    "print('Среднее кол-во минут для smart:', tariff_smart['duration'].mean())\n",
    "x=tariff_smart['duration']\n",
    "variance_smart_min = np.var(x, ddof=1) # ddof = 1, т.к. это выборка\n",
    "print('Дисперсия минут для smart:', variance_smart_min)\n",
    "standart_smart_min = np.sqrt(variance_smart_min)\n",
    "print('Стандарт отклонение минут для smart:', standart_smart_min)"
   ]
  },
  {
   "cell_type": "code",
   "execution_count": 55,
   "metadata": {},
   "outputs": [
    {
     "data": {
      "text/html": [
       "<div>\n",
       "<style scoped>\n",
       "    .dataframe tbody tr th:only-of-type {\n",
       "        vertical-align: middle;\n",
       "    }\n",
       "\n",
       "    .dataframe tbody tr th {\n",
       "        vertical-align: top;\n",
       "    }\n",
       "\n",
       "    .dataframe thead tr th {\n",
       "        text-align: left;\n",
       "    }\n",
       "\n",
       "    .dataframe thead tr:last-of-type th {\n",
       "        text-align: right;\n",
       "    }\n",
       "</style>\n",
       "<table border=\"1\" class=\"dataframe\">\n",
       "  <thead>\n",
       "    <tr>\n",
       "      <th></th>\n",
       "      <th colspan=\"3\" halign=\"left\">duration</th>\n",
       "      <th colspan=\"3\" halign=\"left\">gb_used</th>\n",
       "    </tr>\n",
       "    <tr>\n",
       "      <th></th>\n",
       "      <th>mean</th>\n",
       "      <th>var</th>\n",
       "      <th>std</th>\n",
       "      <th>mean</th>\n",
       "      <th>var</th>\n",
       "      <th>std</th>\n",
       "    </tr>\n",
       "    <tr>\n",
       "      <th>tariff</th>\n",
       "      <th></th>\n",
       "      <th></th>\n",
       "      <th></th>\n",
       "      <th></th>\n",
       "      <th></th>\n",
       "      <th></th>\n",
       "    </tr>\n",
       "  </thead>\n",
       "  <tbody>\n",
       "    <tr>\n",
       "      <th>smart</th>\n",
       "      <td>394.0</td>\n",
       "      <td>32386.0</td>\n",
       "      <td>180.0</td>\n",
       "      <td>16.0</td>\n",
       "      <td>33.0</td>\n",
       "      <td>6.0</td>\n",
       "    </tr>\n",
       "    <tr>\n",
       "      <th>ultra</th>\n",
       "      <td>497.0</td>\n",
       "      <td>89943.0</td>\n",
       "      <td>300.0</td>\n",
       "      <td>20.0</td>\n",
       "      <td>97.0</td>\n",
       "      <td>10.0</td>\n",
       "    </tr>\n",
       "  </tbody>\n",
       "</table>\n",
       "</div>"
      ],
      "text/plain": [
       "       duration                 gb_used            \n",
       "           mean      var    std    mean   var   std\n",
       "tariff                                             \n",
       "smart     394.0  32386.0  180.0    16.0  33.0   6.0\n",
       "ultra     497.0  89943.0  300.0    20.0  97.0  10.0"
      ]
     },
     "execution_count": 55,
     "metadata": {},
     "output_type": "execute_result"
    }
   ],
   "source": [
    "revenue.groupby('tariff')[['duration','gb_used']].agg(['mean','var','std']).round(0)"
   ]
  },
  {
   "cell_type": "markdown",
   "metadata": {},
   "source": [
    "**Построим гистограмму**"
   ]
  },
  {
   "cell_type": "code",
   "execution_count": 56,
   "metadata": {},
   "outputs": [
    {
     "data": {
      "text/plain": [
       "<matplotlib.legend.Legend at 0x21f0aa81250>"
      ]
     },
     "execution_count": 56,
     "metadata": {},
     "output_type": "execute_result"
    },
    {
     "data": {
      "image/png": "[encoded data removed]",
      "text/plain": [
       "<Figure size 432x288 with 1 Axes>"
      ]
     },
     "metadata": {
      "needs_background": "light"
     },
     "output_type": "display_data"
    }
   ],
   "source": [
    "sns.distplot(tariff_smart['duration'], label=\"Duration\")# гистограмма минут по месяцам в тарифе смарт\n",
    "plt.title(\"Histogram of Duration\") \n",
    "plt.legend() # for label"
   ]
  },
  {
   "cell_type": "code",
   "execution_count": 57,
   "metadata": {
    "scrolled": false
   },
   "outputs": [
    {
     "data": {
      "image/png": "[encoded data removed]",
      "text/plain": [
       "<Figure size 1152x648 with 1 Axes>"
      ]
     },
     "metadata": {
      "needs_background": "light"
     },
     "output_type": "display_data"
    }
   ],
   "source": [
    "plt.figure(figsize=(16,9)) # figure ration 16:9\n",
    "sns.set() # for style\n",
    " \n",
    "sns.distplot(tariff_smart['duration'],color=\"r\",label='Длительность звонка в минутах',  hist_kws = {'color':'#FF6347', 'edgecolor':'#000000','linewidth':5, 'linestyle':'--', 'alpha':0.9}) \n",
    "\n",
    "plt.title(\"Histogram of Duration\") # for histogram title\n",
    "plt.legend(); # for label"
   ]
  },
  {
   "cell_type": "markdown",
   "metadata": {},
   "source": [
    "В данной гистограмме мы наблюдаем , что пользователи расходуют от 0 до 1000 минут в месяц. Пик значений наблюдается в отметке примерно 420 минут. "
   ]
  },
  {
   "cell_type": "markdown",
   "metadata": {},
   "source": [
    "**Посчитаем дисперсию и стандарт отклонение для sms тарифа `smart`**"
   ]
  },
  {
   "cell_type": "code",
   "execution_count": 58,
   "metadata": {},
   "outputs": [
    {
     "name": "stdout",
     "output_type": "stream",
     "text": [
      "Среднее кол-во смс для smart: 33.384028712427096\n",
      "Дисперсия смс для smart: 796.8129584480083\n",
      "Стандарт отклонение смс для smart: 28.22787555676141\n"
     ]
    }
   ],
   "source": [
    "print('Среднее кол-во смс для smart:', tariff_smart['message_date'].mean())\n",
    "x=tariff_smart['message_date']\n",
    "variance_smart_sms = np.var(x, ddof=1) # ddof = 1, т.к. это выборка\n",
    "print('Дисперсия смс для smart:', variance_smart_sms)\n",
    "standart_smart_sms = np.sqrt(variance_smart_sms)\n",
    "print('Стандарт отклонение смс для smart:', standart_smart_sms)"
   ]
  },
  {
   "cell_type": "markdown",
   "metadata": {},
   "source": [
    "**Построим гистограмму по месяцам в среднем для тарифа `smart`**"
   ]
  },
  {
   "cell_type": "code",
   "execution_count": 59,
   "metadata": {},
   "outputs": [
    {
     "data": {
      "image/png": "[encoded data removed]",
      "text/plain": [
       "<Figure size 1152x648 with 1 Axes>"
      ]
     },
     "metadata": {},
     "output_type": "display_data"
    }
   ],
   "source": [
    "plt.figure(figsize=(16,9)) \n",
    "sns.set() \n",
    " \n",
    "sns.distplot(tariff_smart[\"message_date\"],color=\"r\",label=\"message_date\",bins=70,)\n",
    " \n",
    "plt.title(\"Histogram of Message_date\") \n",
    "plt.legend();"
   ]
  },
  {
   "cell_type": "markdown",
   "metadata": {},
   "source": [
    "В данной гистограмме наблюдается пик в отметке 0 и 50, дальше график уходит на плато. "
   ]
  },
  {
   "cell_type": "markdown",
   "metadata": {},
   "source": [
    "**Посчитаем дисперсию и стандарт отклонение для трафика тарифа `smart`**"
   ]
  },
  {
   "cell_type": "code",
   "execution_count": 60,
   "metadata": {},
   "outputs": [
    {
     "name": "stdout",
     "output_type": "stream",
     "text": [
      "Среднее кол-во трафика в Гб для smart: 16.35935397039031\n",
      "Дисперсия трафика для smart: 33.160304070788754\n",
      "Стандарт отклонение трафика для smart: 5.758498421532193\n"
     ]
    }
   ],
   "source": [
    "print('Среднее кол-во трафика в Гб для smart:', tariff_smart['gb_used'].mean())\n",
    "x=tariff_smart['gb_used']\n",
    "variance_smart_traffic = np.var(x, ddof=1) # ddof = 1, т.к. это выборка\n",
    "print('Дисперсия трафика для smart:', variance_smart_traffic)\n",
    "standart_smart_traffic = np.sqrt(variance_smart_traffic)\n",
    "print('Стандарт отклонение трафика для smart:', standart_smart_traffic)"
   ]
  },
  {
   "cell_type": "markdown",
   "metadata": {},
   "source": [
    "**Строим гистограмму трафика по месяцам в среднем для тарифа `smart`**"
   ]
  },
  {
   "cell_type": "code",
   "execution_count": 61,
   "metadata": {},
   "outputs": [
    {
     "data": {
      "image/png": "[encoded data removed]",
      "text/plain": [
       "<Figure size 1152x648 with 1 Axes>"
      ]
     },
     "metadata": {},
     "output_type": "display_data"
    }
   ],
   "source": [
    "plt.figure(figsize=(16,9)) \n",
    "sns.set() \n",
    " \n",
    "sns.distplot(tariff_smart[\"gb_used\"],color=\"g\",label=\"gb_used\",bins=70,)\n",
    " \n",
    "plt.title(\"Histogram of gb_used\") \n",
    "plt.legend();"
   ]
  },
  {
   "cell_type": "markdown",
   "metadata": {},
   "source": [
    "Основой расход расход трафика наблюдается в диапозоне от 8 до 35 гб за расчетный период. Основой объём приходится на отметку 16 гб."
   ]
  },
  {
   "cell_type": "markdown",
   "metadata": {},
   "source": [
    "### Вычисления для тарифа `ultra`"
   ]
  },
  {
   "cell_type": "markdown",
   "metadata": {},
   "source": [
    "**Посчитаем дисперсию  и стандарт отклонение для минут для тарифа `ultra`**"
   ]
  },
  {
   "cell_type": "code",
   "execution_count": 62,
   "metadata": {},
   "outputs": [
    {
     "name": "stdout",
     "output_type": "stream",
     "text": [
      "Среднее кол-во минут для ultra: 497.0682233502547\n",
      "Дисперсия минут для ultra: 89942.5003695031\n",
      "Стандарт отклонение минут для ultra: 299.9041519710974\n"
     ]
    }
   ],
   "source": [
    "print('Среднее кол-во минут для ultra:', tariff_ultra['duration'].mean())\n",
    "x=tariff_ultra['duration']\n",
    "variance_ultra_min = np.var(x, ddof=1) # ddof = 1, т.к. это выборка\n",
    "print('Дисперсия минут для ultra:', variance_ultra_min)\n",
    "standart_ultra_min = np.sqrt(variance_ultra_min)\n",
    "print('Стандарт отклонение минут для ultra:', standart_ultra_min)"
   ]
  },
  {
   "cell_type": "markdown",
   "metadata": {},
   "source": [
    "**Строим гистограмму звонков для тарифа `ultra`**"
   ]
  },
  {
   "cell_type": "code",
   "execution_count": 63,
   "metadata": {},
   "outputs": [
    {
     "data": {
      "image/png": "[encoded data removed]",
      "text/plain": [
       "<Figure size 1152x648 with 1 Axes>"
      ]
     },
     "metadata": {},
     "output_type": "display_data"
    }
   ],
   "source": [
    "plt.figure(figsize=(16,9)) \n",
    "sns.set() \n",
    " \n",
    "sns.distplot(tariff_ultra[\"duration\"],color=\"m\",label=\"duration\",bins=70,)\n",
    " \n",
    "plt.title(\"Histogram of duration\") \n",
    "plt.legend();"
   ]
  },
  {
   "cell_type": "markdown",
   "metadata": {},
   "source": [
    "Наблюдаем звони с нулевой продолжительносью(пропущенные звонки). Среднемесячная продолжительность звонков приходится в диапозон от 1 до 1300 минут. Пик на отметке примерно 600 минут."
   ]
  },
  {
   "cell_type": "markdown",
   "metadata": {},
   "source": [
    "**Посчитаем дисперсию и стандарт отклонение для sms тарифа ultra**"
   ]
  },
  {
   "cell_type": "code",
   "execution_count": 64,
   "metadata": {},
   "outputs": [
    {
     "name": "stdout",
     "output_type": "stream",
     "text": [
      "Среднее кол-во смс для ultra: 49.36345177664975\n",
      "Дисперсия смс для ultra: 2285.2661425446818\n",
      "Стандарт отклонение смс для ultra: 47.8044573501748\n"
     ]
    }
   ],
   "source": [
    "print('Среднее кол-во смс для ultra:', tariff_ultra['message_date'].mean())\n",
    "x=tariff_ultra['message_date']\n",
    "variance_ultra_sms = np.var(x, ddof=1) # ddof = 1, т.к. это выборка\n",
    "print('Дисперсия смс для ultra:', variance_ultra_sms)\n",
    "standart_ultra_sms = np.sqrt(variance_ultra_sms)\n",
    "print('Стандарт отклонение смс для ultra:', standart_ultra_sms)"
   ]
  },
  {
   "cell_type": "code",
   "execution_count": 65,
   "metadata": {},
   "outputs": [
    {
     "data": {
      "image/png": "[encoded data removed]",
      "text/plain": [
       "<Figure size 1152x648 with 1 Axes>"
      ]
     },
     "metadata": {},
     "output_type": "display_data"
    }
   ],
   "source": [
    "plt.figure(figsize=(16,9)) \n",
    "sns.set() \n",
    " \n",
    "sns.distplot(tariff_ultra[\"message_date\"],color=\"purple\",label=\"message_date\",bins=70,)\n",
    " \n",
    "plt.title(\"Histogram of Message date\") \n",
    "plt.legend();"
   ]
  },
  {
   "cell_type": "markdown",
   "metadata": {},
   "source": [
    "Некотрые пользователи не пользуются sms сообщениями. Остальные расходуют от 1 до 150 sms в месяц. В среднем пользователи используют 49-50 sms."
   ]
  },
  {
   "cell_type": "markdown",
   "metadata": {},
   "source": [
    "**Посчитаем дисперсию и стандарт отклонение для трафика тарифа `ultra`**"
   ]
  },
  {
   "cell_type": "code",
   "execution_count": 66,
   "metadata": {},
   "outputs": [
    {
     "name": "stdout",
     "output_type": "stream",
     "text": [
      "Среднее кол-во трафика для ultra: 19.525888324873097\n",
      "Дисперсия трафика для ultra: 97.33494903223153\n",
      "Стандарт отклонение трафика для ultra: 9.865847608403017\n"
     ]
    }
   ],
   "source": [
    "print('Среднее кол-во трафика для ultra:', tariff_ultra['gb_used'].mean())\n",
    "x=tariff_ultra['gb_used']\n",
    "variance_ultra_traffic = np.var(x, ddof=1) # ddof = 1, т.к. это выборка\n",
    "print('Дисперсия трафика для ultra:', variance_ultra_traffic)\n",
    "standart_ultra_traffic = np.sqrt(variance_ultra_traffic)\n",
    "print('Стандарт отклонение трафика для ultra:', standart_ultra_traffic)"
   ]
  },
  {
   "cell_type": "code",
   "execution_count": 67,
   "metadata": {},
   "outputs": [
    {
     "data": {
      "image/png": "[encoded data removed]",
      "text/plain": [
       "<Figure size 1152x648 with 1 Axes>"
      ]
     },
     "metadata": {},
     "output_type": "display_data"
    }
   ],
   "source": [
    "plt.figure(figsize=(16,9)) \n",
    "sns.set() \n",
    " \n",
    "sns.distplot(tariff_ultra[\"gb_used\"],color=\"chocolate\",label=\"gb_used\",bins=70,)\n",
    " \n",
    "plt.title(\"Histogram of gb used\") \n",
    "plt.legend();"
   ]
  },
  {
   "cell_type": "markdown",
   "metadata": {},
   "source": [
    "Основной расход приходится в диапозоне от 1 до 42 гб"
   ]
  },
  {
   "cell_type": "markdown",
   "metadata": {},
   "source": [
    "## Вывод:\n",
    "**Пользователи тарифа `ultra` используют больше трафика, чем пользователи тарифа `smart`. Тем самым пользователи более дорогого тарифного плана, больше заинтересованы в интернет-сёрфинге.\n",
    "Пользователи `smart` тарифа расходуют меньшее минут разговоров и SMS в месяц, чем обладатели тарифа `ultra`. Найдя среднее для тарифа `smart` предположим, что в среднем пользователи примерно 20%, имеют запас по минутам. Лимита на звонки в `ultra` достигает малое колличество клиентов.**"
   ]
  },
  {
   "cell_type": "markdown",
   "metadata": {},
   "source": [
    "## Проверка гипотез"
   ]
  },
  {
   "cell_type": "markdown",
   "metadata": {},
   "source": [
    "**Составим нулевую и альтернативную гипотезы.\n",
    "H₀(нулевая гипотеза) всегда формулируется так, что изпользовать знак равенства(=)**"
   ]
  },
  {
   "cell_type": "markdown",
   "metadata": {},
   "source": [
    " - H₀ - средняя выручка пользователей тарифов `ultra` и `smart` равна\n",
    " - H₁ - средняя выручка пользователей тарифов `ultra` и `smart` не равна"
   ]
  },
  {
   "cell_type": "code",
   "execution_count": 68,
   "metadata": {},
   "outputs": [
    {
     "data": {
      "text/html": [
       "<div>\n",
       "<style scoped>\n",
       "    .dataframe tbody tr th:only-of-type {\n",
       "        vertical-align: middle;\n",
       "    }\n",
       "\n",
       "    .dataframe tbody tr th {\n",
       "        vertical-align: top;\n",
       "    }\n",
       "\n",
       "    .dataframe thead th {\n",
       "        text-align: right;\n",
       "    }\n",
       "</style>\n",
       "<table border=\"1\" class=\"dataframe\">\n",
       "  <thead>\n",
       "    <tr style=\"text-align: right;\">\n",
       "      <th></th>\n",
       "      <th>user_id</th>\n",
       "      <th>month</th>\n",
       "      <th>duration</th>\n",
       "      <th>message_date</th>\n",
       "      <th>gb_used</th>\n",
       "      <th>tariff</th>\n",
       "      <th>city</th>\n",
       "      <th>messages_included</th>\n",
       "      <th>mb_per_month_included</th>\n",
       "      <th>minutes_included</th>\n",
       "      <th>rub_monthly_fee</th>\n",
       "      <th>rub_per_gb</th>\n",
       "      <th>rub_per_message</th>\n",
       "      <th>rub_per_minute</th>\n",
       "      <th>total_sum</th>\n",
       "    </tr>\n",
       "  </thead>\n",
       "  <tbody>\n",
       "    <tr>\n",
       "      <th>0</th>\n",
       "      <td>1000</td>\n",
       "      <td>Август</td>\n",
       "      <td>389.87</td>\n",
       "      <td>81.0</td>\n",
       "      <td>14</td>\n",
       "      <td>ultra</td>\n",
       "      <td>Краснодар</td>\n",
       "      <td>1000</td>\n",
       "      <td>30.0</td>\n",
       "      <td>3000</td>\n",
       "      <td>1950</td>\n",
       "      <td>150</td>\n",
       "      <td>1</td>\n",
       "      <td>1</td>\n",
       "      <td>1950.0</td>\n",
       "    </tr>\n",
       "    <tr>\n",
       "      <th>1</th>\n",
       "      <td>1000</td>\n",
       "      <td>Декабрь</td>\n",
       "      <td>312.98</td>\n",
       "      <td>70.0</td>\n",
       "      <td>10</td>\n",
       "      <td>ultra</td>\n",
       "      <td>Краснодар</td>\n",
       "      <td>1000</td>\n",
       "      <td>30.0</td>\n",
       "      <td>3000</td>\n",
       "      <td>1950</td>\n",
       "      <td>150</td>\n",
       "      <td>1</td>\n",
       "      <td>1</td>\n",
       "      <td>1950.0</td>\n",
       "    </tr>\n",
       "    <tr>\n",
       "      <th>2</th>\n",
       "      <td>1000</td>\n",
       "      <td>Июль</td>\n",
       "      <td>318.80</td>\n",
       "      <td>75.0</td>\n",
       "      <td>14</td>\n",
       "      <td>ultra</td>\n",
       "      <td>Краснодар</td>\n",
       "      <td>1000</td>\n",
       "      <td>30.0</td>\n",
       "      <td>3000</td>\n",
       "      <td>1950</td>\n",
       "      <td>150</td>\n",
       "      <td>1</td>\n",
       "      <td>1</td>\n",
       "      <td>1950.0</td>\n",
       "    </tr>\n",
       "    <tr>\n",
       "      <th>3</th>\n",
       "      <td>1000</td>\n",
       "      <td>Июнь</td>\n",
       "      <td>158.90</td>\n",
       "      <td>60.0</td>\n",
       "      <td>23</td>\n",
       "      <td>ultra</td>\n",
       "      <td>Краснодар</td>\n",
       "      <td>1000</td>\n",
       "      <td>30.0</td>\n",
       "      <td>3000</td>\n",
       "      <td>1950</td>\n",
       "      <td>150</td>\n",
       "      <td>1</td>\n",
       "      <td>1</td>\n",
       "      <td>1950.0</td>\n",
       "    </tr>\n",
       "    <tr>\n",
       "      <th>4</th>\n",
       "      <td>1000</td>\n",
       "      <td>Май</td>\n",
       "      <td>150.06</td>\n",
       "      <td>22.0</td>\n",
       "      <td>3</td>\n",
       "      <td>ultra</td>\n",
       "      <td>Краснодар</td>\n",
       "      <td>1000</td>\n",
       "      <td>30.0</td>\n",
       "      <td>3000</td>\n",
       "      <td>1950</td>\n",
       "      <td>150</td>\n",
       "      <td>1</td>\n",
       "      <td>1</td>\n",
       "      <td>1950.0</td>\n",
       "    </tr>\n",
       "  </tbody>\n",
       "</table>\n",
       "</div>"
      ],
      "text/plain": [
       "   user_id    month  duration  message_date  gb_used tariff       city  \\\n",
       "0     1000   Август    389.87          81.0       14  ultra  Краснодар   \n",
       "1     1000  Декабрь    312.98          70.0       10  ultra  Краснодар   \n",
       "2     1000     Июль    318.80          75.0       14  ultra  Краснодар   \n",
       "3     1000     Июнь    158.90          60.0       23  ultra  Краснодар   \n",
       "4     1000      Май    150.06          22.0        3  ultra  Краснодар   \n",
       "\n",
       "   messages_included  mb_per_month_included  minutes_included  \\\n",
       "0               1000                   30.0              3000   \n",
       "1               1000                   30.0              3000   \n",
       "2               1000                   30.0              3000   \n",
       "3               1000                   30.0              3000   \n",
       "4               1000                   30.0              3000   \n",
       "\n",
       "   rub_monthly_fee  rub_per_gb  rub_per_message  rub_per_minute  total_sum  \n",
       "0             1950         150                1               1     1950.0  \n",
       "1             1950         150                1               1     1950.0  \n",
       "2             1950         150                1               1     1950.0  \n",
       "3             1950         150                1               1     1950.0  \n",
       "4             1950         150                1               1     1950.0  "
      ]
     },
     "execution_count": 68,
     "metadata": {},
     "output_type": "execute_result"
    }
   ],
   "source": [
    "tariff_ultra.head()"
   ]
  },
  {
   "cell_type": "code",
   "execution_count": 69,
   "metadata": {},
   "outputs": [
    {
     "name": "stdout",
     "output_type": "stream",
     "text": [
      "p_значение 3.088428001219561e-176\n",
      "Отвергаем H₀\n",
      "Средняя выручка с клиента для тарифа smart: 1262.0\n",
      "Средняя выручка с клиента для тарифа ultra: 2071.0\n"
     ]
    }
   ],
   "source": [
    "sample1 = tariff_smart['total_sum']\n",
    "sample2 = tariff_ultra['total_sum']\n",
    "alpha = 0.05\n",
    "results = st.ttest_ind(sample1, sample2)\n",
    "print('p_значение', results.pvalue)\n",
    "if results.pvalue < alpha:\n",
    "    print('Отвергаем H₀')\n",
    "else:\n",
    "    print('Не получилось отвергнуть нулевую гипотезу')\n",
    "print('Средняя выручка с клиента для тарифа smart:',round(tariff_smart['total_sum'].mean(), 0))\n",
    "print('Средняя выручка с клиента для тарифа ultra:',round(tariff_ultra['total_sum'].mean(), 0))"
   ]
  },
  {
   "cell_type": "markdown",
   "metadata": {},
   "source": [
    "**Вывод: Отвергаем нулевую гипотезу о том, что средняя выручка пользователей тарифов `ultra` и `smart` равна. Средняя выручка у тарифа `ultra` больше**"
   ]
  },
  {
   "cell_type": "markdown",
   "metadata": {},
   "source": [
    "- H₀ - средняя выручка пользователей из Москвы не отличается от выручки пользователей из других регионов.\n",
    "- H₁ - средняя выручка пользователей из Москвы отличается от выручки пользователей из других регионов."
   ]
  },
  {
   "cell_type": "code",
   "execution_count": 70,
   "metadata": {},
   "outputs": [
    {
     "name": "stdout",
     "output_type": "stream",
     "text": [
      "p_значение 0.47087806366589025\n",
      "Не получилось отвергнуть нулевую гипотезу\n",
      "Средняя выручка пользователей из Москвы: 1531.0\n",
      "Средняя выручка пользователей из дургих регионов: 1505.0\n"
     ]
    }
   ],
   "source": [
    "sample_1 = revenue[revenue['city']=='Москва']['total_sum']\n",
    "sample_2 = revenue[revenue['city']!='Москва']['total_sum']\n",
    "alpha = 0.05\n",
    "results = st.ttest_ind(sample_1, sample_2)\n",
    "print('p_значение', results.pvalue)\n",
    "if results.pvalue < alpha:\n",
    "    print('Отвергаем H₀')\n",
    "else:\n",
    "    print('Не получилось отвергнуть нулевую гипотезу')\n",
    "print('Средняя выручка пользователей из Москвы:', round(sample_1.mean(), 0))\n",
    "print('Средняя выручка пользователей из дургих регионов:', round(sample_2.mean(), 0))"
   ]
  },
  {
   "cell_type": "markdown",
   "metadata": {},
   "source": [
    "**Вывод: Гипотезу о равенстве выручки между пользователями столицы и пользователями из других регионов, отвергаем. Значения практически равнозначны.**"
   ]
  },
  {
   "cell_type": "markdown",
   "metadata": {},
   "source": [
    "## Вывод:\n",
    "**Попадание или непопадание значения, посчитанного по выборке, в критический интервал - не повод считать, что наши гипотезы доказаны или нет. Иными словами, мы не принимаем H₀(нулевую гипотезу). Данные лишь могут дать нам основания отвергнуть(или нет) H₀.\n",
    "Для проверки гипотез, был выбран метод `scipy.stats.ttest_ind(array1,array2)`. Т.к. у нас есть основание полагать, что выборки взяты из схожих по параметрам совокупностей. А так же, нам нужен этот метод, для того, чтобы получить более точные результаты.**"
   ]
  },
  {
   "cell_type": "markdown",
   "metadata": {},
   "source": [
    "## Общий вывод"
   ]
  },
  {
   "cell_type": "markdown",
   "metadata": {},
   "source": [
    "* Предварительно изучив полученные данные, мы почти не выявили пропусков(кроме обоснованных). Заменять и удалять данные не пришлось за отсутствием необходимости.\n",
    "* После изучения приступили к предобработке и подготовке данных для дальнейшего исследования, а именно: привели даты в таблицах, где это необходимо к корректному формату, заменили типы с дробной частью на целочисленные так же, где это было необходимо.\n",
    "* Посчитали для каждого пользователя: количество сделанных звонков и израсходованных минут разговора по месяцам, количество отправленных сообщений по месяцам, объем израсходованного интернет-трафика по месяцам,помесячную выручку с каждого пользователя. Узнали, что многие пользователи используют не все типы связи, например в большинстве вместо SMS, используются бесплатные сервисамы обмена мгновенными сообщениями и голосовой связи.\n",
    "* Посчитали сколько в среднем минут разговора, сообщений и какой объём интернет-трафика требуется пользователям каждого тарифа в месяц. Тем самым узнали, что пользователи тарифа `ultra` используют больше трафика, чем пользователи тарифа `smart`. Пользователи более дорогого тарифного плана, больше заинтересованы в интернет-сёрфинге. Пользователи `smart` тарифа расходуют меньшее минут разговоров и SMS в месяц, чем обладатели тарифа `ultra`. Нашли среднее для тарифа `smart` предположим, что в среднем пользователи примерно 20%, имеют запас по минутам. Лимита на звонки в `ultra` достигает малое колличество клиентов.\n",
    "* И самое главное проверили гипотезы, что средняя выручка пользователей тарифов `ultra` и `smart` не равна(у тарифа `ultra` она больше). И, что средняя выручка пользователей из Москвы не отличается от выручки пользователей из других регионов, так как Значения практически равнозначны.\n",
    "\n",
    "\n",
    "**Самым популярным является тариф `smart`**\n",
    "**Самым прибыльным для компании является тариф `ultra`**"
   ]
  }
 ],
 "metadata": {
  "ExecuteTimeLog": [
   {
    "duration": 78,
    "start_time": "2021-12-01T10:10:18.615Z"
   },
   {
    "duration": 106,
    "start_time": "2021-12-01T10:10:44.761Z"
   },
   {
    "duration": 86,
    "start_time": "2021-12-01T10:11:06.975Z"
   },
   {
    "duration": 1363,
    "start_time": "2021-12-01T10:11:37.079Z"
   },
   {
    "duration": 302,
    "start_time": "2021-12-01T10:22:35.252Z"
   },
   {
    "duration": 355,
    "start_time": "2021-12-01T10:22:45.463Z"
   },
   {
    "duration": 15,
    "start_time": "2021-12-01T10:22:49.394Z"
   },
   {
    "duration": 8,
    "start_time": "2021-12-01T10:23:09.531Z"
   },
   {
    "duration": 8,
    "start_time": "2021-12-01T10:23:18.795Z"
   },
   {
    "duration": 10,
    "start_time": "2021-12-01T10:23:24.321Z"
   },
   {
    "duration": 8,
    "start_time": "2021-12-01T10:23:31.777Z"
   },
   {
    "duration": 12,
    "start_time": "2021-12-01T10:23:37.575Z"
   },
   {
    "duration": 8,
    "start_time": "2021-12-01T10:23:52.021Z"
   },
   {
    "duration": 9,
    "start_time": "2021-12-01T10:24:23.230Z"
   },
   {
    "duration": 8,
    "start_time": "2021-12-01T10:24:25.362Z"
   },
   {
    "duration": 13,
    "start_time": "2021-12-01T10:24:28.238Z"
   },
   {
    "duration": 11,
    "start_time": "2021-12-01T10:24:32.383Z"
   },
   {
    "duration": 7,
    "start_time": "2021-12-01T10:31:22.881Z"
   },
   {
    "duration": 9,
    "start_time": "2021-12-01T10:31:34.573Z"
   },
   {
    "duration": 19,
    "start_time": "2021-12-01T10:31:41.243Z"
   },
   {
    "duration": 16,
    "start_time": "2021-12-01T10:31:46.332Z"
   },
   {
    "duration": 13,
    "start_time": "2021-12-01T10:31:50.215Z"
   },
   {
    "duration": 6,
    "start_time": "2021-12-01T10:31:52.954Z"
   },
   {
    "duration": 7,
    "start_time": "2021-12-01T10:31:57.271Z"
   },
   {
    "duration": 18,
    "start_time": "2021-12-01T11:10:11.436Z"
   },
   {
    "duration": 15,
    "start_time": "2021-12-01T11:21:54.576Z"
   },
   {
    "duration": 13,
    "start_time": "2021-12-01T11:21:56.802Z"
   },
   {
    "duration": 5,
    "start_time": "2021-12-01T11:21:59.013Z"
   },
   {
    "duration": 5,
    "start_time": "2021-12-01T11:22:01.423Z"
   },
   {
    "duration": 2524,
    "start_time": "2021-12-04T09:05:06.601Z"
   },
   {
    "duration": 24,
    "start_time": "2021-12-04T09:05:09.128Z"
   },
   {
    "duration": 47,
    "start_time": "2021-12-04T09:05:09.156Z"
   },
   {
    "duration": 18,
    "start_time": "2021-12-04T09:05:09.206Z"
   },
   {
    "duration": 55,
    "start_time": "2021-12-04T09:05:09.228Z"
   },
   {
    "duration": 16,
    "start_time": "2021-12-04T09:05:09.288Z"
   },
   {
    "duration": 19,
    "start_time": "2021-12-04T09:05:09.307Z"
   },
   {
    "duration": 53,
    "start_time": "2021-12-04T09:05:09.330Z"
   },
   {
    "duration": 14,
    "start_time": "2021-12-04T09:05:09.387Z"
   },
   {
    "duration": 23,
    "start_time": "2021-12-04T09:05:09.404Z"
   },
   {
    "duration": 9,
    "start_time": "2021-12-04T09:05:09.430Z"
   },
   {
    "duration": 37,
    "start_time": "2021-12-04T09:05:09.481Z"
   },
   {
    "duration": 71,
    "start_time": "2021-12-04T09:05:09.521Z"
   },
   {
    "duration": 22,
    "start_time": "2021-12-04T09:05:09.595Z"
   },
   {
    "duration": 7,
    "start_time": "2021-12-04T09:05:09.619Z"
   },
   {
    "duration": 8,
    "start_time": "2021-12-04T09:05:09.629Z"
   },
   {
    "duration": 44,
    "start_time": "2021-12-04T10:24:57.407Z"
   },
   {
    "duration": 544,
    "start_time": "2021-12-04T10:25:16.003Z"
   },
   {
    "duration": 2152,
    "start_time": "2021-12-04T10:25:28.443Z"
   },
   {
    "duration": 20,
    "start_time": "2021-12-04T10:25:30.599Z"
   },
   {
    "duration": 35,
    "start_time": "2021-12-04T10:25:30.622Z"
   },
   {
    "duration": 39,
    "start_time": "2021-12-04T10:25:30.660Z"
   },
   {
    "duration": 37,
    "start_time": "2021-12-04T10:25:30.702Z"
   },
   {
    "duration": 45,
    "start_time": "2021-12-04T10:25:30.741Z"
   },
   {
    "duration": 25,
    "start_time": "2021-12-04T10:25:30.789Z"
   },
   {
    "duration": 27,
    "start_time": "2021-12-04T10:25:30.816Z"
   },
   {
    "duration": 40,
    "start_time": "2021-12-04T10:25:30.847Z"
   },
   {
    "duration": 28,
    "start_time": "2021-12-04T10:25:30.891Z"
   },
   {
    "duration": 27,
    "start_time": "2021-12-04T10:25:30.921Z"
   },
   {
    "duration": 59,
    "start_time": "2021-12-04T10:25:30.951Z"
   },
   {
    "duration": 24,
    "start_time": "2021-12-04T10:25:31.013Z"
   },
   {
    "duration": 50,
    "start_time": "2021-12-04T10:25:31.040Z"
   },
   {
    "duration": 15,
    "start_time": "2021-12-04T10:25:31.095Z"
   },
   {
    "duration": 27,
    "start_time": "2021-12-04T10:25:31.112Z"
   },
   {
    "duration": 85,
    "start_time": "2021-12-04T10:25:31.142Z"
   },
   {
    "duration": 496,
    "start_time": "2021-12-04T10:25:31.229Z"
   },
   {
    "duration": 13,
    "start_time": "2021-12-04T10:25:46.532Z"
   },
   {
    "duration": 314,
    "start_time": "2021-12-04T10:37:49.589Z"
   },
   {
    "duration": 309,
    "start_time": "2021-12-04T10:37:59.350Z"
   },
   {
    "duration": 314,
    "start_time": "2021-12-04T10:39:28.297Z"
   },
   {
    "duration": 216,
    "start_time": "2021-12-04T10:39:35.473Z"
   },
   {
    "duration": 17,
    "start_time": "2021-12-04T10:39:44.545Z"
   },
   {
    "duration": 16,
    "start_time": "2021-12-04T10:45:04.001Z"
   },
   {
    "duration": 568,
    "start_time": "2021-12-04T10:50:40.126Z"
   },
   {
    "duration": 299,
    "start_time": "2021-12-04T11:08:34.934Z"
   },
   {
    "duration": 321,
    "start_time": "2021-12-04T11:09:12.409Z"
   },
   {
    "duration": 335,
    "start_time": "2021-12-04T11:09:21.004Z"
   },
   {
    "duration": 12,
    "start_time": "2021-12-04T11:09:28.274Z"
   },
   {
    "duration": 26,
    "start_time": "2021-12-04T11:09:39.671Z"
   },
   {
    "duration": 18,
    "start_time": "2021-12-04T11:10:40.231Z"
   },
   {
    "duration": 3142,
    "start_time": "2021-12-04T11:10:53.532Z"
   },
   {
    "duration": 24,
    "start_time": "2021-12-04T11:10:56.676Z"
   },
   {
    "duration": 45,
    "start_time": "2021-12-04T11:10:56.704Z"
   },
   {
    "duration": 40,
    "start_time": "2021-12-04T11:10:56.752Z"
   },
   {
    "duration": 29,
    "start_time": "2021-12-04T11:10:56.795Z"
   },
   {
    "duration": 61,
    "start_time": "2021-12-04T11:10:56.827Z"
   },
   {
    "duration": 32,
    "start_time": "2021-12-04T11:10:56.891Z"
   },
   {
    "duration": 56,
    "start_time": "2021-12-04T11:10:56.929Z"
   },
   {
    "duration": 19,
    "start_time": "2021-12-04T11:10:56.989Z"
   },
   {
    "duration": 71,
    "start_time": "2021-12-04T11:10:57.011Z"
   },
   {
    "duration": 13,
    "start_time": "2021-12-04T11:10:57.086Z"
   },
   {
    "duration": 79,
    "start_time": "2021-12-04T11:10:57.103Z"
   },
   {
    "duration": 37,
    "start_time": "2021-12-04T11:10:57.186Z"
   },
   {
    "duration": 58,
    "start_time": "2021-12-04T11:10:57.226Z"
   },
   {
    "duration": 23,
    "start_time": "2021-12-04T11:10:57.287Z"
   },
   {
    "duration": 11,
    "start_time": "2021-12-04T11:10:57.313Z"
   },
   {
    "duration": 91,
    "start_time": "2021-12-04T11:10:57.327Z"
   },
   {
    "duration": 17,
    "start_time": "2021-12-04T11:10:57.421Z"
   },
   {
    "duration": 3183,
    "start_time": "2021-12-04T11:10:57.441Z"
   },
   {
    "duration": -680,
    "start_time": "2021-12-04T11:11:01.308Z"
   },
   {
    "duration": -681,
    "start_time": "2021-12-04T11:11:01.310Z"
   },
   {
    "duration": 2601,
    "start_time": "2021-12-04T11:11:16.739Z"
   },
   {
    "duration": 10,
    "start_time": "2021-12-04T11:11:42.225Z"
   },
   {
    "duration": 15,
    "start_time": "2021-12-04T11:11:44.238Z"
   },
   {
    "duration": 3242,
    "start_time": "2021-12-04T11:11:51.123Z"
   },
   {
    "duration": 41,
    "start_time": "2021-12-04T11:12:23.404Z"
   },
   {
    "duration": 26,
    "start_time": "2021-12-04T11:12:25.379Z"
   },
   {
    "duration": 2423,
    "start_time": "2021-12-04T11:12:35.335Z"
   },
   {
    "duration": 24,
    "start_time": "2021-12-04T11:12:37.762Z"
   },
   {
    "duration": 34,
    "start_time": "2021-12-04T11:12:37.790Z"
   },
   {
    "duration": 20,
    "start_time": "2021-12-04T11:12:37.827Z"
   },
   {
    "duration": 56,
    "start_time": "2021-12-04T11:12:37.850Z"
   },
   {
    "duration": 15,
    "start_time": "2021-12-04T11:12:37.910Z"
   },
   {
    "duration": 78,
    "start_time": "2021-12-04T11:12:37.929Z"
   },
   {
    "duration": 12,
    "start_time": "2021-12-04T11:12:38.010Z"
   },
   {
    "duration": 9,
    "start_time": "2021-12-04T11:12:38.025Z"
   },
   {
    "duration": 62,
    "start_time": "2021-12-04T11:12:38.037Z"
   },
   {
    "duration": 11,
    "start_time": "2021-12-04T11:12:38.101Z"
   },
   {
    "duration": 67,
    "start_time": "2021-12-04T11:12:38.115Z"
   },
   {
    "duration": 34,
    "start_time": "2021-12-04T11:12:38.186Z"
   },
   {
    "duration": 19,
    "start_time": "2021-12-04T11:12:38.223Z"
   },
   {
    "duration": 11,
    "start_time": "2021-12-04T11:12:38.283Z"
   },
   {
    "duration": 17,
    "start_time": "2021-12-04T11:12:38.298Z"
   },
   {
    "duration": 102,
    "start_time": "2021-12-04T11:12:38.318Z"
   },
   {
    "duration": 22,
    "start_time": "2021-12-04T11:12:38.423Z"
   },
   {
    "duration": 185,
    "start_time": "2021-12-04T11:12:38.448Z"
   },
   {
    "duration": 17,
    "start_time": "2021-12-04T11:12:38.635Z"
   },
   {
    "duration": 481,
    "start_time": "2021-12-04T11:12:38.654Z"
   },
   {
    "duration": 37,
    "start_time": "2021-12-04T11:12:53.460Z"
   },
   {
    "duration": 10,
    "start_time": "2021-12-04T13:58:56.350Z"
   },
   {
    "duration": 10,
    "start_time": "2021-12-04T13:59:41.651Z"
   },
   {
    "duration": 24,
    "start_time": "2021-12-04T13:59:56.956Z"
   },
   {
    "duration": 19,
    "start_time": "2021-12-04T14:00:02.951Z"
   },
   {
    "duration": 31,
    "start_time": "2021-12-04T14:01:58.474Z"
   },
   {
    "duration": 21,
    "start_time": "2021-12-04T14:02:08.964Z"
   },
   {
    "duration": 943,
    "start_time": "2021-12-04T14:05:49.712Z"
   },
   {
    "duration": 720,
    "start_time": "2021-12-04T14:06:18.703Z"
   },
   {
    "duration": 2037,
    "start_time": "2021-12-04T14:06:34.238Z"
   },
   {
    "duration": 17,
    "start_time": "2021-12-04T14:06:36.277Z"
   },
   {
    "duration": 41,
    "start_time": "2021-12-04T14:06:36.297Z"
   },
   {
    "duration": 13,
    "start_time": "2021-12-04T14:06:36.340Z"
   },
   {
    "duration": 34,
    "start_time": "2021-12-04T14:06:36.383Z"
   },
   {
    "duration": 14,
    "start_time": "2021-12-04T14:06:36.419Z"
   },
   {
    "duration": 63,
    "start_time": "2021-12-04T14:06:36.435Z"
   },
   {
    "duration": 14,
    "start_time": "2021-12-04T14:06:36.501Z"
   },
   {
    "duration": 10,
    "start_time": "2021-12-04T14:06:36.521Z"
   },
   {
    "duration": 58,
    "start_time": "2021-12-04T14:06:36.534Z"
   },
   {
    "duration": 14,
    "start_time": "2021-12-04T14:06:36.594Z"
   },
   {
    "duration": 30,
    "start_time": "2021-12-04T14:06:36.611Z"
   },
   {
    "duration": 60,
    "start_time": "2021-12-04T14:06:36.644Z"
   },
   {
    "duration": 19,
    "start_time": "2021-12-04T14:06:36.707Z"
   },
   {
    "duration": 53,
    "start_time": "2021-12-04T14:06:36.729Z"
   },
   {
    "duration": 11,
    "start_time": "2021-12-04T14:06:36.785Z"
   },
   {
    "duration": 90,
    "start_time": "2021-12-04T14:06:36.799Z"
   },
   {
    "duration": 30,
    "start_time": "2021-12-04T14:06:36.893Z"
   },
   {
    "duration": 218,
    "start_time": "2021-12-04T14:06:36.926Z"
   },
   {
    "duration": 17,
    "start_time": "2021-12-04T14:06:37.146Z"
   },
   {
    "duration": 451,
    "start_time": "2021-12-04T14:06:37.166Z"
   },
   {
    "duration": 30,
    "start_time": "2021-12-04T14:06:37.620Z"
   },
   {
    "duration": 42,
    "start_time": "2021-12-04T14:06:37.652Z"
   },
   {
    "duration": 820,
    "start_time": "2021-12-04T14:06:37.696Z"
   },
   {
    "duration": 28,
    "start_time": "2021-12-04T14:10:04.578Z"
   },
   {
    "duration": 9570,
    "start_time": "2021-12-04T14:10:06.867Z"
   },
   {
    "duration": 9,
    "start_time": "2021-12-04T14:10:17.522Z"
   },
   {
    "duration": 15,
    "start_time": "2021-12-04T14:10:48.749Z"
   },
   {
    "duration": 10,
    "start_time": "2021-12-04T14:10:51.707Z"
   },
   {
    "duration": 8458,
    "start_time": "2021-12-04T16:08:35.060Z"
   },
   {
    "duration": 2049,
    "start_time": "2021-12-04T16:08:57.179Z"
   },
   {
    "duration": 21,
    "start_time": "2021-12-04T16:08:59.231Z"
   },
   {
    "duration": 28,
    "start_time": "2021-12-04T16:08:59.257Z"
   },
   {
    "duration": 19,
    "start_time": "2021-12-04T16:08:59.288Z"
   },
   {
    "duration": 29,
    "start_time": "2021-12-04T16:08:59.311Z"
   },
   {
    "duration": 52,
    "start_time": "2021-12-04T16:08:59.343Z"
   },
   {
    "duration": 24,
    "start_time": "2021-12-04T16:08:59.397Z"
   },
   {
    "duration": 13,
    "start_time": "2021-12-04T16:08:59.424Z"
   },
   {
    "duration": 9,
    "start_time": "2021-12-04T16:08:59.485Z"
   },
   {
    "duration": 21,
    "start_time": "2021-12-04T16:08:59.497Z"
   },
   {
    "duration": 9,
    "start_time": "2021-12-04T16:08:59.521Z"
   },
   {
    "duration": 70,
    "start_time": "2021-12-04T16:08:59.534Z"
   },
   {
    "duration": 24,
    "start_time": "2021-12-04T16:08:59.607Z"
   },
   {
    "duration": 56,
    "start_time": "2021-12-04T16:08:59.634Z"
   },
   {
    "duration": 8,
    "start_time": "2021-12-04T16:08:59.693Z"
   },
   {
    "duration": 15,
    "start_time": "2021-12-04T16:08:59.704Z"
   },
   {
    "duration": 112,
    "start_time": "2021-12-04T16:08:59.722Z"
   },
   {
    "duration": 24,
    "start_time": "2021-12-04T16:08:59.836Z"
   },
   {
    "duration": 165,
    "start_time": "2021-12-04T16:08:59.864Z"
   },
   {
    "duration": 17,
    "start_time": "2021-12-04T16:09:00.031Z"
   },
   {
    "duration": 465,
    "start_time": "2021-12-04T16:09:00.050Z"
   },
   {
    "duration": 30,
    "start_time": "2021-12-04T16:09:00.518Z"
   },
   {
    "duration": 8361,
    "start_time": "2021-12-04T16:09:00.550Z"
   },
   {
    "duration": -964,
    "start_time": "2021-12-04T16:09:09.878Z"
   },
   {
    "duration": -968,
    "start_time": "2021-12-04T16:09:09.883Z"
   },
   {
    "duration": -968,
    "start_time": "2021-12-04T16:09:09.885Z"
   },
   {
    "duration": -970,
    "start_time": "2021-12-04T16:09:09.888Z"
   },
   {
    "duration": -970,
    "start_time": "2021-12-04T16:09:09.890Z"
   },
   {
    "duration": 189,
    "start_time": "2021-12-04T16:09:53.927Z"
   },
   {
    "duration": 34,
    "start_time": "2021-12-04T16:09:57.002Z"
   },
   {
    "duration": 17,
    "start_time": "2021-12-04T16:10:10.441Z"
   },
   {
    "duration": 28,
    "start_time": "2021-12-04T16:11:13.044Z"
   },
   {
    "duration": 17,
    "start_time": "2021-12-04T16:11:15.370Z"
   },
   {
    "duration": 9,
    "start_time": "2021-12-04T16:11:18.486Z"
   },
   {
    "duration": 10,
    "start_time": "2021-12-04T16:11:20.815Z"
   },
   {
    "duration": 40,
    "start_time": "2021-12-04T16:22:35.231Z"
   },
   {
    "duration": 16,
    "start_time": "2021-12-04T16:22:56.649Z"
   },
   {
    "duration": 14,
    "start_time": "2021-12-04T16:23:14.240Z"
   },
   {
    "duration": 5,
    "start_time": "2021-12-04T16:27:03.483Z"
   },
   {
    "duration": 81,
    "start_time": "2021-12-04T16:27:18.358Z"
   },
   {
    "duration": 288,
    "start_time": "2021-12-04T16:28:31.417Z"
   },
   {
    "duration": 2036,
    "start_time": "2021-12-04T16:29:05.857Z"
   },
   {
    "duration": 26,
    "start_time": "2021-12-04T16:29:07.896Z"
   },
   {
    "duration": 64,
    "start_time": "2021-12-04T16:29:07.926Z"
   },
   {
    "duration": 14,
    "start_time": "2021-12-04T16:29:07.994Z"
   },
   {
    "duration": 27,
    "start_time": "2021-12-04T16:29:08.010Z"
   },
   {
    "duration": 45,
    "start_time": "2021-12-04T16:29:08.039Z"
   },
   {
    "duration": 20,
    "start_time": "2021-12-04T16:29:08.086Z"
   },
   {
    "duration": 13,
    "start_time": "2021-12-04T16:29:08.110Z"
   },
   {
    "duration": 13,
    "start_time": "2021-12-04T16:29:08.126Z"
   },
   {
    "duration": 56,
    "start_time": "2021-12-04T16:29:08.142Z"
   },
   {
    "duration": 11,
    "start_time": "2021-12-04T16:29:08.201Z"
   },
   {
    "duration": 71,
    "start_time": "2021-12-04T16:29:08.215Z"
   },
   {
    "duration": 24,
    "start_time": "2021-12-04T16:29:08.288Z"
   },
   {
    "duration": 18,
    "start_time": "2021-12-04T16:29:08.314Z"
   },
   {
    "duration": 7,
    "start_time": "2021-12-04T16:29:08.334Z"
   },
   {
    "duration": 8,
    "start_time": "2021-12-04T16:29:08.383Z"
   },
   {
    "duration": 50,
    "start_time": "2021-12-04T16:29:08.394Z"
   },
   {
    "duration": 47,
    "start_time": "2021-12-04T16:29:08.447Z"
   },
   {
    "duration": 158,
    "start_time": "2021-12-04T16:29:08.497Z"
   },
   {
    "duration": 26,
    "start_time": "2021-12-04T16:29:08.657Z"
   },
   {
    "duration": 526,
    "start_time": "2021-12-04T16:29:08.685Z"
   },
   {
    "duration": 32,
    "start_time": "2021-12-04T16:29:09.213Z"
   },
   {
    "duration": 133,
    "start_time": "2021-12-04T16:29:09.249Z"
   },
   {
    "duration": 12,
    "start_time": "2021-12-04T16:29:09.384Z"
   },
   {
    "duration": 34,
    "start_time": "2021-12-04T16:29:09.400Z"
   },
   {
    "duration": 72,
    "start_time": "2021-12-04T16:29:09.437Z"
   },
   {
    "duration": 14,
    "start_time": "2021-12-04T16:29:09.512Z"
   },
   {
    "duration": 9,
    "start_time": "2021-12-04T16:29:09.529Z"
   },
   {
    "duration": 47,
    "start_time": "2021-12-04T16:29:09.540Z"
   },
   {
    "duration": 33,
    "start_time": "2021-12-04T16:29:09.589Z"
   },
   {
    "duration": 15,
    "start_time": "2021-12-04T16:29:09.625Z"
   },
   {
    "duration": 12,
    "start_time": "2021-12-04T16:29:09.682Z"
   },
   {
    "duration": 6,
    "start_time": "2021-12-04T16:29:09.697Z"
   },
   {
    "duration": 107,
    "start_time": "2021-12-04T16:29:09.706Z"
   },
   {
    "duration": 21,
    "start_time": "2021-12-04T16:29:09.815Z"
   },
   {
    "duration": 60,
    "start_time": "2021-12-04T16:29:59.394Z"
   },
   {
    "duration": 14,
    "start_time": "2021-12-04T16:30:03.460Z"
   },
   {
    "duration": 2056,
    "start_time": "2021-12-04T16:30:15.328Z"
   },
   {
    "duration": 17,
    "start_time": "2021-12-04T16:30:17.387Z"
   },
   {
    "duration": 29,
    "start_time": "2021-12-04T16:30:17.406Z"
   },
   {
    "duration": 54,
    "start_time": "2021-12-04T16:30:17.438Z"
   },
   {
    "duration": 38,
    "start_time": "2021-12-04T16:30:17.495Z"
   },
   {
    "duration": 46,
    "start_time": "2021-12-04T16:30:17.537Z"
   },
   {
    "duration": 23,
    "start_time": "2021-12-04T16:30:17.587Z"
   },
   {
    "duration": 12,
    "start_time": "2021-12-04T16:30:17.614Z"
   },
   {
    "duration": 59,
    "start_time": "2021-12-04T16:30:17.629Z"
   },
   {
    "duration": 24,
    "start_time": "2021-12-04T16:30:17.690Z"
   },
   {
    "duration": 10,
    "start_time": "2021-12-04T16:30:17.716Z"
   },
   {
    "duration": 74,
    "start_time": "2021-12-04T16:30:17.728Z"
   },
   {
    "duration": 23,
    "start_time": "2021-12-04T16:30:17.804Z"
   },
   {
    "duration": 55,
    "start_time": "2021-12-04T16:30:17.829Z"
   },
   {
    "duration": 8,
    "start_time": "2021-12-04T16:30:17.886Z"
   },
   {
    "duration": 10,
    "start_time": "2021-12-04T16:30:17.897Z"
   },
   {
    "duration": 93,
    "start_time": "2021-12-04T16:30:17.910Z"
   },
   {
    "duration": 20,
    "start_time": "2021-12-04T16:30:18.005Z"
   },
   {
    "duration": 170,
    "start_time": "2021-12-04T16:30:18.028Z"
   },
   {
    "duration": 23,
    "start_time": "2021-12-04T16:30:18.201Z"
   },
   {
    "duration": 689,
    "start_time": "2021-12-04T16:30:18.227Z"
   },
   {
    "duration": 62,
    "start_time": "2021-12-04T16:30:18.920Z"
   },
   {
    "duration": 204,
    "start_time": "2021-12-04T16:30:18.989Z"
   },
   {
    "duration": 18,
    "start_time": "2021-12-04T16:30:19.197Z"
   },
   {
    "duration": 26,
    "start_time": "2021-12-04T16:30:19.217Z"
   },
   {
    "duration": 60,
    "start_time": "2021-12-04T16:30:19.246Z"
   },
   {
    "duration": 18,
    "start_time": "2021-12-04T16:30:19.309Z"
   },
   {
    "duration": 7,
    "start_time": "2021-12-04T16:30:19.330Z"
   },
   {
    "duration": 44,
    "start_time": "2021-12-04T16:30:19.340Z"
   },
   {
    "duration": 37,
    "start_time": "2021-12-04T16:30:19.388Z"
   },
   {
    "duration": 61,
    "start_time": "2021-12-04T16:30:19.428Z"
   },
   {
    "duration": 12,
    "start_time": "2021-12-04T16:30:19.491Z"
   },
   {
    "duration": 11,
    "start_time": "2021-12-04T16:30:19.505Z"
   },
   {
    "duration": 114,
    "start_time": "2021-12-04T16:30:19.518Z"
   },
   {
    "duration": 20,
    "start_time": "2021-12-04T16:30:19.634Z"
   },
   {
    "duration": 59,
    "start_time": "2021-12-04T16:32:05.156Z"
   },
   {
    "duration": 22,
    "start_time": "2021-12-04T16:32:29.585Z"
   },
   {
    "duration": 1045,
    "start_time": "2021-12-04T16:35:09.092Z"
   },
   {
    "duration": 696,
    "start_time": "2021-12-04T16:35:29.020Z"
   },
   {
    "duration": 2201,
    "start_time": "2021-12-04T16:35:42.469Z"
   },
   {
    "duration": 25,
    "start_time": "2021-12-04T16:35:44.674Z"
   },
   {
    "duration": 30,
    "start_time": "2021-12-04T16:35:44.702Z"
   },
   {
    "duration": 13,
    "start_time": "2021-12-04T16:35:44.735Z"
   },
   {
    "duration": 56,
    "start_time": "2021-12-04T16:35:44.750Z"
   },
   {
    "duration": 11,
    "start_time": "2021-12-04T16:35:44.809Z"
   },
   {
    "duration": 63,
    "start_time": "2021-12-04T16:35:44.822Z"
   },
   {
    "duration": 11,
    "start_time": "2021-12-04T16:35:44.889Z"
   },
   {
    "duration": 8,
    "start_time": "2021-12-04T16:35:44.904Z"
   },
   {
    "duration": 69,
    "start_time": "2021-12-04T16:35:44.915Z"
   },
   {
    "duration": 12,
    "start_time": "2021-12-04T16:35:44.986Z"
   },
   {
    "duration": 26,
    "start_time": "2021-12-04T16:35:45.001Z"
   },
   {
    "duration": 67,
    "start_time": "2021-12-04T16:35:45.029Z"
   },
   {
    "duration": 20,
    "start_time": "2021-12-04T16:35:45.098Z"
   },
   {
    "duration": 8,
    "start_time": "2021-12-04T16:35:45.120Z"
   },
   {
    "duration": 52,
    "start_time": "2021-12-04T16:35:45.131Z"
   },
   {
    "duration": 43,
    "start_time": "2021-12-04T16:35:45.186Z"
   },
   {
    "duration": 56,
    "start_time": "2021-12-04T16:35:45.232Z"
   },
   {
    "duration": 167,
    "start_time": "2021-12-04T16:35:45.290Z"
   },
   {
    "duration": 31,
    "start_time": "2021-12-04T16:35:45.459Z"
   },
   {
    "duration": 443,
    "start_time": "2021-12-04T16:35:45.502Z"
   },
   {
    "duration": 46,
    "start_time": "2021-12-04T16:35:45.947Z"
   },
   {
    "duration": 121,
    "start_time": "2021-12-04T16:35:45.997Z"
   },
   {
    "duration": 13,
    "start_time": "2021-12-04T16:35:46.121Z"
   },
   {
    "duration": 47,
    "start_time": "2021-12-04T16:35:46.137Z"
   },
   {
    "duration": 25,
    "start_time": "2021-12-04T16:35:46.186Z"
   },
   {
    "duration": 14,
    "start_time": "2021-12-04T16:35:46.213Z"
   },
   {
    "duration": 53,
    "start_time": "2021-12-04T16:35:46.230Z"
   },
   {
    "duration": 11,
    "start_time": "2021-12-04T16:35:46.285Z"
   },
   {
    "duration": 37,
    "start_time": "2021-12-04T16:35:46.298Z"
   },
   {
    "duration": 49,
    "start_time": "2021-12-04T16:35:46.337Z"
   },
   {
    "duration": 12,
    "start_time": "2021-12-04T16:35:46.388Z"
   },
   {
    "duration": 7,
    "start_time": "2021-12-04T16:35:46.402Z"
   },
   {
    "duration": 119,
    "start_time": "2021-12-04T16:35:46.411Z"
   },
   {
    "duration": 21,
    "start_time": "2021-12-04T16:35:46.533Z"
   },
   {
    "duration": 737,
    "start_time": "2021-12-04T16:35:46.557Z"
   },
   {
    "duration": -1006,
    "start_time": "2021-12-04T16:35:48.302Z"
   },
   {
    "duration": 8198,
    "start_time": "2021-12-04T16:38:41.367Z"
   },
   {
    "duration": 303,
    "start_time": "2021-12-04T16:41:14.034Z"
   },
   {
    "duration": 28,
    "start_time": "2021-12-04T16:41:32.129Z"
   },
   {
    "duration": 688,
    "start_time": "2021-12-04T16:42:44.285Z"
   },
   {
    "duration": 20,
    "start_time": "2021-12-04T16:42:55.385Z"
   },
   {
    "duration": 45,
    "start_time": "2021-12-04T16:43:38.411Z"
   },
   {
    "duration": 23,
    "start_time": "2021-12-04T16:43:40.387Z"
   },
   {
    "duration": 24,
    "start_time": "2021-12-04T16:52:48.472Z"
   },
   {
    "duration": 11,
    "start_time": "2021-12-04T16:52:50.466Z"
   },
   {
    "duration": 612,
    "start_time": "2021-12-04T16:54:06.671Z"
   },
   {
    "duration": 21,
    "start_time": "2021-12-04T16:54:18.561Z"
   },
   {
    "duration": 75,
    "start_time": "2021-12-04T16:56:32.661Z"
   },
   {
    "duration": 24,
    "start_time": "2021-12-04T16:56:34.798Z"
   },
   {
    "duration": 469,
    "start_time": "2021-12-05T07:11:33.282Z"
   },
   {
    "duration": 2334,
    "start_time": "2021-12-05T07:11:44.187Z"
   },
   {
    "duration": 17,
    "start_time": "2021-12-05T07:11:46.524Z"
   },
   {
    "duration": 30,
    "start_time": "2021-12-05T07:11:46.544Z"
   },
   {
    "duration": 13,
    "start_time": "2021-12-05T07:11:46.577Z"
   },
   {
    "duration": 52,
    "start_time": "2021-12-05T07:11:46.592Z"
   },
   {
    "duration": 12,
    "start_time": "2021-12-05T07:11:46.646Z"
   },
   {
    "duration": 23,
    "start_time": "2021-12-05T07:11:46.660Z"
   },
   {
    "duration": 40,
    "start_time": "2021-12-05T07:11:46.689Z"
   },
   {
    "duration": 10,
    "start_time": "2021-12-05T07:11:46.734Z"
   },
   {
    "duration": 20,
    "start_time": "2021-12-05T07:11:46.747Z"
   },
   {
    "duration": 9,
    "start_time": "2021-12-05T07:11:46.770Z"
   },
   {
    "duration": 68,
    "start_time": "2021-12-05T07:11:46.781Z"
   },
   {
    "duration": 22,
    "start_time": "2021-12-05T07:11:46.851Z"
   },
   {
    "duration": 25,
    "start_time": "2021-12-05T07:11:46.875Z"
   },
   {
    "duration": 32,
    "start_time": "2021-12-05T07:11:46.902Z"
   },
   {
    "duration": 13,
    "start_time": "2021-12-05T07:11:46.936Z"
   },
   {
    "duration": 44,
    "start_time": "2021-12-05T07:11:46.951Z"
   },
   {
    "duration": 44,
    "start_time": "2021-12-05T07:11:46.997Z"
   },
   {
    "duration": 154,
    "start_time": "2021-12-05T07:11:47.043Z"
   },
   {
    "duration": 17,
    "start_time": "2021-12-05T07:11:47.199Z"
   },
   {
    "duration": 427,
    "start_time": "2021-12-05T07:11:47.229Z"
   },
   {
    "duration": 30,
    "start_time": "2021-12-05T07:11:47.658Z"
   },
   {
    "duration": 121,
    "start_time": "2021-12-05T07:11:47.693Z"
   },
   {
    "duration": 17,
    "start_time": "2021-12-05T07:11:47.817Z"
   },
   {
    "duration": 28,
    "start_time": "2021-12-05T07:11:47.837Z"
   },
   {
    "duration": 27,
    "start_time": "2021-12-05T07:11:47.867Z"
   },
   {
    "duration": 39,
    "start_time": "2021-12-05T07:11:47.896Z"
   },
   {
    "duration": 6,
    "start_time": "2021-12-05T07:11:47.938Z"
   },
   {
    "duration": 12,
    "start_time": "2021-12-05T07:11:47.946Z"
   },
   {
    "duration": 35,
    "start_time": "2021-12-05T07:11:47.960Z"
   },
   {
    "duration": 80,
    "start_time": "2021-12-05T07:11:47.998Z"
   },
   {
    "duration": 19,
    "start_time": "2021-12-05T07:11:48.081Z"
   },
   {
    "duration": 38,
    "start_time": "2021-12-05T07:11:48.102Z"
   },
   {
    "duration": 5,
    "start_time": "2021-12-05T07:11:48.142Z"
   },
   {
    "duration": 94,
    "start_time": "2021-12-05T07:11:48.149Z"
   },
   {
    "duration": 19,
    "start_time": "2021-12-05T07:11:48.245Z"
   },
   {
    "duration": 30,
    "start_time": "2021-12-05T07:11:48.266Z"
   },
   {
    "duration": 79,
    "start_time": "2021-12-05T07:11:48.298Z"
   },
   {
    "duration": 21,
    "start_time": "2021-12-05T07:11:48.379Z"
   },
   {
    "duration": 43,
    "start_time": "2021-12-05T07:11:48.403Z"
   },
   {
    "duration": 11,
    "start_time": "2021-12-05T07:11:48.448Z"
   },
   {
    "duration": 70,
    "start_time": "2021-12-05T07:11:48.462Z"
   },
   {
    "duration": 19,
    "start_time": "2021-12-05T07:11:48.534Z"
   },
   {
    "duration": 46,
    "start_time": "2021-12-05T07:13:38.665Z"
   },
   {
    "duration": 21,
    "start_time": "2021-12-05T09:33:09.550Z"
   },
   {
    "duration": 3,
    "start_time": "2021-12-05T09:38:16.076Z"
   },
   {
    "duration": 32,
    "start_time": "2021-12-05T09:38:18.393Z"
   },
   {
    "duration": 12,
    "start_time": "2021-12-05T09:38:32.281Z"
   },
   {
    "duration": 2025,
    "start_time": "2021-12-05T09:38:39.889Z"
   },
   {
    "duration": 21,
    "start_time": "2021-12-05T09:38:41.918Z"
   },
   {
    "duration": 31,
    "start_time": "2021-12-05T09:38:41.943Z"
   },
   {
    "duration": 14,
    "start_time": "2021-12-05T09:38:41.978Z"
   },
   {
    "duration": 30,
    "start_time": "2021-12-05T09:38:42.029Z"
   },
   {
    "duration": 22,
    "start_time": "2021-12-05T09:38:42.062Z"
   },
   {
    "duration": 61,
    "start_time": "2021-12-05T09:38:42.087Z"
   },
   {
    "duration": 12,
    "start_time": "2021-12-05T09:38:42.154Z"
   },
   {
    "duration": 11,
    "start_time": "2021-12-05T09:38:42.171Z"
   },
   {
    "duration": 64,
    "start_time": "2021-12-05T09:38:42.185Z"
   },
   {
    "duration": 14,
    "start_time": "2021-12-05T09:38:42.253Z"
   },
   {
    "duration": 78,
    "start_time": "2021-12-05T09:38:42.270Z"
   },
   {
    "duration": 25,
    "start_time": "2021-12-05T09:38:42.351Z"
   },
   {
    "duration": 52,
    "start_time": "2021-12-05T09:38:42.380Z"
   },
   {
    "duration": 9,
    "start_time": "2021-12-05T09:38:42.436Z"
   },
   {
    "duration": 8,
    "start_time": "2021-12-05T09:38:42.447Z"
   },
   {
    "duration": 89,
    "start_time": "2021-12-05T09:38:42.457Z"
   },
   {
    "duration": 18,
    "start_time": "2021-12-05T09:38:42.549Z"
   },
   {
    "duration": 163,
    "start_time": "2021-12-05T09:38:42.570Z"
   },
   {
    "duration": 16,
    "start_time": "2021-12-05T09:38:42.735Z"
   },
   {
    "duration": 568,
    "start_time": "2021-12-05T09:38:42.754Z"
   },
   {
    "duration": 31,
    "start_time": "2021-12-05T09:38:43.325Z"
   },
   {
    "duration": 129,
    "start_time": "2021-12-05T09:38:43.361Z"
   },
   {
    "duration": 12,
    "start_time": "2021-12-05T09:38:43.493Z"
   },
   {
    "duration": 38,
    "start_time": "2021-12-05T09:38:43.508Z"
   },
   {
    "duration": 26,
    "start_time": "2021-12-05T09:38:43.549Z"
   },
   {
    "duration": 15,
    "start_time": "2021-12-05T09:38:43.578Z"
   },
   {
    "duration": 7,
    "start_time": "2021-12-05T09:38:43.630Z"
   },
   {
    "duration": 16,
    "start_time": "2021-12-05T09:38:43.639Z"
   },
   {
    "duration": 34,
    "start_time": "2021-12-05T09:38:43.658Z"
   },
   {
    "duration": 43,
    "start_time": "2021-12-05T09:38:43.695Z"
   },
   {
    "duration": 3,
    "start_time": "2021-12-05T09:38:43.741Z"
   },
   {
    "duration": 87,
    "start_time": "2021-12-05T09:38:43.746Z"
   },
   {
    "duration": 6,
    "start_time": "2021-12-05T09:38:43.836Z"
   },
   {
    "duration": 28,
    "start_time": "2021-12-05T09:38:43.845Z"
   },
   {
    "duration": 22,
    "start_time": "2021-12-05T09:38:43.875Z"
   },
   {
    "duration": 31,
    "start_time": "2021-12-05T09:38:43.931Z"
   },
   {
    "duration": 94,
    "start_time": "2021-12-05T09:38:43.965Z"
   },
   {
    "duration": 22,
    "start_time": "2021-12-05T09:38:44.061Z"
   },
   {
    "duration": 50,
    "start_time": "2021-12-05T09:38:44.086Z"
   },
   {
    "duration": 12,
    "start_time": "2021-12-05T09:38:44.139Z"
   },
   {
    "duration": 52,
    "start_time": "2021-12-05T09:38:44.153Z"
   },
   {
    "duration": 20,
    "start_time": "2021-12-05T09:38:44.230Z"
   },
   {
    "duration": 22,
    "start_time": "2021-12-05T09:39:13.327Z"
   },
   {
    "duration": 959,
    "start_time": "2021-12-05T09:41:21.273Z"
   },
   {
    "duration": 54,
    "start_time": "2021-12-05T09:44:15.377Z"
   },
   {
    "duration": 16,
    "start_time": "2021-12-05T09:44:20.903Z"
   },
   {
    "duration": 11,
    "start_time": "2021-12-05T09:46:29.476Z"
   },
   {
    "duration": 13,
    "start_time": "2021-12-05T09:46:31.688Z"
   },
   {
    "duration": 427,
    "start_time": "2021-12-05T09:46:54.013Z"
   },
   {
    "duration": 7671,
    "start_time": "2021-12-05T10:02:36.404Z"
   },
   {
    "duration": 2189,
    "start_time": "2021-12-05T10:03:00.066Z"
   },
   {
    "duration": 22,
    "start_time": "2021-12-05T10:03:02.258Z"
   },
   {
    "duration": 45,
    "start_time": "2021-12-05T10:03:02.284Z"
   },
   {
    "duration": 13,
    "start_time": "2021-12-05T10:03:02.332Z"
   },
   {
    "duration": 25,
    "start_time": "2021-12-05T10:03:02.347Z"
   },
   {
    "duration": 11,
    "start_time": "2021-12-05T10:03:02.375Z"
   },
   {
    "duration": 19,
    "start_time": "2021-12-05T10:03:02.429Z"
   },
   {
    "duration": 12,
    "start_time": "2021-12-05T10:03:02.453Z"
   },
   {
    "duration": 13,
    "start_time": "2021-12-05T10:03:02.469Z"
   },
   {
    "duration": 62,
    "start_time": "2021-12-05T10:03:02.484Z"
   },
   {
    "duration": 12,
    "start_time": "2021-12-05T10:03:02.549Z"
   },
   {
    "duration": 75,
    "start_time": "2021-12-05T10:03:02.564Z"
   },
   {
    "duration": 23,
    "start_time": "2021-12-05T10:03:02.641Z"
   },
   {
    "duration": 21,
    "start_time": "2021-12-05T10:03:02.666Z"
   },
   {
    "duration": 9,
    "start_time": "2021-12-05T10:03:02.689Z"
   },
   {
    "duration": 9,
    "start_time": "2021-12-05T10:03:02.730Z"
   },
   {
    "duration": 47,
    "start_time": "2021-12-05T10:03:02.742Z"
   },
   {
    "duration": 52,
    "start_time": "2021-12-05T10:03:02.791Z"
   },
   {
    "duration": 165,
    "start_time": "2021-12-05T10:03:02.846Z"
   },
   {
    "duration": 23,
    "start_time": "2021-12-05T10:03:03.014Z"
   },
   {
    "duration": 453,
    "start_time": "2021-12-05T10:03:03.040Z"
   },
   {
    "duration": 47,
    "start_time": "2021-12-05T10:03:03.496Z"
   },
   {
    "duration": 118,
    "start_time": "2021-12-05T10:03:03.550Z"
   },
   {
    "duration": 11,
    "start_time": "2021-12-05T10:03:03.671Z"
   },
   {
    "duration": 46,
    "start_time": "2021-12-05T10:03:03.684Z"
   },
   {
    "duration": 27,
    "start_time": "2021-12-05T10:03:03.732Z"
   },
   {
    "duration": 15,
    "start_time": "2021-12-05T10:03:03.761Z"
   },
   {
    "duration": 7,
    "start_time": "2021-12-05T10:03:03.779Z"
   },
   {
    "duration": 47,
    "start_time": "2021-12-05T10:03:03.788Z"
   },
   {
    "duration": 34,
    "start_time": "2021-12-05T10:03:03.837Z"
   },
   {
    "duration": 56,
    "start_time": "2021-12-05T10:03:03.873Z"
   },
   {
    "duration": 4,
    "start_time": "2021-12-05T10:03:03.932Z"
   },
   {
    "duration": 58,
    "start_time": "2021-12-05T10:03:03.939Z"
   },
   {
    "duration": 46,
    "start_time": "2021-12-05T10:03:03.999Z"
   },
   {
    "duration": 11148,
    "start_time": "2021-12-05T10:03:04.048Z"
   },
   {
    "duration": -766,
    "start_time": "2021-12-05T10:03:15.965Z"
   },
   {
    "duration": -768,
    "start_time": "2021-12-05T10:03:15.968Z"
   },
   {
    "duration": -772,
    "start_time": "2021-12-05T10:03:15.974Z"
   },
   {
    "duration": -773,
    "start_time": "2021-12-05T10:03:15.977Z"
   },
   {
    "duration": -775,
    "start_time": "2021-12-05T10:03:15.980Z"
   },
   {
    "duration": -776,
    "start_time": "2021-12-05T10:03:15.983Z"
   },
   {
    "duration": -776,
    "start_time": "2021-12-05T10:03:15.986Z"
   },
   {
    "duration": -777,
    "start_time": "2021-12-05T10:03:15.988Z"
   },
   {
    "duration": -778,
    "start_time": "2021-12-05T10:03:15.991Z"
   },
   {
    "duration": 25,
    "start_time": "2021-12-05T10:04:09.829Z"
   },
   {
    "duration": 12,
    "start_time": "2021-12-05T10:04:29.080Z"
   },
   {
    "duration": 38,
    "start_time": "2021-12-05T10:04:31.567Z"
   },
   {
    "duration": 17,
    "start_time": "2021-12-05T10:04:33.738Z"
   },
   {
    "duration": 21,
    "start_time": "2021-12-05T10:13:38.653Z"
   },
   {
    "duration": 10,
    "start_time": "2021-12-05T10:13:40.784Z"
   },
   {
    "duration": 35,
    "start_time": "2021-12-05T10:17:59.195Z"
   },
   {
    "duration": 16,
    "start_time": "2021-12-05T10:18:03.696Z"
   },
   {
    "duration": 13,
    "start_time": "2021-12-05T10:28:45.071Z"
   },
   {
    "duration": 16,
    "start_time": "2021-12-05T10:28:47.164Z"
   },
   {
    "duration": 12,
    "start_time": "2021-12-05T10:28:59.574Z"
   },
   {
    "duration": 18,
    "start_time": "2021-12-05T10:29:04.870Z"
   },
   {
    "duration": 12,
    "start_time": "2021-12-05T10:29:20.880Z"
   },
   {
    "duration": 19,
    "start_time": "2021-12-05T10:29:22.677Z"
   },
   {
    "duration": 14,
    "start_time": "2021-12-05T10:29:37.300Z"
   },
   {
    "duration": 16,
    "start_time": "2021-12-05T10:29:39.197Z"
   },
   {
    "duration": 2159,
    "start_time": "2021-12-05T10:29:50.418Z"
   },
   {
    "duration": 25,
    "start_time": "2021-12-05T10:29:52.580Z"
   },
   {
    "duration": 29,
    "start_time": "2021-12-05T10:29:52.609Z"
   },
   {
    "duration": 21,
    "start_time": "2021-12-05T10:29:52.642Z"
   },
   {
    "duration": 34,
    "start_time": "2021-12-05T10:29:52.665Z"
   },
   {
    "duration": 30,
    "start_time": "2021-12-05T10:29:52.701Z"
   },
   {
    "duration": 24,
    "start_time": "2021-12-05T10:29:52.734Z"
   },
   {
    "duration": 11,
    "start_time": "2021-12-05T10:29:52.762Z"
   },
   {
    "duration": 52,
    "start_time": "2021-12-05T10:29:52.777Z"
   },
   {
    "duration": 18,
    "start_time": "2021-12-05T10:29:52.832Z"
   },
   {
    "duration": 16,
    "start_time": "2021-12-05T10:29:52.852Z"
   },
   {
    "duration": 59,
    "start_time": "2021-12-05T10:29:52.871Z"
   },
   {
    "duration": 22,
    "start_time": "2021-12-05T10:29:52.933Z"
   },
   {
    "duration": 19,
    "start_time": "2021-12-05T10:29:52.958Z"
   },
   {
    "duration": 51,
    "start_time": "2021-12-05T10:29:52.979Z"
   },
   {
    "duration": 11,
    "start_time": "2021-12-05T10:29:53.034Z"
   },
   {
    "duration": 98,
    "start_time": "2021-12-05T10:29:53.048Z"
   },
   {
    "duration": 25,
    "start_time": "2021-12-05T10:29:53.149Z"
   },
   {
    "duration": 173,
    "start_time": "2021-12-05T10:29:53.178Z"
   },
   {
    "duration": 21,
    "start_time": "2021-12-05T10:29:53.354Z"
   },
   {
    "duration": 557,
    "start_time": "2021-12-05T10:29:53.378Z"
   },
   {
    "duration": 36,
    "start_time": "2021-12-05T10:29:53.938Z"
   },
   {
    "duration": 142,
    "start_time": "2021-12-05T10:29:53.981Z"
   },
   {
    "duration": 14,
    "start_time": "2021-12-05T10:29:54.128Z"
   },
   {
    "duration": 26,
    "start_time": "2021-12-05T10:29:54.146Z"
   },
   {
    "duration": 73,
    "start_time": "2021-12-05T10:29:54.175Z"
   },
   {
    "duration": 18,
    "start_time": "2021-12-05T10:29:54.251Z"
   },
   {
    "duration": 9,
    "start_time": "2021-12-05T10:29:54.272Z"
   },
   {
    "duration": 53,
    "start_time": "2021-12-05T10:29:54.284Z"
   },
   {
    "duration": 37,
    "start_time": "2021-12-05T10:29:54.340Z"
   },
   {
    "duration": 50,
    "start_time": "2021-12-05T10:29:54.380Z"
   },
   {
    "duration": 59,
    "start_time": "2021-12-05T10:29:54.432Z"
   },
   {
    "duration": 42,
    "start_time": "2021-12-05T10:29:54.494Z"
   },
   {
    "duration": 26,
    "start_time": "2021-12-05T10:29:54.539Z"
   },
   {
    "duration": 12,
    "start_time": "2021-12-05T10:29:54.568Z"
   },
   {
    "duration": 70,
    "start_time": "2021-12-05T10:29:54.583Z"
   },
   {
    "duration": 17,
    "start_time": "2021-12-05T10:29:54.656Z"
   },
   {
    "duration": 55,
    "start_time": "2021-12-05T10:29:54.676Z"
   },
   {
    "duration": 11,
    "start_time": "2021-12-05T10:29:54.733Z"
   },
   {
    "duration": 35,
    "start_time": "2021-12-05T10:29:54.747Z"
   },
   {
    "duration": 46,
    "start_time": "2021-12-05T10:29:54.785Z"
   },
   {
    "duration": 35,
    "start_time": "2021-12-05T10:31:56.404Z"
   },
   {
    "duration": 18,
    "start_time": "2021-12-05T10:31:59.768Z"
   },
   {
    "duration": 34,
    "start_time": "2021-12-05T10:32:04.672Z"
   },
   {
    "duration": 18,
    "start_time": "2021-12-05T10:32:07.801Z"
   },
   {
    "duration": 65,
    "start_time": "2021-12-05T10:35:56.285Z"
   },
   {
    "duration": 50,
    "start_time": "2021-12-05T11:30:42.646Z"
   },
   {
    "duration": 41,
    "start_time": "2021-12-05T11:30:52.041Z"
   },
   {
    "duration": 32,
    "start_time": "2021-12-05T11:50:13.710Z"
   },
   {
    "duration": 36,
    "start_time": "2021-12-05T11:50:28.350Z"
   },
   {
    "duration": 11,
    "start_time": "2021-12-05T11:51:00.666Z"
   },
   {
    "duration": 31,
    "start_time": "2021-12-05T11:51:17.520Z"
   },
   {
    "duration": 33,
    "start_time": "2021-12-05T11:51:29.799Z"
   },
   {
    "duration": 31,
    "start_time": "2021-12-05T11:51:43.066Z"
   },
   {
    "duration": 23,
    "start_time": "2021-12-05T11:51:50.902Z"
   },
   {
    "duration": 12,
    "start_time": "2021-12-05T11:52:02.453Z"
   },
   {
    "duration": 11,
    "start_time": "2021-12-05T11:52:04.822Z"
   },
   {
    "duration": 49,
    "start_time": "2021-12-05T11:52:23.568Z"
   },
   {
    "duration": 34,
    "start_time": "2021-12-05T11:52:35.652Z"
   },
   {
    "duration": 30,
    "start_time": "2021-12-05T11:54:28.498Z"
   },
   {
    "duration": 33,
    "start_time": "2021-12-05T11:54:31.303Z"
   },
   {
    "duration": 21,
    "start_time": "2021-12-05T11:54:45.746Z"
   },
   {
    "duration": 31,
    "start_time": "2021-12-05T11:54:47.920Z"
   },
   {
    "duration": 22,
    "start_time": "2021-12-05T11:55:45.412Z"
   },
   {
    "duration": 31,
    "start_time": "2021-12-05T11:55:47.546Z"
   },
   {
    "duration": 42,
    "start_time": "2021-12-05T11:56:05.107Z"
   },
   {
    "duration": 12,
    "start_time": "2021-12-05T11:57:15.181Z"
   },
   {
    "duration": 4,
    "start_time": "2021-12-05T11:57:24.966Z"
   },
   {
    "duration": 4,
    "start_time": "2021-12-05T11:57:26.742Z"
   },
   {
    "duration": 14,
    "start_time": "2021-12-05T11:57:30.708Z"
   },
   {
    "duration": 41,
    "start_time": "2021-12-05T11:57:32.646Z"
   },
   {
    "duration": 10,
    "start_time": "2021-12-05T12:14:05.289Z"
   },
   {
    "duration": 121,
    "start_time": "2021-12-05T12:17:54.730Z"
   },
   {
    "duration": 24,
    "start_time": "2021-12-05T12:18:04.102Z"
   },
   {
    "duration": 51,
    "start_time": "2021-12-05T12:19:48.923Z"
   },
   {
    "duration": 2181,
    "start_time": "2021-12-05T12:22:17.322Z"
   },
   {
    "duration": 17,
    "start_time": "2021-12-05T12:22:19.506Z"
   },
   {
    "duration": 43,
    "start_time": "2021-12-05T12:22:19.526Z"
   },
   {
    "duration": 13,
    "start_time": "2021-12-05T12:22:19.572Z"
   },
   {
    "duration": 54,
    "start_time": "2021-12-05T12:22:19.588Z"
   },
   {
    "duration": 15,
    "start_time": "2021-12-05T12:22:19.646Z"
   },
   {
    "duration": 22,
    "start_time": "2021-12-05T12:22:19.663Z"
   },
   {
    "duration": 45,
    "start_time": "2021-12-05T12:22:19.688Z"
   },
   {
    "duration": 11,
    "start_time": "2021-12-05T12:22:19.738Z"
   },
   {
    "duration": 19,
    "start_time": "2021-12-05T12:22:19.754Z"
   },
   {
    "duration": 63,
    "start_time": "2021-12-05T12:22:19.775Z"
   },
   {
    "duration": 34,
    "start_time": "2021-12-05T12:22:19.841Z"
   },
   {
    "duration": 60,
    "start_time": "2021-12-05T12:22:19.877Z"
   },
   {
    "duration": 27,
    "start_time": "2021-12-05T12:22:19.940Z"
   },
   {
    "duration": 9,
    "start_time": "2021-12-05T12:22:19.970Z"
   },
   {
    "duration": 54,
    "start_time": "2021-12-05T12:22:19.982Z"
   },
   {
    "duration": 48,
    "start_time": "2021-12-05T12:22:20.039Z"
   },
   {
    "duration": 53,
    "start_time": "2021-12-05T12:22:20.090Z"
   },
   {
    "duration": 170,
    "start_time": "2021-12-05T12:22:20.146Z"
   },
   {
    "duration": 26,
    "start_time": "2021-12-05T12:22:20.318Z"
   },
   {
    "duration": 513,
    "start_time": "2021-12-05T12:22:20.347Z"
   },
   {
    "duration": 43,
    "start_time": "2021-12-05T12:22:20.863Z"
   },
   {
    "duration": 156,
    "start_time": "2021-12-05T12:22:20.909Z"
   },
   {
    "duration": 12,
    "start_time": "2021-12-05T12:22:21.068Z"
   },
   {
    "duration": 46,
    "start_time": "2021-12-05T12:22:21.083Z"
   },
   {
    "duration": 28,
    "start_time": "2021-12-05T12:22:21.132Z"
   },
   {
    "duration": 16,
    "start_time": "2021-12-05T12:22:21.166Z"
   },
   {
    "duration": 51,
    "start_time": "2021-12-05T12:22:21.186Z"
   },
   {
    "duration": 15,
    "start_time": "2021-12-05T12:22:21.240Z"
   },
   {
    "duration": 46,
    "start_time": "2021-12-05T12:22:21.258Z"
   },
   {
    "duration": 43,
    "start_time": "2021-12-05T12:22:21.306Z"
   },
   {
    "duration": 85,
    "start_time": "2021-12-05T12:22:21.352Z"
   },
   {
    "duration": 23,
    "start_time": "2021-12-05T12:22:21.440Z"
   },
   {
    "duration": 24,
    "start_time": "2021-12-05T12:22:21.466Z"
   },
   {
    "duration": 46,
    "start_time": "2021-12-05T12:22:21.493Z"
   },
   {
    "duration": 42,
    "start_time": "2021-12-05T12:22:21.542Z"
   },
   {
    "duration": 53,
    "start_time": "2021-12-05T12:22:21.586Z"
   },
   {
    "duration": 29,
    "start_time": "2021-12-05T12:22:21.642Z"
   },
   {
    "duration": 11,
    "start_time": "2021-12-05T12:22:21.673Z"
   },
   {
    "duration": 78,
    "start_time": "2021-12-05T12:22:21.686Z"
   },
   {
    "duration": 17,
    "start_time": "2021-12-05T12:22:21.766Z"
   },
   {
    "duration": 108,
    "start_time": "2021-12-05T12:22:21.785Z"
   },
   {
    "duration": 16,
    "start_time": "2021-12-05T12:22:21.895Z"
   },
   {
    "duration": 45,
    "start_time": "2021-12-05T12:22:21.913Z"
   },
   {
    "duration": 74,
    "start_time": "2021-12-05T12:22:21.961Z"
   },
   {
    "duration": 4,
    "start_time": "2021-12-05T12:22:22.038Z"
   },
   {
    "duration": 9,
    "start_time": "2021-12-05T12:22:22.045Z"
   },
   {
    "duration": 32,
    "start_time": "2021-12-05T12:23:22.600Z"
   },
   {
    "duration": 38,
    "start_time": "2021-12-05T12:23:24.536Z"
   },
   {
    "duration": 24,
    "start_time": "2021-12-05T12:23:34.147Z"
   },
   {
    "duration": 58,
    "start_time": "2021-12-05T12:23:36.083Z"
   },
   {
    "duration": 1575,
    "start_time": "2021-12-07T10:38:42.701Z"
   },
   {
    "duration": 13,
    "start_time": "2021-12-07T10:38:44.278Z"
   },
   {
    "duration": 23,
    "start_time": "2021-12-07T10:38:44.293Z"
   },
   {
    "duration": 10,
    "start_time": "2021-12-07T10:38:44.318Z"
   },
   {
    "duration": 18,
    "start_time": "2021-12-07T10:38:44.330Z"
   },
   {
    "duration": 7,
    "start_time": "2021-12-07T10:38:44.350Z"
   },
   {
    "duration": 16,
    "start_time": "2021-12-07T10:38:44.360Z"
   },
   {
    "duration": 9,
    "start_time": "2021-12-07T10:38:44.379Z"
   },
   {
    "duration": 7,
    "start_time": "2021-12-07T10:38:44.391Z"
   },
   {
    "duration": 50,
    "start_time": "2021-12-07T10:38:44.401Z"
   },
   {
    "duration": 10,
    "start_time": "2021-12-07T10:38:44.453Z"
   },
   {
    "duration": 30,
    "start_time": "2021-12-07T10:38:44.465Z"
   },
   {
    "duration": 49,
    "start_time": "2021-12-07T10:38:44.497Z"
   },
   {
    "duration": 21,
    "start_time": "2021-12-07T10:38:44.548Z"
   },
   {
    "duration": 6,
    "start_time": "2021-12-07T10:38:44.571Z"
   },
   {
    "duration": 7,
    "start_time": "2021-12-07T10:38:44.579Z"
   },
   {
    "duration": 72,
    "start_time": "2021-12-07T10:38:44.588Z"
   },
   {
    "duration": 15,
    "start_time": "2021-12-07T10:38:44.661Z"
   },
   {
    "duration": 111,
    "start_time": "2021-12-07T10:38:44.678Z"
   },
   {
    "duration": 13,
    "start_time": "2021-12-07T10:38:44.790Z"
   },
   {
    "duration": 287,
    "start_time": "2021-12-07T10:38:44.804Z"
   },
   {
    "duration": 22,
    "start_time": "2021-12-07T10:38:45.093Z"
   },
   {
    "duration": 83,
    "start_time": "2021-12-07T10:38:45.119Z"
   },
   {
    "duration": 9,
    "start_time": "2021-12-07T10:38:45.204Z"
   },
   {
    "duration": 35,
    "start_time": "2021-12-07T10:38:45.215Z"
   },
   {
    "duration": 20,
    "start_time": "2021-12-07T10:38:45.252Z"
   },
   {
    "duration": 12,
    "start_time": "2021-12-07T10:38:45.274Z"
   },
   {
    "duration": 10,
    "start_time": "2021-12-07T10:38:45.288Z"
   },
   {
    "duration": 13,
    "start_time": "2021-12-07T10:38:45.300Z"
   },
   {
    "duration": 50,
    "start_time": "2021-12-07T10:38:45.315Z"
   },
   {
    "duration": 11,
    "start_time": "2021-12-07T10:38:45.367Z"
   },
   {
    "duration": 50,
    "start_time": "2021-12-07T10:38:45.380Z"
   },
   {
    "duration": 15,
    "start_time": "2021-12-07T10:38:45.445Z"
   },
   {
    "duration": 21,
    "start_time": "2021-12-07T10:38:45.462Z"
   },
   {
    "duration": 8,
    "start_time": "2021-12-07T10:38:45.485Z"
   },
   {
    "duration": 61,
    "start_time": "2021-12-07T10:38:45.494Z"
   },
   {
    "duration": 13,
    "start_time": "2021-12-07T10:38:45.557Z"
   },
   {
    "duration": 33,
    "start_time": "2021-12-07T10:38:45.572Z"
   },
   {
    "duration": 22,
    "start_time": "2021-12-07T10:38:45.608Z"
   },
   {
    "duration": 45,
    "start_time": "2021-12-07T10:38:45.632Z"
   },
   {
    "duration": 13,
    "start_time": "2021-12-07T10:38:45.679Z"
   },
   {
    "duration": 64,
    "start_time": "2021-12-07T10:38:45.695Z"
   },
   {
    "duration": 12,
    "start_time": "2021-12-07T10:38:45.762Z"
   },
   {
    "duration": 46,
    "start_time": "2021-12-07T10:38:45.776Z"
   },
   {
    "duration": 28,
    "start_time": "2021-12-07T10:38:45.823Z"
   },
   {
    "duration": 2,
    "start_time": "2021-12-07T10:38:45.853Z"
   },
   {
    "duration": 10,
    "start_time": "2021-12-07T10:38:45.857Z"
   },
   {
    "duration": 3,
    "start_time": "2021-12-07T11:56:13.880Z"
   },
   {
    "duration": 5,
    "start_time": "2021-12-07T11:56:27.603Z"
   },
   {
    "duration": 5,
    "start_time": "2021-12-07T11:57:35.438Z"
   },
   {
    "duration": 112,
    "start_time": "2021-12-07T11:57:58.529Z"
   },
   {
    "duration": 9,
    "start_time": "2021-12-07T11:58:11.786Z"
   },
   {
    "duration": 16,
    "start_time": "2021-12-07T11:59:57.929Z"
   },
   {
    "duration": 1517,
    "start_time": "2021-12-07T12:03:12.278Z"
   },
   {
    "duration": 13,
    "start_time": "2021-12-07T12:03:13.799Z"
   },
   {
    "duration": 22,
    "start_time": "2021-12-07T12:03:13.815Z"
   },
   {
    "duration": 10,
    "start_time": "2021-12-07T12:03:13.840Z"
   },
   {
    "duration": 19,
    "start_time": "2021-12-07T12:03:13.852Z"
   },
   {
    "duration": 20,
    "start_time": "2021-12-07T12:03:13.873Z"
   },
   {
    "duration": 16,
    "start_time": "2021-12-07T12:03:13.895Z"
   },
   {
    "duration": 36,
    "start_time": "2021-12-07T12:03:13.914Z"
   },
   {
    "duration": 6,
    "start_time": "2021-12-07T12:03:13.953Z"
   },
   {
    "duration": 13,
    "start_time": "2021-12-07T12:03:13.961Z"
   },
   {
    "duration": 7,
    "start_time": "2021-12-07T12:03:13.975Z"
   },
   {
    "duration": 22,
    "start_time": "2021-12-07T12:03:13.984Z"
   },
   {
    "duration": 53,
    "start_time": "2021-12-07T12:03:14.008Z"
   },
   {
    "duration": 21,
    "start_time": "2021-12-07T12:03:14.063Z"
   },
   {
    "duration": 6,
    "start_time": "2021-12-07T12:03:14.087Z"
   },
   {
    "duration": 8,
    "start_time": "2021-12-07T12:03:14.095Z"
   },
   {
    "duration": 70,
    "start_time": "2021-12-07T12:03:14.104Z"
   },
   {
    "duration": 15,
    "start_time": "2021-12-07T12:03:14.177Z"
   },
   {
    "duration": 121,
    "start_time": "2021-12-07T12:03:14.194Z"
   },
   {
    "duration": 12,
    "start_time": "2021-12-07T12:03:14.316Z"
   },
   {
    "duration": 280,
    "start_time": "2021-12-07T12:03:14.329Z"
   },
   {
    "duration": 25,
    "start_time": "2021-12-07T12:03:14.610Z"
   },
   {
    "duration": 72,
    "start_time": "2021-12-07T12:03:14.646Z"
   },
   {
    "duration": 8,
    "start_time": "2021-12-07T12:03:14.720Z"
   },
   {
    "duration": 28,
    "start_time": "2021-12-07T12:03:14.729Z"
   },
   {
    "duration": 20,
    "start_time": "2021-12-07T12:03:14.759Z"
   },
   {
    "duration": 12,
    "start_time": "2021-12-07T12:03:14.781Z"
   },
   {
    "duration": 5,
    "start_time": "2021-12-07T12:03:14.796Z"
   },
   {
    "duration": 43,
    "start_time": "2021-12-07T12:03:14.803Z"
   },
   {
    "duration": 27,
    "start_time": "2021-12-07T12:03:14.848Z"
   },
   {
    "duration": 11,
    "start_time": "2021-12-07T12:03:14.877Z"
   },
   {
    "duration": 57,
    "start_time": "2021-12-07T12:03:14.890Z"
   },
   {
    "duration": 13,
    "start_time": "2021-12-07T12:03:14.948Z"
   },
   {
    "duration": 17,
    "start_time": "2021-12-07T12:03:14.963Z"
   },
   {
    "duration": 11,
    "start_time": "2021-12-07T12:03:14.982Z"
   },
   {
    "duration": 60,
    "start_time": "2021-12-07T12:03:14.995Z"
   },
   {
    "duration": 11,
    "start_time": "2021-12-07T12:03:15.056Z"
   },
   {
    "duration": 29,
    "start_time": "2021-12-07T12:03:15.069Z"
   },
   {
    "duration": 7,
    "start_time": "2021-12-07T12:03:15.100Z"
   },
   {
    "duration": 36,
    "start_time": "2021-12-07T12:03:15.109Z"
   },
   {
    "duration": 11,
    "start_time": "2021-12-07T12:03:15.147Z"
   },
   {
    "duration": 38,
    "start_time": "2021-12-07T12:03:15.160Z"
   },
   {
    "duration": 18,
    "start_time": "2021-12-07T12:03:15.200Z"
   },
   {
    "duration": 5,
    "start_time": "2021-12-07T12:03:15.220Z"
   },
   {
    "duration": 17,
    "start_time": "2021-12-07T12:03:15.227Z"
   },
   {
    "duration": 128,
    "start_time": "2021-12-07T12:03:15.246Z"
   },
   {
    "duration": 7,
    "start_time": "2021-12-07T12:03:15.376Z"
   },
   {
    "duration": 19,
    "start_time": "2021-12-07T12:03:15.386Z"
   },
   {
    "duration": 898,
    "start_time": "2021-12-07T12:10:27.017Z"
   },
   {
    "duration": 6,
    "start_time": "2021-12-07T12:13:34.314Z"
   },
   {
    "duration": 6,
    "start_time": "2021-12-07T12:14:08.527Z"
   },
   {
    "duration": 7,
    "start_time": "2021-12-07T12:17:14.550Z"
   },
   {
    "duration": 364,
    "start_time": "2021-12-07T12:17:35.664Z"
   },
   {
    "duration": 6,
    "start_time": "2021-12-07T12:24:17.897Z"
   },
   {
    "duration": 5,
    "start_time": "2021-12-07T13:16:33.406Z"
   },
   {
    "duration": 5,
    "start_time": "2021-12-07T13:16:46.334Z"
   },
   {
    "duration": 274,
    "start_time": "2021-12-07T13:17:17.934Z"
   },
   {
    "duration": 5,
    "start_time": "2021-12-07T13:20:11.242Z"
   },
   {
    "duration": 6,
    "start_time": "2021-12-07T13:20:19.692Z"
   },
   {
    "duration": 5,
    "start_time": "2021-12-07T13:20:44.896Z"
   },
   {
    "duration": 267,
    "start_time": "2021-12-07T13:20:54.923Z"
   },
   {
    "duration": 267,
    "start_time": "2021-12-07T13:21:06.849Z"
   },
   {
    "duration": 274,
    "start_time": "2021-12-07T13:21:22.593Z"
   },
   {
    "duration": 283,
    "start_time": "2021-12-07T13:21:38.779Z"
   },
   {
    "duration": 351,
    "start_time": "2021-12-07T13:21:57.066Z"
   },
   {
    "duration": 279,
    "start_time": "2021-12-07T13:22:05.765Z"
   },
   {
    "duration": 5,
    "start_time": "2021-12-07T13:40:40.761Z"
   },
   {
    "duration": 5,
    "start_time": "2021-12-07T13:40:49.479Z"
   },
   {
    "duration": 259,
    "start_time": "2021-12-07T13:41:14.161Z"
   },
   {
    "duration": 5,
    "start_time": "2021-12-07T13:42:35.888Z"
   },
   {
    "duration": 310,
    "start_time": "2021-12-07T13:49:52.560Z"
   },
   {
    "duration": 5,
    "start_time": "2021-12-07T13:55:05.611Z"
   },
   {
    "duration": 278,
    "start_time": "2021-12-07T13:55:22.455Z"
   },
   {
    "duration": 342,
    "start_time": "2021-12-07T16:03:14.953Z"
   },
   {
    "duration": 13,
    "start_time": "2021-12-07T16:14:19.559Z"
   },
   {
    "duration": 6,
    "start_time": "2021-12-07T16:14:28.869Z"
   },
   {
    "duration": 273,
    "start_time": "2021-12-07T16:41:38.286Z"
   },
   {
    "duration": 87,
    "start_time": "2021-12-07T16:41:44.991Z"
   },
   {
    "duration": 92,
    "start_time": "2021-12-07T16:41:55.996Z"
   },
   {
    "duration": 177,
    "start_time": "2021-12-07T16:42:05.865Z"
   },
   {
    "duration": 136,
    "start_time": "2021-12-07T16:42:43.331Z"
   },
   {
    "duration": -613,
    "start_time": "2021-12-07T16:42:44.083Z"
   },
   {
    "duration": -619,
    "start_time": "2021-12-07T16:42:44.090Z"
   },
   {
    "duration": -628,
    "start_time": "2021-12-07T16:42:44.100Z"
   },
   {
    "duration": -633,
    "start_time": "2021-12-07T16:42:44.106Z"
   },
   {
    "duration": -651,
    "start_time": "2021-12-07T16:42:44.125Z"
   },
   {
    "duration": -677,
    "start_time": "2021-12-07T16:42:44.152Z"
   },
   {
    "duration": -681,
    "start_time": "2021-12-07T16:42:44.157Z"
   },
   {
    "duration": -683,
    "start_time": "2021-12-07T16:42:44.160Z"
   },
   {
    "duration": -686,
    "start_time": "2021-12-07T16:42:44.164Z"
   },
   {
    "duration": -689,
    "start_time": "2021-12-07T16:42:44.168Z"
   },
   {
    "duration": -691,
    "start_time": "2021-12-07T16:42:44.171Z"
   },
   {
    "duration": -693,
    "start_time": "2021-12-07T16:42:44.174Z"
   },
   {
    "duration": -696,
    "start_time": "2021-12-07T16:42:44.178Z"
   },
   {
    "duration": -699,
    "start_time": "2021-12-07T16:42:44.182Z"
   },
   {
    "duration": -701,
    "start_time": "2021-12-07T16:42:44.185Z"
   },
   {
    "duration": -703,
    "start_time": "2021-12-07T16:42:44.188Z"
   },
   {
    "duration": -706,
    "start_time": "2021-12-07T16:42:44.192Z"
   },
   {
    "duration": -710,
    "start_time": "2021-12-07T16:42:44.197Z"
   },
   {
    "duration": -717,
    "start_time": "2021-12-07T16:42:44.205Z"
   },
   {
    "duration": -719,
    "start_time": "2021-12-07T16:42:44.208Z"
   },
   {
    "duration": -728,
    "start_time": "2021-12-07T16:42:44.218Z"
   },
   {
    "duration": -731,
    "start_time": "2021-12-07T16:42:44.222Z"
   },
   {
    "duration": -733,
    "start_time": "2021-12-07T16:42:44.225Z"
   },
   {
    "duration": -736,
    "start_time": "2021-12-07T16:42:44.229Z"
   },
   {
    "duration": -738,
    "start_time": "2021-12-07T16:42:44.232Z"
   },
   {
    "duration": -741,
    "start_time": "2021-12-07T16:42:44.236Z"
   },
   {
    "duration": -743,
    "start_time": "2021-12-07T16:42:44.239Z"
   },
   {
    "duration": -745,
    "start_time": "2021-12-07T16:42:44.242Z"
   },
   {
    "duration": -748,
    "start_time": "2021-12-07T16:42:44.246Z"
   },
   {
    "duration": -750,
    "start_time": "2021-12-07T16:42:44.249Z"
   },
   {
    "duration": -763,
    "start_time": "2021-12-07T16:42:44.263Z"
   },
   {
    "duration": -766,
    "start_time": "2021-12-07T16:42:44.267Z"
   },
   {
    "duration": -768,
    "start_time": "2021-12-07T16:42:44.270Z"
   },
   {
    "duration": -771,
    "start_time": "2021-12-07T16:42:44.274Z"
   },
   {
    "duration": -773,
    "start_time": "2021-12-07T16:42:44.277Z"
   },
   {
    "duration": -777,
    "start_time": "2021-12-07T16:42:44.282Z"
   },
   {
    "duration": -780,
    "start_time": "2021-12-07T16:42:44.286Z"
   },
   {
    "duration": -746,
    "start_time": "2021-12-07T16:42:44.290Z"
   },
   {
    "duration": -748,
    "start_time": "2021-12-07T16:42:44.293Z"
   },
   {
    "duration": -751,
    "start_time": "2021-12-07T16:42:44.297Z"
   },
   {
    "duration": -753,
    "start_time": "2021-12-07T16:42:44.300Z"
   },
   {
    "duration": -755,
    "start_time": "2021-12-07T16:42:44.303Z"
   },
   {
    "duration": -758,
    "start_time": "2021-12-07T16:42:44.307Z"
   },
   {
    "duration": -760,
    "start_time": "2021-12-07T16:42:44.310Z"
   },
   {
    "duration": -762,
    "start_time": "2021-12-07T16:42:44.313Z"
   },
   {
    "duration": 581,
    "start_time": "2021-12-07T16:42:43.554Z"
   },
   {
    "duration": -455,
    "start_time": "2021-12-07T16:42:44.592Z"
   },
   {
    "duration": -458,
    "start_time": "2021-12-07T16:42:44.596Z"
   },
   {
    "duration": -460,
    "start_time": "2021-12-07T16:42:44.599Z"
   },
   {
    "duration": -463,
    "start_time": "2021-12-07T16:42:44.603Z"
   },
   {
    "duration": -466,
    "start_time": "2021-12-07T16:42:44.607Z"
   },
   {
    "duration": -468,
    "start_time": "2021-12-07T16:42:44.610Z"
   },
   {
    "duration": -471,
    "start_time": "2021-12-07T16:42:44.614Z"
   },
   {
    "duration": -474,
    "start_time": "2021-12-07T16:42:44.618Z"
   },
   {
    "duration": -476,
    "start_time": "2021-12-07T16:42:44.621Z"
   },
   {
    "duration": -478,
    "start_time": "2021-12-07T16:42:44.624Z"
   },
   {
    "duration": -490,
    "start_time": "2021-12-07T16:42:44.638Z"
   },
   {
    "duration": -493,
    "start_time": "2021-12-07T16:42:44.642Z"
   },
   {
    "duration": -496,
    "start_time": "2021-12-07T16:42:44.646Z"
   },
   {
    "duration": -499,
    "start_time": "2021-12-07T16:42:44.650Z"
   },
   {
    "duration": -502,
    "start_time": "2021-12-07T16:42:44.654Z"
   },
   {
    "duration": -505,
    "start_time": "2021-12-07T16:42:44.658Z"
   },
   {
    "duration": -508,
    "start_time": "2021-12-07T16:42:44.662Z"
   },
   {
    "duration": -511,
    "start_time": "2021-12-07T16:42:44.666Z"
   },
   {
    "duration": -513,
    "start_time": "2021-12-07T16:42:44.669Z"
   },
   {
    "duration": 1620,
    "start_time": "2021-12-07T16:43:09.150Z"
   },
   {
    "duration": 14,
    "start_time": "2021-12-07T16:43:10.772Z"
   },
   {
    "duration": 22,
    "start_time": "2021-12-07T16:43:10.789Z"
   },
   {
    "duration": 10,
    "start_time": "2021-12-07T16:43:10.813Z"
   },
   {
    "duration": 28,
    "start_time": "2021-12-07T16:43:10.826Z"
   },
   {
    "duration": 9,
    "start_time": "2021-12-07T16:43:10.856Z"
   },
   {
    "duration": 19,
    "start_time": "2021-12-07T16:43:10.867Z"
   },
   {
    "duration": 7,
    "start_time": "2021-12-07T16:43:10.888Z"
   },
   {
    "duration": 8,
    "start_time": "2021-12-07T16:43:10.898Z"
   },
   {
    "duration": 38,
    "start_time": "2021-12-07T16:43:10.908Z"
   },
   {
    "duration": 7,
    "start_time": "2021-12-07T16:43:10.949Z"
   },
   {
    "duration": 21,
    "start_time": "2021-12-07T16:43:10.958Z"
   },
   {
    "duration": 17,
    "start_time": "2021-12-07T16:43:10.981Z"
   },
   {
    "duration": 45,
    "start_time": "2021-12-07T16:43:11.000Z"
   },
   {
    "duration": 6,
    "start_time": "2021-12-07T16:43:11.047Z"
   },
   {
    "duration": 6,
    "start_time": "2021-12-07T16:43:11.055Z"
   },
   {
    "duration": 34,
    "start_time": "2021-12-07T16:43:11.063Z"
   },
   {
    "duration": 15,
    "start_time": "2021-12-07T16:43:11.099Z"
   },
   {
    "duration": 101,
    "start_time": "2021-12-07T16:43:11.144Z"
   },
   {
    "duration": 12,
    "start_time": "2021-12-07T16:43:11.246Z"
   },
   {
    "duration": 267,
    "start_time": "2021-12-07T16:43:11.259Z"
   },
   {
    "duration": 30,
    "start_time": "2021-12-07T16:43:11.527Z"
   },
   {
    "duration": 67,
    "start_time": "2021-12-07T16:43:11.559Z"
   },
   {
    "duration": 19,
    "start_time": "2021-12-07T16:43:11.627Z"
   },
   {
    "duration": 21,
    "start_time": "2021-12-07T16:43:11.648Z"
   },
   {
    "duration": 19,
    "start_time": "2021-12-07T16:43:11.670Z"
   },
   {
    "duration": 14,
    "start_time": "2021-12-07T16:43:11.693Z"
   },
   {
    "duration": 5,
    "start_time": "2021-12-07T16:43:11.711Z"
   },
   {
    "duration": 7,
    "start_time": "2021-12-07T16:43:11.744Z"
   },
   {
    "duration": 26,
    "start_time": "2021-12-07T16:43:11.753Z"
   },
   {
    "duration": 10,
    "start_time": "2021-12-07T16:43:11.781Z"
   },
   {
    "duration": 63,
    "start_time": "2021-12-07T16:43:11.792Z"
   },
   {
    "duration": 11,
    "start_time": "2021-12-07T16:43:11.857Z"
   },
   {
    "duration": 20,
    "start_time": "2021-12-07T16:43:11.869Z"
   },
   {
    "duration": 8,
    "start_time": "2021-12-07T16:43:11.891Z"
   },
   {
    "duration": 47,
    "start_time": "2021-12-07T16:43:11.901Z"
   },
   {
    "duration": 10,
    "start_time": "2021-12-07T16:43:11.950Z"
   },
   {
    "duration": 18,
    "start_time": "2021-12-07T16:43:11.962Z"
   },
   {
    "duration": 6,
    "start_time": "2021-12-07T16:43:11.982Z"
   },
   {
    "duration": 24,
    "start_time": "2021-12-07T16:43:11.990Z"
   },
   {
    "duration": 34,
    "start_time": "2021-12-07T16:43:12.016Z"
   },
   {
    "duration": 41,
    "start_time": "2021-12-07T16:43:12.052Z"
   },
   {
    "duration": 9,
    "start_time": "2021-12-07T16:43:12.095Z"
   },
   {
    "duration": 21,
    "start_time": "2021-12-07T16:43:12.105Z"
   },
   {
    "duration": 17,
    "start_time": "2021-12-07T16:43:12.128Z"
   },
   {
    "duration": 132,
    "start_time": "2021-12-07T16:43:12.147Z"
   },
   {
    "duration": 8,
    "start_time": "2021-12-07T16:43:12.281Z"
   },
   {
    "duration": 37,
    "start_time": "2021-12-07T16:43:12.291Z"
   },
   {
    "duration": 915,
    "start_time": "2021-12-07T16:43:12.329Z"
   },
   {
    "duration": 6,
    "start_time": "2021-12-07T16:43:13.246Z"
   },
   {
    "duration": 28,
    "start_time": "2021-12-07T16:43:13.253Z"
   },
   {
    "duration": 20,
    "start_time": "2021-12-07T16:43:13.283Z"
   },
   {
    "duration": 388,
    "start_time": "2021-12-07T16:43:13.305Z"
   },
   {
    "duration": 5,
    "start_time": "2021-12-07T16:43:13.696Z"
   },
   {
    "duration": 304,
    "start_time": "2021-12-07T16:43:13.703Z"
   },
   {
    "duration": 7,
    "start_time": "2021-12-07T16:43:14.009Z"
   },
   {
    "duration": 297,
    "start_time": "2021-12-07T16:43:14.017Z"
   },
   {
    "duration": 7,
    "start_time": "2021-12-07T16:43:14.316Z"
   },
   {
    "duration": 308,
    "start_time": "2021-12-07T16:43:14.324Z"
   },
   {
    "duration": 5,
    "start_time": "2021-12-07T16:43:14.634Z"
   },
   {
    "duration": 318,
    "start_time": "2021-12-07T16:43:14.645Z"
   },
   {
    "duration": 5,
    "start_time": "2021-12-07T16:43:14.964Z"
   },
   {
    "duration": 295,
    "start_time": "2021-12-07T16:43:14.971Z"
   },
   {
    "duration": 12,
    "start_time": "2021-12-07T16:43:15.268Z"
   },
   {
    "duration": 41,
    "start_time": "2021-12-07T16:43:15.281Z"
   },
   {
    "duration": 8,
    "start_time": "2021-12-07T16:46:39.283Z"
   },
   {
    "duration": 390,
    "start_time": "2021-12-07T16:47:58.406Z"
   },
   {
    "duration": 5,
    "start_time": "2021-12-07T16:48:08.033Z"
   },
   {
    "duration": 5,
    "start_time": "2021-12-07T16:48:20.427Z"
   },
   {
    "duration": 8,
    "start_time": "2021-12-07T16:52:51.072Z"
   },
   {
    "duration": 97,
    "start_time": "2021-12-07T17:32:46.483Z"
   },
   {
    "duration": 88,
    "start_time": "2021-12-07T17:47:52.552Z"
   },
   {
    "duration": 90,
    "start_time": "2021-12-07T17:50:23.522Z"
   },
   {
    "duration": 156,
    "start_time": "2021-12-07T17:50:39.678Z"
   },
   {
    "duration": -593,
    "start_time": "2021-12-07T17:50:40.430Z"
   },
   {
    "duration": -596,
    "start_time": "2021-12-07T17:50:40.434Z"
   },
   {
    "duration": -599,
    "start_time": "2021-12-07T17:50:40.438Z"
   },
   {
    "duration": -602,
    "start_time": "2021-12-07T17:50:40.442Z"
   },
   {
    "duration": -606,
    "start_time": "2021-12-07T17:50:40.446Z"
   },
   {
    "duration": -610,
    "start_time": "2021-12-07T17:50:40.451Z"
   },
   {
    "duration": -613,
    "start_time": "2021-12-07T17:50:40.455Z"
   },
   {
    "duration": -615,
    "start_time": "2021-12-07T17:50:40.458Z"
   },
   {
    "duration": -618,
    "start_time": "2021-12-07T17:50:40.462Z"
   },
   {
    "duration": -620,
    "start_time": "2021-12-07T17:50:40.465Z"
   },
   {
    "duration": -623,
    "start_time": "2021-12-07T17:50:40.469Z"
   },
   {
    "duration": -625,
    "start_time": "2021-12-07T17:50:40.472Z"
   },
   {
    "duration": -629,
    "start_time": "2021-12-07T17:50:40.476Z"
   },
   {
    "duration": -632,
    "start_time": "2021-12-07T17:50:40.480Z"
   },
   {
    "duration": -634,
    "start_time": "2021-12-07T17:50:40.483Z"
   },
   {
    "duration": -637,
    "start_time": "2021-12-07T17:50:40.487Z"
   },
   {
    "duration": -640,
    "start_time": "2021-12-07T17:50:40.491Z"
   },
   {
    "duration": -668,
    "start_time": "2021-12-07T17:50:40.520Z"
   },
   {
    "duration": -670,
    "start_time": "2021-12-07T17:50:40.523Z"
   },
   {
    "duration": -674,
    "start_time": "2021-12-07T17:50:40.528Z"
   },
   {
    "duration": -676,
    "start_time": "2021-12-07T17:50:40.531Z"
   },
   {
    "duration": -679,
    "start_time": "2021-12-07T17:50:40.535Z"
   },
   {
    "duration": -682,
    "start_time": "2021-12-07T17:50:40.539Z"
   },
   {
    "duration": -681,
    "start_time": "2021-12-07T17:50:40.542Z"
   },
   {
    "duration": -684,
    "start_time": "2021-12-07T17:50:40.546Z"
   },
   {
    "duration": -686,
    "start_time": "2021-12-07T17:50:40.549Z"
   },
   {
    "duration": -688,
    "start_time": "2021-12-07T17:50:40.552Z"
   },
   {
    "duration": -691,
    "start_time": "2021-12-07T17:50:40.556Z"
   },
   {
    "duration": -695,
    "start_time": "2021-12-07T17:50:40.560Z"
   },
   {
    "duration": -698,
    "start_time": "2021-12-07T17:50:40.564Z"
   },
   {
    "duration": -700,
    "start_time": "2021-12-07T17:50:40.567Z"
   },
   {
    "duration": -703,
    "start_time": "2021-12-07T17:50:40.570Z"
   },
   {
    "duration": -705,
    "start_time": "2021-12-07T17:50:40.573Z"
   },
   {
    "duration": -708,
    "start_time": "2021-12-07T17:50:40.577Z"
   },
   {
    "duration": -710,
    "start_time": "2021-12-07T17:50:40.580Z"
   },
   {
    "duration": -713,
    "start_time": "2021-12-07T17:50:40.583Z"
   },
   {
    "duration": -716,
    "start_time": "2021-12-07T17:50:40.587Z"
   },
   {
    "duration": -718,
    "start_time": "2021-12-07T17:50:40.590Z"
   },
   {
    "duration": -722,
    "start_time": "2021-12-07T17:50:40.594Z"
   },
   {
    "duration": -724,
    "start_time": "2021-12-07T17:50:40.597Z"
   },
   {
    "duration": -726,
    "start_time": "2021-12-07T17:50:40.600Z"
   },
   {
    "duration": -729,
    "start_time": "2021-12-07T17:50:40.603Z"
   },
   {
    "duration": -731,
    "start_time": "2021-12-07T17:50:40.606Z"
   },
   {
    "duration": -733,
    "start_time": "2021-12-07T17:50:40.609Z"
   },
   {
    "duration": -736,
    "start_time": "2021-12-07T17:50:40.613Z"
   },
   {
    "duration": -739,
    "start_time": "2021-12-07T17:50:40.616Z"
   },
   {
    "duration": -754,
    "start_time": "2021-12-07T17:50:40.632Z"
   },
   {
    "duration": -757,
    "start_time": "2021-12-07T17:50:40.636Z"
   },
   {
    "duration": -759,
    "start_time": "2021-12-07T17:50:40.639Z"
   },
   {
    "duration": -763,
    "start_time": "2021-12-07T17:50:40.643Z"
   },
   {
    "duration": -765,
    "start_time": "2021-12-07T17:50:40.646Z"
   },
   {
    "duration": -767,
    "start_time": "2021-12-07T17:50:40.649Z"
   },
   {
    "duration": -773,
    "start_time": "2021-12-07T17:50:40.658Z"
   },
   {
    "duration": 477,
    "start_time": "2021-12-07T17:50:39.946Z"
   },
   {
    "duration": -483,
    "start_time": "2021-12-07T17:50:40.908Z"
   },
   {
    "duration": -492,
    "start_time": "2021-12-07T17:50:40.918Z"
   },
   {
    "duration": -504,
    "start_time": "2021-12-07T17:50:40.932Z"
   },
   {
    "duration": -507,
    "start_time": "2021-12-07T17:50:40.936Z"
   },
   {
    "duration": -510,
    "start_time": "2021-12-07T17:50:40.940Z"
   },
   {
    "duration": -513,
    "start_time": "2021-12-07T17:50:40.944Z"
   },
   {
    "duration": -516,
    "start_time": "2021-12-07T17:50:40.948Z"
   },
   {
    "duration": -518,
    "start_time": "2021-12-07T17:50:40.952Z"
   },
   {
    "duration": -524,
    "start_time": "2021-12-07T17:50:40.959Z"
   },
   {
    "duration": -528,
    "start_time": "2021-12-07T17:50:40.964Z"
   },
   {
    "duration": -531,
    "start_time": "2021-12-07T17:50:40.968Z"
   },
   {
    "duration": 1697,
    "start_time": "2021-12-07T17:50:51.257Z"
   },
   {
    "duration": 1484,
    "start_time": "2021-12-07T17:51:00.170Z"
   },
   {
    "duration": 13,
    "start_time": "2021-12-07T17:51:01.656Z"
   },
   {
    "duration": 20,
    "start_time": "2021-12-07T17:51:01.671Z"
   },
   {
    "duration": 9,
    "start_time": "2021-12-07T17:51:01.693Z"
   },
   {
    "duration": 22,
    "start_time": "2021-12-07T17:51:01.703Z"
   },
   {
    "duration": 21,
    "start_time": "2021-12-07T17:51:01.727Z"
   },
   {
    "duration": 14,
    "start_time": "2021-12-07T17:51:01.750Z"
   },
   {
    "duration": 7,
    "start_time": "2021-12-07T17:51:01.767Z"
   },
   {
    "duration": 6,
    "start_time": "2021-12-07T17:51:01.776Z"
   },
   {
    "duration": 12,
    "start_time": "2021-12-07T17:51:01.784Z"
   },
   {
    "duration": 10,
    "start_time": "2021-12-07T17:51:01.798Z"
   },
   {
    "duration": 51,
    "start_time": "2021-12-07T17:51:01.809Z"
   },
   {
    "duration": 15,
    "start_time": "2021-12-07T17:51:01.861Z"
   },
   {
    "duration": 13,
    "start_time": "2021-12-07T17:51:01.878Z"
   },
   {
    "duration": 5,
    "start_time": "2021-12-07T17:51:01.893Z"
   },
   {
    "duration": 13,
    "start_time": "2021-12-07T17:51:01.900Z"
   },
   {
    "duration": 56,
    "start_time": "2021-12-07T17:51:01.915Z"
   },
   {
    "duration": 14,
    "start_time": "2021-12-07T17:51:01.972Z"
   },
   {
    "duration": 102,
    "start_time": "2021-12-07T17:51:01.987Z"
   },
   {
    "duration": 12,
    "start_time": "2021-12-07T17:51:02.091Z"
   },
   {
    "duration": 266,
    "start_time": "2021-12-07T17:51:02.105Z"
   },
   {
    "duration": 21,
    "start_time": "2021-12-07T17:51:02.373Z"
   },
   {
    "duration": 76,
    "start_time": "2021-12-07T17:51:02.397Z"
   },
   {
    "duration": 8,
    "start_time": "2021-12-07T17:51:02.476Z"
   },
   {
    "duration": 27,
    "start_time": "2021-12-07T17:51:02.486Z"
   },
   {
    "duration": 32,
    "start_time": "2021-12-07T17:51:02.515Z"
   },
   {
    "duration": 11,
    "start_time": "2021-12-07T17:51:02.549Z"
   },
   {
    "duration": 8,
    "start_time": "2021-12-07T17:51:02.562Z"
   },
   {
    "duration": 11,
    "start_time": "2021-12-07T17:51:02.572Z"
   },
   {
    "duration": 28,
    "start_time": "2021-12-07T17:51:02.585Z"
   },
   {
    "duration": 10,
    "start_time": "2021-12-07T17:51:02.614Z"
   },
   {
    "duration": 54,
    "start_time": "2021-12-07T17:51:02.626Z"
   },
   {
    "duration": 12,
    "start_time": "2021-12-07T17:51:02.682Z"
   },
   {
    "duration": 18,
    "start_time": "2021-12-07T17:51:02.696Z"
   },
   {
    "duration": 33,
    "start_time": "2021-12-07T17:51:02.715Z"
   },
   {
    "duration": 25,
    "start_time": "2021-12-07T17:51:02.750Z"
   },
   {
    "duration": 11,
    "start_time": "2021-12-07T17:51:02.777Z"
   },
   {
    "duration": 17,
    "start_time": "2021-12-07T17:51:02.790Z"
   },
   {
    "duration": 6,
    "start_time": "2021-12-07T17:51:02.809Z"
   },
   {
    "duration": 47,
    "start_time": "2021-12-07T17:51:02.817Z"
   },
   {
    "duration": 12,
    "start_time": "2021-12-07T17:51:02.866Z"
   },
   {
    "duration": 40,
    "start_time": "2021-12-07T17:51:02.880Z"
   },
   {
    "duration": 29,
    "start_time": "2021-12-07T17:51:02.922Z"
   },
   {
    "duration": 5,
    "start_time": "2021-12-07T17:51:02.953Z"
   },
   {
    "duration": 9,
    "start_time": "2021-12-07T17:51:02.960Z"
   },
   {
    "duration": 119,
    "start_time": "2021-12-07T17:51:02.970Z"
   },
   {
    "duration": 8,
    "start_time": "2021-12-07T17:51:03.091Z"
   },
   {
    "duration": 38,
    "start_time": "2021-12-07T17:51:03.100Z"
   },
   {
    "duration": 923,
    "start_time": "2021-12-07T17:51:03.140Z"
   },
   {
    "duration": 6,
    "start_time": "2021-12-07T17:51:04.065Z"
   },
   {
    "duration": 7,
    "start_time": "2021-12-07T17:51:04.074Z"
   },
   {
    "duration": 8,
    "start_time": "2021-12-07T17:51:04.083Z"
   },
   {
    "duration": 387,
    "start_time": "2021-12-07T17:51:04.093Z"
   },
   {
    "duration": 6,
    "start_time": "2021-12-07T17:51:04.481Z"
   },
   {
    "duration": 386,
    "start_time": "2021-12-07T17:51:04.489Z"
   },
   {
    "duration": 5,
    "start_time": "2021-12-07T17:51:04.877Z"
   },
   {
    "duration": 296,
    "start_time": "2021-12-07T17:51:04.884Z"
   },
   {
    "duration": 5,
    "start_time": "2021-12-07T17:51:05.182Z"
   },
   {
    "duration": 279,
    "start_time": "2021-12-07T17:51:05.188Z"
   },
   {
    "duration": 5,
    "start_time": "2021-12-07T17:51:05.469Z"
   },
   {
    "duration": 304,
    "start_time": "2021-12-07T17:51:05.475Z"
   },
   {
    "duration": 5,
    "start_time": "2021-12-07T17:51:05.781Z"
   },
   {
    "duration": 288,
    "start_time": "2021-12-07T17:51:05.788Z"
   },
   {
    "duration": 12,
    "start_time": "2021-12-07T17:51:06.078Z"
   },
   {
    "duration": 9,
    "start_time": "2021-12-07T17:51:06.091Z"
   },
   {
    "duration": 10,
    "start_time": "2021-12-07T17:51:06.102Z"
   },
   {
    "duration": 8,
    "start_time": "2021-12-07T18:05:11.157Z"
   },
   {
    "duration": 1571,
    "start_time": "2021-12-07T18:05:23.820Z"
   },
   {
    "duration": 12,
    "start_time": "2021-12-07T18:05:25.393Z"
   },
   {
    "duration": 22,
    "start_time": "2021-12-07T18:05:25.408Z"
   },
   {
    "duration": 9,
    "start_time": "2021-12-07T18:05:25.432Z"
   },
   {
    "duration": 20,
    "start_time": "2021-12-07T18:05:25.443Z"
   },
   {
    "duration": 7,
    "start_time": "2021-12-07T18:05:25.465Z"
   },
   {
    "duration": 26,
    "start_time": "2021-12-07T18:05:25.474Z"
   },
   {
    "duration": 8,
    "start_time": "2021-12-07T18:05:25.503Z"
   },
   {
    "duration": 6,
    "start_time": "2021-12-07T18:05:25.513Z"
   },
   {
    "duration": 11,
    "start_time": "2021-12-07T18:05:25.545Z"
   },
   {
    "duration": 11,
    "start_time": "2021-12-07T18:05:25.557Z"
   },
   {
    "duration": 22,
    "start_time": "2021-12-07T18:05:25.569Z"
   },
   {
    "duration": 16,
    "start_time": "2021-12-07T18:05:25.593Z"
   },
   {
    "duration": 38,
    "start_time": "2021-12-07T18:05:25.611Z"
   },
   {
    "duration": 5,
    "start_time": "2021-12-07T18:05:25.651Z"
   },
   {
    "duration": 11,
    "start_time": "2021-12-07T18:05:25.658Z"
   },
   {
    "duration": 35,
    "start_time": "2021-12-07T18:05:25.671Z"
   },
   {
    "duration": 37,
    "start_time": "2021-12-07T18:05:25.708Z"
   },
   {
    "duration": 101,
    "start_time": "2021-12-07T18:05:25.746Z"
   },
   {
    "duration": 13,
    "start_time": "2021-12-07T18:05:25.849Z"
   },
   {
    "duration": 294,
    "start_time": "2021-12-07T18:05:25.864Z"
   },
   {
    "duration": 30,
    "start_time": "2021-12-07T18:05:26.160Z"
   },
   {
    "duration": 84,
    "start_time": "2021-12-07T18:05:26.195Z"
   },
   {
    "duration": 9,
    "start_time": "2021-12-07T18:05:26.281Z"
   },
   {
    "duration": 37,
    "start_time": "2021-12-07T18:05:26.292Z"
   },
   {
    "duration": 25,
    "start_time": "2021-12-07T18:05:26.330Z"
   },
   {
    "duration": 20,
    "start_time": "2021-12-07T18:05:26.357Z"
   },
   {
    "duration": 18,
    "start_time": "2021-12-07T18:05:26.378Z"
   },
   {
    "duration": 36,
    "start_time": "2021-12-07T18:05:26.397Z"
   },
   {
    "duration": 36,
    "start_time": "2021-12-07T18:05:26.434Z"
   },
   {
    "duration": 11,
    "start_time": "2021-12-07T18:05:26.472Z"
   },
   {
    "duration": 55,
    "start_time": "2021-12-07T18:05:26.485Z"
   },
   {
    "duration": 11,
    "start_time": "2021-12-07T18:05:26.542Z"
   },
   {
    "duration": 43,
    "start_time": "2021-12-07T18:05:26.555Z"
   },
   {
    "duration": 9,
    "start_time": "2021-12-07T18:05:26.600Z"
   },
   {
    "duration": 34,
    "start_time": "2021-12-07T18:05:26.611Z"
   },
   {
    "duration": 13,
    "start_time": "2021-12-07T18:05:26.647Z"
   },
   {
    "duration": 17,
    "start_time": "2021-12-07T18:05:26.662Z"
   },
   {
    "duration": 9,
    "start_time": "2021-12-07T18:05:26.680Z"
   },
   {
    "duration": 54,
    "start_time": "2021-12-07T18:05:26.691Z"
   },
   {
    "duration": 13,
    "start_time": "2021-12-07T18:05:26.747Z"
   },
   {
    "duration": 47,
    "start_time": "2021-12-07T18:05:26.762Z"
   },
   {
    "duration": 8,
    "start_time": "2021-12-07T18:05:26.810Z"
   },
   {
    "duration": 21,
    "start_time": "2021-12-07T18:05:26.820Z"
   },
   {
    "duration": 18,
    "start_time": "2021-12-07T18:05:26.844Z"
   },
   {
    "duration": 141,
    "start_time": "2021-12-07T18:05:26.864Z"
   },
   {
    "duration": 6,
    "start_time": "2021-12-07T18:05:27.007Z"
   },
   {
    "duration": 42,
    "start_time": "2021-12-07T18:05:27.015Z"
   },
   {
    "duration": 913,
    "start_time": "2021-12-07T18:05:27.058Z"
   },
   {
    "duration": 6,
    "start_time": "2021-12-07T18:05:27.974Z"
   },
   {
    "duration": 42,
    "start_time": "2021-12-07T18:05:27.982Z"
   },
   {
    "duration": 50,
    "start_time": "2021-12-07T18:05:28.025Z"
   },
   {
    "duration": 407,
    "start_time": "2021-12-07T18:05:28.077Z"
   },
   {
    "duration": 5,
    "start_time": "2021-12-07T18:05:28.486Z"
   },
   {
    "duration": 315,
    "start_time": "2021-12-07T18:05:28.493Z"
   },
   {
    "duration": 5,
    "start_time": "2021-12-07T18:05:28.810Z"
   },
   {
    "duration": 300,
    "start_time": "2021-12-07T18:05:28.817Z"
   },
   {
    "duration": 6,
    "start_time": "2021-12-07T18:05:29.118Z"
   },
   {
    "duration": 306,
    "start_time": "2021-12-07T18:05:29.126Z"
   },
   {
    "duration": 11,
    "start_time": "2021-12-07T18:05:29.434Z"
   },
   {
    "duration": 314,
    "start_time": "2021-12-07T18:05:29.446Z"
   },
   {
    "duration": 5,
    "start_time": "2021-12-07T18:05:29.762Z"
   },
   {
    "duration": 296,
    "start_time": "2021-12-07T18:05:29.769Z"
   },
   {
    "duration": 14,
    "start_time": "2021-12-07T18:05:30.066Z"
   },
   {
    "duration": 39,
    "start_time": "2021-12-07T18:05:30.082Z"
   },
   {
    "duration": 24,
    "start_time": "2021-12-07T18:05:30.123Z"
   },
   {
    "duration": 313,
    "start_time": "2021-12-07T18:06:30.879Z"
   },
   {
    "duration": 1674,
    "start_time": "2021-12-07T18:06:40.100Z"
   },
   {
    "duration": 13,
    "start_time": "2021-12-07T18:06:41.776Z"
   },
   {
    "duration": 26,
    "start_time": "2021-12-07T18:06:41.792Z"
   },
   {
    "duration": 9,
    "start_time": "2021-12-07T18:06:41.820Z"
   },
   {
    "duration": 22,
    "start_time": "2021-12-07T18:06:41.831Z"
   },
   {
    "duration": 8,
    "start_time": "2021-12-07T18:06:41.855Z"
   },
   {
    "duration": 19,
    "start_time": "2021-12-07T18:06:41.865Z"
   },
   {
    "duration": 8,
    "start_time": "2021-12-07T18:06:41.887Z"
   },
   {
    "duration": 27,
    "start_time": "2021-12-07T18:06:41.898Z"
   },
   {
    "duration": 22,
    "start_time": "2021-12-07T18:06:41.928Z"
   },
   {
    "duration": 14,
    "start_time": "2021-12-07T18:06:41.952Z"
   },
   {
    "duration": 34,
    "start_time": "2021-12-07T18:06:41.968Z"
   },
   {
    "duration": 19,
    "start_time": "2021-12-07T18:06:42.004Z"
   },
   {
    "duration": 32,
    "start_time": "2021-12-07T18:06:42.025Z"
   },
   {
    "duration": 8,
    "start_time": "2021-12-07T18:06:42.059Z"
   },
   {
    "duration": 7,
    "start_time": "2021-12-07T18:06:42.069Z"
   },
   {
    "duration": 66,
    "start_time": "2021-12-07T18:06:42.078Z"
   },
   {
    "duration": 18,
    "start_time": "2021-12-07T18:06:42.146Z"
   },
   {
    "duration": 123,
    "start_time": "2021-12-07T18:06:42.166Z"
   },
   {
    "duration": 14,
    "start_time": "2021-12-07T18:06:42.291Z"
   },
   {
    "duration": 310,
    "start_time": "2021-12-07T18:06:42.307Z"
   },
   {
    "duration": 47,
    "start_time": "2021-12-07T18:06:42.619Z"
   },
   {
    "duration": 136,
    "start_time": "2021-12-07T18:06:42.672Z"
   },
   {
    "duration": 13,
    "start_time": "2021-12-07T18:06:42.811Z"
   },
   {
    "duration": 30,
    "start_time": "2021-12-07T18:06:42.826Z"
   },
   {
    "duration": 20,
    "start_time": "2021-12-07T18:06:42.858Z"
   },
   {
    "duration": 11,
    "start_time": "2021-12-07T18:06:42.880Z"
   },
   {
    "duration": 6,
    "start_time": "2021-12-07T18:06:42.893Z"
   },
   {
    "duration": 10,
    "start_time": "2021-12-07T18:06:42.901Z"
   },
   {
    "duration": 51,
    "start_time": "2021-12-07T18:06:42.913Z"
   },
   {
    "duration": 11,
    "start_time": "2021-12-07T18:06:42.965Z"
   },
   {
    "duration": 42,
    "start_time": "2021-12-07T18:06:42.978Z"
   },
   {
    "duration": 32,
    "start_time": "2021-12-07T18:06:43.022Z"
   },
   {
    "duration": 19,
    "start_time": "2021-12-07T18:06:43.056Z"
   },
   {
    "duration": 10,
    "start_time": "2021-12-07T18:06:43.077Z"
   },
   {
    "duration": 59,
    "start_time": "2021-12-07T18:06:43.088Z"
   },
   {
    "duration": 12,
    "start_time": "2021-12-07T18:06:43.149Z"
   },
   {
    "duration": 19,
    "start_time": "2021-12-07T18:06:43.163Z"
   },
   {
    "duration": 7,
    "start_time": "2021-12-07T18:06:43.184Z"
   },
   {
    "duration": 26,
    "start_time": "2021-12-07T18:06:43.193Z"
   },
   {
    "duration": 33,
    "start_time": "2021-12-07T18:06:43.221Z"
   },
   {
    "duration": 64,
    "start_time": "2021-12-07T18:06:43.255Z"
   },
   {
    "duration": 23,
    "start_time": "2021-12-07T18:06:43.321Z"
   },
   {
    "duration": 6,
    "start_time": "2021-12-07T18:06:43.346Z"
   },
   {
    "duration": 9,
    "start_time": "2021-12-07T18:06:43.354Z"
   },
   {
    "duration": 148,
    "start_time": "2021-12-07T18:06:43.365Z"
   },
   {
    "duration": 7,
    "start_time": "2021-12-07T18:06:43.514Z"
   },
   {
    "duration": 30,
    "start_time": "2021-12-07T18:06:43.523Z"
   },
   {
    "duration": 979,
    "start_time": "2021-12-07T18:06:43.555Z"
   },
   {
    "duration": 13,
    "start_time": "2021-12-07T18:06:44.537Z"
   },
   {
    "duration": 14,
    "start_time": "2021-12-07T18:06:44.552Z"
   },
   {
    "duration": 8,
    "start_time": "2021-12-07T18:06:44.567Z"
   },
   {
    "duration": 432,
    "start_time": "2021-12-07T18:06:44.577Z"
   },
   {
    "duration": 7,
    "start_time": "2021-12-07T18:06:45.011Z"
   },
   {
    "duration": 307,
    "start_time": "2021-12-07T18:06:45.020Z"
   },
   {
    "duration": 5,
    "start_time": "2021-12-07T18:06:45.329Z"
   },
   {
    "duration": 327,
    "start_time": "2021-12-07T18:06:45.336Z"
   },
   {
    "duration": 5,
    "start_time": "2021-12-07T18:06:45.665Z"
   },
   {
    "duration": 316,
    "start_time": "2021-12-07T18:06:45.672Z"
   },
   {
    "duration": 7,
    "start_time": "2021-12-07T18:06:45.990Z"
   },
   {
    "duration": 348,
    "start_time": "2021-12-07T18:06:45.999Z"
   },
   {
    "duration": 6,
    "start_time": "2021-12-07T18:06:46.349Z"
   },
   {
    "duration": 508,
    "start_time": "2021-12-07T18:06:46.356Z"
   },
   {
    "duration": 18,
    "start_time": "2021-12-07T18:06:46.866Z"
   },
   {
    "duration": 59,
    "start_time": "2021-12-07T18:06:46.886Z"
   },
   {
    "duration": 62,
    "start_time": "2021-12-07T18:06:46.947Z"
   },
   {
    "duration": 6974,
    "start_time": "2021-12-07T18:14:33.304Z"
   },
   {
    "duration": 293,
    "start_time": "2021-12-07T18:14:52.858Z"
   },
   {
    "duration": 1547,
    "start_time": "2021-12-07T18:15:01.884Z"
   },
   {
    "duration": 11,
    "start_time": "2021-12-07T18:15:03.433Z"
   },
   {
    "duration": 24,
    "start_time": "2021-12-07T18:15:03.446Z"
   },
   {
    "duration": 9,
    "start_time": "2021-12-07T18:15:03.472Z"
   },
   {
    "duration": 16,
    "start_time": "2021-12-07T18:15:03.482Z"
   },
   {
    "duration": 6,
    "start_time": "2021-12-07T18:15:03.500Z"
   },
   {
    "duration": 37,
    "start_time": "2021-12-07T18:15:03.508Z"
   },
   {
    "duration": 11,
    "start_time": "2021-12-07T18:15:03.548Z"
   },
   {
    "duration": 5,
    "start_time": "2021-12-07T18:15:03.561Z"
   },
   {
    "duration": 13,
    "start_time": "2021-12-07T18:15:03.568Z"
   },
   {
    "duration": 8,
    "start_time": "2021-12-07T18:15:03.583Z"
   },
   {
    "duration": 21,
    "start_time": "2021-12-07T18:15:03.593Z"
   },
   {
    "duration": 39,
    "start_time": "2021-12-07T18:15:03.615Z"
   },
   {
    "duration": 13,
    "start_time": "2021-12-07T18:15:03.656Z"
   },
   {
    "duration": 5,
    "start_time": "2021-12-07T18:15:03.670Z"
   },
   {
    "duration": 8,
    "start_time": "2021-12-07T18:15:03.677Z"
   },
   {
    "duration": 36,
    "start_time": "2021-12-07T18:15:03.686Z"
   },
   {
    "duration": 32,
    "start_time": "2021-12-07T18:15:03.724Z"
   },
   {
    "duration": 104,
    "start_time": "2021-12-07T18:15:03.758Z"
   },
   {
    "duration": 12,
    "start_time": "2021-12-07T18:15:03.863Z"
   },
   {
    "duration": 279,
    "start_time": "2021-12-07T18:15:03.877Z"
   },
   {
    "duration": 244,
    "start_time": "2021-12-07T18:15:04.159Z"
   },
   {
    "duration": 21,
    "start_time": "2021-12-07T18:15:04.407Z"
   },
   {
    "duration": 69,
    "start_time": "2021-12-07T18:15:04.443Z"
   },
   {
    "duration": 8,
    "start_time": "2021-12-07T18:15:04.514Z"
   },
   {
    "duration": 34,
    "start_time": "2021-12-07T18:15:04.524Z"
   },
   {
    "duration": 21,
    "start_time": "2021-12-07T18:15:04.559Z"
   },
   {
    "duration": 10,
    "start_time": "2021-12-07T18:15:04.581Z"
   },
   {
    "duration": 6,
    "start_time": "2021-12-07T18:15:04.593Z"
   },
   {
    "duration": 9,
    "start_time": "2021-12-07T18:15:04.601Z"
   },
   {
    "duration": 51,
    "start_time": "2021-12-07T18:15:04.612Z"
   },
   {
    "duration": 10,
    "start_time": "2021-12-07T18:15:04.665Z"
   },
   {
    "duration": 38,
    "start_time": "2021-12-07T18:15:04.677Z"
   },
   {
    "duration": 10,
    "start_time": "2021-12-07T18:15:04.717Z"
   },
   {
    "duration": 16,
    "start_time": "2021-12-07T18:15:04.745Z"
   },
   {
    "duration": 7,
    "start_time": "2021-12-07T18:15:04.763Z"
   },
   {
    "duration": 28,
    "start_time": "2021-12-07T18:15:04.772Z"
   },
   {
    "duration": 12,
    "start_time": "2021-12-07T18:15:04.802Z"
   },
   {
    "duration": 41,
    "start_time": "2021-12-07T18:15:04.816Z"
   },
   {
    "duration": 7,
    "start_time": "2021-12-07T18:15:04.858Z"
   },
   {
    "duration": 25,
    "start_time": "2021-12-07T18:15:04.866Z"
   },
   {
    "duration": 12,
    "start_time": "2021-12-07T18:15:04.893Z"
   },
   {
    "duration": 59,
    "start_time": "2021-12-07T18:15:04.906Z"
   },
   {
    "duration": 8,
    "start_time": "2021-12-07T18:15:04.967Z"
   },
   {
    "duration": 5,
    "start_time": "2021-12-07T18:15:04.976Z"
   },
   {
    "duration": 5,
    "start_time": "2021-12-07T18:15:04.982Z"
   },
   {
    "duration": 114,
    "start_time": "2021-12-07T18:15:04.989Z"
   },
   {
    "duration": 6,
    "start_time": "2021-12-07T18:15:05.105Z"
   },
   {
    "duration": 12,
    "start_time": "2021-12-07T18:15:05.113Z"
   },
   {
    "duration": 979,
    "start_time": "2021-12-07T18:15:05.126Z"
   },
   {
    "duration": 5,
    "start_time": "2021-12-07T18:15:06.107Z"
   },
   {
    "duration": 9,
    "start_time": "2021-12-07T18:15:06.114Z"
   },
   {
    "duration": 5,
    "start_time": "2021-12-07T18:15:06.125Z"
   },
   {
    "duration": 350,
    "start_time": "2021-12-07T18:15:06.145Z"
   },
   {
    "duration": 5,
    "start_time": "2021-12-07T18:15:06.497Z"
   },
   {
    "duration": 275,
    "start_time": "2021-12-07T18:15:06.504Z"
   },
   {
    "duration": 5,
    "start_time": "2021-12-07T18:15:06.781Z"
   },
   {
    "duration": 271,
    "start_time": "2021-12-07T18:15:06.788Z"
   },
   {
    "duration": 6,
    "start_time": "2021-12-07T18:15:07.061Z"
   },
   {
    "duration": 266,
    "start_time": "2021-12-07T18:15:07.069Z"
   },
   {
    "duration": 6,
    "start_time": "2021-12-07T18:15:07.344Z"
   },
   {
    "duration": 288,
    "start_time": "2021-12-07T18:15:07.351Z"
   },
   {
    "duration": 5,
    "start_time": "2021-12-07T18:15:07.641Z"
   },
   {
    "duration": 352,
    "start_time": "2021-12-07T18:15:07.648Z"
   },
   {
    "duration": 12,
    "start_time": "2021-12-07T18:15:08.002Z"
   },
   {
    "duration": 10,
    "start_time": "2021-12-07T18:15:08.015Z"
   },
   {
    "duration": 23,
    "start_time": "2021-12-07T18:15:08.027Z"
   },
   {
    "duration": 201,
    "start_time": "2021-12-07T18:17:09.063Z"
   },
   {
    "duration": 1523,
    "start_time": "2021-12-07T18:17:16.541Z"
   },
   {
    "duration": 12,
    "start_time": "2021-12-07T18:17:18.065Z"
   },
   {
    "duration": 21,
    "start_time": "2021-12-07T18:17:18.081Z"
   },
   {
    "duration": 9,
    "start_time": "2021-12-07T18:17:18.103Z"
   },
   {
    "duration": 19,
    "start_time": "2021-12-07T18:17:18.113Z"
   },
   {
    "duration": 17,
    "start_time": "2021-12-07T18:17:18.133Z"
   },
   {
    "duration": 16,
    "start_time": "2021-12-07T18:17:18.152Z"
   },
   {
    "duration": 8,
    "start_time": "2021-12-07T18:17:18.170Z"
   },
   {
    "duration": 15,
    "start_time": "2021-12-07T18:17:18.180Z"
   },
   {
    "duration": 13,
    "start_time": "2021-12-07T18:17:18.196Z"
   },
   {
    "duration": 14,
    "start_time": "2021-12-07T18:17:18.210Z"
   },
   {
    "duration": 35,
    "start_time": "2021-12-07T18:17:18.226Z"
   },
   {
    "duration": 17,
    "start_time": "2021-12-07T18:17:18.263Z"
   },
   {
    "duration": 14,
    "start_time": "2021-12-07T18:17:18.281Z"
   },
   {
    "duration": 5,
    "start_time": "2021-12-07T18:17:18.297Z"
   },
   {
    "duration": 45,
    "start_time": "2021-12-07T18:17:18.304Z"
   },
   {
    "duration": 33,
    "start_time": "2021-12-07T18:17:18.350Z"
   },
   {
    "duration": 15,
    "start_time": "2021-12-07T18:17:18.385Z"
   },
   {
    "duration": 113,
    "start_time": "2021-12-07T18:17:18.402Z"
   },
   {
    "duration": 13,
    "start_time": "2021-12-07T18:17:18.516Z"
   },
   {
    "duration": 266,
    "start_time": "2021-12-07T18:17:18.532Z"
   },
   {
    "duration": 237,
    "start_time": "2021-12-07T18:17:18.803Z"
   },
   {
    "duration": 407,
    "start_time": "2021-12-07T18:17:19.045Z"
   },
   {
    "duration": -483,
    "start_time": "2021-12-07T18:17:19.938Z"
   },
   {
    "duration": -485,
    "start_time": "2021-12-07T18:17:19.942Z"
   },
   {
    "duration": -488,
    "start_time": "2021-12-07T18:17:19.946Z"
   },
   {
    "duration": -491,
    "start_time": "2021-12-07T18:17:19.951Z"
   },
   {
    "duration": -493,
    "start_time": "2021-12-07T18:17:19.954Z"
   },
   {
    "duration": -497,
    "start_time": "2021-12-07T18:17:19.959Z"
   },
   {
    "duration": -498,
    "start_time": "2021-12-07T18:17:19.962Z"
   },
   {
    "duration": -509,
    "start_time": "2021-12-07T18:17:19.974Z"
   },
   {
    "duration": -511,
    "start_time": "2021-12-07T18:17:19.978Z"
   },
   {
    "duration": -515,
    "start_time": "2021-12-07T18:17:19.983Z"
   },
   {
    "duration": -517,
    "start_time": "2021-12-07T18:17:19.987Z"
   },
   {
    "duration": -521,
    "start_time": "2021-12-07T18:17:19.992Z"
   },
   {
    "duration": -524,
    "start_time": "2021-12-07T18:17:19.996Z"
   },
   {
    "duration": -527,
    "start_time": "2021-12-07T18:17:20.001Z"
   },
   {
    "duration": -530,
    "start_time": "2021-12-07T18:17:20.005Z"
   },
   {
    "duration": -533,
    "start_time": "2021-12-07T18:17:20.010Z"
   },
   {
    "duration": -537,
    "start_time": "2021-12-07T18:17:20.015Z"
   },
   {
    "duration": -552,
    "start_time": "2021-12-07T18:17:20.031Z"
   },
   {
    "duration": -554,
    "start_time": "2021-12-07T18:17:20.035Z"
   },
   {
    "duration": -560,
    "start_time": "2021-12-07T18:17:20.042Z"
   },
   {
    "duration": -561,
    "start_time": "2021-12-07T18:17:20.045Z"
   },
   {
    "duration": -564,
    "start_time": "2021-12-07T18:17:20.049Z"
   },
   {
    "duration": -566,
    "start_time": "2021-12-07T18:17:20.053Z"
   },
   {
    "duration": -568,
    "start_time": "2021-12-07T18:17:20.056Z"
   },
   {
    "duration": -571,
    "start_time": "2021-12-07T18:17:20.060Z"
   },
   {
    "duration": -573,
    "start_time": "2021-12-07T18:17:20.064Z"
   },
   {
    "duration": -575,
    "start_time": "2021-12-07T18:17:20.067Z"
   },
   {
    "duration": -578,
    "start_time": "2021-12-07T18:17:20.071Z"
   },
   {
    "duration": -531,
    "start_time": "2021-12-07T18:17:20.075Z"
   },
   {
    "duration": -533,
    "start_time": "2021-12-07T18:17:20.079Z"
   },
   {
    "duration": -535,
    "start_time": "2021-12-07T18:17:20.083Z"
   },
   {
    "duration": -539,
    "start_time": "2021-12-07T18:17:20.088Z"
   },
   {
    "duration": -543,
    "start_time": "2021-12-07T18:17:20.093Z"
   },
   {
    "duration": -545,
    "start_time": "2021-12-07T18:17:20.097Z"
   },
   {
    "duration": -546,
    "start_time": "2021-12-07T18:17:20.100Z"
   },
   {
    "duration": -549,
    "start_time": "2021-12-07T18:17:20.104Z"
   },
   {
    "duration": -551,
    "start_time": "2021-12-07T18:17:20.108Z"
   },
   {
    "duration": -554,
    "start_time": "2021-12-07T18:17:20.112Z"
   },
   {
    "duration": -556,
    "start_time": "2021-12-07T18:17:20.115Z"
   },
   {
    "duration": -558,
    "start_time": "2021-12-07T18:17:20.119Z"
   },
   {
    "duration": -561,
    "start_time": "2021-12-07T18:17:20.123Z"
   },
   {
    "duration": -563,
    "start_time": "2021-12-07T18:17:20.127Z"
   },
   {
    "duration": -576,
    "start_time": "2021-12-07T18:17:20.141Z"
   },
   {
    "duration": -578,
    "start_time": "2021-12-07T18:17:20.145Z"
   },
   {
    "duration": -581,
    "start_time": "2021-12-07T18:17:20.149Z"
   },
   {
    "duration": 1595,
    "start_time": "2021-12-07T18:23:47.566Z"
   },
   {
    "duration": 12,
    "start_time": "2021-12-07T18:23:49.163Z"
   },
   {
    "duration": 20,
    "start_time": "2021-12-07T18:23:49.179Z"
   },
   {
    "duration": 8,
    "start_time": "2021-12-07T18:23:49.201Z"
   },
   {
    "duration": 19,
    "start_time": "2021-12-07T18:23:49.211Z"
   },
   {
    "duration": 8,
    "start_time": "2021-12-07T18:23:49.244Z"
   },
   {
    "duration": 15,
    "start_time": "2021-12-07T18:23:49.254Z"
   },
   {
    "duration": 14,
    "start_time": "2021-12-07T18:23:49.271Z"
   },
   {
    "duration": 9,
    "start_time": "2021-12-07T18:23:49.287Z"
   },
   {
    "duration": 13,
    "start_time": "2021-12-07T18:23:49.298Z"
   },
   {
    "duration": 11,
    "start_time": "2021-12-07T18:23:49.312Z"
   },
   {
    "duration": 34,
    "start_time": "2021-12-07T18:23:49.325Z"
   },
   {
    "duration": 16,
    "start_time": "2021-12-07T18:23:49.361Z"
   },
   {
    "duration": 14,
    "start_time": "2021-12-07T18:23:49.379Z"
   },
   {
    "duration": 7,
    "start_time": "2021-12-07T18:23:49.395Z"
   },
   {
    "duration": 17,
    "start_time": "2021-12-07T18:23:49.404Z"
   },
   {
    "duration": 54,
    "start_time": "2021-12-07T18:23:49.423Z"
   },
   {
    "duration": 14,
    "start_time": "2021-12-07T18:23:49.479Z"
   },
   {
    "duration": 106,
    "start_time": "2021-12-07T18:23:49.495Z"
   },
   {
    "duration": 12,
    "start_time": "2021-12-07T18:23:49.603Z"
   },
   {
    "duration": 263,
    "start_time": "2021-12-07T18:23:49.617Z"
   },
   {
    "duration": 20,
    "start_time": "2021-12-07T18:23:49.884Z"
   },
   {
    "duration": 81,
    "start_time": "2021-12-07T18:23:49.907Z"
   },
   {
    "duration": 9,
    "start_time": "2021-12-07T18:23:49.990Z"
   },
   {
    "duration": 34,
    "start_time": "2021-12-07T18:23:50.001Z"
   },
   {
    "duration": 20,
    "start_time": "2021-12-07T18:23:50.037Z"
   },
   {
    "duration": 10,
    "start_time": "2021-12-07T18:23:50.059Z"
   },
   {
    "duration": 5,
    "start_time": "2021-12-07T18:23:50.071Z"
   },
   {
    "duration": 9,
    "start_time": "2021-12-07T18:23:50.078Z"
   },
   {
    "duration": 26,
    "start_time": "2021-12-07T18:23:50.089Z"
   },
   {
    "duration": 30,
    "start_time": "2021-12-07T18:23:50.117Z"
   },
   {
    "duration": 37,
    "start_time": "2021-12-07T18:23:50.149Z"
   },
   {
    "duration": 10,
    "start_time": "2021-12-07T18:23:50.188Z"
   },
   {
    "duration": 22,
    "start_time": "2021-12-07T18:23:50.199Z"
   },
   {
    "duration": 29,
    "start_time": "2021-12-07T18:23:50.222Z"
   },
   {
    "duration": 33,
    "start_time": "2021-12-07T18:23:50.253Z"
   },
   {
    "duration": 12,
    "start_time": "2021-12-07T18:23:50.287Z"
   },
   {
    "duration": 17,
    "start_time": "2021-12-07T18:23:50.300Z"
   },
   {
    "duration": 7,
    "start_time": "2021-12-07T18:23:50.318Z"
   },
   {
    "duration": 44,
    "start_time": "2021-12-07T18:23:50.326Z"
   },
   {
    "duration": 10,
    "start_time": "2021-12-07T18:23:50.372Z"
   },
   {
    "duration": 37,
    "start_time": "2021-12-07T18:23:50.384Z"
   },
   {
    "duration": 28,
    "start_time": "2021-12-07T18:23:50.423Z"
   },
   {
    "duration": 5,
    "start_time": "2021-12-07T18:23:50.453Z"
   },
   {
    "duration": 7,
    "start_time": "2021-12-07T18:23:50.459Z"
   },
   {
    "duration": 132,
    "start_time": "2021-12-07T18:23:50.467Z"
   },
   {
    "duration": 7,
    "start_time": "2021-12-07T18:23:50.600Z"
   },
   {
    "duration": 13,
    "start_time": "2021-12-07T18:23:50.608Z"
   },
   {
    "duration": 1554,
    "start_time": "2021-12-07T18:23:50.623Z"
   },
   {
    "duration": 5,
    "start_time": "2021-12-07T18:23:52.179Z"
   },
   {
    "duration": 6,
    "start_time": "2021-12-07T18:23:52.186Z"
   },
   {
    "duration": 7,
    "start_time": "2021-12-07T18:23:52.194Z"
   },
   {
    "duration": 454,
    "start_time": "2021-12-07T18:23:52.202Z"
   },
   {
    "duration": 5,
    "start_time": "2021-12-07T18:23:52.658Z"
   },
   {
    "duration": 286,
    "start_time": "2021-12-07T18:23:52.665Z"
   },
   {
    "duration": 5,
    "start_time": "2021-12-07T18:23:52.952Z"
   },
   {
    "duration": 266,
    "start_time": "2021-12-07T18:23:52.959Z"
   },
   {
    "duration": 6,
    "start_time": "2021-12-07T18:23:53.226Z"
   },
   {
    "duration": 325,
    "start_time": "2021-12-07T18:23:53.233Z"
   },
   {
    "duration": 6,
    "start_time": "2021-12-07T18:23:53.560Z"
   },
   {
    "duration": 291,
    "start_time": "2021-12-07T18:23:53.569Z"
   },
   {
    "duration": 6,
    "start_time": "2021-12-07T18:23:53.862Z"
   },
   {
    "duration": 281,
    "start_time": "2021-12-07T18:23:53.870Z"
   },
   {
    "duration": 13,
    "start_time": "2021-12-07T18:23:54.153Z"
   },
   {
    "duration": 10,
    "start_time": "2021-12-07T18:23:54.168Z"
   },
   {
    "duration": 14,
    "start_time": "2021-12-07T18:23:54.179Z"
   },
   {
    "duration": 117,
    "start_time": "2021-12-07T18:58:43.563Z"
   },
   {
    "duration": 4,
    "start_time": "2021-12-07T19:03:19.256Z"
   },
   {
    "duration": 21,
    "start_time": "2021-12-07T19:03:25.232Z"
   },
   {
    "duration": 21,
    "start_time": "2021-12-07T19:04:32.671Z"
   },
   {
    "duration": 1534,
    "start_time": "2021-12-07T19:08:04.843Z"
   },
   {
    "duration": 12,
    "start_time": "2021-12-07T19:08:06.379Z"
   },
   {
    "duration": 21,
    "start_time": "2021-12-07T19:08:06.395Z"
   },
   {
    "duration": 10,
    "start_time": "2021-12-07T19:08:06.418Z"
   },
   {
    "duration": 22,
    "start_time": "2021-12-07T19:08:06.430Z"
   },
   {
    "duration": 8,
    "start_time": "2021-12-07T19:08:06.454Z"
   },
   {
    "duration": 17,
    "start_time": "2021-12-07T19:08:06.464Z"
   },
   {
    "duration": 7,
    "start_time": "2021-12-07T19:08:06.483Z"
   },
   {
    "duration": 10,
    "start_time": "2021-12-07T19:08:06.491Z"
   },
   {
    "duration": 13,
    "start_time": "2021-12-07T19:08:06.502Z"
   },
   {
    "duration": 29,
    "start_time": "2021-12-07T19:08:06.516Z"
   },
   {
    "duration": 20,
    "start_time": "2021-12-07T19:08:06.547Z"
   },
   {
    "duration": 16,
    "start_time": "2021-12-07T19:08:06.569Z"
   },
   {
    "duration": 14,
    "start_time": "2021-12-07T19:08:06.587Z"
   },
   {
    "duration": 6,
    "start_time": "2021-12-07T19:08:06.603Z"
   },
   {
    "duration": 7,
    "start_time": "2021-12-07T19:08:06.610Z"
   },
   {
    "duration": 47,
    "start_time": "2021-12-07T19:08:06.645Z"
   },
   {
    "duration": 16,
    "start_time": "2021-12-07T19:08:06.695Z"
   },
   {
    "duration": 119,
    "start_time": "2021-12-07T19:08:06.713Z"
   },
   {
    "duration": 17,
    "start_time": "2021-12-07T19:08:06.833Z"
   },
   {
    "duration": 280,
    "start_time": "2021-12-07T19:08:06.853Z"
   },
   {
    "duration": 25,
    "start_time": "2021-12-07T19:08:07.137Z"
   },
   {
    "duration": 86,
    "start_time": "2021-12-07T19:08:07.165Z"
   },
   {
    "duration": 8,
    "start_time": "2021-12-07T19:08:07.253Z"
   },
   {
    "duration": 21,
    "start_time": "2021-12-07T19:08:07.263Z"
   },
   {
    "duration": 19,
    "start_time": "2021-12-07T19:08:07.286Z"
   },
   {
    "duration": 10,
    "start_time": "2021-12-07T19:08:07.307Z"
   },
   {
    "duration": 5,
    "start_time": "2021-12-07T19:08:07.344Z"
   },
   {
    "duration": 9,
    "start_time": "2021-12-07T19:08:07.351Z"
   },
   {
    "duration": 26,
    "start_time": "2021-12-07T19:08:07.361Z"
   },
   {
    "duration": 10,
    "start_time": "2021-12-07T19:08:07.389Z"
   },
   {
    "duration": 60,
    "start_time": "2021-12-07T19:08:07.401Z"
   },
   {
    "duration": 11,
    "start_time": "2021-12-07T19:08:07.463Z"
   },
   {
    "duration": 18,
    "start_time": "2021-12-07T19:08:07.476Z"
   },
   {
    "duration": 8,
    "start_time": "2021-12-07T19:08:07.495Z"
   },
   {
    "duration": 52,
    "start_time": "2021-12-07T19:08:07.505Z"
   },
   {
    "duration": 11,
    "start_time": "2021-12-07T19:08:07.558Z"
   },
   {
    "duration": 19,
    "start_time": "2021-12-07T19:08:07.571Z"
   },
   {
    "duration": 8,
    "start_time": "2021-12-07T19:08:07.592Z"
   },
   {
    "duration": 53,
    "start_time": "2021-12-07T19:08:07.602Z"
   },
   {
    "duration": 13,
    "start_time": "2021-12-07T19:08:07.656Z"
   },
   {
    "duration": 39,
    "start_time": "2021-12-07T19:08:07.671Z"
   },
   {
    "duration": 32,
    "start_time": "2021-12-07T19:08:07.712Z"
   },
   {
    "duration": 21,
    "start_time": "2021-12-07T19:08:07.746Z"
   },
   {
    "duration": 10028,
    "start_time": "2021-12-07T19:08:07.769Z"
   },
   {
    "duration": -544,
    "start_time": "2021-12-07T19:08:18.342Z"
   },
   {
    "duration": -547,
    "start_time": "2021-12-07T19:08:18.346Z"
   },
   {
    "duration": -550,
    "start_time": "2021-12-07T19:08:18.350Z"
   },
   {
    "duration": -552,
    "start_time": "2021-12-07T19:08:18.353Z"
   },
   {
    "duration": -556,
    "start_time": "2021-12-07T19:08:18.358Z"
   },
   {
    "duration": -559,
    "start_time": "2021-12-07T19:08:18.362Z"
   },
   {
    "duration": -562,
    "start_time": "2021-12-07T19:08:18.366Z"
   },
   {
    "duration": -567,
    "start_time": "2021-12-07T19:08:18.372Z"
   },
   {
    "duration": -570,
    "start_time": "2021-12-07T19:08:18.376Z"
   },
   {
    "duration": -574,
    "start_time": "2021-12-07T19:08:18.380Z"
   },
   {
    "duration": -577,
    "start_time": "2021-12-07T19:08:18.384Z"
   },
   {
    "duration": -580,
    "start_time": "2021-12-07T19:08:18.388Z"
   },
   {
    "duration": -585,
    "start_time": "2021-12-07T19:08:18.394Z"
   },
   {
    "duration": -588,
    "start_time": "2021-12-07T19:08:18.398Z"
   },
   {
    "duration": -591,
    "start_time": "2021-12-07T19:08:18.402Z"
   },
   {
    "duration": -604,
    "start_time": "2021-12-07T19:08:18.416Z"
   },
   {
    "duration": -606,
    "start_time": "2021-12-07T19:08:18.420Z"
   },
   {
    "duration": -610,
    "start_time": "2021-12-07T19:08:18.425Z"
   },
   {
    "duration": -615,
    "start_time": "2021-12-07T19:08:18.430Z"
   },
   {
    "duration": -618,
    "start_time": "2021-12-07T19:08:18.434Z"
   },
   {
    "duration": -621,
    "start_time": "2021-12-07T19:08:18.438Z"
   },
   {
    "duration": -624,
    "start_time": "2021-12-07T19:08:18.442Z"
   },
   {
    "duration": 5,
    "start_time": "2021-12-07T19:09:51.573Z"
   },
   {
    "duration": 6,
    "start_time": "2021-12-07T19:09:55.350Z"
   },
   {
    "duration": 1571,
    "start_time": "2021-12-07T19:10:02.891Z"
   },
   {
    "duration": 13,
    "start_time": "2021-12-07T19:10:04.465Z"
   },
   {
    "duration": 28,
    "start_time": "2021-12-07T19:10:04.480Z"
   },
   {
    "duration": 9,
    "start_time": "2021-12-07T19:10:04.510Z"
   },
   {
    "duration": 23,
    "start_time": "2021-12-07T19:10:04.521Z"
   },
   {
    "duration": 8,
    "start_time": "2021-12-07T19:10:04.546Z"
   },
   {
    "duration": 15,
    "start_time": "2021-12-07T19:10:04.556Z"
   },
   {
    "duration": 9,
    "start_time": "2021-12-07T19:10:04.573Z"
   },
   {
    "duration": 9,
    "start_time": "2021-12-07T19:10:04.584Z"
   },
   {
    "duration": 12,
    "start_time": "2021-12-07T19:10:04.595Z"
   },
   {
    "duration": 39,
    "start_time": "2021-12-07T19:10:04.609Z"
   },
   {
    "duration": 19,
    "start_time": "2021-12-07T19:10:04.650Z"
   },
   {
    "duration": 15,
    "start_time": "2021-12-07T19:10:04.671Z"
   },
   {
    "duration": 18,
    "start_time": "2021-12-07T19:10:04.687Z"
   },
   {
    "duration": 6,
    "start_time": "2021-12-07T19:10:04.707Z"
   },
   {
    "duration": 32,
    "start_time": "2021-12-07T19:10:04.714Z"
   },
   {
    "duration": 33,
    "start_time": "2021-12-07T19:10:04.747Z"
   },
   {
    "duration": 13,
    "start_time": "2021-12-07T19:10:04.782Z"
   },
   {
    "duration": 117,
    "start_time": "2021-12-07T19:10:04.797Z"
   },
   {
    "duration": 11,
    "start_time": "2021-12-07T19:10:04.916Z"
   },
   {
    "duration": 272,
    "start_time": "2021-12-07T19:10:04.929Z"
   },
   {
    "duration": 21,
    "start_time": "2021-12-07T19:10:05.203Z"
   },
   {
    "duration": 83,
    "start_time": "2021-12-07T19:10:05.226Z"
   },
   {
    "duration": 8,
    "start_time": "2021-12-07T19:10:05.311Z"
   },
   {
    "duration": 35,
    "start_time": "2021-12-07T19:10:05.320Z"
   },
   {
    "duration": 21,
    "start_time": "2021-12-07T19:10:05.356Z"
   },
   {
    "duration": 11,
    "start_time": "2021-12-07T19:10:05.381Z"
   },
   {
    "duration": 6,
    "start_time": "2021-12-07T19:10:05.394Z"
   },
   {
    "duration": 10,
    "start_time": "2021-12-07T19:10:05.402Z"
   },
   {
    "duration": 50,
    "start_time": "2021-12-07T19:10:05.414Z"
   },
   {
    "duration": 10,
    "start_time": "2021-12-07T19:10:05.466Z"
   },
   {
    "duration": 44,
    "start_time": "2021-12-07T19:10:05.478Z"
   },
   {
    "duration": 26,
    "start_time": "2021-12-07T19:10:05.523Z"
   },
   {
    "duration": 19,
    "start_time": "2021-12-07T19:10:05.551Z"
   },
   {
    "duration": 10,
    "start_time": "2021-12-07T19:10:05.572Z"
   },
   {
    "duration": 39,
    "start_time": "2021-12-07T19:10:05.584Z"
   },
   {
    "duration": 25,
    "start_time": "2021-12-07T19:10:05.625Z"
   },
   {
    "duration": 26,
    "start_time": "2021-12-07T19:10:05.652Z"
   },
   {
    "duration": 12,
    "start_time": "2021-12-07T19:10:05.679Z"
   },
   {
    "duration": 34,
    "start_time": "2021-12-07T19:10:05.693Z"
   },
   {
    "duration": 10,
    "start_time": "2021-12-07T19:10:05.729Z"
   },
   {
    "duration": 41,
    "start_time": "2021-12-07T19:10:05.741Z"
   },
   {
    "duration": 9,
    "start_time": "2021-12-07T19:10:05.784Z"
   },
   {
    "duration": 20,
    "start_time": "2021-12-07T19:10:05.794Z"
   },
   {
    "duration": 20,
    "start_time": "2021-12-07T19:10:05.815Z"
   },
   {
    "duration": 10,
    "start_time": "2021-12-07T19:10:05.837Z"
   },
   {
    "duration": 118,
    "start_time": "2021-12-07T19:10:05.849Z"
   },
   {
    "duration": 7,
    "start_time": "2021-12-07T19:10:05.968Z"
   },
   {
    "duration": 12,
    "start_time": "2021-12-07T19:10:05.977Z"
   },
   {
    "duration": 990,
    "start_time": "2021-12-07T19:10:05.990Z"
   },
   {
    "duration": 6,
    "start_time": "2021-12-07T19:10:06.982Z"
   },
   {
    "duration": 6,
    "start_time": "2021-12-07T19:10:06.990Z"
   },
   {
    "duration": 6,
    "start_time": "2021-12-07T19:10:06.998Z"
   },
   {
    "duration": 376,
    "start_time": "2021-12-07T19:10:07.006Z"
   },
   {
    "duration": 5,
    "start_time": "2021-12-07T19:10:07.384Z"
   },
   {
    "duration": 313,
    "start_time": "2021-12-07T19:10:07.391Z"
   },
   {
    "duration": 5,
    "start_time": "2021-12-07T19:10:07.706Z"
   },
   {
    "duration": 288,
    "start_time": "2021-12-07T19:10:07.713Z"
   },
   {
    "duration": 6,
    "start_time": "2021-12-07T19:10:08.002Z"
   },
   {
    "duration": 275,
    "start_time": "2021-12-07T19:10:08.009Z"
   },
   {
    "duration": 5,
    "start_time": "2021-12-07T19:10:08.286Z"
   },
   {
    "duration": 289,
    "start_time": "2021-12-07T19:10:08.293Z"
   },
   {
    "duration": 7,
    "start_time": "2021-12-07T19:10:08.584Z"
   },
   {
    "duration": 299,
    "start_time": "2021-12-07T19:10:08.593Z"
   },
   {
    "duration": 12,
    "start_time": "2021-12-07T19:10:08.894Z"
   },
   {
    "duration": 9,
    "start_time": "2021-12-07T19:10:08.908Z"
   },
   {
    "duration": 13,
    "start_time": "2021-12-07T19:10:08.919Z"
   },
   {
    "duration": 7,
    "start_time": "2021-12-07T20:49:13.560Z"
   },
   {
    "duration": 6,
    "start_time": "2021-12-07T20:50:17.958Z"
   },
   {
    "duration": 9,
    "start_time": "2021-12-07T20:51:57.036Z"
   },
   {
    "duration": 1544,
    "start_time": "2021-12-07T20:52:51.503Z"
   },
   {
    "duration": 10,
    "start_time": "2021-12-07T20:52:53.049Z"
   },
   {
    "duration": 21,
    "start_time": "2021-12-07T20:52:53.061Z"
   },
   {
    "duration": 8,
    "start_time": "2021-12-07T20:52:53.084Z"
   },
   {
    "duration": 17,
    "start_time": "2021-12-07T20:52:53.094Z"
   },
   {
    "duration": 34,
    "start_time": "2021-12-07T20:52:53.112Z"
   },
   {
    "duration": 18,
    "start_time": "2021-12-07T20:52:53.148Z"
   },
   {
    "duration": 11,
    "start_time": "2021-12-07T20:52:53.168Z"
   },
   {
    "duration": 7,
    "start_time": "2021-12-07T20:52:53.181Z"
   },
   {
    "duration": 12,
    "start_time": "2021-12-07T20:52:53.189Z"
   },
   {
    "duration": 8,
    "start_time": "2021-12-07T20:52:53.202Z"
   },
   {
    "duration": 41,
    "start_time": "2021-12-07T20:52:53.211Z"
   },
   {
    "duration": 17,
    "start_time": "2021-12-07T20:52:53.254Z"
   },
   {
    "duration": 14,
    "start_time": "2021-12-07T20:52:53.273Z"
   },
   {
    "duration": 6,
    "start_time": "2021-12-07T20:52:53.289Z"
   },
   {
    "duration": 8,
    "start_time": "2021-12-07T20:52:53.296Z"
   },
   {
    "duration": 72,
    "start_time": "2021-12-07T20:52:53.306Z"
   },
   {
    "duration": 16,
    "start_time": "2021-12-07T20:52:53.380Z"
   },
   {
    "duration": 97,
    "start_time": "2021-12-07T20:52:53.398Z"
   },
   {
    "duration": 11,
    "start_time": "2021-12-07T20:52:53.496Z"
   },
   {
    "duration": 277,
    "start_time": "2021-12-07T20:52:53.508Z"
   },
   {
    "duration": 21,
    "start_time": "2021-12-07T20:52:53.787Z"
   },
   {
    "duration": 84,
    "start_time": "2021-12-07T20:52:53.812Z"
   },
   {
    "duration": 10,
    "start_time": "2021-12-07T20:52:53.898Z"
   },
   {
    "duration": 34,
    "start_time": "2021-12-07T20:52:53.910Z"
   },
   {
    "duration": 20,
    "start_time": "2021-12-07T20:52:53.946Z"
   },
   {
    "duration": 11,
    "start_time": "2021-12-07T20:52:53.968Z"
   },
   {
    "duration": 5,
    "start_time": "2021-12-07T20:52:53.980Z"
   },
   {
    "duration": 8,
    "start_time": "2021-12-07T20:52:53.986Z"
   },
   {
    "duration": 53,
    "start_time": "2021-12-07T20:52:53.995Z"
   },
   {
    "duration": 11,
    "start_time": "2021-12-07T20:52:54.050Z"
   },
   {
    "duration": 39,
    "start_time": "2021-12-07T20:52:54.063Z"
   },
   {
    "duration": 11,
    "start_time": "2021-12-07T20:52:54.104Z"
   },
   {
    "duration": 34,
    "start_time": "2021-12-07T20:52:54.117Z"
   },
   {
    "duration": 9,
    "start_time": "2021-12-07T20:52:54.152Z"
   },
   {
    "duration": 27,
    "start_time": "2021-12-07T20:52:54.163Z"
   },
   {
    "duration": 10,
    "start_time": "2021-12-07T20:52:54.192Z"
   },
   {
    "duration": 41,
    "start_time": "2021-12-07T20:52:54.203Z"
   },
   {
    "duration": 6,
    "start_time": "2021-12-07T20:52:54.246Z"
   },
   {
    "duration": 25,
    "start_time": "2021-12-07T20:52:54.254Z"
   },
   {
    "duration": 11,
    "start_time": "2021-12-07T20:52:54.281Z"
   },
   {
    "duration": 58,
    "start_time": "2021-12-07T20:52:54.294Z"
   },
   {
    "duration": 10,
    "start_time": "2021-12-07T20:52:54.354Z"
   },
   {
    "duration": 21,
    "start_time": "2021-12-07T20:52:54.365Z"
   },
   {
    "duration": 13,
    "start_time": "2021-12-07T20:52:54.388Z"
   },
   {
    "duration": 31,
    "start_time": "2021-12-07T20:52:54.403Z"
   },
   {
    "duration": 131,
    "start_time": "2021-12-07T20:52:54.435Z"
   },
   {
    "duration": 8,
    "start_time": "2021-12-07T20:52:54.568Z"
   },
   {
    "duration": 18,
    "start_time": "2021-12-07T20:52:54.578Z"
   },
   {
    "duration": 28,
    "start_time": "2021-12-07T20:52:54.598Z"
   },
   {
    "duration": 13,
    "start_time": "2021-12-07T20:52:54.628Z"
   },
   {
    "duration": 6,
    "start_time": "2021-12-07T20:52:54.642Z"
   },
   {
    "duration": 272,
    "start_time": "2021-12-07T20:52:54.649Z"
   },
   {
    "duration": 6,
    "start_time": "2021-12-07T20:52:54.923Z"
   },
   {
    "duration": 292,
    "start_time": "2021-12-07T20:52:54.931Z"
   },
   {
    "duration": 6,
    "start_time": "2021-12-07T20:52:55.225Z"
   },
   {
    "duration": 331,
    "start_time": "2021-12-07T20:52:55.233Z"
   },
   {
    "duration": 5,
    "start_time": "2021-12-07T20:52:55.566Z"
   },
   {
    "duration": 278,
    "start_time": "2021-12-07T20:52:55.573Z"
   },
   {
    "duration": 6,
    "start_time": "2021-12-07T20:52:55.853Z"
   },
   {
    "duration": 277,
    "start_time": "2021-12-07T20:52:55.861Z"
   },
   {
    "duration": 5,
    "start_time": "2021-12-07T20:52:56.144Z"
   },
   {
    "duration": 264,
    "start_time": "2021-12-07T20:52:56.151Z"
   },
   {
    "duration": 12,
    "start_time": "2021-12-07T20:52:56.417Z"
   },
   {
    "duration": 21,
    "start_time": "2021-12-07T20:52:56.431Z"
   },
   {
    "duration": 20,
    "start_time": "2021-12-07T20:52:56.453Z"
   },
   {
    "duration": 356,
    "start_time": "2021-12-07T20:53:42.277Z"
   },
   {
    "duration": 10,
    "start_time": "2021-12-07T20:54:46.878Z"
   },
   {
    "duration": 10,
    "start_time": "2021-12-07T20:55:33.836Z"
   },
   {
    "duration": 7,
    "start_time": "2021-12-07T20:55:46.330Z"
   },
   {
    "duration": 18,
    "start_time": "2021-12-07T21:26:14.939Z"
   },
   {
    "duration": 1536,
    "start_time": "2021-12-07T21:47:25.701Z"
   },
   {
    "duration": 12,
    "start_time": "2021-12-07T21:47:27.239Z"
   },
   {
    "duration": 40,
    "start_time": "2021-12-07T21:47:27.253Z"
   },
   {
    "duration": 10,
    "start_time": "2021-12-07T21:47:27.294Z"
   },
   {
    "duration": 35,
    "start_time": "2021-12-07T21:47:27.305Z"
   },
   {
    "duration": 11,
    "start_time": "2021-12-07T21:47:27.341Z"
   },
   {
    "duration": 34,
    "start_time": "2021-12-07T21:47:27.354Z"
   },
   {
    "duration": 14,
    "start_time": "2021-12-07T21:47:27.391Z"
   },
   {
    "duration": 18,
    "start_time": "2021-12-07T21:47:27.407Z"
   },
   {
    "duration": 35,
    "start_time": "2021-12-07T21:47:27.426Z"
   },
   {
    "duration": 18,
    "start_time": "2021-12-07T21:47:27.462Z"
   },
   {
    "duration": 39,
    "start_time": "2021-12-07T21:47:27.481Z"
   },
   {
    "duration": 16,
    "start_time": "2021-12-07T21:47:27.522Z"
   },
   {
    "duration": 25,
    "start_time": "2021-12-07T21:47:27.540Z"
   },
   {
    "duration": 25,
    "start_time": "2021-12-07T21:47:27.566Z"
   },
   {
    "duration": 24,
    "start_time": "2021-12-07T21:47:27.593Z"
   },
   {
    "duration": 38,
    "start_time": "2021-12-07T21:47:27.619Z"
   },
   {
    "duration": 14,
    "start_time": "2021-12-07T21:47:27.658Z"
   },
   {
    "duration": 108,
    "start_time": "2021-12-07T21:47:27.674Z"
   },
   {
    "duration": 11,
    "start_time": "2021-12-07T21:47:27.784Z"
   },
   {
    "duration": 271,
    "start_time": "2021-12-07T21:47:27.797Z"
   },
   {
    "duration": 21,
    "start_time": "2021-12-07T21:47:28.070Z"
   },
   {
    "duration": 80,
    "start_time": "2021-12-07T21:47:28.096Z"
   },
   {
    "duration": 8,
    "start_time": "2021-12-07T21:47:28.178Z"
   },
   {
    "duration": 34,
    "start_time": "2021-12-07T21:47:28.187Z"
   },
   {
    "duration": 28,
    "start_time": "2021-12-07T21:47:28.222Z"
   },
   {
    "duration": 11,
    "start_time": "2021-12-07T21:47:28.252Z"
   },
   {
    "duration": 11,
    "start_time": "2021-12-07T21:47:28.264Z"
   },
   {
    "duration": 31,
    "start_time": "2021-12-07T21:47:28.277Z"
   },
   {
    "duration": 50,
    "start_time": "2021-12-07T21:47:28.310Z"
   },
   {
    "duration": 9,
    "start_time": "2021-12-07T21:47:28.362Z"
   },
   {
    "duration": 54,
    "start_time": "2021-12-07T21:47:28.373Z"
   },
   {
    "duration": 11,
    "start_time": "2021-12-07T21:47:28.429Z"
   },
   {
    "duration": 33,
    "start_time": "2021-12-07T21:47:28.441Z"
   },
   {
    "duration": 15,
    "start_time": "2021-12-07T21:47:28.475Z"
   },
   {
    "duration": 42,
    "start_time": "2021-12-07T21:47:28.492Z"
   },
   {
    "duration": 14,
    "start_time": "2021-12-07T21:47:28.536Z"
   },
   {
    "duration": 46,
    "start_time": "2021-12-07T21:47:28.551Z"
   },
   {
    "duration": 6,
    "start_time": "2021-12-07T21:47:28.599Z"
   },
   {
    "duration": 43,
    "start_time": "2021-12-07T21:47:28.607Z"
   },
   {
    "duration": 22,
    "start_time": "2021-12-07T21:47:28.651Z"
   },
   {
    "duration": 59,
    "start_time": "2021-12-07T21:47:28.675Z"
   },
   {
    "duration": 8,
    "start_time": "2021-12-07T21:47:28.736Z"
   },
   {
    "duration": 25,
    "start_time": "2021-12-07T21:47:28.745Z"
   },
   {
    "duration": 23,
    "start_time": "2021-12-07T21:47:28.771Z"
   },
   {
    "duration": 29,
    "start_time": "2021-12-07T21:47:28.795Z"
   },
   {
    "duration": 139,
    "start_time": "2021-12-07T21:47:28.826Z"
   },
   {
    "duration": 6,
    "start_time": "2021-12-07T21:47:28.966Z"
   },
   {
    "duration": 31,
    "start_time": "2021-12-07T21:47:28.974Z"
   },
   {
    "duration": 36,
    "start_time": "2021-12-07T21:47:29.007Z"
   },
   {
    "duration": 29,
    "start_time": "2021-12-07T21:47:29.045Z"
   },
   {
    "duration": 21,
    "start_time": "2021-12-07T21:47:29.075Z"
   },
   {
    "duration": 290,
    "start_time": "2021-12-07T21:47:29.097Z"
   },
   {
    "duration": 6,
    "start_time": "2021-12-07T21:47:29.389Z"
   },
   {
    "duration": 303,
    "start_time": "2021-12-07T21:47:29.397Z"
   },
   {
    "duration": 5,
    "start_time": "2021-12-07T21:47:29.701Z"
   },
   {
    "duration": 351,
    "start_time": "2021-12-07T21:47:29.708Z"
   },
   {
    "duration": 5,
    "start_time": "2021-12-07T21:47:30.061Z"
   },
   {
    "duration": 300,
    "start_time": "2021-12-07T21:47:30.068Z"
   },
   {
    "duration": 5,
    "start_time": "2021-12-07T21:47:30.369Z"
   },
   {
    "duration": 298,
    "start_time": "2021-12-07T21:47:30.376Z"
   },
   {
    "duration": 5,
    "start_time": "2021-12-07T21:47:30.676Z"
   },
   {
    "duration": 294,
    "start_time": "2021-12-07T21:47:30.682Z"
   },
   {
    "duration": 15,
    "start_time": "2021-12-07T21:47:30.978Z"
   },
   {
    "duration": 42,
    "start_time": "2021-12-07T21:47:30.995Z"
   },
   {
    "duration": 43,
    "start_time": "2021-12-07T21:47:31.039Z"
   },
   {
    "duration": 1581,
    "start_time": "2021-12-08T12:41:23.610Z"
   },
   {
    "duration": 11,
    "start_time": "2021-12-08T12:41:25.192Z"
   },
   {
    "duration": 29,
    "start_time": "2021-12-08T12:41:25.206Z"
   },
   {
    "duration": 9,
    "start_time": "2021-12-08T12:41:25.238Z"
   },
   {
    "duration": 18,
    "start_time": "2021-12-08T12:41:25.249Z"
   },
   {
    "duration": 11,
    "start_time": "2021-12-08T12:41:25.293Z"
   },
   {
    "duration": 16,
    "start_time": "2021-12-08T12:41:25.306Z"
   },
   {
    "duration": 7,
    "start_time": "2021-12-08T12:41:25.326Z"
   },
   {
    "duration": 7,
    "start_time": "2021-12-08T12:41:25.336Z"
   },
   {
    "duration": 12,
    "start_time": "2021-12-08T12:41:25.344Z"
   },
   {
    "duration": 8,
    "start_time": "2021-12-08T12:41:25.392Z"
   },
   {
    "duration": 31,
    "start_time": "2021-12-08T12:41:25.402Z"
   },
   {
    "duration": 16,
    "start_time": "2021-12-08T12:41:25.435Z"
   },
   {
    "duration": 15,
    "start_time": "2021-12-08T12:41:25.453Z"
   },
   {
    "duration": 7,
    "start_time": "2021-12-08T12:41:25.492Z"
   },
   {
    "duration": 8,
    "start_time": "2021-12-08T12:41:25.502Z"
   },
   {
    "duration": 33,
    "start_time": "2021-12-08T12:41:25.512Z"
   },
   {
    "duration": 14,
    "start_time": "2021-12-08T12:41:25.546Z"
   },
   {
    "duration": 129,
    "start_time": "2021-12-08T12:41:25.562Z"
   },
   {
    "duration": 16,
    "start_time": "2021-12-08T12:41:25.694Z"
   },
   {
    "duration": 296,
    "start_time": "2021-12-08T12:41:25.712Z"
   },
   {
    "duration": 27,
    "start_time": "2021-12-08T12:41:26.010Z"
   },
   {
    "duration": 89,
    "start_time": "2021-12-08T12:41:26.041Z"
   },
   {
    "duration": 8,
    "start_time": "2021-12-08T12:41:26.133Z"
   },
   {
    "duration": 19,
    "start_time": "2021-12-08T12:41:26.143Z"
   },
   {
    "duration": 36,
    "start_time": "2021-12-08T12:41:26.164Z"
   },
   {
    "duration": 18,
    "start_time": "2021-12-08T12:41:26.203Z"
   },
   {
    "duration": 6,
    "start_time": "2021-12-08T12:41:26.223Z"
   },
   {
    "duration": 8,
    "start_time": "2021-12-08T12:41:26.231Z"
   },
   {
    "duration": 25,
    "start_time": "2021-12-08T12:41:26.241Z"
   },
   {
    "duration": 20,
    "start_time": "2021-12-08T12:41:26.291Z"
   },
   {
    "duration": 39,
    "start_time": "2021-12-08T12:41:26.313Z"
   },
   {
    "duration": 12,
    "start_time": "2021-12-08T12:41:26.353Z"
   },
   {
    "duration": 35,
    "start_time": "2021-12-08T12:41:26.367Z"
   },
   {
    "duration": 7,
    "start_time": "2021-12-08T12:41:26.404Z"
   },
   {
    "duration": 30,
    "start_time": "2021-12-08T12:41:26.413Z"
   },
   {
    "duration": 11,
    "start_time": "2021-12-08T12:41:26.445Z"
   },
   {
    "duration": 42,
    "start_time": "2021-12-08T12:41:26.458Z"
   },
   {
    "duration": 7,
    "start_time": "2021-12-08T12:41:26.502Z"
   },
   {
    "duration": 26,
    "start_time": "2021-12-08T12:41:26.510Z"
   },
   {
    "duration": 12,
    "start_time": "2021-12-08T12:41:26.538Z"
   },
   {
    "duration": 67,
    "start_time": "2021-12-08T12:41:26.552Z"
   },
   {
    "duration": 5,
    "start_time": "2021-12-08T12:41:26.621Z"
   },
   {
    "duration": 5,
    "start_time": "2021-12-08T12:41:26.628Z"
   },
   {
    "duration": 6,
    "start_time": "2021-12-08T12:41:26.634Z"
   },
   {
    "duration": 7,
    "start_time": "2021-12-08T12:41:26.642Z"
   },
   {
    "duration": 136,
    "start_time": "2021-12-08T12:41:26.650Z"
   },
   {
    "duration": 6,
    "start_time": "2021-12-08T12:41:26.791Z"
   },
   {
    "duration": 23,
    "start_time": "2021-12-08T12:41:26.799Z"
   },
   {
    "duration": 8,
    "start_time": "2021-12-08T12:41:26.824Z"
   },
   {
    "duration": 8,
    "start_time": "2021-12-08T12:41:26.833Z"
   },
   {
    "duration": 13,
    "start_time": "2021-12-08T12:41:26.842Z"
   },
   {
    "duration": 373,
    "start_time": "2021-12-08T12:41:26.856Z"
   },
   {
    "duration": 6,
    "start_time": "2021-12-08T12:41:27.231Z"
   },
   {
    "duration": 343,
    "start_time": "2021-12-08T12:41:27.238Z"
   },
   {
    "duration": 9,
    "start_time": "2021-12-08T12:41:27.582Z"
   },
   {
    "duration": 381,
    "start_time": "2021-12-08T12:41:27.594Z"
   },
   {
    "duration": 6,
    "start_time": "2021-12-08T12:41:27.977Z"
   },
   {
    "duration": 312,
    "start_time": "2021-12-08T12:41:27.992Z"
   },
   {
    "duration": 8,
    "start_time": "2021-12-08T12:41:28.306Z"
   },
   {
    "duration": 332,
    "start_time": "2021-12-08T12:41:28.317Z"
   },
   {
    "duration": 4,
    "start_time": "2021-12-08T12:41:28.651Z"
   },
   {
    "duration": 320,
    "start_time": "2021-12-08T12:41:28.657Z"
   },
   {
    "duration": 18,
    "start_time": "2021-12-08T12:41:28.979Z"
   },
   {
    "duration": 11,
    "start_time": "2021-12-08T12:41:28.999Z"
   },
   {
    "duration": 9,
    "start_time": "2021-12-08T12:41:29.011Z"
   },
   {
    "duration": 276,
    "start_time": "2021-12-08T13:17:09.556Z"
   },
   {
    "duration": 221,
    "start_time": "2021-12-08T13:17:10.805Z"
   },
   {
    "duration": 8,
    "start_time": "2021-12-08T13:17:31.421Z"
   },
   {
    "duration": 7,
    "start_time": "2021-12-08T13:18:56.939Z"
   },
   {
    "duration": 181,
    "start_time": "2021-12-08T13:27:20.450Z"
   },
   {
    "duration": 21,
    "start_time": "2021-12-08T13:27:26.170Z"
   },
   {
    "duration": 25,
    "start_time": "2021-12-08T13:27:33.490Z"
   },
   {
    "duration": 1665,
    "start_time": "2021-12-08T14:13:54.822Z"
   },
   {
    "duration": 14,
    "start_time": "2021-12-08T14:13:56.490Z"
   },
   {
    "duration": 21,
    "start_time": "2021-12-08T14:13:56.506Z"
   },
   {
    "duration": 9,
    "start_time": "2021-12-08T14:13:56.529Z"
   },
   {
    "duration": 18,
    "start_time": "2021-12-08T14:13:56.540Z"
   },
   {
    "duration": 10,
    "start_time": "2021-12-08T14:13:56.564Z"
   },
   {
    "duration": 20,
    "start_time": "2021-12-08T14:13:56.577Z"
   },
   {
    "duration": 9,
    "start_time": "2021-12-08T14:13:56.599Z"
   },
   {
    "duration": 11,
    "start_time": "2021-12-08T14:13:56.611Z"
   },
   {
    "duration": 41,
    "start_time": "2021-12-08T14:13:56.624Z"
   },
   {
    "duration": 10,
    "start_time": "2021-12-08T14:13:56.667Z"
   },
   {
    "duration": 23,
    "start_time": "2021-12-08T14:13:56.679Z"
   },
   {
    "duration": 19,
    "start_time": "2021-12-08T14:13:56.704Z"
   },
   {
    "duration": 44,
    "start_time": "2021-12-08T14:13:56.725Z"
   },
   {
    "duration": 19,
    "start_time": "2021-12-08T14:13:56.771Z"
   },
   {
    "duration": 13,
    "start_time": "2021-12-08T14:13:56.792Z"
   },
   {
    "duration": 35,
    "start_time": "2021-12-08T14:13:56.807Z"
   },
   {
    "duration": 25,
    "start_time": "2021-12-08T14:13:56.844Z"
   },
   {
    "duration": 112,
    "start_time": "2021-12-08T14:13:56.871Z"
   },
   {
    "duration": 14,
    "start_time": "2021-12-08T14:13:56.985Z"
   },
   {
    "duration": 287,
    "start_time": "2021-12-08T14:13:57.001Z"
   },
   {
    "duration": 21,
    "start_time": "2021-12-08T14:13:57.290Z"
   },
   {
    "duration": 79,
    "start_time": "2021-12-08T14:13:57.312Z"
   },
   {
    "duration": 9,
    "start_time": "2021-12-08T14:13:57.393Z"
   },
   {
    "duration": 23,
    "start_time": "2021-12-08T14:13:57.404Z"
   },
   {
    "duration": 40,
    "start_time": "2021-12-08T14:13:57.429Z"
   },
   {
    "duration": 13,
    "start_time": "2021-12-08T14:13:57.474Z"
   },
   {
    "duration": 8,
    "start_time": "2021-12-08T14:13:57.490Z"
   },
   {
    "duration": 12,
    "start_time": "2021-12-08T14:13:57.499Z"
   },
   {
    "duration": 53,
    "start_time": "2021-12-08T14:13:57.512Z"
   },
   {
    "duration": 10,
    "start_time": "2021-12-08T14:13:57.567Z"
   },
   {
    "duration": 41,
    "start_time": "2021-12-08T14:13:57.579Z"
   },
   {
    "duration": 11,
    "start_time": "2021-12-08T14:13:57.622Z"
   },
   {
    "duration": 48,
    "start_time": "2021-12-08T14:13:57.634Z"
   },
   {
    "duration": 10,
    "start_time": "2021-12-08T14:13:57.684Z"
   },
   {
    "duration": 33,
    "start_time": "2021-12-08T14:13:57.696Z"
   },
   {
    "duration": 40,
    "start_time": "2021-12-08T14:13:57.732Z"
   },
   {
    "duration": 18,
    "start_time": "2021-12-08T14:13:57.774Z"
   },
   {
    "duration": 11,
    "start_time": "2021-12-08T14:13:57.794Z"
   },
   {
    "duration": 32,
    "start_time": "2021-12-08T14:13:57.807Z"
   },
   {
    "duration": 16,
    "start_time": "2021-12-08T14:13:57.864Z"
   },
   {
    "duration": 40,
    "start_time": "2021-12-08T14:13:57.881Z"
   },
   {
    "duration": 7,
    "start_time": "2021-12-08T14:13:57.923Z"
   },
   {
    "duration": 9,
    "start_time": "2021-12-08T14:13:57.932Z"
   },
   {
    "duration": 25,
    "start_time": "2021-12-08T14:13:57.943Z"
   },
   {
    "duration": 9,
    "start_time": "2021-12-08T14:13:57.970Z"
   },
   {
    "duration": 132,
    "start_time": "2021-12-08T14:13:57.981Z"
   },
   {
    "duration": 8,
    "start_time": "2021-12-08T14:13:58.115Z"
   },
   {
    "duration": 45,
    "start_time": "2021-12-08T14:13:58.125Z"
   },
   {
    "duration": 7,
    "start_time": "2021-12-08T14:13:58.172Z"
   },
   {
    "duration": 25,
    "start_time": "2021-12-08T14:13:58.180Z"
   },
   {
    "duration": 13,
    "start_time": "2021-12-08T14:13:58.208Z"
   },
   {
    "duration": 296,
    "start_time": "2021-12-08T14:13:58.223Z"
   },
   {
    "duration": 7,
    "start_time": "2021-12-08T14:13:58.521Z"
   },
   {
    "duration": 411,
    "start_time": "2021-12-08T14:13:58.530Z"
   },
   {
    "duration": 5,
    "start_time": "2021-12-08T14:13:58.943Z"
   },
   {
    "duration": 537,
    "start_time": "2021-12-08T14:13:58.950Z"
   },
   {
    "duration": 6,
    "start_time": "2021-12-08T14:13:59.490Z"
   },
   {
    "duration": 318,
    "start_time": "2021-12-08T14:13:59.498Z"
   },
   {
    "duration": 7,
    "start_time": "2021-12-08T14:13:59.817Z"
   },
   {
    "duration": 304,
    "start_time": "2021-12-08T14:13:59.825Z"
   },
   {
    "duration": 6,
    "start_time": "2021-12-08T14:14:00.131Z"
   },
   {
    "duration": 340,
    "start_time": "2021-12-08T14:14:00.139Z"
   },
   {
    "duration": 16,
    "start_time": "2021-12-08T14:14:00.481Z"
   },
   {
    "duration": 23,
    "start_time": "2021-12-08T14:14:00.499Z"
   },
   {
    "duration": 26,
    "start_time": "2021-12-08T14:14:00.524Z"
   },
   {
    "duration": 7,
    "start_time": "2021-12-08T14:17:34.349Z"
   },
   {
    "duration": 13,
    "start_time": "2021-12-08T14:18:35.301Z"
   },
   {
    "duration": 25,
    "start_time": "2021-12-08T14:25:09.019Z"
   },
   {
    "duration": 341,
    "start_time": "2021-12-08T14:41:23.159Z"
   },
   {
    "duration": 524,
    "start_time": "2021-12-08T14:44:39.156Z"
   },
   {
    "duration": 316,
    "start_time": "2021-12-08T14:50:41.058Z"
   },
   {
    "duration": 419,
    "start_time": "2021-12-08T14:50:55.874Z"
   },
   {
    "duration": 300,
    "start_time": "2021-12-08T14:51:20.786Z"
   },
   {
    "duration": 268,
    "start_time": "2021-12-08T14:57:31.076Z"
   },
   {
    "duration": 276,
    "start_time": "2021-12-08T14:57:44.018Z"
   },
   {
    "duration": 374,
    "start_time": "2021-12-08T14:58:18.822Z"
   },
   {
    "duration": 81,
    "start_time": "2021-12-08T14:59:21.657Z"
   },
   {
    "duration": 86,
    "start_time": "2021-12-08T14:59:34.114Z"
   },
   {
    "duration": 772,
    "start_time": "2021-12-08T15:12:09.616Z"
   },
   {
    "duration": 527,
    "start_time": "2021-12-08T15:12:35.856Z"
   },
   {
    "duration": 236,
    "start_time": "2021-12-08T15:25:51.710Z"
   },
   {
    "duration": 216,
    "start_time": "2021-12-08T15:26:20.867Z"
   },
   {
    "duration": 2189,
    "start_time": "2021-12-08T15:26:30.025Z"
   },
   {
    "duration": 13,
    "start_time": "2021-12-08T15:26:32.216Z"
   },
   {
    "duration": 21,
    "start_time": "2021-12-08T15:26:32.231Z"
   },
   {
    "duration": 9,
    "start_time": "2021-12-08T15:26:32.254Z"
   },
   {
    "duration": 22,
    "start_time": "2021-12-08T15:26:32.265Z"
   },
   {
    "duration": 8,
    "start_time": "2021-12-08T15:26:32.288Z"
   },
   {
    "duration": 21,
    "start_time": "2021-12-08T15:26:32.297Z"
   },
   {
    "duration": 9,
    "start_time": "2021-12-08T15:26:32.320Z"
   },
   {
    "duration": 38,
    "start_time": "2021-12-08T15:26:32.331Z"
   },
   {
    "duration": 25,
    "start_time": "2021-12-08T15:26:32.371Z"
   },
   {
    "duration": 7,
    "start_time": "2021-12-08T15:26:32.398Z"
   },
   {
    "duration": 32,
    "start_time": "2021-12-08T15:26:32.406Z"
   },
   {
    "duration": 17,
    "start_time": "2021-12-08T15:26:32.439Z"
   },
   {
    "duration": 15,
    "start_time": "2021-12-08T15:26:32.463Z"
   },
   {
    "duration": 8,
    "start_time": "2021-12-08T15:26:32.480Z"
   },
   {
    "duration": 9,
    "start_time": "2021-12-08T15:26:32.489Z"
   },
   {
    "duration": 61,
    "start_time": "2021-12-08T15:26:32.499Z"
   },
   {
    "duration": 15,
    "start_time": "2021-12-08T15:26:32.562Z"
   },
   {
    "duration": 12,
    "start_time": "2021-12-08T15:26:32.579Z"
   },
   {
    "duration": 98,
    "start_time": "2021-12-08T15:26:32.593Z"
   },
   {
    "duration": 11,
    "start_time": "2021-12-08T15:26:32.693Z"
   },
   {
    "duration": 279,
    "start_time": "2021-12-08T15:26:32.705Z"
   },
   {
    "duration": 22,
    "start_time": "2021-12-08T15:26:32.988Z"
   },
   {
    "duration": 89,
    "start_time": "2021-12-08T15:26:33.013Z"
   },
   {
    "duration": 9,
    "start_time": "2021-12-08T15:26:33.104Z"
   },
   {
    "duration": 26,
    "start_time": "2021-12-08T15:26:33.114Z"
   },
   {
    "duration": 32,
    "start_time": "2021-12-08T15:26:33.141Z"
   },
   {
    "duration": 11,
    "start_time": "2021-12-08T15:26:33.175Z"
   },
   {
    "duration": 5,
    "start_time": "2021-12-08T15:26:33.187Z"
   },
   {
    "duration": 21,
    "start_time": "2021-12-08T15:26:33.193Z"
   },
   {
    "duration": 30,
    "start_time": "2021-12-08T15:26:33.216Z"
   },
   {
    "duration": 19,
    "start_time": "2021-12-08T15:26:33.247Z"
   },
   {
    "duration": 39,
    "start_time": "2021-12-08T15:26:33.268Z"
   },
   {
    "duration": 10,
    "start_time": "2021-12-08T15:26:33.309Z"
   },
   {
    "duration": 42,
    "start_time": "2021-12-08T15:26:33.321Z"
   },
   {
    "duration": 8,
    "start_time": "2021-12-08T15:26:33.365Z"
   },
   {
    "duration": 33,
    "start_time": "2021-12-08T15:26:33.375Z"
   },
   {
    "duration": 16,
    "start_time": "2021-12-08T15:26:33.410Z"
   },
   {
    "duration": 44,
    "start_time": "2021-12-08T15:26:33.428Z"
   },
   {
    "duration": 8,
    "start_time": "2021-12-08T15:26:33.475Z"
   },
   {
    "duration": 24,
    "start_time": "2021-12-08T15:26:33.486Z"
   },
   {
    "duration": 11,
    "start_time": "2021-12-08T15:26:33.512Z"
   },
   {
    "duration": 70,
    "start_time": "2021-12-08T15:26:33.524Z"
   },
   {
    "duration": 7,
    "start_time": "2021-12-08T15:26:33.596Z"
   },
   {
    "duration": 5,
    "start_time": "2021-12-08T15:26:33.605Z"
   },
   {
    "duration": 7,
    "start_time": "2021-12-08T15:26:33.611Z"
   },
   {
    "duration": 10,
    "start_time": "2021-12-08T15:26:33.619Z"
   },
   {
    "duration": 130,
    "start_time": "2021-12-08T15:26:33.631Z"
   },
   {
    "duration": 7,
    "start_time": "2021-12-08T15:26:33.763Z"
   },
   {
    "duration": 33,
    "start_time": "2021-12-08T15:26:33.772Z"
   },
   {
    "duration": 16,
    "start_time": "2021-12-08T15:26:33.807Z"
   },
   {
    "duration": 19,
    "start_time": "2021-12-08T15:26:33.825Z"
   },
   {
    "duration": 21,
    "start_time": "2021-12-08T15:26:33.846Z"
   },
   {
    "duration": 44,
    "start_time": "2021-12-08T15:26:33.868Z"
   },
   {
    "duration": 243,
    "start_time": "2021-12-08T15:26:33.915Z"
   },
   {
    "duration": 638,
    "start_time": "2021-12-08T15:26:34.160Z"
   },
   {
    "duration": -27,
    "start_time": "2021-12-08T15:26:34.828Z"
   },
   {
    "duration": -30,
    "start_time": "2021-12-08T15:26:34.833Z"
   },
   {
    "duration": -34,
    "start_time": "2021-12-08T15:26:34.838Z"
   },
   {
    "duration": -55,
    "start_time": "2021-12-08T15:26:34.860Z"
   },
   {
    "duration": -61,
    "start_time": "2021-12-08T15:26:34.866Z"
   },
   {
    "duration": -66,
    "start_time": "2021-12-08T15:26:34.872Z"
   },
   {
    "duration": -70,
    "start_time": "2021-12-08T15:26:34.877Z"
   },
   {
    "duration": -75,
    "start_time": "2021-12-08T15:26:34.883Z"
   },
   {
    "duration": -78,
    "start_time": "2021-12-08T15:26:34.887Z"
   },
   {
    "duration": -82,
    "start_time": "2021-12-08T15:26:34.892Z"
   },
   {
    "duration": -86,
    "start_time": "2021-12-08T15:26:34.897Z"
   },
   {
    "duration": -90,
    "start_time": "2021-12-08T15:26:34.902Z"
   },
   {
    "duration": -95,
    "start_time": "2021-12-08T15:26:34.907Z"
   },
   {
    "duration": 282,
    "start_time": "2021-12-08T15:30:53.087Z"
   },
   {
    "duration": 431,
    "start_time": "2021-12-08T15:33:27.555Z"
   },
   {
    "duration": 245,
    "start_time": "2021-12-08T15:33:40.637Z"
   },
   {
    "duration": 1736,
    "start_time": "2021-12-08T15:33:47.764Z"
   },
   {
    "duration": 14,
    "start_time": "2021-12-08T15:33:49.502Z"
   },
   {
    "duration": 23,
    "start_time": "2021-12-08T15:33:49.519Z"
   },
   {
    "duration": 9,
    "start_time": "2021-12-08T15:33:49.545Z"
   },
   {
    "duration": 22,
    "start_time": "2021-12-08T15:33:49.556Z"
   },
   {
    "duration": 8,
    "start_time": "2021-12-08T15:33:49.579Z"
   },
   {
    "duration": 17,
    "start_time": "2021-12-08T15:33:49.589Z"
   },
   {
    "duration": 9,
    "start_time": "2021-12-08T15:33:49.610Z"
   },
   {
    "duration": 11,
    "start_time": "2021-12-08T15:33:49.623Z"
   },
   {
    "duration": 18,
    "start_time": "2021-12-08T15:33:49.665Z"
   },
   {
    "duration": 9,
    "start_time": "2021-12-08T15:33:49.686Z"
   },
   {
    "duration": 35,
    "start_time": "2021-12-08T15:33:49.698Z"
   },
   {
    "duration": 48,
    "start_time": "2021-12-08T15:33:49.735Z"
   },
   {
    "duration": 24,
    "start_time": "2021-12-08T15:33:49.785Z"
   },
   {
    "duration": 6,
    "start_time": "2021-12-08T15:33:49.811Z"
   },
   {
    "duration": 6,
    "start_time": "2021-12-08T15:33:49.819Z"
   },
   {
    "duration": 68,
    "start_time": "2021-12-08T15:33:49.827Z"
   },
   {
    "duration": 16,
    "start_time": "2021-12-08T15:33:49.897Z"
   },
   {
    "duration": 3,
    "start_time": "2021-12-08T15:33:49.915Z"
   },
   {
    "duration": 154,
    "start_time": "2021-12-08T15:33:49.920Z"
   },
   {
    "duration": 19,
    "start_time": "2021-12-08T15:33:50.077Z"
   },
   {
    "duration": 421,
    "start_time": "2021-12-08T15:33:50.099Z"
   },
   {
    "duration": 37,
    "start_time": "2021-12-08T15:33:50.526Z"
   },
   {
    "duration": 79,
    "start_time": "2021-12-08T15:33:50.566Z"
   },
   {
    "duration": 17,
    "start_time": "2021-12-08T15:33:50.647Z"
   },
   {
    "duration": 26,
    "start_time": "2021-12-08T15:33:50.666Z"
   },
   {
    "duration": 30,
    "start_time": "2021-12-08T15:33:50.695Z"
   },
   {
    "duration": 40,
    "start_time": "2021-12-08T15:33:50.728Z"
   },
   {
    "duration": 5,
    "start_time": "2021-12-08T15:33:50.770Z"
   },
   {
    "duration": 9,
    "start_time": "2021-12-08T15:33:50.777Z"
   },
   {
    "duration": 32,
    "start_time": "2021-12-08T15:33:50.788Z"
   },
   {
    "duration": 11,
    "start_time": "2021-12-08T15:33:50.823Z"
   },
   {
    "duration": 61,
    "start_time": "2021-12-08T15:33:50.836Z"
   },
   {
    "duration": 10,
    "start_time": "2021-12-08T15:33:50.899Z"
   },
   {
    "duration": 23,
    "start_time": "2021-12-08T15:33:50.912Z"
   },
   {
    "duration": 27,
    "start_time": "2021-12-08T15:33:50.936Z"
   },
   {
    "duration": 30,
    "start_time": "2021-12-08T15:33:50.966Z"
   },
   {
    "duration": 14,
    "start_time": "2021-12-08T15:33:50.998Z"
   },
   {
    "duration": 20,
    "start_time": "2021-12-08T15:33:51.015Z"
   },
   {
    "duration": 35,
    "start_time": "2021-12-08T15:33:51.037Z"
   },
   {
    "duration": 25,
    "start_time": "2021-12-08T15:33:51.075Z"
   },
   {
    "duration": 13,
    "start_time": "2021-12-08T15:33:51.103Z"
   },
   {
    "duration": 69,
    "start_time": "2021-12-08T15:33:51.118Z"
   },
   {
    "duration": 9,
    "start_time": "2021-12-08T15:33:51.189Z"
   },
   {
    "duration": 6,
    "start_time": "2021-12-08T15:33:51.200Z"
   },
   {
    "duration": 9,
    "start_time": "2021-12-08T15:33:51.208Z"
   },
   {
    "duration": 9,
    "start_time": "2021-12-08T15:33:51.219Z"
   },
   {
    "duration": 138,
    "start_time": "2021-12-08T15:33:51.230Z"
   },
   {
    "duration": 7,
    "start_time": "2021-12-08T15:33:51.369Z"
   },
   {
    "duration": 21,
    "start_time": "2021-12-08T15:33:51.377Z"
   },
   {
    "duration": 11,
    "start_time": "2021-12-08T15:33:51.400Z"
   },
   {
    "duration": 8,
    "start_time": "2021-12-08T15:33:51.414Z"
   },
   {
    "duration": 43,
    "start_time": "2021-12-08T15:33:51.424Z"
   },
   {
    "duration": 37,
    "start_time": "2021-12-08T15:33:51.470Z"
   },
   {
    "duration": 343,
    "start_time": "2021-12-08T15:33:51.511Z"
   },
   {
    "duration": 769,
    "start_time": "2021-12-08T15:33:51.857Z"
   },
   {
    "duration": 11,
    "start_time": "2021-12-08T15:33:52.628Z"
   },
   {
    "duration": 388,
    "start_time": "2021-12-08T15:33:52.641Z"
   },
   {
    "duration": 6,
    "start_time": "2021-12-08T15:33:53.030Z"
   },
   {
    "duration": 453,
    "start_time": "2021-12-08T15:33:53.037Z"
   },
   {
    "duration": 6,
    "start_time": "2021-12-08T15:33:53.493Z"
   },
   {
    "duration": 357,
    "start_time": "2021-12-08T15:33:53.501Z"
   },
   {
    "duration": 6,
    "start_time": "2021-12-08T15:33:53.859Z"
   },
   {
    "duration": 383,
    "start_time": "2021-12-08T15:33:53.866Z"
   },
   {
    "duration": 13,
    "start_time": "2021-12-08T15:33:54.251Z"
   },
   {
    "duration": 378,
    "start_time": "2021-12-08T15:33:54.266Z"
   },
   {
    "duration": 19,
    "start_time": "2021-12-08T15:33:54.646Z"
   },
   {
    "duration": 11,
    "start_time": "2021-12-08T15:33:54.673Z"
   },
   {
    "duration": 21,
    "start_time": "2021-12-08T15:33:54.686Z"
   },
   {
    "duration": 474,
    "start_time": "2021-12-08T15:35:55.074Z"
   },
   {
    "duration": 482,
    "start_time": "2021-12-08T15:36:13.524Z"
   },
   {
    "duration": 1608,
    "start_time": "2021-12-08T15:36:22.349Z"
   },
   {
    "duration": 12,
    "start_time": "2021-12-08T15:36:23.959Z"
   },
   {
    "duration": 34,
    "start_time": "2021-12-08T15:36:23.973Z"
   },
   {
    "duration": 9,
    "start_time": "2021-12-08T15:36:24.009Z"
   },
   {
    "duration": 29,
    "start_time": "2021-12-08T15:36:24.020Z"
   },
   {
    "duration": 13,
    "start_time": "2021-12-08T15:36:24.051Z"
   },
   {
    "duration": 34,
    "start_time": "2021-12-08T15:36:24.066Z"
   },
   {
    "duration": 11,
    "start_time": "2021-12-08T15:36:24.102Z"
   },
   {
    "duration": 16,
    "start_time": "2021-12-08T15:36:24.115Z"
   },
   {
    "duration": 16,
    "start_time": "2021-12-08T15:36:24.133Z"
   },
   {
    "duration": 12,
    "start_time": "2021-12-08T15:36:24.151Z"
   },
   {
    "duration": 29,
    "start_time": "2021-12-08T15:36:24.164Z"
   },
   {
    "duration": 17,
    "start_time": "2021-12-08T15:36:24.195Z"
   },
   {
    "duration": 14,
    "start_time": "2021-12-08T15:36:24.214Z"
   },
   {
    "duration": 8,
    "start_time": "2021-12-08T15:36:24.230Z"
   },
   {
    "duration": 23,
    "start_time": "2021-12-08T15:36:24.240Z"
   },
   {
    "duration": 33,
    "start_time": "2021-12-08T15:36:24.265Z"
   },
   {
    "duration": 14,
    "start_time": "2021-12-08T15:36:24.300Z"
   },
   {
    "duration": 2,
    "start_time": "2021-12-08T15:36:24.316Z"
   },
   {
    "duration": 93,
    "start_time": "2021-12-08T15:36:24.320Z"
   },
   {
    "duration": 12,
    "start_time": "2021-12-08T15:36:24.415Z"
   },
   {
    "duration": 263,
    "start_time": "2021-12-08T15:36:24.429Z"
   },
   {
    "duration": 22,
    "start_time": "2021-12-08T15:36:24.698Z"
   },
   {
    "duration": 86,
    "start_time": "2021-12-08T15:36:24.722Z"
   },
   {
    "duration": 10,
    "start_time": "2021-12-08T15:36:24.810Z"
   },
   {
    "duration": 30,
    "start_time": "2021-12-08T15:36:24.822Z"
   },
   {
    "duration": 28,
    "start_time": "2021-12-08T15:36:24.854Z"
   },
   {
    "duration": 22,
    "start_time": "2021-12-08T15:36:24.884Z"
   },
   {
    "duration": 12,
    "start_time": "2021-12-08T15:36:24.908Z"
   },
   {
    "duration": 15,
    "start_time": "2021-12-08T15:36:24.922Z"
   },
   {
    "duration": 28,
    "start_time": "2021-12-08T15:36:24.939Z"
   },
   {
    "duration": 12,
    "start_time": "2021-12-08T15:36:24.969Z"
   },
   {
    "duration": 48,
    "start_time": "2021-12-08T15:36:24.983Z"
   },
   {
    "duration": 11,
    "start_time": "2021-12-08T15:36:25.033Z"
   },
   {
    "duration": 18,
    "start_time": "2021-12-08T15:36:25.063Z"
   },
   {
    "duration": 10,
    "start_time": "2021-12-08T15:36:25.083Z"
   },
   {
    "duration": 33,
    "start_time": "2021-12-08T15:36:25.095Z"
   },
   {
    "duration": 11,
    "start_time": "2021-12-08T15:36:25.130Z"
   },
   {
    "duration": 34,
    "start_time": "2021-12-08T15:36:25.143Z"
   },
   {
    "duration": 32,
    "start_time": "2021-12-08T15:36:25.179Z"
   },
   {
    "duration": 48,
    "start_time": "2021-12-08T15:36:25.213Z"
   },
   {
    "duration": 12,
    "start_time": "2021-12-08T15:36:25.263Z"
   },
   {
    "duration": 45,
    "start_time": "2021-12-08T15:36:25.277Z"
   },
   {
    "duration": 7,
    "start_time": "2021-12-08T15:36:25.324Z"
   },
   {
    "duration": 28,
    "start_time": "2021-12-08T15:36:25.333Z"
   },
   {
    "duration": 7,
    "start_time": "2021-12-08T15:36:25.362Z"
   },
   {
    "duration": 8,
    "start_time": "2021-12-08T15:36:25.370Z"
   },
   {
    "duration": 112,
    "start_time": "2021-12-08T15:36:25.379Z"
   },
   {
    "duration": 7,
    "start_time": "2021-12-08T15:36:25.492Z"
   },
   {
    "duration": 181,
    "start_time": "2021-12-08T15:36:25.501Z"
   },
   {
    "duration": 15,
    "start_time": "2021-12-08T15:36:25.684Z"
   },
   {
    "duration": 15,
    "start_time": "2021-12-08T15:36:25.700Z"
   },
   {
    "duration": 8,
    "start_time": "2021-12-08T15:36:25.717Z"
   },
   {
    "duration": 26,
    "start_time": "2021-12-08T15:36:25.727Z"
   },
   {
    "duration": 264,
    "start_time": "2021-12-08T15:36:25.754Z"
   },
   {
    "duration": 479,
    "start_time": "2021-12-08T15:36:26.020Z"
   },
   {
    "duration": 5,
    "start_time": "2021-12-08T15:36:26.501Z"
   },
   {
    "duration": 476,
    "start_time": "2021-12-08T15:36:26.508Z"
   },
   {
    "duration": 6,
    "start_time": "2021-12-08T15:36:26.986Z"
   },
   {
    "duration": 439,
    "start_time": "2021-12-08T15:36:26.993Z"
   },
   {
    "duration": 6,
    "start_time": "2021-12-08T15:36:27.434Z"
   },
   {
    "duration": 350,
    "start_time": "2021-12-08T15:36:27.442Z"
   },
   {
    "duration": 6,
    "start_time": "2021-12-08T15:36:27.794Z"
   },
   {
    "duration": 373,
    "start_time": "2021-12-08T15:36:27.801Z"
   },
   {
    "duration": 6,
    "start_time": "2021-12-08T15:36:28.177Z"
   },
   {
    "duration": 384,
    "start_time": "2021-12-08T15:36:28.185Z"
   },
   {
    "duration": 12,
    "start_time": "2021-12-08T15:36:28.571Z"
   },
   {
    "duration": 22,
    "start_time": "2021-12-08T15:36:28.589Z"
   },
   {
    "duration": 48,
    "start_time": "2021-12-08T15:36:28.614Z"
   },
   {
    "duration": 471,
    "start_time": "2021-12-08T15:36:53.678Z"
   },
   {
    "duration": 488,
    "start_time": "2021-12-08T15:38:01.283Z"
   },
   {
    "duration": 486,
    "start_time": "2021-12-08T15:38:31.320Z"
   },
   {
    "duration": 585,
    "start_time": "2021-12-08T15:38:37.742Z"
   },
   {
    "duration": 83,
    "start_time": "2021-12-08T15:39:28.350Z"
   },
   {
    "duration": 90,
    "start_time": "2021-12-08T15:40:45.065Z"
   },
   {
    "duration": 98,
    "start_time": "2021-12-08T15:41:43.473Z"
   },
   {
    "duration": 494,
    "start_time": "2021-12-08T15:42:02.716Z"
   },
   {
    "duration": 465,
    "start_time": "2021-12-08T15:50:09.611Z"
   },
   {
    "duration": 473,
    "start_time": "2021-12-08T15:53:20.425Z"
   },
   {
    "duration": 466,
    "start_time": "2021-12-08T15:55:03.296Z"
   },
   {
    "duration": 693,
    "start_time": "2021-12-08T15:55:11.498Z"
   },
   {
    "duration": 615,
    "start_time": "2021-12-08T15:55:18.364Z"
   },
   {
    "duration": 450,
    "start_time": "2021-12-08T15:55:35.823Z"
   },
   {
    "duration": 468,
    "start_time": "2021-12-08T15:56:17.363Z"
   },
   {
    "duration": 528,
    "start_time": "2021-12-08T15:58:54.331Z"
   },
   {
    "duration": 690,
    "start_time": "2021-12-08T15:59:22.203Z"
   },
   {
    "duration": 600,
    "start_time": "2021-12-08T16:01:02.822Z"
   },
   {
    "duration": 608,
    "start_time": "2021-12-08T16:01:18.901Z"
   },
   {
    "duration": 852,
    "start_time": "2021-12-08T16:01:49.498Z"
   },
   {
    "duration": 499,
    "start_time": "2021-12-08T16:02:07.397Z"
   },
   {
    "duration": 581,
    "start_time": "2021-12-08T16:03:39.667Z"
   },
   {
    "duration": 696,
    "start_time": "2021-12-08T16:03:48.628Z"
   },
   {
    "duration": 551,
    "start_time": "2021-12-08T16:03:59.392Z"
   },
   {
    "duration": 742,
    "start_time": "2021-12-08T16:04:10.196Z"
   },
   {
    "duration": 615,
    "start_time": "2021-12-08T16:04:32.486Z"
   },
   {
    "duration": 798,
    "start_time": "2021-12-08T16:06:55.167Z"
   },
   {
    "duration": 540,
    "start_time": "2021-12-08T16:07:00.793Z"
   },
   {
    "duration": 799,
    "start_time": "2021-12-08T16:07:13.176Z"
   },
   {
    "duration": 520,
    "start_time": "2021-12-08T16:07:28.253Z"
   },
   {
    "duration": 552,
    "start_time": "2021-12-08T16:09:02.182Z"
   },
   {
    "duration": 547,
    "start_time": "2021-12-08T16:10:05.957Z"
   },
   {
    "duration": 503,
    "start_time": "2021-12-08T16:14:25.517Z"
   },
   {
    "duration": 650,
    "start_time": "2021-12-08T16:18:28.824Z"
   },
   {
    "duration": 743,
    "start_time": "2021-12-08T16:19:30.251Z"
   },
   {
    "duration": 640,
    "start_time": "2021-12-08T16:19:44.644Z"
   },
   {
    "duration": 630,
    "start_time": "2021-12-08T16:19:57.621Z"
   },
   {
    "duration": 843,
    "start_time": "2021-12-08T16:20:24.956Z"
   },
   {
    "duration": 508,
    "start_time": "2021-12-08T16:20:39.665Z"
   },
   {
    "duration": 497,
    "start_time": "2021-12-08T16:20:54.079Z"
   },
   {
    "duration": 490,
    "start_time": "2021-12-08T16:21:09.879Z"
   },
   {
    "duration": 732,
    "start_time": "2021-12-08T16:21:24.442Z"
   },
   {
    "duration": 497,
    "start_time": "2021-12-08T16:21:42.060Z"
   },
   {
    "duration": 488,
    "start_time": "2021-12-08T16:22:04.540Z"
   },
   {
    "duration": 507,
    "start_time": "2021-12-08T16:22:21.859Z"
   },
   {
    "duration": 1779,
    "start_time": "2021-12-08T16:26:41.459Z"
   },
   {
    "duration": 14,
    "start_time": "2021-12-08T16:26:43.240Z"
   },
   {
    "duration": 23,
    "start_time": "2021-12-08T16:26:43.256Z"
   },
   {
    "duration": 21,
    "start_time": "2021-12-08T16:26:43.281Z"
   },
   {
    "duration": 28,
    "start_time": "2021-12-08T16:26:43.304Z"
   },
   {
    "duration": 8,
    "start_time": "2021-12-08T16:26:43.334Z"
   },
   {
    "duration": 21,
    "start_time": "2021-12-08T16:26:43.343Z"
   },
   {
    "duration": 8,
    "start_time": "2021-12-08T16:26:43.367Z"
   },
   {
    "duration": 9,
    "start_time": "2021-12-08T16:26:43.377Z"
   },
   {
    "duration": 15,
    "start_time": "2021-12-08T16:26:43.388Z"
   },
   {
    "duration": 12,
    "start_time": "2021-12-08T16:26:43.405Z"
   },
   {
    "duration": 50,
    "start_time": "2021-12-08T16:26:43.419Z"
   },
   {
    "duration": 17,
    "start_time": "2021-12-08T16:26:43.472Z"
   },
   {
    "duration": 17,
    "start_time": "2021-12-08T16:26:43.491Z"
   },
   {
    "duration": 6,
    "start_time": "2021-12-08T16:26:43.510Z"
   },
   {
    "duration": 7,
    "start_time": "2021-12-08T16:26:43.518Z"
   },
   {
    "duration": 67,
    "start_time": "2021-12-08T16:26:43.527Z"
   },
   {
    "duration": 15,
    "start_time": "2021-12-08T16:26:43.596Z"
   },
   {
    "duration": 3,
    "start_time": "2021-12-08T16:26:43.613Z"
   },
   {
    "duration": 103,
    "start_time": "2021-12-08T16:26:43.617Z"
   },
   {
    "duration": 12,
    "start_time": "2021-12-08T16:26:43.722Z"
   },
   {
    "duration": 284,
    "start_time": "2021-12-08T16:26:43.736Z"
   },
   {
    "duration": 23,
    "start_time": "2021-12-08T16:26:44.025Z"
   },
   {
    "duration": 70,
    "start_time": "2021-12-08T16:26:44.063Z"
   },
   {
    "duration": 9,
    "start_time": "2021-12-08T16:26:44.135Z"
   },
   {
    "duration": 22,
    "start_time": "2021-12-08T16:26:44.162Z"
   },
   {
    "duration": 26,
    "start_time": "2021-12-08T16:26:44.186Z"
   },
   {
    "duration": 27,
    "start_time": "2021-12-08T16:26:44.214Z"
   },
   {
    "duration": 21,
    "start_time": "2021-12-08T16:26:44.244Z"
   },
   {
    "duration": 13,
    "start_time": "2021-12-08T16:26:44.267Z"
   },
   {
    "duration": 28,
    "start_time": "2021-12-08T16:26:44.282Z"
   },
   {
    "duration": 11,
    "start_time": "2021-12-08T16:26:44.312Z"
   },
   {
    "duration": 72,
    "start_time": "2021-12-08T16:26:44.325Z"
   },
   {
    "duration": 12,
    "start_time": "2021-12-08T16:26:44.399Z"
   },
   {
    "duration": 21,
    "start_time": "2021-12-08T16:26:44.413Z"
   },
   {
    "duration": 27,
    "start_time": "2021-12-08T16:26:44.436Z"
   },
   {
    "duration": 32,
    "start_time": "2021-12-08T16:26:44.465Z"
   },
   {
    "duration": 12,
    "start_time": "2021-12-08T16:26:44.499Z"
   },
   {
    "duration": 17,
    "start_time": "2021-12-08T16:26:44.514Z"
   },
   {
    "duration": 32,
    "start_time": "2021-12-08T16:26:44.532Z"
   },
   {
    "duration": 27,
    "start_time": "2021-12-08T16:26:44.566Z"
   },
   {
    "duration": 12,
    "start_time": "2021-12-08T16:26:44.595Z"
   },
   {
    "duration": 65,
    "start_time": "2021-12-08T16:26:44.609Z"
   },
   {
    "duration": 8,
    "start_time": "2021-12-08T16:26:44.676Z"
   },
   {
    "duration": 5,
    "start_time": "2021-12-08T16:26:44.686Z"
   },
   {
    "duration": 7,
    "start_time": "2021-12-08T16:26:44.692Z"
   },
   {
    "duration": 8,
    "start_time": "2021-12-08T16:26:44.701Z"
   },
   {
    "duration": 145,
    "start_time": "2021-12-08T16:26:44.711Z"
   },
   {
    "duration": 9,
    "start_time": "2021-12-08T16:26:44.859Z"
   },
   {
    "duration": 22,
    "start_time": "2021-12-08T16:26:44.870Z"
   },
   {
    "duration": 7,
    "start_time": "2021-12-08T16:26:44.894Z"
   },
   {
    "duration": 8,
    "start_time": "2021-12-08T16:26:44.902Z"
   },
   {
    "duration": 7,
    "start_time": "2021-12-08T16:26:44.911Z"
   },
   {
    "duration": 64,
    "start_time": "2021-12-08T16:26:44.920Z"
   },
   {
    "duration": 287,
    "start_time": "2021-12-08T16:26:44.987Z"
   },
   {
    "duration": 621,
    "start_time": "2021-12-08T16:26:45.276Z"
   },
   {
    "duration": 5,
    "start_time": "2021-12-08T16:26:45.899Z"
   },
   {
    "duration": 563,
    "start_time": "2021-12-08T16:26:45.907Z"
   },
   {
    "duration": 6,
    "start_time": "2021-12-08T16:26:46.472Z"
   },
   {
    "duration": 667,
    "start_time": "2021-12-08T16:26:46.480Z"
   },
   {
    "duration": 6,
    "start_time": "2021-12-08T16:26:47.149Z"
   },
   {
    "duration": 551,
    "start_time": "2021-12-08T16:26:47.164Z"
   },
   {
    "duration": 6,
    "start_time": "2021-12-08T16:26:47.717Z"
   },
   {
    "duration": 555,
    "start_time": "2021-12-08T16:26:47.725Z"
   },
   {
    "duration": 5,
    "start_time": "2021-12-08T16:26:48.282Z"
   },
   {
    "duration": 594,
    "start_time": "2021-12-08T16:26:48.288Z"
   },
   {
    "duration": 13,
    "start_time": "2021-12-08T16:26:48.884Z"
   },
   {
    "duration": 21,
    "start_time": "2021-12-08T16:26:48.901Z"
   },
   {
    "duration": 26,
    "start_time": "2021-12-08T16:26:48.924Z"
   },
   {
    "duration": 333,
    "start_time": "2021-12-08T16:31:32.987Z"
   },
   {
    "duration": 1781,
    "start_time": "2021-12-08T16:31:43.439Z"
   },
   {
    "duration": 16,
    "start_time": "2021-12-08T16:31:45.222Z"
   },
   {
    "duration": 32,
    "start_time": "2021-12-08T16:31:45.240Z"
   },
   {
    "duration": 10,
    "start_time": "2021-12-08T16:31:45.274Z"
   },
   {
    "duration": 49,
    "start_time": "2021-12-08T16:31:45.286Z"
   },
   {
    "duration": 14,
    "start_time": "2021-12-08T16:31:45.337Z"
   },
   {
    "duration": 55,
    "start_time": "2021-12-08T16:31:45.352Z"
   },
   {
    "duration": 30,
    "start_time": "2021-12-08T16:31:45.410Z"
   },
   {
    "duration": 37,
    "start_time": "2021-12-08T16:31:45.442Z"
   },
   {
    "duration": 35,
    "start_time": "2021-12-08T16:31:45.481Z"
   },
   {
    "duration": 44,
    "start_time": "2021-12-08T16:31:45.518Z"
   },
   {
    "duration": 67,
    "start_time": "2021-12-08T16:31:45.564Z"
   },
   {
    "duration": 40,
    "start_time": "2021-12-08T16:31:45.634Z"
   },
   {
    "duration": 23,
    "start_time": "2021-12-08T16:31:45.677Z"
   },
   {
    "duration": 43,
    "start_time": "2021-12-08T16:31:45.702Z"
   },
   {
    "duration": 42,
    "start_time": "2021-12-08T16:31:45.747Z"
   },
   {
    "duration": 49,
    "start_time": "2021-12-08T16:31:45.791Z"
   },
   {
    "duration": 17,
    "start_time": "2021-12-08T16:31:45.842Z"
   },
   {
    "duration": 7,
    "start_time": "2021-12-08T16:31:45.861Z"
   },
   {
    "duration": 75,
    "start_time": "2021-12-08T16:31:45.870Z"
   },
   {
    "duration": 20,
    "start_time": "2021-12-08T16:31:45.948Z"
   },
   {
    "duration": 276,
    "start_time": "2021-12-08T16:31:45.969Z"
   },
   {
    "duration": 28,
    "start_time": "2021-12-08T16:31:46.250Z"
   },
   {
    "duration": 86,
    "start_time": "2021-12-08T16:31:46.281Z"
   },
   {
    "duration": 10,
    "start_time": "2021-12-08T16:31:46.369Z"
   },
   {
    "duration": 24,
    "start_time": "2021-12-08T16:31:46.381Z"
   },
   {
    "duration": 22,
    "start_time": "2021-12-08T16:31:46.407Z"
   },
   {
    "duration": 32,
    "start_time": "2021-12-08T16:31:46.431Z"
   },
   {
    "duration": 10,
    "start_time": "2021-12-08T16:31:46.466Z"
   },
   {
    "duration": 33,
    "start_time": "2021-12-08T16:31:46.478Z"
   },
   {
    "duration": 39,
    "start_time": "2021-12-08T16:31:46.514Z"
   },
   {
    "duration": 12,
    "start_time": "2021-12-08T16:31:46.555Z"
   },
   {
    "duration": 53,
    "start_time": "2021-12-08T16:31:46.569Z"
   },
   {
    "duration": 12,
    "start_time": "2021-12-08T16:31:46.624Z"
   },
   {
    "duration": 34,
    "start_time": "2021-12-08T16:31:46.638Z"
   },
   {
    "duration": 11,
    "start_time": "2021-12-08T16:31:46.675Z"
   },
   {
    "duration": 44,
    "start_time": "2021-12-08T16:31:46.688Z"
   },
   {
    "duration": 15,
    "start_time": "2021-12-08T16:31:46.733Z"
   },
   {
    "duration": 18,
    "start_time": "2021-12-08T16:31:46.763Z"
   },
   {
    "duration": 21,
    "start_time": "2021-12-08T16:31:46.783Z"
   },
   {
    "duration": 37,
    "start_time": "2021-12-08T16:31:46.807Z"
   },
   {
    "duration": 17,
    "start_time": "2021-12-08T16:31:46.847Z"
   },
   {
    "duration": 66,
    "start_time": "2021-12-08T16:31:46.866Z"
   },
   {
    "duration": 8,
    "start_time": "2021-12-08T16:31:46.934Z"
   },
   {
    "duration": 5,
    "start_time": "2021-12-08T16:31:46.943Z"
   },
   {
    "duration": 14,
    "start_time": "2021-12-08T16:31:46.950Z"
   },
   {
    "duration": 9,
    "start_time": "2021-12-08T16:31:46.966Z"
   },
   {
    "duration": 188,
    "start_time": "2021-12-08T16:31:46.978Z"
   },
   {
    "duration": 9,
    "start_time": "2021-12-08T16:31:47.168Z"
   },
   {
    "duration": 46,
    "start_time": "2021-12-08T16:31:47.179Z"
   },
   {
    "duration": 8,
    "start_time": "2021-12-08T16:31:47.228Z"
   },
   {
    "duration": 14,
    "start_time": "2021-12-08T16:31:47.238Z"
   },
   {
    "duration": 18,
    "start_time": "2021-12-08T16:31:47.254Z"
   },
   {
    "duration": 34,
    "start_time": "2021-12-08T16:31:47.274Z"
   },
   {
    "duration": 373,
    "start_time": "2021-12-08T16:31:47.311Z"
   },
   {
    "duration": 661,
    "start_time": "2021-12-08T16:31:47.686Z"
   },
   {
    "duration": 14,
    "start_time": "2021-12-08T16:31:48.350Z"
   },
   {
    "duration": 712,
    "start_time": "2021-12-08T16:31:48.366Z"
   },
   {
    "duration": 6,
    "start_time": "2021-12-08T16:31:49.079Z"
   },
   {
    "duration": 629,
    "start_time": "2021-12-08T16:31:49.087Z"
   },
   {
    "duration": 6,
    "start_time": "2021-12-08T16:31:49.718Z"
   },
   {
    "duration": 539,
    "start_time": "2021-12-08T16:31:49.726Z"
   },
   {
    "duration": 6,
    "start_time": "2021-12-08T16:31:50.267Z"
   },
   {
    "duration": 548,
    "start_time": "2021-12-08T16:31:50.275Z"
   },
   {
    "duration": 5,
    "start_time": "2021-12-08T16:31:50.825Z"
   },
   {
    "duration": 565,
    "start_time": "2021-12-08T16:31:50.832Z"
   },
   {
    "duration": 14,
    "start_time": "2021-12-08T16:31:51.400Z"
   },
   {
    "duration": 7,
    "start_time": "2021-12-08T16:31:51.421Z"
   },
   {
    "duration": 35,
    "start_time": "2021-12-08T16:31:51.430Z"
   },
   {
    "duration": 6,
    "start_time": "2021-12-08T16:33:40.996Z"
   },
   {
    "duration": 6,
    "start_time": "2021-12-08T16:33:45.750Z"
   },
   {
    "duration": 15,
    "start_time": "2021-12-08T16:34:32.601Z"
   },
   {
    "duration": 15,
    "start_time": "2021-12-08T16:34:35.716Z"
   },
   {
    "duration": 1746,
    "start_time": "2021-12-08T16:34:42.194Z"
   },
   {
    "duration": 16,
    "start_time": "2021-12-08T16:34:43.942Z"
   },
   {
    "duration": 43,
    "start_time": "2021-12-08T16:34:43.961Z"
   },
   {
    "duration": 10,
    "start_time": "2021-12-08T16:34:44.007Z"
   },
   {
    "duration": 35,
    "start_time": "2021-12-08T16:34:44.019Z"
   },
   {
    "duration": 8,
    "start_time": "2021-12-08T16:34:44.056Z"
   },
   {
    "duration": 22,
    "start_time": "2021-12-08T16:34:44.067Z"
   },
   {
    "duration": 9,
    "start_time": "2021-12-08T16:34:44.093Z"
   },
   {
    "duration": 11,
    "start_time": "2021-12-08T16:34:44.105Z"
   },
   {
    "duration": 45,
    "start_time": "2021-12-08T16:34:44.118Z"
   },
   {
    "duration": 10,
    "start_time": "2021-12-08T16:34:44.166Z"
   },
   {
    "duration": 25,
    "start_time": "2021-12-08T16:34:44.179Z"
   },
   {
    "duration": 58,
    "start_time": "2021-12-08T16:34:44.206Z"
   },
   {
    "duration": 24,
    "start_time": "2021-12-08T16:34:44.267Z"
   },
   {
    "duration": 8,
    "start_time": "2021-12-08T16:34:44.293Z"
   },
   {
    "duration": 9,
    "start_time": "2021-12-08T16:34:44.303Z"
   },
   {
    "duration": 73,
    "start_time": "2021-12-08T16:34:44.314Z"
   },
   {
    "duration": 21,
    "start_time": "2021-12-08T16:34:44.389Z"
   },
   {
    "duration": 3,
    "start_time": "2021-12-08T16:34:44.412Z"
   },
   {
    "duration": 106,
    "start_time": "2021-12-08T16:34:44.417Z"
   },
   {
    "duration": 11,
    "start_time": "2021-12-08T16:34:44.525Z"
   },
   {
    "duration": 280,
    "start_time": "2021-12-08T16:34:44.538Z"
   },
   {
    "duration": 22,
    "start_time": "2021-12-08T16:34:44.823Z"
   },
   {
    "duration": 85,
    "start_time": "2021-12-08T16:34:44.847Z"
   },
   {
    "duration": 9,
    "start_time": "2021-12-08T16:34:44.934Z"
   },
   {
    "duration": 35,
    "start_time": "2021-12-08T16:34:44.945Z"
   },
   {
    "duration": 25,
    "start_time": "2021-12-08T16:34:44.982Z"
   },
   {
    "duration": 19,
    "start_time": "2021-12-08T16:34:45.010Z"
   },
   {
    "duration": 34,
    "start_time": "2021-12-08T16:34:45.031Z"
   },
   {
    "duration": 17,
    "start_time": "2021-12-08T16:34:45.067Z"
   },
   {
    "duration": 35,
    "start_time": "2021-12-08T16:34:45.086Z"
   },
   {
    "duration": 10,
    "start_time": "2021-12-08T16:34:45.123Z"
   },
   {
    "duration": 54,
    "start_time": "2021-12-08T16:34:45.135Z"
   },
   {
    "duration": 14,
    "start_time": "2021-12-08T16:34:45.191Z"
   },
   {
    "duration": 26,
    "start_time": "2021-12-08T16:34:45.207Z"
   },
   {
    "duration": 8,
    "start_time": "2021-12-08T16:34:45.235Z"
   },
   {
    "duration": 53,
    "start_time": "2021-12-08T16:34:45.245Z"
   },
   {
    "duration": 19,
    "start_time": "2021-12-08T16:34:45.300Z"
   },
   {
    "duration": 43,
    "start_time": "2021-12-08T16:34:45.321Z"
   },
   {
    "duration": 9,
    "start_time": "2021-12-08T16:34:45.366Z"
   },
   {
    "duration": 31,
    "start_time": "2021-12-08T16:34:45.376Z"
   },
   {
    "duration": 13,
    "start_time": "2021-12-08T16:34:45.410Z"
   },
   {
    "duration": 65,
    "start_time": "2021-12-08T16:34:45.425Z"
   },
   {
    "duration": 8,
    "start_time": "2021-12-08T16:34:45.492Z"
   },
   {
    "duration": 5,
    "start_time": "2021-12-08T16:34:45.501Z"
   },
   {
    "duration": 10,
    "start_time": "2021-12-08T16:34:45.508Z"
   },
   {
    "duration": 15,
    "start_time": "2021-12-08T16:34:45.520Z"
   },
   {
    "duration": 28,
    "start_time": "2021-12-08T16:34:45.537Z"
   },
   {
    "duration": 21,
    "start_time": "2021-12-08T16:34:45.567Z"
   },
   {
    "duration": 132,
    "start_time": "2021-12-08T16:34:45.590Z"
   },
   {
    "duration": 7,
    "start_time": "2021-12-08T16:34:45.724Z"
   },
   {
    "duration": 32,
    "start_time": "2021-12-08T16:34:45.733Z"
   },
   {
    "duration": 8,
    "start_time": "2021-12-08T16:34:45.767Z"
   },
   {
    "duration": 9,
    "start_time": "2021-12-08T16:34:45.778Z"
   },
   {
    "duration": 9,
    "start_time": "2021-12-08T16:34:45.789Z"
   },
   {
    "duration": 25,
    "start_time": "2021-12-08T16:34:45.800Z"
   },
   {
    "duration": 308,
    "start_time": "2021-12-08T16:34:45.827Z"
   },
   {
    "duration": 533,
    "start_time": "2021-12-08T16:34:46.137Z"
   },
   {
    "duration": 7,
    "start_time": "2021-12-08T16:34:46.673Z"
   },
   {
    "duration": 601,
    "start_time": "2021-12-08T16:34:46.682Z"
   },
   {
    "duration": 5,
    "start_time": "2021-12-08T16:34:47.285Z"
   },
   {
    "duration": 639,
    "start_time": "2021-12-08T16:34:47.292Z"
   },
   {
    "duration": 6,
    "start_time": "2021-12-08T16:34:47.932Z"
   },
   {
    "duration": 695,
    "start_time": "2021-12-08T16:34:47.940Z"
   },
   {
    "duration": 7,
    "start_time": "2021-12-08T16:34:48.637Z"
   },
   {
    "duration": 728,
    "start_time": "2021-12-08T16:34:48.646Z"
   },
   {
    "duration": 6,
    "start_time": "2021-12-08T16:34:49.376Z"
   },
   {
    "duration": 576,
    "start_time": "2021-12-08T16:34:49.389Z"
   },
   {
    "duration": 13,
    "start_time": "2021-12-08T16:34:49.967Z"
   },
   {
    "duration": 9,
    "start_time": "2021-12-08T16:34:49.982Z"
   },
   {
    "duration": 14,
    "start_time": "2021-12-08T16:34:49.993Z"
   },
   {
    "duration": 16,
    "start_time": "2021-12-08T16:37:13.762Z"
   },
   {
    "duration": 8,
    "start_time": "2021-12-08T16:46:31.124Z"
   },
   {
    "duration": 5,
    "start_time": "2021-12-08T16:46:53.650Z"
   },
   {
    "duration": 8,
    "start_time": "2021-12-08T16:54:38.031Z"
   },
   {
    "duration": 17,
    "start_time": "2021-12-08T16:54:48.521Z"
   },
   {
    "duration": 1625,
    "start_time": "2021-12-08T16:54:57.271Z"
   },
   {
    "duration": 12,
    "start_time": "2021-12-08T16:54:58.898Z"
   },
   {
    "duration": 22,
    "start_time": "2021-12-08T16:54:58.912Z"
   },
   {
    "duration": 9,
    "start_time": "2021-12-08T16:54:58.936Z"
   },
   {
    "duration": 20,
    "start_time": "2021-12-08T16:54:58.946Z"
   },
   {
    "duration": 7,
    "start_time": "2021-12-08T16:54:58.968Z"
   },
   {
    "duration": 17,
    "start_time": "2021-12-08T16:54:58.976Z"
   },
   {
    "duration": 8,
    "start_time": "2021-12-08T16:54:58.996Z"
   },
   {
    "duration": 7,
    "start_time": "2021-12-08T16:54:59.006Z"
   },
   {
    "duration": 14,
    "start_time": "2021-12-08T16:54:59.015Z"
   },
   {
    "duration": 39,
    "start_time": "2021-12-08T16:54:59.030Z"
   },
   {
    "duration": 22,
    "start_time": "2021-12-08T16:54:59.070Z"
   },
   {
    "duration": 17,
    "start_time": "2021-12-08T16:54:59.093Z"
   },
   {
    "duration": 14,
    "start_time": "2021-12-08T16:54:59.112Z"
   },
   {
    "duration": 8,
    "start_time": "2021-12-08T16:54:59.127Z"
   },
   {
    "duration": 33,
    "start_time": "2021-12-08T16:54:59.137Z"
   },
   {
    "duration": 38,
    "start_time": "2021-12-08T16:54:59.171Z"
   },
   {
    "duration": 20,
    "start_time": "2021-12-08T16:54:59.210Z"
   },
   {
    "duration": 2,
    "start_time": "2021-12-08T16:54:59.232Z"
   },
   {
    "duration": 100,
    "start_time": "2021-12-08T16:54:59.236Z"
   },
   {
    "duration": 12,
    "start_time": "2021-12-08T16:54:59.338Z"
   },
   {
    "duration": 265,
    "start_time": "2021-12-08T16:54:59.364Z"
   },
   {
    "duration": 30,
    "start_time": "2021-12-08T16:54:59.633Z"
   },
   {
    "duration": 69,
    "start_time": "2021-12-08T16:54:59.666Z"
   },
   {
    "duration": 9,
    "start_time": "2021-12-08T16:54:59.737Z"
   },
   {
    "duration": 21,
    "start_time": "2021-12-08T16:54:59.763Z"
   },
   {
    "duration": 22,
    "start_time": "2021-12-08T16:54:59.786Z"
   },
   {
    "duration": 12,
    "start_time": "2021-12-08T16:54:59.810Z"
   },
   {
    "duration": 5,
    "start_time": "2021-12-08T16:54:59.824Z"
   },
   {
    "duration": 33,
    "start_time": "2021-12-08T16:54:59.830Z"
   },
   {
    "duration": 24,
    "start_time": "2021-12-08T16:54:59.865Z"
   },
   {
    "duration": 11,
    "start_time": "2021-12-08T16:54:59.891Z"
   },
   {
    "duration": 66,
    "start_time": "2021-12-08T16:54:59.903Z"
   },
   {
    "duration": 10,
    "start_time": "2021-12-08T16:54:59.970Z"
   },
   {
    "duration": 23,
    "start_time": "2021-12-08T16:54:59.982Z"
   },
   {
    "duration": 8,
    "start_time": "2021-12-08T16:55:00.007Z"
   },
   {
    "duration": 71,
    "start_time": "2021-12-08T16:55:00.017Z"
   },
   {
    "duration": 13,
    "start_time": "2021-12-08T16:55:00.090Z"
   },
   {
    "duration": 45,
    "start_time": "2021-12-08T16:55:00.104Z"
   },
   {
    "duration": 32,
    "start_time": "2021-12-08T16:55:00.151Z"
   },
   {
    "duration": 56,
    "start_time": "2021-12-08T16:55:00.185Z"
   },
   {
    "duration": 23,
    "start_time": "2021-12-08T16:55:00.243Z"
   },
   {
    "duration": 61,
    "start_time": "2021-12-08T16:55:00.268Z"
   },
   {
    "duration": 26,
    "start_time": "2021-12-08T16:55:00.331Z"
   },
   {
    "duration": 11,
    "start_time": "2021-12-08T16:55:00.358Z"
   },
   {
    "duration": 39,
    "start_time": "2021-12-08T16:55:00.371Z"
   },
   {
    "duration": 27,
    "start_time": "2021-12-08T16:55:00.412Z"
   },
   {
    "duration": 33,
    "start_time": "2021-12-08T16:55:00.440Z"
   },
   {
    "duration": 52,
    "start_time": "2021-12-08T16:55:00.476Z"
   },
   {
    "duration": 215,
    "start_time": "2021-12-08T16:55:00.530Z"
   },
   {
    "duration": 7,
    "start_time": "2021-12-08T16:55:00.747Z"
   },
   {
    "duration": 54,
    "start_time": "2021-12-08T16:55:00.756Z"
   },
   {
    "duration": 19,
    "start_time": "2021-12-08T16:55:00.812Z"
   },
   {
    "duration": 31,
    "start_time": "2021-12-08T16:55:00.833Z"
   },
   {
    "duration": 39,
    "start_time": "2021-12-08T16:55:00.865Z"
   },
   {
    "duration": 62,
    "start_time": "2021-12-08T16:55:00.906Z"
   },
   {
    "duration": 271,
    "start_time": "2021-12-08T16:55:00.970Z"
   },
   {
    "duration": 507,
    "start_time": "2021-12-08T16:55:01.243Z"
   },
   {
    "duration": 7,
    "start_time": "2021-12-08T16:55:01.762Z"
   },
   {
    "duration": 601,
    "start_time": "2021-12-08T16:55:01.770Z"
   },
   {
    "duration": 6,
    "start_time": "2021-12-08T16:55:02.373Z"
   },
   {
    "duration": 654,
    "start_time": "2021-12-08T16:55:02.380Z"
   },
   {
    "duration": 6,
    "start_time": "2021-12-08T16:55:03.036Z"
   },
   {
    "duration": 521,
    "start_time": "2021-12-08T16:55:03.044Z"
   },
   {
    "duration": 5,
    "start_time": "2021-12-08T16:55:03.567Z"
   },
   {
    "duration": 544,
    "start_time": "2021-12-08T16:55:03.574Z"
   },
   {
    "duration": 6,
    "start_time": "2021-12-08T16:55:04.120Z"
   },
   {
    "duration": 578,
    "start_time": "2021-12-08T16:55:04.131Z"
   },
   {
    "duration": 13,
    "start_time": "2021-12-08T16:55:04.711Z"
   },
   {
    "duration": 20,
    "start_time": "2021-12-08T16:55:04.726Z"
   },
   {
    "duration": 18,
    "start_time": "2021-12-08T16:55:04.748Z"
   },
   {
    "duration": 22,
    "start_time": "2021-12-08T16:56:40.586Z"
   },
   {
    "duration": 1602,
    "start_time": "2021-12-08T16:56:48.528Z"
   },
   {
    "duration": 12,
    "start_time": "2021-12-08T16:56:50.132Z"
   },
   {
    "duration": 22,
    "start_time": "2021-12-08T16:56:50.146Z"
   },
   {
    "duration": 9,
    "start_time": "2021-12-08T16:56:50.170Z"
   },
   {
    "duration": 19,
    "start_time": "2021-12-08T16:56:50.181Z"
   },
   {
    "duration": 8,
    "start_time": "2021-12-08T16:56:50.202Z"
   },
   {
    "duration": 17,
    "start_time": "2021-12-08T16:56:50.212Z"
   },
   {
    "duration": 34,
    "start_time": "2021-12-08T16:56:50.232Z"
   },
   {
    "duration": 8,
    "start_time": "2021-12-08T16:56:50.268Z"
   },
   {
    "duration": 15,
    "start_time": "2021-12-08T16:56:50.277Z"
   },
   {
    "duration": 7,
    "start_time": "2021-12-08T16:56:50.294Z"
   },
   {
    "duration": 23,
    "start_time": "2021-12-08T16:56:50.303Z"
   },
   {
    "duration": 43,
    "start_time": "2021-12-08T16:56:50.328Z"
   },
   {
    "duration": 15,
    "start_time": "2021-12-08T16:56:50.374Z"
   },
   {
    "duration": 7,
    "start_time": "2021-12-08T16:56:50.391Z"
   },
   {
    "duration": 7,
    "start_time": "2021-12-08T16:56:50.400Z"
   },
   {
    "duration": 71,
    "start_time": "2021-12-08T16:56:50.409Z"
   },
   {
    "duration": 16,
    "start_time": "2021-12-08T16:56:50.482Z"
   },
   {
    "duration": 2,
    "start_time": "2021-12-08T16:56:50.500Z"
   },
   {
    "duration": 91,
    "start_time": "2021-12-08T16:56:50.503Z"
   },
   {
    "duration": 12,
    "start_time": "2021-12-08T16:56:50.595Z"
   },
   {
    "duration": 270,
    "start_time": "2021-12-08T16:56:50.609Z"
   },
   {
    "duration": 22,
    "start_time": "2021-12-08T16:56:50.882Z"
   },
   {
    "duration": 90,
    "start_time": "2021-12-08T16:56:50.907Z"
   },
   {
    "duration": 9,
    "start_time": "2021-12-08T16:56:50.998Z"
   },
   {
    "duration": 22,
    "start_time": "2021-12-08T16:56:51.009Z"
   },
   {
    "duration": 38,
    "start_time": "2021-12-08T16:56:51.033Z"
   },
   {
    "duration": 12,
    "start_time": "2021-12-08T16:56:51.073Z"
   },
   {
    "duration": 4,
    "start_time": "2021-12-08T16:56:51.087Z"
   },
   {
    "duration": 8,
    "start_time": "2021-12-08T16:56:51.093Z"
   },
   {
    "duration": 27,
    "start_time": "2021-12-08T16:56:51.103Z"
   },
   {
    "duration": 31,
    "start_time": "2021-12-08T16:56:51.132Z"
   },
   {
    "duration": 43,
    "start_time": "2021-12-08T16:56:51.165Z"
   },
   {
    "duration": 10,
    "start_time": "2021-12-08T16:56:51.210Z"
   },
   {
    "duration": 45,
    "start_time": "2021-12-08T16:56:51.222Z"
   },
   {
    "duration": 8,
    "start_time": "2021-12-08T16:56:51.268Z"
   },
   {
    "duration": 31,
    "start_time": "2021-12-08T16:56:51.278Z"
   },
   {
    "duration": 13,
    "start_time": "2021-12-08T16:56:51.311Z"
   },
   {
    "duration": 41,
    "start_time": "2021-12-08T16:56:51.326Z"
   },
   {
    "duration": 7,
    "start_time": "2021-12-08T16:56:51.368Z"
   },
   {
    "duration": 25,
    "start_time": "2021-12-08T16:56:51.377Z"
   },
   {
    "duration": 11,
    "start_time": "2021-12-08T16:56:51.404Z"
   },
   {
    "duration": 67,
    "start_time": "2021-12-08T16:56:51.417Z"
   },
   {
    "duration": 8,
    "start_time": "2021-12-08T16:56:51.486Z"
   },
   {
    "duration": 3,
    "start_time": "2021-12-08T16:56:51.496Z"
   },
   {
    "duration": 6,
    "start_time": "2021-12-08T16:56:51.501Z"
   },
   {
    "duration": 5,
    "start_time": "2021-12-08T16:56:51.509Z"
   },
   {
    "duration": 7,
    "start_time": "2021-12-08T16:56:51.516Z"
   },
   {
    "duration": 227,
    "start_time": "2021-12-08T16:56:51.524Z"
   },
   {
    "duration": 12,
    "start_time": "2021-12-08T16:56:51.752Z"
   },
   {
    "duration": 21,
    "start_time": "2021-12-08T16:56:51.766Z"
   },
   {
    "duration": 13,
    "start_time": "2021-12-08T16:56:51.788Z"
   },
   {
    "duration": 11,
    "start_time": "2021-12-08T16:56:51.803Z"
   },
   {
    "duration": 8,
    "start_time": "2021-12-08T16:56:51.815Z"
   },
   {
    "duration": 40,
    "start_time": "2021-12-08T16:56:51.825Z"
   },
   {
    "duration": 276,
    "start_time": "2021-12-08T16:56:51.867Z"
   },
   {
    "duration": 512,
    "start_time": "2021-12-08T16:56:52.145Z"
   },
   {
    "duration": 5,
    "start_time": "2021-12-08T16:56:52.663Z"
   },
   {
    "duration": 568,
    "start_time": "2021-12-08T16:56:52.670Z"
   },
   {
    "duration": 5,
    "start_time": "2021-12-08T16:56:53.240Z"
   },
   {
    "duration": 638,
    "start_time": "2021-12-08T16:56:53.247Z"
   },
   {
    "duration": 5,
    "start_time": "2021-12-08T16:56:53.887Z"
   },
   {
    "duration": 529,
    "start_time": "2021-12-08T16:56:53.894Z"
   },
   {
    "duration": 5,
    "start_time": "2021-12-08T16:56:54.425Z"
   },
   {
    "duration": 553,
    "start_time": "2021-12-08T16:56:54.432Z"
   },
   {
    "duration": 5,
    "start_time": "2021-12-08T16:56:54.988Z"
   },
   {
    "duration": 572,
    "start_time": "2021-12-08T16:56:54.996Z"
   },
   {
    "duration": 13,
    "start_time": "2021-12-08T16:56:55.573Z"
   },
   {
    "duration": 12,
    "start_time": "2021-12-08T16:56:55.588Z"
   },
   {
    "duration": 11,
    "start_time": "2021-12-08T16:56:55.602Z"
   }
  ],
  "kernelspec": {
   "display_name": "Python 3",
   "language": "python",
   "name": "python3"
  },
  "language_info": {
   "codemirror_mode": {
    "name": "ipython",
    "version": 3
   },
   "file_extension": ".py",
   "mimetype": "text/x-python",
   "name": "python",
   "nbconvert_exporter": "python",
   "pygments_lexer": "ipython3",
   "version": "3.8.8"
  },
  "toc": {
   "base_numbering": 1,
   "nav_menu": {
    "height": "237px",
    "width": "530px"
   },
   "number_sections": false,
   "sideBar": true,
   "skip_h1_title": false,
   "title_cell": "Table of Contents",
   "title_sidebar": "Contents",
   "toc_cell": true,
   "toc_position": {
    "height": "calc(100% - 180px)",
    "left": "10px",
    "top": "150px",
    "width": "271px"
   },
   "toc_section_display": true,
   "toc_window_display": true
  }
 },
 "nbformat": 4,
 "nbformat_minor": 2
}
